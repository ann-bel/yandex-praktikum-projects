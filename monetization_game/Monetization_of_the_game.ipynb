{
 "cells": [
  {
   "cell_type": "markdown",
   "metadata": {},
   "source": [
    "# Проект \"Формирование модели монетизации мобильной игры\""
   ]
  },
  {
   "cell_type": "markdown",
   "metadata": {},
   "source": [
    "<h1>Оглавление<span class=\"tocSkip\"></span></h1>\n",
    "<div class=\"toc\"><ul class=\"toc-item\"><li><span><a href=\"#Ссылки-на-материалы\" data-toc-modified-id=\"Ссылки-на-материалы-1\"><span class=\"toc-item-num\">1&nbsp;&nbsp;</span>Ссылки на материалы</a></span></li><li><span><a href=\"#Загрузка-и-изучение-данных\" data-toc-modified-id=\"Загрузка-и-изучение-данных-2\"><span class=\"toc-item-num\">2&nbsp;&nbsp;</span>Загрузка и изучение данных</a></span><ul class=\"toc-item\"><li><span><a href=\"#Импорт-данных-и-основных-библиотек-для-анализа\" data-toc-modified-id=\"Импорт-данных-и-основных-библиотек-для-анализа-2.1\"><span class=\"toc-item-num\">2.1&nbsp;&nbsp;</span>Импорт данных и основных библиотек для анализа</a></span></li><li><span><a href=\"#Вывод-общей-информации,-поиск-пропусков-и-явных-дубликатов\" data-toc-modified-id=\"Вывод-общей-информации,-поиск-пропусков-и-явных-дубликатов-2.2\"><span class=\"toc-item-num\">2.2&nbsp;&nbsp;</span>Вывод общей информации, поиск пропусков и явных дубликатов</a></span></li></ul></li><li><span><a href=\"#Предобработка-данных\" data-toc-modified-id=\"Предобработка-данных-3\"><span class=\"toc-item-num\">3&nbsp;&nbsp;</span>Предобработка данных</a></span><ul class=\"toc-item\"><li><span><a href=\"#Обработка-пропусков\" data-toc-modified-id=\"Обработка-пропусков-3.1\"><span class=\"toc-item-num\">3.1&nbsp;&nbsp;</span>Обработка пропусков</a></span><ul class=\"toc-item\"><li><span><a href=\"#Столбец-project_type-датафрейм-game\" data-toc-modified-id=\"Столбец-project_type-датафрейм-game-3.1.1\"><span class=\"toc-item-num\">3.1.1&nbsp;&nbsp;</span>Столбец <code>project_type</code> датафрейм <code>game</code></a></span></li><li><span><a href=\"#Столбец-building_type-датафрейм-game\" data-toc-modified-id=\"Столбец-building_type-датафрейм-game-3.1.2\"><span class=\"toc-item-num\">3.1.2&nbsp;&nbsp;</span>Столбец <code>building_type</code> датафрейм <code>game</code></a></span></li></ul></li><li><span><a href=\"#Обработка-дубликатов\" data-toc-modified-id=\"Обработка-дубликатов-3.2\"><span class=\"toc-item-num\">3.2&nbsp;&nbsp;</span>Обработка дубликатов</a></span></li><li><span><a href=\"#Поиск-аномалий,-выбросов-и-ошибок\" data-toc-modified-id=\"Поиск-аномалий,-выбросов-и-ошибок-3.3\"><span class=\"toc-item-num\">3.3&nbsp;&nbsp;</span>Поиск аномалий, выбросов и ошибок</a></span><ul class=\"toc-item\"><li><span><a href=\"#Поиск-ошибок-в-данных\" data-toc-modified-id=\"Поиск-ошибок-в-данных-3.3.1\"><span class=\"toc-item-num\">3.3.1&nbsp;&nbsp;</span>Поиск ошибок в данных</a></span></li><li><span><a href=\"#Проверка-на-выбросы-и-аномалии\" data-toc-modified-id=\"Проверка-на-выбросы-и-аномалии-3.3.2\"><span class=\"toc-item-num\">3.3.2&nbsp;&nbsp;</span>Проверка на выбросы и аномалии</a></span><ul class=\"toc-item\"><li><span><a href=\"#Датасет-ads\" data-toc-modified-id=\"Датасет-ads-3.3.2.1\"><span class=\"toc-item-num\">3.3.2.1&nbsp;&nbsp;</span>Датасет <code>ads</code></a></span></li><li><span><a href=\"#Датасет-game\" data-toc-modified-id=\"Датасет-game-3.3.2.2\"><span class=\"toc-item-num\">3.3.2.2&nbsp;&nbsp;</span>Датасет <code>game</code></a></span></li></ul></li></ul></li></ul></li><li><span><a href=\"#Исследовательский-анализ-данных\" data-toc-modified-id=\"Исследовательский-анализ-данных-4\"><span class=\"toc-item-num\">4&nbsp;&nbsp;</span>Исследовательский анализ данных</a></span><ul class=\"toc-item\"><li><span><a href=\"#Расчет-количества-пользователей-за-весь-период\" data-toc-modified-id=\"Расчет-количества-пользователей-за-весь-период-4.1\"><span class=\"toc-item-num\">4.1&nbsp;&nbsp;</span>Расчет количества пользователей за весь период</a></span></li><li><span><a href=\"#Расчет-количества-событий-за-весь-период\" data-toc-modified-id=\"Расчет-количества-событий-за-весь-период-4.2\"><span class=\"toc-item-num\">4.2&nbsp;&nbsp;</span>Расчет количества событий за весь период</a></span></li><li><span><a href=\"#Расчет-количества-построек-за-весь-период\" data-toc-modified-id=\"Расчет-количества-построек-за-весь-период-4.3\"><span class=\"toc-item-num\">4.3&nbsp;&nbsp;</span>Расчет количества построек за весь период</a></span></li><li><span><a href=\"#Расчет-среднего-количества-построек-на-одного-пользователя\" data-toc-modified-id=\"Расчет-среднего-количества-построек-на-одного-пользователя-4.4\"><span class=\"toc-item-num\">4.4&nbsp;&nbsp;</span>Расчет среднего количества построек на одного пользователя</a></span></li><li><span><a href=\"#Расчет-количества-пользователей-завершивших-первый-уровень\" data-toc-modified-id=\"Расчет-количества-пользователей-завершивших-первый-уровень-4.5\"><span class=\"toc-item-num\">4.5&nbsp;&nbsp;</span>Расчет количества пользователей завершивших первый уровень</a></span></li><li><span><a href=\"#Распределение-пользователей-по-способу-завершения-уровня\" data-toc-modified-id=\"Распределение-пользователей-по-способу-завершения-уровня-4.6\"><span class=\"toc-item-num\">4.6&nbsp;&nbsp;</span>Распределение пользователей по способу завершения уровня</a></span></li><li><span><a href=\"#Расчет-среднего-времени--проведенного-за-игрой-в-зависимости-от-способа-завершения-уровня\" data-toc-modified-id=\"Расчет-среднего-времени--проведенного-за-игрой-в-зависимости-от-способа-завершения-уровня-4.7\"><span class=\"toc-item-num\">4.7&nbsp;&nbsp;</span>Расчет среднего времени  проведенного за игрой в зависимости от способа завершения уровня</a></span></li><li><span><a href=\"#Расчет-среднего-количества-зданий,-необходимых-для-завершения-уровня\" data-toc-modified-id=\"Расчет-среднего-количества-зданий,-необходимых-для-завершения-уровня-4.8\"><span class=\"toc-item-num\">4.8&nbsp;&nbsp;</span>Расчет среднего количества зданий, необходимых для завершения уровня</a></span></li><li><span><a href=\"#Расчет-количества-пользователей-в-разрезе-источника-трафика\" data-toc-modified-id=\"Расчет-количества-пользователей-в-разрезе-источника-трафика-4.9\"><span class=\"toc-item-num\">4.9&nbsp;&nbsp;</span>Расчет количества пользователей в разрезе источника трафика</a></span></li><li><span><a href=\"#Расчет-стоимости-одного-перехода-для-каждого-рекламного-канала-за-весь-период\" data-toc-modified-id=\"Расчет-стоимости-одного-перехода-для-каждого-рекламного-канала-за-весь-период-4.10\"><span class=\"toc-item-num\">4.10&nbsp;&nbsp;</span>Расчет стоимости одного перехода для каждого рекламного канала за весь период</a></span></li><li><span><a href=\"#Расчет-прибыли-для-модели-показа-рекламы-на-экране-выбора-постройки\" data-toc-modified-id=\"Расчет-прибыли-для-модели-показа-рекламы-на-экране-выбора-постройки-4.11\"><span class=\"toc-item-num\">4.11&nbsp;&nbsp;</span>Расчет прибыли для модели показа рекламы на экране выбора постройки</a></span><ul class=\"toc-item\"><li><span><a href=\"#Показ-рекламы-на-каждом-экране-постройки\" data-toc-modified-id=\"Показ-рекламы-на-каждом-экране-постройки-4.11.1\"><span class=\"toc-item-num\">4.11.1&nbsp;&nbsp;</span>Показ рекламы на каждом экране постройки</a></span></li><li><span><a href=\"#Показ-рекламы-начиная-со-второго-экрана-выбора-постройки\" data-toc-modified-id=\"Показ-рекламы-начиная-со-второго-экрана-выбора-постройки-4.11.2\"><span class=\"toc-item-num\">4.11.2&nbsp;&nbsp;</span>Показ рекламы начиная со второго экрана выбора постройки</a></span></li><li><span><a href=\"#Показ-рекламы-на-экранах-постройки,-а-также-экране-сообщения-о-завершении-уровня.\" data-toc-modified-id=\"Показ-рекламы-на-экранах-постройки,-а-также-экране-сообщения-о-завершении-уровня.-4.11.3\"><span class=\"toc-item-num\">4.11.3&nbsp;&nbsp;</span>Показ рекламы на экранах постройки, а также экране сообщения о завершении уровня.</a></span></li><li><span><a href=\"#Показ-рекламы-со-второго-экрана-постройки-плюс-на-экране-завршения-уровня\" data-toc-modified-id=\"Показ-рекламы-со-второго-экрана-постройки-плюс-на-экране-завршения-уровня-4.11.4\"><span class=\"toc-item-num\">4.11.4&nbsp;&nbsp;</span>Показ рекламы со второго экрана постройки плюс на экране завршения уровня</a></span></li></ul></li></ul></li><li><span><a href=\"#Проверка-гипотез\" data-toc-modified-id=\"Проверка-гипотез-5\"><span class=\"toc-item-num\">5&nbsp;&nbsp;</span>Проверка гипотез</a></span><ul class=\"toc-item\"><li><span><a href=\"#Гипотеза-№-1-&quot;Время-завершения-уровня-не-различается-от-способа-прохождения&quot;\" data-toc-modified-id=\"Гипотеза-№-1-&quot;Время-завершения-уровня-не-различается-от-способа-прохождения&quot;-5.1\"><span class=\"toc-item-num\">5.1&nbsp;&nbsp;</span>Гипотеза № 1 \"Время завершения уровня не различается от способа прохождения\"</a></span></li><li><span><a href=\"#Гипотеза-№-2-&quot;Количество-построек-не-различается-от-способа-прохождения-уровня&quot;\" data-toc-modified-id=\"Гипотеза-№-2-&quot;Количество-построек-не-различается-от-способа-прохождения-уровня&quot;-5.2\"><span class=\"toc-item-num\">5.2&nbsp;&nbsp;</span>Гипотеза № 2 \"Количество построек не различается от способа прохождения уровня\"</a></span></li></ul></li><li><span><a href=\"#Общие-выводы-и-реккомендации\" data-toc-modified-id=\"Общие-выводы-и-реккомендации-6\"><span class=\"toc-item-num\">6&nbsp;&nbsp;</span>Общие выводы и реккомендации</a></span></li></ul></div>"
   ]
  },
  {
   "cell_type": "markdown",
   "metadata": {},
   "source": [
    "## Ссылки на материалы"
   ]
  },
  {
   "cell_type": "markdown",
   "metadata": {},
   "source": [
    "* Презентация (https://disk.yandex.ru/i/oYVvJbu8B0UJbA)\n",
    "* Дашборд (https://public.tableau.com/app/profile/belyaeva.ann/viz/shared/NKPGJBK8K)"
   ]
  },
  {
   "cell_type": "markdown",
   "metadata": {},
   "source": [
    "**Цель исследования:** опеределить оптимальную частоту рекламных показов для получения прибыли."
   ]
  },
  {
   "cell_type": "markdown",
   "metadata": {},
   "source": [
    "# Задача"
   ]
  },
  {
   "cell_type": "markdown",
   "metadata": {},
   "source": [
    "Сформировать модель монетизации игрового приложения.\n",
    "\n",
    "1. Провести исследовательский анализ данных\n",
    "2. Проанализировать влияние событий на совершение целевого события\n",
    "3. Проверить статистические гипотезы\n",
    "\n"
   ]
  },
  {
   "cell_type": "markdown",
   "metadata": {},
   "source": [
    "# Описание данных"
   ]
  },
  {
   "cell_type": "markdown",
   "metadata": {},
   "source": [
    "Основной датасет содержит данные о событиях, совершенных в мобильной игре «Космические братья». В ней пользователи строят свою космическую программу и пытаются преуспеть в нелёгком деле колонизации галактики. \n",
    "\n",
    "Основная монетизация игры — только планируется. Но предполагается, что в приложении будет происходить показ рекламы на экране с выбором типа объекта\n",
    "для постройки. \n",
    "\n",
    "**Каждый рекламный показ приносит 0,07 у.е. Отдел геймдизайна просит нас определить как часто нужно показывать рекламу, чтобы с этого зарабатывать.**\n",
    "\n",
    "В датасете представлены данные по игре пользователей, привлеченных с 4 по 10 мая включительно, на первом уровне. Завершение первого уровня требует от игрока выполнения одного из двух условий:\n",
    "- Победа над первым врагом\n",
    "- Реализация проекта - разработка орбитальной сборки спутников\n",
    "\n",
    "Помимо основного датасета есть два датасета с информацией о рекламных активностях. Они также помогут в решении задачи."
   ]
  },
  {
   "cell_type": "markdown",
   "metadata": {},
   "source": [
    "## Загрузка и изучение данных"
   ]
  },
  {
   "cell_type": "markdown",
   "metadata": {},
   "source": [
    "### Импорт данных и основных библиотек для анализа"
   ]
  },
  {
   "cell_type": "code",
   "execution_count": 1,
   "metadata": {},
   "outputs": [],
   "source": [
    "# импортируем основные библиотеки\n",
    "import pandas as pd\n",
    "import numpy as np\n",
    "import seaborn as sns\n",
    "from matplotlib import pyplot as plt\n",
    "from pandas.plotting import register_matplotlib_converters\n",
    "import scipy.stats as st\n",
    "import cmath as mth\n",
    "import plotly.express as px\n",
    "from plotly import graph_objects as go\n",
    "\n",
    "import warnings\n",
    "warnings.simplefilter('ignore')\n",
    "\n",
    "#код, который выводит все колонки таблицы\n",
    "pd.set_option('display.max_columns', None)\n",
    "\n",
    "#отображение float с двумя знаками после точки\n",
    "pd.options.display.float_format = '{:.2f}'.format\n",
    "\n",
    "#загружаем данные и приводим столбцы с датой к datetime64\n",
    "ads = pd.read_csv('https://code.s3.yandex.net/datasets/ad_costs.csv',parse_dates = ['day'],dayfirst=True)\n",
    "game = pd.read_csv('https://code.s3.yandex.net/datasets/game_actions.csv', parse_dates = ['event_datetime'],dayfirst=True)\n",
    "source = pd.read_csv('https://code.s3.yandex.net/datasets/user_source.csv')"
   ]
  },
  {
   "cell_type": "markdown",
   "metadata": {},
   "source": [
    "### Вывод общей информации, поиск пропусков и явных дубликатов"
   ]
  },
  {
   "cell_type": "code",
   "execution_count": 2,
   "metadata": {},
   "outputs": [],
   "source": [
    "# Напишем функцию для вывода основной информации по датасету\n",
    "def get_info(dataset):\n",
    "    print('Общая информация:')\n",
    "    print()\n",
    "    dataset.info()\n",
    "    print('_'*50)\n",
    "    print('Количество пропусков:')\n",
    "    print()\n",
    "    print(dataset.isna().sum())\n",
    "    print('_'*50)\n",
    "    print('Вывод первых 2х строк данных:')\n",
    "    print()\n",
    "    display(dataset.head(2))\n",
    "    print('_'*50)\n",
    "    print('Количество явных дубликатов:')\n",
    "    print(dataset.duplicated().sum())\n"
   ]
  },
  {
   "cell_type": "code",
   "execution_count": 3,
   "metadata": {
    "scrolled": false
   },
   "outputs": [
    {
     "name": "stdout",
     "output_type": "stream",
     "text": [
      "Общая информация:\n",
      "\n",
      "<class 'pandas.core.frame.DataFrame'>\n",
      "RangeIndex: 13576 entries, 0 to 13575\n",
      "Data columns (total 2 columns):\n",
      " #   Column   Non-Null Count  Dtype \n",
      "---  ------   --------------  ----- \n",
      " 0   user_id  13576 non-null  object\n",
      " 1   source   13576 non-null  object\n",
      "dtypes: object(2)\n",
      "memory usage: 212.3+ KB\n",
      "__________________________________________________\n",
      "Количество пропусков:\n",
      "\n",
      "user_id    0\n",
      "source     0\n",
      "dtype: int64\n",
      "__________________________________________________\n",
      "Вывод первых 2х строк данных:\n",
      "\n"
     ]
    },
    {
     "data": {
      "text/html": [
       "<div>\n",
       "<style scoped>\n",
       "    .dataframe tbody tr th:only-of-type {\n",
       "        vertical-align: middle;\n",
       "    }\n",
       "\n",
       "    .dataframe tbody tr th {\n",
       "        vertical-align: top;\n",
       "    }\n",
       "\n",
       "    .dataframe thead th {\n",
       "        text-align: right;\n",
       "    }\n",
       "</style>\n",
       "<table border=\"1\" class=\"dataframe\">\n",
       "  <thead>\n",
       "    <tr style=\"text-align: right;\">\n",
       "      <th></th>\n",
       "      <th>user_id</th>\n",
       "      <th>source</th>\n",
       "    </tr>\n",
       "  </thead>\n",
       "  <tbody>\n",
       "    <tr>\n",
       "      <th>0</th>\n",
       "      <td>0001f83c-c6ac-4621-b7f0-8a28b283ac30</td>\n",
       "      <td>facebook_ads</td>\n",
       "    </tr>\n",
       "    <tr>\n",
       "      <th>1</th>\n",
       "      <td>00151b4f-ba38-44a8-a650-d7cf130a0105</td>\n",
       "      <td>yandex_direct</td>\n",
       "    </tr>\n",
       "  </tbody>\n",
       "</table>\n",
       "</div>"
      ],
      "text/plain": [
       "                                user_id         source\n",
       "0  0001f83c-c6ac-4621-b7f0-8a28b283ac30   facebook_ads\n",
       "1  00151b4f-ba38-44a8-a650-d7cf130a0105  yandex_direct"
      ]
     },
     "metadata": {},
     "output_type": "display_data"
    },
    {
     "name": "stdout",
     "output_type": "stream",
     "text": [
      "__________________________________________________\n",
      "Количество явных дубликатов:\n",
      "0\n"
     ]
    }
   ],
   "source": [
    "get_info(source)"
   ]
  },
  {
   "cell_type": "code",
   "execution_count": 4,
   "metadata": {},
   "outputs": [
    {
     "name": "stdout",
     "output_type": "stream",
     "text": [
      "Общая информация:\n",
      "\n",
      "<class 'pandas.core.frame.DataFrame'>\n",
      "RangeIndex: 28 entries, 0 to 27\n",
      "Data columns (total 3 columns):\n",
      " #   Column  Non-Null Count  Dtype         \n",
      "---  ------  --------------  -----         \n",
      " 0   source  28 non-null     object        \n",
      " 1   day     28 non-null     datetime64[ns]\n",
      " 2   cost    28 non-null     float64       \n",
      "dtypes: datetime64[ns](1), float64(1), object(1)\n",
      "memory usage: 804.0+ bytes\n",
      "__________________________________________________\n",
      "Количество пропусков:\n",
      "\n",
      "source    0\n",
      "day       0\n",
      "cost      0\n",
      "dtype: int64\n",
      "__________________________________________________\n",
      "Вывод первых 2х строк данных:\n",
      "\n"
     ]
    },
    {
     "data": {
      "text/html": [
       "<div>\n",
       "<style scoped>\n",
       "    .dataframe tbody tr th:only-of-type {\n",
       "        vertical-align: middle;\n",
       "    }\n",
       "\n",
       "    .dataframe tbody tr th {\n",
       "        vertical-align: top;\n",
       "    }\n",
       "\n",
       "    .dataframe thead th {\n",
       "        text-align: right;\n",
       "    }\n",
       "</style>\n",
       "<table border=\"1\" class=\"dataframe\">\n",
       "  <thead>\n",
       "    <tr style=\"text-align: right;\">\n",
       "      <th></th>\n",
       "      <th>source</th>\n",
       "      <th>day</th>\n",
       "      <th>cost</th>\n",
       "    </tr>\n",
       "  </thead>\n",
       "  <tbody>\n",
       "    <tr>\n",
       "      <th>0</th>\n",
       "      <td>facebook_ads</td>\n",
       "      <td>2020-05-03</td>\n",
       "      <td>935.88</td>\n",
       "    </tr>\n",
       "    <tr>\n",
       "      <th>1</th>\n",
       "      <td>facebook_ads</td>\n",
       "      <td>2020-05-04</td>\n",
       "      <td>548.35</td>\n",
       "    </tr>\n",
       "  </tbody>\n",
       "</table>\n",
       "</div>"
      ],
      "text/plain": [
       "         source        day   cost\n",
       "0  facebook_ads 2020-05-03 935.88\n",
       "1  facebook_ads 2020-05-04 548.35"
      ]
     },
     "metadata": {},
     "output_type": "display_data"
    },
    {
     "name": "stdout",
     "output_type": "stream",
     "text": [
      "__________________________________________________\n",
      "Количество явных дубликатов:\n",
      "0\n"
     ]
    }
   ],
   "source": [
    "get_info(ads)"
   ]
  },
  {
   "cell_type": "code",
   "execution_count": 5,
   "metadata": {},
   "outputs": [
    {
     "name": "stdout",
     "output_type": "stream",
     "text": [
      "Общая информация:\n",
      "\n",
      "<class 'pandas.core.frame.DataFrame'>\n",
      "RangeIndex: 135640 entries, 0 to 135639\n",
      "Data columns (total 5 columns):\n",
      " #   Column          Non-Null Count   Dtype         \n",
      "---  ------          --------------   -----         \n",
      " 0   event_datetime  135640 non-null  datetime64[ns]\n",
      " 1   event           135640 non-null  object        \n",
      " 2   building_type   127957 non-null  object        \n",
      " 3   user_id         135640 non-null  object        \n",
      " 4   project_type    1866 non-null    object        \n",
      "dtypes: datetime64[ns](1), object(4)\n",
      "memory usage: 5.2+ MB\n",
      "__________________________________________________\n",
      "Количество пропусков:\n",
      "\n",
      "event_datetime         0\n",
      "event                  0\n",
      "building_type       7683\n",
      "user_id                0\n",
      "project_type      133774\n",
      "dtype: int64\n",
      "__________________________________________________\n",
      "Вывод первых 2х строк данных:\n",
      "\n"
     ]
    },
    {
     "data": {
      "text/html": [
       "<div>\n",
       "<style scoped>\n",
       "    .dataframe tbody tr th:only-of-type {\n",
       "        vertical-align: middle;\n",
       "    }\n",
       "\n",
       "    .dataframe tbody tr th {\n",
       "        vertical-align: top;\n",
       "    }\n",
       "\n",
       "    .dataframe thead th {\n",
       "        text-align: right;\n",
       "    }\n",
       "</style>\n",
       "<table border=\"1\" class=\"dataframe\">\n",
       "  <thead>\n",
       "    <tr style=\"text-align: right;\">\n",
       "      <th></th>\n",
       "      <th>event_datetime</th>\n",
       "      <th>event</th>\n",
       "      <th>building_type</th>\n",
       "      <th>user_id</th>\n",
       "      <th>project_type</th>\n",
       "    </tr>\n",
       "  </thead>\n",
       "  <tbody>\n",
       "    <tr>\n",
       "      <th>0</th>\n",
       "      <td>2020-05-04 00:00:01</td>\n",
       "      <td>building</td>\n",
       "      <td>assembly_shop</td>\n",
       "      <td>55e92310-cb8e-4754-b622-597e124b03de</td>\n",
       "      <td>NaN</td>\n",
       "    </tr>\n",
       "    <tr>\n",
       "      <th>1</th>\n",
       "      <td>2020-05-04 00:00:03</td>\n",
       "      <td>building</td>\n",
       "      <td>assembly_shop</td>\n",
       "      <td>c07b1c10-f477-44dc-81dc-ec82254b1347</td>\n",
       "      <td>NaN</td>\n",
       "    </tr>\n",
       "  </tbody>\n",
       "</table>\n",
       "</div>"
      ],
      "text/plain": [
       "       event_datetime     event  building_type  \\\n",
       "0 2020-05-04 00:00:01  building  assembly_shop   \n",
       "1 2020-05-04 00:00:03  building  assembly_shop   \n",
       "\n",
       "                                user_id project_type  \n",
       "0  55e92310-cb8e-4754-b622-597e124b03de          NaN  \n",
       "1  c07b1c10-f477-44dc-81dc-ec82254b1347          NaN  "
      ]
     },
     "metadata": {},
     "output_type": "display_data"
    },
    {
     "name": "stdout",
     "output_type": "stream",
     "text": [
      "__________________________________________________\n",
      "Количество явных дубликатов:\n",
      "1\n"
     ]
    }
   ],
   "source": [
    "get_info(game)"
   ]
  },
  {
   "cell_type": "markdown",
   "metadata": {},
   "source": [
    "Вывод:\n",
    "- найден 1 явный дубликат в датасете `game`\n",
    "- был изменен тип данных в колонках с датой на datetime64\n",
    "- обнаружены пропуски в `building_type` и `project_type` в датасете  `game`\n",
    "- колонки в датасетах не нуждаются в переименовании\n",
    "- за период, рассматриваемый в данных, было совершено 135 630 событий"
   ]
  },
  {
   "cell_type": "markdown",
   "metadata": {},
   "source": [
    "## Предобработка данных"
   ]
  },
  {
   "cell_type": "markdown",
   "metadata": {},
   "source": [
    "### Обработка пропусков"
   ]
  },
  {
   "cell_type": "markdown",
   "metadata": {},
   "source": [
    "#### Столбец `project_type` датафрейм `game`"
   ]
  },
  {
   "cell_type": "markdown",
   "metadata": {},
   "source": [
    "Больше всего пропусков мы нашли столбце `project_type` датасата `game`. Посмостим, с чем связаны пропуски и что с ними можно сделать. Моя гипотеза состоит в том, что тип проекта проставляется только для событий, когда игрок оканчивает первый уровень за счет завершения проекта. Проверим это."
   ]
  },
  {
   "cell_type": "code",
   "execution_count": 6,
   "metadata": {},
   "outputs": [
    {
     "name": "stdout",
     "output_type": "stream",
     "text": [
      "Уникальные значения в столбце project_type для события project: ['satellite_orbital_assembly']\n",
      "Уникальные значения в столбце project_type для остальных событий: [nan]\n"
     ]
    }
   ],
   "source": [
    "# посмотрим на уникальные значания по столбцу с типом проекта для события project\n",
    "print('Уникальные значения в столбце project_type для события project:',game.query('event==\"project\"')['project_type'].unique())\n",
    "# посмотрим на уникальные значания по столбцу с типом проекта для остальных событий\n",
    "print('Уникальные значения в столбце project_type для остальных событий:',game.query('event!=\"project\"')['project_type'].unique())"
   ]
  },
  {
   "cell_type": "markdown",
   "metadata": {},
   "source": [
    "Гипотеза подтвердилась, более того мы узнали, что в столбце с типом проекта всего один вид проекта, это означает, что мы в принципе можем удалить этот столбец, т.к. информация о победе через завершение прокта у нас останется продублированной в столбце `event`."
   ]
  },
  {
   "cell_type": "code",
   "execution_count": 7,
   "metadata": {},
   "outputs": [
    {
     "data": {
      "text/html": [
       "<div>\n",
       "<style scoped>\n",
       "    .dataframe tbody tr th:only-of-type {\n",
       "        vertical-align: middle;\n",
       "    }\n",
       "\n",
       "    .dataframe tbody tr th {\n",
       "        vertical-align: top;\n",
       "    }\n",
       "\n",
       "    .dataframe thead th {\n",
       "        text-align: right;\n",
       "    }\n",
       "</style>\n",
       "<table border=\"1\" class=\"dataframe\">\n",
       "  <thead>\n",
       "    <tr style=\"text-align: right;\">\n",
       "      <th></th>\n",
       "      <th>event_datetime</th>\n",
       "      <th>event</th>\n",
       "      <th>building_type</th>\n",
       "      <th>user_id</th>\n",
       "    </tr>\n",
       "  </thead>\n",
       "  <tbody>\n",
       "    <tr>\n",
       "      <th>0</th>\n",
       "      <td>2020-05-04 00:00:01</td>\n",
       "      <td>building</td>\n",
       "      <td>assembly_shop</td>\n",
       "      <td>55e92310-cb8e-4754-b622-597e124b03de</td>\n",
       "    </tr>\n",
       "    <tr>\n",
       "      <th>1</th>\n",
       "      <td>2020-05-04 00:00:03</td>\n",
       "      <td>building</td>\n",
       "      <td>assembly_shop</td>\n",
       "      <td>c07b1c10-f477-44dc-81dc-ec82254b1347</td>\n",
       "    </tr>\n",
       "  </tbody>\n",
       "</table>\n",
       "</div>"
      ],
      "text/plain": [
       "       event_datetime     event  building_type  \\\n",
       "0 2020-05-04 00:00:01  building  assembly_shop   \n",
       "1 2020-05-04 00:00:03  building  assembly_shop   \n",
       "\n",
       "                                user_id  \n",
       "0  55e92310-cb8e-4754-b622-597e124b03de  \n",
       "1  c07b1c10-f477-44dc-81dc-ec82254b1347  "
      ]
     },
     "execution_count": 7,
     "metadata": {},
     "output_type": "execute_result"
    }
   ],
   "source": [
    "# удалим столбец project_type\n",
    "game = game.drop(['project_type'], axis='columns')\n",
    "game.head(2)"
   ]
  },
  {
   "cell_type": "markdown",
   "metadata": {},
   "source": [
    "#### Столбец `building_type` датафрейм `game`"
   ]
  },
  {
   "cell_type": "markdown",
   "metadata": {},
   "source": [
    "Здесь у меня также есть гипотеза о том, что тип постройки есть только для события `building`, а для остальных поля остаются пустыми, т.к. означают завершение уровня и для них постройки не предусмотрены. Проверим это."
   ]
  },
  {
   "cell_type": "code",
   "execution_count": 8,
   "metadata": {},
   "outputs": [
    {
     "name": "stdout",
     "output_type": "stream",
     "text": [
      "Количество NaN в building_type для события building: 0\n"
     ]
    }
   ],
   "source": [
    "# посмотрим есть ли NaN для события building\n",
    "print('Количество NaN в building_type для события building:',game.query('event==\"building\"')['building_type'].isna().sum())"
   ]
  },
  {
   "cell_type": "code",
   "execution_count": 9,
   "metadata": {},
   "outputs": [
    {
     "name": "stdout",
     "output_type": "stream",
     "text": [
      "Постройки в building_type для других событий: [nan]\n"
     ]
    }
   ],
   "source": [
    "# посмотрим, есть ли постройки для других событий\n",
    "print('Постройки в building_type для других событий:',game.query('event!=\"building\"')['building_type'].unique())"
   ]
  },
  {
   "cell_type": "markdown",
   "metadata": {},
   "source": [
    "Гипотеза подтвердилась, предлагаю отсутствующие значения заменить на `no_building`."
   ]
  },
  {
   "cell_type": "code",
   "execution_count": 10,
   "metadata": {},
   "outputs": [],
   "source": [
    "#заполним пропуски в building_type\n",
    "game['building_type'] = game['building_type'].fillna('no_building')"
   ]
  },
  {
   "cell_type": "code",
   "execution_count": 11,
   "metadata": {},
   "outputs": [
    {
     "name": "stdout",
     "output_type": "stream",
     "text": [
      "<class 'pandas.core.frame.DataFrame'>\n",
      "RangeIndex: 135640 entries, 0 to 135639\n",
      "Data columns (total 4 columns):\n",
      " #   Column          Non-Null Count   Dtype         \n",
      "---  ------          --------------   -----         \n",
      " 0   event_datetime  135640 non-null  datetime64[ns]\n",
      " 1   event           135640 non-null  object        \n",
      " 2   building_type   135640 non-null  object        \n",
      " 3   user_id         135640 non-null  object        \n",
      "dtypes: datetime64[ns](1), object(3)\n",
      "memory usage: 4.1+ MB\n"
     ]
    }
   ],
   "source": [
    "# проверим game на пропуски\n",
    "game.info()"
   ]
  },
  {
   "cell_type": "markdown",
   "metadata": {},
   "source": [
    "Отлично, все пропуски обработаны, идем дальше."
   ]
  },
  {
   "cell_type": "markdown",
   "metadata": {},
   "source": [
    "### Обработка дубликатов"
   ]
  },
  {
   "cell_type": "markdown",
   "metadata": {},
   "source": [
    "На стадии загрузки данных мы обнаружили 1 явный дубликат, удалим его."
   ]
  },
  {
   "cell_type": "code",
   "execution_count": 12,
   "metadata": {},
   "outputs": [
    {
     "data": {
      "text/plain": [
       "0"
      ]
     },
     "execution_count": 12,
     "metadata": {},
     "output_type": "execute_result"
    }
   ],
   "source": [
    "#удалим дубликат\n",
    "game = game.drop_duplicates()\n",
    "#проверим удалились ли они\n",
    "game.duplicated().sum()"
   ]
  },
  {
   "cell_type": "markdown",
   "metadata": {},
   "source": [
    "Проверим есть ли неявные дубликаты"
   ]
  },
  {
   "cell_type": "code",
   "execution_count": 13,
   "metadata": {},
   "outputs": [
    {
     "data": {
      "text/plain": [
       "0"
      ]
     },
     "execution_count": 13,
     "metadata": {},
     "output_type": "execute_result"
    }
   ],
   "source": [
    "game.duplicated(['event_datetime','building_type','user_id']).sum()"
   ]
  },
  {
   "cell_type": "markdown",
   "metadata": {},
   "source": [
    "### Поиск аномалий, выбросов и ошибок"
   ]
  },
  {
   "cell_type": "markdown",
   "metadata": {},
   "source": [
    "#### Поиск ошибок в данных"
   ]
  },
  {
   "cell_type": "code",
   "execution_count": 14,
   "metadata": {},
   "outputs": [
    {
     "data": {
      "text/plain": [
       "array(['facebook_ads', 'yandex_direct', 'youtube_channel_reklama',\n",
       "       'instagram_new_adverts'], dtype=object)"
      ]
     },
     "execution_count": 14,
     "metadata": {},
     "output_type": "execute_result"
    }
   ],
   "source": [
    "source['source'].unique()"
   ]
  },
  {
   "cell_type": "code",
   "execution_count": 15,
   "metadata": {},
   "outputs": [
    {
     "data": {
      "text/plain": [
       "array(['facebook_ads', 'instagram_new_adverts', 'yandex_direct',\n",
       "       'youtube_channel_reklama'], dtype=object)"
      ]
     },
     "execution_count": 15,
     "metadata": {},
     "output_type": "execute_result"
    }
   ],
   "source": [
    "ads['source'].unique()"
   ]
  },
  {
   "cell_type": "code",
   "execution_count": 16,
   "metadata": {},
   "outputs": [
    {
     "data": {
      "text/plain": [
       "array(['assembly_shop', 'spaceport', 'no_building', 'research_center'],\n",
       "      dtype=object)"
      ]
     },
     "execution_count": 16,
     "metadata": {},
     "output_type": "execute_result"
    }
   ],
   "source": [
    "game['building_type'].unique() "
   ]
  },
  {
   "cell_type": "code",
   "execution_count": 17,
   "metadata": {},
   "outputs": [
    {
     "data": {
      "text/plain": [
       "array(['building', 'finished_stage_1', 'project'], dtype=object)"
      ]
     },
     "execution_count": 17,
     "metadata": {},
     "output_type": "execute_result"
    }
   ],
   "source": [
    "game['event'].unique()"
   ]
  },
  {
   "cell_type": "markdown",
   "metadata": {},
   "source": [
    "#### Проверка на выбросы и аномалии"
   ]
  },
  {
   "cell_type": "markdown",
   "metadata": {},
   "source": [
    "##### Датасет `ads`"
   ]
  },
  {
   "cell_type": "code",
   "execution_count": 18,
   "metadata": {},
   "outputs": [
    {
     "data": {
      "text/html": [
       "<div>\n",
       "<style scoped>\n",
       "    .dataframe tbody tr th:only-of-type {\n",
       "        vertical-align: middle;\n",
       "    }\n",
       "\n",
       "    .dataframe tbody tr th {\n",
       "        vertical-align: top;\n",
       "    }\n",
       "\n",
       "    .dataframe thead th {\n",
       "        text-align: right;\n",
       "    }\n",
       "</style>\n",
       "<table border=\"1\" class=\"dataframe\">\n",
       "  <thead>\n",
       "    <tr style=\"text-align: right;\">\n",
       "      <th></th>\n",
       "      <th>cost</th>\n",
       "    </tr>\n",
       "  </thead>\n",
       "  <tbody>\n",
       "    <tr>\n",
       "      <th>count</th>\n",
       "      <td>28.00</td>\n",
       "    </tr>\n",
       "    <tr>\n",
       "      <th>mean</th>\n",
       "      <td>271.56</td>\n",
       "    </tr>\n",
       "    <tr>\n",
       "      <th>std</th>\n",
       "      <td>286.87</td>\n",
       "    </tr>\n",
       "    <tr>\n",
       "      <th>min</th>\n",
       "      <td>23.31</td>\n",
       "    </tr>\n",
       "    <tr>\n",
       "      <th>25%</th>\n",
       "      <td>66.75</td>\n",
       "    </tr>\n",
       "    <tr>\n",
       "      <th>50%</th>\n",
       "      <td>160.06</td>\n",
       "    </tr>\n",
       "    <tr>\n",
       "      <th>75%</th>\n",
       "      <td>349.03</td>\n",
       "    </tr>\n",
       "    <tr>\n",
       "      <th>max</th>\n",
       "      <td>969.14</td>\n",
       "    </tr>\n",
       "  </tbody>\n",
       "</table>\n",
       "</div>"
      ],
      "text/plain": [
       "        cost\n",
       "count  28.00\n",
       "mean  271.56\n",
       "std   286.87\n",
       "min    23.31\n",
       "25%    66.75\n",
       "50%   160.06\n",
       "75%   349.03\n",
       "max   969.14"
      ]
     },
     "metadata": {},
     "output_type": "display_data"
    }
   ],
   "source": [
    "# выведем статитстические сведения \n",
    "display(ads.describe())"
   ]
  },
  {
   "cell_type": "code",
   "execution_count": 19,
   "metadata": {},
   "outputs": [
    {
     "data": {
      "text/html": [
       "<div>\n",
       "<style scoped>\n",
       "    .dataframe tbody tr th:only-of-type {\n",
       "        vertical-align: middle;\n",
       "    }\n",
       "\n",
       "    .dataframe tbody tr th {\n",
       "        vertical-align: top;\n",
       "    }\n",
       "\n",
       "    .dataframe thead th {\n",
       "        text-align: right;\n",
       "    }\n",
       "</style>\n",
       "<table border=\"1\" class=\"dataframe\">\n",
       "  <thead>\n",
       "    <tr style=\"text-align: right;\">\n",
       "      <th></th>\n",
       "      <th>source</th>\n",
       "      <th>day</th>\n",
       "      <th>cost</th>\n",
       "    </tr>\n",
       "  </thead>\n",
       "  <tbody>\n",
       "    <tr>\n",
       "      <th>0</th>\n",
       "      <td>facebook_ads</td>\n",
       "      <td>2020-05-03</td>\n",
       "      <td>935.88</td>\n",
       "    </tr>\n",
       "    <tr>\n",
       "      <th>1</th>\n",
       "      <td>facebook_ads</td>\n",
       "      <td>2020-05-04</td>\n",
       "      <td>548.35</td>\n",
       "    </tr>\n",
       "    <tr>\n",
       "      <th>2</th>\n",
       "      <td>facebook_ads</td>\n",
       "      <td>2020-05-05</td>\n",
       "      <td>260.19</td>\n",
       "    </tr>\n",
       "    <tr>\n",
       "      <th>3</th>\n",
       "      <td>facebook_ads</td>\n",
       "      <td>2020-05-06</td>\n",
       "      <td>177.98</td>\n",
       "    </tr>\n",
       "    <tr>\n",
       "      <th>4</th>\n",
       "      <td>facebook_ads</td>\n",
       "      <td>2020-05-07</td>\n",
       "      <td>111.77</td>\n",
       "    </tr>\n",
       "    <tr>\n",
       "      <th>5</th>\n",
       "      <td>facebook_ads</td>\n",
       "      <td>2020-05-08</td>\n",
       "      <td>68.01</td>\n",
       "    </tr>\n",
       "    <tr>\n",
       "      <th>6</th>\n",
       "      <td>facebook_ads</td>\n",
       "      <td>2020-05-09</td>\n",
       "      <td>38.72</td>\n",
       "    </tr>\n",
       "    <tr>\n",
       "      <th>7</th>\n",
       "      <td>instagram_new_adverts</td>\n",
       "      <td>2020-05-03</td>\n",
       "      <td>943.20</td>\n",
       "    </tr>\n",
       "    <tr>\n",
       "      <th>8</th>\n",
       "      <td>instagram_new_adverts</td>\n",
       "      <td>2020-05-04</td>\n",
       "      <td>502.93</td>\n",
       "    </tr>\n",
       "    <tr>\n",
       "      <th>9</th>\n",
       "      <td>instagram_new_adverts</td>\n",
       "      <td>2020-05-05</td>\n",
       "      <td>313.97</td>\n",
       "    </tr>\n",
       "    <tr>\n",
       "      <th>10</th>\n",
       "      <td>instagram_new_adverts</td>\n",
       "      <td>2020-05-06</td>\n",
       "      <td>173.07</td>\n",
       "    </tr>\n",
       "    <tr>\n",
       "      <th>11</th>\n",
       "      <td>instagram_new_adverts</td>\n",
       "      <td>2020-05-07</td>\n",
       "      <td>109.92</td>\n",
       "    </tr>\n",
       "    <tr>\n",
       "      <th>12</th>\n",
       "      <td>instagram_new_adverts</td>\n",
       "      <td>2020-05-08</td>\n",
       "      <td>71.58</td>\n",
       "    </tr>\n",
       "    <tr>\n",
       "      <th>13</th>\n",
       "      <td>instagram_new_adverts</td>\n",
       "      <td>2020-05-09</td>\n",
       "      <td>46.78</td>\n",
       "    </tr>\n",
       "    <tr>\n",
       "      <th>14</th>\n",
       "      <td>yandex_direct</td>\n",
       "      <td>2020-05-03</td>\n",
       "      <td>969.14</td>\n",
       "    </tr>\n",
       "    <tr>\n",
       "      <th>15</th>\n",
       "      <td>yandex_direct</td>\n",
       "      <td>2020-05-04</td>\n",
       "      <td>554.65</td>\n",
       "    </tr>\n",
       "    <tr>\n",
       "      <th>16</th>\n",
       "      <td>yandex_direct</td>\n",
       "      <td>2020-05-05</td>\n",
       "      <td>308.23</td>\n",
       "    </tr>\n",
       "    <tr>\n",
       "      <th>17</th>\n",
       "      <td>yandex_direct</td>\n",
       "      <td>2020-05-06</td>\n",
       "      <td>180.92</td>\n",
       "    </tr>\n",
       "    <tr>\n",
       "      <th>18</th>\n",
       "      <td>yandex_direct</td>\n",
       "      <td>2020-05-07</td>\n",
       "      <td>114.43</td>\n",
       "    </tr>\n",
       "    <tr>\n",
       "      <th>19</th>\n",
       "      <td>yandex_direct</td>\n",
       "      <td>2020-05-08</td>\n",
       "      <td>62.96</td>\n",
       "    </tr>\n",
       "    <tr>\n",
       "      <th>20</th>\n",
       "      <td>yandex_direct</td>\n",
       "      <td>2020-05-09</td>\n",
       "      <td>42.78</td>\n",
       "    </tr>\n",
       "    <tr>\n",
       "      <th>21</th>\n",
       "      <td>youtube_channel_reklama</td>\n",
       "      <td>2020-05-03</td>\n",
       "      <td>454.22</td>\n",
       "    </tr>\n",
       "    <tr>\n",
       "      <th>22</th>\n",
       "      <td>youtube_channel_reklama</td>\n",
       "      <td>2020-05-04</td>\n",
       "      <td>259.07</td>\n",
       "    </tr>\n",
       "    <tr>\n",
       "      <th>23</th>\n",
       "      <td>youtube_channel_reklama</td>\n",
       "      <td>2020-05-05</td>\n",
       "      <td>147.04</td>\n",
       "    </tr>\n",
       "    <tr>\n",
       "      <th>24</th>\n",
       "      <td>youtube_channel_reklama</td>\n",
       "      <td>2020-05-06</td>\n",
       "      <td>88.51</td>\n",
       "    </tr>\n",
       "    <tr>\n",
       "      <th>25</th>\n",
       "      <td>youtube_channel_reklama</td>\n",
       "      <td>2020-05-07</td>\n",
       "      <td>55.74</td>\n",
       "    </tr>\n",
       "    <tr>\n",
       "      <th>26</th>\n",
       "      <td>youtube_channel_reklama</td>\n",
       "      <td>2020-05-08</td>\n",
       "      <td>40.22</td>\n",
       "    </tr>\n",
       "    <tr>\n",
       "      <th>27</th>\n",
       "      <td>youtube_channel_reklama</td>\n",
       "      <td>2020-05-09</td>\n",
       "      <td>23.31</td>\n",
       "    </tr>\n",
       "  </tbody>\n",
       "</table>\n",
       "</div>"
      ],
      "text/plain": [
       "                     source        day   cost\n",
       "0              facebook_ads 2020-05-03 935.88\n",
       "1              facebook_ads 2020-05-04 548.35\n",
       "2              facebook_ads 2020-05-05 260.19\n",
       "3              facebook_ads 2020-05-06 177.98\n",
       "4              facebook_ads 2020-05-07 111.77\n",
       "5              facebook_ads 2020-05-08  68.01\n",
       "6              facebook_ads 2020-05-09  38.72\n",
       "7     instagram_new_adverts 2020-05-03 943.20\n",
       "8     instagram_new_adverts 2020-05-04 502.93\n",
       "9     instagram_new_adverts 2020-05-05 313.97\n",
       "10    instagram_new_adverts 2020-05-06 173.07\n",
       "11    instagram_new_adverts 2020-05-07 109.92\n",
       "12    instagram_new_adverts 2020-05-08  71.58\n",
       "13    instagram_new_adverts 2020-05-09  46.78\n",
       "14            yandex_direct 2020-05-03 969.14\n",
       "15            yandex_direct 2020-05-04 554.65\n",
       "16            yandex_direct 2020-05-05 308.23\n",
       "17            yandex_direct 2020-05-06 180.92\n",
       "18            yandex_direct 2020-05-07 114.43\n",
       "19            yandex_direct 2020-05-08  62.96\n",
       "20            yandex_direct 2020-05-09  42.78\n",
       "21  youtube_channel_reklama 2020-05-03 454.22\n",
       "22  youtube_channel_reklama 2020-05-04 259.07\n",
       "23  youtube_channel_reklama 2020-05-05 147.04\n",
       "24  youtube_channel_reklama 2020-05-06  88.51\n",
       "25  youtube_channel_reklama 2020-05-07  55.74\n",
       "26  youtube_channel_reklama 2020-05-08  40.22\n",
       "27  youtube_channel_reklama 2020-05-09  23.31"
      ]
     },
     "execution_count": 19,
     "metadata": {},
     "output_type": "execute_result"
    }
   ],
   "source": [
    "ads"
   ]
  },
  {
   "cell_type": "markdown",
   "metadata": {},
   "source": [
    "Как мы видим по всем площадкам в первые два дня наблюдались высокие затраты на рекламу. Это объяснимо, необходимо было на старте нагнать как можно больше трафика в наше приложение. Считаю, что удалять выбросы не нужно. Также видно, что реклама оплачивалась на день вперед, поэтому временной отрезок не с 4 по 10 мая, а с 3 по 9 мая. Возможно позже в иследовании нам понадобится подкорректировать эти даты, чтобы они лучше соотносились с другими датасетами. "
   ]
  },
  {
   "cell_type": "markdown",
   "metadata": {},
   "source": [
    "##### Датасет `game`"
   ]
  },
  {
   "cell_type": "code",
   "execution_count": 20,
   "metadata": {},
   "outputs": [
    {
     "data": {
      "text/html": [
       "<div>\n",
       "<style scoped>\n",
       "    .dataframe tbody tr th:only-of-type {\n",
       "        vertical-align: middle;\n",
       "    }\n",
       "\n",
       "    .dataframe tbody tr th {\n",
       "        vertical-align: top;\n",
       "    }\n",
       "\n",
       "    .dataframe thead th {\n",
       "        text-align: right;\n",
       "    }\n",
       "</style>\n",
       "<table border=\"1\" class=\"dataframe\">\n",
       "  <thead>\n",
       "    <tr style=\"text-align: right;\">\n",
       "      <th></th>\n",
       "      <th>event_datetime</th>\n",
       "      <th>event</th>\n",
       "      <th>building_type</th>\n",
       "      <th>user_id</th>\n",
       "    </tr>\n",
       "  </thead>\n",
       "  <tbody>\n",
       "    <tr>\n",
       "      <th>count</th>\n",
       "      <td>135639</td>\n",
       "      <td>135639</td>\n",
       "      <td>135639</td>\n",
       "      <td>135639</td>\n",
       "    </tr>\n",
       "    <tr>\n",
       "      <th>unique</th>\n",
       "      <td>128790</td>\n",
       "      <td>3</td>\n",
       "      <td>4</td>\n",
       "      <td>13576</td>\n",
       "    </tr>\n",
       "    <tr>\n",
       "      <th>top</th>\n",
       "      <td>2020-05-09 21:49:07</td>\n",
       "      <td>building</td>\n",
       "      <td>spaceport</td>\n",
       "      <td>bf542075-e3a2-4e79-82d8-3838e86d2a25</td>\n",
       "    </tr>\n",
       "    <tr>\n",
       "      <th>freq</th>\n",
       "      <td>4</td>\n",
       "      <td>127956</td>\n",
       "      <td>59325</td>\n",
       "      <td>22</td>\n",
       "    </tr>\n",
       "    <tr>\n",
       "      <th>first</th>\n",
       "      <td>2020-05-04 00:00:01</td>\n",
       "      <td>NaN</td>\n",
       "      <td>NaN</td>\n",
       "      <td>NaN</td>\n",
       "    </tr>\n",
       "    <tr>\n",
       "      <th>last</th>\n",
       "      <td>2020-06-05 12:32:49</td>\n",
       "      <td>NaN</td>\n",
       "      <td>NaN</td>\n",
       "      <td>NaN</td>\n",
       "    </tr>\n",
       "  </tbody>\n",
       "</table>\n",
       "</div>"
      ],
      "text/plain": [
       "             event_datetime     event building_type  \\\n",
       "count                135639    135639        135639   \n",
       "unique               128790         3             4   \n",
       "top     2020-05-09 21:49:07  building     spaceport   \n",
       "freq                      4    127956         59325   \n",
       "first   2020-05-04 00:00:01       NaN           NaN   \n",
       "last    2020-06-05 12:32:49       NaN           NaN   \n",
       "\n",
       "                                     user_id  \n",
       "count                                 135639  \n",
       "unique                                 13576  \n",
       "top     bf542075-e3a2-4e79-82d8-3838e86d2a25  \n",
       "freq                                      22  \n",
       "first                                    NaN  \n",
       "last                                     NaN  "
      ]
     },
     "metadata": {},
     "output_type": "display_data"
    }
   ],
   "source": [
    "display(game.describe())"
   ]
  },
  {
   "cell_type": "code",
   "execution_count": 21,
   "metadata": {},
   "outputs": [
    {
     "data": {
      "text/plain": [
       "Timedelta('32 days 12:32:48')"
      ]
     },
     "execution_count": 21,
     "metadata": {},
     "output_type": "execute_result"
    }
   ],
   "source": [
    "# посчитаем сколько дней между первой и последней датой \n",
    "game['event_datetime'].max() - game['event_datetime'].min()"
   ]
  },
  {
   "cell_type": "markdown",
   "metadata": {},
   "source": [
    "Как мы видим данные для когорт с 4 по 10 мая нам предоставили за 32,5 дня."
   ]
  },
  {
   "cell_type": "markdown",
   "metadata": {},
   "source": [
    "В процессе предобработки данных мы удалили столбец `project_type`, заполнили пропуски в столбце `building_type`, удалили дубликаты в `game`, проверили данные на выбросы и аномалии."
   ]
  },
  {
   "cell_type": "markdown",
   "metadata": {},
   "source": [
    "## Исследовательский анализ данных"
   ]
  },
  {
   "cell_type": "markdown",
   "metadata": {},
   "source": [
    "    - Расчет количества пользователей за весь период\n",
    "    - Расчет количества событий за весь период\n",
    "    - Расчет количества построек за весь период\n",
    "    - Расчет среднего количества построек на одного пользователя\n",
    "    - Расчет количества пользователей завершивших первый уровень\n",
    "    - Распределение пользователей по способу завершения уровня\n",
    "    - Расчет среднего времени  проведенного за игрой в зависимости от способа завершения уровня\n",
    "    - Расчет среднего количества зданий, необходимых для завершения уровня\n",
    "    - Расчет количества пользователей в разрезе источника трафика\n",
    "    - Расчет стоимости одного перехода для каждого рекламного канала за весь период\n",
    "    - Расчет прибыли для модели показа рекламы на экране выбора постройки"
   ]
  },
  {
   "cell_type": "markdown",
   "metadata": {},
   "source": [
    "### Расчет количества пользователей за весь период"
   ]
  },
  {
   "cell_type": "code",
   "execution_count": 22,
   "metadata": {},
   "outputs": [
    {
     "data": {
      "text/plain": [
       "13576"
      ]
     },
     "execution_count": 22,
     "metadata": {},
     "output_type": "execute_result"
    }
   ],
   "source": [
    "# посчитаем количество уникальных пользователей за период\n",
    "unique_users = game['user_id'].nunique()\n",
    "unique_users"
   ]
  },
  {
   "cell_type": "markdown",
   "metadata": {},
   "source": [
    "Всего с 4 по 10 мая к нам в приложение пришло 13 576 уникальных пользователей."
   ]
  },
  {
   "cell_type": "markdown",
   "metadata": {},
   "source": [
    "### Расчет количества событий за весь период"
   ]
  },
  {
   "cell_type": "code",
   "execution_count": 23,
   "metadata": {},
   "outputs": [
    {
     "data": {
      "text/plain": [
       "135639"
      ]
     },
     "execution_count": 23,
     "metadata": {},
     "output_type": "execute_result"
    }
   ],
   "source": [
    "# посчитаем количество событий за период\n",
    "game['event'].count()"
   ]
  },
  {
   "cell_type": "markdown",
   "metadata": {},
   "source": [
    "Всего с 4 по 10 мая зарегистрировано 135 639 событий."
   ]
  },
  {
   "cell_type": "markdown",
   "metadata": {},
   "source": [
    "### Расчет количества построек за весь период"
   ]
  },
  {
   "cell_type": "code",
   "execution_count": 24,
   "metadata": {},
   "outputs": [
    {
     "name": "stdout",
     "output_type": "stream",
     "text": [
      "Пострек всего: 127956\n",
      "\n",
      "Распределение построек по видам: building_type\n",
      "spaceport          59325\n",
      "assembly_shop      54494\n",
      "research_center    14137\n",
      "Name: user_id, dtype: int64\n"
     ]
    }
   ],
   "source": [
    "# посчитаем количество построек за период\n",
    "buildings_cnt = game.query('event==\"building\"')['building_type'].count()\n",
    "print('Пострек всего:',buildings_cnt)\n",
    "print()\n",
    "# посмотрим какие постройки строятся чаще всего\n",
    "building_type = game.query('event==\"building\"').groupby('building_type')['user_id'].count().sort_values(ascending=False)\n",
    "print('Распределение построек по видам:', building_type)\n"
   ]
  },
  {
   "cell_type": "code",
   "execution_count": 25,
   "metadata": {},
   "outputs": [
    {
     "data": {
      "image/png": "[encoded data removed]",
      "text/plain": [
       "<Figure size 1000x500 with 1 Axes>"
      ]
     },
     "metadata": {},
     "output_type": "display_data"
    }
   ],
   "source": [
    "building_type = pd.DataFrame(game.query('event==\"building\"').groupby('building_type')['user_id'].count().reset_index().sort_values(by='user_id',ascending=False)).reset_index(drop=True)\n",
    "# назначаем размер графика\n",
    "plt.figure(figsize=(10, 5))\n",
    "# строим столбчатый график средствами seaborn\n",
    "sns.barplot(x='building_type',y='user_id', data=building_type);\n",
    "# формируем заголовок графика и подписи осей средствами matplotlib\n",
    "plt.title('Распределение построек по типам')\n",
    "plt.xlabel('Тип постройки')\n",
    "plt.ylabel('Количество построек')\n",
    "# поворачиваем подписи значений по оси X на 45 градусов\n",
    "plt.xticks(rotation=45)\n",
    "plt.show()"
   ]
  },
  {
   "cell_type": "markdown",
   "metadata": {},
   "source": [
    "Самым популярным строением является космический порт - 59 325 построек, не сильно отстает сборочный цех - 54 494 постройки. Наименее популярным стал исследовательский центр - всего 14137 построек."
   ]
  },
  {
   "cell_type": "markdown",
   "metadata": {},
   "source": [
    "### Расчет среднего количества построек на одного пользователя"
   ]
  },
  {
   "cell_type": "code",
   "execution_count": 26,
   "metadata": {},
   "outputs": [
    {
     "data": {
      "text/plain": [
       "9.43"
      ]
     },
     "execution_count": 26,
     "metadata": {},
     "output_type": "execute_result"
    }
   ],
   "source": [
    "# Разделим все строения на количество уникальных пользователей\n",
    "round(buildings_cnt/unique_users,2)"
   ]
  },
  {
   "cell_type": "markdown",
   "metadata": {},
   "source": [
    "В среднем, каждый пользователь строит по 9, 43 здания. "
   ]
  },
  {
   "cell_type": "markdown",
   "metadata": {},
   "source": [
    "### Расчет количества пользователей завершивших первый уровень\n"
   ]
  },
  {
   "cell_type": "code",
   "execution_count": 27,
   "metadata": {},
   "outputs": [
    {
     "data": {
      "text/plain": [
       "5817"
      ]
     },
     "execution_count": 27,
     "metadata": {},
     "output_type": "execute_result"
    }
   ],
   "source": [
    "user_pass = game.query('event==\"finished_stage_1\"')['user_id'].nunique()\n",
    "user_pass"
   ]
  },
  {
   "cell_type": "markdown",
   "metadata": {},
   "source": [
    "Всего 1 уровень завершили 5 817 пользователей.  Посмотрим на соотношение с теми, что еще не закончил уровень."
   ]
  },
  {
   "cell_type": "code",
   "execution_count": 28,
   "metadata": {},
   "outputs": [
    {
     "data": {
      "text/html": [
       "<div>\n",
       "<style scoped>\n",
       "    .dataframe tbody tr th:only-of-type {\n",
       "        vertical-align: middle;\n",
       "    }\n",
       "\n",
       "    .dataframe tbody tr th {\n",
       "        vertical-align: top;\n",
       "    }\n",
       "\n",
       "    .dataframe thead th {\n",
       "        text-align: right;\n",
       "    }\n",
       "</style>\n",
       "<table border=\"1\" class=\"dataframe\">\n",
       "  <thead>\n",
       "    <tr style=\"text-align: right;\">\n",
       "      <th></th>\n",
       "      <th>level_pass</th>\n",
       "      <th>cnt_users</th>\n",
       "    </tr>\n",
       "  </thead>\n",
       "  <tbody>\n",
       "    <tr>\n",
       "      <th>0</th>\n",
       "      <td>pass</td>\n",
       "      <td>5817</td>\n",
       "    </tr>\n",
       "    <tr>\n",
       "      <th>1</th>\n",
       "      <td>not_pass</td>\n",
       "      <td>7759</td>\n",
       "    </tr>\n",
       "  </tbody>\n",
       "</table>\n",
       "</div>"
      ],
      "text/plain": [
       "  level_pass  cnt_users\n",
       "0       pass       5817\n",
       "1   not_pass       7759"
      ]
     },
     "execution_count": 28,
     "metadata": {},
     "output_type": "execute_result"
    }
   ],
   "source": [
    "a = pd.DataFrame({'level_pass':['pass','not_pass'], \n",
    "              'cnt_users':[user_pass, game['user_id'].nunique()-user_pass]})\n",
    "a"
   ]
  },
  {
   "cell_type": "code",
   "execution_count": 29,
   "metadata": {
    "scrolled": false
   },
   "outputs": [
    {
     "data": {
      "image/png": "[encoded data removed]",
      "text/plain": [
       "<Figure size 600x600 with 1 Axes>"
      ]
     },
     "metadata": {},
     "output_type": "display_data"
    }
   ],
   "source": [
    "# построим круговую диаграмму\n",
    "labels=['завершили первый уровень', 'не завершили первый уровень']\n",
    "a.plot(y='cnt_users', kind='pie',labels=labels, \n",
    "               autopct='%1.1f%%', fontsize=11, figsize=(6,6), \n",
    "               legend=False, title='Распределение пользователей по завершению уровня', startangle=10);\n",
    "plt.ylabel(\"\");"
   ]
  },
  {
   "cell_type": "markdown",
   "metadata": {},
   "source": [
    "По данным 57,2 % пользователей не завершили первый уровень за представленный период. Посмотрим как распределены пользователи по способу завершения уровня."
   ]
  },
  {
   "cell_type": "markdown",
   "metadata": {},
   "source": [
    "### Распределение пользователей по способу завершения уровня"
   ]
  },
  {
   "cell_type": "code",
   "execution_count": 30,
   "metadata": {},
   "outputs": [
    {
     "data": {
      "text/html": [
       "<div>\n",
       "<style scoped>\n",
       "    .dataframe tbody tr th:only-of-type {\n",
       "        vertical-align: middle;\n",
       "    }\n",
       "\n",
       "    .dataframe tbody tr th {\n",
       "        vertical-align: top;\n",
       "    }\n",
       "\n",
       "    .dataframe thead th {\n",
       "        text-align: right;\n",
       "    }\n",
       "</style>\n",
       "<table border=\"1\" class=\"dataframe\">\n",
       "  <thead>\n",
       "    <tr style=\"text-align: right;\">\n",
       "      <th></th>\n",
       "      <th>event</th>\n",
       "      <th>user_id</th>\n",
       "    </tr>\n",
       "  </thead>\n",
       "  <tbody>\n",
       "    <tr>\n",
       "      <th>0</th>\n",
       "      <td>finished_stage_1</td>\n",
       "      <td>5817</td>\n",
       "    </tr>\n",
       "    <tr>\n",
       "      <th>2</th>\n",
       "      <td>pvp</td>\n",
       "      <td>3951</td>\n",
       "    </tr>\n",
       "    <tr>\n",
       "      <th>1</th>\n",
       "      <td>project</td>\n",
       "      <td>1866</td>\n",
       "    </tr>\n",
       "  </tbody>\n",
       "</table>\n",
       "</div>"
      ],
      "text/plain": [
       "              event  user_id\n",
       "0  finished_stage_1     5817\n",
       "2               pvp     3951\n",
       "1           project     1866"
      ]
     },
     "execution_count": 30,
     "metadata": {},
     "output_type": "execute_result"
    }
   ],
   "source": [
    "# получим общее число пользователей завершивших 1 уровень и пользователей закончивших путем строительства\n",
    "finish_users = pd.DataFrame(game.query('event!=\"building\"').groupby('event').agg({'user_id':'nunique'}).reset_index())\n",
    "# посчитаем пользователей, победивших в пвп\n",
    "pvp = {'event':'pvp', 'user_id':finish_users.iloc[0]['user_id']-finish_users.iloc[1]['user_id']}\n",
    "# добавим пользователей, победивших в пвп к таблице с победителями\n",
    "finish_users = finish_users.append(pvp,ignore_index = True)\n",
    "finish_users = finish_users.sort_values(by = 'user_id', ascending=False)\n",
    "finish_users"
   ]
  },
  {
   "cell_type": "markdown",
   "metadata": {},
   "source": [
    "Первый уровень путем победы над другим игроком прошел 3 951 пользователь. Построили орбитальную станцию - 1 866 пользователей."
   ]
  },
  {
   "cell_type": "code",
   "execution_count": 31,
   "metadata": {},
   "outputs": [
    {
     "data": {
      "image/png": "[encoded data removed]",
      "text/plain": [
       "<Figure size 600x600 with 1 Axes>"
      ]
     },
     "metadata": {},
     "output_type": "display_data"
    }
   ],
   "source": [
    "# построим круговую диаграмму\n",
    "labels=['пвп','проект']\n",
    "finish_users.query('event!=\"finished_stage_1\"').plot(y='user_id', kind='pie', labels=labels,\n",
    "               autopct='%1.1f%%', fontsize=11, figsize=(6,6), \n",
    "               legend=False, title='Распределение пользователей по способу завершения уровня', startangle=10);\n",
    "plt.ylabel(\"\");"
   ]
  },
  {
   "cell_type": "markdown",
   "metadata": {},
   "source": [
    "В 67,9% игрок заканчивает уровень победой над другим игроком. Нашим игрокам больше нравятся драки или таким способом просто быстрее проходится уровень, мы пока не знаем. Психологическую сторону вопроса по данным нам не проверить, но можно узнать, какая стратегия выгоднее по времени."
   ]
  },
  {
   "cell_type": "markdown",
   "metadata": {},
   "source": [
    "### Расчет среднего времени  проведенного за игрой в зависимости от способа завершения уровня"
   ]
  },
  {
   "cell_type": "code",
   "execution_count": 32,
   "metadata": {},
   "outputs": [],
   "source": [
    "def get_info_time(dataframe):\n",
    "\n",
    "    '''Функция создает новый столбец в датафрейме с временем, проведенным в игре, \n",
    "    сортирует по возрастанию продолжительности, переименовывает столбцы.'''\n",
    "    \n",
    "    # Посчитаем в новом столбце время прошедшее между первым и последним событием для каждого пользователя\n",
    "    dataframe['level_time'] = dataframe[('event_datetime', 'max')] - dataframe[('event_datetime', 'min')]\n",
    "    # удалим один уровень\n",
    "    dataframe.columns = dataframe.columns.droplevel(1)\n",
    "    # добавим индексы и отсортируем таблицу по времени игры\n",
    "    dataframe = dataframe.reset_index().sort_values(by='level_time')\n",
    "    # переименуем столбцы\n",
    "    dataframe.columns = ['user','first_event_time','last_event_time','level_time']\n",
    "    # выведем первые 5 строк\n",
    "    display(dataframe.head())"
   ]
  },
  {
   "cell_type": "code",
   "execution_count": 33,
   "metadata": {},
   "outputs": [],
   "source": [
    "def print_min_max_mean_median_time(dataframe, column):\n",
    "    \n",
    "    '''функция выводит минимальное, максимальное, среднее и медианное значение по столбцу.'''\n",
    "    \n",
    "    print(\n",
    "            '\\n''Минимальное время прохождения уровня:', dataframe[column].min(),\n",
    "            '\\n''Максимальное время прохождения уровня:', dataframe[column].max(),\n",
    "            '\\n''Среднее время в игре:', dataframe[column].mean(), \n",
    "            '\\n''Медианное время в игре:', dataframe[column].median()\n",
    "    )"
   ]
  },
  {
   "cell_type": "code",
   "execution_count": 34,
   "metadata": {},
   "outputs": [],
   "source": [
    "def print_min_max_mean_median_time_not_pass(dataframe, column):\n",
    "    \n",
    "    '''функция выводит минимальное, максимальное, среднее и медианное значение \n",
    "        по столбцу для игроков, которые не прошли игру.'''\n",
    "    \n",
    "    print(\n",
    "            '\\n''Минимальное время в игре:', dataframe[column].min(),\n",
    "            '\\n''Максимальное время в игре:', dataframe[column].max(),\n",
    "            '\\n''Среднее время в игре:', dataframe[column].mean(), \n",
    "            '\\n''Медианное время в игре:', dataframe[column].median()\n",
    "    )"
   ]
  },
  {
   "cell_type": "code",
   "execution_count": 35,
   "metadata": {},
   "outputs": [
    {
     "data": {
      "text/html": [
       "<div>\n",
       "<style scoped>\n",
       "    .dataframe tbody tr th:only-of-type {\n",
       "        vertical-align: middle;\n",
       "    }\n",
       "\n",
       "    .dataframe tbody tr th {\n",
       "        vertical-align: top;\n",
       "    }\n",
       "\n",
       "    .dataframe thead th {\n",
       "        text-align: right;\n",
       "    }\n",
       "</style>\n",
       "<table border=\"1\" class=\"dataframe\">\n",
       "  <thead>\n",
       "    <tr style=\"text-align: right;\">\n",
       "      <th></th>\n",
       "      <th>user</th>\n",
       "      <th>first_event_time</th>\n",
       "      <th>last_event_time</th>\n",
       "      <th>level_time</th>\n",
       "    </tr>\n",
       "  </thead>\n",
       "  <tbody>\n",
       "    <tr>\n",
       "      <th>91</th>\n",
       "      <td>03990bc0-47b6-44ce-9f8b-3afb1a97d0e7</td>\n",
       "      <td>2020-05-07 16:40:32</td>\n",
       "      <td>2020-05-08 02:19:33</td>\n",
       "      <td>0 days 09:39:01</td>\n",
       "    </tr>\n",
       "    <tr>\n",
       "      <th>4687</th>\n",
       "      <td>ced7b368-818f-48f6-9461-2346de0892c5</td>\n",
       "      <td>2020-05-04 00:13:21</td>\n",
       "      <td>2020-05-04 19:47:29</td>\n",
       "      <td>0 days 19:34:08</td>\n",
       "    </tr>\n",
       "    <tr>\n",
       "      <th>4547</th>\n",
       "      <td>c8180f71-68dc-4fd5-ba6e-ba5f5d0d28f7</td>\n",
       "      <td>2020-05-08 16:08:29</td>\n",
       "      <td>2020-05-09 11:52:33</td>\n",
       "      <td>0 days 19:44:04</td>\n",
       "    </tr>\n",
       "    <tr>\n",
       "      <th>825</th>\n",
       "      <td>2204ae7f-892b-494d-bd58-28816ff35eb5</td>\n",
       "      <td>2020-05-07 02:25:27</td>\n",
       "      <td>2020-05-08 01:02:51</td>\n",
       "      <td>0 days 22:37:24</td>\n",
       "    </tr>\n",
       "    <tr>\n",
       "      <th>1032</th>\n",
       "      <td>2ab1cc5a-413a-408e-ba76-01de8e12bead</td>\n",
       "      <td>2020-05-05 13:25:04</td>\n",
       "      <td>2020-05-06 13:43:12</td>\n",
       "      <td>1 days 00:18:08</td>\n",
       "    </tr>\n",
       "  </tbody>\n",
       "</table>\n",
       "</div>"
      ],
      "text/plain": [
       "                                      user    first_event_time  \\\n",
       "91    03990bc0-47b6-44ce-9f8b-3afb1a97d0e7 2020-05-07 16:40:32   \n",
       "4687  ced7b368-818f-48f6-9461-2346de0892c5 2020-05-04 00:13:21   \n",
       "4547  c8180f71-68dc-4fd5-ba6e-ba5f5d0d28f7 2020-05-08 16:08:29   \n",
       "825   2204ae7f-892b-494d-bd58-28816ff35eb5 2020-05-07 02:25:27   \n",
       "1032  2ab1cc5a-413a-408e-ba76-01de8e12bead 2020-05-05 13:25:04   \n",
       "\n",
       "         last_event_time      level_time  \n",
       "91   2020-05-08 02:19:33 0 days 09:39:01  \n",
       "4687 2020-05-04 19:47:29 0 days 19:34:08  \n",
       "4547 2020-05-09 11:52:33 0 days 19:44:04  \n",
       "825  2020-05-08 01:02:51 0 days 22:37:24  \n",
       "1032 2020-05-06 13:43:12 1 days 00:18:08  "
      ]
     },
     "metadata": {},
     "output_type": "display_data"
    }
   ],
   "source": [
    "# получим уникальные id пользователей завершивших уровень\n",
    "user_pass = game.query('event==\"finished_stage_1\"')['user_id']\n",
    "# получим новый дф с победителями 1 уровня, найдем время первого и поледнего события\n",
    "time_pass_level = game.query('user_id in @user_pass').groupby('user_id').agg({'event_datetime':['min','max']})\n",
    "\n",
    "get_info_time(time_pass_level)"
   ]
  },
  {
   "cell_type": "code",
   "execution_count": 36,
   "metadata": {},
   "outputs": [
    {
     "name": "stdout",
     "output_type": "stream",
     "text": [
      "\n",
      "Минимальное время прохождения уровня: 0 days 09:39:01 \n",
      "Максимальное время прохождения уровня: 30 days 21:58:53 \n",
      "Среднее время в игре: 11 days 20:37:59.561801616 \n",
      "Медианное время в игре: 11 days 13:28:44\n"
     ]
    }
   ],
   "source": [
    "print_min_max_mean_median_time(time_pass_level, 'level_time')"
   ]
  },
  {
   "cell_type": "markdown",
   "metadata": {},
   "source": [
    "В среднем на прохождение первого уровня у игроков уходит больше 11 дней. Однако один пользователь смог пройти уровень за 9 часов 39 минут. Самое долгое прохождение 30 дней 21 час 59 минут. Даже в среднем, 11 дней на мой взгляд, это очень долго для первого уровня, неудивительно, что больше половины игроков еще не закончили уровень, а может быть уже ушли и не вернутся, потеряв интерес."
   ]
  },
  {
   "cell_type": "markdown",
   "metadata": {},
   "source": [
    "Посмотрим среднее время проведенное в игре пользователями, которые не завершили уровень."
   ]
  },
  {
   "cell_type": "code",
   "execution_count": 37,
   "metadata": {},
   "outputs": [
    {
     "data": {
      "text/html": [
       "<div>\n",
       "<style scoped>\n",
       "    .dataframe tbody tr th:only-of-type {\n",
       "        vertical-align: middle;\n",
       "    }\n",
       "\n",
       "    .dataframe tbody tr th {\n",
       "        vertical-align: top;\n",
       "    }\n",
       "\n",
       "    .dataframe thead th {\n",
       "        text-align: right;\n",
       "    }\n",
       "</style>\n",
       "<table border=\"1\" class=\"dataframe\">\n",
       "  <thead>\n",
       "    <tr style=\"text-align: right;\">\n",
       "      <th></th>\n",
       "      <th>user</th>\n",
       "      <th>first_event_time</th>\n",
       "      <th>last_event_time</th>\n",
       "      <th>level_time</th>\n",
       "    </tr>\n",
       "  </thead>\n",
       "  <tbody>\n",
       "    <tr>\n",
       "      <th>7283</th>\n",
       "      <td>f0425383-12f3-4a1d-9f8b-5ceea106a5f9</td>\n",
       "      <td>2020-05-06 09:24:03</td>\n",
       "      <td>2020-05-06 09:24:03</td>\n",
       "      <td>0 days</td>\n",
       "    </tr>\n",
       "    <tr>\n",
       "      <th>1539</th>\n",
       "      <td>31d67118-da17-4d29-8d42-da15aaca6eb7</td>\n",
       "      <td>2020-05-06 11:52:50</td>\n",
       "      <td>2020-05-06 11:52:50</td>\n",
       "      <td>0 days</td>\n",
       "    </tr>\n",
       "    <tr>\n",
       "      <th>6935</th>\n",
       "      <td>e49acc01-ccf6-42f8-aab4-9fc6aef66493</td>\n",
       "      <td>2020-05-05 15:38:07</td>\n",
       "      <td>2020-05-05 15:38:07</td>\n",
       "      <td>0 days</td>\n",
       "    </tr>\n",
       "    <tr>\n",
       "      <th>5896</th>\n",
       "      <td>c2da7069-de66-4cda-9072-a48efbeea8b6</td>\n",
       "      <td>2020-05-04 21:03:19</td>\n",
       "      <td>2020-05-04 21:03:19</td>\n",
       "      <td>0 days</td>\n",
       "    </tr>\n",
       "    <tr>\n",
       "      <th>7467</th>\n",
       "      <td>f6a91a2f-b1dd-4db2-bf11-532c8f893d24</td>\n",
       "      <td>2020-05-05 01:06:20</td>\n",
       "      <td>2020-05-05 01:06:20</td>\n",
       "      <td>0 days</td>\n",
       "    </tr>\n",
       "  </tbody>\n",
       "</table>\n",
       "</div>"
      ],
      "text/plain": [
       "                                      user    first_event_time  \\\n",
       "7283  f0425383-12f3-4a1d-9f8b-5ceea106a5f9 2020-05-06 09:24:03   \n",
       "1539  31d67118-da17-4d29-8d42-da15aaca6eb7 2020-05-06 11:52:50   \n",
       "6935  e49acc01-ccf6-42f8-aab4-9fc6aef66493 2020-05-05 15:38:07   \n",
       "5896  c2da7069-de66-4cda-9072-a48efbeea8b6 2020-05-04 21:03:19   \n",
       "7467  f6a91a2f-b1dd-4db2-bf11-532c8f893d24 2020-05-05 01:06:20   \n",
       "\n",
       "         last_event_time level_time  \n",
       "7283 2020-05-06 09:24:03     0 days  \n",
       "1539 2020-05-06 11:52:50     0 days  \n",
       "6935 2020-05-05 15:38:07     0 days  \n",
       "5896 2020-05-04 21:03:19     0 days  \n",
       "7467 2020-05-05 01:06:20     0 days  "
      ]
     },
     "metadata": {},
     "output_type": "display_data"
    }
   ],
   "source": [
    "# получим новый дф с игроками не окончившими 1 уровень, найдем время первого и поледнего события\n",
    "time_not_pass_level = game.query('user_id not in @user_pass').groupby('user_id').agg({'event_datetime':['min','max']})\n",
    "\n",
    "get_info_time(time_not_pass_level)"
   ]
  },
  {
   "cell_type": "code",
   "execution_count": 38,
   "metadata": {},
   "outputs": [
    {
     "name": "stdout",
     "output_type": "stream",
     "text": [
      "\n",
      "Минимальное время в игре: 0 days 00:00:00 \n",
      "Максимальное время в игре: 29 days 02:01:24 \n",
      "Среднее время в игре: 9 days 18:54:58.255445289 \n",
      "Медианное время в игре: 9 days 14:34:59\n"
     ]
    }
   ],
   "source": [
    "print_min_max_mean_median_time_not_pass(time_not_pass_level, 'level_time')"
   ]
  },
  {
   "cell_type": "code",
   "execution_count": 39,
   "metadata": {},
   "outputs": [
    {
     "data": {
      "text/plain": [
       "57"
      ]
     },
     "execution_count": 39,
     "metadata": {},
     "output_type": "execute_result"
    }
   ],
   "source": [
    "time_not_pass_level.query('level_time==\"0 days\"').reset_index()['user_id'].nunique()"
   ]
  },
  {
   "cell_type": "code",
   "execution_count": 40,
   "metadata": {},
   "outputs": [
    {
     "data": {
      "text/html": [
       "<div>\n",
       "<style scoped>\n",
       "    .dataframe tbody tr th:only-of-type {\n",
       "        vertical-align: middle;\n",
       "    }\n",
       "\n",
       "    .dataframe tbody tr th {\n",
       "        vertical-align: top;\n",
       "    }\n",
       "\n",
       "    .dataframe thead th {\n",
       "        text-align: right;\n",
       "    }\n",
       "</style>\n",
       "<table border=\"1\" class=\"dataframe\">\n",
       "  <thead>\n",
       "    <tr style=\"text-align: right;\">\n",
       "      <th></th>\n",
       "      <th>user_id</th>\n",
       "      <th>event_datetime</th>\n",
       "      <th>event_datetime</th>\n",
       "      <th>level_time</th>\n",
       "      <th>pass_type</th>\n",
       "    </tr>\n",
       "  </thead>\n",
       "  <tbody>\n",
       "    <tr>\n",
       "      <th>0</th>\n",
       "      <td>0001f83c-c6ac-4621-b7f0-8a28b283ac30</td>\n",
       "      <td>2020-05-06 01:07:37</td>\n",
       "      <td>2020-05-20 11:26:06</td>\n",
       "      <td>14 days 10:18:29</td>\n",
       "      <td>not_pass</td>\n",
       "    </tr>\n",
       "    <tr>\n",
       "      <th>1</th>\n",
       "      <td>00151b4f-ba38-44a8-a650-d7cf130a0105</td>\n",
       "      <td>2020-05-06 03:09:12</td>\n",
       "      <td>2020-05-18 10:46:52</td>\n",
       "      <td>12 days 07:37:40</td>\n",
       "      <td>not_pass</td>\n",
       "    </tr>\n",
       "    <tr>\n",
       "      <th>2</th>\n",
       "      <td>001aaea6-3d14-43f1-8ca8-7f48820f17aa</td>\n",
       "      <td>2020-05-05 18:08:52</td>\n",
       "      <td>2020-05-14 09:21:27</td>\n",
       "      <td>8 days 15:12:35</td>\n",
       "      <td>not_pass</td>\n",
       "    </tr>\n",
       "    <tr>\n",
       "      <th>3</th>\n",
       "      <td>002f508f-67b6-479f-814b-b05f00d4e995</td>\n",
       "      <td>2020-05-05 13:49:58</td>\n",
       "      <td>2020-05-22 02:46:45</td>\n",
       "      <td>16 days 12:56:47</td>\n",
       "      <td>not_pass</td>\n",
       "    </tr>\n",
       "    <tr>\n",
       "      <th>4</th>\n",
       "      <td>003b80c6-4164-4157-bb2a-03d0181d39c4</td>\n",
       "      <td>2020-05-04 09:10:22</td>\n",
       "      <td>2020-05-12 15:23:37</td>\n",
       "      <td>8 days 06:13:15</td>\n",
       "      <td>not_pass</td>\n",
       "    </tr>\n",
       "    <tr>\n",
       "      <th>...</th>\n",
       "      <td>...</td>\n",
       "      <td>...</td>\n",
       "      <td>...</td>\n",
       "      <td>...</td>\n",
       "      <td>...</td>\n",
       "    </tr>\n",
       "    <tr>\n",
       "      <th>7754</th>\n",
       "      <td>ffbd2858-ded0-487a-be48-723044a1a742</td>\n",
       "      <td>2020-05-08 03:04:08</td>\n",
       "      <td>2020-05-25 23:35:46</td>\n",
       "      <td>17 days 20:31:38</td>\n",
       "      <td>not_pass</td>\n",
       "    </tr>\n",
       "    <tr>\n",
       "      <th>7755</th>\n",
       "      <td>ffcf62ae-0992-47ea-a010-2667ee0e7f23</td>\n",
       "      <td>2020-05-04 06:58:51</td>\n",
       "      <td>2020-05-21 00:59:06</td>\n",
       "      <td>16 days 18:00:15</td>\n",
       "      <td>not_pass</td>\n",
       "    </tr>\n",
       "    <tr>\n",
       "      <th>7756</th>\n",
       "      <td>ffd3469d-fb9e-49d8-84fe-c1a1aaf4b3b7</td>\n",
       "      <td>2020-05-05 20:06:47</td>\n",
       "      <td>2020-05-14 20:03:35</td>\n",
       "      <td>8 days 23:56:48</td>\n",
       "      <td>not_pass</td>\n",
       "    </tr>\n",
       "    <tr>\n",
       "      <th>7757</th>\n",
       "      <td>fffab3da-da0e-4e30-ae62-10d0a2e24a4e</td>\n",
       "      <td>2020-05-04 11:58:14</td>\n",
       "      <td>2020-05-14 10:11:36</td>\n",
       "      <td>9 days 22:13:22</td>\n",
       "      <td>not_pass</td>\n",
       "    </tr>\n",
       "    <tr>\n",
       "      <th>7758</th>\n",
       "      <td>ffff194a-56b7-4c12-860d-3485242ae7f5</td>\n",
       "      <td>2020-05-04 20:28:28</td>\n",
       "      <td>2020-05-11 22:04:30</td>\n",
       "      <td>7 days 01:36:02</td>\n",
       "      <td>not_pass</td>\n",
       "    </tr>\n",
       "  </tbody>\n",
       "</table>\n",
       "<p>7759 rows × 5 columns</p>\n",
       "</div>"
      ],
      "text/plain": [
       "                                   user_id      event_datetime  \\\n",
       "0     0001f83c-c6ac-4621-b7f0-8a28b283ac30 2020-05-06 01:07:37   \n",
       "1     00151b4f-ba38-44a8-a650-d7cf130a0105 2020-05-06 03:09:12   \n",
       "2     001aaea6-3d14-43f1-8ca8-7f48820f17aa 2020-05-05 18:08:52   \n",
       "3     002f508f-67b6-479f-814b-b05f00d4e995 2020-05-05 13:49:58   \n",
       "4     003b80c6-4164-4157-bb2a-03d0181d39c4 2020-05-04 09:10:22   \n",
       "...                                    ...                 ...   \n",
       "7754  ffbd2858-ded0-487a-be48-723044a1a742 2020-05-08 03:04:08   \n",
       "7755  ffcf62ae-0992-47ea-a010-2667ee0e7f23 2020-05-04 06:58:51   \n",
       "7756  ffd3469d-fb9e-49d8-84fe-c1a1aaf4b3b7 2020-05-05 20:06:47   \n",
       "7757  fffab3da-da0e-4e30-ae62-10d0a2e24a4e 2020-05-04 11:58:14   \n",
       "7758  ffff194a-56b7-4c12-860d-3485242ae7f5 2020-05-04 20:28:28   \n",
       "\n",
       "          event_datetime       level_time pass_type  \n",
       "0    2020-05-20 11:26:06 14 days 10:18:29  not_pass  \n",
       "1    2020-05-18 10:46:52 12 days 07:37:40  not_pass  \n",
       "2    2020-05-14 09:21:27  8 days 15:12:35  not_pass  \n",
       "3    2020-05-22 02:46:45 16 days 12:56:47  not_pass  \n",
       "4    2020-05-12 15:23:37  8 days 06:13:15  not_pass  \n",
       "...                  ...              ...       ...  \n",
       "7754 2020-05-25 23:35:46 17 days 20:31:38  not_pass  \n",
       "7755 2020-05-21 00:59:06 16 days 18:00:15  not_pass  \n",
       "7756 2020-05-14 20:03:35  8 days 23:56:48  not_pass  \n",
       "7757 2020-05-14 10:11:36  9 days 22:13:22  not_pass  \n",
       "7758 2020-05-11 22:04:30  7 days 01:36:02  not_pass  \n",
       "\n",
       "[7759 rows x 5 columns]"
      ]
     },
     "execution_count": 40,
     "metadata": {},
     "output_type": "execute_result"
    }
   ],
   "source": [
    "time_not_pass_level['pass_type']=\"not_pass\"\n",
    "time_not_pass_level = time_not_pass_level.reset_index()\n",
    "time_not_pass_level"
   ]
  },
  {
   "cell_type": "markdown",
   "metadata": {},
   "source": [
    "Обнаружилось 57 пользователей, которые били зарегистрированы в системе, построили одно здание и больше не появлялись, поэтому минимальное время в игре пользователей, не завершивших уровень, - 0 дней 00:00:00. В среднем же игроки проводят в игре 9 дней 18 часов 54 минуты. Считаю, что имеет смысл задуматься о сокращении времени прохождения уровня, чтобы больше людей были заинтересованы в продолжении игры, а не уходили, так и не дождавшись перехода на следующий уровень."
   ]
  },
  {
   "cell_type": "markdown",
   "metadata": {},
   "source": [
    "Посмотрим сколько времени тратят игроки в зависимости от способа прохождения уровня."
   ]
  },
  {
   "cell_type": "code",
   "execution_count": 41,
   "metadata": {},
   "outputs": [
    {
     "data": {
      "text/html": [
       "<div>\n",
       "<style scoped>\n",
       "    .dataframe tbody tr th:only-of-type {\n",
       "        vertical-align: middle;\n",
       "    }\n",
       "\n",
       "    .dataframe tbody tr th {\n",
       "        vertical-align: top;\n",
       "    }\n",
       "\n",
       "    .dataframe thead th {\n",
       "        text-align: right;\n",
       "    }\n",
       "</style>\n",
       "<table border=\"1\" class=\"dataframe\">\n",
       "  <thead>\n",
       "    <tr style=\"text-align: right;\">\n",
       "      <th></th>\n",
       "      <th>user</th>\n",
       "      <th>first_event_time</th>\n",
       "      <th>last_event_time</th>\n",
       "      <th>level_time</th>\n",
       "    </tr>\n",
       "  </thead>\n",
       "  <tbody>\n",
       "    <tr>\n",
       "      <th>62</th>\n",
       "      <td>03990bc0-47b6-44ce-9f8b-3afb1a97d0e7</td>\n",
       "      <td>2020-05-07 16:40:32</td>\n",
       "      <td>2020-05-08 02:19:33</td>\n",
       "      <td>0 days 09:39:01</td>\n",
       "    </tr>\n",
       "    <tr>\n",
       "      <th>3179</th>\n",
       "      <td>ced7b368-818f-48f6-9461-2346de0892c5</td>\n",
       "      <td>2020-05-04 00:13:21</td>\n",
       "      <td>2020-05-04 19:47:29</td>\n",
       "      <td>0 days 19:34:08</td>\n",
       "    </tr>\n",
       "    <tr>\n",
       "      <th>3080</th>\n",
       "      <td>c8180f71-68dc-4fd5-ba6e-ba5f5d0d28f7</td>\n",
       "      <td>2020-05-08 16:08:29</td>\n",
       "      <td>2020-05-09 11:52:33</td>\n",
       "      <td>0 days 19:44:04</td>\n",
       "    </tr>\n",
       "    <tr>\n",
       "      <th>547</th>\n",
       "      <td>2204ae7f-892b-494d-bd58-28816ff35eb5</td>\n",
       "      <td>2020-05-07 02:25:27</td>\n",
       "      <td>2020-05-08 01:02:51</td>\n",
       "      <td>0 days 22:37:24</td>\n",
       "    </tr>\n",
       "    <tr>\n",
       "      <th>693</th>\n",
       "      <td>2ab1cc5a-413a-408e-ba76-01de8e12bead</td>\n",
       "      <td>2020-05-05 13:25:04</td>\n",
       "      <td>2020-05-06 13:43:12</td>\n",
       "      <td>1 days 00:18:08</td>\n",
       "    </tr>\n",
       "  </tbody>\n",
       "</table>\n",
       "</div>"
      ],
      "text/plain": [
       "                                      user    first_event_time  \\\n",
       "62    03990bc0-47b6-44ce-9f8b-3afb1a97d0e7 2020-05-07 16:40:32   \n",
       "3179  ced7b368-818f-48f6-9461-2346de0892c5 2020-05-04 00:13:21   \n",
       "3080  c8180f71-68dc-4fd5-ba6e-ba5f5d0d28f7 2020-05-08 16:08:29   \n",
       "547   2204ae7f-892b-494d-bd58-28816ff35eb5 2020-05-07 02:25:27   \n",
       "693   2ab1cc5a-413a-408e-ba76-01de8e12bead 2020-05-05 13:25:04   \n",
       "\n",
       "         last_event_time      level_time  \n",
       "62   2020-05-08 02:19:33 0 days 09:39:01  \n",
       "3179 2020-05-04 19:47:29 0 days 19:34:08  \n",
       "3080 2020-05-09 11:52:33 0 days 19:44:04  \n",
       "547  2020-05-08 01:02:51 0 days 22:37:24  \n",
       "693  2020-05-06 13:43:12 1 days 00:18:08  "
      ]
     },
     "metadata": {},
     "output_type": "display_data"
    }
   ],
   "source": [
    "user_pass_project = game.query('event==\"project\"')['user_id']\n",
    "user_finished = game.query('event==\"finished_stage_1\"')['user_id']\n",
    "user_pass_pvp = game.query('user_id in @user_finished & user_id not in @user_pass_project')\n",
    "user_pass_pvp_time = user_pass_pvp.groupby('user_id').agg({'event_datetime':['min','max']})\n",
    "\n",
    "get_info_time(user_pass_pvp_time)"
   ]
  },
  {
   "cell_type": "code",
   "execution_count": 42,
   "metadata": {},
   "outputs": [
    {
     "name": "stdout",
     "output_type": "stream",
     "text": [
      "\n",
      "Минимальное время прохождения уровня: 0 days 09:39:01 \n",
      "Максимальное время прохождения уровня: 30 days 21:58:53 \n",
      "Среднее время в игре: 11 days 02:30:24.076183244 \n",
      "Медианное время в игре: 10 days 19:01:37\n"
     ]
    },
    {
     "data": {
      "text/html": [
       "<div>\n",
       "<style scoped>\n",
       "    .dataframe tbody tr th:only-of-type {\n",
       "        vertical-align: middle;\n",
       "    }\n",
       "\n",
       "    .dataframe tbody tr th {\n",
       "        vertical-align: top;\n",
       "    }\n",
       "\n",
       "    .dataframe thead th {\n",
       "        text-align: right;\n",
       "    }\n",
       "</style>\n",
       "<table border=\"1\" class=\"dataframe\">\n",
       "  <thead>\n",
       "    <tr style=\"text-align: right;\">\n",
       "      <th></th>\n",
       "      <th>user_id</th>\n",
       "      <th>event_datetime</th>\n",
       "      <th>event_datetime</th>\n",
       "      <th>level_time</th>\n",
       "      <th>pass_type</th>\n",
       "    </tr>\n",
       "  </thead>\n",
       "  <tbody>\n",
       "    <tr>\n",
       "      <th>0</th>\n",
       "      <td>001d39dc-366c-4021-9604-6a3b9ff01e25</td>\n",
       "      <td>2020-05-05 21:02:05</td>\n",
       "      <td>2020-05-12 07:40:47</td>\n",
       "      <td>6 days 10:38:42</td>\n",
       "      <td>pvp</td>\n",
       "    </tr>\n",
       "    <tr>\n",
       "      <th>1</th>\n",
       "      <td>003ee7e8-6356-4286-a715-62f22a18d2a1</td>\n",
       "      <td>2020-05-05 08:31:04</td>\n",
       "      <td>2020-05-17 21:47:49</td>\n",
       "      <td>12 days 13:16:45</td>\n",
       "      <td>pvp</td>\n",
       "    </tr>\n",
       "    <tr>\n",
       "      <th>2</th>\n",
       "      <td>004074f8-251a-4776-922c-8348dca1a2f6</td>\n",
       "      <td>2020-05-04 01:07:35</td>\n",
       "      <td>2020-05-16 19:57:40</td>\n",
       "      <td>12 days 18:50:05</td>\n",
       "      <td>pvp</td>\n",
       "    </tr>\n",
       "    <tr>\n",
       "      <th>3</th>\n",
       "      <td>00464e5e-28ed-4be6-bf44-517ef7b3937b</td>\n",
       "      <td>2020-05-04 08:35:29</td>\n",
       "      <td>2020-05-15 16:02:01</td>\n",
       "      <td>11 days 07:26:32</td>\n",
       "      <td>pvp</td>\n",
       "    </tr>\n",
       "    <tr>\n",
       "      <th>4</th>\n",
       "      <td>0056c007-c082-43cc-bdef-afc49bca4cb9</td>\n",
       "      <td>2020-05-10 11:49:47</td>\n",
       "      <td>2020-05-16 13:48:39</td>\n",
       "      <td>6 days 01:58:52</td>\n",
       "      <td>pvp</td>\n",
       "    </tr>\n",
       "    <tr>\n",
       "      <th>...</th>\n",
       "      <td>...</td>\n",
       "      <td>...</td>\n",
       "      <td>...</td>\n",
       "      <td>...</td>\n",
       "      <td>...</td>\n",
       "    </tr>\n",
       "    <tr>\n",
       "      <th>3946</th>\n",
       "      <td>ffc6f4fa-3476-47af-85cb-e2ee0551110a</td>\n",
       "      <td>2020-05-04 03:59:12</td>\n",
       "      <td>2020-05-15 12:18:42</td>\n",
       "      <td>11 days 08:19:30</td>\n",
       "      <td>pvp</td>\n",
       "    </tr>\n",
       "    <tr>\n",
       "      <th>3947</th>\n",
       "      <td>ffd002f3-3545-423e-8dba-0c6a2d48a3aa</td>\n",
       "      <td>2020-05-06 06:34:18</td>\n",
       "      <td>2020-05-19 04:03:24</td>\n",
       "      <td>12 days 21:29:06</td>\n",
       "      <td>pvp</td>\n",
       "    </tr>\n",
       "    <tr>\n",
       "      <th>3948</th>\n",
       "      <td>ffe810f4-1a1f-464b-924d-6f120b0cb8df</td>\n",
       "      <td>2020-05-04 17:46:05</td>\n",
       "      <td>2020-05-18 02:03:36</td>\n",
       "      <td>13 days 08:17:31</td>\n",
       "      <td>pvp</td>\n",
       "    </tr>\n",
       "    <tr>\n",
       "      <th>3949</th>\n",
       "      <td>ffef4fed-164c-40e1-bde1-3980f76d0fb5</td>\n",
       "      <td>2020-05-04 01:58:59</td>\n",
       "      <td>2020-05-11 22:15:54</td>\n",
       "      <td>7 days 20:16:55</td>\n",
       "      <td>pvp</td>\n",
       "    </tr>\n",
       "    <tr>\n",
       "      <th>3950</th>\n",
       "      <td>fffb626c-5ab6-47c9-8113-2062a2f18494</td>\n",
       "      <td>2020-05-04 02:05:09</td>\n",
       "      <td>2020-05-12 13:01:52</td>\n",
       "      <td>8 days 10:56:43</td>\n",
       "      <td>pvp</td>\n",
       "    </tr>\n",
       "  </tbody>\n",
       "</table>\n",
       "<p>3951 rows × 5 columns</p>\n",
       "</div>"
      ],
      "text/plain": [
       "                                   user_id      event_datetime  \\\n",
       "0     001d39dc-366c-4021-9604-6a3b9ff01e25 2020-05-05 21:02:05   \n",
       "1     003ee7e8-6356-4286-a715-62f22a18d2a1 2020-05-05 08:31:04   \n",
       "2     004074f8-251a-4776-922c-8348dca1a2f6 2020-05-04 01:07:35   \n",
       "3     00464e5e-28ed-4be6-bf44-517ef7b3937b 2020-05-04 08:35:29   \n",
       "4     0056c007-c082-43cc-bdef-afc49bca4cb9 2020-05-10 11:49:47   \n",
       "...                                    ...                 ...   \n",
       "3946  ffc6f4fa-3476-47af-85cb-e2ee0551110a 2020-05-04 03:59:12   \n",
       "3947  ffd002f3-3545-423e-8dba-0c6a2d48a3aa 2020-05-06 06:34:18   \n",
       "3948  ffe810f4-1a1f-464b-924d-6f120b0cb8df 2020-05-04 17:46:05   \n",
       "3949  ffef4fed-164c-40e1-bde1-3980f76d0fb5 2020-05-04 01:58:59   \n",
       "3950  fffb626c-5ab6-47c9-8113-2062a2f18494 2020-05-04 02:05:09   \n",
       "\n",
       "          event_datetime       level_time pass_type  \n",
       "0    2020-05-12 07:40:47  6 days 10:38:42       pvp  \n",
       "1    2020-05-17 21:47:49 12 days 13:16:45       pvp  \n",
       "2    2020-05-16 19:57:40 12 days 18:50:05       pvp  \n",
       "3    2020-05-15 16:02:01 11 days 07:26:32       pvp  \n",
       "4    2020-05-16 13:48:39  6 days 01:58:52       pvp  \n",
       "...                  ...              ...       ...  \n",
       "3946 2020-05-15 12:18:42 11 days 08:19:30       pvp  \n",
       "3947 2020-05-19 04:03:24 12 days 21:29:06       pvp  \n",
       "3948 2020-05-18 02:03:36 13 days 08:17:31       pvp  \n",
       "3949 2020-05-11 22:15:54  7 days 20:16:55       pvp  \n",
       "3950 2020-05-12 13:01:52  8 days 10:56:43       pvp  \n",
       "\n",
       "[3951 rows x 5 columns]"
      ]
     },
     "execution_count": 42,
     "metadata": {},
     "output_type": "execute_result"
    }
   ],
   "source": [
    "print_min_max_mean_median_time(user_pass_pvp_time, 'level_time')\n",
    "user_pass_pvp_time['pass_type']= \"pvp\"\n",
    "user_pass_pvp_time = user_pass_pvp_time.reset_index()\n",
    "user_pass_pvp_time"
   ]
  },
  {
   "cell_type": "markdown",
   "metadata": {},
   "source": [
    "Среднее время прохождения уровня путем победы над другим пользователем 11 дней 2 часа 30 минут. Минимальное время - 9 часов 39 минут, максимальное 30 дней 21 час 58 минут."
   ]
  },
  {
   "cell_type": "code",
   "execution_count": 43,
   "metadata": {},
   "outputs": [
    {
     "data": {
      "text/html": [
       "<div>\n",
       "<style scoped>\n",
       "    .dataframe tbody tr th:only-of-type {\n",
       "        vertical-align: middle;\n",
       "    }\n",
       "\n",
       "    .dataframe tbody tr th {\n",
       "        vertical-align: top;\n",
       "    }\n",
       "\n",
       "    .dataframe thead th {\n",
       "        text-align: right;\n",
       "    }\n",
       "</style>\n",
       "<table border=\"1\" class=\"dataframe\">\n",
       "  <thead>\n",
       "    <tr style=\"text-align: right;\">\n",
       "      <th></th>\n",
       "      <th>user</th>\n",
       "      <th>first_event_time</th>\n",
       "      <th>last_event_time</th>\n",
       "      <th>level_time</th>\n",
       "    </tr>\n",
       "  </thead>\n",
       "  <tbody>\n",
       "    <tr>\n",
       "      <th>723</th>\n",
       "      <td>60653d96-bad2-4042-96c1-daa71fb03955</td>\n",
       "      <td>2020-05-06 22:33:34</td>\n",
       "      <td>2020-05-12 01:56:01</td>\n",
       "      <td>5 days 03:22:27</td>\n",
       "    </tr>\n",
       "    <tr>\n",
       "      <th>293</th>\n",
       "      <td>24ceb32a-4906-43a5-9712-ecc47f6a7543</td>\n",
       "      <td>2020-05-06 06:47:34</td>\n",
       "      <td>2020-05-11 14:09:50</td>\n",
       "      <td>5 days 07:22:16</td>\n",
       "    </tr>\n",
       "    <tr>\n",
       "      <th>1145</th>\n",
       "      <td>99bb57ef-0737-47db-85f0-1eadd7759d27</td>\n",
       "      <td>2020-05-06 06:57:02</td>\n",
       "      <td>2020-05-11 21:13:15</td>\n",
       "      <td>5 days 14:16:13</td>\n",
       "    </tr>\n",
       "    <tr>\n",
       "      <th>1179</th>\n",
       "      <td>9e57e5bb-49f4-4efb-991c-747d7a88e446</td>\n",
       "      <td>2020-05-04 12:13:36</td>\n",
       "      <td>2020-05-10 02:37:50</td>\n",
       "      <td>5 days 14:24:14</td>\n",
       "    </tr>\n",
       "    <tr>\n",
       "      <th>70</th>\n",
       "      <td>08425f93-aaca-40a7-97d0-7ff4be09b990</td>\n",
       "      <td>2020-05-05 13:21:12</td>\n",
       "      <td>2020-05-11 08:50:17</td>\n",
       "      <td>5 days 19:29:05</td>\n",
       "    </tr>\n",
       "  </tbody>\n",
       "</table>\n",
       "</div>"
      ],
      "text/plain": [
       "                                      user    first_event_time  \\\n",
       "723   60653d96-bad2-4042-96c1-daa71fb03955 2020-05-06 22:33:34   \n",
       "293   24ceb32a-4906-43a5-9712-ecc47f6a7543 2020-05-06 06:47:34   \n",
       "1145  99bb57ef-0737-47db-85f0-1eadd7759d27 2020-05-06 06:57:02   \n",
       "1179  9e57e5bb-49f4-4efb-991c-747d7a88e446 2020-05-04 12:13:36   \n",
       "70    08425f93-aaca-40a7-97d0-7ff4be09b990 2020-05-05 13:21:12   \n",
       "\n",
       "         last_event_time      level_time  \n",
       "723  2020-05-12 01:56:01 5 days 03:22:27  \n",
       "293  2020-05-11 14:09:50 5 days 07:22:16  \n",
       "1145 2020-05-11 21:13:15 5 days 14:16:13  \n",
       "1179 2020-05-10 02:37:50 5 days 14:24:14  \n",
       "70   2020-05-11 08:50:17 5 days 19:29:05  "
      ]
     },
     "metadata": {},
     "output_type": "display_data"
    }
   ],
   "source": [
    "user_pass_project_df = game.query('user_id in @user_pass_project')\n",
    "user_pass_project_time = user_pass_project_df.groupby('user_id').agg({'event_datetime':['min','max']})\n",
    "\n",
    "get_info_time(user_pass_project_time)"
   ]
  },
  {
   "cell_type": "code",
   "execution_count": 44,
   "metadata": {},
   "outputs": [
    {
     "name": "stdout",
     "output_type": "stream",
     "text": [
      "\n",
      "Минимальное время прохождения уровня: 5 days 03:22:27 \n",
      "Максимальное время прохождения уровня: 29 days 03:13:43 \n",
      "Среднее время в игре: 13 days 11:00:49.135048231 \n",
      "Медианное время в игре: 13 days 00:45:41\n"
     ]
    }
   ],
   "source": [
    "print_min_max_mean_median_time(user_pass_project_time, 'level_time')"
   ]
  },
  {
   "cell_type": "code",
   "execution_count": 45,
   "metadata": {},
   "outputs": [],
   "source": [
    "user_pass_project_time['pass_type'] = \"project\"\n",
    "user_pass_project_time=user_pass_project_time.reset_index()"
   ]
  },
  {
   "cell_type": "code",
   "execution_count": 46,
   "metadata": {},
   "outputs": [],
   "source": [
    "user_pass_time = user_pass_project_time.append(user_pass_pvp_time, ignore_index = True ) "
   ]
  },
  {
   "cell_type": "code",
   "execution_count": 47,
   "metadata": {},
   "outputs": [],
   "source": [
    "user_pass_time = user_pass_time.append(time_not_pass_level, ignore_index = True )\n",
    "user_pass_time['level_time'] = user_pass_time['level_time'].dt.days"
   ]
  },
  {
   "cell_type": "code",
   "execution_count": 48,
   "metadata": {},
   "outputs": [
    {
     "data": {
      "image/png": "[encoded data removed]",
      "text/plain": [
       "<Figure size 800x640 with 1 Axes>"
      ]
     },
     "metadata": {},
     "output_type": "display_data"
    }
   ],
   "source": [
    "plt.figure(figsize=(10, 8), dpi=80)\n",
    "plt.title(\"Распределение игроков по времени, проведенному  в игре\");\n",
    "plt.xlabel('Дни в игре')\n",
    "plt.ylabel('Количество игроков')\n",
    "sns.histplot(data=user_pass_time, x='level_time', hue='pass_type', bins=30);"
   ]
  },
  {
   "cell_type": "markdown",
   "metadata": {},
   "source": [
    "Среднее время для победы в 1 уровне через реализацию проекта - 13 дней 11 часов, что на 3 дня дольше, чем через победу над другим игроком."
   ]
  },
  {
   "cell_type": "markdown",
   "metadata": {},
   "source": [
    "Вывод:\n",
    "   - среднее время на прохождение уровня через впв: 11 дней 2 часа 30 минут;\n",
    "   - среднее время на прохождение уровня через проект: 13 дней 11 часов;\n",
    "   - игроки не завершившые первый уровень уходят в среднем через 9 дней 18 часов 54 минуты;\n",
    "   - минимальное время завершения уровня через пвп - 9 часов 39 минут, через проект - 5 дней 3 часа;\n",
    "   - максимальное время завершения уровня через пвп - 30 дней 21 час, через проект - 29 дней 3 часа."
   ]
  },
  {
   "cell_type": "markdown",
   "metadata": {},
   "source": [
    "### Расчет среднего количества зданий, необходимых для завершения уровня"
   ]
  },
  {
   "cell_type": "code",
   "execution_count": 49,
   "metadata": {},
   "outputs": [
    {
     "name": "stdout",
     "output_type": "stream",
     "text": [
      "Среднее количество зданий, необходимых для завершения уровня: 10\n"
     ]
    }
   ],
   "source": [
    "building_pass_level = game.query('user_id in @user_pass & event==\"building\"').groupby('user_id').agg({'event':'count'})\n",
    "\n",
    "print('Среднее количество зданий, необходимых для завершения уровня:', round(building_pass_level['event'].mean()))"
   ]
  },
  {
   "cell_type": "code",
   "execution_count": 50,
   "metadata": {
    "scrolled": false
   },
   "outputs": [
    {
     "data": {
      "image/png": "[encoded data removed]",
      "text/plain": [
       "<Figure size 640x480 with 1 Axes>"
      ]
     },
     "metadata": {},
     "output_type": "display_data"
    }
   ],
   "source": [
    "plt.figure(figsize=(8, 6), dpi=80)\n",
    "plt.hist(building_pass_level['event'], edgecolor='black', range=[1, 22], bins = 22)\n",
    "plt.title('Распределение построек по количеству пользователей, прошедших 1 уровень')\n",
    "plt.xlabel('Количество построек')\n",
    "plt.ylabel('Количество пользователей');"
   ]
  },
  {
   "cell_type": "markdown",
   "metadata": {},
   "source": [
    "Получается, что в среднем победители первого уровня строят 10 зданий. Распределение ненормальное. Мы видим провал на уровне 6 зданий. Посмотрим сколько зданий строят пользователи, не завершившие уровень."
   ]
  },
  {
   "cell_type": "code",
   "execution_count": 51,
   "metadata": {},
   "outputs": [
    {
     "name": "stdout",
     "output_type": "stream",
     "text": [
      "Среднее количество зданий, построенных пользователями, не завершившими уровень: 9\n"
     ]
    }
   ],
   "source": [
    "building_not_pass_level = game.query('user_id not in @user_pass & event==\"building\"').groupby('user_id').agg({'event':'count'})\n",
    "\n",
    "print('Среднее количество зданий, построенных пользователями, не завершившими уровень:', round(building_not_pass_level['event'].mean()))"
   ]
  },
  {
   "cell_type": "code",
   "execution_count": 52,
   "metadata": {},
   "outputs": [
    {
     "data": {
      "image/png": "[encoded data removed]",
      "text/plain": [
       "<Figure size 640x480 with 1 Axes>"
      ]
     },
     "metadata": {},
     "output_type": "display_data"
    }
   ],
   "source": [
    "plt.figure(figsize=(8, 6), dpi=80)\n",
    "plt.hist(building_not_pass_level['event'], edgecolor='black', range=[1, 22], bins = 20)\n",
    "plt.title('Распределение построек по количеству пользователей, не прошедших 1 уровень')\n",
    "plt.xlabel('Количество построек')\n",
    "plt.ylabel('Количество пользователей');"
   ]
  },
  {
   "cell_type": "markdown",
   "metadata": {},
   "source": [
    "В среднем, зданий у игроков, не дошедших до финала 1 уровня, зданий на 1 меньше чем у тех, кто завершил уровень - 9 постоенных зданий."
   ]
  },
  {
   "cell_type": "markdown",
   "metadata": {},
   "source": [
    "**В среднем, для завершения уровня необходимо построить 10 зданий.**"
   ]
  },
  {
   "cell_type": "markdown",
   "metadata": {},
   "source": [
    "### Расчет количества пользователей в разрезе источника трафика"
   ]
  },
  {
   "cell_type": "code",
   "execution_count": 53,
   "metadata": {},
   "outputs": [
    {
     "data": {
      "text/html": [
       "<div>\n",
       "<style scoped>\n",
       "    .dataframe tbody tr th:only-of-type {\n",
       "        vertical-align: middle;\n",
       "    }\n",
       "\n",
       "    .dataframe tbody tr th {\n",
       "        vertical-align: top;\n",
       "    }\n",
       "\n",
       "    .dataframe thead th {\n",
       "        text-align: right;\n",
       "    }\n",
       "</style>\n",
       "<table border=\"1\" class=\"dataframe\">\n",
       "  <thead>\n",
       "    <tr style=\"text-align: right;\">\n",
       "      <th></th>\n",
       "      <th>source</th>\n",
       "      <th>users</th>\n",
       "    </tr>\n",
       "  </thead>\n",
       "  <tbody>\n",
       "    <tr>\n",
       "      <th>2</th>\n",
       "      <td>yandex_direct</td>\n",
       "      <td>4817</td>\n",
       "    </tr>\n",
       "    <tr>\n",
       "      <th>1</th>\n",
       "      <td>instagram_new_adverts</td>\n",
       "      <td>3347</td>\n",
       "    </tr>\n",
       "    <tr>\n",
       "      <th>0</th>\n",
       "      <td>facebook_ads</td>\n",
       "      <td>2726</td>\n",
       "    </tr>\n",
       "    <tr>\n",
       "      <th>3</th>\n",
       "      <td>youtube_channel_reklama</td>\n",
       "      <td>2686</td>\n",
       "    </tr>\n",
       "  </tbody>\n",
       "</table>\n",
       "</div>"
      ],
      "text/plain": [
       "                    source  users\n",
       "2            yandex_direct   4817\n",
       "1    instagram_new_adverts   3347\n",
       "0             facebook_ads   2726\n",
       "3  youtube_channel_reklama   2686"
      ]
     },
     "execution_count": 53,
     "metadata": {},
     "output_type": "execute_result"
    }
   ],
   "source": [
    "users_by_source = source.groupby('source').agg({'user_id':'count'}).reset_index().sort_values(by='user_id', ascending=False)\n",
    "users_by_source.columns = users_by_source.columns.str.replace('user_id', 'users')\n",
    "users_by_source"
   ]
  },
  {
   "cell_type": "code",
   "execution_count": 54,
   "metadata": {},
   "outputs": [
    {
     "data": {
      "image/png": "[encoded data removed]",
      "text/plain": [
       "<Figure size 1000x500 with 1 Axes>"
      ]
     },
     "metadata": {},
     "output_type": "display_data"
    }
   ],
   "source": [
    "# назначаем размер графика\n",
    "plt.figure(figsize=(10, 5))\n",
    "# строим столбчатый график средствами seaborn\n",
    "sns.barplot(x='source',y='users', data=users_by_source);\n",
    "# формируем заголовок графика и подписи осей средствами matplotlib\n",
    "plt.title('Распределение игроков по каналам')\n",
    "plt.xlabel('Канал')\n",
    "plt.ylabel('Количество игроков')\n",
    "# поворачиваем подписи значений по оси X на 45 градусов\n",
    "plt.xticks(rotation=45)\n",
    "plt.show()"
   ]
  },
  {
   "cell_type": "markdown",
   "metadata": {},
   "source": [
    "Больше всего пользователей пришло от канала yandex_direct -4 817 пользователей. Меньше всего youtube_channel_reklama -2686, что практически на одном уровне с facebook_ads."
   ]
  },
  {
   "cell_type": "markdown",
   "metadata": {},
   "source": [
    "### Расчет стоимости одного перехода для каждого рекламного канала за весь период"
   ]
  },
  {
   "cell_type": "markdown",
   "metadata": {},
   "source": [
    "Посмотрим на общие затраты по каналам."
   ]
  },
  {
   "cell_type": "code",
   "execution_count": 55,
   "metadata": {},
   "outputs": [
    {
     "data": {
      "text/html": [
       "<div>\n",
       "<style scoped>\n",
       "    .dataframe tbody tr th:only-of-type {\n",
       "        vertical-align: middle;\n",
       "    }\n",
       "\n",
       "    .dataframe tbody tr th {\n",
       "        vertical-align: top;\n",
       "    }\n",
       "\n",
       "    .dataframe thead th {\n",
       "        text-align: right;\n",
       "    }\n",
       "</style>\n",
       "<table border=\"1\" class=\"dataframe\">\n",
       "  <thead>\n",
       "    <tr style=\"text-align: right;\">\n",
       "      <th></th>\n",
       "      <th>source</th>\n",
       "      <th>cost</th>\n",
       "    </tr>\n",
       "  </thead>\n",
       "  <tbody>\n",
       "    <tr>\n",
       "      <th>2</th>\n",
       "      <td>yandex_direct</td>\n",
       "      <td>2233.11</td>\n",
       "    </tr>\n",
       "    <tr>\n",
       "      <th>1</th>\n",
       "      <td>instagram_new_adverts</td>\n",
       "      <td>2161.44</td>\n",
       "    </tr>\n",
       "    <tr>\n",
       "      <th>0</th>\n",
       "      <td>facebook_ads</td>\n",
       "      <td>2140.90</td>\n",
       "    </tr>\n",
       "    <tr>\n",
       "      <th>3</th>\n",
       "      <td>youtube_channel_reklama</td>\n",
       "      <td>1068.12</td>\n",
       "    </tr>\n",
       "  </tbody>\n",
       "</table>\n",
       "</div>"
      ],
      "text/plain": [
       "                    source    cost\n",
       "2            yandex_direct 2233.11\n",
       "1    instagram_new_adverts 2161.44\n",
       "0             facebook_ads 2140.90\n",
       "3  youtube_channel_reklama 1068.12"
      ]
     },
     "execution_count": 55,
     "metadata": {},
     "output_type": "execute_result"
    }
   ],
   "source": [
    "ad_cost_by_source = ads.groupby('source').agg({'cost':'sum'}).reset_index().sort_values(by='cost', ascending=False)\n",
    "ad_cost_by_source"
   ]
  },
  {
   "cell_type": "code",
   "execution_count": 56,
   "metadata": {},
   "outputs": [
    {
     "data": {
      "image/png": "[encoded data removed]",
      "text/plain": [
       "<Figure size 1000x500 with 1 Axes>"
      ]
     },
     "metadata": {},
     "output_type": "display_data"
    }
   ],
   "source": [
    "# назначаем размер графика\n",
    "plt.figure(figsize=(10, 5))\n",
    "# строим столбчатый график средствами seaborn\n",
    "sns.barplot(x='source',y='cost', data=ad_cost_by_source);\n",
    "# формируем заголовок графика и подписи осей средствами matplotlib\n",
    "plt.title('Распределение суммарных затрат по каналам')\n",
    "plt.xlabel('Канал')\n",
    "plt.ylabel('Сумма затрат')\n",
    "# поворачиваем подписи значений по оси X на 45 градусов\n",
    "plt.xticks(rotation=45)\n",
    "plt.show()"
   ]
  },
  {
   "cell_type": "markdown",
   "metadata": {},
   "source": [
    "Больше всего денег было направлено на канал `yandex_direct` - 2233.11, `instagram_new_adverts` и `facebook_ads` получили немного меньше `yandex_direct`, меньше всего денег ушло на `youtube_channel_reklama` - 1068.12"
   ]
  },
  {
   "cell_type": "code",
   "execution_count": 57,
   "metadata": {},
   "outputs": [
    {
     "data": {
      "text/html": [
       "<div>\n",
       "<style scoped>\n",
       "    .dataframe tbody tr th:only-of-type {\n",
       "        vertical-align: middle;\n",
       "    }\n",
       "\n",
       "    .dataframe tbody tr th {\n",
       "        vertical-align: top;\n",
       "    }\n",
       "\n",
       "    .dataframe thead th {\n",
       "        text-align: right;\n",
       "    }\n",
       "</style>\n",
       "<table border=\"1\" class=\"dataframe\">\n",
       "  <thead>\n",
       "    <tr style=\"text-align: right;\">\n",
       "      <th></th>\n",
       "      <th>source</th>\n",
       "      <th>cost</th>\n",
       "      <th>users</th>\n",
       "      <th>cost_per_user</th>\n",
       "    </tr>\n",
       "  </thead>\n",
       "  <tbody>\n",
       "    <tr>\n",
       "      <th>2</th>\n",
       "      <td>facebook_ads</td>\n",
       "      <td>2140.90</td>\n",
       "      <td>2726.00</td>\n",
       "      <td>0.79</td>\n",
       "    </tr>\n",
       "    <tr>\n",
       "      <th>1</th>\n",
       "      <td>instagram_new_adverts</td>\n",
       "      <td>2161.44</td>\n",
       "      <td>3347.00</td>\n",
       "      <td>0.65</td>\n",
       "    </tr>\n",
       "    <tr>\n",
       "      <th>0</th>\n",
       "      <td>yandex_direct</td>\n",
       "      <td>2233.11</td>\n",
       "      <td>4817.00</td>\n",
       "      <td>0.46</td>\n",
       "    </tr>\n",
       "    <tr>\n",
       "      <th>3</th>\n",
       "      <td>youtube_channel_reklama</td>\n",
       "      <td>1068.12</td>\n",
       "      <td>2686.00</td>\n",
       "      <td>0.40</td>\n",
       "    </tr>\n",
       "    <tr>\n",
       "      <th>total</th>\n",
       "      <td>all_source</td>\n",
       "      <td>7603.58</td>\n",
       "      <td>13576.00</td>\n",
       "      <td>0.56</td>\n",
       "    </tr>\n",
       "  </tbody>\n",
       "</table>\n",
       "</div>"
      ],
      "text/plain": [
       "                        source    cost    users  cost_per_user\n",
       "2                 facebook_ads 2140.90  2726.00           0.79\n",
       "1        instagram_new_adverts 2161.44  3347.00           0.65\n",
       "0                yandex_direct 2233.11  4817.00           0.46\n",
       "3      youtube_channel_reklama 1068.12  2686.00           0.40\n",
       "total               all_source 7603.58 13576.00           0.56"
      ]
     },
     "execution_count": 57,
     "metadata": {},
     "output_type": "execute_result"
    }
   ],
   "source": [
    "# объединим таблицы с затратами на рекламу и количеством привлеченных пользователей по каналам\n",
    "ad_cost_by_source = ad_cost_by_source.merge(users_by_source)\n",
    "# добавим строку total, которая просуммирует значения в столбцах, исключив текстовые столбцы\n",
    "ad_cost_by_source.loc['total']= ad_cost_by_source.sum(numeric_only=True, axis=0)\n",
    "# заменим NaN в столбце 'source' на 'all_source'\n",
    "ad_cost_by_source['source'] = ad_cost_by_source['source'].fillna('all_source')\n",
    "# посчитаем стоимость одного пользователя, разделив столбец с рекламными тратами на столбец \n",
    "#с количеством привлеченных пользователей\n",
    "ad_cost_by_source['cost_per_user'] = ad_cost_by_source['cost']/ad_cost_by_source['users']\n",
    "# сделаем сортировку, применив лямбда выражение, чтобы строка total осталась внизу\n",
    "ad_cost_by_source.sort_values(by='cost_per_user', ascending=False, inplace=True,\n",
    "               key=lambda _: ad_cost_by_source.apply(lambda x: (x['source']!='all_source',x['cost_per_user']),1))\n",
    "ad_cost_by_source"
   ]
  },
  {
   "cell_type": "code",
   "execution_count": 58,
   "metadata": {},
   "outputs": [
    {
     "data": {
      "image/png": "[encoded data removed]",
      "text/plain": [
       "<Figure size 1000x500 with 1 Axes>"
      ]
     },
     "metadata": {},
     "output_type": "display_data"
    }
   ],
   "source": [
    "# назначаем размер графика\n",
    "plt.figure(figsize=(10, 5))\n",
    "# строим столбчатый график средствами seaborn\n",
    "sns.barplot(x='source',y='cost_per_user', data=ad_cost_by_source[:-1]);\n",
    "# формируем заголовок графика и подписи осей средствами matplotlib\n",
    "plt.title('Цена одного пользователя по каналам')\n",
    "plt.xlabel('Канал')\n",
    "plt.ylabel('Цена клика')\n",
    "# поворачиваем подписи значений по оси X на 45 градусов\n",
    "plt.xticks(rotation=45)\n",
    "plt.show()"
   ]
  },
  {
   "cell_type": "markdown",
   "metadata": {},
   "source": [
    " - Средняя цена за пользователя - 0, 56 у.е. \n",
    " - Самая высокая цена клика у `fasebook_ads` - 0,79 у.е. за пользователя. \n",
    " - Самая низкая - у `youtube_channel_reklama` 0,40 у.е. \n",
    " - У `yandex_direct`, приведшего 4 817 пользователей - 0,46 у.е. \n",
    "\n",
    "Стоит обратить внимание на канал `youtube_channel_reklama`, возможно стоит перераспределить затраты на рекламу в его пользу."
   ]
  },
  {
   "cell_type": "markdown",
   "metadata": {},
   "source": [
    "### Расчет прибыли для модели показа рекламы на экране выбора постройки"
   ]
  },
  {
   "cell_type": "code",
   "execution_count": 59,
   "metadata": {},
   "outputs": [],
   "source": [
    "def get_barplot_for_profit(df):\n",
    "    \n",
    "    '''функция для вывода столбчатой диаграммы прибыли по каналам привлечения'''\n",
    "    \n",
    "    # назначаем размер графика\n",
    "    plt.figure(figsize=(10, 5))\n",
    "    # строим столбчатый график средствами seaborn\n",
    "    sns.barplot(x='source',y='profit', data=df[:-1]);\n",
    "    # формируем заголовок графика и подписи осей средствами matplotlib\n",
    "    plt.title('Прибыль по каналам привлечения пользователей')\n",
    "    plt.xlabel('Канал')\n",
    "    plt.ylabel('Прибыль')\n",
    "    # поворачиваем подписи значений по оси X на 45 градусов\n",
    "    plt.xticks(rotation=45)\n",
    "    plt.show()"
   ]
  },
  {
   "cell_type": "markdown",
   "metadata": {},
   "source": [
    "#### Показ рекламы на каждом экране постройки"
   ]
  },
  {
   "cell_type": "markdown",
   "metadata": {},
   "source": [
    "Посмотрим сколько бы мы заработали, если бы показывали, как планируется, рекламу на каждом экране постройки здания. Сделаем сразу с разделением на источники привлечения пользователей и в общем."
   ]
  },
  {
   "cell_type": "code",
   "execution_count": 60,
   "metadata": {},
   "outputs": [
    {
     "data": {
      "text/html": [
       "<div>\n",
       "<style scoped>\n",
       "    .dataframe tbody tr th:only-of-type {\n",
       "        vertical-align: middle;\n",
       "    }\n",
       "\n",
       "    .dataframe tbody tr th {\n",
       "        vertical-align: top;\n",
       "    }\n",
       "\n",
       "    .dataframe thead th {\n",
       "        text-align: right;\n",
       "    }\n",
       "</style>\n",
       "<table border=\"1\" class=\"dataframe\">\n",
       "  <thead>\n",
       "    <tr style=\"text-align: right;\">\n",
       "      <th></th>\n",
       "      <th>source</th>\n",
       "      <th>event</th>\n",
       "      <th>income</th>\n",
       "    </tr>\n",
       "  </thead>\n",
       "  <tbody>\n",
       "    <tr>\n",
       "      <th>2</th>\n",
       "      <td>yandex_direct</td>\n",
       "      <td>45032.00</td>\n",
       "      <td>3152.24</td>\n",
       "    </tr>\n",
       "    <tr>\n",
       "      <th>1</th>\n",
       "      <td>instagram_new_adverts</td>\n",
       "      <td>31815.00</td>\n",
       "      <td>2227.05</td>\n",
       "    </tr>\n",
       "    <tr>\n",
       "      <th>0</th>\n",
       "      <td>facebook_ads</td>\n",
       "      <td>26131.00</td>\n",
       "      <td>1829.17</td>\n",
       "    </tr>\n",
       "    <tr>\n",
       "      <th>3</th>\n",
       "      <td>youtube_channel_reklama</td>\n",
       "      <td>24978.00</td>\n",
       "      <td>1748.46</td>\n",
       "    </tr>\n",
       "    <tr>\n",
       "      <th>total</th>\n",
       "      <td>all_source</td>\n",
       "      <td>127956.00</td>\n",
       "      <td>8956.92</td>\n",
       "    </tr>\n",
       "  </tbody>\n",
       "</table>\n",
       "</div>"
      ],
      "text/plain": [
       "                        source     event  income\n",
       "2                yandex_direct  45032.00 3152.24\n",
       "1        instagram_new_adverts  31815.00 2227.05\n",
       "0                 facebook_ads  26131.00 1829.17\n",
       "3      youtube_channel_reklama  24978.00 1748.46\n",
       "total               all_source 127956.00 8956.92"
      ]
     },
     "execution_count": 60,
     "metadata": {},
     "output_type": "execute_result"
    }
   ],
   "source": [
    "game_2 =game.merge(source, how='left', on='user_id')\n",
    "income = game_2.query('event==\"building\"').groupby('source').agg({'event':'count'}).reset_index().sort_values(by='event',ascending=False)\n",
    "income['income'] = income['event']*0.07\n",
    "income.loc['total']= income.sum(numeric_only=True, axis=0)\n",
    "income['source'] = income['source'].fillna('all_source')\n",
    "income"
   ]
  },
  {
   "cell_type": "markdown",
   "metadata": {},
   "source": [
    "Соединим таблицу затрат и таблицу дохода."
   ]
  },
  {
   "cell_type": "code",
   "execution_count": 61,
   "metadata": {},
   "outputs": [
    {
     "data": {
      "text/html": [
       "<div>\n",
       "<style scoped>\n",
       "    .dataframe tbody tr th:only-of-type {\n",
       "        vertical-align: middle;\n",
       "    }\n",
       "\n",
       "    .dataframe tbody tr th {\n",
       "        vertical-align: top;\n",
       "    }\n",
       "\n",
       "    .dataframe thead th {\n",
       "        text-align: right;\n",
       "    }\n",
       "</style>\n",
       "<table border=\"1\" class=\"dataframe\">\n",
       "  <thead>\n",
       "    <tr style=\"text-align: right;\">\n",
       "      <th></th>\n",
       "      <th>source</th>\n",
       "      <th>cost</th>\n",
       "      <th>users</th>\n",
       "      <th>cost_per_user</th>\n",
       "      <th>event</th>\n",
       "      <th>income</th>\n",
       "      <th>profit</th>\n",
       "    </tr>\n",
       "  </thead>\n",
       "  <tbody>\n",
       "    <tr>\n",
       "      <th>2</th>\n",
       "      <td>yandex_direct</td>\n",
       "      <td>2233.11</td>\n",
       "      <td>4817.00</td>\n",
       "      <td>0.46</td>\n",
       "      <td>45032.00</td>\n",
       "      <td>3152.24</td>\n",
       "      <td>919.13</td>\n",
       "    </tr>\n",
       "    <tr>\n",
       "      <th>3</th>\n",
       "      <td>youtube_channel_reklama</td>\n",
       "      <td>1068.12</td>\n",
       "      <td>2686.00</td>\n",
       "      <td>0.40</td>\n",
       "      <td>24978.00</td>\n",
       "      <td>1748.46</td>\n",
       "      <td>680.34</td>\n",
       "    </tr>\n",
       "    <tr>\n",
       "      <th>1</th>\n",
       "      <td>instagram_new_adverts</td>\n",
       "      <td>2161.44</td>\n",
       "      <td>3347.00</td>\n",
       "      <td>0.65</td>\n",
       "      <td>31815.00</td>\n",
       "      <td>2227.05</td>\n",
       "      <td>65.61</td>\n",
       "    </tr>\n",
       "    <tr>\n",
       "      <th>0</th>\n",
       "      <td>facebook_ads</td>\n",
       "      <td>2140.90</td>\n",
       "      <td>2726.00</td>\n",
       "      <td>0.79</td>\n",
       "      <td>26131.00</td>\n",
       "      <td>1829.17</td>\n",
       "      <td>-311.73</td>\n",
       "    </tr>\n",
       "    <tr>\n",
       "      <th>4</th>\n",
       "      <td>all_source</td>\n",
       "      <td>7603.58</td>\n",
       "      <td>13576.00</td>\n",
       "      <td>0.56</td>\n",
       "      <td>127956.00</td>\n",
       "      <td>8956.92</td>\n",
       "      <td>1353.34</td>\n",
       "    </tr>\n",
       "  </tbody>\n",
       "</table>\n",
       "</div>"
      ],
      "text/plain": [
       "                    source    cost    users  cost_per_user     event  income  \\\n",
       "2            yandex_direct 2233.11  4817.00           0.46  45032.00 3152.24   \n",
       "3  youtube_channel_reklama 1068.12  2686.00           0.40  24978.00 1748.46   \n",
       "1    instagram_new_adverts 2161.44  3347.00           0.65  31815.00 2227.05   \n",
       "0             facebook_ads 2140.90  2726.00           0.79  26131.00 1829.17   \n",
       "4               all_source 7603.58 13576.00           0.56 127956.00 8956.92   \n",
       "\n",
       "   profit  \n",
       "2  919.13  \n",
       "3  680.34  \n",
       "1   65.61  \n",
       "0 -311.73  \n",
       "4 1353.34  "
      ]
     },
     "execution_count": 61,
     "metadata": {},
     "output_type": "execute_result"
    }
   ],
   "source": [
    "profit_df = ad_cost_by_source.merge(income, how='left', on='source')\n",
    "profit_df['profit'] = profit_df['income']-profit_df['cost']\n",
    "profit_df.sort_values(by='profit', ascending=False, inplace=True,\n",
    "               key=lambda _: profit_df.apply(lambda x: (x['source']!='all_source',x['profit']),1))\n",
    "profit_df"
   ]
  },
  {
   "cell_type": "code",
   "execution_count": 62,
   "metadata": {},
   "outputs": [
    {
     "data": {
      "image/png": "[encoded data removed]",
      "text/plain": [
       "<Figure size 1000x500 with 1 Axes>"
      ]
     },
     "metadata": {},
     "output_type": "display_data"
    }
   ],
   "source": [
    "get_barplot_for_profit(profit_df)"
   ]
  },
  {
   "cell_type": "markdown",
   "metadata": {},
   "source": [
    "Как мы видим, при модели монетезации с показом рекламы на каждом экране постройки здания, мы окупим затраты на рекламу и получим прибыль в размере 1 353,34 у.е. Однако, не все каналы трафика выходят в плюс. `facebook_ads` принес убыток в 311.73 у.е., а `instagram_new_adverts`, хоть и заработал нам прибыль, но всего в размере 65.61 у.е., что, по сравнению с другими каналами, меньше минимум в 10 раз. Основную прибыль принели каналы `yandex_direct` и `youtube_channel_reklama`."
   ]
  },
  {
   "cell_type": "markdown",
   "metadata": {},
   "source": [
    "#### Показ рекламы начиная со второго экрана выбора постройки "
   ]
  },
  {
   "cell_type": "markdown",
   "metadata": {},
   "source": [
    "Посмотрим, как изменится наша прибыль, если мы начнем показывать рекламу на каждом экране постройки, но пропустим первый экран постройки. Для этого после групприровки датасета game по пользователям с подсчетом количеста сделанных ими построек, вычтем по одной и каждого. После этого расчеты как в предыдущей модели."
   ]
  },
  {
   "cell_type": "code",
   "execution_count": 63,
   "metadata": {},
   "outputs": [
    {
     "data": {
      "text/html": [
       "<div>\n",
       "<style scoped>\n",
       "    .dataframe tbody tr th:only-of-type {\n",
       "        vertical-align: middle;\n",
       "    }\n",
       "\n",
       "    .dataframe tbody tr th {\n",
       "        vertical-align: top;\n",
       "    }\n",
       "\n",
       "    .dataframe thead th {\n",
       "        text-align: right;\n",
       "    }\n",
       "</style>\n",
       "<table border=\"1\" class=\"dataframe\">\n",
       "  <thead>\n",
       "    <tr style=\"text-align: right;\">\n",
       "      <th></th>\n",
       "      <th>source</th>\n",
       "      <th>event</th>\n",
       "    </tr>\n",
       "  </thead>\n",
       "  <tbody>\n",
       "    <tr>\n",
       "      <th>2</th>\n",
       "      <td>yandex_direct</td>\n",
       "      <td>40215.00</td>\n",
       "    </tr>\n",
       "    <tr>\n",
       "      <th>1</th>\n",
       "      <td>instagram_new_adverts</td>\n",
       "      <td>28468.00</td>\n",
       "    </tr>\n",
       "    <tr>\n",
       "      <th>0</th>\n",
       "      <td>facebook_ads</td>\n",
       "      <td>23405.00</td>\n",
       "    </tr>\n",
       "    <tr>\n",
       "      <th>3</th>\n",
       "      <td>youtube_channel_reklama</td>\n",
       "      <td>22292.00</td>\n",
       "    </tr>\n",
       "    <tr>\n",
       "      <th>total</th>\n",
       "      <td>all_source</td>\n",
       "      <td>114380.00</td>\n",
       "    </tr>\n",
       "  </tbody>\n",
       "</table>\n",
       "</div>"
      ],
      "text/plain": [
       "                        source     event\n",
       "2                yandex_direct  40215.00\n",
       "1        instagram_new_adverts  28468.00\n",
       "0                 facebook_ads  23405.00\n",
       "3      youtube_channel_reklama  22292.00\n",
       "total               all_source 114380.00"
      ]
     },
     "execution_count": 63,
     "metadata": {},
     "output_type": "execute_result"
    }
   ],
   "source": [
    "# получим количество построек по пользователям\n",
    "income_2 = game_2.query('event==\"building\"').groupby('user_id').agg({'event':'count'}).reset_index().sort_values(by='event',ascending=False)\n",
    "# вычтем по одной постройке из общего числа\n",
    "income_2['event'] = income_2['event'] - 1\n",
    "# присоединим таблицу с источниками переходов\n",
    "income_2 = income_2.merge(source, how='left', on='user_id')\n",
    "# сгруппируем данные по источнику данных, посчитав пользователей и просуммировав количество построек\n",
    "income_2 = income_2.groupby('source').agg({'user_id':'count','event':'sum'}).reset_index().sort_values(by='event', ascending=False)\n",
    "# уберем столбец с пользователями, т.к. в таблице, с которой мы будем его соединять уже есть этот столбец\n",
    "income_2 =income_2.drop('user_id', axis=1)\n",
    "# добавим строку total\n",
    "income_2.loc['total']= income_2.sum(numeric_only=True, axis=0)\n",
    "income_2['source'] = income_2['source'].fillna('all_source')\n",
    "income_2"
   ]
  },
  {
   "cell_type": "code",
   "execution_count": 64,
   "metadata": {},
   "outputs": [
    {
     "data": {
      "text/html": [
       "<div>\n",
       "<style scoped>\n",
       "    .dataframe tbody tr th:only-of-type {\n",
       "        vertical-align: middle;\n",
       "    }\n",
       "\n",
       "    .dataframe tbody tr th {\n",
       "        vertical-align: top;\n",
       "    }\n",
       "\n",
       "    .dataframe thead th {\n",
       "        text-align: right;\n",
       "    }\n",
       "</style>\n",
       "<table border=\"1\" class=\"dataframe\">\n",
       "  <thead>\n",
       "    <tr style=\"text-align: right;\">\n",
       "      <th></th>\n",
       "      <th>source</th>\n",
       "      <th>cost</th>\n",
       "      <th>users</th>\n",
       "      <th>cost_per_user</th>\n",
       "      <th>event</th>\n",
       "      <th>income</th>\n",
       "      <th>profit</th>\n",
       "    </tr>\n",
       "  </thead>\n",
       "  <tbody>\n",
       "    <tr>\n",
       "      <th>2</th>\n",
       "      <td>yandex_direct</td>\n",
       "      <td>2233.11</td>\n",
       "      <td>4817.00</td>\n",
       "      <td>0.46</td>\n",
       "      <td>40215.00</td>\n",
       "      <td>2815.05</td>\n",
       "      <td>581.94</td>\n",
       "    </tr>\n",
       "    <tr>\n",
       "      <th>3</th>\n",
       "      <td>youtube_channel_reklama</td>\n",
       "      <td>1068.12</td>\n",
       "      <td>2686.00</td>\n",
       "      <td>0.40</td>\n",
       "      <td>22292.00</td>\n",
       "      <td>1560.44</td>\n",
       "      <td>492.32</td>\n",
       "    </tr>\n",
       "    <tr>\n",
       "      <th>1</th>\n",
       "      <td>instagram_new_adverts</td>\n",
       "      <td>2161.44</td>\n",
       "      <td>3347.00</td>\n",
       "      <td>0.65</td>\n",
       "      <td>28468.00</td>\n",
       "      <td>1992.76</td>\n",
       "      <td>-168.68</td>\n",
       "    </tr>\n",
       "    <tr>\n",
       "      <th>0</th>\n",
       "      <td>facebook_ads</td>\n",
       "      <td>2140.90</td>\n",
       "      <td>2726.00</td>\n",
       "      <td>0.79</td>\n",
       "      <td>23405.00</td>\n",
       "      <td>1638.35</td>\n",
       "      <td>-502.55</td>\n",
       "    </tr>\n",
       "    <tr>\n",
       "      <th>4</th>\n",
       "      <td>all_source</td>\n",
       "      <td>7603.58</td>\n",
       "      <td>13576.00</td>\n",
       "      <td>0.56</td>\n",
       "      <td>114380.00</td>\n",
       "      <td>8006.60</td>\n",
       "      <td>403.02</td>\n",
       "    </tr>\n",
       "  </tbody>\n",
       "</table>\n",
       "</div>"
      ],
      "text/plain": [
       "                    source    cost    users  cost_per_user     event  income  \\\n",
       "2            yandex_direct 2233.11  4817.00           0.46  40215.00 2815.05   \n",
       "3  youtube_channel_reklama 1068.12  2686.00           0.40  22292.00 1560.44   \n",
       "1    instagram_new_adverts 2161.44  3347.00           0.65  28468.00 1992.76   \n",
       "0             facebook_ads 2140.90  2726.00           0.79  23405.00 1638.35   \n",
       "4               all_source 7603.58 13576.00           0.56 114380.00 8006.60   \n",
       "\n",
       "   profit  \n",
       "2  581.94  \n",
       "3  492.32  \n",
       "1 -168.68  \n",
       "0 -502.55  \n",
       "4  403.02  "
      ]
     },
     "execution_count": 64,
     "metadata": {},
     "output_type": "execute_result"
    }
   ],
   "source": [
    "# объединим таблицы\n",
    "profit_df_2 = ad_cost_by_source.merge(income_2, how='left', on='source')\n",
    "# почситаем доход\n",
    "profit_df_2['income'] = profit_df_2['event']*0.07\n",
    "# посчитаем прибыль\n",
    "profit_df_2['profit'] = profit_df_2['income'] - profit_df_2['cost']\n",
    "# произведем сортировку\n",
    "profit_df_2.sort_values(by='profit', ascending=False, inplace=True,\n",
    "               key=lambda _: profit_df_2.apply(lambda x: (x['source']!='all_source',x['profit']),1))\n",
    "\n",
    "profit_df_2"
   ]
  },
  {
   "cell_type": "code",
   "execution_count": 65,
   "metadata": {},
   "outputs": [
    {
     "data": {
      "image/png": "[encoded data removed]",
      "text/plain": [
       "<Figure size 1000x500 with 1 Axes>"
      ]
     },
     "metadata": {},
     "output_type": "display_data"
    }
   ],
   "source": [
    "get_barplot_for_profit(profit_df_2)"
   ]
  },
  {
   "cell_type": "markdown",
   "metadata": {},
   "source": [
    "При такой модели монетезациии мы все еще будем зарабатывать (суммарный доход по каналам получися 403 у.е.). Однако помимо `facebook_ads`  в минус ушел и `instagram_new_adverts`."
   ]
  },
  {
   "cell_type": "markdown",
   "metadata": {},
   "source": [
    "#### Показ рекламы на экранах постройки, а также экране сообщения о завершении уровня."
   ]
  },
  {
   "cell_type": "markdown",
   "metadata": {},
   "source": [
    "Посмотрим как изменится наша прибыль если показывать рекламу не только на экранах постройки, но еще и на экране сообщения о завершении уровня."
   ]
  },
  {
   "cell_type": "code",
   "execution_count": 66,
   "metadata": {},
   "outputs": [
    {
     "data": {
      "text/html": [
       "<div>\n",
       "<style scoped>\n",
       "    .dataframe tbody tr th:only-of-type {\n",
       "        vertical-align: middle;\n",
       "    }\n",
       "\n",
       "    .dataframe tbody tr th {\n",
       "        vertical-align: top;\n",
       "    }\n",
       "\n",
       "    .dataframe thead th {\n",
       "        text-align: right;\n",
       "    }\n",
       "</style>\n",
       "<table border=\"1\" class=\"dataframe\">\n",
       "  <thead>\n",
       "    <tr style=\"text-align: right;\">\n",
       "      <th></th>\n",
       "      <th>source</th>\n",
       "      <th>event</th>\n",
       "      <th>income</th>\n",
       "    </tr>\n",
       "  </thead>\n",
       "  <tbody>\n",
       "    <tr>\n",
       "      <th>2</th>\n",
       "      <td>yandex_direct</td>\n",
       "      <td>47074.00</td>\n",
       "      <td>3295.18</td>\n",
       "    </tr>\n",
       "    <tr>\n",
       "      <th>1</th>\n",
       "      <td>instagram_new_adverts</td>\n",
       "      <td>33281.00</td>\n",
       "      <td>2329.67</td>\n",
       "    </tr>\n",
       "    <tr>\n",
       "      <th>0</th>\n",
       "      <td>facebook_ads</td>\n",
       "      <td>27281.00</td>\n",
       "      <td>1909.67</td>\n",
       "    </tr>\n",
       "    <tr>\n",
       "      <th>3</th>\n",
       "      <td>youtube_channel_reklama</td>\n",
       "      <td>26137.00</td>\n",
       "      <td>1829.59</td>\n",
       "    </tr>\n",
       "    <tr>\n",
       "      <th>total</th>\n",
       "      <td>all_source</td>\n",
       "      <td>133773.00</td>\n",
       "      <td>9364.11</td>\n",
       "    </tr>\n",
       "  </tbody>\n",
       "</table>\n",
       "</div>"
      ],
      "text/plain": [
       "                        source     event  income\n",
       "2                yandex_direct  47074.00 3295.18\n",
       "1        instagram_new_adverts  33281.00 2329.67\n",
       "0                 facebook_ads  27281.00 1909.67\n",
       "3      youtube_channel_reklama  26137.00 1829.59\n",
       "total               all_source 133773.00 9364.11"
      ]
     },
     "execution_count": 66,
     "metadata": {},
     "output_type": "execute_result"
    }
   ],
   "source": [
    "income_3 = game_2.query('event==\"building\" or event==\"finished_stage_1\"').groupby('source').agg({'event':'count'}).reset_index().sort_values(by='event',ascending=False)\n",
    "income_3['income'] = income_3['event']*0.07\n",
    "income_3.loc['total']= income_3.sum(numeric_only=True, axis=0)\n",
    "income_3['source'] = income_3['source'].fillna('all_source')\n",
    "income_3"
   ]
  },
  {
   "cell_type": "code",
   "execution_count": 67,
   "metadata": {},
   "outputs": [
    {
     "data": {
      "text/html": [
       "<div>\n",
       "<style scoped>\n",
       "    .dataframe tbody tr th:only-of-type {\n",
       "        vertical-align: middle;\n",
       "    }\n",
       "\n",
       "    .dataframe tbody tr th {\n",
       "        vertical-align: top;\n",
       "    }\n",
       "\n",
       "    .dataframe thead th {\n",
       "        text-align: right;\n",
       "    }\n",
       "</style>\n",
       "<table border=\"1\" class=\"dataframe\">\n",
       "  <thead>\n",
       "    <tr style=\"text-align: right;\">\n",
       "      <th></th>\n",
       "      <th>source</th>\n",
       "      <th>cost</th>\n",
       "      <th>users</th>\n",
       "      <th>cost_per_user</th>\n",
       "      <th>event</th>\n",
       "      <th>income</th>\n",
       "      <th>profit</th>\n",
       "    </tr>\n",
       "  </thead>\n",
       "  <tbody>\n",
       "    <tr>\n",
       "      <th>2</th>\n",
       "      <td>yandex_direct</td>\n",
       "      <td>2233.11</td>\n",
       "      <td>4817.00</td>\n",
       "      <td>0.46</td>\n",
       "      <td>47074.00</td>\n",
       "      <td>3295.18</td>\n",
       "      <td>1062.07</td>\n",
       "    </tr>\n",
       "    <tr>\n",
       "      <th>3</th>\n",
       "      <td>youtube_channel_reklama</td>\n",
       "      <td>1068.12</td>\n",
       "      <td>2686.00</td>\n",
       "      <td>0.40</td>\n",
       "      <td>26137.00</td>\n",
       "      <td>1829.59</td>\n",
       "      <td>761.47</td>\n",
       "    </tr>\n",
       "    <tr>\n",
       "      <th>1</th>\n",
       "      <td>instagram_new_adverts</td>\n",
       "      <td>2161.44</td>\n",
       "      <td>3347.00</td>\n",
       "      <td>0.65</td>\n",
       "      <td>33281.00</td>\n",
       "      <td>2329.67</td>\n",
       "      <td>168.23</td>\n",
       "    </tr>\n",
       "    <tr>\n",
       "      <th>0</th>\n",
       "      <td>facebook_ads</td>\n",
       "      <td>2140.90</td>\n",
       "      <td>2726.00</td>\n",
       "      <td>0.79</td>\n",
       "      <td>27281.00</td>\n",
       "      <td>1909.67</td>\n",
       "      <td>-231.23</td>\n",
       "    </tr>\n",
       "    <tr>\n",
       "      <th>4</th>\n",
       "      <td>all_source</td>\n",
       "      <td>7603.58</td>\n",
       "      <td>13576.00</td>\n",
       "      <td>0.56</td>\n",
       "      <td>133773.00</td>\n",
       "      <td>9364.11</td>\n",
       "      <td>1760.53</td>\n",
       "    </tr>\n",
       "  </tbody>\n",
       "</table>\n",
       "</div>"
      ],
      "text/plain": [
       "                    source    cost    users  cost_per_user     event  income  \\\n",
       "2            yandex_direct 2233.11  4817.00           0.46  47074.00 3295.18   \n",
       "3  youtube_channel_reklama 1068.12  2686.00           0.40  26137.00 1829.59   \n",
       "1    instagram_new_adverts 2161.44  3347.00           0.65  33281.00 2329.67   \n",
       "0             facebook_ads 2140.90  2726.00           0.79  27281.00 1909.67   \n",
       "4               all_source 7603.58 13576.00           0.56 133773.00 9364.11   \n",
       "\n",
       "   profit  \n",
       "2 1062.07  \n",
       "3  761.47  \n",
       "1  168.23  \n",
       "0 -231.23  \n",
       "4 1760.53  "
      ]
     },
     "execution_count": 67,
     "metadata": {},
     "output_type": "execute_result"
    }
   ],
   "source": [
    "# объединим таблицы\n",
    "profit_df_3 = ad_cost_by_source.merge(income_3, how='left', on='source')\n",
    "# посчитаем прибыль\n",
    "profit_df_3['profit'] = profit_df_3['income'] - profit_df_3['cost']\n",
    "# произведем сортировку\n",
    "profit_df_3.sort_values(by='profit', ascending=False, inplace=True,\n",
    "               key=lambda _: profit_df_3.apply(lambda x: (x['source']!='all_source',x['profit']),1))\n",
    "\n",
    "profit_df_3"
   ]
  },
  {
   "cell_type": "code",
   "execution_count": 68,
   "metadata": {},
   "outputs": [
    {
     "data": {
      "image/png": "[encoded data removed]",
      "text/plain": [
       "<Figure size 1000x500 with 1 Axes>"
      ]
     },
     "metadata": {},
     "output_type": "display_data"
    }
   ],
   "source": [
    "get_barplot_for_profit(profit_df_3)"
   ]
  },
  {
   "cell_type": "markdown",
   "metadata": {},
   "source": [
    "Наша прибыль увеличилась бы на 406 у.е."
   ]
  },
  {
   "cell_type": "markdown",
   "metadata": {},
   "source": [
    "#### Показ рекламы со второго экрана постройки плюс на экране завршения уровня"
   ]
  },
  {
   "cell_type": "markdown",
   "metadata": {},
   "source": [
    "Посмотрим еще на вариант, когда мы показываем рекламу со второй постройки, но также показываем рекламу на экране завершения первого уровня."
   ]
  },
  {
   "cell_type": "code",
   "execution_count": 69,
   "metadata": {},
   "outputs": [
    {
     "data": {
      "text/html": [
       "<div>\n",
       "<style scoped>\n",
       "    .dataframe tbody tr th:only-of-type {\n",
       "        vertical-align: middle;\n",
       "    }\n",
       "\n",
       "    .dataframe tbody tr th {\n",
       "        vertical-align: top;\n",
       "    }\n",
       "\n",
       "    .dataframe thead th {\n",
       "        text-align: right;\n",
       "    }\n",
       "</style>\n",
       "<table border=\"1\" class=\"dataframe\">\n",
       "  <thead>\n",
       "    <tr style=\"text-align: right;\">\n",
       "      <th></th>\n",
       "      <th>source</th>\n",
       "      <th>event</th>\n",
       "    </tr>\n",
       "  </thead>\n",
       "  <tbody>\n",
       "    <tr>\n",
       "      <th>2</th>\n",
       "      <td>yandex_direct</td>\n",
       "      <td>2042.00</td>\n",
       "    </tr>\n",
       "    <tr>\n",
       "      <th>1</th>\n",
       "      <td>instagram_new_adverts</td>\n",
       "      <td>1466.00</td>\n",
       "    </tr>\n",
       "    <tr>\n",
       "      <th>3</th>\n",
       "      <td>youtube_channel_reklama</td>\n",
       "      <td>1159.00</td>\n",
       "    </tr>\n",
       "    <tr>\n",
       "      <th>0</th>\n",
       "      <td>facebook_ads</td>\n",
       "      <td>1150.00</td>\n",
       "    </tr>\n",
       "    <tr>\n",
       "      <th>total</th>\n",
       "      <td>all_source</td>\n",
       "      <td>5817.00</td>\n",
       "    </tr>\n",
       "  </tbody>\n",
       "</table>\n",
       "</div>"
      ],
      "text/plain": [
       "                        source   event\n",
       "2                yandex_direct 2042.00\n",
       "1        instagram_new_adverts 1466.00\n",
       "3      youtube_channel_reklama 1159.00\n",
       "0                 facebook_ads 1150.00\n",
       "total               all_source 5817.00"
      ]
     },
     "execution_count": 69,
     "metadata": {},
     "output_type": "execute_result"
    }
   ],
   "source": [
    "income_4 = game_2.query('event==\"finished_stage_1\"').groupby('source').agg({'event':'count'}).reset_index().sort_values(by='event',ascending=False)\n",
    "income_4.loc['total']= income_4.sum(numeric_only=True, axis=0)\n",
    "income_4['source'] = income_4['source'].fillna('all_source')\n",
    "income_4"
   ]
  },
  {
   "cell_type": "code",
   "execution_count": 70,
   "metadata": {},
   "outputs": [],
   "source": [
    "# соединим таблицы с количеством событий со 2го показа экрана постройки и количеством коказов экрана завершения уровня  \n",
    "income_4_df = income_2.merge(income_4, how = 'left', on='source')\n",
    "# просуммируем столбцы\n",
    "income_4_df['event'] = income_4_df['event_x']+income_4_df['event_y']\n",
    "# удалим промежуточные столбцы\n",
    "income_4_df = income_4_df.drop(['event_x','event_y'], axis=1)\n"
   ]
  },
  {
   "cell_type": "code",
   "execution_count": 71,
   "metadata": {},
   "outputs": [
    {
     "data": {
      "text/html": [
       "<div>\n",
       "<style scoped>\n",
       "    .dataframe tbody tr th:only-of-type {\n",
       "        vertical-align: middle;\n",
       "    }\n",
       "\n",
       "    .dataframe tbody tr th {\n",
       "        vertical-align: top;\n",
       "    }\n",
       "\n",
       "    .dataframe thead th {\n",
       "        text-align: right;\n",
       "    }\n",
       "</style>\n",
       "<table border=\"1\" class=\"dataframe\">\n",
       "  <thead>\n",
       "    <tr style=\"text-align: right;\">\n",
       "      <th></th>\n",
       "      <th>source</th>\n",
       "      <th>cost</th>\n",
       "      <th>users</th>\n",
       "      <th>cost_per_user</th>\n",
       "      <th>event</th>\n",
       "      <th>income</th>\n",
       "      <th>profit</th>\n",
       "    </tr>\n",
       "  </thead>\n",
       "  <tbody>\n",
       "    <tr>\n",
       "      <th>2</th>\n",
       "      <td>yandex_direct</td>\n",
       "      <td>2233.11</td>\n",
       "      <td>4817.00</td>\n",
       "      <td>0.46</td>\n",
       "      <td>42257.00</td>\n",
       "      <td>2957.99</td>\n",
       "      <td>724.88</td>\n",
       "    </tr>\n",
       "    <tr>\n",
       "      <th>3</th>\n",
       "      <td>youtube_channel_reklama</td>\n",
       "      <td>1068.12</td>\n",
       "      <td>2686.00</td>\n",
       "      <td>0.40</td>\n",
       "      <td>23451.00</td>\n",
       "      <td>1641.57</td>\n",
       "      <td>573.45</td>\n",
       "    </tr>\n",
       "    <tr>\n",
       "      <th>1</th>\n",
       "      <td>instagram_new_adverts</td>\n",
       "      <td>2161.44</td>\n",
       "      <td>3347.00</td>\n",
       "      <td>0.65</td>\n",
       "      <td>29934.00</td>\n",
       "      <td>2095.38</td>\n",
       "      <td>-66.06</td>\n",
       "    </tr>\n",
       "    <tr>\n",
       "      <th>0</th>\n",
       "      <td>facebook_ads</td>\n",
       "      <td>2140.90</td>\n",
       "      <td>2726.00</td>\n",
       "      <td>0.79</td>\n",
       "      <td>24555.00</td>\n",
       "      <td>1718.85</td>\n",
       "      <td>-422.05</td>\n",
       "    </tr>\n",
       "    <tr>\n",
       "      <th>4</th>\n",
       "      <td>all_source</td>\n",
       "      <td>7603.58</td>\n",
       "      <td>13576.00</td>\n",
       "      <td>0.56</td>\n",
       "      <td>120197.00</td>\n",
       "      <td>8413.79</td>\n",
       "      <td>810.21</td>\n",
       "    </tr>\n",
       "  </tbody>\n",
       "</table>\n",
       "</div>"
      ],
      "text/plain": [
       "                    source    cost    users  cost_per_user     event  income  \\\n",
       "2            yandex_direct 2233.11  4817.00           0.46  42257.00 2957.99   \n",
       "3  youtube_channel_reklama 1068.12  2686.00           0.40  23451.00 1641.57   \n",
       "1    instagram_new_adverts 2161.44  3347.00           0.65  29934.00 2095.38   \n",
       "0             facebook_ads 2140.90  2726.00           0.79  24555.00 1718.85   \n",
       "4               all_source 7603.58 13576.00           0.56 120197.00 8413.79   \n",
       "\n",
       "   profit  \n",
       "2  724.88  \n",
       "3  573.45  \n",
       "1  -66.06  \n",
       "0 -422.05  \n",
       "4  810.21  "
      ]
     },
     "execution_count": 71,
     "metadata": {},
     "output_type": "execute_result"
    }
   ],
   "source": [
    "# объединим таблицы\n",
    "profit_df_4 = ad_cost_by_source.merge(income_4_df, how='left', on='source')\n",
    "# почситаем доход\n",
    "profit_df_4['income'] = profit_df_4['event']*0.07\n",
    "# посчитаем прибыль\n",
    "profit_df_4['profit'] = profit_df_4['income'] - profit_df_4['cost']\n",
    "# произведем сортировку\n",
    "profit_df_4.sort_values(by='profit', ascending=False, inplace=True,\n",
    "               key=lambda _: profit_df_4.apply(lambda x: (x['source']!='all_source',x['profit']),1))\n",
    "\n",
    "profit_df_4"
   ]
  },
  {
   "cell_type": "code",
   "execution_count": 72,
   "metadata": {},
   "outputs": [
    {
     "data": {
      "image/png": "[encoded data removed]",
      "text/plain": [
       "<Figure size 1000x500 with 1 Axes>"
      ]
     },
     "metadata": {},
     "output_type": "display_data"
    }
   ],
   "source": [
    "get_barplot_for_profit(profit_df_4)"
   ]
  },
  {
   "cell_type": "markdown",
   "metadata": {},
   "source": [
    "При таком варианте монетизации мы меньше надоедаем рекламой на однотипных действиях, при этом получаем прибыли на 406 у.е. больше, чем если бы просто сократили количество рекламных показов на экранах потройки зданий."
   ]
  },
  {
   "cell_type": "markdown",
   "metadata": {},
   "source": [
    "##  Проверка гипотез\n",
    "    - Время завершения уровня не различается от способа прохождения (через проект/через победу над другим игроком)\n",
    "    - Количество построек не различается от способа прохождения уровня (через проект/через победу над другим игроком)"
   ]
  },
  {
   "cell_type": "markdown",
   "metadata": {},
   "source": [
    "### Гипотеза № 1 \"Время завершения уровня не различается от способа прохождения\""
   ]
  },
  {
   "cell_type": "markdown",
   "metadata": {},
   "source": [
    "**Обозначим гипотезы:**\n",
    "\n",
    "    Н0 - Среднее время прохождения первого уровня игроками не различается от способа прохождения уровня:\n",
    "            - путем победы над другим игроком\n",
    "            - путем реализации проекта\n",
    "    Н2 - Среднее время прохождения первого уровня игроками различается от способа прохождения уровня:\n",
    "            - путем победы над другим игроком\n",
    "            - путем реализации проекта\n",
    "        \n",
    "Выберем доверительный интервал равный alpha = 0,05."
   ]
  },
  {
   "cell_type": "code",
   "execution_count": 73,
   "metadata": {},
   "outputs": [],
   "source": [
    "# возьмем данные из предыдущих расчетов по победителям в разрезе способа победы для составления выборок, переведем дни в секунды\n",
    "pvp_win = user_pass_pvp_time['level_time'].dt.total_seconds()\n",
    "project_win = user_pass_project_time['level_time'].dt.total_seconds()"
   ]
  },
  {
   "cell_type": "code",
   "execution_count": 74,
   "metadata": {},
   "outputs": [
    {
     "name": "stdout",
     "output_type": "stream",
     "text": [
      "p-значение: 7.256845329495443e-98\n",
      "Отвергаем нулевую гипотезу. Среднее время прохождения первого уровня игроками различается от способа прохождения уровня\n"
     ]
    }
   ],
   "source": [
    "#обозначаем доверительный интервал\n",
    "alpha = .05\n",
    "\n",
    "results = st.ttest_ind(pvp_win, project_win)\n",
    "\n",
    "print('p-значение:', results.pvalue)\n",
    "\n",
    "if results.pvalue < alpha:\n",
    "    print(\"Отвергаем нулевую гипотезу. Среднее время прохождения первого уровня игроками различается от способа прохождения уровня\")\n",
    "else:\n",
    "    print(\"Не получилось отвергнуть нулевую гипотезу. Среднее время прохождения первого уровня игроками не различается от способа прохождения уровня\")"
   ]
  },
  {
   "cell_type": "markdown",
   "metadata": {},
   "source": [
    "Не получилось подтвердить нулевую гипотезу, существует различие в скорости прохождения первого уровня в зависимости от способа прохождения."
   ]
  },
  {
   "cell_type": "code",
   "execution_count": 75,
   "metadata": {},
   "outputs": [
    {
     "name": "stdout",
     "output_type": "stream",
     "text": [
      "\n",
      "Среднее время прохождения первого уровня пользователей победивших других игроков: 267 часов \n",
      "Среднее время прохождения первого уровня пользователей реализовавших проект:  323 часа\n"
     ]
    }
   ],
   "source": [
    "print(\n",
    "    #посчитаем среднее время по выборкам и разделим на 3600, чтобы получить время в часах\n",
    "    '\\n''Среднее время прохождения первого уровня пользователей победивших других игроков:', round(pvp_win.mean()/3600), 'часов', \n",
    "    '\\n''Среднее время прохождения первого уровня пользователей реализовавших проект: ', round(project_win.mean()/3600), 'часа')"
   ]
  },
  {
   "cell_type": "markdown",
   "metadata": {},
   "source": [
    "В среднем, игрокам выбирающим проект в качестве способа прохождения первого уровня, необходимо потратить на 56 часов больше, чем пользователям, предпочитающим сражения строительству. Это на 20% дольше. Считаю, что стоит рассмотреть способы уравнивания сроков прохождения уровня между подходами к прохождению уровня, чтобы в последствии не было перекоса в одну из сторон."
   ]
  },
  {
   "cell_type": "markdown",
   "metadata": {},
   "source": [
    "### Гипотеза № 2 \"Количество построек не различается от способа прохождения уровня\""
   ]
  },
  {
   "cell_type": "markdown",
   "metadata": {},
   "source": [
    "**Обозначим гипотезы:**\n",
    "\n",
    "    Н0 - Среднее количество построек не различается от способа прохождения уровня:\n",
    "            - путем победы над другим игроком\n",
    "            - путем реализации проекта\n",
    "    Н2 - Среднее количество построек различается от способа прохождения уровня:\n",
    "            - путем победы над другим игроком\n",
    "            - путем реализации проекта\n",
    "        \n",
    "Выберем доверительный интервал равный alpha = 0,05."
   ]
  },
  {
   "cell_type": "code",
   "execution_count": 76,
   "metadata": {},
   "outputs": [],
   "source": [
    "building_pass_pvp = user_pass_pvp.query('event==\"building\"').groupby('user_id')['event'].count()\n",
    "building_pass_project = game.query('user_id in @user_pass_project & event==\"building\"').groupby('user_id')['event'].count()"
   ]
  },
  {
   "cell_type": "code",
   "execution_count": 77,
   "metadata": {},
   "outputs": [
    {
     "name": "stdout",
     "output_type": "stream",
     "text": [
      "p-значение: 0.0\n",
      "Отвергаем нулевую гипотезу. Среднее количество построек различается от способа прохождения уровня:\n"
     ]
    }
   ],
   "source": [
    "#обозначаем доверительный интервал\n",
    "alpha = .05\n",
    "\n",
    "results = st.ttest_ind(building_pass_pvp, building_pass_project)\n",
    "\n",
    "print('p-значение:', results.pvalue)\n",
    "\n",
    "if results.pvalue < alpha:\n",
    "    print(\"Отвергаем нулевую гипотезу. Среднее количество построек различается от способа прохождения уровня:\")\n",
    "else:\n",
    "    print(\"Не получилось отвергнуть нулевую гипотезу. Среднее количество построек не различается от способа прохождения уровня\")"
   ]
  },
  {
   "cell_type": "code",
   "execution_count": 78,
   "metadata": {},
   "outputs": [
    {
     "name": "stdout",
     "output_type": "stream",
     "text": [
      "\n",
      "Среднее количетсво построек у пользователей победивших других игроков: 9 \n",
      "Среднее количество построек у пользователей реализовавших проект:  13\n"
     ]
    }
   ],
   "source": [
    "print(\n",
    "    '\\n''Среднее количетсво построек у пользователей победивших других игроков:', round(building_pass_pvp.mean()),\n",
    "    '\\n''Среднее количество построек у пользователей реализовавших проект: ', round(building_pass_project.mean()))"
   ]
  },
  {
   "cell_type": "markdown",
   "metadata": {},
   "source": [
    "Среднее количество построек в зависимости от выбора стратегии прохожнеия первого уровня различно. Игрокам. выбирающим реализацию проекта в среднем нужно построить на 4 здания больше чем игрокам, сражающимся с другими игроками."
   ]
  },
  {
   "cell_type": "markdown",
   "metadata": {},
   "source": [
    "## Общие выводы и реккомендации"
   ]
  },
  {
   "cell_type": "markdown",
   "metadata": {},
   "source": [
    "# Выводы"
   ]
  },
  {
   "cell_type": "markdown",
   "metadata": {},
   "source": [
    "**Выводы по анализу данных:**\n",
    "\n",
    "- за предоставленный в данных период игру посетило 13 576 уникальных пользователей, ими было совершено 135 639 событий, построено 127 956 зданий.\n",
    "- 68% пользователей заканчивают первый уровень через победу над другим игроком.\n",
    "- в среднем каждый пользователь строит 9,43 здания. Игроки, заканчивающие уровень через победу над другим угроком в среднем строят 9 зданий,а игроки, выбравшие проект, - 13 зданий.\n",
    "- Игроки в среднем проводят на первом уровне 11 дней. Игроки, не закончившие уровень, в среднем уходят через 9 дней 18 часов. Игроки избравшие сратегию пвп проходят уровень за 11 дней, а реализаторы проекта - 13 дней.\n",
    "- Больше всего пользователей пришло из источников `yandex_direct` (4817) и `instagram_new_adverts` (3347). На 3 и 4 местах `facebook_ads` (2726) и `youtube_channel_reklama` (2686).\n",
    "- Больше всего денег было направлено на канал `yandex_direct` (2233.11), `instagram_new_adverts` и `facebook_ads` получили немного меньше `yandex_direct`, меньше всего денег ушло на `youtube_channel_reklama` (1068.12)\n",
    "- Самая высокая цена клика у `fasebook_ads` - 0,79 у.е. за пользователя. Самая низкая у `youtube_channel_reklama` 0,40 у.е. У `yandex_direct` - 0,46 у.е. \n",
    "\n",
    "**Выводы по моделям монетизации:**\n",
    "- Для модели показа рекламы на каждом экране постройки - наибольшую прибыль принесли пользователи, пришедшие с источников `yandex_direct` (919 у.е.) и `youtube_channel_reklama` (680 у.е.). Общая прибыль составила за исследуемый период составила 1353 у.е.\n",
    "- При показе рекламы, начиная со второй постройки два источника ушли в убыток: `facebook_ads`(-503 у.е.) и `instagram_new_adverts` (-169 у.е.) и два источника принесли прибыль `yandex_direc`t (582 у.е.) и `youtube_channel_reklama` (492 у.е.). Общая прибыль за исследуемый период составила - 403 у.е.\n",
    "- При показе рекламы на каждом экране постройки плюс экранах завершения уровня, общая прибыль составла: 1760 у.е. В минусе на 231 у.е. остался только `facebook_ads`.\n",
    "- При смешанном показе рекламы: со второй постройки и на экране завершения уровня, общая прибыль составила: 810 у.е. В минус ушли `instagram_new_adverts`(-66 у.е) и `facebook_ads`(-422 у.е.).\n",
    "\n",
    "**Выводы по проверке гипотез:**\n",
    "\n",
    " - Проверка первой гипотезы  показала, что среднее время прохождения первого уровня различается от способа прохождени. \n",
    " - Проверка второй гипотезы показала, что количество построенных зданий в зависимости от выбора способа прохождения первого уровня, статистически различается."
   ]
  },
  {
   "cell_type": "markdown",
   "metadata": {},
   "source": [
    "# Рекомендации"
   ]
  },
  {
   "cell_type": "markdown",
   "metadata": {},
   "source": [
    "- Предлагаю обратить внимание на модель монетизации с  показом рекламы со второго экрана постойки зданий и экране завершения уровня. При таком варианте монетизации мы меньше надоедаем рекламой на однотипных действиях, при этом получаем прибыли на 406 у.е. больше, чем если бы просто сократили количество рекламных показов на экранах потройки зданий.\n",
    "- Маркетологам стоит обратить внимание на канал `youtube_channel_reklama`, возможно стоит перераспределить затраты с `facebook_ads` на рекламу в его пользу.\n",
    "- Разработчикам стоит обратить внимание на исправление момента с разницей в продолжительности времени прохождения уровня в зависимости от стратегии, чтобы группы пвп и пве проводили примерно одинаковое время в игре.\n",
    "- В целом стоит обратить внимание на сокращение средней продолжительности времени, которое игроки проводят в игре. По данным анализа, игроки, не закончившие уровень, уходят после 9 дней игры, соответственно мы теряем деньги. Либо необходимо на этом рубеже подбадривать игроков, мотивируя их продолжать играть."
   ]
  },
  {
   "cell_type": "code",
   "execution_count": null,
   "metadata": {},
   "outputs": [],
   "source": []
  }
 ],
 "metadata": {
  "ExecuteTimeLog": [
   {
    "duration": 87,
    "start_time": "2023-08-09T07:02:28.353Z"
   },
   {
    "duration": 76,
    "start_time": "2023-08-09T07:04:54.222Z"
   },
   {
    "duration": 390,
    "start_time": "2023-08-09T07:06:07.149Z"
   },
   {
    "duration": 2,
    "start_time": "2023-08-09T07:06:41.933Z"
   },
   {
    "duration": 2,
    "start_time": "2023-08-09T07:08:57.998Z"
   },
   {
    "duration": 2013,
    "start_time": "2023-08-09T07:09:07.558Z"
   },
   {
    "duration": 2,
    "start_time": "2023-08-09T07:09:17.295Z"
   },
   {
    "duration": 4,
    "start_time": "2023-08-09T07:09:25.417Z"
   },
   {
    "duration": 26,
    "start_time": "2023-08-09T07:09:33.302Z"
   },
   {
    "duration": 4,
    "start_time": "2023-08-09T07:10:15.854Z"
   },
   {
    "duration": 35,
    "start_time": "2023-08-09T07:10:17.838Z"
   },
   {
    "duration": 3,
    "start_time": "2023-08-09T07:14:28.824Z"
   },
   {
    "duration": 32,
    "start_time": "2023-08-09T07:14:29.239Z"
   },
   {
    "duration": 21,
    "start_time": "2023-08-09T07:15:24.264Z"
   },
   {
    "duration": 157,
    "start_time": "2023-08-09T07:15:50.568Z"
   },
   {
    "duration": 4,
    "start_time": "2023-08-09T07:16:06.518Z"
   },
   {
    "duration": 34,
    "start_time": "2023-08-09T07:16:07.063Z"
   },
   {
    "duration": 23,
    "start_time": "2023-08-09T07:16:08.552Z"
   },
   {
    "duration": 166,
    "start_time": "2023-08-09T07:16:09.744Z"
   },
   {
    "duration": 1863,
    "start_time": "2023-08-09T07:17:50.857Z"
   },
   {
    "duration": 4,
    "start_time": "2023-08-09T07:17:52.721Z"
   },
   {
    "duration": 52,
    "start_time": "2023-08-09T07:17:52.726Z"
   },
   {
    "duration": 36,
    "start_time": "2023-08-09T07:17:52.780Z"
   },
   {
    "duration": 111,
    "start_time": "2023-08-09T07:17:52.818Z"
   },
   {
    "duration": 10,
    "start_time": "2023-08-09T07:18:31.281Z"
   },
   {
    "duration": 4,
    "start_time": "2023-08-09T07:18:56.281Z"
   },
   {
    "duration": 21,
    "start_time": "2023-08-09T07:18:56.777Z"
   },
   {
    "duration": 16,
    "start_time": "2023-08-09T07:19:00.648Z"
   },
   {
    "duration": 10,
    "start_time": "2023-08-09T07:19:04.201Z"
   },
   {
    "duration": 92,
    "start_time": "2023-08-09T07:19:04.640Z"
   },
   {
    "duration": 93,
    "start_time": "2023-08-09T07:20:58.673Z"
   },
   {
    "duration": 89,
    "start_time": "2023-08-09T07:21:05.361Z"
   },
   {
    "duration": 81,
    "start_time": "2023-08-09T07:23:53.114Z"
   },
   {
    "duration": 3,
    "start_time": "2023-08-09T07:24:56.842Z"
   },
   {
    "duration": 2,
    "start_time": "2023-08-09T07:25:13.835Z"
   },
   {
    "duration": 113,
    "start_time": "2023-08-09T07:31:40.723Z"
   },
   {
    "duration": 14,
    "start_time": "2023-08-09T07:31:53.214Z"
   },
   {
    "duration": 15,
    "start_time": "2023-08-09T07:32:03.467Z"
   },
   {
    "duration": 1597,
    "start_time": "2023-08-09T07:32:23.161Z"
   },
   {
    "duration": 4,
    "start_time": "2023-08-09T07:32:24.760Z"
   },
   {
    "duration": 46,
    "start_time": "2023-08-09T07:32:24.765Z"
   },
   {
    "duration": 17,
    "start_time": "2023-08-09T07:32:24.813Z"
   },
   {
    "duration": 103,
    "start_time": "2023-08-09T07:32:24.831Z"
   },
   {
    "duration": 112,
    "start_time": "2023-08-09T07:32:24.935Z"
   },
   {
    "duration": 0,
    "start_time": "2023-08-09T07:32:25.049Z"
   },
   {
    "duration": 0,
    "start_time": "2023-08-09T07:32:25.050Z"
   },
   {
    "duration": 16,
    "start_time": "2023-08-09T07:34:26.644Z"
   },
   {
    "duration": 10,
    "start_time": "2023-08-09T07:34:52.228Z"
   },
   {
    "duration": 14,
    "start_time": "2023-08-09T07:35:08.900Z"
   },
   {
    "duration": 8,
    "start_time": "2023-08-09T07:35:17.651Z"
   },
   {
    "duration": 27,
    "start_time": "2023-08-09T07:36:43.019Z"
   },
   {
    "duration": 303,
    "start_time": "2023-08-09T07:38:50.052Z"
   },
   {
    "duration": 27,
    "start_time": "2023-08-09T07:38:56.996Z"
   },
   {
    "duration": 81,
    "start_time": "2023-08-09T07:39:08.741Z"
   },
   {
    "duration": 25,
    "start_time": "2023-08-09T07:39:18.500Z"
   },
   {
    "duration": 24,
    "start_time": "2023-08-09T07:39:59.875Z"
   },
   {
    "duration": 148,
    "start_time": "2023-08-09T07:40:36.004Z"
   },
   {
    "duration": 23,
    "start_time": "2023-08-09T07:40:42.772Z"
   },
   {
    "duration": 7,
    "start_time": "2023-08-09T07:45:23.541Z"
   },
   {
    "duration": 15,
    "start_time": "2023-08-09T07:47:37.870Z"
   },
   {
    "duration": 16,
    "start_time": "2023-08-09T07:48:15.999Z"
   },
   {
    "duration": 17,
    "start_time": "2023-08-09T07:48:54.535Z"
   },
   {
    "duration": 18,
    "start_time": "2023-08-09T07:49:06.542Z"
   },
   {
    "duration": 4,
    "start_time": "2023-08-09T07:51:12.774Z"
   },
   {
    "duration": 11,
    "start_time": "2023-08-09T07:51:18.782Z"
   },
   {
    "duration": 12,
    "start_time": "2023-08-09T07:51:33.534Z"
   },
   {
    "duration": 1718,
    "start_time": "2023-08-09T07:52:00.278Z"
   },
   {
    "duration": 4,
    "start_time": "2023-08-09T07:52:01.997Z"
   },
   {
    "duration": 124,
    "start_time": "2023-08-09T07:52:02.003Z"
   },
   {
    "duration": 59,
    "start_time": "2023-08-09T07:52:02.128Z"
   },
   {
    "duration": 152,
    "start_time": "2023-08-09T07:52:02.189Z"
   },
   {
    "duration": 32,
    "start_time": "2023-08-09T07:52:02.344Z"
   },
   {
    "duration": 154,
    "start_time": "2023-08-09T07:52:02.378Z"
   },
   {
    "duration": 259,
    "start_time": "2023-08-09T07:52:02.533Z"
   },
   {
    "duration": 107,
    "start_time": "2023-08-09T07:52:02.793Z"
   },
   {
    "duration": 123,
    "start_time": "2023-08-09T07:52:02.902Z"
   },
   {
    "duration": 112,
    "start_time": "2023-08-09T07:52:22.127Z"
   },
   {
    "duration": 1625,
    "start_time": "2023-08-09T07:52:35.012Z"
   },
   {
    "duration": 6,
    "start_time": "2023-08-09T07:52:36.639Z"
   },
   {
    "duration": 70,
    "start_time": "2023-08-09T07:52:36.646Z"
   },
   {
    "duration": 21,
    "start_time": "2023-08-09T07:52:36.718Z"
   },
   {
    "duration": 146,
    "start_time": "2023-08-09T07:52:36.742Z"
   },
   {
    "duration": 28,
    "start_time": "2023-08-09T07:52:36.889Z"
   },
   {
    "duration": 35,
    "start_time": "2023-08-09T07:52:36.918Z"
   },
   {
    "duration": 30,
    "start_time": "2023-08-09T07:52:36.954Z"
   },
   {
    "duration": 128,
    "start_time": "2023-08-09T07:52:36.985Z"
   },
   {
    "duration": 112,
    "start_time": "2023-08-09T07:53:20.295Z"
   },
   {
    "duration": 1756,
    "start_time": "2023-08-09T07:53:28.527Z"
   },
   {
    "duration": 4,
    "start_time": "2023-08-09T07:53:30.285Z"
   },
   {
    "duration": 76,
    "start_time": "2023-08-09T07:53:30.291Z"
   },
   {
    "duration": 47,
    "start_time": "2023-08-09T07:53:30.368Z"
   },
   {
    "duration": 146,
    "start_time": "2023-08-09T07:53:30.416Z"
   },
   {
    "duration": 76,
    "start_time": "2023-08-09T07:53:30.564Z"
   },
   {
    "duration": 42,
    "start_time": "2023-08-09T07:53:30.641Z"
   },
   {
    "duration": 26,
    "start_time": "2023-08-09T07:53:30.684Z"
   },
   {
    "duration": 150,
    "start_time": "2023-08-09T07:53:30.711Z"
   },
   {
    "duration": 17,
    "start_time": "2023-08-09T08:00:12.599Z"
   },
   {
    "duration": 17,
    "start_time": "2023-08-09T08:00:23.888Z"
   },
   {
    "duration": 10,
    "start_time": "2023-08-09T08:02:14.432Z"
   },
   {
    "duration": 11,
    "start_time": "2023-08-09T08:03:06.360Z"
   },
   {
    "duration": 9,
    "start_time": "2023-08-09T08:06:06.321Z"
   },
   {
    "duration": 21,
    "start_time": "2023-08-09T08:06:51.672Z"
   },
   {
    "duration": 95,
    "start_time": "2023-08-09T08:07:23.176Z"
   },
   {
    "duration": 10,
    "start_time": "2023-08-09T08:08:17.696Z"
   },
   {
    "duration": 95,
    "start_time": "2023-08-09T08:10:50.137Z"
   },
   {
    "duration": 165,
    "start_time": "2023-08-09T08:14:01.857Z"
   },
   {
    "duration": 5,
    "start_time": "2023-08-09T08:14:32.617Z"
   },
   {
    "duration": 10,
    "start_time": "2023-08-09T08:17:12.560Z"
   },
   {
    "duration": 36,
    "start_time": "2023-08-09T08:17:20.960Z"
   },
   {
    "duration": 35,
    "start_time": "2023-08-09T08:17:29.137Z"
   },
   {
    "duration": 35,
    "start_time": "2023-08-09T08:18:08.240Z"
   },
   {
    "duration": 4,
    "start_time": "2023-08-09T08:24:49.977Z"
   },
   {
    "duration": 11,
    "start_time": "2023-08-09T08:25:35.929Z"
   },
   {
    "duration": 10,
    "start_time": "2023-08-09T08:25:55.234Z"
   },
   {
    "duration": 7,
    "start_time": "2023-08-09T11:32:31.688Z"
   },
   {
    "duration": 24,
    "start_time": "2023-08-09T11:32:38.214Z"
   },
   {
    "duration": 10,
    "start_time": "2023-08-09T11:32:47.421Z"
   },
   {
    "duration": 79,
    "start_time": "2023-08-09T11:35:57.052Z"
   },
   {
    "duration": 8,
    "start_time": "2023-08-09T11:37:43.478Z"
   },
   {
    "duration": 7,
    "start_time": "2023-08-09T11:37:56.255Z"
   },
   {
    "duration": 9,
    "start_time": "2023-08-09T11:38:34.911Z"
   },
   {
    "duration": 82,
    "start_time": "2023-08-09T11:42:54.166Z"
   },
   {
    "duration": 83,
    "start_time": "2023-08-09T11:44:22.373Z"
   },
   {
    "duration": 11,
    "start_time": "2023-08-09T11:44:51.028Z"
   },
   {
    "duration": 67,
    "start_time": "2023-08-09T11:53:41.180Z"
   },
   {
    "duration": 20,
    "start_time": "2023-08-09T11:54:20.156Z"
   },
   {
    "duration": 9,
    "start_time": "2023-08-09T11:55:03.636Z"
   },
   {
    "duration": 11,
    "start_time": "2023-08-09T11:56:12.413Z"
   },
   {
    "duration": 6,
    "start_time": "2023-08-09T12:05:10.113Z"
   },
   {
    "duration": 6,
    "start_time": "2023-08-09T12:05:24.695Z"
   },
   {
    "duration": 4,
    "start_time": "2023-08-09T12:09:01.153Z"
   },
   {
    "duration": 5,
    "start_time": "2023-08-09T12:09:05.074Z"
   },
   {
    "duration": 91,
    "start_time": "2023-08-09T12:13:08.076Z"
   },
   {
    "duration": 5,
    "start_time": "2023-08-09T12:13:34.691Z"
   },
   {
    "duration": 71,
    "start_time": "2023-08-09T12:15:36.980Z"
   },
   {
    "duration": 5,
    "start_time": "2023-08-09T12:15:38.382Z"
   },
   {
    "duration": 89,
    "start_time": "2023-08-09T12:46:35.842Z"
   },
   {
    "duration": 19,
    "start_time": "2023-08-09T12:48:35.202Z"
   },
   {
    "duration": 17,
    "start_time": "2023-08-09T12:49:51.050Z"
   },
   {
    "duration": 150,
    "start_time": "2023-08-09T12:49:57.083Z"
   },
   {
    "duration": 16,
    "start_time": "2023-08-09T12:50:37.395Z"
   },
   {
    "duration": 22,
    "start_time": "2023-08-09T12:51:19.547Z"
   },
   {
    "duration": 28,
    "start_time": "2023-08-09T12:54:13.052Z"
   },
   {
    "duration": 18,
    "start_time": "2023-08-09T12:55:53.148Z"
   },
   {
    "duration": 15,
    "start_time": "2023-08-09T12:55:59.011Z"
   },
   {
    "duration": 7,
    "start_time": "2023-08-09T12:56:46.652Z"
   },
   {
    "duration": 27,
    "start_time": "2023-08-09T12:59:42.101Z"
   },
   {
    "duration": 17,
    "start_time": "2023-08-09T13:00:06.691Z"
   },
   {
    "duration": 48,
    "start_time": "2023-08-09T13:02:40.150Z"
   },
   {
    "duration": 38,
    "start_time": "2023-08-09T13:03:08.765Z"
   },
   {
    "duration": 51,
    "start_time": "2023-08-09T13:03:25.157Z"
   },
   {
    "duration": 40,
    "start_time": "2023-08-09T13:03:46.197Z"
   },
   {
    "duration": 41,
    "start_time": "2023-08-09T13:04:09.885Z"
   },
   {
    "duration": 63,
    "start_time": "2023-08-09T13:04:21.830Z"
   },
   {
    "duration": 45,
    "start_time": "2023-08-09T13:04:56.061Z"
   },
   {
    "duration": 41,
    "start_time": "2023-08-09T13:05:15.862Z"
   },
   {
    "duration": 22,
    "start_time": "2023-08-09T13:05:33.998Z"
   },
   {
    "duration": 23,
    "start_time": "2023-08-09T13:05:46.902Z"
   },
   {
    "duration": 50,
    "start_time": "2023-08-09T13:05:56.118Z"
   },
   {
    "duration": 53,
    "start_time": "2023-08-09T13:06:45.837Z"
   },
   {
    "duration": 64,
    "start_time": "2023-08-09T13:06:57.650Z"
   },
   {
    "duration": 23,
    "start_time": "2023-08-09T13:07:52.950Z"
   },
   {
    "duration": 40,
    "start_time": "2023-08-09T13:08:27.850Z"
   },
   {
    "duration": 4,
    "start_time": "2023-08-09T13:13:44.051Z"
   },
   {
    "duration": 4,
    "start_time": "2023-08-09T13:15:01.559Z"
   },
   {
    "duration": 26,
    "start_time": "2023-08-09T13:18:17.687Z"
   },
   {
    "duration": 13,
    "start_time": "2023-08-09T13:18:24.360Z"
   },
   {
    "duration": 10,
    "start_time": "2023-08-09T13:18:42.384Z"
   },
   {
    "duration": 20,
    "start_time": "2023-08-09T13:29:07.417Z"
   },
   {
    "duration": 22,
    "start_time": "2023-08-09T13:29:28.464Z"
   },
   {
    "duration": 16,
    "start_time": "2023-08-09T13:30:55.410Z"
   },
   {
    "duration": 15,
    "start_time": "2023-08-09T13:31:33.529Z"
   },
   {
    "duration": 8,
    "start_time": "2023-08-09T13:33:49.298Z"
   },
   {
    "duration": 13,
    "start_time": "2023-08-09T13:34:05.873Z"
   },
   {
    "duration": 183,
    "start_time": "2023-08-09T13:34:08.882Z"
   },
   {
    "duration": 193,
    "start_time": "2023-08-09T13:34:14.858Z"
   },
   {
    "duration": 163,
    "start_time": "2023-08-09T13:34:35.697Z"
   },
   {
    "duration": 178,
    "start_time": "2023-08-09T13:34:42.770Z"
   },
   {
    "duration": 166,
    "start_time": "2023-08-09T13:34:52.082Z"
   },
   {
    "duration": 224,
    "start_time": "2023-08-09T13:35:24.067Z"
   },
   {
    "duration": 151,
    "start_time": "2023-08-09T13:36:11.498Z"
   },
   {
    "duration": 84,
    "start_time": "2023-08-09T14:18:11.138Z"
   },
   {
    "duration": 15,
    "start_time": "2023-08-09T14:18:56.394Z"
   },
   {
    "duration": 16,
    "start_time": "2023-08-09T14:20:20.946Z"
   },
   {
    "duration": 9,
    "start_time": "2023-08-09T14:27:20.781Z"
   },
   {
    "duration": 44,
    "start_time": "2023-08-09T14:27:28.356Z"
   },
   {
    "duration": 45,
    "start_time": "2023-08-09T14:28:31.317Z"
   },
   {
    "duration": 18,
    "start_time": "2023-08-09T15:04:36.145Z"
   },
   {
    "duration": 11,
    "start_time": "2023-08-09T15:04:53.849Z"
   },
   {
    "duration": 13,
    "start_time": "2023-08-09T15:05:13.370Z"
   },
   {
    "duration": 14,
    "start_time": "2023-08-09T15:06:01.769Z"
   },
   {
    "duration": 14,
    "start_time": "2023-08-09T15:06:12.265Z"
   },
   {
    "duration": 12,
    "start_time": "2023-08-09T15:06:58.841Z"
   },
   {
    "duration": 14,
    "start_time": "2023-08-09T15:07:30.266Z"
   },
   {
    "duration": 17,
    "start_time": "2023-08-09T15:07:34.569Z"
   },
   {
    "duration": 9,
    "start_time": "2023-08-09T15:07:50.313Z"
   },
   {
    "duration": 28,
    "start_time": "2023-08-09T15:09:39.626Z"
   },
   {
    "duration": 24,
    "start_time": "2023-08-09T15:09:55.634Z"
   },
   {
    "duration": 11,
    "start_time": "2023-08-09T15:36:56.221Z"
   },
   {
    "duration": 8,
    "start_time": "2023-08-09T15:42:19.401Z"
   },
   {
    "duration": 24,
    "start_time": "2023-08-09T15:42:22.508Z"
   },
   {
    "duration": 10,
    "start_time": "2023-08-09T15:42:23.087Z"
   },
   {
    "duration": 25,
    "start_time": "2023-08-09T15:42:37.221Z"
   },
   {
    "duration": 2,
    "start_time": "2023-08-09T15:44:07.949Z"
   },
   {
    "duration": 4,
    "start_time": "2023-08-09T15:44:13.062Z"
   },
   {
    "duration": 4,
    "start_time": "2023-08-09T15:45:08.479Z"
   },
   {
    "duration": 77,
    "start_time": "2023-08-09T15:45:23.039Z"
   },
   {
    "duration": 77,
    "start_time": "2023-08-09T15:46:08.814Z"
   },
   {
    "duration": 80,
    "start_time": "2023-08-09T15:46:59.792Z"
   },
   {
    "duration": 80,
    "start_time": "2023-08-09T15:47:17.286Z"
   },
   {
    "duration": 39,
    "start_time": "2023-08-09T15:59:50.046Z"
   },
   {
    "duration": 30,
    "start_time": "2023-08-09T16:00:24.713Z"
   },
   {
    "duration": 156,
    "start_time": "2023-08-09T16:00:46.289Z"
   },
   {
    "duration": 185,
    "start_time": "2023-08-09T16:01:55.122Z"
   },
   {
    "duration": 26,
    "start_time": "2023-08-10T07:35:45.902Z"
   },
   {
    "duration": 25,
    "start_time": "2023-08-10T07:35:58.135Z"
   },
   {
    "duration": 22,
    "start_time": "2023-08-10T07:36:02.556Z"
   },
   {
    "duration": 13,
    "start_time": "2023-08-10T07:37:33.310Z"
   },
   {
    "duration": 8,
    "start_time": "2023-08-10T07:37:51.526Z"
   },
   {
    "duration": 10,
    "start_time": "2023-08-10T07:37:55.422Z"
   },
   {
    "duration": 19,
    "start_time": "2023-08-10T07:38:05.694Z"
   },
   {
    "duration": 19,
    "start_time": "2023-08-10T07:40:53.272Z"
   },
   {
    "duration": 37,
    "start_time": "2023-08-10T07:41:09.438Z"
   },
   {
    "duration": 18,
    "start_time": "2023-08-10T07:44:49.756Z"
   },
   {
    "duration": 19,
    "start_time": "2023-08-10T07:46:26.173Z"
   },
   {
    "duration": 21,
    "start_time": "2023-08-10T07:48:01.403Z"
   },
   {
    "duration": 17,
    "start_time": "2023-08-10T07:48:11.294Z"
   },
   {
    "duration": 22,
    "start_time": "2023-08-10T07:48:15.376Z"
   },
   {
    "duration": 22,
    "start_time": "2023-08-10T07:48:36.568Z"
   },
   {
    "duration": 24,
    "start_time": "2023-08-10T07:50:35.974Z"
   },
   {
    "duration": 31,
    "start_time": "2023-08-10T07:54:14.873Z"
   },
   {
    "duration": 108,
    "start_time": "2023-08-10T07:54:29.911Z"
   },
   {
    "duration": 33,
    "start_time": "2023-08-10T07:54:34.712Z"
   },
   {
    "duration": 48,
    "start_time": "2023-08-10T07:54:39.865Z"
   },
   {
    "duration": 46,
    "start_time": "2023-08-10T07:55:22.479Z"
   },
   {
    "duration": 84,
    "start_time": "2023-08-10T07:57:11.785Z"
   },
   {
    "duration": 82,
    "start_time": "2023-08-10T07:57:17.320Z"
   },
   {
    "duration": 1946,
    "start_time": "2023-08-10T07:58:13.275Z"
   },
   {
    "duration": 29,
    "start_time": "2023-08-10T07:58:20.770Z"
   },
   {
    "duration": 43,
    "start_time": "2023-08-10T07:59:34.313Z"
   },
   {
    "duration": 55,
    "start_time": "2023-08-10T08:00:30.217Z"
   },
   {
    "duration": 13,
    "start_time": "2023-08-10T09:37:36.578Z"
   },
   {
    "duration": 29,
    "start_time": "2023-08-10T09:38:02.077Z"
   },
   {
    "duration": 101,
    "start_time": "2023-08-10T09:38:03.490Z"
   },
   {
    "duration": 16,
    "start_time": "2023-08-10T09:52:55.685Z"
   },
   {
    "duration": 25,
    "start_time": "2023-08-10T09:53:01.691Z"
   },
   {
    "duration": 82,
    "start_time": "2023-08-10T09:56:01.476Z"
   },
   {
    "duration": 33,
    "start_time": "2023-08-10T09:56:40.516Z"
   },
   {
    "duration": 19,
    "start_time": "2023-08-10T09:56:55.308Z"
   },
   {
    "duration": 26,
    "start_time": "2023-08-10T09:57:05.923Z"
   },
   {
    "duration": 84,
    "start_time": "2023-08-10T09:57:09.371Z"
   },
   {
    "duration": 19,
    "start_time": "2023-08-10T09:57:18.931Z"
   },
   {
    "duration": 95,
    "start_time": "2023-08-10T09:57:21.123Z"
   },
   {
    "duration": 21,
    "start_time": "2023-08-10T09:57:33.756Z"
   },
   {
    "duration": 119,
    "start_time": "2023-08-10T09:58:02.932Z"
   },
   {
    "duration": 94,
    "start_time": "2023-08-10T09:58:26.357Z"
   },
   {
    "duration": 142,
    "start_time": "2023-08-10T09:58:52.052Z"
   },
   {
    "duration": 87,
    "start_time": "2023-08-10T09:59:38.004Z"
   },
   {
    "duration": 95,
    "start_time": "2023-08-10T10:00:01.956Z"
   },
   {
    "duration": 16,
    "start_time": "2023-08-10T10:06:22.955Z"
   },
   {
    "duration": 36,
    "start_time": "2023-08-10T10:06:42.523Z"
   },
   {
    "duration": 36,
    "start_time": "2023-08-10T10:08:02.674Z"
   },
   {
    "duration": 1853,
    "start_time": "2023-08-10T10:08:46.650Z"
   },
   {
    "duration": 3,
    "start_time": "2023-08-10T10:08:48.505Z"
   },
   {
    "duration": 49,
    "start_time": "2023-08-10T10:08:48.510Z"
   },
   {
    "duration": 15,
    "start_time": "2023-08-10T10:08:48.560Z"
   },
   {
    "duration": 102,
    "start_time": "2023-08-10T10:08:48.578Z"
   },
   {
    "duration": 26,
    "start_time": "2023-08-10T10:08:48.682Z"
   },
   {
    "duration": 12,
    "start_time": "2023-08-10T10:08:48.709Z"
   },
   {
    "duration": 22,
    "start_time": "2023-08-10T10:08:48.740Z"
   },
   {
    "duration": 13,
    "start_time": "2023-08-10T10:08:48.763Z"
   },
   {
    "duration": 8,
    "start_time": "2023-08-10T10:08:48.778Z"
   },
   {
    "duration": 29,
    "start_time": "2023-08-10T10:08:48.788Z"
   },
   {
    "duration": 97,
    "start_time": "2023-08-10T10:08:48.818Z"
   },
   {
    "duration": 146,
    "start_time": "2023-08-10T10:08:48.917Z"
   },
   {
    "duration": 0,
    "start_time": "2023-08-10T10:08:49.065Z"
   },
   {
    "duration": 0,
    "start_time": "2023-08-10T10:08:49.066Z"
   },
   {
    "duration": 0,
    "start_time": "2023-08-10T10:08:49.067Z"
   },
   {
    "duration": 0,
    "start_time": "2023-08-10T10:08:49.070Z"
   },
   {
    "duration": 0,
    "start_time": "2023-08-10T10:08:49.071Z"
   },
   {
    "duration": 0,
    "start_time": "2023-08-10T10:08:49.072Z"
   },
   {
    "duration": 0,
    "start_time": "2023-08-10T10:08:49.073Z"
   },
   {
    "duration": 0,
    "start_time": "2023-08-10T10:08:49.075Z"
   },
   {
    "duration": 0,
    "start_time": "2023-08-10T10:08:49.076Z"
   },
   {
    "duration": 0,
    "start_time": "2023-08-10T10:08:49.077Z"
   },
   {
    "duration": 0,
    "start_time": "2023-08-10T10:08:49.078Z"
   },
   {
    "duration": 0,
    "start_time": "2023-08-10T10:08:49.080Z"
   },
   {
    "duration": 0,
    "start_time": "2023-08-10T10:08:49.081Z"
   },
   {
    "duration": 0,
    "start_time": "2023-08-10T10:08:49.082Z"
   },
   {
    "duration": 0,
    "start_time": "2023-08-10T10:08:49.083Z"
   },
   {
    "duration": 0,
    "start_time": "2023-08-10T10:08:49.084Z"
   },
   {
    "duration": 0,
    "start_time": "2023-08-10T10:08:49.085Z"
   },
   {
    "duration": 0,
    "start_time": "2023-08-10T10:08:49.086Z"
   },
   {
    "duration": 0,
    "start_time": "2023-08-10T10:08:49.088Z"
   },
   {
    "duration": 0,
    "start_time": "2023-08-10T10:08:49.089Z"
   },
   {
    "duration": 0,
    "start_time": "2023-08-10T10:08:49.090Z"
   },
   {
    "duration": 0,
    "start_time": "2023-08-10T10:08:49.091Z"
   },
   {
    "duration": 1868,
    "start_time": "2023-08-10T10:09:23.605Z"
   },
   {
    "duration": 4,
    "start_time": "2023-08-10T10:09:25.475Z"
   },
   {
    "duration": 29,
    "start_time": "2023-08-10T10:09:25.481Z"
   },
   {
    "duration": 16,
    "start_time": "2023-08-10T10:09:25.512Z"
   },
   {
    "duration": 122,
    "start_time": "2023-08-10T10:09:25.530Z"
   },
   {
    "duration": 26,
    "start_time": "2023-08-10T10:09:25.653Z"
   },
   {
    "duration": 26,
    "start_time": "2023-08-10T10:09:25.680Z"
   },
   {
    "duration": 50,
    "start_time": "2023-08-10T10:09:25.707Z"
   },
   {
    "duration": 47,
    "start_time": "2023-08-10T10:09:25.759Z"
   },
   {
    "duration": 69,
    "start_time": "2023-08-10T10:09:25.809Z"
   },
   {
    "duration": 31,
    "start_time": "2023-08-10T10:09:25.879Z"
   },
   {
    "duration": 139,
    "start_time": "2023-08-10T10:09:25.911Z"
   },
   {
    "duration": 37,
    "start_time": "2023-08-10T10:09:26.051Z"
   },
   {
    "duration": 5,
    "start_time": "2023-08-10T10:09:26.090Z"
   },
   {
    "duration": 22,
    "start_time": "2023-08-10T10:09:26.097Z"
   },
   {
    "duration": 41,
    "start_time": "2023-08-10T10:09:26.121Z"
   },
   {
    "duration": 15,
    "start_time": "2023-08-10T10:09:26.163Z"
   },
   {
    "duration": 13,
    "start_time": "2023-08-10T10:09:26.179Z"
   },
   {
    "duration": 30,
    "start_time": "2023-08-10T10:09:26.193Z"
   },
   {
    "duration": 79,
    "start_time": "2023-08-10T10:09:26.224Z"
   },
   {
    "duration": 5,
    "start_time": "2023-08-10T10:09:26.304Z"
   },
   {
    "duration": 28,
    "start_time": "2023-08-10T10:09:26.310Z"
   },
   {
    "duration": 13,
    "start_time": "2023-08-10T10:09:26.349Z"
   },
   {
    "duration": 44,
    "start_time": "2023-08-10T10:09:26.364Z"
   },
   {
    "duration": 150,
    "start_time": "2023-08-10T10:09:26.409Z"
   },
   {
    "duration": 3,
    "start_time": "2023-08-10T10:09:26.561Z"
   },
   {
    "duration": 22,
    "start_time": "2023-08-10T10:09:26.565Z"
   },
   {
    "duration": 29,
    "start_time": "2023-08-10T10:09:26.590Z"
   },
   {
    "duration": 95,
    "start_time": "2023-08-10T10:09:26.620Z"
   },
   {
    "duration": 34,
    "start_time": "2023-08-10T10:09:26.717Z"
   },
   {
    "duration": 79,
    "start_time": "2023-08-10T10:09:26.752Z"
   },
   {
    "duration": 34,
    "start_time": "2023-08-10T10:09:26.840Z"
   },
   {
    "duration": 122,
    "start_time": "2023-08-10T10:09:26.876Z"
   },
   {
    "duration": 0,
    "start_time": "2023-08-10T10:09:27.000Z"
   },
   {
    "duration": 37,
    "start_time": "2023-08-10T10:11:55.611Z"
   },
   {
    "duration": 27,
    "start_time": "2023-08-10T10:13:01.975Z"
   },
   {
    "duration": 44,
    "start_time": "2023-08-10T10:13:10.123Z"
   },
   {
    "duration": 31,
    "start_time": "2023-08-10T10:13:39.653Z"
   },
   {
    "duration": 733,
    "start_time": "2023-08-10T10:14:04.558Z"
   },
   {
    "duration": 36,
    "start_time": "2023-08-10T10:14:11.714Z"
   },
   {
    "duration": 30,
    "start_time": "2023-08-10T10:14:51.034Z"
   },
   {
    "duration": 31,
    "start_time": "2023-08-10T10:14:58.403Z"
   },
   {
    "duration": 60,
    "start_time": "2023-08-10T10:15:11.066Z"
   },
   {
    "duration": 185,
    "start_time": "2023-08-10T10:18:47.220Z"
   },
   {
    "duration": 40,
    "start_time": "2023-08-10T10:19:39.610Z"
   },
   {
    "duration": 35,
    "start_time": "2023-08-11T02:57:36.803Z"
   },
   {
    "duration": 30,
    "start_time": "2023-08-11T02:58:19.097Z"
   },
   {
    "duration": 34,
    "start_time": "2023-08-11T03:01:09.393Z"
   },
   {
    "duration": 1760,
    "start_time": "2023-08-11T03:01:23.752Z"
   },
   {
    "duration": 4,
    "start_time": "2023-08-11T03:01:25.513Z"
   },
   {
    "duration": 30,
    "start_time": "2023-08-11T03:01:25.519Z"
   },
   {
    "duration": 17,
    "start_time": "2023-08-11T03:01:25.550Z"
   },
   {
    "duration": 103,
    "start_time": "2023-08-11T03:01:25.568Z"
   },
   {
    "duration": 24,
    "start_time": "2023-08-11T03:01:25.672Z"
   },
   {
    "duration": 12,
    "start_time": "2023-08-11T03:01:25.698Z"
   },
   {
    "duration": 38,
    "start_time": "2023-08-11T03:01:25.711Z"
   },
   {
    "duration": 9,
    "start_time": "2023-08-11T03:01:25.751Z"
   },
   {
    "duration": 9,
    "start_time": "2023-08-11T03:01:25.762Z"
   },
   {
    "duration": 24,
    "start_time": "2023-08-11T03:01:25.773Z"
   },
   {
    "duration": 103,
    "start_time": "2023-08-11T03:01:25.799Z"
   },
   {
    "duration": 38,
    "start_time": "2023-08-11T03:01:25.904Z"
   },
   {
    "duration": 4,
    "start_time": "2023-08-11T03:01:25.943Z"
   },
   {
    "duration": 8,
    "start_time": "2023-08-11T03:01:25.948Z"
   },
   {
    "duration": 21,
    "start_time": "2023-08-11T03:01:25.957Z"
   },
   {
    "duration": 9,
    "start_time": "2023-08-11T03:01:25.979Z"
   },
   {
    "duration": 10,
    "start_time": "2023-08-11T03:01:25.989Z"
   },
   {
    "duration": 10,
    "start_time": "2023-08-11T03:01:26.000Z"
   },
   {
    "duration": 79,
    "start_time": "2023-08-11T03:01:26.011Z"
   },
   {
    "duration": 4,
    "start_time": "2023-08-11T03:01:26.091Z"
   },
   {
    "duration": 25,
    "start_time": "2023-08-11T03:01:26.096Z"
   },
   {
    "duration": 21,
    "start_time": "2023-08-11T03:01:26.122Z"
   },
   {
    "duration": 39,
    "start_time": "2023-08-11T03:01:26.144Z"
   },
   {
    "duration": 160,
    "start_time": "2023-08-11T03:01:26.185Z"
   },
   {
    "duration": 4,
    "start_time": "2023-08-11T03:01:26.346Z"
   },
   {
    "duration": 13,
    "start_time": "2023-08-11T03:01:26.351Z"
   },
   {
    "duration": 25,
    "start_time": "2023-08-11T03:01:26.367Z"
   },
   {
    "duration": 102,
    "start_time": "2023-08-11T03:01:26.393Z"
   },
   {
    "duration": 21,
    "start_time": "2023-08-11T03:01:26.496Z"
   },
   {
    "duration": 96,
    "start_time": "2023-08-11T03:01:26.519Z"
   },
   {
    "duration": 145,
    "start_time": "2023-08-11T03:01:26.617Z"
   },
   {
    "duration": 0,
    "start_time": "2023-08-11T03:01:26.763Z"
   },
   {
    "duration": 0,
    "start_time": "2023-08-11T03:01:26.765Z"
   },
   {
    "duration": 34,
    "start_time": "2023-08-11T03:09:40.090Z"
   },
   {
    "duration": 25,
    "start_time": "2023-08-11T03:10:10.218Z"
   },
   {
    "duration": 35,
    "start_time": "2023-08-11T03:10:36.162Z"
   },
   {
    "duration": 12,
    "start_time": "2023-08-11T03:12:41.267Z"
   },
   {
    "duration": 32,
    "start_time": "2023-08-11T03:12:53.962Z"
   },
   {
    "duration": 182,
    "start_time": "2023-08-11T03:13:26.882Z"
   },
   {
    "duration": 44,
    "start_time": "2023-08-11T03:13:33.266Z"
   },
   {
    "duration": 1509,
    "start_time": "2023-08-11T03:14:41.107Z"
   },
   {
    "duration": 43,
    "start_time": "2023-08-11T03:15:07.114Z"
   },
   {
    "duration": 50,
    "start_time": "2023-08-11T03:16:41.547Z"
   },
   {
    "duration": 47,
    "start_time": "2023-08-11T03:17:33.163Z"
   },
   {
    "duration": 43,
    "start_time": "2023-08-11T03:18:04.515Z"
   },
   {
    "duration": 48,
    "start_time": "2023-08-11T03:18:14.667Z"
   },
   {
    "duration": 2272,
    "start_time": "2023-08-11T03:20:05.220Z"
   },
   {
    "duration": 46,
    "start_time": "2023-08-11T03:20:32.139Z"
   },
   {
    "duration": 44,
    "start_time": "2023-08-11T03:20:52.754Z"
   },
   {
    "duration": 50,
    "start_time": "2023-08-11T03:21:05.707Z"
   },
   {
    "duration": 8,
    "start_time": "2023-08-11T03:34:13.301Z"
   },
   {
    "duration": 8,
    "start_time": "2023-08-11T03:34:27.029Z"
   },
   {
    "duration": 46,
    "start_time": "2023-08-11T03:34:36.308Z"
   },
   {
    "duration": 7,
    "start_time": "2023-08-11T03:36:50.917Z"
   },
   {
    "duration": 7,
    "start_time": "2023-08-11T03:37:10.181Z"
   },
   {
    "duration": 4,
    "start_time": "2023-08-11T03:37:18.389Z"
   },
   {
    "duration": 5,
    "start_time": "2023-08-11T03:38:04.558Z"
   },
   {
    "duration": 8,
    "start_time": "2023-08-11T04:17:32.547Z"
   },
   {
    "duration": 5,
    "start_time": "2023-08-11T04:18:20.785Z"
   },
   {
    "duration": 347,
    "start_time": "2023-08-11T04:18:54.074Z"
   },
   {
    "duration": 4,
    "start_time": "2023-08-11T04:19:17.306Z"
   },
   {
    "duration": 5,
    "start_time": "2023-08-11T04:20:21.297Z"
   },
   {
    "duration": 8,
    "start_time": "2023-08-11T04:20:48.242Z"
   },
   {
    "duration": 5,
    "start_time": "2023-08-11T04:20:55.826Z"
   },
   {
    "duration": 6,
    "start_time": "2023-08-11T04:23:17.018Z"
   },
   {
    "duration": 5,
    "start_time": "2023-08-11T04:23:38.986Z"
   },
   {
    "duration": 61,
    "start_time": "2023-08-11T04:41:41.844Z"
   },
   {
    "duration": 42,
    "start_time": "2023-08-11T04:42:48.459Z"
   },
   {
    "duration": 5,
    "start_time": "2023-08-11T04:43:41.620Z"
   },
   {
    "duration": 51,
    "start_time": "2023-08-11T04:44:02.060Z"
   },
   {
    "duration": 74,
    "start_time": "2023-08-11T04:46:38.748Z"
   },
   {
    "duration": 6,
    "start_time": "2023-08-11T04:47:47.372Z"
   },
   {
    "duration": 13,
    "start_time": "2023-08-11T04:47:53.540Z"
   },
   {
    "duration": 9,
    "start_time": "2023-08-11T04:48:21.140Z"
   },
   {
    "duration": 8,
    "start_time": "2023-08-11T04:50:41.604Z"
   },
   {
    "duration": 6,
    "start_time": "2023-08-11T04:51:39.700Z"
   },
   {
    "duration": 1626,
    "start_time": "2023-08-11T04:51:56.576Z"
   },
   {
    "duration": 5,
    "start_time": "2023-08-11T04:51:58.204Z"
   },
   {
    "duration": 26,
    "start_time": "2023-08-11T04:51:58.212Z"
   },
   {
    "duration": 17,
    "start_time": "2023-08-11T04:51:58.239Z"
   },
   {
    "duration": 102,
    "start_time": "2023-08-11T04:51:58.257Z"
   },
   {
    "duration": 24,
    "start_time": "2023-08-11T04:51:58.361Z"
   },
   {
    "duration": 13,
    "start_time": "2023-08-11T04:51:58.386Z"
   },
   {
    "duration": 38,
    "start_time": "2023-08-11T04:51:58.400Z"
   },
   {
    "duration": 9,
    "start_time": "2023-08-11T04:51:58.441Z"
   },
   {
    "duration": 16,
    "start_time": "2023-08-11T04:51:58.452Z"
   },
   {
    "duration": 22,
    "start_time": "2023-08-11T04:51:58.470Z"
   },
   {
    "duration": 104,
    "start_time": "2023-08-11T04:51:58.494Z"
   },
   {
    "duration": 44,
    "start_time": "2023-08-11T04:51:58.599Z"
   },
   {
    "duration": 4,
    "start_time": "2023-08-11T04:51:58.645Z"
   },
   {
    "duration": 11,
    "start_time": "2023-08-11T04:51:58.650Z"
   },
   {
    "duration": 14,
    "start_time": "2023-08-11T04:51:58.662Z"
   },
   {
    "duration": 11,
    "start_time": "2023-08-11T04:51:58.677Z"
   },
   {
    "duration": 10,
    "start_time": "2023-08-11T04:51:58.689Z"
   },
   {
    "duration": 9,
    "start_time": "2023-08-11T04:51:58.700Z"
   },
   {
    "duration": 89,
    "start_time": "2023-08-11T04:51:58.710Z"
   },
   {
    "duration": 5,
    "start_time": "2023-08-11T04:51:58.800Z"
   },
   {
    "duration": 33,
    "start_time": "2023-08-11T04:51:58.806Z"
   },
   {
    "duration": 7,
    "start_time": "2023-08-11T04:51:58.840Z"
   },
   {
    "duration": 48,
    "start_time": "2023-08-11T04:51:58.849Z"
   },
   {
    "duration": 156,
    "start_time": "2023-08-11T04:51:58.898Z"
   },
   {
    "duration": 5,
    "start_time": "2023-08-11T04:51:59.055Z"
   },
   {
    "duration": 16,
    "start_time": "2023-08-11T04:51:59.063Z"
   },
   {
    "duration": 24,
    "start_time": "2023-08-11T04:51:59.080Z"
   },
   {
    "duration": 105,
    "start_time": "2023-08-11T04:51:59.106Z"
   },
   {
    "duration": 30,
    "start_time": "2023-08-11T04:51:59.212Z"
   },
   {
    "duration": 80,
    "start_time": "2023-08-11T04:51:59.244Z"
   },
   {
    "duration": 45,
    "start_time": "2023-08-11T04:51:59.338Z"
   },
   {
    "duration": 7,
    "start_time": "2023-08-11T04:51:59.385Z"
   },
   {
    "duration": 13,
    "start_time": "2023-08-11T04:51:59.394Z"
   },
   {
    "duration": 73,
    "start_time": "2023-08-11T04:51:59.408Z"
   },
   {
    "duration": 5,
    "start_time": "2023-08-11T04:51:59.483Z"
   },
   {
    "duration": 11,
    "start_time": "2023-08-11T04:51:59.490Z"
   },
   {
    "duration": 90,
    "start_time": "2023-08-11T04:51:59.502Z"
   },
   {
    "duration": 0,
    "start_time": "2023-08-11T04:51:59.593Z"
   },
   {
    "duration": 38,
    "start_time": "2023-08-11T04:56:47.500Z"
   },
   {
    "duration": 499,
    "start_time": "2023-08-11T05:17:36.230Z"
   },
   {
    "duration": 64,
    "start_time": "2023-08-11T05:17:48.735Z"
   },
   {
    "duration": 32,
    "start_time": "2023-08-11T05:28:58.041Z"
   },
   {
    "duration": 19,
    "start_time": "2023-08-11T05:29:26.163Z"
   },
   {
    "duration": 8,
    "start_time": "2023-08-11T05:32:27.545Z"
   },
   {
    "duration": 16,
    "start_time": "2023-08-11T05:32:47.889Z"
   },
   {
    "duration": 19,
    "start_time": "2023-08-11T05:32:53.137Z"
   },
   {
    "duration": 24,
    "start_time": "2023-08-11T05:34:59.594Z"
   },
   {
    "duration": 18,
    "start_time": "2023-08-11T05:36:08.106Z"
   },
   {
    "duration": 18,
    "start_time": "2023-08-11T05:36:25.498Z"
   },
   {
    "duration": 22,
    "start_time": "2023-08-11T05:37:58.091Z"
   },
   {
    "duration": 29,
    "start_time": "2023-08-11T05:38:29.603Z"
   },
   {
    "duration": 1538,
    "start_time": "2023-08-11T05:39:25.412Z"
   },
   {
    "duration": 26,
    "start_time": "2023-08-11T05:40:24.867Z"
   },
   {
    "duration": 36,
    "start_time": "2023-08-11T05:40:31.722Z"
   },
   {
    "duration": 61,
    "start_time": "2023-08-11T05:41:12.997Z"
   },
   {
    "duration": 8,
    "start_time": "2023-08-11T05:43:26.067Z"
   },
   {
    "duration": 34,
    "start_time": "2023-08-11T05:45:55.787Z"
   },
   {
    "duration": 10,
    "start_time": "2023-08-11T05:46:46.540Z"
   },
   {
    "duration": 10,
    "start_time": "2023-08-11T05:47:03.116Z"
   },
   {
    "duration": 1880,
    "start_time": "2023-08-11T05:47:35.199Z"
   },
   {
    "duration": 4,
    "start_time": "2023-08-11T05:47:37.081Z"
   },
   {
    "duration": 31,
    "start_time": "2023-08-11T05:47:37.086Z"
   },
   {
    "duration": 20,
    "start_time": "2023-08-11T05:47:37.118Z"
   },
   {
    "duration": 98,
    "start_time": "2023-08-11T05:47:37.140Z"
   },
   {
    "duration": 27,
    "start_time": "2023-08-11T05:47:37.239Z"
   },
   {
    "duration": 12,
    "start_time": "2023-08-11T05:47:37.267Z"
   },
   {
    "duration": 18,
    "start_time": "2023-08-11T05:47:37.281Z"
   },
   {
    "duration": 10,
    "start_time": "2023-08-11T05:47:37.300Z"
   },
   {
    "duration": 15,
    "start_time": "2023-08-11T05:47:37.339Z"
   },
   {
    "duration": 25,
    "start_time": "2023-08-11T05:47:37.356Z"
   },
   {
    "duration": 107,
    "start_time": "2023-08-11T05:47:37.383Z"
   },
   {
    "duration": 35,
    "start_time": "2023-08-11T05:47:37.491Z"
   },
   {
    "duration": 4,
    "start_time": "2023-08-11T05:47:37.538Z"
   },
   {
    "duration": 9,
    "start_time": "2023-08-11T05:47:37.544Z"
   },
   {
    "duration": 13,
    "start_time": "2023-08-11T05:47:37.554Z"
   },
   {
    "duration": 10,
    "start_time": "2023-08-11T05:47:37.569Z"
   },
   {
    "duration": 10,
    "start_time": "2023-08-11T05:47:37.581Z"
   },
   {
    "duration": 14,
    "start_time": "2023-08-11T05:47:37.592Z"
   },
   {
    "duration": 94,
    "start_time": "2023-08-11T05:47:37.608Z"
   },
   {
    "duration": 5,
    "start_time": "2023-08-11T05:47:37.704Z"
   },
   {
    "duration": 40,
    "start_time": "2023-08-11T05:47:37.711Z"
   },
   {
    "duration": 8,
    "start_time": "2023-08-11T05:47:37.752Z"
   },
   {
    "duration": 40,
    "start_time": "2023-08-11T05:47:37.761Z"
   },
   {
    "duration": 167,
    "start_time": "2023-08-11T05:47:37.802Z"
   },
   {
    "duration": 4,
    "start_time": "2023-08-11T05:47:37.971Z"
   },
   {
    "duration": 21,
    "start_time": "2023-08-11T05:47:37.977Z"
   },
   {
    "duration": 38,
    "start_time": "2023-08-11T05:47:38.002Z"
   },
   {
    "duration": 86,
    "start_time": "2023-08-11T05:47:38.041Z"
   },
   {
    "duration": 20,
    "start_time": "2023-08-11T05:47:38.137Z"
   },
   {
    "duration": 92,
    "start_time": "2023-08-11T05:47:38.159Z"
   },
   {
    "duration": 45,
    "start_time": "2023-08-11T05:47:38.252Z"
   },
   {
    "duration": 7,
    "start_time": "2023-08-11T05:47:38.298Z"
   },
   {
    "duration": 5,
    "start_time": "2023-08-11T05:47:38.307Z"
   },
   {
    "duration": 61,
    "start_time": "2023-08-11T05:47:38.313Z"
   },
   {
    "duration": 6,
    "start_time": "2023-08-11T05:47:38.375Z"
   },
   {
    "duration": 8,
    "start_time": "2023-08-11T05:47:38.382Z"
   },
   {
    "duration": 77,
    "start_time": "2023-08-11T05:47:38.392Z"
   },
   {
    "duration": 7,
    "start_time": "2023-08-11T05:47:38.470Z"
   },
   {
    "duration": 34,
    "start_time": "2023-08-11T05:47:38.479Z"
   },
   {
    "duration": 25,
    "start_time": "2023-08-11T05:47:38.514Z"
   },
   {
    "duration": 165,
    "start_time": "2023-08-11T05:47:38.540Z"
   },
   {
    "duration": 0,
    "start_time": "2023-08-11T05:47:38.706Z"
   },
   {
    "duration": 117,
    "start_time": "2023-08-11T05:51:49.524Z"
   },
   {
    "duration": 3,
    "start_time": "2023-08-11T06:48:23.874Z"
   },
   {
    "duration": 44,
    "start_time": "2023-08-11T06:49:04.322Z"
   },
   {
    "duration": 4,
    "start_time": "2023-08-11T06:49:34.321Z"
   },
   {
    "duration": 43,
    "start_time": "2023-08-11T06:49:36.457Z"
   },
   {
    "duration": 4,
    "start_time": "2023-08-11T06:49:51.298Z"
   },
   {
    "duration": 49,
    "start_time": "2023-08-11T06:49:51.770Z"
   },
   {
    "duration": 4,
    "start_time": "2023-08-11T06:51:34.530Z"
   },
   {
    "duration": 8,
    "start_time": "2023-08-11T06:51:56.003Z"
   },
   {
    "duration": 44,
    "start_time": "2023-08-11T06:52:51.434Z"
   },
   {
    "duration": 7,
    "start_time": "2023-08-11T06:53:23.954Z"
   },
   {
    "duration": 10,
    "start_time": "2023-08-11T06:53:54.081Z"
   },
   {
    "duration": 64,
    "start_time": "2023-08-11T06:55:14.515Z"
   },
   {
    "duration": 12,
    "start_time": "2023-08-11T06:55:58.707Z"
   },
   {
    "duration": 1844,
    "start_time": "2023-08-11T06:56:25.919Z"
   },
   {
    "duration": 4,
    "start_time": "2023-08-11T06:56:27.765Z"
   },
   {
    "duration": 30,
    "start_time": "2023-08-11T06:56:27.770Z"
   },
   {
    "duration": 16,
    "start_time": "2023-08-11T06:56:27.801Z"
   },
   {
    "duration": 106,
    "start_time": "2023-08-11T06:56:27.819Z"
   },
   {
    "duration": 30,
    "start_time": "2023-08-11T06:56:27.926Z"
   },
   {
    "duration": 13,
    "start_time": "2023-08-11T06:56:27.958Z"
   },
   {
    "duration": 26,
    "start_time": "2023-08-11T06:56:27.972Z"
   },
   {
    "duration": 9,
    "start_time": "2023-08-11T06:56:27.999Z"
   },
   {
    "duration": 28,
    "start_time": "2023-08-11T06:56:28.010Z"
   },
   {
    "duration": 31,
    "start_time": "2023-08-11T06:56:28.039Z"
   },
   {
    "duration": 94,
    "start_time": "2023-08-11T06:56:28.071Z"
   },
   {
    "duration": 35,
    "start_time": "2023-08-11T06:56:28.166Z"
   },
   {
    "duration": 5,
    "start_time": "2023-08-11T06:56:28.202Z"
   },
   {
    "duration": 8,
    "start_time": "2023-08-11T06:56:28.208Z"
   },
   {
    "duration": 27,
    "start_time": "2023-08-11T06:56:28.217Z"
   },
   {
    "duration": 30,
    "start_time": "2023-08-11T06:56:28.246Z"
   },
   {
    "duration": 10,
    "start_time": "2023-08-11T06:56:28.277Z"
   },
   {
    "duration": 14,
    "start_time": "2023-08-11T06:56:28.288Z"
   },
   {
    "duration": 80,
    "start_time": "2023-08-11T06:56:28.303Z"
   },
   {
    "duration": 4,
    "start_time": "2023-08-11T06:56:28.384Z"
   },
   {
    "duration": 28,
    "start_time": "2023-08-11T06:56:28.390Z"
   },
   {
    "duration": 7,
    "start_time": "2023-08-11T06:56:28.420Z"
   },
   {
    "duration": 42,
    "start_time": "2023-08-11T06:56:28.437Z"
   },
   {
    "duration": 169,
    "start_time": "2023-08-11T06:56:28.481Z"
   },
   {
    "duration": 4,
    "start_time": "2023-08-11T06:56:28.652Z"
   },
   {
    "duration": 23,
    "start_time": "2023-08-11T06:56:28.657Z"
   },
   {
    "duration": 31,
    "start_time": "2023-08-11T06:56:28.683Z"
   },
   {
    "duration": 100,
    "start_time": "2023-08-11T06:56:28.715Z"
   },
   {
    "duration": 21,
    "start_time": "2023-08-11T06:56:28.817Z"
   },
   {
    "duration": 84,
    "start_time": "2023-08-11T06:56:28.839Z"
   },
   {
    "duration": 13,
    "start_time": "2023-08-11T06:56:28.925Z"
   },
   {
    "duration": 13,
    "start_time": "2023-08-11T06:56:28.939Z"
   },
   {
    "duration": 49,
    "start_time": "2023-08-11T06:56:28.953Z"
   },
   {
    "duration": 7,
    "start_time": "2023-08-11T06:56:29.003Z"
   },
   {
    "duration": 46,
    "start_time": "2023-08-11T06:56:29.012Z"
   },
   {
    "duration": 6,
    "start_time": "2023-08-11T06:56:29.060Z"
   },
   {
    "duration": 11,
    "start_time": "2023-08-11T06:56:29.067Z"
   },
   {
    "duration": 73,
    "start_time": "2023-08-11T06:56:29.079Z"
   },
   {
    "duration": 9,
    "start_time": "2023-08-11T06:56:29.153Z"
   },
   {
    "duration": 30,
    "start_time": "2023-08-11T06:56:29.164Z"
   },
   {
    "duration": 4,
    "start_time": "2023-08-11T06:56:29.196Z"
   },
   {
    "duration": 82,
    "start_time": "2023-08-11T06:56:29.201Z"
   },
   {
    "duration": 0,
    "start_time": "2023-08-11T06:56:29.284Z"
   },
   {
    "duration": 1894,
    "start_time": "2023-08-11T06:58:43.365Z"
   },
   {
    "duration": 5,
    "start_time": "2023-08-11T06:58:45.261Z"
   },
   {
    "duration": 48,
    "start_time": "2023-08-11T06:58:45.267Z"
   },
   {
    "duration": 16,
    "start_time": "2023-08-11T06:58:45.317Z"
   },
   {
    "duration": 107,
    "start_time": "2023-08-11T06:58:45.334Z"
   },
   {
    "duration": 27,
    "start_time": "2023-08-11T06:58:45.442Z"
   },
   {
    "duration": 12,
    "start_time": "2023-08-11T06:58:45.470Z"
   },
   {
    "duration": 19,
    "start_time": "2023-08-11T06:58:45.483Z"
   },
   {
    "duration": 35,
    "start_time": "2023-08-11T06:58:45.503Z"
   },
   {
    "duration": 9,
    "start_time": "2023-08-11T06:58:45.541Z"
   },
   {
    "duration": 31,
    "start_time": "2023-08-11T06:58:45.551Z"
   },
   {
    "duration": 95,
    "start_time": "2023-08-11T06:58:45.583Z"
   },
   {
    "duration": 36,
    "start_time": "2023-08-11T06:58:45.680Z"
   },
   {
    "duration": 21,
    "start_time": "2023-08-11T06:58:45.718Z"
   },
   {
    "duration": 10,
    "start_time": "2023-08-11T06:58:45.740Z"
   },
   {
    "duration": 16,
    "start_time": "2023-08-11T06:58:45.752Z"
   },
   {
    "duration": 22,
    "start_time": "2023-08-11T06:58:45.769Z"
   },
   {
    "duration": 10,
    "start_time": "2023-08-11T06:58:45.793Z"
   },
   {
    "duration": 16,
    "start_time": "2023-08-11T06:58:45.804Z"
   },
   {
    "duration": 73,
    "start_time": "2023-08-11T06:58:45.821Z"
   },
   {
    "duration": 4,
    "start_time": "2023-08-11T06:58:45.896Z"
   },
   {
    "duration": 36,
    "start_time": "2023-08-11T06:58:45.902Z"
   },
   {
    "duration": 7,
    "start_time": "2023-08-11T06:58:45.940Z"
   },
   {
    "duration": 44,
    "start_time": "2023-08-11T06:58:45.949Z"
   },
   {
    "duration": 173,
    "start_time": "2023-08-11T06:58:45.994Z"
   },
   {
    "duration": 3,
    "start_time": "2023-08-11T06:58:46.169Z"
   },
   {
    "duration": 37,
    "start_time": "2023-08-11T06:58:46.173Z"
   },
   {
    "duration": 30,
    "start_time": "2023-08-11T06:58:46.213Z"
   },
   {
    "duration": 96,
    "start_time": "2023-08-11T06:58:46.244Z"
   },
   {
    "duration": 21,
    "start_time": "2023-08-11T06:58:46.341Z"
   },
   {
    "duration": 98,
    "start_time": "2023-08-11T06:58:46.364Z"
   },
   {
    "duration": 3,
    "start_time": "2023-08-11T06:58:46.464Z"
   },
   {
    "duration": 13,
    "start_time": "2023-08-11T06:58:46.469Z"
   },
   {
    "duration": 53,
    "start_time": "2023-08-11T06:58:46.484Z"
   },
   {
    "duration": 7,
    "start_time": "2023-08-11T06:58:46.539Z"
   },
   {
    "duration": 56,
    "start_time": "2023-08-11T06:58:46.547Z"
   },
   {
    "duration": 6,
    "start_time": "2023-08-11T06:58:46.604Z"
   },
   {
    "duration": 12,
    "start_time": "2023-08-11T06:58:46.612Z"
   },
   {
    "duration": 56,
    "start_time": "2023-08-11T06:58:46.638Z"
   },
   {
    "duration": 10,
    "start_time": "2023-08-11T06:58:46.695Z"
   },
   {
    "duration": 53,
    "start_time": "2023-08-11T06:58:46.707Z"
   },
   {
    "duration": 5,
    "start_time": "2023-08-11T06:58:46.761Z"
   },
   {
    "duration": 76,
    "start_time": "2023-08-11T06:58:46.768Z"
   },
   {
    "duration": 0,
    "start_time": "2023-08-11T06:58:46.845Z"
   },
   {
    "duration": 36,
    "start_time": "2023-08-11T07:00:17.152Z"
   },
   {
    "duration": 8,
    "start_time": "2023-08-11T07:00:32.341Z"
   },
   {
    "duration": 25,
    "start_time": "2023-08-11T07:10:05.028Z"
   },
   {
    "duration": 27,
    "start_time": "2023-08-11T07:11:12.952Z"
   },
   {
    "duration": 40,
    "start_time": "2023-08-11T07:12:04.106Z"
   },
   {
    "duration": 37,
    "start_time": "2023-08-11T07:12:29.177Z"
   },
   {
    "duration": 40,
    "start_time": "2023-08-11T07:12:57.753Z"
   },
   {
    "duration": 37,
    "start_time": "2023-08-11T07:13:05.149Z"
   },
   {
    "duration": 45,
    "start_time": "2023-08-11T07:13:34.541Z"
   },
   {
    "duration": 44,
    "start_time": "2023-08-11T07:13:45.569Z"
   },
   {
    "duration": 35,
    "start_time": "2023-08-11T07:15:02.624Z"
   },
   {
    "duration": 37,
    "start_time": "2023-08-11T07:15:59.729Z"
   },
   {
    "duration": 36,
    "start_time": "2023-08-11T07:16:17.706Z"
   },
   {
    "duration": 35,
    "start_time": "2023-08-11T07:16:34.633Z"
   },
   {
    "duration": 37,
    "start_time": "2023-08-11T07:16:46.914Z"
   },
   {
    "duration": 34,
    "start_time": "2023-08-11T07:16:57.540Z"
   },
   {
    "duration": 42,
    "start_time": "2023-08-11T07:19:16.833Z"
   },
   {
    "duration": 35,
    "start_time": "2023-08-11T07:19:58.545Z"
   },
   {
    "duration": 36,
    "start_time": "2023-08-11T07:20:06.195Z"
   },
   {
    "duration": 145,
    "start_time": "2023-08-11T10:22:08.224Z"
   },
   {
    "duration": 162,
    "start_time": "2023-08-11T10:23:39.971Z"
   },
   {
    "duration": 202,
    "start_time": "2023-08-11T10:24:09.129Z"
   },
   {
    "duration": 152,
    "start_time": "2023-08-11T10:24:23.563Z"
   },
   {
    "duration": 159,
    "start_time": "2023-08-11T10:25:50.914Z"
   },
   {
    "duration": 328,
    "start_time": "2023-08-11T10:26:46.154Z"
   },
   {
    "duration": 201,
    "start_time": "2023-08-11T10:27:02.794Z"
   },
   {
    "duration": 233,
    "start_time": "2023-08-11T10:27:08.450Z"
   },
   {
    "duration": 166,
    "start_time": "2023-08-11T10:28:48.451Z"
   },
   {
    "duration": 174,
    "start_time": "2023-08-11T10:29:23.106Z"
   },
   {
    "duration": 188,
    "start_time": "2023-08-11T10:30:57.835Z"
   },
   {
    "duration": 205,
    "start_time": "2023-08-11T10:34:52.854Z"
   },
   {
    "duration": 148,
    "start_time": "2023-08-11T10:41:35.059Z"
   },
   {
    "duration": 156,
    "start_time": "2023-08-11T10:42:03.750Z"
   },
   {
    "duration": 137,
    "start_time": "2023-08-11T10:42:39.515Z"
   },
   {
    "duration": 148,
    "start_time": "2023-08-11T10:42:54.733Z"
   },
   {
    "duration": 151,
    "start_time": "2023-08-11T10:43:43.300Z"
   },
   {
    "duration": 288,
    "start_time": "2023-08-11T10:43:52.456Z"
   },
   {
    "duration": 296,
    "start_time": "2023-08-11T10:44:03.290Z"
   },
   {
    "duration": 206,
    "start_time": "2023-08-11T10:44:15.364Z"
   },
   {
    "duration": 242,
    "start_time": "2023-08-11T10:44:59.958Z"
   },
   {
    "duration": 182,
    "start_time": "2023-08-11T10:45:12.186Z"
   },
   {
    "duration": 202,
    "start_time": "2023-08-11T10:45:48.966Z"
   },
   {
    "duration": 183,
    "start_time": "2023-08-11T10:49:00.396Z"
   },
   {
    "duration": 51,
    "start_time": "2023-08-11T10:50:07.515Z"
   },
   {
    "duration": 58,
    "start_time": "2023-08-11T10:50:09.419Z"
   },
   {
    "duration": 28,
    "start_time": "2023-08-11T10:52:26.444Z"
   },
   {
    "duration": 20,
    "start_time": "2023-08-11T10:52:36.532Z"
   },
   {
    "duration": 18,
    "start_time": "2023-08-11T10:52:56.175Z"
   },
   {
    "duration": 14,
    "start_time": "2023-08-11T10:53:04.613Z"
   },
   {
    "duration": 31,
    "start_time": "2023-08-11T10:53:21.938Z"
   },
   {
    "duration": 22,
    "start_time": "2023-08-11T10:53:28.444Z"
   },
   {
    "duration": 19,
    "start_time": "2023-08-11T10:53:51.750Z"
   },
   {
    "duration": 12,
    "start_time": "2023-08-11T10:54:11.185Z"
   },
   {
    "duration": 14,
    "start_time": "2023-08-11T10:54:16.772Z"
   },
   {
    "duration": 10,
    "start_time": "2023-08-11T10:54:26.003Z"
   },
   {
    "duration": 22,
    "start_time": "2023-08-11T10:55:41.133Z"
   },
   {
    "duration": 137,
    "start_time": "2023-08-11T10:56:32.875Z"
   },
   {
    "duration": 10,
    "start_time": "2023-08-11T11:21:38.269Z"
   },
   {
    "duration": 14,
    "start_time": "2023-08-11T11:24:45.357Z"
   },
   {
    "duration": 12,
    "start_time": "2023-08-11T11:28:15.375Z"
   },
   {
    "duration": 13,
    "start_time": "2023-08-11T11:28:31.534Z"
   },
   {
    "duration": 8,
    "start_time": "2023-08-11T11:29:08.295Z"
   },
   {
    "duration": 9,
    "start_time": "2023-08-11T11:29:15.962Z"
   },
   {
    "duration": 14,
    "start_time": "2023-08-11T11:30:08.765Z"
   },
   {
    "duration": 27,
    "start_time": "2023-08-11T11:31:46.137Z"
   },
   {
    "duration": 574,
    "start_time": "2023-08-11T11:32:35.960Z"
   },
   {
    "duration": 11,
    "start_time": "2023-08-11T11:34:05.215Z"
   },
   {
    "duration": 158,
    "start_time": "2023-08-11T11:34:13.312Z"
   },
   {
    "duration": 10,
    "start_time": "2023-08-11T11:34:19.267Z"
   },
   {
    "duration": 157,
    "start_time": "2023-08-11T11:34:19.734Z"
   },
   {
    "duration": 15,
    "start_time": "2023-08-11T11:34:26.517Z"
   },
   {
    "duration": 10,
    "start_time": "2023-08-11T11:34:41.464Z"
   },
   {
    "duration": 9,
    "start_time": "2023-08-11T11:34:42.169Z"
   },
   {
    "duration": 6,
    "start_time": "2023-08-11T11:34:55.731Z"
   },
   {
    "duration": 13,
    "start_time": "2023-08-11T11:38:09.366Z"
   },
   {
    "duration": 13,
    "start_time": "2023-08-11T11:39:44.479Z"
   },
   {
    "duration": 20,
    "start_time": "2023-08-11T11:46:59.853Z"
   },
   {
    "duration": 15,
    "start_time": "2023-08-11T11:47:23.583Z"
   },
   {
    "duration": 20,
    "start_time": "2023-08-11T11:53:32.056Z"
   },
   {
    "duration": 21,
    "start_time": "2023-08-11T11:53:55.344Z"
   },
   {
    "duration": 3474,
    "start_time": "2023-08-11T11:56:10.332Z"
   },
   {
    "duration": 13,
    "start_time": "2023-08-11T11:56:21.249Z"
   },
   {
    "duration": 14,
    "start_time": "2023-08-11T11:56:26.192Z"
   },
   {
    "duration": 17,
    "start_time": "2023-08-11T11:56:51.713Z"
   },
   {
    "duration": 31,
    "start_time": "2023-08-11T11:57:59.776Z"
   },
   {
    "duration": 12,
    "start_time": "2023-08-11T11:58:18.344Z"
   },
   {
    "duration": 18,
    "start_time": "2023-08-11T11:58:23.280Z"
   },
   {
    "duration": 17,
    "start_time": "2023-08-11T11:58:37.729Z"
   },
   {
    "duration": 17,
    "start_time": "2023-08-11T11:58:51.681Z"
   },
   {
    "duration": 150,
    "start_time": "2023-08-11T12:09:17.044Z"
   },
   {
    "duration": 1946,
    "start_time": "2023-08-11T12:09:31.870Z"
   },
   {
    "duration": 4,
    "start_time": "2023-08-11T12:09:33.818Z"
   },
   {
    "duration": 30,
    "start_time": "2023-08-11T12:09:33.823Z"
   },
   {
    "duration": 16,
    "start_time": "2023-08-11T12:09:33.855Z"
   },
   {
    "duration": 100,
    "start_time": "2023-08-11T12:09:33.873Z"
   },
   {
    "duration": 25,
    "start_time": "2023-08-11T12:09:33.975Z"
   },
   {
    "duration": 13,
    "start_time": "2023-08-11T12:09:34.002Z"
   },
   {
    "duration": 34,
    "start_time": "2023-08-11T12:09:34.016Z"
   },
   {
    "duration": 9,
    "start_time": "2023-08-11T12:09:34.052Z"
   },
   {
    "duration": 33,
    "start_time": "2023-08-11T12:09:34.063Z"
   },
   {
    "duration": 32,
    "start_time": "2023-08-11T12:09:34.097Z"
   },
   {
    "duration": 100,
    "start_time": "2023-08-11T12:09:34.130Z"
   },
   {
    "duration": 34,
    "start_time": "2023-08-11T12:09:34.231Z"
   },
   {
    "duration": 4,
    "start_time": "2023-08-11T12:09:34.266Z"
   },
   {
    "duration": 6,
    "start_time": "2023-08-11T12:09:34.271Z"
   },
   {
    "duration": 13,
    "start_time": "2023-08-11T12:09:34.279Z"
   },
   {
    "duration": 13,
    "start_time": "2023-08-11T12:09:34.293Z"
   },
   {
    "duration": 9,
    "start_time": "2023-08-11T12:09:34.307Z"
   },
   {
    "duration": 23,
    "start_time": "2023-08-11T12:09:34.317Z"
   },
   {
    "duration": 78,
    "start_time": "2023-08-11T12:09:34.341Z"
   },
   {
    "duration": 5,
    "start_time": "2023-08-11T12:09:34.420Z"
   },
   {
    "duration": 49,
    "start_time": "2023-08-11T12:09:34.426Z"
   },
   {
    "duration": 11,
    "start_time": "2023-08-11T12:09:34.476Z"
   },
   {
    "duration": 54,
    "start_time": "2023-08-11T12:09:34.488Z"
   },
   {
    "duration": 182,
    "start_time": "2023-08-11T12:09:34.543Z"
   },
   {
    "duration": 12,
    "start_time": "2023-08-11T12:09:34.727Z"
   },
   {
    "duration": 34,
    "start_time": "2023-08-11T12:09:34.741Z"
   },
   {
    "duration": 27,
    "start_time": "2023-08-11T12:09:34.779Z"
   },
   {
    "duration": 87,
    "start_time": "2023-08-11T12:09:34.808Z"
   },
   {
    "duration": 20,
    "start_time": "2023-08-11T12:09:34.897Z"
   },
   {
    "duration": 100,
    "start_time": "2023-08-11T12:09:34.919Z"
   },
   {
    "duration": 4,
    "start_time": "2023-08-11T12:09:35.021Z"
   },
   {
    "duration": 67,
    "start_time": "2023-08-11T12:09:35.027Z"
   },
   {
    "duration": 88,
    "start_time": "2023-08-11T12:09:35.095Z"
   },
   {
    "duration": 6,
    "start_time": "2023-08-11T12:09:35.185Z"
   },
   {
    "duration": 58,
    "start_time": "2023-08-11T12:09:35.192Z"
   },
   {
    "duration": 6,
    "start_time": "2023-08-11T12:09:35.251Z"
   },
   {
    "duration": 89,
    "start_time": "2023-08-11T12:09:35.258Z"
   },
   {
    "duration": 104,
    "start_time": "2023-08-11T12:09:35.349Z"
   },
   {
    "duration": 10,
    "start_time": "2023-08-11T12:09:35.454Z"
   },
   {
    "duration": 40,
    "start_time": "2023-08-11T12:09:35.466Z"
   },
   {
    "duration": 7,
    "start_time": "2023-08-11T12:09:35.507Z"
   },
   {
    "duration": 79,
    "start_time": "2023-08-11T12:09:35.515Z"
   },
   {
    "duration": 146,
    "start_time": "2023-08-11T12:09:35.596Z"
   },
   {
    "duration": 39,
    "start_time": "2023-08-11T12:09:35.743Z"
   },
   {
    "duration": 154,
    "start_time": "2023-08-11T12:09:35.785Z"
   },
   {
    "duration": 14,
    "start_time": "2023-08-11T12:09:35.941Z"
   },
   {
    "duration": 149,
    "start_time": "2023-08-11T12:09:35.956Z"
   },
   {
    "duration": 10,
    "start_time": "2023-08-11T12:09:36.107Z"
   },
   {
    "duration": 120,
    "start_time": "2023-08-11T12:09:36.119Z"
   },
   {
    "duration": 0,
    "start_time": "2023-08-11T12:09:36.240Z"
   },
   {
    "duration": 0,
    "start_time": "2023-08-11T12:09:36.241Z"
   },
   {
    "duration": 0,
    "start_time": "2023-08-11T12:09:36.242Z"
   },
   {
    "duration": 129,
    "start_time": "2023-08-11T12:09:48.386Z"
   },
   {
    "duration": 92,
    "start_time": "2023-08-11T12:10:25.705Z"
   },
   {
    "duration": 153,
    "start_time": "2023-08-11T12:10:49.929Z"
   },
   {
    "duration": 1699,
    "start_time": "2023-08-11T12:10:56.225Z"
   },
   {
    "duration": 4,
    "start_time": "2023-08-11T12:10:57.926Z"
   },
   {
    "duration": 65,
    "start_time": "2023-08-11T12:10:57.931Z"
   },
   {
    "duration": 16,
    "start_time": "2023-08-11T12:10:57.998Z"
   },
   {
    "duration": 107,
    "start_time": "2023-08-11T12:10:58.015Z"
   },
   {
    "duration": 35,
    "start_time": "2023-08-11T12:10:58.123Z"
   },
   {
    "duration": 13,
    "start_time": "2023-08-11T12:10:58.159Z"
   },
   {
    "duration": 38,
    "start_time": "2023-08-11T12:10:58.173Z"
   },
   {
    "duration": 9,
    "start_time": "2023-08-11T12:10:58.213Z"
   },
   {
    "duration": 33,
    "start_time": "2023-08-11T12:10:58.225Z"
   },
   {
    "duration": 31,
    "start_time": "2023-08-11T12:10:58.259Z"
   },
   {
    "duration": 107,
    "start_time": "2023-08-11T12:10:58.291Z"
   },
   {
    "duration": 41,
    "start_time": "2023-08-11T12:10:58.400Z"
   },
   {
    "duration": 8,
    "start_time": "2023-08-11T12:10:58.444Z"
   },
   {
    "duration": 8,
    "start_time": "2023-08-11T12:10:58.453Z"
   },
   {
    "duration": 20,
    "start_time": "2023-08-11T12:10:58.463Z"
   },
   {
    "duration": 38,
    "start_time": "2023-08-11T12:10:58.484Z"
   },
   {
    "duration": 22,
    "start_time": "2023-08-11T12:10:58.523Z"
   },
   {
    "duration": 31,
    "start_time": "2023-08-11T12:10:58.546Z"
   },
   {
    "duration": 112,
    "start_time": "2023-08-11T12:10:58.578Z"
   },
   {
    "duration": 4,
    "start_time": "2023-08-11T12:10:58.691Z"
   },
   {
    "duration": 28,
    "start_time": "2023-08-11T12:10:58.697Z"
   },
   {
    "duration": 13,
    "start_time": "2023-08-11T12:10:58.726Z"
   },
   {
    "duration": 49,
    "start_time": "2023-08-11T12:10:58.741Z"
   },
   {
    "duration": 173,
    "start_time": "2023-08-11T12:10:58.792Z"
   },
   {
    "duration": 4,
    "start_time": "2023-08-11T12:10:58.966Z"
   },
   {
    "duration": 15,
    "start_time": "2023-08-11T12:10:58.971Z"
   },
   {
    "duration": 27,
    "start_time": "2023-08-11T12:10:58.989Z"
   },
   {
    "duration": 105,
    "start_time": "2023-08-11T12:10:59.017Z"
   },
   {
    "duration": 39,
    "start_time": "2023-08-11T12:10:59.124Z"
   },
   {
    "duration": 96,
    "start_time": "2023-08-11T12:10:59.165Z"
   },
   {
    "duration": 4,
    "start_time": "2023-08-11T12:10:59.263Z"
   },
   {
    "duration": 13,
    "start_time": "2023-08-11T12:10:59.269Z"
   },
   {
    "duration": 80,
    "start_time": "2023-08-11T12:10:59.283Z"
   },
   {
    "duration": 6,
    "start_time": "2023-08-11T12:10:59.365Z"
   },
   {
    "duration": 43,
    "start_time": "2023-08-11T12:10:59.373Z"
   },
   {
    "duration": 21,
    "start_time": "2023-08-11T12:10:59.418Z"
   },
   {
    "duration": 15,
    "start_time": "2023-08-11T12:10:59.440Z"
   },
   {
    "duration": 61,
    "start_time": "2023-08-11T12:10:59.456Z"
   },
   {
    "duration": 19,
    "start_time": "2023-08-11T12:10:59.519Z"
   },
   {
    "duration": 29,
    "start_time": "2023-08-11T12:10:59.539Z"
   },
   {
    "duration": 11,
    "start_time": "2023-08-11T12:10:59.569Z"
   },
   {
    "duration": 47,
    "start_time": "2023-08-11T12:10:59.582Z"
   },
   {
    "duration": 169,
    "start_time": "2023-08-11T12:10:59.630Z"
   },
   {
    "duration": 47,
    "start_time": "2023-08-11T12:10:59.801Z"
   },
   {
    "duration": 153,
    "start_time": "2023-08-11T12:10:59.850Z"
   },
   {
    "duration": 13,
    "start_time": "2023-08-11T12:11:00.005Z"
   },
   {
    "duration": 200,
    "start_time": "2023-08-11T12:11:00.019Z"
   },
   {
    "duration": 10,
    "start_time": "2023-08-11T12:11:00.220Z"
   },
   {
    "duration": 158,
    "start_time": "2023-08-11T12:11:00.231Z"
   },
   {
    "duration": 19,
    "start_time": "2023-08-11T12:11:00.390Z"
   },
   {
    "duration": 81,
    "start_time": "2023-08-11T12:11:00.411Z"
   },
   {
    "duration": 0,
    "start_time": "2023-08-11T12:11:00.493Z"
   },
   {
    "duration": 159,
    "start_time": "2023-08-12T10:58:15.416Z"
   },
   {
    "duration": 200,
    "start_time": "2023-08-12T11:01:26.431Z"
   },
   {
    "duration": 72,
    "start_time": "2023-08-12T11:35:48.564Z"
   },
   {
    "duration": 34,
    "start_time": "2023-08-12T11:39:15.133Z"
   },
   {
    "duration": 30,
    "start_time": "2023-08-12T11:39:17.660Z"
   },
   {
    "duration": 36,
    "start_time": "2023-08-12T11:39:22.563Z"
   },
   {
    "duration": 144,
    "start_time": "2023-08-12T11:41:30.259Z"
   },
   {
    "duration": 66,
    "start_time": "2023-08-12T11:41:37.539Z"
   },
   {
    "duration": 58,
    "start_time": "2023-08-12T11:48:33.837Z"
   },
   {
    "duration": 61,
    "start_time": "2023-08-12T11:49:03.804Z"
   },
   {
    "duration": 60,
    "start_time": "2023-08-12T11:51:09.397Z"
   },
   {
    "duration": 72,
    "start_time": "2023-08-12T11:51:13.389Z"
   },
   {
    "duration": 60,
    "start_time": "2023-08-12T11:51:57.693Z"
   },
   {
    "duration": 72,
    "start_time": "2023-08-12T11:52:02.325Z"
   },
   {
    "duration": 65,
    "start_time": "2023-08-12T11:52:10.852Z"
   },
   {
    "duration": 61,
    "start_time": "2023-08-12T11:52:37.941Z"
   },
   {
    "duration": 2,
    "start_time": "2023-08-12T11:52:38.325Z"
   },
   {
    "duration": 65,
    "start_time": "2023-08-12T11:52:42.556Z"
   },
   {
    "duration": 144,
    "start_time": "2023-08-12T11:53:55.557Z"
   },
   {
    "duration": 11,
    "start_time": "2023-08-12T11:54:48.069Z"
   },
   {
    "duration": 12,
    "start_time": "2023-08-12T11:57:52.206Z"
   },
   {
    "duration": 12,
    "start_time": "2023-08-12T11:58:20.069Z"
   },
   {
    "duration": 1307,
    "start_time": "2023-08-12T12:00:18.694Z"
   },
   {
    "duration": 12,
    "start_time": "2023-08-12T12:00:59.222Z"
   },
   {
    "duration": 11,
    "start_time": "2023-08-12T12:01:05.654Z"
   },
   {
    "duration": 1440,
    "start_time": "2023-08-12T12:01:28.677Z"
   },
   {
    "duration": 12,
    "start_time": "2023-08-12T12:02:16.097Z"
   },
   {
    "duration": 17,
    "start_time": "2023-08-12T12:02:20.558Z"
   },
   {
    "duration": 128,
    "start_time": "2023-08-12T12:04:28.175Z"
   },
   {
    "duration": 8,
    "start_time": "2023-08-13T09:37:20.564Z"
   },
   {
    "duration": 9,
    "start_time": "2023-08-13T09:39:42.147Z"
   },
   {
    "duration": 9,
    "start_time": "2023-08-13T09:40:47.259Z"
   },
   {
    "duration": 26,
    "start_time": "2023-08-13T09:41:43.076Z"
   },
   {
    "duration": 133,
    "start_time": "2023-08-13T09:45:23.612Z"
   },
   {
    "duration": 13,
    "start_time": "2023-08-13T09:45:48.509Z"
   },
   {
    "duration": 138,
    "start_time": "2023-08-13T09:45:51.324Z"
   },
   {
    "duration": 2,
    "start_time": "2023-08-13T09:51:58.317Z"
   },
   {
    "duration": 15,
    "start_time": "2023-08-13T10:05:04.560Z"
   },
   {
    "duration": 165,
    "start_time": "2023-08-13T10:09:22.224Z"
   },
   {
    "duration": 47,
    "start_time": "2023-08-13T10:09:28.384Z"
   },
   {
    "duration": 51,
    "start_time": "2023-08-13T10:09:44.154Z"
   },
   {
    "duration": 57,
    "start_time": "2023-08-13T10:10:24.081Z"
   },
   {
    "duration": 50,
    "start_time": "2023-08-13T10:10:28.592Z"
   },
   {
    "duration": 50,
    "start_time": "2023-08-13T10:11:21.280Z"
   },
   {
    "duration": 93,
    "start_time": "2023-08-13T10:15:02.266Z"
   },
   {
    "duration": 72,
    "start_time": "2023-08-13T10:16:58.007Z"
   },
   {
    "duration": 65,
    "start_time": "2023-08-13T10:18:42.319Z"
   },
   {
    "duration": 2502,
    "start_time": "2023-08-13T10:23:13.975Z"
   },
   {
    "duration": 153,
    "start_time": "2023-08-13T10:23:56.414Z"
   },
   {
    "duration": 1978,
    "start_time": "2023-08-13T10:24:02.301Z"
   },
   {
    "duration": 26,
    "start_time": "2023-08-13T10:24:17.926Z"
   },
   {
    "duration": 1971,
    "start_time": "2023-08-13T10:24:46.702Z"
   },
   {
    "duration": 4,
    "start_time": "2023-08-13T10:24:48.675Z"
   },
   {
    "duration": 27,
    "start_time": "2023-08-13T10:24:48.680Z"
   },
   {
    "duration": 16,
    "start_time": "2023-08-13T10:24:48.709Z"
   },
   {
    "duration": 106,
    "start_time": "2023-08-13T10:24:48.727Z"
   },
   {
    "duration": 35,
    "start_time": "2023-08-13T10:24:48.835Z"
   },
   {
    "duration": 13,
    "start_time": "2023-08-13T10:24:48.872Z"
   },
   {
    "duration": 22,
    "start_time": "2023-08-13T10:24:48.886Z"
   },
   {
    "duration": 9,
    "start_time": "2023-08-13T10:24:48.910Z"
   },
   {
    "duration": 10,
    "start_time": "2023-08-13T10:24:48.944Z"
   },
   {
    "duration": 22,
    "start_time": "2023-08-13T10:24:48.956Z"
   },
   {
    "duration": 106,
    "start_time": "2023-08-13T10:24:48.980Z"
   },
   {
    "duration": 34,
    "start_time": "2023-08-13T10:24:49.087Z"
   },
   {
    "duration": 25,
    "start_time": "2023-08-13T10:24:49.123Z"
   },
   {
    "duration": 6,
    "start_time": "2023-08-13T10:24:49.150Z"
   },
   {
    "duration": 20,
    "start_time": "2023-08-13T10:24:49.157Z"
   },
   {
    "duration": 16,
    "start_time": "2023-08-13T10:24:49.178Z"
   },
   {
    "duration": 9,
    "start_time": "2023-08-13T10:24:49.195Z"
   },
   {
    "duration": 14,
    "start_time": "2023-08-13T10:24:49.205Z"
   },
   {
    "duration": 87,
    "start_time": "2023-08-13T10:24:49.220Z"
   },
   {
    "duration": 4,
    "start_time": "2023-08-13T10:24:49.309Z"
   },
   {
    "duration": 41,
    "start_time": "2023-08-13T10:24:49.314Z"
   },
   {
    "duration": 7,
    "start_time": "2023-08-13T10:24:49.357Z"
   },
   {
    "duration": 43,
    "start_time": "2023-08-13T10:24:49.366Z"
   },
   {
    "duration": 179,
    "start_time": "2023-08-13T10:24:49.411Z"
   },
   {
    "duration": 4,
    "start_time": "2023-08-13T10:24:49.591Z"
   },
   {
    "duration": 15,
    "start_time": "2023-08-13T10:24:49.596Z"
   },
   {
    "duration": 41,
    "start_time": "2023-08-13T10:24:49.614Z"
   },
   {
    "duration": 99,
    "start_time": "2023-08-13T10:24:49.658Z"
   },
   {
    "duration": 20,
    "start_time": "2023-08-13T10:24:49.758Z"
   },
   {
    "duration": 102,
    "start_time": "2023-08-13T10:24:49.780Z"
   },
   {
    "duration": 3,
    "start_time": "2023-08-13T10:24:49.884Z"
   },
   {
    "duration": 19,
    "start_time": "2023-08-13T10:24:49.888Z"
   },
   {
    "duration": 71,
    "start_time": "2023-08-13T10:24:49.908Z"
   },
   {
    "duration": 6,
    "start_time": "2023-08-13T10:24:49.981Z"
   },
   {
    "duration": 63,
    "start_time": "2023-08-13T10:24:49.988Z"
   },
   {
    "duration": 7,
    "start_time": "2023-08-13T10:24:50.053Z"
   },
   {
    "duration": 25,
    "start_time": "2023-08-13T10:24:50.062Z"
   },
   {
    "duration": 67,
    "start_time": "2023-08-13T10:24:50.088Z"
   },
   {
    "duration": 10,
    "start_time": "2023-08-13T10:24:50.156Z"
   },
   {
    "duration": 28,
    "start_time": "2023-08-13T10:24:50.168Z"
   },
   {
    "duration": 7,
    "start_time": "2023-08-13T10:24:50.198Z"
   },
   {
    "duration": 64,
    "start_time": "2023-08-13T10:24:50.206Z"
   },
   {
    "duration": 179,
    "start_time": "2023-08-13T10:24:50.271Z"
   },
   {
    "duration": 39,
    "start_time": "2023-08-13T10:24:50.452Z"
   },
   {
    "duration": 160,
    "start_time": "2023-08-13T10:24:50.493Z"
   },
   {
    "duration": 11,
    "start_time": "2023-08-13T10:24:50.655Z"
   },
   {
    "duration": 137,
    "start_time": "2023-08-13T10:24:50.667Z"
   },
   {
    "duration": 9,
    "start_time": "2023-08-13T10:24:50.805Z"
   },
   {
    "duration": 156,
    "start_time": "2023-08-13T10:24:50.816Z"
   },
   {
    "duration": 18,
    "start_time": "2023-08-13T10:24:50.973Z"
   },
   {
    "duration": 164,
    "start_time": "2023-08-13T10:24:50.992Z"
   },
   {
    "duration": 92,
    "start_time": "2023-08-13T10:24:51.158Z"
   },
   {
    "duration": 25,
    "start_time": "2023-08-13T10:24:51.252Z"
   },
   {
    "duration": 232,
    "start_time": "2023-08-13T10:24:51.278Z"
   },
   {
    "duration": 73,
    "start_time": "2023-08-13T10:24:51.511Z"
   },
   {
    "duration": 10,
    "start_time": "2023-08-13T10:24:51.585Z"
   },
   {
    "duration": 139,
    "start_time": "2023-08-13T10:24:51.596Z"
   },
   {
    "duration": 0,
    "start_time": "2023-08-13T10:24:51.736Z"
   },
   {
    "duration": 12,
    "start_time": "2023-08-13T10:25:22.655Z"
   },
   {
    "duration": 12,
    "start_time": "2023-08-13T10:25:30.711Z"
   },
   {
    "duration": 78,
    "start_time": "2023-08-13T10:26:54.727Z"
   },
   {
    "duration": 54,
    "start_time": "2023-08-13T10:27:38.167Z"
   },
   {
    "duration": 65,
    "start_time": "2023-08-13T10:27:41.991Z"
   },
   {
    "duration": 15,
    "start_time": "2023-08-13T10:27:45.696Z"
   },
   {
    "duration": 68,
    "start_time": "2023-08-13T10:28:58.599Z"
   },
   {
    "duration": 73,
    "start_time": "2023-08-13T10:29:02.726Z"
   },
   {
    "duration": 13,
    "start_time": "2023-08-13T10:29:11.559Z"
   },
   {
    "duration": 15,
    "start_time": "2023-08-13T10:29:34.063Z"
   },
   {
    "duration": 126,
    "start_time": "2023-08-13T10:29:41.103Z"
   },
   {
    "duration": 2,
    "start_time": "2023-08-13T10:33:12.776Z"
   },
   {
    "duration": 41,
    "start_time": "2023-08-13T10:40:15.208Z"
   },
   {
    "duration": 17,
    "start_time": "2023-08-13T10:41:14.999Z"
   },
   {
    "duration": 137,
    "start_time": "2023-08-13T10:43:37.656Z"
   },
   {
    "duration": 7,
    "start_time": "2023-08-13T10:54:53.698Z"
   },
   {
    "duration": 11,
    "start_time": "2023-08-13T10:55:35.554Z"
   },
   {
    "duration": 15,
    "start_time": "2023-08-13T10:55:43.316Z"
   },
   {
    "duration": 14,
    "start_time": "2023-08-13T10:57:00.155Z"
   },
   {
    "duration": 23,
    "start_time": "2023-08-13T10:57:05.355Z"
   },
   {
    "duration": 7,
    "start_time": "2023-08-13T11:01:13.428Z"
   },
   {
    "duration": 11,
    "start_time": "2023-08-13T11:01:16.988Z"
   },
   {
    "duration": 9,
    "start_time": "2023-08-13T11:02:15.948Z"
   },
   {
    "duration": 1737,
    "start_time": "2023-08-13T11:02:26.107Z"
   },
   {
    "duration": 8,
    "start_time": "2023-08-13T11:02:27.846Z"
   },
   {
    "duration": 38,
    "start_time": "2023-08-13T11:02:27.855Z"
   },
   {
    "duration": 16,
    "start_time": "2023-08-13T11:02:27.895Z"
   },
   {
    "duration": 108,
    "start_time": "2023-08-13T11:02:27.912Z"
   },
   {
    "duration": 42,
    "start_time": "2023-08-13T11:02:28.022Z"
   },
   {
    "duration": 13,
    "start_time": "2023-08-13T11:02:28.065Z"
   },
   {
    "duration": 21,
    "start_time": "2023-08-13T11:02:28.079Z"
   },
   {
    "duration": 8,
    "start_time": "2023-08-13T11:02:28.102Z"
   },
   {
    "duration": 32,
    "start_time": "2023-08-13T11:02:28.113Z"
   },
   {
    "duration": 44,
    "start_time": "2023-08-13T11:02:28.146Z"
   },
   {
    "duration": 109,
    "start_time": "2023-08-13T11:02:28.192Z"
   },
   {
    "duration": 42,
    "start_time": "2023-08-13T11:02:28.302Z"
   },
   {
    "duration": 6,
    "start_time": "2023-08-13T11:02:28.346Z"
   },
   {
    "duration": 33,
    "start_time": "2023-08-13T11:02:28.354Z"
   },
   {
    "duration": 60,
    "start_time": "2023-08-13T11:02:28.389Z"
   },
   {
    "duration": 18,
    "start_time": "2023-08-13T11:02:28.451Z"
   },
   {
    "duration": 11,
    "start_time": "2023-08-13T11:02:28.470Z"
   },
   {
    "duration": 11,
    "start_time": "2023-08-13T11:02:28.482Z"
   },
   {
    "duration": 87,
    "start_time": "2023-08-13T11:02:28.494Z"
   },
   {
    "duration": 5,
    "start_time": "2023-08-13T11:02:28.582Z"
   },
   {
    "duration": 34,
    "start_time": "2023-08-13T11:02:28.589Z"
   },
   {
    "duration": 13,
    "start_time": "2023-08-13T11:02:28.624Z"
   },
   {
    "duration": 72,
    "start_time": "2023-08-13T11:02:28.639Z"
   },
   {
    "duration": 166,
    "start_time": "2023-08-13T11:02:28.712Z"
   },
   {
    "duration": 4,
    "start_time": "2023-08-13T11:02:28.879Z"
   },
   {
    "duration": 19,
    "start_time": "2023-08-13T11:02:28.884Z"
   },
   {
    "duration": 32,
    "start_time": "2023-08-13T11:02:28.906Z"
   },
   {
    "duration": 98,
    "start_time": "2023-08-13T11:02:28.940Z"
   },
   {
    "duration": 24,
    "start_time": "2023-08-13T11:02:29.040Z"
   },
   {
    "duration": 98,
    "start_time": "2023-08-13T11:02:29.066Z"
   },
   {
    "duration": 3,
    "start_time": "2023-08-13T11:02:29.166Z"
   },
   {
    "duration": 22,
    "start_time": "2023-08-13T11:02:29.171Z"
   },
   {
    "duration": 49,
    "start_time": "2023-08-13T11:02:29.195Z"
   },
   {
    "duration": 8,
    "start_time": "2023-08-13T11:02:29.245Z"
   },
   {
    "duration": 49,
    "start_time": "2023-08-13T11:02:29.255Z"
   },
   {
    "duration": 6,
    "start_time": "2023-08-13T11:02:29.306Z"
   },
   {
    "duration": 26,
    "start_time": "2023-08-13T11:02:29.313Z"
   },
   {
    "duration": 59,
    "start_time": "2023-08-13T11:02:29.341Z"
   },
   {
    "duration": 10,
    "start_time": "2023-08-13T11:02:29.402Z"
   },
   {
    "duration": 55,
    "start_time": "2023-08-13T11:02:29.413Z"
   },
   {
    "duration": 7,
    "start_time": "2023-08-13T11:02:29.469Z"
   },
   {
    "duration": 39,
    "start_time": "2023-08-13T11:02:29.478Z"
   },
   {
    "duration": 190,
    "start_time": "2023-08-13T11:02:29.519Z"
   },
   {
    "duration": 52,
    "start_time": "2023-08-13T11:02:29.710Z"
   },
   {
    "duration": 159,
    "start_time": "2023-08-13T11:02:29.764Z"
   },
   {
    "duration": 19,
    "start_time": "2023-08-13T11:02:29.925Z"
   },
   {
    "duration": 136,
    "start_time": "2023-08-13T11:02:29.946Z"
   },
   {
    "duration": 10,
    "start_time": "2023-08-13T11:02:30.083Z"
   },
   {
    "duration": 189,
    "start_time": "2023-08-13T11:02:30.094Z"
   },
   {
    "duration": 18,
    "start_time": "2023-08-13T11:02:30.285Z"
   },
   {
    "duration": 192,
    "start_time": "2023-08-13T11:02:30.305Z"
   },
   {
    "duration": 98,
    "start_time": "2023-08-13T11:02:30.499Z"
   },
   {
    "duration": 14,
    "start_time": "2023-08-13T11:02:30.599Z"
   },
   {
    "duration": 241,
    "start_time": "2023-08-13T11:02:30.614Z"
   },
   {
    "duration": 67,
    "start_time": "2023-08-13T11:02:30.857Z"
   },
   {
    "duration": 39,
    "start_time": "2023-08-13T11:02:30.925Z"
   },
   {
    "duration": 186,
    "start_time": "2023-08-13T11:02:30.966Z"
   },
   {
    "duration": 42,
    "start_time": "2023-08-13T11:02:31.154Z"
   },
   {
    "duration": 62,
    "start_time": "2023-08-13T11:02:31.198Z"
   },
   {
    "duration": 195,
    "start_time": "2023-08-13T11:02:31.261Z"
   },
   {
    "duration": 35,
    "start_time": "2023-08-13T11:02:31.457Z"
   },
   {
    "duration": 28,
    "start_time": "2023-08-13T11:02:31.494Z"
   },
   {
    "duration": 60,
    "start_time": "2023-08-13T11:02:31.523Z"
   },
   {
    "duration": 52,
    "start_time": "2023-08-13T11:02:31.585Z"
   },
   {
    "duration": 10,
    "start_time": "2023-08-13T11:03:21.564Z"
   },
   {
    "duration": 11,
    "start_time": "2023-08-13T11:03:58.850Z"
   },
   {
    "duration": 11,
    "start_time": "2023-08-13T11:04:32.649Z"
   },
   {
    "duration": 9,
    "start_time": "2023-08-13T11:04:52.149Z"
   },
   {
    "duration": 12,
    "start_time": "2023-08-13T11:07:59.924Z"
   },
   {
    "duration": 15,
    "start_time": "2023-08-13T11:09:45.221Z"
   },
   {
    "duration": 1714,
    "start_time": "2023-08-13T11:10:39.268Z"
   },
   {
    "duration": 3,
    "start_time": "2023-08-13T11:10:40.984Z"
   },
   {
    "duration": 30,
    "start_time": "2023-08-13T11:10:40.989Z"
   },
   {
    "duration": 16,
    "start_time": "2023-08-13T11:10:41.021Z"
   },
   {
    "duration": 124,
    "start_time": "2023-08-13T11:10:41.038Z"
   },
   {
    "duration": 29,
    "start_time": "2023-08-13T11:10:41.165Z"
   },
   {
    "duration": 13,
    "start_time": "2023-08-13T11:10:41.195Z"
   },
   {
    "duration": 30,
    "start_time": "2023-08-13T11:10:41.209Z"
   },
   {
    "duration": 29,
    "start_time": "2023-08-13T11:10:41.240Z"
   },
   {
    "duration": 10,
    "start_time": "2023-08-13T11:10:41.272Z"
   },
   {
    "duration": 37,
    "start_time": "2023-08-13T11:10:41.283Z"
   },
   {
    "duration": 105,
    "start_time": "2023-08-13T11:10:41.321Z"
   },
   {
    "duration": 42,
    "start_time": "2023-08-13T11:10:41.428Z"
   },
   {
    "duration": 5,
    "start_time": "2023-08-13T11:10:41.471Z"
   },
   {
    "duration": 18,
    "start_time": "2023-08-13T11:10:41.477Z"
   },
   {
    "duration": 15,
    "start_time": "2023-08-13T11:10:41.496Z"
   },
   {
    "duration": 17,
    "start_time": "2023-08-13T11:10:41.512Z"
   },
   {
    "duration": 30,
    "start_time": "2023-08-13T11:10:41.530Z"
   },
   {
    "duration": 15,
    "start_time": "2023-08-13T11:10:41.563Z"
   },
   {
    "duration": 79,
    "start_time": "2023-08-13T11:10:41.580Z"
   },
   {
    "duration": 5,
    "start_time": "2023-08-13T11:10:41.662Z"
   },
   {
    "duration": 35,
    "start_time": "2023-08-13T11:10:41.669Z"
   },
   {
    "duration": 8,
    "start_time": "2023-08-13T11:10:41.705Z"
   },
   {
    "duration": 56,
    "start_time": "2023-08-13T11:10:41.714Z"
   },
   {
    "duration": 185,
    "start_time": "2023-08-13T11:10:41.771Z"
   },
   {
    "duration": 4,
    "start_time": "2023-08-13T11:10:41.958Z"
   },
   {
    "duration": 22,
    "start_time": "2023-08-13T11:10:41.964Z"
   },
   {
    "duration": 26,
    "start_time": "2023-08-13T11:10:41.989Z"
   },
   {
    "duration": 108,
    "start_time": "2023-08-13T11:10:42.016Z"
   },
   {
    "duration": 33,
    "start_time": "2023-08-13T11:10:42.126Z"
   },
   {
    "duration": 93,
    "start_time": "2023-08-13T11:10:42.161Z"
   },
   {
    "duration": 4,
    "start_time": "2023-08-13T11:10:42.255Z"
   },
   {
    "duration": 27,
    "start_time": "2023-08-13T11:10:42.261Z"
   },
   {
    "duration": 66,
    "start_time": "2023-08-13T11:10:42.289Z"
   },
   {
    "duration": 10,
    "start_time": "2023-08-13T11:10:42.356Z"
   },
   {
    "duration": 56,
    "start_time": "2023-08-13T11:10:42.368Z"
   },
   {
    "duration": 6,
    "start_time": "2023-08-13T11:10:42.426Z"
   },
   {
    "duration": 41,
    "start_time": "2023-08-13T11:10:42.439Z"
   },
   {
    "duration": 67,
    "start_time": "2023-08-13T11:10:42.482Z"
   },
   {
    "duration": 16,
    "start_time": "2023-08-13T11:10:42.550Z"
   },
   {
    "duration": 47,
    "start_time": "2023-08-13T11:10:42.568Z"
   },
   {
    "duration": 7,
    "start_time": "2023-08-13T11:10:42.617Z"
   },
   {
    "duration": 80,
    "start_time": "2023-08-13T11:10:42.625Z"
   },
   {
    "duration": 174,
    "start_time": "2023-08-13T11:10:42.706Z"
   },
   {
    "duration": 40,
    "start_time": "2023-08-13T11:10:42.882Z"
   },
   {
    "duration": 166,
    "start_time": "2023-08-13T11:10:42.923Z"
   },
   {
    "duration": 11,
    "start_time": "2023-08-13T11:10:43.091Z"
   },
   {
    "duration": 164,
    "start_time": "2023-08-13T11:10:43.103Z"
   },
   {
    "duration": 10,
    "start_time": "2023-08-13T11:10:43.268Z"
   },
   {
    "duration": 140,
    "start_time": "2023-08-13T11:10:43.280Z"
   },
   {
    "duration": 26,
    "start_time": "2023-08-13T11:10:43.422Z"
   },
   {
    "duration": 215,
    "start_time": "2023-08-13T11:10:43.450Z"
   },
   {
    "duration": 99,
    "start_time": "2023-08-13T11:10:43.667Z"
   },
   {
    "duration": 15,
    "start_time": "2023-08-13T11:10:43.767Z"
   },
   {
    "duration": 207,
    "start_time": "2023-08-13T11:10:43.783Z"
   },
   {
    "duration": 80,
    "start_time": "2023-08-13T11:10:43.992Z"
   },
   {
    "duration": 16,
    "start_time": "2023-08-13T11:10:44.074Z"
   },
   {
    "duration": 168,
    "start_time": "2023-08-13T11:10:44.092Z"
   },
   {
    "duration": 46,
    "start_time": "2023-08-13T11:10:44.264Z"
   },
   {
    "duration": 15,
    "start_time": "2023-08-13T11:10:44.311Z"
   },
   {
    "duration": 181,
    "start_time": "2023-08-13T11:10:44.338Z"
   },
   {
    "duration": 30,
    "start_time": "2023-08-13T11:10:44.522Z"
   },
   {
    "duration": 29,
    "start_time": "2023-08-13T11:10:44.554Z"
   },
   {
    "duration": 39,
    "start_time": "2023-08-13T11:10:44.585Z"
   },
   {
    "duration": 58,
    "start_time": "2023-08-13T11:10:44.625Z"
   },
   {
    "duration": 4,
    "start_time": "2023-08-13T11:13:12.036Z"
   },
   {
    "duration": 143,
    "start_time": "2023-08-13T11:13:31.429Z"
   },
   {
    "duration": 157,
    "start_time": "2023-08-13T11:14:34.614Z"
   },
   {
    "duration": 145,
    "start_time": "2023-08-13T11:15:05.850Z"
   },
   {
    "duration": 141,
    "start_time": "2023-08-13T11:15:15.752Z"
   },
   {
    "duration": 124,
    "start_time": "2023-08-13T12:07:43.100Z"
   },
   {
    "duration": 11,
    "start_time": "2023-08-13T12:08:11.052Z"
   },
   {
    "duration": 13,
    "start_time": "2023-08-13T12:08:26.452Z"
   },
   {
    "duration": 4,
    "start_time": "2023-08-13T12:09:57.972Z"
   },
   {
    "duration": 36,
    "start_time": "2023-08-13T12:10:13.643Z"
   },
   {
    "duration": 11,
    "start_time": "2023-08-13T12:10:53.350Z"
   },
   {
    "duration": 33,
    "start_time": "2023-08-13T12:12:18.172Z"
   },
   {
    "duration": 1662,
    "start_time": "2023-08-13T12:19:08.733Z"
   },
   {
    "duration": 543,
    "start_time": "2023-08-13T12:19:28.910Z"
   },
   {
    "duration": 45,
    "start_time": "2023-08-13T12:19:34.646Z"
   },
   {
    "duration": 29,
    "start_time": "2023-08-13T12:20:01.794Z"
   },
   {
    "duration": 705,
    "start_time": "2023-08-13T12:20:21.750Z"
   },
   {
    "duration": 28,
    "start_time": "2023-08-13T12:20:40.822Z"
   },
   {
    "duration": 41,
    "start_time": "2023-08-13T12:22:57.407Z"
   },
   {
    "duration": 8,
    "start_time": "2023-08-13T12:22:59.310Z"
   },
   {
    "duration": 25,
    "start_time": "2023-08-13T12:23:13.814Z"
   },
   {
    "duration": 36,
    "start_time": "2023-08-13T12:23:40.111Z"
   },
   {
    "duration": 28,
    "start_time": "2023-08-13T12:24:15.599Z"
   },
   {
    "duration": 10,
    "start_time": "2023-08-13T12:24:44.871Z"
   },
   {
    "duration": 1845,
    "start_time": "2023-08-13T12:25:31.703Z"
   },
   {
    "duration": 4,
    "start_time": "2023-08-13T12:25:33.550Z"
   },
   {
    "duration": 36,
    "start_time": "2023-08-13T12:25:33.555Z"
   },
   {
    "duration": 15,
    "start_time": "2023-08-13T12:25:33.593Z"
   },
   {
    "duration": 105,
    "start_time": "2023-08-13T12:25:33.611Z"
   },
   {
    "duration": 39,
    "start_time": "2023-08-13T12:25:33.718Z"
   },
   {
    "duration": 12,
    "start_time": "2023-08-13T12:25:33.758Z"
   },
   {
    "duration": 20,
    "start_time": "2023-08-13T12:25:33.772Z"
   },
   {
    "duration": 9,
    "start_time": "2023-08-13T12:25:33.794Z"
   },
   {
    "duration": 35,
    "start_time": "2023-08-13T12:25:33.805Z"
   },
   {
    "duration": 20,
    "start_time": "2023-08-13T12:25:33.842Z"
   },
   {
    "duration": 97,
    "start_time": "2023-08-13T12:25:33.863Z"
   },
   {
    "duration": 35,
    "start_time": "2023-08-13T12:25:33.961Z"
   },
   {
    "duration": 5,
    "start_time": "2023-08-13T12:25:34.000Z"
   },
   {
    "duration": 55,
    "start_time": "2023-08-13T12:25:34.006Z"
   },
   {
    "duration": 34,
    "start_time": "2023-08-13T12:25:34.062Z"
   },
   {
    "duration": 13,
    "start_time": "2023-08-13T12:25:34.098Z"
   },
   {
    "duration": 14,
    "start_time": "2023-08-13T12:25:34.112Z"
   },
   {
    "duration": 17,
    "start_time": "2023-08-13T12:25:34.128Z"
   },
   {
    "duration": 84,
    "start_time": "2023-08-13T12:25:34.146Z"
   },
   {
    "duration": 5,
    "start_time": "2023-08-13T12:25:34.231Z"
   },
   {
    "duration": 55,
    "start_time": "2023-08-13T12:25:34.237Z"
   },
   {
    "duration": 18,
    "start_time": "2023-08-13T12:25:34.293Z"
   },
   {
    "duration": 79,
    "start_time": "2023-08-13T12:25:34.312Z"
   },
   {
    "duration": 188,
    "start_time": "2023-08-13T12:25:34.393Z"
   },
   {
    "duration": 4,
    "start_time": "2023-08-13T12:25:34.582Z"
   },
   {
    "duration": 28,
    "start_time": "2023-08-13T12:25:34.588Z"
   },
   {
    "duration": 40,
    "start_time": "2023-08-13T12:25:34.618Z"
   },
   {
    "duration": 92,
    "start_time": "2023-08-13T12:25:34.659Z"
   },
   {
    "duration": 21,
    "start_time": "2023-08-13T12:25:34.752Z"
   },
   {
    "duration": 99,
    "start_time": "2023-08-13T12:25:34.774Z"
   },
   {
    "duration": 3,
    "start_time": "2023-08-13T12:25:34.875Z"
   },
   {
    "duration": 8,
    "start_time": "2023-08-13T12:25:34.879Z"
   },
   {
    "duration": 69,
    "start_time": "2023-08-13T12:25:34.888Z"
   },
   {
    "duration": 7,
    "start_time": "2023-08-13T12:25:34.959Z"
   },
   {
    "duration": 43,
    "start_time": "2023-08-13T12:25:34.967Z"
   },
   {
    "duration": 28,
    "start_time": "2023-08-13T12:25:35.012Z"
   },
   {
    "duration": 9,
    "start_time": "2023-08-13T12:25:35.042Z"
   },
   {
    "duration": 33,
    "start_time": "2023-08-13T12:25:35.053Z"
   },
   {
    "duration": 12,
    "start_time": "2023-08-13T12:25:35.087Z"
   },
   {
    "duration": 15,
    "start_time": "2023-08-13T12:25:35.103Z"
   },
   {
    "duration": 56,
    "start_time": "2023-08-13T12:25:35.119Z"
   },
   {
    "duration": 16,
    "start_time": "2023-08-13T12:25:35.178Z"
   },
   {
    "duration": 40,
    "start_time": "2023-08-13T12:25:35.195Z"
   },
   {
    "duration": 155,
    "start_time": "2023-08-13T12:25:35.237Z"
   },
   {
    "duration": 49,
    "start_time": "2023-08-13T12:25:35.393Z"
   },
   {
    "duration": 150,
    "start_time": "2023-08-13T12:25:35.444Z"
   },
   {
    "duration": 11,
    "start_time": "2023-08-13T12:25:35.595Z"
   },
   {
    "duration": 139,
    "start_time": "2023-08-13T12:25:35.607Z"
   },
   {
    "duration": 11,
    "start_time": "2023-08-13T12:25:35.747Z"
   },
   {
    "duration": 145,
    "start_time": "2023-08-13T12:25:35.759Z"
   },
   {
    "duration": 19,
    "start_time": "2023-08-13T12:25:35.905Z"
   },
   {
    "duration": 139,
    "start_time": "2023-08-13T12:25:35.937Z"
   },
   {
    "duration": 3,
    "start_time": "2023-08-13T12:25:36.078Z"
   },
   {
    "duration": 94,
    "start_time": "2023-08-13T12:25:36.082Z"
   },
   {
    "duration": 14,
    "start_time": "2023-08-13T12:25:36.177Z"
   },
   {
    "duration": 203,
    "start_time": "2023-08-13T12:25:36.193Z"
   },
   {
    "duration": 74,
    "start_time": "2023-08-13T12:25:36.397Z"
   },
   {
    "duration": 14,
    "start_time": "2023-08-13T12:25:36.473Z"
   },
   {
    "duration": 143,
    "start_time": "2023-08-13T12:25:36.489Z"
   },
   {
    "duration": 41,
    "start_time": "2023-08-13T12:25:36.633Z"
   },
   {
    "duration": 18,
    "start_time": "2023-08-13T12:25:36.677Z"
   },
   {
    "duration": 156,
    "start_time": "2023-08-13T12:25:36.696Z"
   },
   {
    "duration": 17,
    "start_time": "2023-08-13T12:25:36.854Z"
   },
   {
    "duration": 7,
    "start_time": "2023-08-13T12:25:36.873Z"
   },
   {
    "duration": 16,
    "start_time": "2023-08-13T12:25:36.881Z"
   },
   {
    "duration": 146,
    "start_time": "2023-08-13T12:25:36.899Z"
   },
   {
    "duration": 13,
    "start_time": "2023-08-13T12:25:37.047Z"
   },
   {
    "duration": 9,
    "start_time": "2023-08-13T12:25:37.061Z"
   },
   {
    "duration": 124,
    "start_time": "2023-08-13T12:25:37.071Z"
   },
   {
    "duration": 0,
    "start_time": "2023-08-13T12:25:37.197Z"
   },
   {
    "duration": 34,
    "start_time": "2023-08-13T12:26:11.518Z"
   },
   {
    "duration": 14,
    "start_time": "2023-08-13T12:26:13.037Z"
   },
   {
    "duration": 20,
    "start_time": "2023-08-13T12:26:28.671Z"
   },
   {
    "duration": 1814,
    "start_time": "2023-08-13T12:26:53.608Z"
   },
   {
    "duration": 5,
    "start_time": "2023-08-13T12:26:55.424Z"
   },
   {
    "duration": 42,
    "start_time": "2023-08-13T12:26:55.431Z"
   },
   {
    "duration": 23,
    "start_time": "2023-08-13T12:26:55.476Z"
   },
   {
    "duration": 142,
    "start_time": "2023-08-13T12:26:55.501Z"
   },
   {
    "duration": 25,
    "start_time": "2023-08-13T12:26:55.645Z"
   },
   {
    "duration": 31,
    "start_time": "2023-08-13T12:26:55.672Z"
   },
   {
    "duration": 26,
    "start_time": "2023-08-13T12:26:55.705Z"
   },
   {
    "duration": 15,
    "start_time": "2023-08-13T12:26:55.738Z"
   },
   {
    "duration": 14,
    "start_time": "2023-08-13T12:26:55.757Z"
   },
   {
    "duration": 25,
    "start_time": "2023-08-13T12:26:55.773Z"
   },
   {
    "duration": 115,
    "start_time": "2023-08-13T12:26:55.800Z"
   },
   {
    "duration": 62,
    "start_time": "2023-08-13T12:26:55.916Z"
   },
   {
    "duration": 5,
    "start_time": "2023-08-13T12:26:55.980Z"
   },
   {
    "duration": 13,
    "start_time": "2023-08-13T12:26:55.987Z"
   },
   {
    "duration": 15,
    "start_time": "2023-08-13T12:26:56.001Z"
   },
   {
    "duration": 21,
    "start_time": "2023-08-13T12:26:56.018Z"
   },
   {
    "duration": 11,
    "start_time": "2023-08-13T12:26:56.040Z"
   },
   {
    "duration": 17,
    "start_time": "2023-08-13T12:26:56.053Z"
   },
   {
    "duration": 85,
    "start_time": "2023-08-13T12:26:56.072Z"
   },
   {
    "duration": 5,
    "start_time": "2023-08-13T12:26:56.158Z"
   },
   {
    "duration": 30,
    "start_time": "2023-08-13T12:26:56.165Z"
   },
   {
    "duration": 15,
    "start_time": "2023-08-13T12:26:56.197Z"
   },
   {
    "duration": 64,
    "start_time": "2023-08-13T12:26:56.214Z"
   },
   {
    "duration": 165,
    "start_time": "2023-08-13T12:26:56.279Z"
   },
   {
    "duration": 4,
    "start_time": "2023-08-13T12:26:56.446Z"
   },
   {
    "duration": 19,
    "start_time": "2023-08-13T12:26:56.452Z"
   },
   {
    "duration": 28,
    "start_time": "2023-08-13T12:26:56.475Z"
   },
   {
    "duration": 116,
    "start_time": "2023-08-13T12:26:56.505Z"
   },
   {
    "duration": 33,
    "start_time": "2023-08-13T12:26:56.623Z"
   },
   {
    "duration": 106,
    "start_time": "2023-08-13T12:26:56.658Z"
   },
   {
    "duration": 4,
    "start_time": "2023-08-13T12:26:56.766Z"
   },
   {
    "duration": 13,
    "start_time": "2023-08-13T12:26:56.771Z"
   },
   {
    "duration": 52,
    "start_time": "2023-08-13T12:26:56.786Z"
   },
   {
    "duration": 7,
    "start_time": "2023-08-13T12:26:56.840Z"
   },
   {
    "duration": 41,
    "start_time": "2023-08-13T12:26:56.848Z"
   },
   {
    "duration": 7,
    "start_time": "2023-08-13T12:26:56.891Z"
   },
   {
    "duration": 20,
    "start_time": "2023-08-13T12:26:56.899Z"
   },
   {
    "duration": 33,
    "start_time": "2023-08-13T12:26:56.938Z"
   },
   {
    "duration": 9,
    "start_time": "2023-08-13T12:26:56.972Z"
   },
   {
    "duration": 34,
    "start_time": "2023-08-13T12:26:56.982Z"
   },
   {
    "duration": 26,
    "start_time": "2023-08-13T12:26:57.017Z"
   },
   {
    "duration": 37,
    "start_time": "2023-08-13T12:26:57.044Z"
   },
   {
    "duration": 176,
    "start_time": "2023-08-13T12:26:57.082Z"
   },
   {
    "duration": 38,
    "start_time": "2023-08-13T12:26:57.259Z"
   },
   {
    "duration": 161,
    "start_time": "2023-08-13T12:26:57.299Z"
   },
   {
    "duration": 12,
    "start_time": "2023-08-13T12:26:57.461Z"
   },
   {
    "duration": 145,
    "start_time": "2023-08-13T12:26:57.474Z"
   },
   {
    "duration": 9,
    "start_time": "2023-08-13T12:26:57.621Z"
   },
   {
    "duration": 138,
    "start_time": "2023-08-13T12:26:57.638Z"
   },
   {
    "duration": 20,
    "start_time": "2023-08-13T12:26:57.777Z"
   },
   {
    "duration": 166,
    "start_time": "2023-08-13T12:26:57.798Z"
   },
   {
    "duration": 3,
    "start_time": "2023-08-13T12:26:57.966Z"
   },
   {
    "duration": 93,
    "start_time": "2023-08-13T12:26:57.971Z"
   },
   {
    "duration": 16,
    "start_time": "2023-08-13T12:26:58.066Z"
   },
   {
    "duration": 209,
    "start_time": "2023-08-13T12:26:58.084Z"
   },
   {
    "duration": 69,
    "start_time": "2023-08-13T12:26:58.295Z"
   },
   {
    "duration": 14,
    "start_time": "2023-08-13T12:26:58.365Z"
   },
   {
    "duration": 141,
    "start_time": "2023-08-13T12:26:58.381Z"
   },
   {
    "duration": 49,
    "start_time": "2023-08-13T12:26:58.524Z"
   },
   {
    "duration": 15,
    "start_time": "2023-08-13T12:26:58.575Z"
   },
   {
    "duration": 147,
    "start_time": "2023-08-13T12:26:58.591Z"
   },
   {
    "duration": 20,
    "start_time": "2023-08-13T12:26:58.739Z"
   },
   {
    "duration": 7,
    "start_time": "2023-08-13T12:26:58.760Z"
   },
   {
    "duration": 15,
    "start_time": "2023-08-13T12:26:58.769Z"
   },
   {
    "duration": 153,
    "start_time": "2023-08-13T12:26:58.786Z"
   },
   {
    "duration": 12,
    "start_time": "2023-08-13T12:26:58.941Z"
   },
   {
    "duration": 13,
    "start_time": "2023-08-13T12:26:58.954Z"
   },
   {
    "duration": 112,
    "start_time": "2023-08-13T12:26:58.968Z"
   },
   {
    "duration": 0,
    "start_time": "2023-08-13T12:26:59.082Z"
   },
   {
    "duration": 8,
    "start_time": "2023-08-13T12:29:25.870Z"
   },
   {
    "duration": 13,
    "start_time": "2023-08-13T12:30:09.486Z"
   },
   {
    "duration": 7,
    "start_time": "2023-08-13T12:31:05.612Z"
   },
   {
    "duration": 1634,
    "start_time": "2023-08-13T12:32:44.056Z"
   },
   {
    "duration": 4,
    "start_time": "2023-08-13T12:32:45.692Z"
   },
   {
    "duration": 36,
    "start_time": "2023-08-13T12:32:45.698Z"
   },
   {
    "duration": 16,
    "start_time": "2023-08-13T12:32:45.736Z"
   },
   {
    "duration": 107,
    "start_time": "2023-08-13T12:32:45.753Z"
   },
   {
    "duration": 24,
    "start_time": "2023-08-13T12:32:45.862Z"
   },
   {
    "duration": 14,
    "start_time": "2023-08-13T12:32:45.888Z"
   },
   {
    "duration": 35,
    "start_time": "2023-08-13T12:32:45.903Z"
   },
   {
    "duration": 8,
    "start_time": "2023-08-13T12:32:45.940Z"
   },
   {
    "duration": 10,
    "start_time": "2023-08-13T12:32:45.950Z"
   },
   {
    "duration": 40,
    "start_time": "2023-08-13T12:32:45.961Z"
   },
   {
    "duration": 106,
    "start_time": "2023-08-13T12:32:46.003Z"
   },
   {
    "duration": 39,
    "start_time": "2023-08-13T12:32:46.110Z"
   },
   {
    "duration": 4,
    "start_time": "2023-08-13T12:32:46.150Z"
   },
   {
    "duration": 20,
    "start_time": "2023-08-13T12:32:46.156Z"
   },
   {
    "duration": 26,
    "start_time": "2023-08-13T12:32:46.177Z"
   },
   {
    "duration": 9,
    "start_time": "2023-08-13T12:32:46.204Z"
   },
   {
    "duration": 17,
    "start_time": "2023-08-13T12:32:46.215Z"
   },
   {
    "duration": 13,
    "start_time": "2023-08-13T12:32:46.233Z"
   },
   {
    "duration": 96,
    "start_time": "2023-08-13T12:32:46.247Z"
   },
   {
    "duration": 6,
    "start_time": "2023-08-13T12:32:46.344Z"
   },
   {
    "duration": 103,
    "start_time": "2023-08-13T12:32:46.351Z"
   },
   {
    "duration": 58,
    "start_time": "2023-08-13T12:32:46.455Z"
   },
   {
    "duration": 103,
    "start_time": "2023-08-13T12:32:46.515Z"
   },
   {
    "duration": 147,
    "start_time": "2023-08-13T12:32:46.620Z"
   },
   {
    "duration": 4,
    "start_time": "2023-08-13T12:32:46.769Z"
   },
   {
    "duration": 35,
    "start_time": "2023-08-13T12:32:46.775Z"
   },
   {
    "duration": 33,
    "start_time": "2023-08-13T12:32:46.814Z"
   },
   {
    "duration": 92,
    "start_time": "2023-08-13T12:32:46.848Z"
   },
   {
    "duration": 29,
    "start_time": "2023-08-13T12:32:46.943Z"
   },
   {
    "duration": 93,
    "start_time": "2023-08-13T12:32:46.973Z"
   },
   {
    "duration": 4,
    "start_time": "2023-08-13T12:32:47.068Z"
   },
   {
    "duration": 40,
    "start_time": "2023-08-13T12:32:47.074Z"
   },
   {
    "duration": 71,
    "start_time": "2023-08-13T12:32:47.116Z"
   },
   {
    "duration": 7,
    "start_time": "2023-08-13T12:32:47.188Z"
   },
   {
    "duration": 42,
    "start_time": "2023-08-13T12:32:47.197Z"
   },
   {
    "duration": 6,
    "start_time": "2023-08-13T12:32:47.241Z"
   },
   {
    "duration": 28,
    "start_time": "2023-08-13T12:32:47.249Z"
   },
   {
    "duration": 36,
    "start_time": "2023-08-13T12:32:47.278Z"
   },
   {
    "duration": 13,
    "start_time": "2023-08-13T12:32:47.316Z"
   },
   {
    "duration": 112,
    "start_time": "2023-08-13T12:32:47.330Z"
   },
   {
    "duration": 7,
    "start_time": "2023-08-13T12:32:47.443Z"
   },
   {
    "duration": 41,
    "start_time": "2023-08-13T12:32:47.452Z"
   },
   {
    "duration": 167,
    "start_time": "2023-08-13T12:32:47.494Z"
   },
   {
    "duration": 38,
    "start_time": "2023-08-13T12:32:47.662Z"
   },
   {
    "duration": 163,
    "start_time": "2023-08-13T12:32:47.702Z"
   },
   {
    "duration": 13,
    "start_time": "2023-08-13T12:32:47.866Z"
   },
   {
    "duration": 149,
    "start_time": "2023-08-13T12:32:47.880Z"
   },
   {
    "duration": 22,
    "start_time": "2023-08-13T12:32:48.031Z"
   },
   {
    "duration": 176,
    "start_time": "2023-08-13T12:32:48.054Z"
   },
   {
    "duration": 24,
    "start_time": "2023-08-13T12:32:48.231Z"
   },
   {
    "duration": 181,
    "start_time": "2023-08-13T12:32:48.257Z"
   },
   {
    "duration": 3,
    "start_time": "2023-08-13T12:32:48.440Z"
   },
   {
    "duration": 82,
    "start_time": "2023-08-13T12:32:48.444Z"
   },
   {
    "duration": 24,
    "start_time": "2023-08-13T12:32:48.527Z"
   },
   {
    "duration": 218,
    "start_time": "2023-08-13T12:32:48.553Z"
   },
   {
    "duration": 75,
    "start_time": "2023-08-13T12:32:48.774Z"
   },
   {
    "duration": 15,
    "start_time": "2023-08-13T12:32:48.850Z"
   },
   {
    "duration": 143,
    "start_time": "2023-08-13T12:32:48.866Z"
   },
   {
    "duration": 52,
    "start_time": "2023-08-13T12:32:49.011Z"
   },
   {
    "duration": 14,
    "start_time": "2023-08-13T12:32:49.064Z"
   },
   {
    "duration": 154,
    "start_time": "2023-08-13T12:32:49.079Z"
   },
   {
    "duration": 17,
    "start_time": "2023-08-13T12:32:49.238Z"
   },
   {
    "duration": 8,
    "start_time": "2023-08-13T12:32:49.257Z"
   },
   {
    "duration": 47,
    "start_time": "2023-08-13T12:32:49.266Z"
   },
   {
    "duration": 144,
    "start_time": "2023-08-13T12:32:49.316Z"
   },
   {
    "duration": 11,
    "start_time": "2023-08-13T12:32:49.462Z"
   },
   {
    "duration": 18,
    "start_time": "2023-08-13T12:32:49.475Z"
   },
   {
    "duration": 120,
    "start_time": "2023-08-13T12:32:49.495Z"
   },
   {
    "duration": 1,
    "start_time": "2023-08-13T12:32:49.616Z"
   },
   {
    "duration": 6,
    "start_time": "2023-08-13T12:34:06.093Z"
   },
   {
    "duration": 9,
    "start_time": "2023-08-13T12:34:10.324Z"
   },
   {
    "duration": 38,
    "start_time": "2023-08-13T12:35:59.269Z"
   },
   {
    "duration": 42,
    "start_time": "2023-08-13T12:36:11.622Z"
   },
   {
    "duration": 13,
    "start_time": "2023-08-13T12:36:14.189Z"
   },
   {
    "duration": 14,
    "start_time": "2023-08-13T12:36:17.284Z"
   },
   {
    "duration": 52,
    "start_time": "2023-08-13T12:37:22.261Z"
   },
   {
    "duration": 1070,
    "start_time": "2023-08-13T12:37:23.093Z"
   },
   {
    "duration": 1610,
    "start_time": "2023-08-13T12:38:10.368Z"
   },
   {
    "duration": 4,
    "start_time": "2023-08-13T12:38:11.979Z"
   },
   {
    "duration": 34,
    "start_time": "2023-08-13T12:38:11.985Z"
   },
   {
    "duration": 26,
    "start_time": "2023-08-13T12:38:12.021Z"
   },
   {
    "duration": 105,
    "start_time": "2023-08-13T12:38:12.049Z"
   },
   {
    "duration": 27,
    "start_time": "2023-08-13T12:38:12.156Z"
   },
   {
    "duration": 29,
    "start_time": "2023-08-13T12:38:12.184Z"
   },
   {
    "duration": 24,
    "start_time": "2023-08-13T12:38:12.215Z"
   },
   {
    "duration": 10,
    "start_time": "2023-08-13T12:38:12.241Z"
   },
   {
    "duration": 11,
    "start_time": "2023-08-13T12:38:12.254Z"
   },
   {
    "duration": 27,
    "start_time": "2023-08-13T12:38:12.266Z"
   },
   {
    "duration": 111,
    "start_time": "2023-08-13T12:38:12.295Z"
   },
   {
    "duration": 58,
    "start_time": "2023-08-13T12:38:12.408Z"
   },
   {
    "duration": 5,
    "start_time": "2023-08-13T12:38:12.468Z"
   },
   {
    "duration": 10,
    "start_time": "2023-08-13T12:38:12.474Z"
   },
   {
    "duration": 23,
    "start_time": "2023-08-13T12:38:12.485Z"
   },
   {
    "duration": 10,
    "start_time": "2023-08-13T12:38:12.509Z"
   },
   {
    "duration": 22,
    "start_time": "2023-08-13T12:38:12.521Z"
   },
   {
    "duration": 38,
    "start_time": "2023-08-13T12:38:12.545Z"
   },
   {
    "duration": 72,
    "start_time": "2023-08-13T12:38:12.584Z"
   },
   {
    "duration": 4,
    "start_time": "2023-08-13T12:38:12.658Z"
   },
   {
    "duration": 53,
    "start_time": "2023-08-13T12:38:12.663Z"
   },
   {
    "duration": 7,
    "start_time": "2023-08-13T12:38:12.718Z"
   },
   {
    "duration": 50,
    "start_time": "2023-08-13T12:38:12.727Z"
   },
   {
    "duration": 164,
    "start_time": "2023-08-13T12:38:12.778Z"
   },
   {
    "duration": 3,
    "start_time": "2023-08-13T12:38:12.944Z"
   },
   {
    "duration": 14,
    "start_time": "2023-08-13T12:38:12.949Z"
   },
   {
    "duration": 24,
    "start_time": "2023-08-13T12:38:12.967Z"
   },
   {
    "duration": 119,
    "start_time": "2023-08-13T12:38:12.993Z"
   },
   {
    "duration": 31,
    "start_time": "2023-08-13T12:38:13.114Z"
   },
   {
    "duration": 96,
    "start_time": "2023-08-13T12:38:13.147Z"
   },
   {
    "duration": 4,
    "start_time": "2023-08-13T12:38:13.244Z"
   },
   {
    "duration": 8,
    "start_time": "2023-08-13T12:38:13.249Z"
   },
   {
    "duration": 44,
    "start_time": "2023-08-13T12:38:13.259Z"
   },
   {
    "duration": 8,
    "start_time": "2023-08-13T12:38:13.304Z"
   },
   {
    "duration": 63,
    "start_time": "2023-08-13T12:38:13.313Z"
   },
   {
    "duration": 7,
    "start_time": "2023-08-13T12:38:13.378Z"
   },
   {
    "duration": 11,
    "start_time": "2023-08-13T12:38:13.387Z"
   },
   {
    "duration": 79,
    "start_time": "2023-08-13T12:38:13.399Z"
   },
   {
    "duration": 1056,
    "start_time": "2023-08-13T12:38:13.480Z"
   },
   {
    "duration": 0,
    "start_time": "2023-08-13T12:38:14.538Z"
   },
   {
    "duration": 0,
    "start_time": "2023-08-13T12:38:14.539Z"
   },
   {
    "duration": 0,
    "start_time": "2023-08-13T12:38:14.540Z"
   },
   {
    "duration": 0,
    "start_time": "2023-08-13T12:38:14.541Z"
   },
   {
    "duration": 0,
    "start_time": "2023-08-13T12:38:14.543Z"
   },
   {
    "duration": 0,
    "start_time": "2023-08-13T12:38:14.544Z"
   },
   {
    "duration": 0,
    "start_time": "2023-08-13T12:38:14.552Z"
   },
   {
    "duration": 0,
    "start_time": "2023-08-13T12:38:14.554Z"
   },
   {
    "duration": 0,
    "start_time": "2023-08-13T12:38:14.555Z"
   },
   {
    "duration": 0,
    "start_time": "2023-08-13T12:38:14.556Z"
   },
   {
    "duration": 0,
    "start_time": "2023-08-13T12:38:14.557Z"
   },
   {
    "duration": 0,
    "start_time": "2023-08-13T12:38:14.558Z"
   },
   {
    "duration": 0,
    "start_time": "2023-08-13T12:38:14.559Z"
   },
   {
    "duration": 0,
    "start_time": "2023-08-13T12:38:14.560Z"
   },
   {
    "duration": 0,
    "start_time": "2023-08-13T12:38:14.561Z"
   },
   {
    "duration": 0,
    "start_time": "2023-08-13T12:38:14.562Z"
   },
   {
    "duration": 0,
    "start_time": "2023-08-13T12:38:14.564Z"
   },
   {
    "duration": 0,
    "start_time": "2023-08-13T12:38:14.565Z"
   },
   {
    "duration": 0,
    "start_time": "2023-08-13T12:38:14.566Z"
   },
   {
    "duration": 0,
    "start_time": "2023-08-13T12:38:14.567Z"
   },
   {
    "duration": 0,
    "start_time": "2023-08-13T12:38:14.568Z"
   },
   {
    "duration": 0,
    "start_time": "2023-08-13T12:38:14.569Z"
   },
   {
    "duration": 0,
    "start_time": "2023-08-13T12:38:14.570Z"
   },
   {
    "duration": 0,
    "start_time": "2023-08-13T12:38:14.571Z"
   },
   {
    "duration": 0,
    "start_time": "2023-08-13T12:38:14.572Z"
   },
   {
    "duration": 0,
    "start_time": "2023-08-13T12:38:14.573Z"
   },
   {
    "duration": 0,
    "start_time": "2023-08-13T12:38:14.574Z"
   },
   {
    "duration": 0,
    "start_time": "2023-08-13T12:38:14.575Z"
   },
   {
    "duration": 0,
    "start_time": "2023-08-13T12:38:14.576Z"
   },
   {
    "duration": 0,
    "start_time": "2023-08-13T12:38:14.577Z"
   },
   {
    "duration": 7,
    "start_time": "2023-08-13T12:38:48.989Z"
   },
   {
    "duration": 1630,
    "start_time": "2023-08-13T12:40:25.643Z"
   },
   {
    "duration": 4,
    "start_time": "2023-08-13T12:40:27.275Z"
   },
   {
    "duration": 51,
    "start_time": "2023-08-13T12:40:27.280Z"
   },
   {
    "duration": 18,
    "start_time": "2023-08-13T12:40:27.332Z"
   },
   {
    "duration": 104,
    "start_time": "2023-08-13T12:40:27.351Z"
   },
   {
    "duration": 28,
    "start_time": "2023-08-13T12:40:27.457Z"
   },
   {
    "duration": 13,
    "start_time": "2023-08-13T12:40:27.487Z"
   },
   {
    "duration": 42,
    "start_time": "2023-08-13T12:40:27.501Z"
   },
   {
    "duration": 10,
    "start_time": "2023-08-13T12:40:27.545Z"
   },
   {
    "duration": 17,
    "start_time": "2023-08-13T12:40:27.557Z"
   },
   {
    "duration": 23,
    "start_time": "2023-08-13T12:40:27.576Z"
   },
   {
    "duration": 113,
    "start_time": "2023-08-13T12:40:27.601Z"
   },
   {
    "duration": 35,
    "start_time": "2023-08-13T12:40:27.715Z"
   },
   {
    "duration": 4,
    "start_time": "2023-08-13T12:40:27.752Z"
   },
   {
    "duration": 5,
    "start_time": "2023-08-13T12:40:27.758Z"
   },
   {
    "duration": 32,
    "start_time": "2023-08-13T12:40:27.764Z"
   },
   {
    "duration": 10,
    "start_time": "2023-08-13T12:40:27.798Z"
   },
   {
    "duration": 12,
    "start_time": "2023-08-13T12:40:27.809Z"
   },
   {
    "duration": 17,
    "start_time": "2023-08-13T12:40:27.823Z"
   },
   {
    "duration": 78,
    "start_time": "2023-08-13T12:40:27.841Z"
   },
   {
    "duration": 5,
    "start_time": "2023-08-13T12:40:27.920Z"
   },
   {
    "duration": 32,
    "start_time": "2023-08-13T12:40:27.926Z"
   },
   {
    "duration": 8,
    "start_time": "2023-08-13T12:40:27.959Z"
   },
   {
    "duration": 41,
    "start_time": "2023-08-13T12:40:27.968Z"
   },
   {
    "duration": 172,
    "start_time": "2023-08-13T12:40:28.011Z"
   },
   {
    "duration": 3,
    "start_time": "2023-08-13T12:40:28.186Z"
   },
   {
    "duration": 20,
    "start_time": "2023-08-13T12:40:28.191Z"
   },
   {
    "duration": 34,
    "start_time": "2023-08-13T12:40:28.215Z"
   },
   {
    "duration": 91,
    "start_time": "2023-08-13T12:40:28.251Z"
   },
   {
    "duration": 20,
    "start_time": "2023-08-13T12:40:28.344Z"
   },
   {
    "duration": 96,
    "start_time": "2023-08-13T12:40:28.365Z"
   },
   {
    "duration": 4,
    "start_time": "2023-08-13T12:40:28.463Z"
   },
   {
    "duration": 13,
    "start_time": "2023-08-13T12:40:28.469Z"
   },
   {
    "duration": 57,
    "start_time": "2023-08-13T12:40:28.484Z"
   },
   {
    "duration": 12,
    "start_time": "2023-08-13T12:40:28.542Z"
   },
   {
    "duration": 52,
    "start_time": "2023-08-13T12:40:28.555Z"
   },
   {
    "duration": 7,
    "start_time": "2023-08-13T12:40:28.609Z"
   },
   {
    "duration": 27,
    "start_time": "2023-08-13T12:40:28.618Z"
   },
   {
    "duration": 53,
    "start_time": "2023-08-13T12:40:28.646Z"
   },
   {
    "duration": 9,
    "start_time": "2023-08-13T12:40:28.700Z"
   },
   {
    "duration": 50,
    "start_time": "2023-08-13T12:40:28.710Z"
   },
   {
    "duration": 8,
    "start_time": "2023-08-13T12:40:28.761Z"
   },
   {
    "duration": 40,
    "start_time": "2023-08-13T12:40:28.771Z"
   },
   {
    "duration": 188,
    "start_time": "2023-08-13T12:40:28.813Z"
   },
   {
    "duration": 46,
    "start_time": "2023-08-13T12:40:29.003Z"
   },
   {
    "duration": 155,
    "start_time": "2023-08-13T12:40:29.051Z"
   },
   {
    "duration": 11,
    "start_time": "2023-08-13T12:40:29.207Z"
   },
   {
    "duration": 146,
    "start_time": "2023-08-13T12:40:29.220Z"
   },
   {
    "duration": 11,
    "start_time": "2023-08-13T12:40:29.367Z"
   },
   {
    "duration": 134,
    "start_time": "2023-08-13T12:40:29.380Z"
   },
   {
    "duration": 24,
    "start_time": "2023-08-13T12:40:29.516Z"
   },
   {
    "duration": 143,
    "start_time": "2023-08-13T12:40:29.542Z"
   },
   {
    "duration": 4,
    "start_time": "2023-08-13T12:40:29.686Z"
   },
   {
    "duration": 114,
    "start_time": "2023-08-13T12:40:29.692Z"
   },
   {
    "duration": 15,
    "start_time": "2023-08-13T12:40:29.807Z"
   },
   {
    "duration": 229,
    "start_time": "2023-08-13T12:40:29.823Z"
   },
   {
    "duration": 64,
    "start_time": "2023-08-13T12:40:30.054Z"
   },
   {
    "duration": 25,
    "start_time": "2023-08-13T12:40:30.120Z"
   },
   {
    "duration": 224,
    "start_time": "2023-08-13T12:40:30.146Z"
   },
   {
    "duration": 39,
    "start_time": "2023-08-13T12:40:30.371Z"
   },
   {
    "duration": 40,
    "start_time": "2023-08-13T12:40:30.411Z"
   },
   {
    "duration": 177,
    "start_time": "2023-08-13T12:40:30.452Z"
   },
   {
    "duration": 17,
    "start_time": "2023-08-13T12:40:30.631Z"
   },
   {
    "duration": 44,
    "start_time": "2023-08-13T12:40:30.650Z"
   },
   {
    "duration": 64,
    "start_time": "2023-08-13T12:40:30.695Z"
   },
   {
    "duration": 168,
    "start_time": "2023-08-13T12:40:30.761Z"
   },
   {
    "duration": 17,
    "start_time": "2023-08-13T12:40:30.930Z"
   },
   {
    "duration": 28,
    "start_time": "2023-08-13T12:40:30.949Z"
   },
   {
    "duration": 133,
    "start_time": "2023-08-13T12:40:30.979Z"
   },
   {
    "duration": 0,
    "start_time": "2023-08-13T12:40:31.114Z"
   },
   {
    "duration": 5,
    "start_time": "2023-08-13T12:45:21.394Z"
   },
   {
    "duration": 15,
    "start_time": "2023-08-13T12:45:25.133Z"
   },
   {
    "duration": 5,
    "start_time": "2023-08-13T12:46:00.749Z"
   },
   {
    "duration": 5,
    "start_time": "2023-08-13T12:46:58.862Z"
   },
   {
    "duration": 3,
    "start_time": "2023-08-13T12:47:15.749Z"
   },
   {
    "duration": 5,
    "start_time": "2023-08-13T12:55:57.287Z"
   },
   {
    "duration": 3,
    "start_time": "2023-08-13T12:56:57.551Z"
   },
   {
    "duration": 105,
    "start_time": "2023-08-13T12:59:15.286Z"
   },
   {
    "duration": 11,
    "start_time": "2023-08-13T13:05:36.823Z"
   },
   {
    "duration": 9,
    "start_time": "2023-08-13T13:06:24.529Z"
   },
   {
    "duration": 11,
    "start_time": "2023-08-13T13:06:28.760Z"
   },
   {
    "duration": 16,
    "start_time": "2023-08-13T13:07:07.587Z"
   },
   {
    "duration": 8,
    "start_time": "2023-08-13T13:07:08.152Z"
   },
   {
    "duration": 17,
    "start_time": "2023-08-13T13:07:29.255Z"
   },
   {
    "duration": 10,
    "start_time": "2023-08-13T13:07:31.289Z"
   },
   {
    "duration": 29,
    "start_time": "2023-08-13T13:09:19.753Z"
   },
   {
    "duration": 12,
    "start_time": "2023-08-13T13:09:23.864Z"
   },
   {
    "duration": 37,
    "start_time": "2023-08-13T13:10:09.209Z"
   },
   {
    "duration": 9,
    "start_time": "2023-08-13T13:10:09.712Z"
   },
   {
    "duration": 43,
    "start_time": "2023-08-13T13:12:47.188Z"
   },
   {
    "duration": 6,
    "start_time": "2023-08-13T13:13:25.961Z"
   },
   {
    "duration": 8,
    "start_time": "2023-08-13T13:13:59.440Z"
   },
   {
    "duration": 38,
    "start_time": "2023-08-13T13:14:32.233Z"
   },
   {
    "duration": 5,
    "start_time": "2023-08-13T13:14:34.106Z"
   },
   {
    "duration": 35,
    "start_time": "2023-08-13T13:14:49.756Z"
   },
   {
    "duration": 5,
    "start_time": "2023-08-13T13:14:54.394Z"
   },
   {
    "duration": 4,
    "start_time": "2023-08-13T13:15:56.633Z"
   },
   {
    "duration": 4,
    "start_time": "2023-08-13T13:16:07.362Z"
   },
   {
    "duration": 4,
    "start_time": "2023-08-13T13:16:29.922Z"
   },
   {
    "duration": 73,
    "start_time": "2023-08-13T13:17:07.666Z"
   },
   {
    "duration": 74,
    "start_time": "2023-08-13T13:17:28.145Z"
   },
   {
    "duration": 117,
    "start_time": "2023-08-13T13:19:18.450Z"
   },
   {
    "duration": 5,
    "start_time": "2023-08-13T13:19:26.361Z"
   },
   {
    "duration": 3,
    "start_time": "2023-08-13T13:20:17.290Z"
   },
   {
    "duration": 4,
    "start_time": "2023-08-13T13:21:24.098Z"
   },
   {
    "duration": 4,
    "start_time": "2023-08-13T13:21:35.162Z"
   },
   {
    "duration": 4,
    "start_time": "2023-08-13T13:23:36.764Z"
   },
   {
    "duration": 10,
    "start_time": "2023-08-13T13:24:10.451Z"
   },
   {
    "duration": 4,
    "start_time": "2023-08-13T13:24:21.140Z"
   },
   {
    "duration": 5,
    "start_time": "2023-08-13T13:24:38.715Z"
   },
   {
    "duration": 4,
    "start_time": "2023-08-13T13:25:53.162Z"
   },
   {
    "duration": 3,
    "start_time": "2023-08-13T13:27:06.923Z"
   },
   {
    "duration": 72,
    "start_time": "2023-08-13T13:32:06.228Z"
   },
   {
    "duration": 2,
    "start_time": "2023-08-13T13:40:07.918Z"
   },
   {
    "duration": 2,
    "start_time": "2023-08-13T13:53:32.010Z"
   },
   {
    "duration": 2,
    "start_time": "2023-08-13T14:16:50.286Z"
   },
   {
    "duration": 1898,
    "start_time": "2023-08-13T14:18:23.551Z"
   },
   {
    "duration": 4,
    "start_time": "2023-08-13T14:18:25.451Z"
   },
   {
    "duration": 66,
    "start_time": "2023-08-13T14:18:25.457Z"
   },
   {
    "duration": 24,
    "start_time": "2023-08-13T14:18:25.525Z"
   },
   {
    "duration": 100,
    "start_time": "2023-08-13T14:18:25.552Z"
   },
   {
    "duration": 25,
    "start_time": "2023-08-13T14:18:25.653Z"
   },
   {
    "duration": 12,
    "start_time": "2023-08-13T14:18:25.679Z"
   },
   {
    "duration": 40,
    "start_time": "2023-08-13T14:18:25.692Z"
   },
   {
    "duration": 24,
    "start_time": "2023-08-13T14:18:25.733Z"
   },
   {
    "duration": 22,
    "start_time": "2023-08-13T14:18:25.759Z"
   },
   {
    "duration": 30,
    "start_time": "2023-08-13T14:18:25.783Z"
   },
   {
    "duration": 88,
    "start_time": "2023-08-13T14:18:25.815Z"
   },
   {
    "duration": 48,
    "start_time": "2023-08-13T14:18:25.904Z"
   },
   {
    "duration": 4,
    "start_time": "2023-08-13T14:18:25.955Z"
   },
   {
    "duration": 43,
    "start_time": "2023-08-13T14:18:25.961Z"
   },
   {
    "duration": 28,
    "start_time": "2023-08-13T14:18:26.005Z"
   },
   {
    "duration": 53,
    "start_time": "2023-08-13T14:18:26.034Z"
   },
   {
    "duration": 50,
    "start_time": "2023-08-13T14:18:26.088Z"
   },
   {
    "duration": 14,
    "start_time": "2023-08-13T14:18:26.149Z"
   },
   {
    "duration": 74,
    "start_time": "2023-08-13T14:18:26.165Z"
   },
   {
    "duration": 6,
    "start_time": "2023-08-13T14:18:26.241Z"
   },
   {
    "duration": 36,
    "start_time": "2023-08-13T14:18:26.248Z"
   },
   {
    "duration": 7,
    "start_time": "2023-08-13T14:18:26.285Z"
   },
   {
    "duration": 65,
    "start_time": "2023-08-13T14:18:26.293Z"
   },
   {
    "duration": 161,
    "start_time": "2023-08-13T14:18:26.360Z"
   },
   {
    "duration": 4,
    "start_time": "2023-08-13T14:18:26.522Z"
   },
   {
    "duration": 35,
    "start_time": "2023-08-13T14:18:26.528Z"
   },
   {
    "duration": 26,
    "start_time": "2023-08-13T14:18:26.565Z"
   },
   {
    "duration": 93,
    "start_time": "2023-08-13T14:18:26.593Z"
   },
   {
    "duration": 21,
    "start_time": "2023-08-13T14:18:26.688Z"
   },
   {
    "duration": 104,
    "start_time": "2023-08-13T14:18:26.711Z"
   },
   {
    "duration": 3,
    "start_time": "2023-08-13T14:18:26.817Z"
   },
   {
    "duration": 5,
    "start_time": "2023-08-13T14:18:26.821Z"
   },
   {
    "duration": 56,
    "start_time": "2023-08-13T14:18:26.827Z"
   },
   {
    "duration": 7,
    "start_time": "2023-08-13T14:18:26.884Z"
   },
   {
    "duration": 55,
    "start_time": "2023-08-13T14:18:26.892Z"
   },
   {
    "duration": 8,
    "start_time": "2023-08-13T14:18:26.949Z"
   },
   {
    "duration": 17,
    "start_time": "2023-08-13T14:18:26.958Z"
   },
   {
    "duration": 48,
    "start_time": "2023-08-13T14:18:26.976Z"
   },
   {
    "duration": 27,
    "start_time": "2023-08-13T14:18:27.025Z"
   },
   {
    "duration": 31,
    "start_time": "2023-08-13T14:18:27.056Z"
   },
   {
    "duration": 7,
    "start_time": "2023-08-13T14:18:27.088Z"
   },
   {
    "duration": 56,
    "start_time": "2023-08-13T14:18:27.096Z"
   },
   {
    "duration": 173,
    "start_time": "2023-08-13T14:18:27.154Z"
   },
   {
    "duration": 46,
    "start_time": "2023-08-13T14:18:27.328Z"
   },
   {
    "duration": 154,
    "start_time": "2023-08-13T14:18:27.375Z"
   },
   {
    "duration": 20,
    "start_time": "2023-08-13T14:18:27.531Z"
   },
   {
    "duration": 139,
    "start_time": "2023-08-13T14:18:27.554Z"
   },
   {
    "duration": 10,
    "start_time": "2023-08-13T14:18:27.694Z"
   },
   {
    "duration": 143,
    "start_time": "2023-08-13T14:18:27.705Z"
   },
   {
    "duration": 21,
    "start_time": "2023-08-13T14:18:27.849Z"
   },
   {
    "duration": 157,
    "start_time": "2023-08-13T14:18:27.871Z"
   },
   {
    "duration": 18,
    "start_time": "2023-08-13T14:18:28.030Z"
   },
   {
    "duration": 82,
    "start_time": "2023-08-13T14:18:28.050Z"
   },
   {
    "duration": 23,
    "start_time": "2023-08-13T14:18:28.133Z"
   },
   {
    "duration": 217,
    "start_time": "2023-08-13T14:18:28.158Z"
   },
   {
    "duration": 68,
    "start_time": "2023-08-13T14:18:28.376Z"
   },
   {
    "duration": 16,
    "start_time": "2023-08-13T14:18:28.445Z"
   },
   {
    "duration": 145,
    "start_time": "2023-08-13T14:18:28.462Z"
   },
   {
    "duration": 59,
    "start_time": "2023-08-13T14:18:28.609Z"
   },
   {
    "duration": 16,
    "start_time": "2023-08-13T14:18:28.670Z"
   },
   {
    "duration": 165,
    "start_time": "2023-08-13T14:18:28.688Z"
   },
   {
    "duration": 21,
    "start_time": "2023-08-13T14:18:28.856Z"
   },
   {
    "duration": 8,
    "start_time": "2023-08-13T14:18:28.879Z"
   },
   {
    "duration": 20,
    "start_time": "2023-08-13T14:18:28.889Z"
   },
   {
    "duration": 163,
    "start_time": "2023-08-13T14:18:28.911Z"
   },
   {
    "duration": 5,
    "start_time": "2023-08-13T14:18:29.075Z"
   },
   {
    "duration": 10,
    "start_time": "2023-08-13T14:18:29.082Z"
   },
   {
    "duration": 7,
    "start_time": "2023-08-13T14:18:29.093Z"
   },
   {
    "duration": 52,
    "start_time": "2023-08-13T14:18:29.101Z"
   },
   {
    "duration": 6,
    "start_time": "2023-08-13T14:18:29.155Z"
   },
   {
    "duration": 13,
    "start_time": "2023-08-13T14:18:29.167Z"
   },
   {
    "duration": 71,
    "start_time": "2023-08-13T14:25:33.900Z"
   },
   {
    "duration": 106,
    "start_time": "2023-08-13T14:27:41.413Z"
   },
   {
    "duration": 3,
    "start_time": "2023-08-13T14:27:45.389Z"
   },
   {
    "duration": 7,
    "start_time": "2023-08-13T14:27:48.861Z"
   },
   {
    "duration": 14,
    "start_time": "2023-08-13T14:28:02.278Z"
   },
   {
    "duration": 1669,
    "start_time": "2023-08-13T14:31:16.047Z"
   },
   {
    "duration": 5,
    "start_time": "2023-08-13T14:31:17.717Z"
   },
   {
    "duration": 40,
    "start_time": "2023-08-13T14:31:17.723Z"
   },
   {
    "duration": 17,
    "start_time": "2023-08-13T14:31:17.765Z"
   },
   {
    "duration": 107,
    "start_time": "2023-08-13T14:31:17.783Z"
   },
   {
    "duration": 25,
    "start_time": "2023-08-13T14:31:17.892Z"
   },
   {
    "duration": 26,
    "start_time": "2023-08-13T14:31:17.918Z"
   },
   {
    "duration": 19,
    "start_time": "2023-08-13T14:31:17.945Z"
   },
   {
    "duration": 14,
    "start_time": "2023-08-13T14:31:17.966Z"
   },
   {
    "duration": 13,
    "start_time": "2023-08-13T14:31:17.982Z"
   },
   {
    "duration": 27,
    "start_time": "2023-08-13T14:31:17.996Z"
   },
   {
    "duration": 103,
    "start_time": "2023-08-13T14:31:18.038Z"
   },
   {
    "duration": 35,
    "start_time": "2023-08-13T14:31:18.143Z"
   },
   {
    "duration": 5,
    "start_time": "2023-08-13T14:31:18.179Z"
   },
   {
    "duration": 11,
    "start_time": "2023-08-13T14:31:18.185Z"
   },
   {
    "duration": 16,
    "start_time": "2023-08-13T14:31:18.198Z"
   },
   {
    "duration": 27,
    "start_time": "2023-08-13T14:31:18.216Z"
   },
   {
    "duration": 13,
    "start_time": "2023-08-13T14:31:18.244Z"
   },
   {
    "duration": 19,
    "start_time": "2023-08-13T14:31:18.258Z"
   },
   {
    "duration": 78,
    "start_time": "2023-08-13T14:31:18.278Z"
   },
   {
    "duration": 5,
    "start_time": "2023-08-13T14:31:18.358Z"
   },
   {
    "duration": 30,
    "start_time": "2023-08-13T14:31:18.364Z"
   },
   {
    "duration": 7,
    "start_time": "2023-08-13T14:31:18.396Z"
   },
   {
    "duration": 58,
    "start_time": "2023-08-13T14:31:18.405Z"
   },
   {
    "duration": 166,
    "start_time": "2023-08-13T14:31:18.464Z"
   },
   {
    "duration": 8,
    "start_time": "2023-08-13T14:31:18.631Z"
   },
   {
    "duration": 19,
    "start_time": "2023-08-13T14:31:18.640Z"
   },
   {
    "duration": 27,
    "start_time": "2023-08-13T14:31:18.663Z"
   },
   {
    "duration": 111,
    "start_time": "2023-08-13T14:31:18.692Z"
   },
   {
    "duration": 21,
    "start_time": "2023-08-13T14:31:18.804Z"
   },
   {
    "duration": 86,
    "start_time": "2023-08-13T14:31:18.827Z"
   },
   {
    "duration": 3,
    "start_time": "2023-08-13T14:31:18.915Z"
   },
   {
    "duration": 21,
    "start_time": "2023-08-13T14:31:18.919Z"
   },
   {
    "duration": 8,
    "start_time": "2023-08-13T14:31:18.941Z"
   },
   {
    "duration": 47,
    "start_time": "2023-08-13T14:31:18.950Z"
   },
   {
    "duration": 7,
    "start_time": "2023-08-13T14:31:18.999Z"
   },
   {
    "duration": 60,
    "start_time": "2023-08-13T14:31:19.008Z"
   },
   {
    "duration": 8,
    "start_time": "2023-08-13T14:31:19.070Z"
   },
   {
    "duration": 19,
    "start_time": "2023-08-13T14:31:19.079Z"
   },
   {
    "duration": 64,
    "start_time": "2023-08-13T14:31:19.099Z"
   },
   {
    "duration": 6,
    "start_time": "2023-08-13T14:31:19.165Z"
   },
   {
    "duration": 39,
    "start_time": "2023-08-13T14:31:19.172Z"
   },
   {
    "duration": 7,
    "start_time": "2023-08-13T14:31:19.213Z"
   },
   {
    "duration": 43,
    "start_time": "2023-08-13T14:31:19.222Z"
   },
   {
    "duration": 163,
    "start_time": "2023-08-13T14:31:19.266Z"
   },
   {
    "duration": 45,
    "start_time": "2023-08-13T14:31:19.431Z"
   },
   {
    "duration": 156,
    "start_time": "2023-08-13T14:31:19.477Z"
   },
   {
    "duration": 12,
    "start_time": "2023-08-13T14:31:19.635Z"
   },
   {
    "duration": 135,
    "start_time": "2023-08-13T14:31:19.649Z"
   },
   {
    "duration": 12,
    "start_time": "2023-08-13T14:31:19.785Z"
   },
   {
    "duration": 147,
    "start_time": "2023-08-13T14:31:19.798Z"
   },
   {
    "duration": 17,
    "start_time": "2023-08-13T14:31:19.947Z"
   },
   {
    "duration": 161,
    "start_time": "2023-08-13T14:31:19.966Z"
   },
   {
    "duration": 4,
    "start_time": "2023-08-13T14:31:20.128Z"
   },
   {
    "duration": 93,
    "start_time": "2023-08-13T14:31:20.133Z"
   },
   {
    "duration": 14,
    "start_time": "2023-08-13T14:31:20.228Z"
   },
   {
    "duration": 189,
    "start_time": "2023-08-13T14:31:20.244Z"
   },
   {
    "duration": 68,
    "start_time": "2023-08-13T14:31:20.434Z"
   },
   {
    "duration": 15,
    "start_time": "2023-08-13T14:31:20.504Z"
   },
   {
    "duration": 156,
    "start_time": "2023-08-13T14:31:20.520Z"
   },
   {
    "duration": 40,
    "start_time": "2023-08-13T14:31:20.678Z"
   },
   {
    "duration": 25,
    "start_time": "2023-08-13T14:31:20.720Z"
   },
   {
    "duration": 136,
    "start_time": "2023-08-13T14:31:20.746Z"
   },
   {
    "duration": 16,
    "start_time": "2023-08-13T14:31:20.883Z"
   },
   {
    "duration": 6,
    "start_time": "2023-08-13T14:31:20.901Z"
   },
   {
    "duration": 31,
    "start_time": "2023-08-13T14:31:20.909Z"
   },
   {
    "duration": 133,
    "start_time": "2023-08-13T14:31:20.942Z"
   },
   {
    "duration": 5,
    "start_time": "2023-08-13T14:31:21.076Z"
   },
   {
    "duration": 16,
    "start_time": "2023-08-13T14:31:21.082Z"
   },
   {
    "duration": 12,
    "start_time": "2023-08-13T14:31:21.099Z"
   },
   {
    "duration": 53,
    "start_time": "2023-08-13T14:31:21.112Z"
   },
   {
    "duration": 4,
    "start_time": "2023-08-13T14:31:21.167Z"
   },
   {
    "duration": 8,
    "start_time": "2023-08-13T14:31:21.172Z"
   },
   {
    "duration": 2097,
    "start_time": "2023-08-14T07:15:57.144Z"
   },
   {
    "duration": 4,
    "start_time": "2023-08-14T07:15:59.243Z"
   },
   {
    "duration": 80,
    "start_time": "2023-08-14T07:15:59.249Z"
   },
   {
    "duration": 24,
    "start_time": "2023-08-14T07:15:59.332Z"
   },
   {
    "duration": 108,
    "start_time": "2023-08-14T07:15:59.358Z"
   },
   {
    "duration": 27,
    "start_time": "2023-08-14T07:15:59.468Z"
   },
   {
    "duration": 54,
    "start_time": "2023-08-14T07:15:59.496Z"
   },
   {
    "duration": 91,
    "start_time": "2023-08-14T07:15:59.552Z"
   },
   {
    "duration": 14,
    "start_time": "2023-08-14T07:15:59.645Z"
   },
   {
    "duration": 76,
    "start_time": "2023-08-14T07:15:59.662Z"
   },
   {
    "duration": 55,
    "start_time": "2023-08-14T07:15:59.740Z"
   },
   {
    "duration": 240,
    "start_time": "2023-08-14T07:15:59.838Z"
   },
   {
    "duration": 159,
    "start_time": "2023-08-14T07:16:00.080Z"
   },
   {
    "duration": 5,
    "start_time": "2023-08-14T07:16:00.241Z"
   },
   {
    "duration": 14,
    "start_time": "2023-08-14T07:16:00.248Z"
   },
   {
    "duration": 78,
    "start_time": "2023-08-14T07:16:00.264Z"
   },
   {
    "duration": 15,
    "start_time": "2023-08-14T07:16:00.344Z"
   },
   {
    "duration": 80,
    "start_time": "2023-08-14T07:16:00.361Z"
   },
   {
    "duration": 30,
    "start_time": "2023-08-14T07:16:00.443Z"
   },
   {
    "duration": 276,
    "start_time": "2023-08-14T07:16:00.475Z"
   },
   {
    "duration": 5,
    "start_time": "2023-08-14T07:16:00.753Z"
   },
   {
    "duration": 93,
    "start_time": "2023-08-14T07:16:00.760Z"
   },
   {
    "duration": 13,
    "start_time": "2023-08-14T07:16:00.855Z"
   },
   {
    "duration": 197,
    "start_time": "2023-08-14T07:16:00.873Z"
   },
   {
    "duration": 419,
    "start_time": "2023-08-14T07:16:01.073Z"
   },
   {
    "duration": 4,
    "start_time": "2023-08-14T07:16:01.494Z"
   },
   {
    "duration": 53,
    "start_time": "2023-08-14T07:16:01.499Z"
   },
   {
    "duration": 54,
    "start_time": "2023-08-14T07:16:01.556Z"
   },
   {
    "duration": 122,
    "start_time": "2023-08-14T07:16:01.611Z"
   },
   {
    "duration": 23,
    "start_time": "2023-08-14T07:16:01.735Z"
   },
   {
    "duration": 192,
    "start_time": "2023-08-14T07:16:01.760Z"
   },
   {
    "duration": 5,
    "start_time": "2023-08-14T07:16:01.954Z"
   },
   {
    "duration": 69,
    "start_time": "2023-08-14T07:16:01.961Z"
   },
   {
    "duration": 27,
    "start_time": "2023-08-14T07:16:02.032Z"
   },
   {
    "duration": 125,
    "start_time": "2023-08-14T07:16:02.061Z"
   },
   {
    "duration": 8,
    "start_time": "2023-08-14T07:16:02.187Z"
   },
   {
    "duration": 73,
    "start_time": "2023-08-14T07:16:02.196Z"
   },
   {
    "duration": 8,
    "start_time": "2023-08-14T07:16:02.270Z"
   },
   {
    "duration": 28,
    "start_time": "2023-08-14T07:16:02.280Z"
   },
   {
    "duration": 78,
    "start_time": "2023-08-14T07:16:02.310Z"
   },
   {
    "duration": 8,
    "start_time": "2023-08-14T07:16:02.390Z"
   },
   {
    "duration": 75,
    "start_time": "2023-08-14T07:16:02.400Z"
   },
   {
    "duration": 36,
    "start_time": "2023-08-14T07:16:02.476Z"
   },
   {
    "duration": 66,
    "start_time": "2023-08-14T07:16:02.514Z"
   },
   {
    "duration": 166,
    "start_time": "2023-08-14T07:16:02.582Z"
   },
   {
    "duration": 46,
    "start_time": "2023-08-14T07:16:02.750Z"
   },
   {
    "duration": 159,
    "start_time": "2023-08-14T07:16:02.797Z"
   },
   {
    "duration": 11,
    "start_time": "2023-08-14T07:16:02.957Z"
   },
   {
    "duration": 147,
    "start_time": "2023-08-14T07:16:02.969Z"
   },
   {
    "duration": 10,
    "start_time": "2023-08-14T07:16:03.117Z"
   },
   {
    "duration": 139,
    "start_time": "2023-08-14T07:16:03.138Z"
   },
   {
    "duration": 18,
    "start_time": "2023-08-14T07:16:03.278Z"
   },
   {
    "duration": 166,
    "start_time": "2023-08-14T07:16:03.297Z"
   },
   {
    "duration": 3,
    "start_time": "2023-08-14T07:16:03.465Z"
   },
   {
    "duration": 94,
    "start_time": "2023-08-14T07:16:03.469Z"
   },
   {
    "duration": 13,
    "start_time": "2023-08-14T07:16:03.565Z"
   },
   {
    "duration": 199,
    "start_time": "2023-08-14T07:16:03.580Z"
   },
   {
    "duration": 71,
    "start_time": "2023-08-14T07:16:03.780Z"
   },
   {
    "duration": 14,
    "start_time": "2023-08-14T07:16:03.853Z"
   },
   {
    "duration": 143,
    "start_time": "2023-08-14T07:16:03.868Z"
   },
   {
    "duration": 46,
    "start_time": "2023-08-14T07:16:04.012Z"
   },
   {
    "duration": 14,
    "start_time": "2023-08-14T07:16:04.059Z"
   },
   {
    "duration": 145,
    "start_time": "2023-08-14T07:16:04.075Z"
   },
   {
    "duration": 26,
    "start_time": "2023-08-14T07:16:04.221Z"
   },
   {
    "duration": 7,
    "start_time": "2023-08-14T07:16:04.248Z"
   },
   {
    "duration": 17,
    "start_time": "2023-08-14T07:16:04.256Z"
   },
   {
    "duration": 145,
    "start_time": "2023-08-14T07:16:04.275Z"
   },
   {
    "duration": 6,
    "start_time": "2023-08-14T07:16:04.422Z"
   },
   {
    "duration": 16,
    "start_time": "2023-08-14T07:16:04.429Z"
   },
   {
    "duration": 17,
    "start_time": "2023-08-14T07:16:04.447Z"
   },
   {
    "duration": 73,
    "start_time": "2023-08-14T07:16:04.466Z"
   },
   {
    "duration": 6,
    "start_time": "2023-08-14T07:16:04.542Z"
   },
   {
    "duration": 14,
    "start_time": "2023-08-14T07:16:04.550Z"
   },
   {
    "duration": 10,
    "start_time": "2023-08-14T07:59:25.432Z"
   },
   {
    "duration": 406,
    "start_time": "2023-08-14T08:25:18.474Z"
   },
   {
    "duration": 241,
    "start_time": "2023-08-14T08:25:40.156Z"
   },
   {
    "duration": 110,
    "start_time": "2023-08-14T08:25:52.893Z"
   },
   {
    "duration": 699,
    "start_time": "2023-08-14T08:26:15.433Z"
   },
   {
    "duration": 130,
    "start_time": "2023-08-14T08:27:12.674Z"
   },
   {
    "duration": 135,
    "start_time": "2023-08-14T08:27:31.721Z"
   },
   {
    "duration": 10,
    "start_time": "2023-08-14T08:28:03.796Z"
   },
   {
    "duration": 152,
    "start_time": "2023-08-14T08:28:12.216Z"
   },
   {
    "duration": 7,
    "start_time": "2023-08-14T08:31:46.217Z"
   },
   {
    "duration": 7,
    "start_time": "2023-08-14T08:32:02.302Z"
   },
   {
    "duration": 6,
    "start_time": "2023-08-14T08:32:18.690Z"
   },
   {
    "duration": 130,
    "start_time": "2023-08-14T08:32:26.427Z"
   },
   {
    "duration": 140,
    "start_time": "2023-08-14T08:32:31.299Z"
   },
   {
    "duration": 142,
    "start_time": "2023-08-14T08:32:38.993Z"
   },
   {
    "duration": 5,
    "start_time": "2023-08-14T08:33:16.422Z"
   },
   {
    "duration": 6,
    "start_time": "2023-08-14T08:33:24.953Z"
   },
   {
    "duration": 5,
    "start_time": "2023-08-14T08:33:35.592Z"
   },
   {
    "duration": 8,
    "start_time": "2023-08-14T08:33:49.650Z"
   },
   {
    "duration": 8,
    "start_time": "2023-08-14T08:34:00.375Z"
   },
   {
    "duration": 10,
    "start_time": "2023-08-14T08:34:09.274Z"
   },
   {
    "duration": 124,
    "start_time": "2023-08-14T08:34:42.091Z"
   },
   {
    "duration": 134,
    "start_time": "2023-08-14T08:34:45.954Z"
   },
   {
    "duration": 130,
    "start_time": "2023-08-14T08:34:56.487Z"
   },
   {
    "duration": 242,
    "start_time": "2023-08-14T08:35:40.150Z"
   },
   {
    "duration": 110,
    "start_time": "2023-08-14T08:35:48.404Z"
   },
   {
    "duration": 44,
    "start_time": "2023-08-15T04:13:59.113Z"
   },
   {
    "duration": 2002,
    "start_time": "2023-08-15T04:14:06.694Z"
   },
   {
    "duration": 3,
    "start_time": "2023-08-15T04:14:08.698Z"
   },
   {
    "duration": 49,
    "start_time": "2023-08-15T04:14:08.703Z"
   },
   {
    "duration": 17,
    "start_time": "2023-08-15T04:14:08.754Z"
   },
   {
    "duration": 108,
    "start_time": "2023-08-15T04:14:08.772Z"
   },
   {
    "duration": 27,
    "start_time": "2023-08-15T04:14:08.888Z"
   },
   {
    "duration": 30,
    "start_time": "2023-08-15T04:14:08.917Z"
   },
   {
    "duration": 19,
    "start_time": "2023-08-15T04:14:08.948Z"
   },
   {
    "duration": 22,
    "start_time": "2023-08-15T04:14:08.969Z"
   },
   {
    "duration": 10,
    "start_time": "2023-08-15T04:14:08.993Z"
   },
   {
    "duration": 27,
    "start_time": "2023-08-15T04:14:09.004Z"
   },
   {
    "duration": 108,
    "start_time": "2023-08-15T04:14:09.033Z"
   },
   {
    "duration": 47,
    "start_time": "2023-08-15T04:14:09.143Z"
   },
   {
    "duration": 4,
    "start_time": "2023-08-15T04:14:09.191Z"
   },
   {
    "duration": 9,
    "start_time": "2023-08-15T04:14:09.197Z"
   },
   {
    "duration": 20,
    "start_time": "2023-08-15T04:14:09.207Z"
   },
   {
    "duration": 12,
    "start_time": "2023-08-15T04:14:09.229Z"
   },
   {
    "duration": 12,
    "start_time": "2023-08-15T04:14:09.242Z"
   },
   {
    "duration": 56,
    "start_time": "2023-08-15T04:14:09.255Z"
   },
   {
    "duration": 90,
    "start_time": "2023-08-15T04:14:09.313Z"
   },
   {
    "duration": 5,
    "start_time": "2023-08-15T04:14:09.404Z"
   },
   {
    "duration": 111,
    "start_time": "2023-08-15T04:14:09.410Z"
   },
   {
    "duration": 52,
    "start_time": "2023-08-15T04:14:09.523Z"
   },
   {
    "duration": 58,
    "start_time": "2023-08-15T04:14:09.577Z"
   },
   {
    "duration": 160,
    "start_time": "2023-08-15T04:14:09.637Z"
   },
   {
    "duration": 4,
    "start_time": "2023-08-15T04:14:09.799Z"
   },
   {
    "duration": 33,
    "start_time": "2023-08-15T04:14:09.805Z"
   },
   {
    "duration": 39,
    "start_time": "2023-08-15T04:14:09.841Z"
   },
   {
    "duration": 89,
    "start_time": "2023-08-15T04:14:09.882Z"
   },
   {
    "duration": 28,
    "start_time": "2023-08-15T04:14:09.973Z"
   },
   {
    "duration": 92,
    "start_time": "2023-08-15T04:14:10.003Z"
   },
   {
    "duration": 4,
    "start_time": "2023-08-15T04:14:10.096Z"
   },
   {
    "duration": 24,
    "start_time": "2023-08-15T04:14:10.101Z"
   },
   {
    "duration": 10,
    "start_time": "2023-08-15T04:14:10.126Z"
   },
   {
    "duration": 47,
    "start_time": "2023-08-15T04:14:10.138Z"
   },
   {
    "duration": 7,
    "start_time": "2023-08-15T04:14:10.186Z"
   },
   {
    "duration": 52,
    "start_time": "2023-08-15T04:14:10.195Z"
   },
   {
    "duration": 7,
    "start_time": "2023-08-15T04:14:10.249Z"
   },
   {
    "duration": 21,
    "start_time": "2023-08-15T04:14:10.257Z"
   },
   {
    "duration": 60,
    "start_time": "2023-08-15T04:14:10.280Z"
   },
   {
    "duration": 7,
    "start_time": "2023-08-15T04:14:10.342Z"
   },
   {
    "duration": 37,
    "start_time": "2023-08-15T04:14:10.351Z"
   },
   {
    "duration": 8,
    "start_time": "2023-08-15T04:14:10.390Z"
   },
   {
    "duration": 46,
    "start_time": "2023-08-15T04:14:10.399Z"
   },
   {
    "duration": 171,
    "start_time": "2023-08-15T04:14:10.447Z"
   },
   {
    "duration": 367,
    "start_time": "2023-08-15T04:14:10.620Z"
   },
   {
    "duration": 43,
    "start_time": "2023-08-15T04:14:10.989Z"
   },
   {
    "duration": 165,
    "start_time": "2023-08-15T04:14:11.034Z"
   },
   {
    "duration": 12,
    "start_time": "2023-08-15T04:14:11.201Z"
   },
   {
    "duration": 143,
    "start_time": "2023-08-15T04:14:11.214Z"
   },
   {
    "duration": 11,
    "start_time": "2023-08-15T04:14:11.358Z"
   },
   {
    "duration": 144,
    "start_time": "2023-08-15T04:14:11.371Z"
   },
   {
    "duration": 19,
    "start_time": "2023-08-15T04:14:11.517Z"
   },
   {
    "duration": 155,
    "start_time": "2023-08-15T04:14:11.538Z"
   },
   {
    "duration": 4,
    "start_time": "2023-08-15T04:14:11.695Z"
   },
   {
    "duration": 104,
    "start_time": "2023-08-15T04:14:11.701Z"
   },
   {
    "duration": 15,
    "start_time": "2023-08-15T04:14:11.806Z"
   },
   {
    "duration": 140,
    "start_time": "2023-08-15T04:14:11.822Z"
   },
   {
    "duration": 73,
    "start_time": "2023-08-15T04:14:11.964Z"
   },
   {
    "duration": 14,
    "start_time": "2023-08-15T04:14:12.039Z"
   },
   {
    "duration": 143,
    "start_time": "2023-08-15T04:14:12.054Z"
   },
   {
    "duration": 40,
    "start_time": "2023-08-15T04:14:12.199Z"
   },
   {
    "duration": 14,
    "start_time": "2023-08-15T04:14:12.240Z"
   },
   {
    "duration": 160,
    "start_time": "2023-08-15T04:14:12.255Z"
   },
   {
    "duration": 18,
    "start_time": "2023-08-15T04:14:12.416Z"
   },
   {
    "duration": 10,
    "start_time": "2023-08-15T04:14:12.435Z"
   },
   {
    "duration": 25,
    "start_time": "2023-08-15T04:14:12.446Z"
   },
   {
    "duration": 161,
    "start_time": "2023-08-15T04:14:12.473Z"
   },
   {
    "duration": 5,
    "start_time": "2023-08-15T04:14:12.636Z"
   },
   {
    "duration": 10,
    "start_time": "2023-08-15T04:14:12.642Z"
   },
   {
    "duration": 10,
    "start_time": "2023-08-15T04:14:12.653Z"
   },
   {
    "duration": 50,
    "start_time": "2023-08-15T04:14:12.664Z"
   },
   {
    "duration": 4,
    "start_time": "2023-08-15T04:14:12.716Z"
   },
   {
    "duration": 7,
    "start_time": "2023-08-15T04:14:12.722Z"
   },
   {
    "duration": 110,
    "start_time": "2023-08-15T04:15:30.554Z"
   },
   {
    "duration": 84,
    "start_time": "2023-08-15T04:28:32.906Z"
   },
   {
    "duration": 84,
    "start_time": "2023-08-15T04:30:08.666Z"
   },
   {
    "duration": 140,
    "start_time": "2023-08-15T04:34:58.442Z"
   },
   {
    "duration": 9,
    "start_time": "2023-08-15T04:35:11.029Z"
   },
   {
    "duration": 9,
    "start_time": "2023-08-15T04:35:31.050Z"
   },
   {
    "duration": 1804,
    "start_time": "2023-08-15T04:35:40.429Z"
   },
   {
    "duration": 3,
    "start_time": "2023-08-15T04:35:42.235Z"
   },
   {
    "duration": 61,
    "start_time": "2023-08-15T04:35:42.240Z"
   },
   {
    "duration": 26,
    "start_time": "2023-08-15T04:35:42.303Z"
   },
   {
    "duration": 116,
    "start_time": "2023-08-15T04:35:42.331Z"
   },
   {
    "duration": 27,
    "start_time": "2023-08-15T04:35:42.448Z"
   },
   {
    "duration": 12,
    "start_time": "2023-08-15T04:35:42.487Z"
   },
   {
    "duration": 51,
    "start_time": "2023-08-15T04:35:42.501Z"
   },
   {
    "duration": 42,
    "start_time": "2023-08-15T04:35:42.553Z"
   },
   {
    "duration": 46,
    "start_time": "2023-08-15T04:35:42.597Z"
   },
   {
    "duration": 46,
    "start_time": "2023-08-15T04:35:42.644Z"
   },
   {
    "duration": 125,
    "start_time": "2023-08-15T04:35:42.691Z"
   },
   {
    "duration": 40,
    "start_time": "2023-08-15T04:35:42.817Z"
   },
   {
    "duration": 4,
    "start_time": "2023-08-15T04:35:42.858Z"
   },
   {
    "duration": 46,
    "start_time": "2023-08-15T04:35:42.864Z"
   },
   {
    "duration": 74,
    "start_time": "2023-08-15T04:35:42.912Z"
   },
   {
    "duration": 51,
    "start_time": "2023-08-15T04:35:42.987Z"
   },
   {
    "duration": 35,
    "start_time": "2023-08-15T04:35:43.040Z"
   },
   {
    "duration": 40,
    "start_time": "2023-08-15T04:35:43.076Z"
   },
   {
    "duration": 104,
    "start_time": "2023-08-15T04:35:43.117Z"
   },
   {
    "duration": 4,
    "start_time": "2023-08-15T04:35:43.223Z"
   },
   {
    "duration": 63,
    "start_time": "2023-08-15T04:35:43.228Z"
   },
   {
    "duration": 26,
    "start_time": "2023-08-15T04:35:43.293Z"
   },
   {
    "duration": 139,
    "start_time": "2023-08-15T04:35:43.321Z"
   },
   {
    "duration": 150,
    "start_time": "2023-08-15T04:35:43.461Z"
   },
   {
    "duration": 4,
    "start_time": "2023-08-15T04:35:43.613Z"
   },
   {
    "duration": 137,
    "start_time": "2023-08-15T04:35:43.618Z"
   },
   {
    "duration": 0,
    "start_time": "2023-08-15T04:35:43.758Z"
   },
   {
    "duration": 0,
    "start_time": "2023-08-15T04:35:43.759Z"
   },
   {
    "duration": 0,
    "start_time": "2023-08-15T04:35:43.760Z"
   },
   {
    "duration": 0,
    "start_time": "2023-08-15T04:35:43.761Z"
   },
   {
    "duration": 0,
    "start_time": "2023-08-15T04:35:43.762Z"
   },
   {
    "duration": 0,
    "start_time": "2023-08-15T04:35:43.763Z"
   },
   {
    "duration": 0,
    "start_time": "2023-08-15T04:35:43.764Z"
   },
   {
    "duration": 0,
    "start_time": "2023-08-15T04:35:43.765Z"
   },
   {
    "duration": 0,
    "start_time": "2023-08-15T04:35:43.787Z"
   },
   {
    "duration": 0,
    "start_time": "2023-08-15T04:35:43.788Z"
   },
   {
    "duration": 0,
    "start_time": "2023-08-15T04:35:43.788Z"
   },
   {
    "duration": 0,
    "start_time": "2023-08-15T04:35:43.789Z"
   },
   {
    "duration": 0,
    "start_time": "2023-08-15T04:35:43.790Z"
   },
   {
    "duration": 0,
    "start_time": "2023-08-15T04:35:43.791Z"
   },
   {
    "duration": 0,
    "start_time": "2023-08-15T04:35:43.792Z"
   },
   {
    "duration": 0,
    "start_time": "2023-08-15T04:35:43.793Z"
   },
   {
    "duration": 0,
    "start_time": "2023-08-15T04:35:43.794Z"
   },
   {
    "duration": 0,
    "start_time": "2023-08-15T04:35:43.795Z"
   },
   {
    "duration": 0,
    "start_time": "2023-08-15T04:35:43.796Z"
   },
   {
    "duration": 0,
    "start_time": "2023-08-15T04:35:43.797Z"
   },
   {
    "duration": 0,
    "start_time": "2023-08-15T04:35:43.798Z"
   },
   {
    "duration": 0,
    "start_time": "2023-08-15T04:35:43.799Z"
   },
   {
    "duration": 0,
    "start_time": "2023-08-15T04:35:43.800Z"
   },
   {
    "duration": 0,
    "start_time": "2023-08-15T04:35:43.801Z"
   },
   {
    "duration": 0,
    "start_time": "2023-08-15T04:35:43.802Z"
   },
   {
    "duration": 0,
    "start_time": "2023-08-15T04:35:43.803Z"
   },
   {
    "duration": 0,
    "start_time": "2023-08-15T04:35:43.804Z"
   },
   {
    "duration": 0,
    "start_time": "2023-08-15T04:35:43.805Z"
   },
   {
    "duration": 0,
    "start_time": "2023-08-15T04:35:43.806Z"
   },
   {
    "duration": 0,
    "start_time": "2023-08-15T04:35:43.807Z"
   },
   {
    "duration": 0,
    "start_time": "2023-08-15T04:35:43.808Z"
   },
   {
    "duration": 0,
    "start_time": "2023-08-15T04:35:43.809Z"
   },
   {
    "duration": 0,
    "start_time": "2023-08-15T04:35:43.810Z"
   },
   {
    "duration": 0,
    "start_time": "2023-08-15T04:35:43.811Z"
   },
   {
    "duration": 0,
    "start_time": "2023-08-15T04:35:43.812Z"
   },
   {
    "duration": 0,
    "start_time": "2023-08-15T04:35:43.813Z"
   },
   {
    "duration": 0,
    "start_time": "2023-08-15T04:35:43.814Z"
   },
   {
    "duration": 0,
    "start_time": "2023-08-15T04:35:43.815Z"
   },
   {
    "duration": 0,
    "start_time": "2023-08-15T04:35:43.816Z"
   },
   {
    "duration": 0,
    "start_time": "2023-08-15T04:35:43.816Z"
   },
   {
    "duration": 1,
    "start_time": "2023-08-15T04:35:43.817Z"
   },
   {
    "duration": 0,
    "start_time": "2023-08-15T04:35:43.819Z"
   },
   {
    "duration": 0,
    "start_time": "2023-08-15T04:35:43.819Z"
   },
   {
    "duration": 0,
    "start_time": "2023-08-15T04:35:43.820Z"
   },
   {
    "duration": 0,
    "start_time": "2023-08-15T04:35:43.821Z"
   },
   {
    "duration": 0,
    "start_time": "2023-08-15T04:35:43.822Z"
   },
   {
    "duration": 0,
    "start_time": "2023-08-15T04:35:43.823Z"
   },
   {
    "duration": 12,
    "start_time": "2023-08-15T04:36:21.624Z"
   },
   {
    "duration": 44,
    "start_time": "2023-08-15T04:36:21.638Z"
   },
   {
    "duration": 125,
    "start_time": "2023-08-15T04:36:21.684Z"
   },
   {
    "duration": 21,
    "start_time": "2023-08-15T04:36:21.811Z"
   },
   {
    "duration": 100,
    "start_time": "2023-08-15T04:36:21.834Z"
   },
   {
    "duration": 4,
    "start_time": "2023-08-15T04:36:21.935Z"
   },
   {
    "duration": 44,
    "start_time": "2023-08-15T04:36:21.940Z"
   },
   {
    "duration": 37,
    "start_time": "2023-08-15T04:36:21.986Z"
   },
   {
    "duration": 75,
    "start_time": "2023-08-15T04:36:22.025Z"
   },
   {
    "duration": 86,
    "start_time": "2023-08-15T04:36:22.104Z"
   },
   {
    "duration": 90,
    "start_time": "2023-08-15T04:36:22.192Z"
   },
   {
    "duration": 7,
    "start_time": "2023-08-15T04:36:22.283Z"
   },
   {
    "duration": 27,
    "start_time": "2023-08-15T04:36:22.291Z"
   },
   {
    "duration": 110,
    "start_time": "2023-08-15T04:36:22.319Z"
   },
   {
    "duration": 6,
    "start_time": "2023-08-15T04:36:22.430Z"
   },
   {
    "duration": 43,
    "start_time": "2023-08-15T04:36:22.438Z"
   },
   {
    "duration": 22,
    "start_time": "2023-08-15T04:36:22.483Z"
   },
   {
    "duration": 130,
    "start_time": "2023-08-15T04:36:22.507Z"
   },
   {
    "duration": 188,
    "start_time": "2023-08-15T04:36:22.640Z"
   },
   {
    "duration": 348,
    "start_time": "2023-08-15T04:36:22.830Z"
   },
   {
    "duration": 41,
    "start_time": "2023-08-15T04:36:23.180Z"
   },
   {
    "duration": 163,
    "start_time": "2023-08-15T04:36:23.223Z"
   },
   {
    "duration": 12,
    "start_time": "2023-08-15T04:36:23.387Z"
   },
   {
    "duration": 155,
    "start_time": "2023-08-15T04:36:23.401Z"
   },
   {
    "duration": 10,
    "start_time": "2023-08-15T04:36:23.558Z"
   },
   {
    "duration": 130,
    "start_time": "2023-08-15T04:36:23.570Z"
   },
   {
    "duration": 18,
    "start_time": "2023-08-15T04:36:23.702Z"
   },
   {
    "duration": 154,
    "start_time": "2023-08-15T04:36:23.723Z"
   },
   {
    "duration": 9,
    "start_time": "2023-08-15T04:36:23.878Z"
   },
   {
    "duration": 108,
    "start_time": "2023-08-15T04:36:23.888Z"
   },
   {
    "duration": 14,
    "start_time": "2023-08-15T04:36:23.997Z"
   },
   {
    "duration": 138,
    "start_time": "2023-08-15T04:36:24.013Z"
   },
   {
    "duration": 72,
    "start_time": "2023-08-15T04:36:24.152Z"
   },
   {
    "duration": 15,
    "start_time": "2023-08-15T04:36:24.226Z"
   },
   {
    "duration": 146,
    "start_time": "2023-08-15T04:36:24.243Z"
   },
   {
    "duration": 43,
    "start_time": "2023-08-15T04:36:24.391Z"
   },
   {
    "duration": 14,
    "start_time": "2023-08-15T04:36:24.435Z"
   },
   {
    "duration": 154,
    "start_time": "2023-08-15T04:36:24.451Z"
   },
   {
    "duration": 17,
    "start_time": "2023-08-15T04:36:24.607Z"
   },
   {
    "duration": 27,
    "start_time": "2023-08-15T04:36:24.626Z"
   },
   {
    "duration": 37,
    "start_time": "2023-08-15T04:36:24.655Z"
   },
   {
    "duration": 210,
    "start_time": "2023-08-15T04:36:24.694Z"
   },
   {
    "duration": 8,
    "start_time": "2023-08-15T04:36:24.906Z"
   },
   {
    "duration": 21,
    "start_time": "2023-08-15T04:36:24.916Z"
   },
   {
    "duration": 17,
    "start_time": "2023-08-15T04:36:24.938Z"
   },
   {
    "duration": 63,
    "start_time": "2023-08-15T04:36:24.956Z"
   },
   {
    "duration": 5,
    "start_time": "2023-08-15T04:36:25.021Z"
   },
   {
    "duration": 25,
    "start_time": "2023-08-15T04:36:25.027Z"
   },
   {
    "duration": 8,
    "start_time": "2023-08-15T04:37:39.195Z"
   },
   {
    "duration": 1476,
    "start_time": "2023-08-15T04:38:04.380Z"
   },
   {
    "duration": 1752,
    "start_time": "2023-08-15T04:39:05.957Z"
   },
   {
    "duration": 2292,
    "start_time": "2023-08-15T04:39:15.148Z"
   },
   {
    "duration": 15,
    "start_time": "2023-08-15T04:39:42.452Z"
   },
   {
    "duration": 17,
    "start_time": "2023-08-15T04:39:58.429Z"
   },
   {
    "duration": 9,
    "start_time": "2023-08-15T04:40:41.925Z"
   },
   {
    "duration": 1771,
    "start_time": "2023-08-15T04:40:53.576Z"
   },
   {
    "duration": 4,
    "start_time": "2023-08-15T04:40:55.349Z"
   },
   {
    "duration": 44,
    "start_time": "2023-08-15T04:40:55.354Z"
   },
   {
    "duration": 17,
    "start_time": "2023-08-15T04:40:55.400Z"
   },
   {
    "duration": 121,
    "start_time": "2023-08-15T04:40:55.418Z"
   },
   {
    "duration": 24,
    "start_time": "2023-08-15T04:40:55.541Z"
   },
   {
    "duration": 26,
    "start_time": "2023-08-15T04:40:55.566Z"
   },
   {
    "duration": 23,
    "start_time": "2023-08-15T04:40:55.593Z"
   },
   {
    "duration": 10,
    "start_time": "2023-08-15T04:40:55.617Z"
   },
   {
    "duration": 12,
    "start_time": "2023-08-15T04:40:55.629Z"
   },
   {
    "duration": 39,
    "start_time": "2023-08-15T04:40:55.642Z"
   },
   {
    "duration": 87,
    "start_time": "2023-08-15T04:40:55.687Z"
   },
   {
    "duration": 43,
    "start_time": "2023-08-15T04:40:55.776Z"
   },
   {
    "duration": 6,
    "start_time": "2023-08-15T04:40:55.820Z"
   },
   {
    "duration": 20,
    "start_time": "2023-08-15T04:40:55.827Z"
   },
   {
    "duration": 28,
    "start_time": "2023-08-15T04:40:55.849Z"
   },
   {
    "duration": 23,
    "start_time": "2023-08-15T04:40:55.879Z"
   },
   {
    "duration": 20,
    "start_time": "2023-08-15T04:40:55.903Z"
   },
   {
    "duration": 31,
    "start_time": "2023-08-15T04:40:55.925Z"
   },
   {
    "duration": 81,
    "start_time": "2023-08-15T04:40:55.958Z"
   },
   {
    "duration": 6,
    "start_time": "2023-08-15T04:40:56.041Z"
   },
   {
    "duration": 41,
    "start_time": "2023-08-15T04:40:56.048Z"
   },
   {
    "duration": 9,
    "start_time": "2023-08-15T04:40:56.091Z"
   },
   {
    "duration": 61,
    "start_time": "2023-08-15T04:40:56.101Z"
   },
   {
    "duration": 156,
    "start_time": "2023-08-15T04:40:56.164Z"
   },
   {
    "duration": 4,
    "start_time": "2023-08-15T04:40:56.322Z"
   },
   {
    "duration": 18,
    "start_time": "2023-08-15T04:40:56.328Z"
   },
   {
    "duration": 41,
    "start_time": "2023-08-15T04:40:56.351Z"
   },
   {
    "duration": 104,
    "start_time": "2023-08-15T04:40:56.394Z"
   },
   {
    "duration": 22,
    "start_time": "2023-08-15T04:40:56.500Z"
   },
   {
    "duration": 102,
    "start_time": "2023-08-15T04:40:56.524Z"
   },
   {
    "duration": 4,
    "start_time": "2023-08-15T04:40:56.628Z"
   },
   {
    "duration": 30,
    "start_time": "2023-08-15T04:40:56.633Z"
   },
   {
    "duration": 27,
    "start_time": "2023-08-15T04:40:56.664Z"
   },
   {
    "duration": 61,
    "start_time": "2023-08-15T04:40:56.692Z"
   },
   {
    "duration": 6,
    "start_time": "2023-08-15T04:40:56.755Z"
   },
   {
    "duration": 64,
    "start_time": "2023-08-15T04:40:56.763Z"
   },
   {
    "duration": 6,
    "start_time": "2023-08-15T04:40:56.828Z"
   },
   {
    "duration": 33,
    "start_time": "2023-08-15T04:40:56.836Z"
   },
   {
    "duration": 60,
    "start_time": "2023-08-15T04:40:56.870Z"
   },
   {
    "duration": 7,
    "start_time": "2023-08-15T04:40:56.931Z"
   },
   {
    "duration": 41,
    "start_time": "2023-08-15T04:40:56.939Z"
   },
   {
    "duration": 10,
    "start_time": "2023-08-15T04:40:56.982Z"
   },
   {
    "duration": 46,
    "start_time": "2023-08-15T04:40:56.994Z"
   },
   {
    "duration": 173,
    "start_time": "2023-08-15T04:40:57.042Z"
   },
   {
    "duration": 354,
    "start_time": "2023-08-15T04:40:57.217Z"
   },
   {
    "duration": 45,
    "start_time": "2023-08-15T04:40:57.573Z"
   },
   {
    "duration": 157,
    "start_time": "2023-08-15T04:40:57.619Z"
   },
   {
    "duration": 17,
    "start_time": "2023-08-15T04:40:57.778Z"
   },
   {
    "duration": 138,
    "start_time": "2023-08-15T04:40:57.797Z"
   },
   {
    "duration": 12,
    "start_time": "2023-08-15T04:40:57.936Z"
   },
   {
    "duration": 140,
    "start_time": "2023-08-15T04:40:57.949Z"
   },
   {
    "duration": 20,
    "start_time": "2023-08-15T04:40:58.091Z"
   },
   {
    "duration": 161,
    "start_time": "2023-08-15T04:40:58.113Z"
   },
   {
    "duration": 11,
    "start_time": "2023-08-15T04:40:58.276Z"
   },
   {
    "duration": 115,
    "start_time": "2023-08-15T04:40:58.289Z"
   },
   {
    "duration": 15,
    "start_time": "2023-08-15T04:40:58.406Z"
   },
   {
    "duration": 149,
    "start_time": "2023-08-15T04:40:58.423Z"
   },
   {
    "duration": 79,
    "start_time": "2023-08-15T04:40:58.574Z"
   },
   {
    "duration": 15,
    "start_time": "2023-08-15T04:40:58.655Z"
   },
   {
    "duration": 146,
    "start_time": "2023-08-15T04:40:58.672Z"
   },
   {
    "duration": 43,
    "start_time": "2023-08-15T04:40:58.820Z"
   },
   {
    "duration": 28,
    "start_time": "2023-08-15T04:40:58.865Z"
   },
   {
    "duration": 168,
    "start_time": "2023-08-15T04:40:58.895Z"
   },
   {
    "duration": 28,
    "start_time": "2023-08-15T04:40:59.064Z"
   },
   {
    "duration": 8,
    "start_time": "2023-08-15T04:40:59.094Z"
   },
   {
    "duration": 38,
    "start_time": "2023-08-15T04:40:59.104Z"
   },
   {
    "duration": 183,
    "start_time": "2023-08-15T04:40:59.144Z"
   },
   {
    "duration": 5,
    "start_time": "2023-08-15T04:40:59.328Z"
   },
   {
    "duration": 31,
    "start_time": "2023-08-15T04:40:59.335Z"
   },
   {
    "duration": 5,
    "start_time": "2023-08-15T04:40:59.367Z"
   },
   {
    "duration": 38,
    "start_time": "2023-08-15T04:40:59.373Z"
   },
   {
    "duration": 5,
    "start_time": "2023-08-15T04:40:59.413Z"
   },
   {
    "duration": 7,
    "start_time": "2023-08-15T04:40:59.419Z"
   },
   {
    "duration": 144,
    "start_time": "2023-08-15T04:42:58.269Z"
   },
   {
    "duration": 27,
    "start_time": "2023-08-15T04:43:38.919Z"
   },
   {
    "duration": 41,
    "start_time": "2023-08-15T04:43:52.086Z"
   },
   {
    "duration": 39,
    "start_time": "2023-08-15T04:44:35.814Z"
   },
   {
    "duration": 24,
    "start_time": "2023-08-15T04:44:52.621Z"
   },
   {
    "duration": 38,
    "start_time": "2023-08-15T04:45:07.078Z"
   },
   {
    "duration": 10,
    "start_time": "2023-08-15T04:46:14.031Z"
   },
   {
    "duration": 173,
    "start_time": "2023-08-15T04:50:25.153Z"
   },
   {
    "duration": 249,
    "start_time": "2023-08-15T04:50:36.232Z"
   },
   {
    "duration": 160,
    "start_time": "2023-08-15T04:50:41.616Z"
   },
   {
    "duration": 53,
    "start_time": "2023-08-15T16:44:29.711Z"
   },
   {
    "duration": 2279,
    "start_time": "2023-08-15T16:44:37.173Z"
   },
   {
    "duration": 5,
    "start_time": "2023-08-15T16:44:39.454Z"
   },
   {
    "duration": 49,
    "start_time": "2023-08-15T16:44:39.461Z"
   },
   {
    "duration": 21,
    "start_time": "2023-08-15T16:44:39.512Z"
   },
   {
    "duration": 129,
    "start_time": "2023-08-15T16:44:39.535Z"
   },
   {
    "duration": 30,
    "start_time": "2023-08-15T16:44:39.667Z"
   },
   {
    "duration": 15,
    "start_time": "2023-08-15T16:44:39.699Z"
   },
   {
    "duration": 46,
    "start_time": "2023-08-15T16:44:39.715Z"
   },
   {
    "duration": 11,
    "start_time": "2023-08-15T16:44:39.763Z"
   },
   {
    "duration": 10,
    "start_time": "2023-08-15T16:44:39.777Z"
   },
   {
    "duration": 42,
    "start_time": "2023-08-15T16:44:39.789Z"
   },
   {
    "duration": 122,
    "start_time": "2023-08-15T16:44:39.833Z"
   },
   {
    "duration": 46,
    "start_time": "2023-08-15T16:44:39.959Z"
   },
   {
    "duration": 6,
    "start_time": "2023-08-15T16:44:40.007Z"
   },
   {
    "duration": 34,
    "start_time": "2023-08-15T16:44:40.015Z"
   },
   {
    "duration": 48,
    "start_time": "2023-08-15T16:44:40.051Z"
   },
   {
    "duration": 79,
    "start_time": "2023-08-15T16:44:40.101Z"
   },
   {
    "duration": 31,
    "start_time": "2023-08-15T16:44:40.182Z"
   },
   {
    "duration": 21,
    "start_time": "2023-08-15T16:44:40.215Z"
   },
   {
    "duration": 87,
    "start_time": "2023-08-15T16:44:40.238Z"
   },
   {
    "duration": 7,
    "start_time": "2023-08-15T16:44:40.327Z"
   },
   {
    "duration": 43,
    "start_time": "2023-08-15T16:44:40.337Z"
   },
   {
    "duration": 9,
    "start_time": "2023-08-15T16:44:40.382Z"
   },
   {
    "duration": 75,
    "start_time": "2023-08-15T16:44:40.392Z"
   },
   {
    "duration": 239,
    "start_time": "2023-08-15T16:44:40.469Z"
   },
   {
    "duration": 6,
    "start_time": "2023-08-15T16:44:40.711Z"
   },
   {
    "duration": 27,
    "start_time": "2023-08-15T16:44:40.719Z"
   },
   {
    "duration": 37,
    "start_time": "2023-08-15T16:44:40.758Z"
   },
   {
    "duration": 134,
    "start_time": "2023-08-15T16:44:40.798Z"
   },
   {
    "duration": 36,
    "start_time": "2023-08-15T16:44:40.934Z"
   },
   {
    "duration": 102,
    "start_time": "2023-08-15T16:44:40.972Z"
   },
   {
    "duration": 4,
    "start_time": "2023-08-15T16:44:41.076Z"
   },
   {
    "duration": 23,
    "start_time": "2023-08-15T16:44:41.082Z"
   },
   {
    "duration": 41,
    "start_time": "2023-08-15T16:44:41.109Z"
   },
   {
    "duration": 59,
    "start_time": "2023-08-15T16:44:41.152Z"
   },
   {
    "duration": 9,
    "start_time": "2023-08-15T16:44:41.213Z"
   },
   {
    "duration": 62,
    "start_time": "2023-08-15T16:44:41.224Z"
   },
   {
    "duration": 9,
    "start_time": "2023-08-15T16:44:41.288Z"
   },
   {
    "duration": 16,
    "start_time": "2023-08-15T16:44:41.298Z"
   },
   {
    "duration": 91,
    "start_time": "2023-08-15T16:44:41.316Z"
   },
   {
    "duration": 10,
    "start_time": "2023-08-15T16:44:41.409Z"
   },
   {
    "duration": 61,
    "start_time": "2023-08-15T16:44:41.421Z"
   },
   {
    "duration": 10,
    "start_time": "2023-08-15T16:44:41.484Z"
   },
   {
    "duration": 63,
    "start_time": "2023-08-15T16:44:41.496Z"
   },
   {
    "duration": 206,
    "start_time": "2023-08-15T16:44:41.562Z"
   },
   {
    "duration": 440,
    "start_time": "2023-08-15T16:44:41.770Z"
   },
   {
    "duration": 86,
    "start_time": "2023-08-15T16:44:42.212Z"
   },
   {
    "duration": 220,
    "start_time": "2023-08-15T16:44:42.301Z"
   },
   {
    "duration": 14,
    "start_time": "2023-08-15T16:44:42.523Z"
   },
   {
    "duration": 194,
    "start_time": "2023-08-15T16:44:42.538Z"
   },
   {
    "duration": 13,
    "start_time": "2023-08-15T16:44:42.733Z"
   },
   {
    "duration": 186,
    "start_time": "2023-08-15T16:44:42.759Z"
   },
   {
    "duration": 36,
    "start_time": "2023-08-15T16:44:42.946Z"
   },
   {
    "duration": 184,
    "start_time": "2023-08-15T16:44:42.984Z"
   },
   {
    "duration": 5,
    "start_time": "2023-08-15T16:44:43.170Z"
   },
   {
    "duration": 125,
    "start_time": "2023-08-15T16:44:43.176Z"
   },
   {
    "duration": 19,
    "start_time": "2023-08-15T16:44:43.304Z"
   },
   {
    "duration": 191,
    "start_time": "2023-08-15T16:44:43.325Z"
   },
   {
    "duration": 95,
    "start_time": "2023-08-15T16:44:43.518Z"
   },
   {
    "duration": 20,
    "start_time": "2023-08-15T16:44:43.615Z"
   },
   {
    "duration": 184,
    "start_time": "2023-08-15T16:44:43.638Z"
   },
   {
    "duration": 57,
    "start_time": "2023-08-15T16:44:43.824Z"
   },
   {
    "duration": 17,
    "start_time": "2023-08-15T16:44:43.883Z"
   },
   {
    "duration": 199,
    "start_time": "2023-08-15T16:44:43.903Z"
   },
   {
    "duration": 22,
    "start_time": "2023-08-15T16:44:44.105Z"
   },
   {
    "duration": 10,
    "start_time": "2023-08-15T16:44:44.129Z"
   },
   {
    "duration": 19,
    "start_time": "2023-08-15T16:44:44.159Z"
   },
   {
    "duration": 171,
    "start_time": "2023-08-15T16:44:44.180Z"
   },
   {
    "duration": 8,
    "start_time": "2023-08-15T16:44:44.353Z"
   },
   {
    "duration": 19,
    "start_time": "2023-08-15T16:44:44.363Z"
   },
   {
    "duration": 14,
    "start_time": "2023-08-15T16:44:44.384Z"
   },
   {
    "duration": 47,
    "start_time": "2023-08-15T16:44:44.399Z"
   },
   {
    "duration": 14,
    "start_time": "2023-08-15T16:44:44.448Z"
   },
   {
    "duration": 16,
    "start_time": "2023-08-15T16:44:44.465Z"
   },
   {
    "duration": 4,
    "start_time": "2023-08-16T06:29:31.863Z"
   },
   {
    "duration": 22,
    "start_time": "2023-08-16T06:29:38.165Z"
   },
   {
    "duration": 9,
    "start_time": "2023-08-16T06:42:21.897Z"
   },
   {
    "duration": 4,
    "start_time": "2023-08-16T06:43:02.079Z"
   },
   {
    "duration": 4,
    "start_time": "2023-08-16T06:44:45.480Z"
   },
   {
    "duration": 5,
    "start_time": "2023-08-16T06:45:10.728Z"
   },
   {
    "duration": 15,
    "start_time": "2023-08-16T06:45:17.583Z"
   },
   {
    "duration": 17,
    "start_time": "2023-08-16T06:46:05.466Z"
   },
   {
    "duration": 6,
    "start_time": "2023-08-16T06:46:13.409Z"
   },
   {
    "duration": 12,
    "start_time": "2023-08-16T06:46:48.433Z"
   },
   {
    "duration": 6,
    "start_time": "2023-08-16T06:47:09.017Z"
   },
   {
    "duration": 143,
    "start_time": "2023-08-16T06:47:13.123Z"
   },
   {
    "duration": 19,
    "start_time": "2023-08-16T06:48:06.434Z"
   },
   {
    "duration": 17,
    "start_time": "2023-08-16T06:48:17.363Z"
   },
   {
    "duration": 2121,
    "start_time": "2023-08-16T06:48:34.253Z"
   },
   {
    "duration": 5,
    "start_time": "2023-08-16T06:48:36.376Z"
   },
   {
    "duration": 70,
    "start_time": "2023-08-16T06:48:36.382Z"
   },
   {
    "duration": 19,
    "start_time": "2023-08-16T06:48:36.454Z"
   },
   {
    "duration": 122,
    "start_time": "2023-08-16T06:48:36.475Z"
   },
   {
    "duration": 27,
    "start_time": "2023-08-16T06:48:36.599Z"
   },
   {
    "duration": 43,
    "start_time": "2023-08-16T06:48:36.628Z"
   },
   {
    "duration": 31,
    "start_time": "2023-08-16T06:48:36.673Z"
   },
   {
    "duration": 13,
    "start_time": "2023-08-16T06:48:36.706Z"
   },
   {
    "duration": 12,
    "start_time": "2023-08-16T06:48:36.721Z"
   },
   {
    "duration": 34,
    "start_time": "2023-08-16T06:48:36.735Z"
   },
   {
    "duration": 110,
    "start_time": "2023-08-16T06:48:36.771Z"
   },
   {
    "duration": 42,
    "start_time": "2023-08-16T06:48:36.883Z"
   },
   {
    "duration": 4,
    "start_time": "2023-08-16T06:48:36.927Z"
   },
   {
    "duration": 19,
    "start_time": "2023-08-16T06:48:36.933Z"
   },
   {
    "duration": 15,
    "start_time": "2023-08-16T06:48:36.959Z"
   },
   {
    "duration": 19,
    "start_time": "2023-08-16T06:48:36.976Z"
   },
   {
    "duration": 17,
    "start_time": "2023-08-16T06:48:36.997Z"
   },
   {
    "duration": 30,
    "start_time": "2023-08-16T06:48:37.016Z"
   },
   {
    "duration": 85,
    "start_time": "2023-08-16T06:48:37.048Z"
   },
   {
    "duration": 6,
    "start_time": "2023-08-16T06:48:37.134Z"
   },
   {
    "duration": 41,
    "start_time": "2023-08-16T06:48:37.141Z"
   },
   {
    "duration": 9,
    "start_time": "2023-08-16T06:48:37.185Z"
   },
   {
    "duration": 68,
    "start_time": "2023-08-16T06:48:37.196Z"
   },
   {
    "duration": 187,
    "start_time": "2023-08-16T06:48:37.266Z"
   },
   {
    "duration": 7,
    "start_time": "2023-08-16T06:48:37.455Z"
   },
   {
    "duration": 21,
    "start_time": "2023-08-16T06:48:37.464Z"
   },
   {
    "duration": 34,
    "start_time": "2023-08-16T06:48:37.489Z"
   },
   {
    "duration": 128,
    "start_time": "2023-08-16T06:48:37.525Z"
   },
   {
    "duration": 29,
    "start_time": "2023-08-16T06:48:37.655Z"
   },
   {
    "duration": 122,
    "start_time": "2023-08-16T06:48:37.686Z"
   },
   {
    "duration": 4,
    "start_time": "2023-08-16T06:48:37.810Z"
   },
   {
    "duration": 14,
    "start_time": "2023-08-16T06:48:37.815Z"
   },
   {
    "duration": 9,
    "start_time": "2023-08-16T06:48:37.831Z"
   },
   {
    "duration": 63,
    "start_time": "2023-08-16T06:48:37.842Z"
   },
   {
    "duration": 9,
    "start_time": "2023-08-16T06:48:37.907Z"
   },
   {
    "duration": 64,
    "start_time": "2023-08-16T06:48:37.918Z"
   },
   {
    "duration": 8,
    "start_time": "2023-08-16T06:48:37.984Z"
   },
   {
    "duration": 15,
    "start_time": "2023-08-16T06:48:37.994Z"
   },
   {
    "duration": 27,
    "start_time": "2023-08-16T06:48:38.011Z"
   },
   {
    "duration": 76,
    "start_time": "2023-08-16T06:48:38.040Z"
   },
   {
    "duration": 10,
    "start_time": "2023-08-16T06:48:38.118Z"
   },
   {
    "duration": 51,
    "start_time": "2023-08-16T06:48:38.130Z"
   },
   {
    "duration": 8,
    "start_time": "2023-08-16T06:48:38.183Z"
   },
   {
    "duration": 14,
    "start_time": "2023-08-16T06:48:38.192Z"
   },
   {
    "duration": 95,
    "start_time": "2023-08-16T06:48:38.208Z"
   },
   {
    "duration": 0,
    "start_time": "2023-08-16T06:48:38.305Z"
   },
   {
    "duration": 0,
    "start_time": "2023-08-16T06:48:38.307Z"
   },
   {
    "duration": 0,
    "start_time": "2023-08-16T06:48:38.308Z"
   },
   {
    "duration": 0,
    "start_time": "2023-08-16T06:48:38.309Z"
   },
   {
    "duration": 0,
    "start_time": "2023-08-16T06:48:38.310Z"
   },
   {
    "duration": 0,
    "start_time": "2023-08-16T06:48:38.311Z"
   },
   {
    "duration": 0,
    "start_time": "2023-08-16T06:48:38.312Z"
   },
   {
    "duration": 0,
    "start_time": "2023-08-16T06:48:38.313Z"
   },
   {
    "duration": 0,
    "start_time": "2023-08-16T06:48:38.314Z"
   },
   {
    "duration": 0,
    "start_time": "2023-08-16T06:48:38.315Z"
   },
   {
    "duration": 0,
    "start_time": "2023-08-16T06:48:38.317Z"
   },
   {
    "duration": 0,
    "start_time": "2023-08-16T06:48:38.317Z"
   },
   {
    "duration": 0,
    "start_time": "2023-08-16T06:48:38.319Z"
   },
   {
    "duration": 0,
    "start_time": "2023-08-16T06:48:38.319Z"
   },
   {
    "duration": 0,
    "start_time": "2023-08-16T06:48:38.320Z"
   },
   {
    "duration": 0,
    "start_time": "2023-08-16T06:48:38.321Z"
   },
   {
    "duration": 0,
    "start_time": "2023-08-16T06:48:38.322Z"
   },
   {
    "duration": 0,
    "start_time": "2023-08-16T06:48:38.323Z"
   },
   {
    "duration": 0,
    "start_time": "2023-08-16T06:48:38.324Z"
   },
   {
    "duration": 0,
    "start_time": "2023-08-16T06:48:38.325Z"
   },
   {
    "duration": 0,
    "start_time": "2023-08-16T06:48:38.326Z"
   },
   {
    "duration": 0,
    "start_time": "2023-08-16T06:48:38.327Z"
   },
   {
    "duration": 0,
    "start_time": "2023-08-16T06:48:38.328Z"
   },
   {
    "duration": 0,
    "start_time": "2023-08-16T06:48:38.330Z"
   },
   {
    "duration": 0,
    "start_time": "2023-08-16T06:48:38.331Z"
   },
   {
    "duration": 0,
    "start_time": "2023-08-16T06:48:38.332Z"
   },
   {
    "duration": 0,
    "start_time": "2023-08-16T06:48:38.333Z"
   },
   {
    "duration": 0,
    "start_time": "2023-08-16T06:48:38.334Z"
   },
   {
    "duration": 0,
    "start_time": "2023-08-16T06:48:38.335Z"
   },
   {
    "duration": 0,
    "start_time": "2023-08-16T06:48:38.336Z"
   },
   {
    "duration": 0,
    "start_time": "2023-08-16T06:48:38.337Z"
   },
   {
    "duration": 0,
    "start_time": "2023-08-16T06:48:38.338Z"
   },
   {
    "duration": 91,
    "start_time": "2023-08-16T06:48:53.361Z"
   },
   {
    "duration": 8,
    "start_time": "2023-08-16T06:49:19.105Z"
   },
   {
    "duration": 20,
    "start_time": "2023-08-16T06:49:20.305Z"
   },
   {
    "duration": 521,
    "start_time": "2023-08-16T06:51:07.394Z"
   },
   {
    "duration": 16,
    "start_time": "2023-08-16T06:52:56.827Z"
   },
   {
    "duration": 13,
    "start_time": "2023-08-16T06:56:25.683Z"
   },
   {
    "duration": 21,
    "start_time": "2023-08-16T06:56:35.556Z"
   },
   {
    "duration": 13,
    "start_time": "2023-08-16T06:56:44.604Z"
   },
   {
    "duration": 10,
    "start_time": "2023-08-16T06:57:00.308Z"
   },
   {
    "duration": 10,
    "start_time": "2023-08-16T06:57:16.477Z"
   },
   {
    "duration": 2068,
    "start_time": "2023-08-16T06:57:25.585Z"
   },
   {
    "duration": 5,
    "start_time": "2023-08-16T06:57:27.655Z"
   },
   {
    "duration": 66,
    "start_time": "2023-08-16T06:57:27.661Z"
   },
   {
    "duration": 20,
    "start_time": "2023-08-16T06:57:27.729Z"
   },
   {
    "duration": 125,
    "start_time": "2023-08-16T06:57:27.751Z"
   },
   {
    "duration": 33,
    "start_time": "2023-08-16T06:57:27.877Z"
   },
   {
    "duration": 15,
    "start_time": "2023-08-16T06:57:27.912Z"
   },
   {
    "duration": 45,
    "start_time": "2023-08-16T06:57:27.929Z"
   },
   {
    "duration": 12,
    "start_time": "2023-08-16T06:57:27.976Z"
   },
   {
    "duration": 12,
    "start_time": "2023-08-16T06:57:27.991Z"
   },
   {
    "duration": 38,
    "start_time": "2023-08-16T06:57:28.006Z"
   },
   {
    "duration": 129,
    "start_time": "2023-08-16T06:57:28.046Z"
   },
   {
    "duration": 50,
    "start_time": "2023-08-16T06:57:28.177Z"
   },
   {
    "duration": 7,
    "start_time": "2023-08-16T06:57:28.230Z"
   },
   {
    "duration": 25,
    "start_time": "2023-08-16T06:57:28.239Z"
   },
   {
    "duration": 40,
    "start_time": "2023-08-16T06:57:28.266Z"
   },
   {
    "duration": 25,
    "start_time": "2023-08-16T06:57:28.308Z"
   },
   {
    "duration": 26,
    "start_time": "2023-08-16T06:57:28.335Z"
   },
   {
    "duration": 26,
    "start_time": "2023-08-16T06:57:28.363Z"
   },
   {
    "duration": 109,
    "start_time": "2023-08-16T06:57:28.391Z"
   },
   {
    "duration": 6,
    "start_time": "2023-08-16T06:57:28.502Z"
   },
   {
    "duration": 77,
    "start_time": "2023-08-16T06:57:28.510Z"
   },
   {
    "duration": 17,
    "start_time": "2023-08-16T06:57:28.589Z"
   },
   {
    "duration": 86,
    "start_time": "2023-08-16T06:57:28.608Z"
   },
   {
    "duration": 179,
    "start_time": "2023-08-16T06:57:28.696Z"
   },
   {
    "duration": 5,
    "start_time": "2023-08-16T06:57:28.877Z"
   },
   {
    "duration": 30,
    "start_time": "2023-08-16T06:57:28.884Z"
   },
   {
    "duration": 42,
    "start_time": "2023-08-16T06:57:28.920Z"
   },
   {
    "duration": 114,
    "start_time": "2023-08-16T06:57:28.964Z"
   },
   {
    "duration": 28,
    "start_time": "2023-08-16T06:57:29.080Z"
   },
   {
    "duration": 117,
    "start_time": "2023-08-16T06:57:29.110Z"
   },
   {
    "duration": 4,
    "start_time": "2023-08-16T06:57:29.229Z"
   },
   {
    "duration": 62,
    "start_time": "2023-08-16T06:57:29.235Z"
   },
   {
    "duration": 44,
    "start_time": "2023-08-16T06:57:29.299Z"
   },
   {
    "duration": 80,
    "start_time": "2023-08-16T06:57:29.345Z"
   },
   {
    "duration": 9,
    "start_time": "2023-08-16T06:57:29.427Z"
   },
   {
    "duration": 103,
    "start_time": "2023-08-16T06:57:29.438Z"
   },
   {
    "duration": 8,
    "start_time": "2023-08-16T06:57:29.543Z"
   },
   {
    "duration": 19,
    "start_time": "2023-08-16T06:57:29.553Z"
   },
   {
    "duration": 24,
    "start_time": "2023-08-16T06:57:29.574Z"
   },
   {
    "duration": 63,
    "start_time": "2023-08-16T06:57:29.600Z"
   },
   {
    "duration": 84,
    "start_time": "2023-08-16T06:57:29.665Z"
   },
   {
    "duration": 0,
    "start_time": "2023-08-16T06:57:29.750Z"
   },
   {
    "duration": 0,
    "start_time": "2023-08-16T06:57:29.751Z"
   },
   {
    "duration": 0,
    "start_time": "2023-08-16T06:57:29.752Z"
   },
   {
    "duration": 0,
    "start_time": "2023-08-16T06:57:29.753Z"
   },
   {
    "duration": 0,
    "start_time": "2023-08-16T06:57:29.754Z"
   },
   {
    "duration": 0,
    "start_time": "2023-08-16T06:57:29.755Z"
   },
   {
    "duration": 0,
    "start_time": "2023-08-16T06:57:29.759Z"
   },
   {
    "duration": 0,
    "start_time": "2023-08-16T06:57:29.760Z"
   },
   {
    "duration": 0,
    "start_time": "2023-08-16T06:57:29.762Z"
   },
   {
    "duration": 0,
    "start_time": "2023-08-16T06:57:29.763Z"
   },
   {
    "duration": 0,
    "start_time": "2023-08-16T06:57:29.765Z"
   },
   {
    "duration": 0,
    "start_time": "2023-08-16T06:57:29.767Z"
   },
   {
    "duration": 0,
    "start_time": "2023-08-16T06:57:29.768Z"
   },
   {
    "duration": 0,
    "start_time": "2023-08-16T06:57:29.769Z"
   },
   {
    "duration": 0,
    "start_time": "2023-08-16T06:57:29.771Z"
   },
   {
    "duration": 0,
    "start_time": "2023-08-16T06:57:29.772Z"
   },
   {
    "duration": 0,
    "start_time": "2023-08-16T06:57:29.774Z"
   },
   {
    "duration": 0,
    "start_time": "2023-08-16T06:57:29.776Z"
   },
   {
    "duration": 0,
    "start_time": "2023-08-16T06:57:29.777Z"
   },
   {
    "duration": 0,
    "start_time": "2023-08-16T06:57:29.779Z"
   },
   {
    "duration": 0,
    "start_time": "2023-08-16T06:57:29.780Z"
   },
   {
    "duration": 0,
    "start_time": "2023-08-16T06:57:29.782Z"
   },
   {
    "duration": 0,
    "start_time": "2023-08-16T06:57:29.783Z"
   },
   {
    "duration": 0,
    "start_time": "2023-08-16T06:57:29.785Z"
   },
   {
    "duration": 0,
    "start_time": "2023-08-16T06:57:29.786Z"
   },
   {
    "duration": 0,
    "start_time": "2023-08-16T06:57:29.788Z"
   },
   {
    "duration": 0,
    "start_time": "2023-08-16T06:57:29.789Z"
   },
   {
    "duration": 0,
    "start_time": "2023-08-16T06:57:29.791Z"
   },
   {
    "duration": 0,
    "start_time": "2023-08-16T06:57:29.792Z"
   },
   {
    "duration": 0,
    "start_time": "2023-08-16T06:57:29.794Z"
   },
   {
    "duration": 0,
    "start_time": "2023-08-16T06:57:29.795Z"
   },
   {
    "duration": 0,
    "start_time": "2023-08-16T06:57:29.797Z"
   },
   {
    "duration": 0,
    "start_time": "2023-08-16T06:57:29.798Z"
   },
   {
    "duration": 0,
    "start_time": "2023-08-16T06:57:29.858Z"
   },
   {
    "duration": 0,
    "start_time": "2023-08-16T06:57:29.860Z"
   },
   {
    "duration": 0,
    "start_time": "2023-08-16T06:57:29.862Z"
   },
   {
    "duration": 0,
    "start_time": "2023-08-16T06:57:29.863Z"
   },
   {
    "duration": 22,
    "start_time": "2023-08-16T06:58:31.868Z"
   },
   {
    "duration": 31,
    "start_time": "2023-08-16T06:58:44.477Z"
   },
   {
    "duration": 10,
    "start_time": "2023-08-16T06:58:45.083Z"
   },
   {
    "duration": 5,
    "start_time": "2023-08-16T06:58:46.971Z"
   },
   {
    "duration": 7,
    "start_time": "2023-08-16T06:58:58.387Z"
   },
   {
    "duration": 18,
    "start_time": "2023-08-16T06:59:04.909Z"
   },
   {
    "duration": 106,
    "start_time": "2023-08-16T07:00:39.044Z"
   },
   {
    "duration": 7,
    "start_time": "2023-08-16T07:00:41.164Z"
   },
   {
    "duration": 6,
    "start_time": "2023-08-16T07:00:41.700Z"
   },
   {
    "duration": 10,
    "start_time": "2023-08-16T07:01:34.006Z"
   },
   {
    "duration": 65,
    "start_time": "2023-08-16T07:01:39.173Z"
   },
   {
    "duration": 68,
    "start_time": "2023-08-16T07:02:05.242Z"
   },
   {
    "duration": 69,
    "start_time": "2023-08-16T07:02:11.135Z"
   },
   {
    "duration": 69,
    "start_time": "2023-08-16T07:02:15.079Z"
   },
   {
    "duration": 98,
    "start_time": "2023-08-16T07:03:04.525Z"
   },
   {
    "duration": 215,
    "start_time": "2023-08-16T07:03:25.518Z"
   },
   {
    "duration": 360,
    "start_time": "2023-08-16T07:03:31.021Z"
   },
   {
    "duration": 34,
    "start_time": "2023-08-16T07:05:21.512Z"
   },
   {
    "duration": 2011,
    "start_time": "2023-08-16T07:05:54.348Z"
   },
   {
    "duration": 4,
    "start_time": "2023-08-16T07:05:56.361Z"
   },
   {
    "duration": 33,
    "start_time": "2023-08-16T07:05:56.367Z"
   },
   {
    "duration": 20,
    "start_time": "2023-08-16T07:05:56.402Z"
   },
   {
    "duration": 142,
    "start_time": "2023-08-16T07:05:56.424Z"
   },
   {
    "duration": 30,
    "start_time": "2023-08-16T07:05:56.568Z"
   },
   {
    "duration": 16,
    "start_time": "2023-08-16T07:05:56.600Z"
   },
   {
    "duration": 47,
    "start_time": "2023-08-16T07:05:56.618Z"
   },
   {
    "duration": 12,
    "start_time": "2023-08-16T07:05:56.666Z"
   },
   {
    "duration": 15,
    "start_time": "2023-08-16T07:05:56.681Z"
   },
   {
    "duration": 31,
    "start_time": "2023-08-16T07:05:56.697Z"
   },
   {
    "duration": 122,
    "start_time": "2023-08-16T07:05:56.730Z"
   },
   {
    "duration": 47,
    "start_time": "2023-08-16T07:05:56.854Z"
   },
   {
    "duration": 5,
    "start_time": "2023-08-16T07:05:56.903Z"
   },
   {
    "duration": 15,
    "start_time": "2023-08-16T07:05:56.909Z"
   },
   {
    "duration": 17,
    "start_time": "2023-08-16T07:05:56.925Z"
   },
   {
    "duration": 19,
    "start_time": "2023-08-16T07:05:56.944Z"
   },
   {
    "duration": 20,
    "start_time": "2023-08-16T07:05:56.965Z"
   },
   {
    "duration": 28,
    "start_time": "2023-08-16T07:05:56.987Z"
   },
   {
    "duration": 100,
    "start_time": "2023-08-16T07:05:57.017Z"
   },
   {
    "duration": 6,
    "start_time": "2023-08-16T07:05:57.119Z"
   },
   {
    "duration": 40,
    "start_time": "2023-08-16T07:05:57.127Z"
   },
   {
    "duration": 9,
    "start_time": "2023-08-16T07:05:57.169Z"
   },
   {
    "duration": 58,
    "start_time": "2023-08-16T07:05:57.180Z"
   },
   {
    "duration": 197,
    "start_time": "2023-08-16T07:05:57.239Z"
   },
   {
    "duration": 4,
    "start_time": "2023-08-16T07:05:57.438Z"
   },
   {
    "duration": 44,
    "start_time": "2023-08-16T07:05:57.444Z"
   },
   {
    "duration": 54,
    "start_time": "2023-08-16T07:05:57.492Z"
   },
   {
    "duration": 99,
    "start_time": "2023-08-16T07:05:57.547Z"
   },
   {
    "duration": 34,
    "start_time": "2023-08-16T07:05:57.647Z"
   },
   {
    "duration": 107,
    "start_time": "2023-08-16T07:05:57.682Z"
   },
   {
    "duration": 4,
    "start_time": "2023-08-16T07:05:57.791Z"
   },
   {
    "duration": 28,
    "start_time": "2023-08-16T07:05:57.797Z"
   },
   {
    "duration": 24,
    "start_time": "2023-08-16T07:05:57.827Z"
   },
   {
    "duration": 67,
    "start_time": "2023-08-16T07:05:57.853Z"
   },
   {
    "duration": 9,
    "start_time": "2023-08-16T07:05:57.922Z"
   },
   {
    "duration": 56,
    "start_time": "2023-08-16T07:05:57.932Z"
   },
   {
    "duration": 8,
    "start_time": "2023-08-16T07:05:57.989Z"
   },
   {
    "duration": 25,
    "start_time": "2023-08-16T07:05:57.998Z"
   },
   {
    "duration": 22,
    "start_time": "2023-08-16T07:05:58.024Z"
   },
   {
    "duration": 67,
    "start_time": "2023-08-16T07:05:58.048Z"
   },
   {
    "duration": 21,
    "start_time": "2023-08-16T07:05:58.117Z"
   },
   {
    "duration": 46,
    "start_time": "2023-08-16T07:05:58.140Z"
   },
   {
    "duration": 7,
    "start_time": "2023-08-16T07:05:58.188Z"
   },
   {
    "duration": 21,
    "start_time": "2023-08-16T07:05:58.196Z"
   },
   {
    "duration": 27,
    "start_time": "2023-08-16T07:05:58.220Z"
   },
   {
    "duration": 40,
    "start_time": "2023-08-16T07:05:58.249Z"
   },
   {
    "duration": 434,
    "start_time": "2023-08-16T07:05:58.291Z"
   },
   {
    "duration": 46,
    "start_time": "2023-08-16T07:05:58.727Z"
   },
   {
    "duration": 184,
    "start_time": "2023-08-16T07:05:58.775Z"
   },
   {
    "duration": 412,
    "start_time": "2023-08-16T07:05:58.960Z"
   },
   {
    "duration": 46,
    "start_time": "2023-08-16T07:05:59.374Z"
   },
   {
    "duration": 187,
    "start_time": "2023-08-16T07:05:59.422Z"
   },
   {
    "duration": 14,
    "start_time": "2023-08-16T07:05:59.611Z"
   },
   {
    "duration": 159,
    "start_time": "2023-08-16T07:05:59.626Z"
   },
   {
    "duration": 12,
    "start_time": "2023-08-16T07:05:59.787Z"
   },
   {
    "duration": 159,
    "start_time": "2023-08-16T07:05:59.800Z"
   },
   {
    "duration": 21,
    "start_time": "2023-08-16T07:05:59.961Z"
   },
   {
    "duration": 177,
    "start_time": "2023-08-16T07:05:59.984Z"
   },
   {
    "duration": 5,
    "start_time": "2023-08-16T07:06:00.163Z"
   },
   {
    "duration": 158,
    "start_time": "2023-08-16T07:06:00.170Z"
   },
   {
    "duration": 17,
    "start_time": "2023-08-16T07:06:00.329Z"
   },
   {
    "duration": 311,
    "start_time": "2023-08-16T07:06:00.358Z"
   },
   {
    "duration": 128,
    "start_time": "2023-08-16T07:06:00.671Z"
   },
   {
    "duration": 73,
    "start_time": "2023-08-16T07:06:00.801Z"
   },
   {
    "duration": 316,
    "start_time": "2023-08-16T07:06:00.875Z"
   },
   {
    "duration": 94,
    "start_time": "2023-08-16T07:06:01.193Z"
   },
   {
    "duration": 71,
    "start_time": "2023-08-16T07:06:01.289Z"
   },
   {
    "duration": 511,
    "start_time": "2023-08-16T07:06:01.362Z"
   },
   {
    "duration": 20,
    "start_time": "2023-08-16T07:06:01.875Z"
   },
   {
    "duration": 64,
    "start_time": "2023-08-16T07:06:01.897Z"
   },
   {
    "duration": 107,
    "start_time": "2023-08-16T07:06:01.964Z"
   },
   {
    "duration": 247,
    "start_time": "2023-08-16T07:06:02.073Z"
   },
   {
    "duration": 7,
    "start_time": "2023-08-16T07:06:02.322Z"
   },
   {
    "duration": 62,
    "start_time": "2023-08-16T07:06:02.331Z"
   },
   {
    "duration": 40,
    "start_time": "2023-08-16T07:06:02.395Z"
   },
   {
    "duration": 154,
    "start_time": "2023-08-16T07:06:02.437Z"
   },
   {
    "duration": 22,
    "start_time": "2023-08-16T07:06:02.593Z"
   },
   {
    "duration": 46,
    "start_time": "2023-08-16T07:06:02.617Z"
   },
   {
    "duration": 352,
    "start_time": "2023-08-16T07:07:26.007Z"
   },
   {
    "duration": 376,
    "start_time": "2023-08-16T07:07:35.191Z"
   },
   {
    "duration": 438,
    "start_time": "2023-08-16T07:07:44.159Z"
   },
   {
    "duration": 349,
    "start_time": "2023-08-16T07:07:49.526Z"
   },
   {
    "duration": 594,
    "start_time": "2023-08-16T07:08:23.279Z"
   },
   {
    "duration": 149,
    "start_time": "2023-08-16T07:09:08.967Z"
   },
   {
    "duration": 439,
    "start_time": "2023-08-16T07:09:39.913Z"
   },
   {
    "duration": 370,
    "start_time": "2023-08-16T07:09:53.087Z"
   },
   {
    "duration": 360,
    "start_time": "2023-08-16T07:10:46.968Z"
   },
   {
    "duration": 370,
    "start_time": "2023-08-16T07:11:21.159Z"
   },
   {
    "duration": 500,
    "start_time": "2023-08-16T07:11:57.176Z"
   },
   {
    "duration": 368,
    "start_time": "2023-08-16T07:12:25.479Z"
   },
   {
    "duration": 145,
    "start_time": "2023-08-16T07:13:09.304Z"
   },
   {
    "duration": 377,
    "start_time": "2023-08-16T07:13:17.263Z"
   },
   {
    "duration": 406,
    "start_time": "2023-08-16T07:13:35.287Z"
   },
   {
    "duration": 61,
    "start_time": "2023-08-16T07:28:27.662Z"
   }
  ],
  "kernelspec": {
   "display_name": "Python 3 (ipykernel)",
   "language": "python",
   "name": "python3"
  },
  "language_info": {
   "codemirror_mode": {
    "name": "ipython",
    "version": 3
   },
   "file_extension": ".py",
   "mimetype": "text/x-python",
   "name": "python",
   "nbconvert_exporter": "python",
   "pygments_lexer": "ipython3",
   "version": "3.11.3"
  },
  "toc": {
   "base_numbering": 1,
   "nav_menu": {},
   "number_sections": true,
   "sideBar": true,
   "skip_h1_title": true,
   "title_cell": "Table of Contents",
   "title_sidebar": "Contents",
   "toc_cell": false,
   "toc_position": {
    "height": "calc(100% - 180px)",
    "left": "10px",
    "top": "150px",
    "width": "445.17px"
   },
   "toc_section_display": true,
   "toc_window_display": false
  }
 },
 "nbformat": 4,
 "nbformat_minor": 2
}
