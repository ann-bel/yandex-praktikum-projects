{
 "cells": [
  {
   "cell_type": "markdown",
   "metadata": {},
   "source": [
    "# Проектная работа"
   ]
  },
  {
   "cell_type": "markdown",
   "metadata": {},
   "source": [
    "# Рынок заведений общественного питания Москвы"
   ]
  },
  {
   "cell_type": "markdown",
   "metadata": {},
   "source": [
    "# Описание проекта"
   ]
  },
  {
   "cell_type": "markdown",
   "metadata": {},
   "source": [
    "Инвесторы из фонда «Shut Up and Take My Money» решили попробовать себя в новой области и открыть заведение общественного питания в Москве. Заказчики ещё не знают, что это будет за место: кафе, ресторан, пиццерия, паб или бар, — и какими будут расположение, меню и цены.\n",
    "\n",
    "Для начала они просят меня, как аналитика, подготовить исследование рынка Москвы, найти интересные особенности и презентовать полученные результаты, которые в будущем помогут в выборе подходящего инвесторам места.\n",
    "\n",
    "Мне доступен датасет с заведениями общественного питания Москвы, составленный на основе данных сервисов Яндекс Карты и Яндекс Бизнес на лето 2022 года. Информация, размещённая в сервисе Яндекс Бизнес, могла быть добавлена пользователями или найдена в общедоступных источниках. Она носит исключительно справочный характер."
   ]
  },
  {
   "cell_type": "markdown",
   "metadata": {},
   "source": [
    "# Описание данных"
   ]
  },
  {
   "cell_type": "markdown",
   "metadata": {},
   "source": [
    "Файл `moscow_places.csv`:\n",
    "\n",
    "- name — название заведения;\n",
    "- address — адрес заведения;\n",
    "- category — категория заведения, например «кафе», «пиццерия» или «кофейня»;\n",
    "- hours — информация о днях и часах работы;\n",
    "- lat — широта географической точки, в которой находится заведение;\n",
    "- lng — долгота географической точки, в которой находится заведение;\n",
    "- rating — рейтинг заведения по оценкам пользователей в Яндекс Картах (высшая оценка — 5.0);\n",
    "- price — категория цен в заведении, например «средние», «ниже среднего», «выше среднего» и так далее;\n",
    "- avg_bill — строка, которая хранит среднюю стоимость заказа в виде диапазона, например:\n",
    "        - «Средний счёт: 1000–1500 ₽»;\n",
    "        - «Цена чашки капучино: 130–220 ₽»;\n",
    "        - «Цена бокала пива: 400–600 ₽».\n",
    "        - и так далее;\n",
    "- middle_avg_bill — число с оценкой среднего чека, которое указано только для значений из столбца avg_bill, начинающихся с подстроки «Средний счёт»:\n",
    "        - Если в строке указан ценовой диапазон из двух значений, в столбец войдёт медиана этих двух значений.\n",
    "        - Если в строке указано одно число — цена без диапазона, то в столбец войдёт это число.\n",
    "        - Если значения нет или оно не начинается с подстроки «Средний счёт», то в столбец ничего не войдёт.\n",
    "- middle_coffee_cup — число с оценкой одной чашки капучино, которое указано только для значений из столбца avg_bill, начинающихся с подстроки «Цена одной чашки капучино»:\n",
    "        - Если в строке указан ценовой диапазон из двух значений, в столбец войдёт медиана этих двух значений.\n",
    "        - Если в строке указано одно число — цена без диапазона, то в столбец войдёт это число.\n",
    "        - Если значения нет или оно не начинается с подстроки «Цена одной чашки капучино», то в столбец ничего не войдёт.\n",
    "- chain — число, выраженное 0 или 1, которое показывает, является ли заведение сетевым (для маленьких сетей могут встречаться ошибки):\n",
    "        - 0 — заведение не является сетевым\n",
    "        - 1 — заведение является сетевым\n",
    "- district — административный район, в котором находится заведение, например Центральный административный округ;\n",
    "- seats — количество посадочных мест."
   ]
  },
  {
   "cell_type": "markdown",
   "metadata": {},
   "source": [
    "## Загрузите данные и изучите общую информацию"
   ]
  },
  {
   "cell_type": "markdown",
   "metadata": {},
   "source": [
    "- Загрузите данные о заведениях общественного питания Москвы. Путь к файлу: `/datasets/moscow_places.csv`.\n",
    "- Изучите общую информацию о датасете. \n",
    "- Сколько заведений представлено? \n",
    "- Что можно сказать о каждом столбце? \n",
    "- Значения какого типа они хранят? "
   ]
  },
  {
   "cell_type": "code",
   "execution_count": 2,
   "metadata": {},
   "outputs": [
    {
     "ename": "FileNotFoundError",
     "evalue": "[Errno 2] No such file or directory: './admin_level_geomap.geojson'",
     "output_type": "error",
     "traceback": [
      "\u001b[1;31m---------------------------------------------------------------------------\u001b[0m",
      "\u001b[1;31mFileNotFoundError\u001b[0m                         Traceback (most recent call last)",
      "Cell \u001b[1;32mIn[2], line 32\u001b[0m\n\u001b[0;32m     29\u001b[0m data \u001b[38;5;241m=\u001b[39m pd\u001b[38;5;241m.\u001b[39mread_csv(\u001b[38;5;124m'\u001b[39m\u001b[38;5;124mhttps://code.s3.yandex.net/datasets/moscow_places.csv\u001b[39m\u001b[38;5;124m'\u001b[39m, sep\u001b[38;5;241m=\u001b[39m\u001b[38;5;124m'\u001b[39m\u001b[38;5;124m,\u001b[39m\u001b[38;5;124m'\u001b[39m)\n\u001b[0;32m     31\u001b[0m p \u001b[38;5;241m=\u001b[39m os\u001b[38;5;241m.\u001b[39mpath\u001b[38;5;241m.\u001b[39mjoin(os\u001b[38;5;241m.\u001b[39mpath\u001b[38;5;241m.\u001b[39mdirname(this_notebook_path), \u001b[38;5;124m'\u001b[39m\u001b[38;5;124m/admin_level_geomap.geojson\u001b[39m\u001b[38;5;124m'\u001b[39m)\n\u001b[1;32m---> 32\u001b[0m \u001b[38;5;28;01mwith\u001b[39;00m \u001b[38;5;28mopen\u001b[39m(\u001b[38;5;124m'\u001b[39m\u001b[38;5;124m./admin_level_geomap.geojson\u001b[39m\u001b[38;5;124m'\u001b[39m, \u001b[38;5;124m'\u001b[39m\u001b[38;5;124mr\u001b[39m\u001b[38;5;124m'\u001b[39m, encoding\u001b[38;5;241m=\u001b[39m\u001b[38;5;124m'\u001b[39m\u001b[38;5;124mutf-8\u001b[39m\u001b[38;5;124m'\u001b[39m) \u001b[38;5;28;01mas\u001b[39;00m f:\n\u001b[0;32m     33\u001b[0m     geo_json \u001b[38;5;241m=\u001b[39m json\u001b[38;5;241m.\u001b[39mload(f)\n",
      "File \u001b[1;32m~\\anaconda3\\Lib\\site-packages\\IPython\\core\\interactiveshell.py:284\u001b[0m, in \u001b[0;36m_modified_open\u001b[1;34m(file, *args, **kwargs)\u001b[0m\n\u001b[0;32m    277\u001b[0m \u001b[38;5;28;01mif\u001b[39;00m file \u001b[38;5;129;01min\u001b[39;00m {\u001b[38;5;241m0\u001b[39m, \u001b[38;5;241m1\u001b[39m, \u001b[38;5;241m2\u001b[39m}:\n\u001b[0;32m    278\u001b[0m     \u001b[38;5;28;01mraise\u001b[39;00m \u001b[38;5;167;01mValueError\u001b[39;00m(\n\u001b[0;32m    279\u001b[0m         \u001b[38;5;124mf\u001b[39m\u001b[38;5;124m\"\u001b[39m\u001b[38;5;124mIPython won\u001b[39m\u001b[38;5;124m'\u001b[39m\u001b[38;5;124mt let you open fd=\u001b[39m\u001b[38;5;132;01m{\u001b[39;00mfile\u001b[38;5;132;01m}\u001b[39;00m\u001b[38;5;124m by default \u001b[39m\u001b[38;5;124m\"\u001b[39m\n\u001b[0;32m    280\u001b[0m         \u001b[38;5;124m\"\u001b[39m\u001b[38;5;124mas it is likely to crash IPython. If you know what you are doing, \u001b[39m\u001b[38;5;124m\"\u001b[39m\n\u001b[0;32m    281\u001b[0m         \u001b[38;5;124m\"\u001b[39m\u001b[38;5;124myou can use builtins\u001b[39m\u001b[38;5;124m'\u001b[39m\u001b[38;5;124m open.\u001b[39m\u001b[38;5;124m\"\u001b[39m\n\u001b[0;32m    282\u001b[0m     )\n\u001b[1;32m--> 284\u001b[0m \u001b[38;5;28;01mreturn\u001b[39;00m io_open(file, \u001b[38;5;241m*\u001b[39margs, \u001b[38;5;241m*\u001b[39m\u001b[38;5;241m*\u001b[39mkwargs)\n",
      "\u001b[1;31mFileNotFoundError\u001b[0m: [Errno 2] No such file or directory: './admin_level_geomap.geojson'"
     ]
    }
   ],
   "source": [
    "# импортируем основные библиотеки\n",
    "import os\n",
    "import pandas as pd\n",
    "import numpy as np\n",
    "import seaborn as sns\n",
    "from matplotlib import pyplot as plt\n",
    "from pandas.plotting import register_matplotlib_converters\n",
    "import scipy.stats as st\n",
    "import cmath as mth\n",
    "import plotly.express as px\n",
    "from plotly import graph_objects as go\n",
    "import re\n",
    "import json\n",
    "import folium\n",
    "from folium import Map, Marker, Figure, Choropleth\n",
    "from folium.plugins import MarkerCluster\n",
    "import warnings\n",
    "warnings.simplefilter('ignore')\n",
    "\n",
    "#путь к папке с датасетами - заменить на актуальный в случае запуска в другом окружении\n",
    "this_notebook_path = os.path.abspath('C:/')\n",
    "\n",
    "#код, который выводит все колонки таблицы\n",
    "pd.set_option('display.max_columns', None)\n",
    "\n",
    "#отображение float с двумя знаками после точки\n",
    "pd.options.display.float_format = '{:.2f}'.format\n",
    "\n",
    "#загружаем данные\n",
    "data = pd.read_csv('https://code.s3.yandex.net/datasets/moscow_places.csv', sep=',')\n",
    "\n",
    "relative_path = os.path.join(os.path.dirname(this_notebook_path), '/admin_level_geomap.geojson')\n",
    "with open(relative_path, 'r', encoding='utf-8') as f:\n",
    "    geo_json = json.load(f)"
   ]
  },
  {
   "cell_type": "code",
   "execution_count": null,
   "metadata": {},
   "outputs": [],
   "source": [
    "# Напишем функцию для построения столбчатой диаграммы\n",
    "def one_plot_creator(df, x, y, color, text=None,\n",
    "                     title='default tittle', xaxis_title='default xaxis tittle', yaxis_title='default yaxis tittle',\n",
    "                     legend_title='default legend tittle', barmode='stack',\n",
    "                     orientation='v', height=500, showlegend=True, for_export=False):\n",
    "\n",
    "    fig = px.bar(df, x=x, y=y, color=color, text=text, barmode=barmode)\n",
    "\n",
    "    fig.update_layout(\n",
    "        height=height,\n",
    "        showlegend=showlegend,\n",
    "        title=title,\n",
    "        xaxis_title=xaxis_title,\n",
    "        yaxis_title=yaxis_title,\n",
    "        legend_title=legend_title\n",
    "    )\n",
    "    return fig"
   ]
  },
  {
   "cell_type": "code",
   "execution_count": null,
   "metadata": {},
   "outputs": [],
   "source": [
    "# Напишем функцию для вывода карты с маркерами\n",
    "def scatter_mapbox_creator(df, lat, lon, color=None, height=500, zoom=10, hover_data=None, hover_name=None):\n",
    "    fig = px.scatter_mapbox(df, lat=\"lat\", lon=\"lng\", color='name', zoom=zoom, hover_name=hover_name, hover_data=hover_data)\n",
    "    fig.update_geos(fitbounds=\"locations\")\n",
    "    fig.update_layout(\n",
    "        margin={\"r\": 0, \"t\": 0, \"l\": 0, \"b\": 0},\n",
    "        height=height,\n",
    "        mapbox_style=\"carto-positron\"\n",
    "    )\n",
    "    return fig"
   ]
  },
  {
   "cell_type": "code",
   "execution_count": null,
   "metadata": {},
   "outputs": [],
   "source": [
    "# Напишем функцию для вывода основной информации по датасету\n",
    "def get_info(dataset):\n",
    "    print('Общая информация:')\n",
    "    print()\n",
    "    dataset.info()\n",
    "    print('*'*50)\n",
    "    print('Количество пропусков:')\n",
    "    print()\n",
    "    print(dataset.isna().sum())\n",
    "    print('*'*50)\n",
    "    print('Вывод первых 2х строк данных:')\n",
    "    print()\n",
    "    display(dataset.head(2))\n",
    "    print('*'*50)\n",
    "    print('Количество явных дубликатов:')\n",
    "    print(dataset.duplicated().sum())"
   ]
  },
  {
   "cell_type": "code",
   "execution_count": null,
   "metadata": {},
   "outputs": [],
   "source": [
    "get_info(data)"
   ]
  },
  {
   "cell_type": "code",
   "execution_count": null,
   "metadata": {},
   "outputs": [],
   "source": [
    "# заменим тип данных в столбце seats  на int \n",
    "data['seats'] = np.floor(pd.to_numeric(data['seats'], errors='coerce')).astype('Int64')"
   ]
  },
  {
   "cell_type": "markdown",
   "metadata": {},
   "source": [
    "**Вывод:**\n",
    "    \n",
    "- всего в данных храниться информация о 8406 заведениях\n",
    "- тип данных в столбце seats перевели в int, в остальных столбцах типы данных верны\n",
    "- пропуски присутствуют в 6 столбцах\n",
    "- больше всего пропусков в seats, avg_bill, price, middle_avg_bill, middle_coffee_cup"
   ]
  },
  {
   "cell_type": "markdown",
   "metadata": {},
   "source": [
    "## Выполните предобработку данных"
   ]
  },
  {
   "cell_type": "markdown",
   "metadata": {},
   "source": [
    "- Изучите, есть ли дубликаты в данных. Поищите пропуски: встречаются ли они, в каких столбцах? Можно ли их обработать или оставить как есть?\n",
    "\n",
    "- Выполните предобработку данных:\n",
    "    - Создайте столбец street с названиями улиц из столбца с адресом.\n",
    "    - Создайте столбец is_24/7 с обозначением, что заведение работает ежедневно и круглосуточно (24/7): \n",
    "        - логическое значение True — если заведение работает ежедневно и круглосуточно;\n",
    "        - логическое значение False — в противоположном случае."
   ]
  },
  {
   "cell_type": "markdown",
   "metadata": {},
   "source": [
    "### Обработка пропусков"
   ]
  },
  {
   "cell_type": "markdown",
   "metadata": {},
   "source": [
    "На предыдущем шаге мы выявили, что пропуски присутствуют в 6 столбцах:\n",
    "- seats, \n",
    "- avg_bill, \n",
    "- price, \n",
    "- middle_avg_bill, \n",
    "- middle_coffee_cup,\n",
    "- hours"
   ]
  },
  {
   "cell_type": "code",
   "execution_count": null,
   "metadata": {},
   "outputs": [],
   "source": [
    "#посмотрим, какой процент от общего объема данных занимают пропуски\n",
    "pd.DataFrame(round(data.isna().mean().sort_values()*100,))"
   ]
  },
  {
   "cell_type": "markdown",
   "metadata": {},
   "source": [
    "Наименьшее количество пропусков в столбце hours - 536(6%). В остальных столбцах пропуски составляют от 3 611(от 43%), так что их удаление приведет к значительной потере данных, пока оставим их без обработки, позже возможно будет необходимо заменить их заглушками."
   ]
  },
  {
   "cell_type": "markdown",
   "metadata": {},
   "source": [
    "### Обработка дубликатов"
   ]
  },
  {
   "cell_type": "code",
   "execution_count": null,
   "metadata": {},
   "outputs": [],
   "source": [
    "#приведем все столбцы, содержащие текст к нижнему регистру\n",
    "for col in ['name', 'category', 'address', 'hours', 'price', 'avg_bill']:\n",
    "    data[col] = data[col].str.lower()"
   ]
  },
  {
   "cell_type": "code",
   "execution_count": null,
   "metadata": {},
   "outputs": [],
   "source": [
    "# проверим появились ли явные дубликаты после приведения всех строк к нижнему регистру\n",
    "data.duplicated().sum()"
   ]
  },
  {
   "cell_type": "markdown",
   "metadata": {},
   "source": [
    "Явных дубликатов не найдено"
   ]
  },
  {
   "cell_type": "code",
   "execution_count": null,
   "metadata": {},
   "outputs": [],
   "source": [
    "# проверим данные на неявные дубликаты\n",
    "data[data[['name','address']].duplicated(keep=False)]"
   ]
  },
  {
   "cell_type": "markdown",
   "metadata": {},
   "source": [
    "В данных выявлены неявные дубликаты заведений, которые записаны либо в разные категории, либо с отличными часами работы, остальные данные сходились. Удалим их."
   ]
  },
  {
   "cell_type": "code",
   "execution_count": null,
   "metadata": {},
   "outputs": [],
   "source": [
    "# удалим строки в данных с повторяющимися данными по столбцам name и address\n",
    "data = data.drop_duplicates(subset=['name','address'])"
   ]
  },
  {
   "cell_type": "code",
   "execution_count": null,
   "metadata": {},
   "outputs": [],
   "source": [
    "# проверим удалились ли неявные дубликаты\n",
    "data[data[['name','address']].duplicated(keep=False)]"
   ]
  },
  {
   "cell_type": "code",
   "execution_count": null,
   "metadata": {},
   "outputs": [],
   "source": [
    "# проверим, что нужные данные остались \n",
    "data.query('name ==\"хлеб да выпечка\"')"
   ]
  },
  {
   "cell_type": "markdown",
   "metadata": {},
   "source": [
    "Мне не нравится, что одни и те же заведения сети отнесены к разным категориям, считаю необходимым привести такие заведения к единой категории. Для этого посетим интернет и узнаем, что сами заведения про себя пишут. \n",
    "\n",
    "В случае с \"Хлеб да выпечка\", само заведение себя именует как \"Пекарня\". У нас нет пекарен в категориях, поэтому применим ко всем заведениям сети категорию \"Булочная\".\n",
    "\n",
    "В случае с \"Раковарня клешни и хвосты\", в большинстве ссылок заведение относят к категории ресторан. Поэтому мы тоже так сделаем."
   ]
  },
  {
   "cell_type": "code",
   "execution_count": null,
   "metadata": {},
   "outputs": [],
   "source": [
    "data['category'] = np.where((data.name == \"хлеб да выпечка\"), \"булочная\",data.category)\n",
    "data['category'] = np.where((data.name == \"раковарня клешни и хвосты\"), \"ресторан\",data.category)"
   ]
  },
  {
   "cell_type": "code",
   "execution_count": null,
   "metadata": {},
   "outputs": [],
   "source": [
    "data.query('name == \"хлеб да выпечка\"')"
   ]
  },
  {
   "cell_type": "code",
   "execution_count": null,
   "metadata": {},
   "outputs": [],
   "source": [
    "data.query('name == \"раковарня клешни и хвосты\"')"
   ]
  },
  {
   "cell_type": "markdown",
   "metadata": {},
   "source": [
    "Также мы заметили, что в столбце `chain`, который сообщает сетевое ли заведение, в строке 2211 с ретораном \"Раковарня клешни и хвосты\" стоит 0, хотя у заведения несколько филиалов. Необходимо исправить этот момент."
   ]
  },
  {
   "cell_type": "code",
   "execution_count": null,
   "metadata": {},
   "outputs": [],
   "source": [
    "data['chain'] = np.where((data.name == \"раковарня клешни и хвосты\"), 1,data.chain)"
   ]
  },
  {
   "cell_type": "code",
   "execution_count": null,
   "metadata": {},
   "outputs": [],
   "source": [
    "data.query('name == \"раковарня клешни и хвосты\"')"
   ]
  },
  {
   "cell_type": "code",
   "execution_count": null,
   "metadata": {},
   "outputs": [],
   "source": [
    "# выясним сколько в данных сетевых заведений\n",
    "chain_count = data.groupby('name')['chain'].count().reset_index()\n",
    "\n",
    "# удалим заведения, встречающиеся только один раз(то есть те, что точно не являются сетевыми, если у них не стоит chain=1)\n",
    "chain_count = chain_count.query('chain>1')\n",
    "chain_count"
   ]
  },
  {
   "cell_type": "markdown",
   "metadata": {},
   "source": [
    "Осталось 752 заведения с филиалами. Так как проверить вручную 752 заведения проблемно на наличие правильно указанных данных о филиалах, предлагаю для каждого уникального заведения, встречающегося более одного раза в списке, приминить ко всем другим заведением с таким именем в столбце `chain` \"1\"."
   ]
  },
  {
   "cell_type": "code",
   "execution_count": null,
   "metadata": {},
   "outputs": [],
   "source": [
    "# получим список уникальных сетевых заведений\n",
    "restos = chain_count['name'].tolist()\n",
    "restos"
   ]
  },
  {
   "cell_type": "markdown",
   "metadata": {},
   "source": [
    "В ходе проверки уникальных значений заведений выявлены неявные дублкаты в названиях заведений \"jeffrey's coffee\" и \"jeffrey's coffeeshop\"; 'чайхона № 1' и  'чайхона №1'; \"яндекс.лавка\" и \"яндекс лавка\"; 'хинкали-gали!' и 'хинкали - gали!'. Заменим их на вариант который встречается в интернете."
   ]
  },
  {
   "cell_type": "code",
   "execution_count": null,
   "metadata": {},
   "outputs": [],
   "source": [
    "#произведем замену неявных дубликатов\n",
    "data['name'] = np.where((data.name == \"яндекс.лавка\"), \"яндекс лавка\",data.name)\n",
    "data['name'] = np.where((data.name == \"jeffrey's coffee\"), \"jeffrey's coffeeshop\",data.name)\n",
    "data['name'] = np.where((data.name == \"чайхона № 1\"), \"чайхона №1\",data.name)\n",
    "data['name'] = np.where((data.name == \"хинкали - gали!\"), \"хинкали-gали!\",data.name)"
   ]
  },
  {
   "cell_type": "code",
   "execution_count": null,
   "metadata": {},
   "outputs": [],
   "source": [
    "#произведем замену по столбцу chain на 1 во всех строках, где наименование ресторана есть в списке сетевых заведений\n",
    "data.loc[data['name'].isin(restos),'chain'] = 1"
   ]
  },
  {
   "cell_type": "code",
   "execution_count": null,
   "metadata": {},
   "outputs": [],
   "source": [
    "# проверим как обработались данные \n",
    "data.groupby('name')['chain'].count().reset_index().query('chain>1')"
   ]
  },
  {
   "cell_type": "markdown",
   "metadata": {},
   "source": [
    "Количество сетевых заведений уменьшилось ровно на количество убранных неявных дубликатов в названиях заведений."
   ]
  },
  {
   "cell_type": "markdown",
   "metadata": {},
   "source": [
    "Зайдя дальше по исследованию, я обнаружила, что Яндекс лавка в данных отнесена к категории ресторан, хотя на самом деле является сервисом доставки еды и продуктов. Считаю правильным отнести ее к категории Быстрое питание."
   ]
  },
  {
   "cell_type": "code",
   "execution_count": null,
   "metadata": {},
   "outputs": [],
   "source": [
    "data.query('name == \"яндекс лавка\"').head(2)"
   ]
  },
  {
   "cell_type": "code",
   "execution_count": null,
   "metadata": {},
   "outputs": [],
   "source": [
    "data.loc[data['name'] == \"яндекс лавка\", 'category'] = 'быстрое питание'"
   ]
  },
  {
   "cell_type": "code",
   "execution_count": null,
   "metadata": {},
   "outputs": [],
   "source": [
    "data.query('name == \"яндекс лавка\"').head(2)"
   ]
  },
  {
   "cell_type": "markdown",
   "metadata": {},
   "source": [
    "**Посмотрим какие есть районы и категории в данных, а также нет ли выбросов в данных по рейтингу заведений**"
   ]
  },
  {
   "cell_type": "code",
   "execution_count": null,
   "metadata": {},
   "outputs": [],
   "source": [
    "display(pd.DataFrame(data['district'].unique())\n",
    "        .style.set_caption('Административные округа Москвы')\n",
    "       )\n",
    "display(pd.DataFrame(data['category'].unique())\n",
    "        .style.set_caption('Категории заведений Москвы')\n",
    "       )\n",
    "display(pd.DataFrame(data['rating'].describe())\n",
    "        .style.set_caption('Рейтинг заведений Москвы')\n",
    "       )\n",
    "\n",
    "print('Разброс координат:')\n",
    "sns.lmplot(x=\"lng\", y=\"lat\", data=data, fit_reg=False,\n",
    "           scatter_kws={'s': 15, 'alpha': 0.2});"
   ]
  },
  {
   "cell_type": "markdown",
   "metadata": {},
   "source": [
    "Ошибок в названиях округов, заведений и рейтинге нет. Идем дальше."
   ]
  },
  {
   "cell_type": "markdown",
   "metadata": {},
   "source": [
    "### Добавление новых столбцов\n",
    "    - Создайте столбец street с названиями улиц из столбца с адресом.\n",
    "    - Создайте столбец is_24/7 с обозначением, что заведение работает ежедневно и круглосуточно (24/7): \n",
    "        - логическое значение True — если заведение работает ежедневно и круглосуточно;\n",
    "        - логическое значение False — в противоположном случае."
   ]
  },
  {
   "cell_type": "code",
   "execution_count": null,
   "metadata": {},
   "outputs": [],
   "source": [
    "data[data['hours'].isnull()]"
   ]
  },
  {
   "cell_type": "code",
   "execution_count": null,
   "metadata": {},
   "outputs": [],
   "source": [
    "# напишем функцию для выделения улицы из адреса\n",
    "def take_street(address):\n",
    "    address = address.strip().lower()\n",
    "    address = re.sub(r'\\s*,\\s*', ',', address)\n",
    "    address = re.split(',|\\.', address)\n",
    "    return address[1]"
   ]
  },
  {
   "cell_type": "code",
   "execution_count": null,
   "metadata": {},
   "outputs": [],
   "source": [
    "# напишем функцию для получения столбца с белевыми выражениями, является ли заведение круглосуточным\n",
    "def is_24_7(time):\n",
    "    if time != time:\n",
    "        return np.nan\n",
    "    elif time == 'ежедневно, круглосуточно':\n",
    "        return True\n",
    "    else:\n",
    "        return False"
   ]
  },
  {
   "cell_type": "code",
   "execution_count": null,
   "metadata": {},
   "outputs": [],
   "source": [
    "# добавим новые столбцы к таблице с названием улицы и данными о круглосуточной работе\n",
    "data['street'] = data['address'].apply(take_street)\n",
    "data['is_24_7'] = data['hours'].apply(is_24_7)\n",
    "data.head()"
   ]
  },
  {
   "cell_type": "markdown",
   "metadata": {},
   "source": [
    "**Вывод**\n",
    "\n",
    "- все столбцы с текстовыми данными были переведены в нижний регистр\n",
    "- явных дубликатов найдено не было\n",
    "- было найдено и удалено 4 неявных дубликата\n",
    "- была произведена замена значений по столбцу `chain` на 1 для всех уникальных заведений, встречающихся более 1 раза в данных  \n",
    "- пропуски составляют значительную часть в данных, поэтому пока нет возможности их удалить, возможно позже мы сможем их обработать\n",
    "- были добавлены столбцы с названиями улиц и с маркером работы 24/7"
   ]
  },
  {
   "cell_type": "markdown",
   "metadata": {},
   "source": [
    "## Анализ данных"
   ]
  },
  {
   "cell_type": "markdown",
   "metadata": {},
   "source": [
    "Будем отвечать на вопросы по порядку."
   ]
  },
  {
   "cell_type": "markdown",
   "metadata": {},
   "source": [
    "### Распределение заведений по категориям"
   ]
  },
  {
   "cell_type": "markdown",
   "metadata": {},
   "source": [
    "• Какие категории заведений представлены в данных? Исследуйте количество объектов общественного питания по категориям: рестораны, кофейни, пиццерии, бары и так далее. Постройте визуализации. Ответьте на вопрос о распределении заведений по категориям."
   ]
  },
  {
   "cell_type": "code",
   "execution_count": null,
   "metadata": {},
   "outputs": [],
   "source": [
    "resto_category = pd.DataFrame(data.groupby(['category']).name.count()\n",
    "             .reset_index()\n",
    "             .sort_values(by='name',ascending=False)\n",
    "             .reset_index(drop=True))\n",
    "display(resto_category)"
   ]
  },
  {
   "cell_type": "code",
   "execution_count": null,
   "metadata": {},
   "outputs": [],
   "source": [
    "category = pd.DataFrame(data.groupby('category')['name'].count().reset_index().sort_values(by='name',ascending=False)).reset_index(drop=True)\n",
    "# назначаем размер графика\n",
    "plt.figure(figsize=(10, 5))\n",
    "# строим столбчатый график средствами seaborn\n",
    "sns.barplot(x='category',y='name', data=category);\n",
    "# формируем заголовок графика и подписи осей средствами matplotlib\n",
    "plt.title('Распределение заведений по категориям')\n",
    "plt.xlabel('Категория')\n",
    "plt.ylabel('Количество заведений')\n",
    "# поворачиваем подписи значений по оси X на 45 градусов\n",
    "plt.xticks(rotation=45)\n",
    "plt.show()"
   ]
  },
  {
   "cell_type": "markdown",
   "metadata": {},
   "source": [
    "Наиболее часто встречающимися заведениями в Москве являются кафе и рестораны. Средними по популярности являются бары и пабы, пиццерии и рестораны быстрого питания. Наименнее часто встречающимися стали столовые и булочные. Рассмотрим распределение по долям:\n",
    "\n",
    "    - кафе      2376 (28,3%)\n",
    "    - ресторан  1971 (23,5%)\n",
    "    - кофейня\t1412 (16,8%)\n",
    "    - бар,паб\t763 (9,08 %)\n",
    "    - быстрое питание\t675 (8,03%%)\n",
    "    - пиццерия\t633 (7,53%)\n",
    "    - столовая\t315 (3,75%)\n",
    "    - булочная\t257 (3,06%)"
   ]
  },
  {
   "cell_type": "markdown",
   "metadata": {},
   "source": [
    "### Количество посадочных мест по категориям"
   ]
  },
  {
   "cell_type": "markdown",
   "metadata": {},
   "source": [
    "• Исследуйте количество посадочных мест в местах по категориям: рестораны, кофейни, пиццерии, бары и так далее. Постройте визуализации. Проанализируйте результаты и сделайте выводы."
   ]
  },
  {
   "cell_type": "code",
   "execution_count": null,
   "metadata": {},
   "outputs": [],
   "source": [
    "data.head()"
   ]
  },
  {
   "cell_type": "code",
   "execution_count": null,
   "metadata": {},
   "outputs": [],
   "source": [
    "# найдем среднее количество мест по категориям\n",
    "seats_category = pd.DataFrame(data.groupby(['category']).seats.mean()\n",
    "             .reset_index()\n",
    "             .sort_values(by='seats',ascending=False)\n",
    "             .reset_index(drop=True))\n",
    "display(seats_category)\n"
   ]
  },
  {
   "cell_type": "markdown",
   "metadata": {},
   "source": [
    "Больше всего в среднем мест в барах и пабах, меньше всего в булочных."
   ]
  },
  {
   "cell_type": "code",
   "execution_count": null,
   "metadata": {},
   "outputs": [],
   "source": [
    "grouped = data.groupby('category')['seats'].median().sort_values()\n",
    "plt.figure(figsize=(11, 7))\n",
    "sns.boxplot(x=data.category, y=data.seats, order=grouped.index);"
   ]
  },
  {
   "cell_type": "markdown",
   "metadata": {},
   "source": [
    "Уровень нормальных значений по всем категориям заканчивается в районе 300 посадочных мест в заведении. Посмотрим на описательную статистику."
   ]
  },
  {
   "cell_type": "code",
   "execution_count": null,
   "metadata": {},
   "outputs": [],
   "source": [
    "data['seats'].describe()"
   ]
  },
  {
   "cell_type": "markdown",
   "metadata": {},
   "source": [
    "У 75% заведений число посадочных мест не превышает 140, медианное число - 75 мест на заведение. \n",
    "\n",
    "Максимальное количество мест - 1288, выглядит весьма нереалистично. \n",
    "\n",
    "Посмотрим сколько данных попадает за пределы отметки в 300 посадочных мест."
   ]
  },
  {
   "cell_type": "code",
   "execution_count": null,
   "metadata": {},
   "outputs": [],
   "source": [
    "data.query('seats>300')"
   ]
  },
  {
   "cell_type": "markdown",
   "metadata": {},
   "source": [
    "Нашлась 251 строка с заведениями, где посадочных мест больше 300. Это 5% данных от 4792 строк, считаю, что для корректности дальнейшего анализа следует удалить эти выбросы. Также после проведения анализа по этим заведениям в интернете, я пришла к выводу, что наши данные не совпадают с действительностью, у многих заведений из этого списка вообще нет посадочных мест или их очень мало. А цифры по колонке `seats` у этих заведений часто повторяются цифра в цифру, что наталкивает на мысль о неправильно заполненных данных."
   ]
  },
  {
   "cell_type": "code",
   "execution_count": null,
   "metadata": {},
   "outputs": [],
   "source": [
    "# фильтруем данные\n",
    "seats = data.query('seats<300')"
   ]
  },
  {
   "cell_type": "code",
   "execution_count": null,
   "metadata": {},
   "outputs": [],
   "source": [
    "#смотрим как изменилась описательная статистика\n",
    "seats['seats'].describe()"
   ]
  },
  {
   "cell_type": "code",
   "execution_count": null,
   "metadata": {},
   "outputs": [],
   "source": [
    "grouped = seats.groupby('category')['seats'].median().sort_values()\n",
    "plt.figure(figsize=(11, 7))\n",
    "sns.boxplot(x=seats.category, y=seats.seats, order=grouped.index);"
   ]
  },
  {
   "cell_type": "code",
   "execution_count": null,
   "metadata": {},
   "outputs": [],
   "source": [
    "# получим среднее количество посадочных мест в заведения по категриям на фильтрованных данных\n",
    "seats_filtred = pd.DataFrame(seats.groupby(['category']).seats.mean()\n",
    "             .reset_index()\n",
    "             .sort_values(by='seats',ascending=False)\n",
    "             .reset_index(drop=True))\n",
    "display(seats_filtred)"
   ]
  },
  {
   "cell_type": "markdown",
   "metadata": {},
   "source": [
    "После фильтрации данных от выбросов, позиции у категорий немного изменились. Теперь в среднем больше всего посадочных мест в ресторанах, а меньше всего в кафе."
   ]
  },
  {
   "cell_type": "markdown",
   "metadata": {},
   "source": [
    "Посмотрим как распределены заведения по посадочным местам внутри категорий. Выделим следующие категории в заведениях по количеству мест:\n",
    "\n",
    "- 0 - заведения без посадочных мест\n",
    "- 0-20 - заведения маленького размера\n",
    "- 20-80 - заведения среднего размера\n",
    "- 80-120 - заведения большего размера\n",
    "- 120+ - очень большие заведения"
   ]
  },
  {
   "cell_type": "code",
   "execution_count": null,
   "metadata": {},
   "outputs": [],
   "source": [
    "# напишем функцию для категоризации категорий заверений по количеству мест\n",
    "def categorization_seats(seats):\n",
    "    if (seats != seats):\n",
    "        return np.nan\n",
    "    seats = int(seats)\n",
    "    if (seats == 0):\n",
    "        return '0'\n",
    "    elif (seats <= 20):\n",
    "        return '1 - 20'\n",
    "    elif (seats <= 80):\n",
    "        return '21 - 80'\n",
    "    elif (seats <= 120):\n",
    "        return '81 - 120'\n",
    "    else:\n",
    "        return '121 +'"
   ]
  },
  {
   "cell_type": "code",
   "execution_count": null,
   "metadata": {},
   "outputs": [],
   "source": [
    "# добавим категории к данным\n",
    "seats['seats_category'] = seats['seats'].apply(categorization_seats)"
   ]
  },
  {
   "cell_type": "code",
   "execution_count": null,
   "metadata": {},
   "outputs": [],
   "source": [
    "data_seats = (\n",
    "    seats.groupby(['category', 'seats_category'], as_index=False)\n",
    "    .agg(count=('name', 'count')).sort_values('count', ascending=False)\n",
    ")\n",
    "\n",
    "# Построим столбчатую диаграмму\n",
    "fig = one_plot_creator(\n",
    "    df=data_seats,\n",
    "    x='category', y='count', color='seats_category', text='count',\n",
    "    title='Распределение количества мест в заведениях по категориям',\n",
    "    xaxis_title='Категория', yaxis_title='количество заведений',\n",
    "    legend_title='Кол-во мест', barmode='group',height=600\n",
    ")\n",
    "fig.show()"
   ]
  },
  {
   "cell_type": "markdown",
   "metadata": {},
   "source": [
    "Во всех категориях лидируют по количеству заведения с количеством мест от 21 до 80. Второе и третье места делят заведения большого размера(81-120) и заведения очень большого размера(121+). Меньше всего во всех категориях заведений без посадочных мест."
   ]
  },
  {
   "cell_type": "markdown",
   "metadata": {},
   "source": [
    "### Соотношение сетевых и несетевых заведений"
   ]
  },
  {
   "cell_type": "markdown",
   "metadata": {},
   "source": [
    "•\tРассмотрите и изобразите соотношение сетевых и несетевых заведений в датасете. Каких заведений больше?"
   ]
  },
  {
   "cell_type": "code",
   "execution_count": null,
   "metadata": {},
   "outputs": [],
   "source": [
    "chains = pd.DataFrame(data.groupby('chain').name.count()).reset_index() \n",
    "chains"
   ]
  },
  {
   "cell_type": "code",
   "execution_count": null,
   "metadata": {
    "scrolled": true
   },
   "outputs": [],
   "source": [
    "# построим круговую диаграмму\n",
    "labels=['несетевое','сетевое']\n",
    "chains.plot(y='name', kind='pie',labels=labels, \n",
    "               autopct='%1.1f%%', fontsize=11, figsize=(6,6), \n",
    "               legend=False, title='Распределение заведений на сетевые и несетевые', startangle=10);\n",
    "plt.ylabel(\"\");"
   ]
  },
  {
   "cell_type": "markdown",
   "metadata": {},
   "source": [
    "Больше всего в Москве не сетевых заведений - 4701, сетевых же - 3701."
   ]
  },
  {
   "cell_type": "markdown",
   "metadata": {},
   "source": [
    "•\tКакие категории заведений чаще являются сетевыми? Исследуйте данные и ответьте на вопрос графиком."
   ]
  },
  {
   "cell_type": "code",
   "execution_count": null,
   "metadata": {
    "scrolled": false
   },
   "outputs": [],
   "source": [
    "data_chains = data.groupby(by=['category', 'chain'], as_index=False).agg(\n",
    "    count=('name', 'count')).sort_values(by=['count'], ascending=False)\n",
    "\n",
    "data_chains.loc[data_chains['chain'] == 0, 'chain'] = 'несетевое'\n",
    "data_chains.loc[data_chains['chain'] == 1, 'chain'] = 'сетевое'\n",
    "\n",
    "for i in range(len(data_chains)):\n",
    "    tv = (data_chains.loc[i]['count']/len(data[data['category'] == data_chains.loc[i]['category']]))*100\n",
    "    data_chains.at[i, 'ratio'] = str(round(tv, 2)) + '%'\n",
    "    \n",
    "fig = one_plot_creator(\n",
    "    df=data_chains,\n",
    "    x='category', y='count', color='chain', text='ratio',\n",
    "    title='Соотношение сетевых и несетевых заведений по категориям',\n",
    "    xaxis_title='категория', yaxis_title='количество заведений',\n",
    "    legend_title='Принадлежность к сети',height=600\n",
    ")\n",
    "#сортировка по сумме в столбце в обратном порядке\n",
    "fig.update_layout(barmode='stack', xaxis={'categoryorder':'total descending'})\n",
    "fig.show()"
   ]
  },
  {
   "cell_type": "markdown",
   "metadata": {},
   "source": [
    "Сетевые заведения превалируют в булочных, быстром питании, кофейнях и пиццериях. Наибольшее число сетевых заведений в абсолютном выражении в категории кафе, рестораны и кофейни."
   ]
  },
  {
   "cell_type": "markdown",
   "metadata": {},
   "source": [
    "### Топ-15 популярных сетей в Москве"
   ]
  },
  {
   "cell_type": "markdown",
   "metadata": {},
   "source": [
    "•\tСгруппируйте данные по названиям заведений и найдите топ-15 популярных сетей в Москве. Под популярностью понимается количество заведений этой сети в регионе. Постройте подходящую для такой информации визуализацию. Знакомы ли вам эти сети? Есть ли какой-то признак, который их объединяет? К какой категории заведений они относятся?"
   ]
  },
  {
   "cell_type": "code",
   "execution_count": null,
   "metadata": {},
   "outputs": [],
   "source": [
    "data.query('chain == 1').groupby('name').chain.count().sort_values(ascending=False).head(15)"
   ]
  },
  {
   "cell_type": "markdown",
   "metadata": {},
   "source": [
    "Мы видим, что в список попали заведения, означающие категорию заведения, а не название сети, к ним относится: `кафе, \n",
    "хинкальная, шаурма, чайхана, ресторан, столовая`. Считаю, что их нужно удалить, чтобы они не исказили исследование."
   ]
  },
  {
   "cell_type": "code",
   "execution_count": null,
   "metadata": {},
   "outputs": [],
   "source": [
    "top_15 = pd.DataFrame(data.query('chain == 1').groupby('name').chain.count().sort_values(ascending=False)).reset_index()\n",
    "drop_list = ['кафе','хинкальная', 'шаурма', 'чайхана', 'ресторан', 'столовая']\n",
    "top_15 = top_15.query('name not in @drop_list').reset_index(drop=True).head(15)\n",
    "top_15\n"
   ]
  },
  {
   "cell_type": "markdown",
   "metadata": {},
   "source": [
    "Самым популярным заведением является Шоколадница, аж 120 филиалов! И не удивительно, ведь это кафе встречается почти на каждой станции метро. \n",
    "\n",
    "Дальше с разницей практически в 50 филиатов идут Домино'с пицца - 77 , Додо пицца - 74, One price coffe - 72, Яндекс лавка - 72.\n",
    "\n",
    "Наименьшее число филиалов у Кофемании - 23.\n",
    "\n",
    "Все эти заведения расчитаны на быстрое удовлетворение потребности человека в еде и кофе, имеют демократичную ценовую политику, ориентируются на то, чтобы быть как можно ближе к пути следования возможного потребителя. Из всех сетей, представленных в Москве мне лично знакомы Додо пицца и One price coffe, т.к. они есть и в нашем городе."
   ]
  },
  {
   "cell_type": "code",
   "execution_count": null,
   "metadata": {},
   "outputs": [],
   "source": [
    "top_15_name = top_15['name'].to_list()"
   ]
  },
  {
   "cell_type": "code",
   "execution_count": null,
   "metadata": {},
   "outputs": [],
   "source": [
    "top_15_df = data.query('name in @top_15_name')"
   ]
  },
  {
   "cell_type": "code",
   "execution_count": null,
   "metadata": {},
   "outputs": [],
   "source": [
    "fig = scatter_mapbox_creator(df=top_15_df, lat='lat', lon='lng', color='name', zoom=9, hover_name='name')\n",
    "fig.show()"
   ]
  },
  {
   "cell_type": "code",
   "execution_count": null,
   "metadata": {},
   "outputs": [],
   "source": [
    "fig = one_plot_creator(\n",
    "    df=top_15_df.groupby(['name', 'category'], as_index=False).agg(count=('category', 'count')).query('count>8').sort_values(by=['count','category'], ascending=False),\n",
    "    x='name', y='count', color='category', text='count',\n",
    "    title='Самые популярные категории в сетевых заведениях топ-15',\n",
    "    xaxis_title='Название сети', yaxis_title='Количество заведений',\n",
    "    legend_title='Категория', height=450\n",
    ")\n",
    "fig.show()"
   ]
  },
  {
   "cell_type": "markdown",
   "metadata": {},
   "source": [
    "Самая встречаемая категория среди сетевых заведений из топ-15 - кофейня, 6 сетевых заведений, наименее часто встречающаяся категория - булочная, 1 заведение."
   ]
  },
  {
   "cell_type": "markdown",
   "metadata": {},
   "source": [
    "### Анализ заведений в разрезе административных районов"
   ]
  },
  {
   "cell_type": "markdown",
   "metadata": {},
   "source": [
    "Какие административные районы Москвы присутствуют в датасете? Отобразите общее количество заведений и количество заведений каждой категории по районам. Попробуйте проиллюстрировать эту информацию одним графиком."
   ]
  },
  {
   "cell_type": "code",
   "execution_count": null,
   "metadata": {},
   "outputs": [],
   "source": [
    "# выведем общий список административных огругов, присутствующих в датасете\n",
    "display(pd.DataFrame(data['district'].unique())\n",
    "        .style.set_caption('Административные округа Москвы')\n",
    "        .hide_index()\n",
    "       )"
   ]
  },
  {
   "cell_type": "markdown",
   "metadata": {},
   "source": [
    "Посмотрим на распределение заведений в общем по районам Москвы."
   ]
  },
  {
   "cell_type": "code",
   "execution_count": null,
   "metadata": {},
   "outputs": [],
   "source": [
    "districts = pd.DataFrame(data.groupby('district').name.count().sort_values(ascending=False)).reset_index()"
   ]
  },
  {
   "cell_type": "code",
   "execution_count": null,
   "metadata": {},
   "outputs": [],
   "source": [
    "fig = one_plot_creator(\n",
    "    df=districts,\n",
    "    x='district', y='name',  color=None, text='name',\n",
    "    title='Распределение заведений по районам Москвы',\n",
    "    xaxis_title='Район', yaxis_title='Количество заведений',\n",
    "    legend_title=None, height=450\n",
    ")\n",
    "fig.show()"
   ]
  },
  {
   "cell_type": "markdown",
   "metadata": {},
   "source": [
    "Наибольшее количество заведений сосредоточено в Центральном административном округе - 2242 заведения. Во всех остальных районах, кроме Северо-Западного административного округа, распределение практически одинаковое - 709-898 заведений (8,4-10,7%). В Северо-Западном административном округе, находится всего 409 заведений (4,9%)."
   ]
  },
  {
   "cell_type": "markdown",
   "metadata": {},
   "source": [
    "Посмотрим на распределение заведений по категориям по районам Москвы."
   ]
  },
  {
   "cell_type": "code",
   "execution_count": null,
   "metadata": {},
   "outputs": [],
   "source": [
    "district_count = (\n",
    "    data.groupby(['district', 'category'], as_index=False)\n",
    "    .agg(count=('name', 'count')).sort_values('count', ascending=False)\n",
    ")\n"
   ]
  },
  {
   "cell_type": "code",
   "execution_count": null,
   "metadata": {},
   "outputs": [],
   "source": [
    "# Построим столбчатую диаграмму\n",
    "fig = one_plot_creator(\n",
    "    df=district_count,\n",
    "    x='district', y='count', color='category', \n",
    "    title='Распределение категорий заведений по административным районам',\n",
    "    xaxis_title='район', yaxis_title='количество заведений',\n",
    "    legend_title='Категория заведения', barmode='group',height=600\n",
    ")\n",
    "fig.show()"
   ]
  },
  {
   "cell_type": "markdown",
   "metadata": {},
   "source": [
    "Распределение заведений по категориям сильно отличается в центральном административном округе от остальных округов.\n",
    "\n",
    "На первом месте рестораны, далее по убыванию кафе,кофейни, быры и пабы, пиццерии, быстрое питание, столовые, булочные.\n",
    "\n",
    "В других округах лидирующую позицию занимают кафе, далее второе место зачастую с большим отстованием занимают рестораны, после по убыванию кофейни, пиццерии и быстрое питание, быры и пабы, столовые и булочные."
   ]
  },
  {
   "cell_type": "markdown",
   "metadata": {},
   "source": [
    "### Визуализация среднийх рейтинов по категориям заведений."
   ]
  },
  {
   "cell_type": "markdown",
   "metadata": {},
   "source": [
    "Визуализируйте распределение средних рейтингов по категориям заведений. Сильно ли различаются усреднённые рейтинги в разных типах общепита?"
   ]
  },
  {
   "cell_type": "code",
   "execution_count": null,
   "metadata": {},
   "outputs": [],
   "source": [
    "rating_by_resto = data.groupby('category').rating.mean().sort_values(ascending=False)"
   ]
  },
  {
   "cell_type": "code",
   "execution_count": null,
   "metadata": {},
   "outputs": [],
   "source": [
    "rating_by_resto.plot(kind='bar',figsize=(7,5));\n",
    "plt.xlabel('Категория заведения');\n",
    "plt.ylabel('Средний рейтинг', );\n",
    "plt.title('Средний рейтинг по заведениям в разрезе категорий');\n",
    "plt.ylim(3.9,4.5);"
   ]
  },
  {
   "cell_type": "markdown",
   "metadata": {},
   "source": [
    "В среднем бары и пабы имеют наилучший рейтинг среди заведений общепита в Москве, следом с отстованием в 0,08  и в 0,09 идут рестораны и пиццерии. Наихудший рейтинг в среднем имеют заведения, категории \"Быстрое питание\" - 4,03. При этом абсолютная разница в среднем рейтинге не такая большая, всего 0,36 между наибольшим и наименьшим средним рейтингом среди категорий. Можно посмотреть как средний рейтинг меняется в зависимости от района Москвы."
   ]
  },
  {
   "cell_type": "code",
   "execution_count": null,
   "metadata": {},
   "outputs": [],
   "source": [
    "# составим сводную таблицу для получения среднего рейтинга по категориям заведений в разрезе районов\n",
    "rating = (\n",
    "    data.groupby(['category', 'district'], as_index=False)\n",
    "    .agg(count=('rating', 'mean')).sort_values('count', ascending=False)\n",
    ")"
   ]
  },
  {
   "cell_type": "code",
   "execution_count": null,
   "metadata": {},
   "outputs": [],
   "source": [
    "rating"
   ]
  },
  {
   "cell_type": "code",
   "execution_count": null,
   "metadata": {
    "scrolled": false
   },
   "outputs": [],
   "source": [
    "fig = one_plot_creator(\n",
    "    df=rating,\n",
    "    x='district', y='count', color='category', \n",
    "    title='Средний рейтинг кафе по категориям',\n",
    "    xaxis_title='Район', yaxis_title='Средний рейтинг',\n",
    "    legend_title='Категория кафе', barmode='group'\n",
    ")\n",
    "fig.update_layout(\n",
    "    yaxis_range=[3.9, 4.5],\n",
    "    height=450\n",
    ")\n",
    "fig.show()"
   ]
  },
  {
   "cell_type": "markdown",
   "metadata": {},
   "source": [
    "Наилучшие средние рейтинги по категориям у заведений из ЦАО, наихудшие средние рейтинги в ЮВАО."
   ]
  },
  {
   "cell_type": "markdown",
   "metadata": {},
   "source": [
    "### Картограмма со средним рейтингом заведений по районам"
   ]
  },
  {
   "cell_type": "markdown",
   "metadata": {},
   "source": [
    "Постройте фоновую картограмму (хороплет) со средним рейтингом заведений каждого района. Границы районов Москвы, которые встречаются в датасете, хранятся в файле admin_level_geomap.geojson"
   ]
  },
  {
   "cell_type": "code",
   "execution_count": null,
   "metadata": {},
   "outputs": [],
   "source": [
    "rating_df = data.groupby('district', as_index=False)['rating'].agg('mean').sort_values(by='rating',ascending=False)\n",
    "rating_df"
   ]
  },
  {
   "cell_type": "code",
   "execution_count": null,
   "metadata": {},
   "outputs": [],
   "source": [
    "# загружаем JSON-файл с границами округов Москвы\n",
    "state_geo = '/datasets/admin_level_geomap.geojson'\n",
    "# moscow_lat - широта центра Москвы, moscow_lng - долгота центра Москвы\n",
    "moscow_lat, moscow_lng = 55.751244, 37.618423\n",
    "\n",
    "# создаём карту Москвы\n",
    "m_rating = Map(location=[moscow_lat, moscow_lng], zoom_start=10)\n",
    "\n",
    "# создаём хороплет с помощью конструктора Choropleth и добавляем его на карту\n",
    "Choropleth(\n",
    "    geo_data=state_geo,\n",
    "    data=rating_df,\n",
    "    columns=['district', 'rating'],\n",
    "    key_on='feature.name',\n",
    "    fill_color='Greens',\n",
    "    fill_opacity=0.8,\n",
    "    legend_name='Средний рейтинг заведений по районам',\n",
    ").add_to(m_rating)\n",
    "\n",
    "# выводим карту\n",
    "m_rating"
   ]
  },
  {
   "cell_type": "markdown",
   "metadata": {},
   "source": [
    "Наибольший средний рейтинг по заведениям имеет Центральный административный округ, наименьшей - Юго-Восточный административный округ."
   ]
  },
  {
   "cell_type": "markdown",
   "metadata": {},
   "source": [
    "### Все заведения датасета на карте"
   ]
  },
  {
   "cell_type": "markdown",
   "metadata": {},
   "source": [
    "Отобразите все заведения датасета на карте с помощью кластеров средствами библиотеки folium."
   ]
  },
  {
   "cell_type": "markdown",
   "metadata": {},
   "source": [
    "Найдите топ-15 улиц по количеству заведений. Постройте график распределения количества заведений и их категорий по этим улицам. Попробуйте проиллюстрировать эту информацию одним графиком."
   ]
  },
  {
   "cell_type": "code",
   "execution_count": null,
   "metadata": {
    "scrolled": false
   },
   "outputs": [],
   "source": [
    "# moscow_lat - широта центра Москвы, moscow_lng - долгота центра Москвы\n",
    "moscow_lat, moscow_lng = 55.751244, 37.618423\n",
    "\n",
    "# создаём карту Москвы\n",
    "m_resto = Map(location=[moscow_lat, moscow_lng], zoom_start=10)\n",
    "# создаём пустой кластер, добавляем его на карту\n",
    "marker_cluster = MarkerCluster().add_to(m_resto)\n",
    "\n",
    "# пишем функцию, которая принимает строку датафрейма,\n",
    "# создаёт маркер в текущей точке и добавляет его в кластер marker_cluster\n",
    "def create_clusters(row):\n",
    "    Marker(\n",
    "        [row['lat'], row['lng']],\n",
    "        popup=f\"{row['name']} {row['rating']}\",\n",
    "    ).add_to(marker_cluster)\n",
    "\n",
    "# применяем функцию create_clusters() к каждой строке датафрейма\n",
    "data.apply(create_clusters, axis=1)\n",
    "\n",
    "# выводим карту\n",
    "m_resto"
   ]
  },
  {
   "cell_type": "markdown",
   "metadata": {},
   "source": [
    "### Топ-15 улиц по количеству заведений"
   ]
  },
  {
   "cell_type": "markdown",
   "metadata": {},
   "source": [
    "Найдите топ-15 улиц по количеству заведений. Постройте график распределения количества заведений и их категорий по этим улицам. Попробуйте проиллюстрировать эту информацию одним графиком."
   ]
  },
  {
   "cell_type": "code",
   "execution_count": null,
   "metadata": {},
   "outputs": [],
   "source": [
    "top_15_streets = data.groupby('street', as_index=False)['name'].agg('count').sort_values(by='name',ascending=False).head(15)\n",
    "top_15_streets_name = top_15_streets['street'].to_list()\n",
    "top_15_st_df = data.query('street in @top_15_streets_name').groupby(['street', 'category'], as_index=False).agg(\n",
    "    count=('name', 'count')).sort_values(by=['count','street'], ascending=False)"
   ]
  },
  {
   "cell_type": "code",
   "execution_count": null,
   "metadata": {},
   "outputs": [],
   "source": [
    "top_15_st_df"
   ]
  },
  {
   "cell_type": "code",
   "execution_count": null,
   "metadata": {},
   "outputs": [],
   "source": [
    "fig = one_plot_creator(\n",
    "    df=top_15_st_df,\n",
    "    x='count', y='street', color='category', text='count',\n",
    "    title='Распределение количества заведений и их категорий по улицам из топ-15',\n",
    "    xaxis_title='Количество заведений', yaxis_title='Улица',\n",
    "    legend_title='Категория заведения'\n",
    ")\n",
    "#сортировка по сумме в столбце в обратном порядке\n",
    "fig.update_layout(barmode='stack', yaxis={'categoryorder':'total descending'})\n",
    "fig.show()"
   ]
  },
  {
   "cell_type": "markdown",
   "metadata": {},
   "source": [
    "Самое большое количество заведений располагается на проспекте Мира - 183. \n",
    "\n",
    "Далее по числу заведений идут:\n",
    "- Профсоюзная улица - 122\n",
    "- проспект Вернадского - 108\n",
    "- Ленинский проспект - 107\n",
    "- Ленинградский проспект -\t95\n",
    "\n",
    "Большое количество заведений на этих улицах обусловлено их значительной длиной.\n",
    "\n",
    "Наименьшее количество заведений из топ-15 улиц на улице Пятницкого.\n",
    "\n",
    "Наиболее популярны на этих улицах кафе, рестораны и кофейни. Наименьшая популярность у столовых и булочных."
   ]
  },
  {
   "cell_type": "markdown",
   "metadata": {},
   "source": [
    "###  Улицы с 1 объектом общепита"
   ]
  },
  {
   "cell_type": "markdown",
   "metadata": {},
   "source": [
    "Найдите улицы, на которых находится только один объект общепита. Что можно сказать об этих заведениях?"
   ]
  },
  {
   "cell_type": "code",
   "execution_count": null,
   "metadata": {},
   "outputs": [],
   "source": [
    "# найдем названия улиц, где есть только одно заведение общепита\n",
    "street_1_resto = (data\n",
    "                  .groupby('street', as_index=False)['name']\n",
    "                  .agg('count')\n",
    "                  .sort_values(by='name')\n",
    "                  .query('name ==1')['street'].to_list()\n",
    "                 )"
   ]
  },
  {
   "cell_type": "code",
   "execution_count": null,
   "metadata": {},
   "outputs": [],
   "source": [
    "# найдем как распределены по категриям заведения, которые одни на всю улицу\n",
    "resto_1_df = data.query('street in @street_1_resto').groupby(\n",
    "    'category', as_index=False).agg(count=('name', 'count')).sort_values('count', ascending=False).reset_index(drop=True)\n",
    "resto_1_df"
   ]
  },
  {
   "cell_type": "code",
   "execution_count": null,
   "metadata": {},
   "outputs": [],
   "source": [
    "#построим столбчатую диаграмму\n",
    "fig = one_plot_creator(\n",
    "    df=resto_1_df,\n",
    "    x='category', y='count',  color=None,  text='count',\n",
    "    title='Распределение одиночных заведений по категориям',\n",
    "    xaxis_title='Категория', yaxis_title='Количество заведений',\n",
    "    legend_title=None, height=450\n",
    ")\n",
    "fig.show()"
   ]
  },
  {
   "cell_type": "markdown",
   "metadata": {},
   "source": [
    "В данных есть 158 кафе, которые стоят в одиночестве улицу. Найдено также 87 и 83 ресторана и кофейни соответственно, стоящих одиноко. Реже, встречаются быры, столовые и быстрое питание. \n",
    "\n",
    "Крайне редко встречаются пиццерии и булочные. Полагаю, что для этих заведений нужна хорошая проходимость, и они выбирают для себя более оживленные места."
   ]
  },
  {
   "cell_type": "markdown",
   "metadata": {},
   "source": [
    "### Исследование среднего чека по заведениям"
   ]
  },
  {
   "cell_type": "markdown",
   "metadata": {},
   "source": [
    "•\tЗначения средних чеков заведений хранятся в столбце middle_avg_bill. Эти числа показывают примерную стоимость заказа в рублях, которая чаще всего выражена диапазоном. Посчитайте медиану этого столбца для каждого района. Используйте это значение в качестве ценового индикатора района. Постройте фоновую картограмму (хороплет) с полученными значениями для каждого района. Проанализируйте цены в центральном административном округе и других. Как удалённость от центра влияет на цены в заведениях?"
   ]
  },
  {
   "cell_type": "code",
   "execution_count": null,
   "metadata": {},
   "outputs": [],
   "source": [
    "bill_df = data.groupby('district', as_index=False)['middle_avg_bill'].agg('median').sort_values(by='middle_avg_bill',ascending=False)\n",
    "bill_df"
   ]
  },
  {
   "cell_type": "code",
   "execution_count": null,
   "metadata": {},
   "outputs": [],
   "source": [
    "# создаём карту Москвы\n",
    "m = Map(location=[moscow_lat, moscow_lng], zoom_start=10)\n",
    "\n",
    "# создаём хороплет с помощью конструктора Choropleth и добавляем его на карту\n",
    "Choropleth(\n",
    "    geo_data=geo_json,\n",
    "    data=bill_df,\n",
    "    columns=['district', 'middle_avg_bill'],\n",
    "    key_on='feature.name',\n",
    "    fill_color='Greens',\n",
    "    fill_opacity=0.5,\n",
    "    legend_name='Медианный счет заведений по районам',\n",
    ").add_to(m)\n",
    "\n",
    "# выводим карту\n",
    "m"
   ]
  },
  {
   "cell_type": "markdown",
   "metadata": {},
   "source": [
    "Самый высокий медианный средний чек, в Центральном административном округе и Западном административном округе -  1000 рублей. Наименьший медианный средний чек в Северо-Восточном административном округе, Южном административном округе и Юго-Восточном административном округе - 450-500 рублей. Другие районы находятся в диапазоне - 575-700 рбулей.\n",
    "\n",
    "В целом удаление от центра дальше чем за ЦАО не сильно влияет на средний чек. Больше оказывает влияние престижность и сообвественно дороговизна района. Чем престижнее район, тем выше средний чек и наооборот. "
   ]
  },
  {
   "cell_type": "markdown",
   "metadata": {},
   "source": [
    "### Вывод\n",
    "\n",
    "- Наиболее часто встречающимися заведениями в Москве являются кафе,рестораны и кофейни. Средними по популярности являются бары и пабы, пиццерии и рестораны быстрого питания. Наименнее часто встречающимися стали столовые и булочные.\n",
    "- В среднем больше всего посадочных мест в ресторанах, а меньше всего в кафе.\n",
    "- Во всех категориях лидируют по количеству заведения с количеством мест от 21 до 80. Второе и третье места делят заведения большого размера(81-120) и заведения очень большого размера(121+). Меньше всего во всех категориях заведений без посадочных мест.\n",
    "- Больше всего в Москве не сетевых заведений - 4701, сетевых же - 3701.\n",
    "- Сетевые заведения превалируют в булочных, быстром питании, кофейнях и пиццериях. Наибольшее число сетевых заведений в абсолютном выражении в категории кафе, рестораны и кофейни.\n",
    "- Самая встречаемая категория среди сетевых заведений из топ-15 - кофейня, 6 сетевых заведений, наименее часто встречающаяся категория - булочная, 1 заведение.\n",
    "- Все сетевые заведения из топ-15 расчитаны на быстрое удовлетворение потребности человека в еде и кофе, имеют демократичную ценовую политику, ориентируются на то, чтобы быть как можно ближе к пути следования возможного потребителя.\n",
    "- Наибольшее количество заведений сосредоточено в Центральном административном округе - 2242 заведения. Во всех остальных районах, кроме Северо-Западного административного округа, распределение практически одинаковое - 709-898 заведений (8,4-10,7%). В Северо-Западном административном округе, находится всего 409 заведений (4,9%).\n",
    "- В ЦАО больше всего распространены рестораны, а в остальных округах - кафе, менее всего во всех округах - булочные и столовые.\n",
    "- В среднем бары и пабы имеют наилучший рейтинг среди заведений общепита в Москве, наихудший имеют заведения быстрого питания.\n",
    "- Наилучшие средние рейтинги по категориям у заведений из ЦАО, наихудшие средние рейтинги в ЮВАО.\n",
    "- Самое большое количество заведений располагаются на проспекте Мира, Профсоюзной улица, проспекте Вернадского, Ленинском проспекте, Ленинградском проспекте. Большое количество заведений на этих улицах обусловлено их значительной длиной. Наименьшее количество заведений из топ-15 улиц на улице Пятницкого. Наиболее популярны на этих улицах кафе, рестораны и кофейни. Наименьшая популярность у столовых и булочных.\n",
    "- В данных есть 158 кафе, которые стоят в одиночестве улицу. Найдено также 87 и 83 ресторана и кофейни соответственно, стоящих одиноко. Реже, встречаются быры, столовые и быстрое питание. Крайне редко встречаются пиццерии и булочные. Полагаю, что для этих заведений нужна хорошая проходимость, и они выбирают для себя более оживленные места.\n",
    "- Самый высокий медианный средний чек в Центральном административном округе и Западном административном округе. Наименьший медианный средний чек в Северо-Восточном административном округе, Южном административном округе и Юго-Восточном административном округе."
   ]
  },
  {
   "cell_type": "markdown",
   "metadata": {},
   "source": [
    "## Детализируем исследование: открытие кофейни\n",
    "\n",
    "Основателям фонда «Shut Up and Take My Money» не даёт покоя успех сериала «Друзья». Их мечта — открыть такую же крутую и доступную, как «Central Perk», кофейню в Москве. Будем считать, что заказчики не боятся конкуренции в этой сфере, ведь кофеен в больших городах уже достаточно. Попробуйте определить, осуществима ли мечта клиентов.\n",
    "\n",
    "Ответьте на следующие вопросы:\n",
    "\n",
    "- Сколько всего кофеен в датасете? В каких районах их больше всего, каковы особенности их расположения?\n",
    "- Есть ли круглосуточные кофейни?\n",
    "- Какие у кофеен рейтинги? Как они распределяются по районам?\n",
    "- На какую стоимость чашки капучино стоит ориентироваться при открытии и почему?\n",
    "\n",
    "Постройте визуализации. Попробуйте дать рекомендацию для открытия нового заведения. Это творческое задание: здесь нет правильного или неправильного ответа, но ваше решение должно быть чем-то обосновано. Объяснить свою рекомендацию можно текстом с описанием или маркерами на географической карте."
   ]
  },
  {
   "cell_type": "markdown",
   "metadata": {},
   "source": [
    "### Сколько всего кофеен и как они распределены по районам"
   ]
  },
  {
   "cell_type": "code",
   "execution_count": null,
   "metadata": {},
   "outputs": [],
   "source": [
    "# получим сколько всего кофеен в данных\n",
    "data.query('category == \"кофейня\"').name.count()"
   ]
  },
  {
   "cell_type": "markdown",
   "metadata": {},
   "source": [
    "Как мы видим, кофеен действительно много в Москве, 1412! Они стоят по популярности на третьем месте после кафе и ресторанов. Постомрим как кофейни разделены между районами."
   ]
  },
  {
   "cell_type": "code",
   "execution_count": null,
   "metadata": {},
   "outputs": [],
   "source": [
    "coffee = data.query('category == \"кофейня\"')\n",
    "coffee_by_district = pd.DataFrame(data.query('category == \"кофейня\"').groupby(['district']).name.count()\n",
    "             .reset_index()\n",
    "             .sort_values(by='name',ascending=False)\n",
    "             .reset_index(drop=True))\n",
    "coffee_by_district.columns = ['округ','кол-во кофеен']\n",
    "coffee_by_district"
   ]
  },
  {
   "cell_type": "code",
   "execution_count": null,
   "metadata": {},
   "outputs": [],
   "source": [
    "#построим столбчатую диаграмму\n",
    "fig = one_plot_creator(\n",
    "    df=coffee_by_district,\n",
    "    x='округ', y='кол-во кофеен',  color=None,  text='кол-во кофеен',\n",
    "    title='Распределение количества кофеен по районам',\n",
    "    xaxis_title='Район', yaxis_title='Количество кофеен',\n",
    "    legend_title=None, height=450\n",
    ")\n",
    "fig.show()"
   ]
  },
  {
   "cell_type": "markdown",
   "metadata": {},
   "source": [
    "428 (30,3%) всех кофеен сосредоточены в ЦАО, меньше всего в СЗАО - 62 (4,39)."
   ]
  },
  {
   "cell_type": "code",
   "execution_count": null,
   "metadata": {},
   "outputs": [],
   "source": [
    "coffee_m = Map(location=[moscow_lat, moscow_lng], zoom_start=10)\n",
    "\n",
    "# создаём хороплет с помощью конструктора Choropleth и добавляем его на карту\n",
    "Choropleth(\n",
    "    geo_data=geo_json,\n",
    "    data=coffee_by_district,\n",
    "    columns=['округ', 'кол-во кофеен'],\n",
    "    key_on='feature.name',\n",
    "    fill_color='YlGn',\n",
    "    fill_opacity=0.5,\n",
    "    legend_name='Распределение кофеен по районам',\n",
    ").add_to(coffee_m)\n",
    "\n",
    "# выводим карту\n",
    "coffee_m"
   ]
  },
  {
   "cell_type": "markdown",
   "metadata": {},
   "source": [
    "Больше всего кофеен в ЦАО - 428, но там больше всего и проходимость. Меньше всего в СЗАО всего 62 кофейни."
   ]
  },
  {
   "cell_type": "markdown",
   "metadata": {},
   "source": [
    "Добавим к делению кофеен по районам точки с кофейнями на карте."
   ]
  },
  {
   "cell_type": "code",
   "execution_count": null,
   "metadata": {
    "scrolled": true
   },
   "outputs": [],
   "source": [
    "# создаём пустой кластер, добавляем его на карту\n",
    "marker_cluster = MarkerCluster().add_to(coffee_m) \n",
    "\n",
    "# пишем функцию, которая принимает строку датафрейма,\n",
    "# создаёт маркер в текущей точке и добавляет его в кластер marker_cluster\n",
    "def create_clusters(row):\n",
    "    Marker(\n",
    "        [row['lat'], row['lng']],\n",
    "        popup=f\"{row['name']} {row['rating']}\",\n",
    "    ).add_to(marker_cluster)\n",
    "\n",
    "# применяем функцию create_clusters() к каждой строке датафрейма\n",
    "coffee.apply(create_clusters, axis=1)\n",
    "\n",
    "# выводим карту\n",
    "coffee_m"
   ]
  },
  {
   "cell_type": "markdown",
   "metadata": {},
   "source": [
    "Оценим сколько филиалов у топ-15 сетевых кофеен в Москве."
   ]
  },
  {
   "cell_type": "code",
   "execution_count": null,
   "metadata": {
    "scrolled": true
   },
   "outputs": [],
   "source": [
    "# посмотрим на топ 15 сетевых кофеен\n",
    "coffee_chain = coffee.groupby('name').name.count().sort_values(ascending=False).head(15)\n",
    "\n",
    "print('Количество филиалов сетевых кофеен всего:',coffee.query('chain==1').name.count())\n",
    "print('Количество филиалов у сетевых кофеен из топ-15:')\n",
    "coffee_chain"
   ]
  },
  {
   "cell_type": "code",
   "execution_count": null,
   "metadata": {
    "scrolled": false
   },
   "outputs": [],
   "source": [
    "coffee_chain.plot(kind='bar',figsize=(7,5));\n",
    "plt.xlabel('Название сети');\n",
    "plt.ylabel('Колиечство заведений в сети', );\n",
    "plt.title('Топ-15 сетевых кофеен');\n",
    "plt.ylim();"
   ]
  },
  {
   "cell_type": "markdown",
   "metadata": {},
   "source": [
    "С большим отрывом лидирует среди кофеен \"Шоколадница\" - 119 заведений, затем \"One price coffee\" - 72 заведения и cofix - 65 заведений. Меньше всего филиалов у сети \"9 bar coffe\" - 7."
   ]
  },
  {
   "cell_type": "code",
   "execution_count": null,
   "metadata": {},
   "outputs": [],
   "source": [
    "# Посмотрим на каких улицах располагается больше всего кофеен и сколько из них сетевые\n",
    "coffee_top_15 = coffee.groupby('street',as_index=False)['name'].agg('count').sort_values(by='name',ascending=False).head(15) \n",
    "coffee_15_streets_name =   coffee_top_15['street'].to_list() \n",
    "coffee_top_15_chain = coffee.query('street in @coffee_15_streets_name').groupby(by=['street', 'chain'], as_index=False).agg(\n",
    "    count=('name', 'count')).sort_values('count', ascending=False)\n",
    "\n",
    "coffee_top_15_chain.loc[coffee_top_15_chain['chain'] == 0, 'chain'] = 'несетевое'\n",
    "coffee_top_15_chain.loc[coffee_top_15_chain['chain'] == 1, 'chain'] = 'сетевое'"
   ]
  },
  {
   "cell_type": "code",
   "execution_count": null,
   "metadata": {},
   "outputs": [],
   "source": [
    "for i in range(len(coffee_top_15_chain)):\n",
    "    tv = (coffee_top_15_chain.loc[i]['count']/len(coffee[coffee['street'] == coffee_top_15_chain.loc[i]['street']]))*100\n",
    "    coffee_top_15_chain.at[i, 'ratio'] = str(round(tv, 2)) + '%'\n",
    "\n",
    "coffee_top_15_chain=coffee_top_15_chain.sort_values('count', ascending=False)\n",
    "    \n",
    "fig = one_plot_creator(\n",
    "    df=coffee_top_15_chain,\n",
    "    x='street', y='count', color='chain', text='ratio',\n",
    "    title='Соотношение сетевых и несетевых кофеен по улицам из топ-15',\n",
    "    xaxis_title='категория', yaxis_title='количество заведений',\n",
    "    legend_title='Принадлежность к сети',height=600\n",
    ")\n",
    "#сортировка по сумме в столбце в обратном порядке\n",
    "fig.update_layout(barmode='stack', xaxis={'categoryorder':'total descending'})\n",
    "\n",
    "fig.show()"
   ]
  },
  {
   "cell_type": "markdown",
   "metadata": {},
   "source": [
    "Из диаграммы видно, что больше всего кофеен располагается на проспекте мира, причем 22 из них относятся к сетевым кофейням. В принципе сетевые кофейни преобладают на всех улицах из топ-15. Только на Ленинском, Волгоградском проспекте и Новодмитровской улице больше несетевых кофеен."
   ]
  },
  {
   "cell_type": "markdown",
   "metadata": {},
   "source": [
    "### Круглосуточные кофейни"
   ]
  },
  {
   "cell_type": "code",
   "execution_count": null,
   "metadata": {},
   "outputs": [],
   "source": [
    "# посчитаем сколько кофеен работает круглосуточно\n",
    "coffee.query('is_24_7 == True').name.count()\n",
    "print('Процент кофеен работающих круглосуточно: ',round(59/1412*100),'%')"
   ]
  },
  {
   "cell_type": "code",
   "execution_count": null,
   "metadata": {},
   "outputs": [],
   "source": [
    "coffe_day_n_nigth = coffee.query('is_24_7 == True')"
   ]
  },
  {
   "cell_type": "code",
   "execution_count": null,
   "metadata": {
    "scrolled": false
   },
   "outputs": [],
   "source": [
    "fig = scatter_mapbox_creator(df=coffe_day_n_nigth, lat='lat', lon='lng', color='name', zoom=9, hover_name='name')\n",
    "fig.show()"
   ]
  },
  {
   "cell_type": "code",
   "execution_count": null,
   "metadata": {},
   "outputs": [],
   "source": [
    "coffe_24_7_df = (coffe_day_n_nigth.groupby('district').name.count().reset_index()\n",
    "             .sort_values(by='name',ascending=False)\n",
    "             .reset_index(drop=True))\n",
    "coffe_24_7_df"
   ]
  },
  {
   "cell_type": "code",
   "execution_count": null,
   "metadata": {},
   "outputs": [],
   "source": [
    "coffee_24_7 = Map(location=[moscow_lat, moscow_lng], zoom_start=10)\n",
    "\n",
    "# создаём хороплет с помощью конструктора Choropleth и добавляем его на карту\n",
    "Choropleth(\n",
    "    geo_data=geo_json,\n",
    "    data=coffe_24_7_df,\n",
    "    columns=['district', 'name'],\n",
    "    key_on='feature.name',\n",
    "    fill_color='YlGn',\n",
    "    fill_opacity=0.5,\n",
    "    legend_name='Распределение круглосуточных кофеен по районам',\n",
    ").add_to(coffee_24_7)\n",
    "\n",
    "# выводим карту\n",
    "coffee_24_7"
   ]
  },
  {
   "cell_type": "markdown",
   "metadata": {},
   "source": [
    "Преимущественно круглосуточные кофейни расположены в ЦАО - 26 заведений. Меньше всего в ЮАО и ЮВАО - всего по 1 штуке на округ.\n"
   ]
  },
  {
   "cell_type": "code",
   "execution_count": null,
   "metadata": {},
   "outputs": [],
   "source": [
    "# посмотрим сколько из круглосуточных кофеен относится к сетевым\n",
    "coffe_day_n_nigth.groupby('chain').name.count()\n",
    "coffee_chain_24_7 = coffe_day_n_nigth.groupby(['district', 'chain'], as_index=False).agg(\n",
    "    count=('name', 'count')).sort_values('count', ascending=False)"
   ]
  },
  {
   "cell_type": "code",
   "execution_count": null,
   "metadata": {},
   "outputs": [],
   "source": [
    "coffee_chain_24_7.loc[coffee_chain_24_7['chain'] == 0, 'chain'] = 'несетевое'\n",
    "coffee_chain_24_7.loc[coffee_chain_24_7['chain'] == 1, 'chain'] = 'сетевое'\n",
    "\n",
    "for i in range(len(coffee_chain_24_7)):\n",
    "    tv = (coffee_chain_24_7.loc[i]['count']/len(coffe_day_n_nigth[coffe_day_n_nigth['district'] == coffee_chain_24_7.loc[i]['district']]))*100\n",
    "    coffee_chain_24_7.at[i, 'ratio'] = str(round(tv, 2)) + '%'\n",
    "    \n",
    "fig = one_plot_creator(\n",
    "    df=coffee_chain_24_7,\n",
    "    x='district', y='count', color='chain', text='ratio',\n",
    "    title='Соотношение сетевых и несетевых кофеен по улицам из топ-15',\n",
    "    xaxis_title='категория', yaxis_title='количество заведений',\n",
    "    legend_title='Принадлежность к сети',height=600\n",
    ")\n",
    "#сортировка по сумме в столбце в обратном порядке\n",
    "fig.update_layout(barmode='stack', xaxis={'categoryorder':'total descending'})\n",
    "\n",
    "fig.show()"
   ]
  },
  {
   "cell_type": "markdown",
   "metadata": {},
   "source": [
    "Как мы видим из диаграмы, преимущественно все круглосуточные кофейни - сетевые. Больше всего их в ЦАО, но также присутствуют и несетевые. Еще несетевые круглосуточные кофейни встречаются ЗАО 1 заведение и ЮЗАО 2 заведения."
   ]
  },
  {
   "cell_type": "markdown",
   "metadata": {},
   "source": [
    "### Рейтинги кофеен по районам\n",
    "\n",
    "Какие у кофеен рейтинги? Как они распределяются по районам?"
   ]
  },
  {
   "cell_type": "code",
   "execution_count": null,
   "metadata": {},
   "outputs": [],
   "source": [
    "rating_by_coffee = coffee.groupby('district').rating.mean().sort_values()"
   ]
  },
  {
   "cell_type": "code",
   "execution_count": null,
   "metadata": {},
   "outputs": [],
   "source": [
    "rating_by_coffee"
   ]
  },
  {
   "cell_type": "code",
   "execution_count": null,
   "metadata": {},
   "outputs": [],
   "source": [
    "rating_by_coffee.plot(kind='barh',figsize=(7,5));\n",
    "plt.xlabel('Средний рейтинг');\n",
    "plt.ylabel('Район');\n",
    "plt.title('Средний рейтинг по кофейням в разрезе районов');\n",
    "\n",
    "plt.xlim(4.0,4.4);\n",
    "plt.show()"
   ]
  },
  {
   "cell_type": "markdown",
   "metadata": {},
   "source": [
    "В среднем рейтинг у кофеен в ЦАО и СЗАО выше чем во всех остальных районах - 4,34 и 4,33 соответственно. Наименьший средний рейтинг у кофеен в ЗАО - 4,20."
   ]
  },
  {
   "cell_type": "markdown",
   "metadata": {},
   "source": [
    "### Стоимость чашки капучино\n",
    "\n",
    "На какую стоимость чашки капучино стоит ориентироваться при открытии и почему?"
   ]
  },
  {
   "cell_type": "code",
   "execution_count": null,
   "metadata": {},
   "outputs": [],
   "source": [
    "# посмотрим как распределены цены на чашку капучино по кофейням\n",
    "coffee['middle_coffee_cup'].describe()"
   ]
  },
  {
   "cell_type": "code",
   "execution_count": null,
   "metadata": {},
   "outputs": [],
   "source": [
    " # назначаем размер графика\n",
    "plt.figure(figsize=(5, 5))\n",
    "\n",
    "coffee.boxplot('middle_coffee_cup');"
   ]
  },
  {
   "cell_type": "markdown",
   "metadata": {},
   "source": [
    "Как мы видим есть один выброс на уровне 1600 рублей за чашку капучино, в остальном нормальные значения цены чашки капучино заканчивается на уровне 400 рублей за порцию. Предлагаю убрать выброс, чтобы он не искажал показатели."
   ]
  },
  {
   "cell_type": "code",
   "execution_count": null,
   "metadata": {},
   "outputs": [],
   "source": [
    "coffee_cup = coffee.query('middle_coffee_cup<400')"
   ]
  },
  {
   "cell_type": "code",
   "execution_count": null,
   "metadata": {},
   "outputs": [],
   "source": [
    "bill_by_coffee = coffee_cup.groupby('district').middle_coffee_cup.mean().sort_values()\n",
    "bill_by_coffee"
   ]
  },
  {
   "cell_type": "code",
   "execution_count": null,
   "metadata": {},
   "outputs": [],
   "source": [
    "bill_by_coffee.plot(kind='barh',figsize=(7,5));\n",
    "plt.xlabel('Средняя цена чашки кофе');\n",
    "plt.ylabel('Район');\n",
    "plt.title('Средняя цена чашки капучино в разрезе районов');\n",
    "\n",
    "plt.xlim(125,200);\n",
    "plt.show()"
   ]
  },
  {
   "cell_type": "markdown",
   "metadata": {},
   "source": [
    "Самая высокая средняя цена  чашки кофе неожиданно в ЗАО 190 рублей за чашку капучино, следом идут ЦАО и ЮВАО со средним ценником в 188 и 184 рубля за чашку капучино соответственно. Самая низкая цена на чашку капучино в ВАО - 140 рублей."
   ]
  },
  {
   "cell_type": "code",
   "execution_count": null,
   "metadata": {},
   "outputs": [],
   "source": [
    "# напишем функцию для категоризации категорий заведений по количеству мест\n",
    "def categorization_coffee_cup(middle_coffee_cup):\n",
    "    if (middle_coffee_cup != middle_coffee_cup):\n",
    "        return np.nan\n",
    "    middle_coffee_cup = int(middle_coffee_cup)\n",
    "    if (middle_coffee_cup == 0):\n",
    "        return '0'\n",
    "    elif (middle_coffee_cup <= 125):\n",
    "        return '60 - 125'  # категория \"цена ниже среднего\"\n",
    "    elif (middle_coffee_cup <= 170):\n",
    "        return '125 - 170' # категория \"средняя цена\"\n",
    "    elif (middle_coffee_cup <= 225): \n",
    "        return '170 - 225' # категория \"цена выше среднего\"\n",
    "    else:\n",
    "        return '225 +' # категория \"цена значительно выше среднего\""
   ]
  },
  {
   "cell_type": "code",
   "execution_count": null,
   "metadata": {},
   "outputs": [],
   "source": [
    "# добавим категории к данным\n",
    "coffee_cup['coffee_category'] = coffee['middle_coffee_cup'].apply(categorization_coffee_cup)"
   ]
  },
  {
   "cell_type": "code",
   "execution_count": null,
   "metadata": {
    "scrolled": false
   },
   "outputs": [],
   "source": [
    "# группируем данные по категориям заведений и категориям цен и считаем количество заведений\n",
    "data_coffee= coffee_cup.groupby(['district', 'coffee_category'], \\\n",
    "                        as_index = False)[['name']].count().sort_values(by=['name','coffee_category'],ascending=False)\n",
    "# используем стиль dark из библиотеки seaborn\n",
    "sns.set_style('dark')\n",
    "# назначаем размер графика\n",
    "plt.figure(figsize=(10, 5))\n",
    "# строим столбчатый график средствами seaborn\n",
    "sns.barplot(x='district', y='name', data=data_coffee, hue='coffee_category')\n",
    "# формируем заголовок графика и подписи осей средствами matplotlib\n",
    "plt.title('Распределение стоимости чашки капучино по районам')\n",
    "plt.xlabel('Район')\n",
    "plt.ylabel('Количество заведений')\n",
    "# поворачиваем подписи значений по оси X на 45 градусов\n",
    "plt.xticks(rotation=80)\n",
    "# выбираем положение легенды и указываем размер шрифта\n",
    "plt.legend(loc='upper right', fontsize=10)\n",
    "# добавляем сетку\n",
    "plt.grid()\n",
    "# отображаем график на экране\n",
    "plt.show()"
   ]
  },
  {
   "cell_type": "markdown",
   "metadata": {},
   "source": [
    "Как мы видим из диаграммы, в ЦАО первенство по цене делят кофейни ценовой катогории \"выше среднего\" и \"значительно выше среднего\", далее по популярности идут кофейни с ценой ниже среднего. А со средней ценой заведений меньше всего.\n",
    "\n",
    "Хотела бы обратить внимание на ЗАО. В нем преобладают кофейни с ценовой категорией значительно выше среднего, а кофеен с категорией \"выше среднего\" не так много, всего 6. Как мне кажется это наш вариант занять нишу в этом районе. Здесь при открытии заведения, стоит ориентироваться на цену от 190 рублей за чашку капучино."
   ]
  },
  {
   "cell_type": "markdown",
   "metadata": {},
   "source": [
    "### Выбор и обоснование точки для кофейни"
   ]
  },
  {
   "cell_type": "markdown",
   "metadata": {},
   "source": [
    "Как мы уже ранее видели, в ЗАО не очень много кофеен, всего - 150. При этом средний рейтинг у них не очень хороший, ниже чем во всех остальных районах - 4,2. Это говорит нам о том, что людям в этом районе хочется лучшего качества обслуживания и они готовы платить за это деньги, т.к. все-таки преобладают там кофейни ценовой категории \"значительно выше среднего\". Если мы сможем открыть кофейню с ценовой категорией ниже на одну ступень, при этом дадим хорошее обслуживание, уверена, что к нам потянутся люди.\n",
    "\n",
    "Давайте посмотри подробнее на карту ЗАО и расположенных там заведений с рейтингом и ценовой категорией"
   ]
  },
  {
   "cell_type": "code",
   "execution_count": null,
   "metadata": {},
   "outputs": [],
   "source": [
    "coffee_zao = coffee_cup.query('district == \"Западный административный округ\"')"
   ]
  },
  {
   "cell_type": "code",
   "execution_count": null,
   "metadata": {
    "scrolled": false
   },
   "outputs": [],
   "source": [
    "zao_lat = 55.73853327193383\n",
    "zao_lng = 37.46522079788122\n",
    "\n",
    "coffee_zao_m = Map(location=[zao_lat, zao_lng], zoom_start=11)\n",
    "\n",
    "\n",
    "# создаём пустой кластер, добавляем его на карту\n",
    "marker_cluster = MarkerCluster().add_to(coffee_zao_m) \n",
    "\n",
    "# пишем функцию, которая принимает строку датафрейма,\n",
    "# создаёт маркер в текущей точке и добавляет его в кластер marker_cluster\n",
    "def create_clusters(row):\n",
    "    Marker(\n",
    "        [row['lat'], row['lng']],\n",
    "        popup=f\"{row['name']} {row['rating']} {row['coffee_category']} {row['middle_coffee_cup']}\",\n",
    "    ).add_to(marker_cluster)\n",
    "\n",
    "# применяем функцию create_clusters() к каждой строке датафрейма\n",
    "coffee_zao.apply(create_clusters, axis=1)\n",
    "\n",
    "# выводим карту\n",
    "coffee_zao_m"
   ]
  },
  {
   "cell_type": "markdown",
   "metadata": {},
   "source": [
    "Изучив информацию в интернете с советами по подбору мест для кофейни, я определила, что для нашего формата хорошо подойдет место рядом с парком (хороший дневной трафик за счет мам с детьми, фрилансеров и пенсионеров), метро (хороший утренний и вечерний трафик на кофе с собой для студентов и работников деловых центрови завода). Такми идеальным сочетанием обладает область возле метро \"Парк Победы\".\n",
    "\n",
    "Так как ценовая политика у нас будет в категории выше среднего, но при этом ниже на одну ступеть, чем у конкуренов в ближайшем окружении, мы сможем перетянуть на себя часть трафика, при этом не сильно потеряв в выручке. Этот будет, как хотели инвесторы, местом для приятных и доступных посиделок. Конечно, ставку нам стоит сделать на качество обслуживания и приятный интерьер.\n",
    "\n",
    "Рядом с нами будет располагаться \"Шоколадница\" и \"Кофе&Молоко\", а также есть \"ВкусВилл\", что говорит о хорошей платежеспособности клиента.\n",
    "\n",
    "Есть два варианта размещения на этой локации, расположиться в том же здании, что и \"Шоколадница\" по адресу:Площадь Победы, 1к Б, либо въехать в здание напротив по адресу: Площадь Победы, 2 к2,  и перетянуть на себя клиентуру со стороны бизнес-центров и завода, которой не будет хотеться переходить дорогу. Однако есть риск, что мы потеряем тех, что будут идти из парка/в парк. Здесь решение остается за киентом."
   ]
  },
  {
   "cell_type": "markdown",
   "metadata": {},
   "source": [
    "Отметим на карте эти две точки."
   ]
  },
  {
   "cell_type": "code",
   "execution_count": null,
   "metadata": {
    "scrolled": true
   },
   "outputs": [],
   "source": [
    "# координаты дома возле парка победы\n",
    "point_1_lat = 55.735394\n",
    "point_1_lng = 37.518798\n",
    "\n",
    "# координаты дома напротив\n",
    "point_2_lat = 55.7375796447757\n",
    "point_2_lng = 37.51889898452249\n",
    "\n",
    "# создаём карту с центром в точке расположения первой точки и начальным зумом 16\n",
    "coffee_point = folium.Map(location=[point_1_lat, point_1_lng], zoom_start=16)\n",
    "# создаём маркер в точке расположения первой точки и сразу добавляем на карту\n",
    "folium.Marker([point_1_lat, point_1_lng]).add_to(coffee_point)\n",
    "# создаём маркер в точке расположения второй точки и сразу добавляем на карту\n",
    "folium.Marker([point_2_lat, point_2_lng]).add_to(coffee_point)\n",
    "\n",
    "# выводим карту\n",
    "coffee_point"
   ]
  },
  {
   "cell_type": "markdown",
   "metadata": {},
   "source": [
    "### Вывод:\n",
    "\n",
    "- В Москве отрыто 1412 кофеен, из них 30,3% сосредоточены в ЦАО, меньше всего в СЗАО - 4,39%.\n",
    "- Всего филиалов сетевых кофеен в Москве 753. С большим отрывом среди сетевых кофеен лидирует \"Шоколадница\" - 119 филиалов, затем \"One price coffee\" - 72 заведения и cofix - 65 заведений. Меньше всего филиалов у сети \"9 bar coffe\" - 7.\n",
    "- Круглосуточно работает только 4 % всех кофеен.Преимущественно круглосуточные кофейни расположены в ЦАО - 26 заведений. Меньше всего в ЮАО и ЮВАО - всего по 1 штуке на округ. Среди круглосуточных кофеен преобладают сетевые. Больше всего их в ЦАО, но также присутствуют и несетевые. Еще несетевые круглосуточные кофейни встречаются ЗАО 1 заведение и ЮЗАО 2 заведения.\n",
    "- В среднем рейтинг у кофеен в ЦАО и СЗАО выше чем во всех остальных районах - 4,34 и 4,33 соответственно. Наименьший средний рейтинг у кофеен в ЗАО - 4,20.\n",
    "- Самая высокая средняя цена  чашки кофе в ЗАО 190 рублей за чашку капучино, следом идут ЦАО и ЮВАО со средним ценником в 188 и 184 рубля за чашку капучино соответственно. Самая низкая цена на чашку капучино в ВАО - 140 рублей. \n",
    "\n",
    "В качестве места для открытия кофейни мы предлагаем ЗАО. Ранее мы видели, в ЗАО не очень много кофеен, всего - 150. При этом средний рейтинг у них не очень хороший, ниже чем во всех остальных районах - 4,2. Это говорит нам о том, что людям в этом районе хотят лучшего качества обслуживания и готовы платить за это деньги, т.к. все-таки преобладают там кофейни ценовой категории \"значительно выше среднего\". \n",
    "\n",
    "Предлагаем открыть кофейню среднего размера с ценовой категорией \"выше среднего\", при этом сделать упор на хорошее обслуживание. Ориентироваться нужно на цену от 190 рублей за чашку капучино.\n",
    "\n",
    "Для нашего формата хорошо подойдет место рядом с парком (хороший дневной трафик за счет мам с детьми, фрилансеров и пенсионеров) и метро (хороший утренний и вечерний трафик на кофе с собой для студентов и работников деловых центров и завода). Таким идеальным сочетанием обладает область возле метро \"Парк Победы\". Есть два варианта размещения на этой локации, расположиться в том же здании, что и \"Шоколадница\" по адресу:Площадь Победы, 1к Б, либо въехать в здание напротив по адресу: Площадь Победы, 2 к2"
   ]
  },
  {
   "cell_type": "markdown",
   "metadata": {},
   "source": [
    "## Презентация"
   ]
  },
  {
   "cell_type": "markdown",
   "metadata": {},
   "source": [
    "Презентация: <https://disk.yandex.ru/d/NSGvCPmABwoX1A> "
   ]
  },
  {
   "cell_type": "markdown",
   "metadata": {},
   "source": [
    "## Вывод"
   ]
  },
  {
   "cell_type": "markdown",
   "metadata": {},
   "source": [
    "**1 Этап. Загрузка и первичное изучение данных**\n",
    "\n",
    "- всего в данных хранилась информация о 8406 заведениях\n",
    "- тип данных в столбце seats перевели в int, в остальных столбцах типы данных были верны\n",
    "- пропуски присутствовали в 6 столбцах\n",
    "- больше всего пропусков присутствовало в столбцах: seats, avg_bill, price, middle_avg_bill, middle_coffee_cup\n",
    "\n",
    "**2 Этап. Предобработка данных**\n",
    "\n",
    "- все столбцы с текстовыми данными были переведены в нижний регистр\n",
    "- явных дубликатов найдено не было\n",
    "- было найдено и удалено 4 неявных дубликата\n",
    "- была произведена замена значений по столбцу `chain` на 1 для всех уникальных заведений, встречающихся более 1 раза в данных  \n",
    "- пропуски составляют значительную часть в данных, поэтому пока нет возможности их удалить, возможно позже мы сможем их обработать\n",
    "- были добавлены столбцы с названиями улиц и с маркером работы 24/7\n",
    "\n",
    "**3 Этап. Анали данных**\n",
    "\n",
    "- Наиболее часто встречающимися заведениями в Москве являются кафе,рестораны и кофейни. Средними по популярности являются бары и пабы, пиццерии и рестораны быстрого питания. Наименнее часто встречающимися стали столовые и булочные.\n",
    "- В среднем больше всего посадочных мест в ресторанах, а меньше всего в кафе.\n",
    "- Во всех категориях лидируют по количеству заведения с количеством мест от 21 до 80. Второе и третье места делят заведения большого размера(81-120) и заведения очень большого размера(121+). Меньше всего во всех категориях заведений без посадочных мест.\n",
    "- Больше всего в Москве не сетевых заведений - 4701, сетевых же - 3701.\n",
    "- Сетевые заведения превалируют в булочных, быстром питании, кофейнях и пиццериях. Наибольшее число сетевых заведений в абсолютном выражении в категории кафе, рестораны и кофейни.\n",
    "- Самая встречаемая категория среди сетевых заведений из топ-15 - кофейня, 6 сетевых заведений, наименее часто встречающаяся категория - булочная, 1 заведение.\n",
    "- Все сетевые заведения из топ-15 расчитаны на быстрое удовлетворение потребности человека в еде и кофе, имеют демократичную ценовую политику, ориентируются на то, чтобы быть как можно ближе к пути следования возможного потребителя.\n",
    "- Наибольшее количество заведений сосредоточено в Центральном административном округе - 2242 заведения. Во всех остальных районах, кроме Северо-Западного административного округа, распределение практически одинаковое - 709-898 заведений (8,4-10,7%). В Северо-Западном административном округе, находится всего 409 заведений (4,9%).\n",
    "- В ЦАО больше всего распространены рестораны, а в остальных округах - кафе, менее всего во всех округах - булочные и столовые.\n",
    "- В среднем бары и пабы имеют наилучший рейтинг среди заведений общепита в Москве, наихудший имеют заведения быстрого питания.\n",
    "- Наилучшие средние рейтинги по категориям у заведений из ЦАО, наихудшие средние рейтинги в ЮВАО.\n",
    "- Самое большое количество заведений располагаются на проспекте Мира, Профсоюзной улица, проспекте Вернадского, Ленинском проспекте, Ленинградском проспекте. Большое количество заведений на этих улицах обусловлено их значительной длиной. Наименьшее количество заведений из топ-15 улиц на улице Пятницкого. Наиболее популярны на этих улицах кафе, рестораны и кофейни. Наименьшая популярность у столовых и булочных.\n",
    "- В данных есть 158 кафе, которые стоят в одиночестве улицу. Найдено также 87 и 83 ресторана и кофейни соответственно, стоящих одиноко. Реже, встречаются быры, столовые и быстрое питание. Крайне редко встречаются пиццерии и булочные. Полагаю, что для этих заведений нужна хорошая проходимость, и они выбирают для себя более оживленные места.\n",
    "- Самый высокий медианный средний чек в Центральном административном округе и Западном административном округе. Наименьший медианный средний чек в Северо-Восточном административном округе, Южном административном округе и Юго-Восточном административном округе.\n",
    "\n",
    "**4 Этап. Открытие кофейни**\n",
    "\n",
    "- В Москве отрыто 1412 кофеен, из них 30,3% (428 кофейни) сосредоточены в ЦАО, меньше всего в СЗАО - 4,39 (62 кофейни). В ЗАО размещается 150 кофеен (10,6%).\n",
    "- Всего филиалов сетевых кофеен в Москве 753. С большим отрывом среди сетевых кофеен лидирует \"Шоколадница\" - 119 филиалов, затем \"One price coffee\" - 72 заведения и cofix - 65 заведений. Меньше всего филиалов у сети \"9 bar coffe\" - 7.\n",
    "- Круглосуточно работает только 4 % всех кофеен.Преимущественно круглосуточные кофейни расположены в ЦАО - 26 заведений. Меньше всего в ЮАО и ЮВАО - всего по 1 штуке на округ. Среди круглосуточных кофеен преобладают сетевые. Больше всего их в ЦАО, но также присутствуют и несетевые. Еще несетевые круглосуточные кофейни встречаются ЗАО 1 заведение и ЮЗАО 2 заведения.\n",
    "- В среднем рейтинг у кофеен в ЦАО и СЗАО выше чем во всех остальных районах - 4,34 и 4,33 соответственно. Наименьший средний рейтинг у кофеен в ЗАО - 4,20.\n",
    "- Самая высокая средняя цена  чашки кофе в ЗАО 190 рублей за чашку капучино, следом идут ЦАО и ЮВАО со средним ценником в 188 и 184 рубля за чашку капучино соответственно. Самая низкая цена на чашку капучино в ВАО - 140 рублей. \n",
    "\n",
    "В качестве места для открытия кофейни мы предлагаем ЗАО. Ранее мы видели, что в ЗАО не очень много кофеен, всего - 150. При этом средний рейтинг у них не очень хороший, ниже чем во всех остальных районах - 4,2. Это говорит нам о том, что людям в этом районе хочется лучшего качества обслуживания, и они готовы платить за это деньги, т.к. все-таки преобладают там кофейни ценовой категории \"значительно выше среднего\". \n",
    "\n",
    "Предлагаем открыть кофейню среднего размера с ценовой категорией \"выше среднего\", при этом сделать упор на хорошее обслуживание. Ориентироваться нужно на цену от 190 рублей за чашку капучино.\n",
    "\n",
    "Для нашего формата хорошо подойдет место рядом с парком (хороший дневной трафик за счет мам с детьми, фрилансеров и пенсионеров) и метро (хороший утренний и вечерний трафик на кофе с собой для студентов и работников деловых центров и завода). Таким идеальным сочетанием обладает область возле метро \"Парк Победы\". Есть два варианта размещения на этой локации, расположиться в том же здании, что и \"Шоколадница\" по адресу:Площадь Победы, 1к Б, либо въехать в здание напротив по адресу: Площадь Победы, 2 к2"
   ]
  },
  {
   "cell_type": "code",
   "execution_count": null,
   "metadata": {},
   "outputs": [],
   "source": []
  }
 ],
 "metadata": {
  "ExecuteTimeLog": [
   {
    "duration": 1769,
    "start_time": "2023-07-11T05:00:02.675Z"
   },
   {
    "duration": 13,
    "start_time": "2023-07-11T05:00:07.557Z"
   },
   {
    "duration": 61,
    "start_time": "2023-07-11T05:00:27.565Z"
   },
   {
    "duration": 18,
    "start_time": "2023-07-11T05:00:28.092Z"
   },
   {
    "duration": 15,
    "start_time": "2023-07-11T05:01:23.132Z"
   },
   {
    "duration": 3,
    "start_time": "2023-07-11T05:01:39.895Z"
   },
   {
    "duration": 38,
    "start_time": "2023-07-11T05:01:53.792Z"
   },
   {
    "duration": 18,
    "start_time": "2023-07-11T05:34:46.475Z"
   },
   {
    "duration": 16,
    "start_time": "2023-07-11T05:35:18.229Z"
   },
   {
    "duration": 14,
    "start_time": "2023-07-11T05:36:24.549Z"
   },
   {
    "duration": 112,
    "start_time": "2023-07-11T05:41:19.808Z"
   },
   {
    "duration": 27,
    "start_time": "2023-07-11T05:42:19.012Z"
   },
   {
    "duration": 6,
    "start_time": "2023-07-11T05:44:25.108Z"
   },
   {
    "duration": 17,
    "start_time": "2023-07-11T05:46:20.854Z"
   },
   {
    "duration": 71,
    "start_time": "2023-07-11T05:57:13.207Z"
   },
   {
    "duration": 1256,
    "start_time": "2023-07-11T05:57:21.305Z"
   },
   {
    "duration": 16,
    "start_time": "2023-07-11T05:57:22.563Z"
   },
   {
    "duration": 19,
    "start_time": "2023-07-11T05:57:22.580Z"
   },
   {
    "duration": 89,
    "start_time": "2023-07-11T05:57:22.601Z"
   },
   {
    "duration": 17,
    "start_time": "2023-07-11T05:57:22.692Z"
   },
   {
    "duration": 21,
    "start_time": "2023-07-11T05:57:49.347Z"
   },
   {
    "duration": 6,
    "start_time": "2023-07-11T05:58:10.512Z"
   },
   {
    "duration": 10,
    "start_time": "2023-07-11T05:59:11.623Z"
   },
   {
    "duration": 7,
    "start_time": "2023-07-11T05:59:31.861Z"
   },
   {
    "duration": 108,
    "start_time": "2023-07-11T06:15:12.539Z"
   },
   {
    "duration": 30,
    "start_time": "2023-07-11T06:15:27.694Z"
   },
   {
    "duration": 8,
    "start_time": "2023-07-11T06:16:11.811Z"
   },
   {
    "duration": 22,
    "start_time": "2023-07-11T06:16:22.895Z"
   },
   {
    "duration": 20,
    "start_time": "2023-07-11T06:16:49.259Z"
   },
   {
    "duration": 21,
    "start_time": "2023-07-11T06:21:19.411Z"
   },
   {
    "duration": 22,
    "start_time": "2023-07-11T06:22:05.667Z"
   },
   {
    "duration": 1263,
    "start_time": "2023-07-11T06:28:17.112Z"
   },
   {
    "duration": 16,
    "start_time": "2023-07-11T06:28:18.377Z"
   },
   {
    "duration": 3,
    "start_time": "2023-07-11T06:28:18.394Z"
   },
   {
    "duration": 60,
    "start_time": "2023-07-11T06:28:18.399Z"
   },
   {
    "duration": 25,
    "start_time": "2023-07-11T06:28:18.461Z"
   },
   {
    "duration": 22,
    "start_time": "2023-07-11T06:28:18.487Z"
   },
   {
    "duration": 31,
    "start_time": "2023-07-11T06:28:18.511Z"
   },
   {
    "duration": 46,
    "start_time": "2023-07-11T06:28:47.018Z"
   },
   {
    "duration": 27,
    "start_time": "2023-07-11T06:28:47.825Z"
   },
   {
    "duration": 20,
    "start_time": "2023-07-11T06:32:11.866Z"
   },
   {
    "duration": 96,
    "start_time": "2023-07-11T06:45:25.469Z"
   },
   {
    "duration": 23,
    "start_time": "2023-07-11T06:47:20.156Z"
   },
   {
    "duration": 18,
    "start_time": "2023-07-11T06:47:38.940Z"
   },
   {
    "duration": 10,
    "start_time": "2023-07-11T06:49:59.035Z"
   },
   {
    "duration": 10,
    "start_time": "2023-07-11T06:50:04.014Z"
   },
   {
    "duration": 13,
    "start_time": "2023-07-11T06:50:08.666Z"
   },
   {
    "duration": 14,
    "start_time": "2023-07-11T06:51:15.467Z"
   },
   {
    "duration": 9,
    "start_time": "2023-07-11T06:52:30.764Z"
   },
   {
    "duration": 5,
    "start_time": "2023-07-11T07:04:18.388Z"
   },
   {
    "duration": 15,
    "start_time": "2023-07-11T07:04:49.012Z"
   },
   {
    "duration": 4,
    "start_time": "2023-07-11T07:16:39.796Z"
   },
   {
    "duration": 12,
    "start_time": "2023-07-11T07:16:55.204Z"
   },
   {
    "duration": 12,
    "start_time": "2023-07-11T07:17:08.756Z"
   },
   {
    "duration": 28,
    "start_time": "2023-07-11T07:17:24.660Z"
   },
   {
    "duration": 8,
    "start_time": "2023-07-11T07:17:34.242Z"
   },
   {
    "duration": 10,
    "start_time": "2023-07-11T07:35:18.641Z"
   },
   {
    "duration": 9,
    "start_time": "2023-07-11T07:35:43.642Z"
   },
   {
    "duration": 8,
    "start_time": "2023-07-11T07:35:53.908Z"
   },
   {
    "duration": 11,
    "start_time": "2023-07-11T07:36:25.330Z"
   },
   {
    "duration": 157,
    "start_time": "2023-07-11T07:38:27.527Z"
   },
   {
    "duration": 8,
    "start_time": "2023-07-11T07:38:36.755Z"
   },
   {
    "duration": 8,
    "start_time": "2023-07-11T07:51:25.504Z"
   },
   {
    "duration": 4,
    "start_time": "2023-07-11T07:56:36.959Z"
   },
   {
    "duration": 9,
    "start_time": "2023-07-11T07:56:53.595Z"
   },
   {
    "duration": 8,
    "start_time": "2023-07-11T07:59:09.997Z"
   },
   {
    "duration": 1520,
    "start_time": "2023-07-11T08:02:48.656Z"
   },
   {
    "duration": 19,
    "start_time": "2023-07-11T08:02:50.178Z"
   },
   {
    "duration": 7,
    "start_time": "2023-07-11T08:02:50.198Z"
   },
   {
    "duration": 88,
    "start_time": "2023-07-11T08:02:50.207Z"
   },
   {
    "duration": 31,
    "start_time": "2023-07-11T08:02:50.297Z"
   },
   {
    "duration": 45,
    "start_time": "2023-07-11T08:02:50.330Z"
   },
   {
    "duration": 12,
    "start_time": "2023-07-11T08:02:50.377Z"
   },
   {
    "duration": 23,
    "start_time": "2023-07-11T08:02:50.391Z"
   },
   {
    "duration": 14,
    "start_time": "2023-07-11T08:02:50.416Z"
   },
   {
    "duration": 52,
    "start_time": "2023-07-11T08:02:50.432Z"
   },
   {
    "duration": 39,
    "start_time": "2023-07-11T08:02:50.486Z"
   },
   {
    "duration": 53,
    "start_time": "2023-07-11T08:02:50.527Z"
   },
   {
    "duration": 29,
    "start_time": "2023-07-11T08:02:50.582Z"
   },
   {
    "duration": 55,
    "start_time": "2023-07-11T08:02:50.614Z"
   },
   {
    "duration": 8,
    "start_time": "2023-07-11T08:22:01.603Z"
   },
   {
    "duration": 19,
    "start_time": "2023-07-11T08:22:02.244Z"
   },
   {
    "duration": 14,
    "start_time": "2023-07-11T08:22:27.308Z"
   },
   {
    "duration": 16,
    "start_time": "2023-07-11T08:22:45.918Z"
   },
   {
    "duration": 14,
    "start_time": "2023-07-11T08:22:46.497Z"
   },
   {
    "duration": 1508,
    "start_time": "2023-07-11T08:23:40.945Z"
   },
   {
    "duration": 18,
    "start_time": "2023-07-11T08:23:42.458Z"
   },
   {
    "duration": 4,
    "start_time": "2023-07-11T08:23:42.477Z"
   },
   {
    "duration": 67,
    "start_time": "2023-07-11T08:23:42.483Z"
   },
   {
    "duration": 29,
    "start_time": "2023-07-11T08:23:42.556Z"
   },
   {
    "duration": 19,
    "start_time": "2023-07-11T08:23:42.586Z"
   },
   {
    "duration": 8,
    "start_time": "2023-07-11T08:23:42.606Z"
   },
   {
    "duration": 32,
    "start_time": "2023-07-11T08:23:42.615Z"
   },
   {
    "duration": 19,
    "start_time": "2023-07-11T08:23:42.648Z"
   },
   {
    "duration": 6,
    "start_time": "2023-07-11T08:23:42.669Z"
   },
   {
    "duration": 17,
    "start_time": "2023-07-11T08:23:42.676Z"
   },
   {
    "duration": 19,
    "start_time": "2023-07-11T08:23:42.694Z"
   },
   {
    "duration": 30,
    "start_time": "2023-07-11T08:23:42.715Z"
   },
   {
    "duration": 8,
    "start_time": "2023-07-11T08:23:42.747Z"
   },
   {
    "duration": 16,
    "start_time": "2023-07-11T08:23:42.760Z"
   },
   {
    "duration": 112,
    "start_time": "2023-07-11T08:26:58.135Z"
   },
   {
    "duration": 4,
    "start_time": "2023-07-11T08:31:34.216Z"
   },
   {
    "duration": 13,
    "start_time": "2023-07-11T08:31:43.249Z"
   },
   {
    "duration": 4,
    "start_time": "2023-07-11T08:31:51.345Z"
   },
   {
    "duration": 14,
    "start_time": "2023-07-11T08:31:51.757Z"
   },
   {
    "duration": 115,
    "start_time": "2023-07-11T08:37:51.245Z"
   },
   {
    "duration": 13,
    "start_time": "2023-07-11T08:37:54.563Z"
   },
   {
    "duration": 12,
    "start_time": "2023-07-11T08:40:03.105Z"
   },
   {
    "duration": 14,
    "start_time": "2023-07-11T08:46:55.743Z"
   },
   {
    "duration": 30,
    "start_time": "2023-07-11T08:47:51.717Z"
   },
   {
    "duration": 17,
    "start_time": "2023-07-11T08:49:37.557Z"
   },
   {
    "duration": 24,
    "start_time": "2023-07-11T08:50:14.821Z"
   },
   {
    "duration": 20,
    "start_time": "2023-07-11T08:50:48.637Z"
   },
   {
    "duration": 18,
    "start_time": "2023-07-11T08:51:16.905Z"
   },
   {
    "duration": 23,
    "start_time": "2023-07-11T08:52:27.110Z"
   },
   {
    "duration": 25,
    "start_time": "2023-07-11T08:53:52.016Z"
   },
   {
    "duration": 4,
    "start_time": "2023-07-11T08:58:25.798Z"
   },
   {
    "duration": 13,
    "start_time": "2023-07-11T09:05:55.116Z"
   },
   {
    "duration": 125,
    "start_time": "2023-07-11T09:06:39.021Z"
   },
   {
    "duration": 12,
    "start_time": "2023-07-11T09:06:45.406Z"
   },
   {
    "duration": 21,
    "start_time": "2023-07-11T09:07:26.025Z"
   },
   {
    "duration": 8,
    "start_time": "2023-07-11T09:33:41.917Z"
   },
   {
    "duration": 27,
    "start_time": "2023-07-11T15:52:55.500Z"
   },
   {
    "duration": 26,
    "start_time": "2023-07-11T15:53:14.581Z"
   },
   {
    "duration": 22,
    "start_time": "2023-07-11T15:54:55.654Z"
   },
   {
    "duration": 15,
    "start_time": "2023-07-11T15:55:04.295Z"
   },
   {
    "duration": 28,
    "start_time": "2023-07-11T15:55:11.341Z"
   },
   {
    "duration": 19,
    "start_time": "2023-07-11T15:55:19.758Z"
   },
   {
    "duration": 37,
    "start_time": "2023-07-11T15:55:47.356Z"
   },
   {
    "duration": 1484,
    "start_time": "2023-07-11T16:00:07.057Z"
   },
   {
    "duration": 32,
    "start_time": "2023-07-11T16:00:08.545Z"
   },
   {
    "duration": 5,
    "start_time": "2023-07-11T16:00:08.579Z"
   },
   {
    "duration": 66,
    "start_time": "2023-07-11T16:00:08.586Z"
   },
   {
    "duration": 40,
    "start_time": "2023-07-11T16:00:08.654Z"
   },
   {
    "duration": 57,
    "start_time": "2023-07-11T16:00:08.695Z"
   },
   {
    "duration": 44,
    "start_time": "2023-07-11T16:00:08.759Z"
   },
   {
    "duration": 50,
    "start_time": "2023-07-11T16:00:08.805Z"
   },
   {
    "duration": 55,
    "start_time": "2023-07-11T16:00:08.860Z"
   },
   {
    "duration": 54,
    "start_time": "2023-07-11T16:00:08.917Z"
   },
   {
    "duration": 38,
    "start_time": "2023-07-11T16:00:08.973Z"
   },
   {
    "duration": 37,
    "start_time": "2023-07-11T16:00:09.013Z"
   },
   {
    "duration": 38,
    "start_time": "2023-07-11T16:00:09.066Z"
   },
   {
    "duration": 24,
    "start_time": "2023-07-11T16:00:09.107Z"
   },
   {
    "duration": 54,
    "start_time": "2023-07-11T16:00:09.138Z"
   },
   {
    "duration": 4,
    "start_time": "2023-07-11T16:00:09.194Z"
   },
   {
    "duration": 24,
    "start_time": "2023-07-11T16:00:09.199Z"
   },
   {
    "duration": 57,
    "start_time": "2023-07-11T16:00:09.225Z"
   },
   {
    "duration": 14,
    "start_time": "2023-07-11T16:00:09.284Z"
   },
   {
    "duration": 19,
    "start_time": "2023-07-11T16:00:31.131Z"
   },
   {
    "duration": 187,
    "start_time": "2023-07-11T16:07:47.610Z"
   },
   {
    "duration": 17,
    "start_time": "2023-07-11T16:07:52.291Z"
   },
   {
    "duration": 22,
    "start_time": "2023-07-11T16:07:55.950Z"
   },
   {
    "duration": 17,
    "start_time": "2023-07-11T16:08:07.884Z"
   },
   {
    "duration": 13,
    "start_time": "2023-07-11T16:09:38.664Z"
   },
   {
    "duration": 18,
    "start_time": "2023-07-11T16:15:30.819Z"
   },
   {
    "duration": 21,
    "start_time": "2023-07-11T16:16:34.425Z"
   },
   {
    "duration": 8,
    "start_time": "2023-07-11T16:16:52.274Z"
   },
   {
    "duration": 1809,
    "start_time": "2023-07-11T16:17:20.005Z"
   },
   {
    "duration": 1609,
    "start_time": "2023-07-11T16:19:44.519Z"
   },
   {
    "duration": 46,
    "start_time": "2023-07-11T16:19:46.130Z"
   },
   {
    "duration": 11,
    "start_time": "2023-07-11T16:19:46.181Z"
   },
   {
    "duration": 48,
    "start_time": "2023-07-11T16:19:46.195Z"
   },
   {
    "duration": 52,
    "start_time": "2023-07-11T16:19:46.244Z"
   },
   {
    "duration": 55,
    "start_time": "2023-07-11T16:19:46.300Z"
   },
   {
    "duration": 21,
    "start_time": "2023-07-11T16:19:46.357Z"
   },
   {
    "duration": 35,
    "start_time": "2023-07-11T16:19:46.381Z"
   },
   {
    "duration": 28,
    "start_time": "2023-07-11T16:19:46.418Z"
   },
   {
    "duration": 28,
    "start_time": "2023-07-11T16:19:46.450Z"
   },
   {
    "duration": 46,
    "start_time": "2023-07-11T16:19:46.480Z"
   },
   {
    "duration": 66,
    "start_time": "2023-07-11T16:19:46.529Z"
   },
   {
    "duration": 6,
    "start_time": "2023-07-11T16:19:46.596Z"
   },
   {
    "duration": 32,
    "start_time": "2023-07-11T16:19:46.603Z"
   },
   {
    "duration": 69,
    "start_time": "2023-07-11T16:19:46.636Z"
   },
   {
    "duration": 18,
    "start_time": "2023-07-11T16:19:46.708Z"
   },
   {
    "duration": 45,
    "start_time": "2023-07-11T16:19:46.728Z"
   },
   {
    "duration": 29,
    "start_time": "2023-07-11T16:19:46.779Z"
   },
   {
    "duration": 26,
    "start_time": "2023-07-11T16:19:46.810Z"
   },
   {
    "duration": 48,
    "start_time": "2023-07-11T16:19:46.839Z"
   },
   {
    "duration": 7,
    "start_time": "2023-07-11T16:21:12.089Z"
   },
   {
    "duration": 20,
    "start_time": "2023-07-11T16:23:00.514Z"
   },
   {
    "duration": 18,
    "start_time": "2023-07-11T16:23:46.960Z"
   },
   {
    "duration": 28,
    "start_time": "2023-07-11T16:23:56.758Z"
   },
   {
    "duration": 1549,
    "start_time": "2023-07-11T16:28:08.060Z"
   },
   {
    "duration": 32,
    "start_time": "2023-07-11T16:28:09.612Z"
   },
   {
    "duration": 5,
    "start_time": "2023-07-11T16:28:09.647Z"
   },
   {
    "duration": 113,
    "start_time": "2023-07-11T16:28:09.656Z"
   },
   {
    "duration": 82,
    "start_time": "2023-07-11T16:28:09.772Z"
   },
   {
    "duration": 40,
    "start_time": "2023-07-11T16:28:09.858Z"
   },
   {
    "duration": 13,
    "start_time": "2023-07-11T16:28:09.901Z"
   },
   {
    "duration": 33,
    "start_time": "2023-07-11T16:28:09.916Z"
   },
   {
    "duration": 51,
    "start_time": "2023-07-11T16:28:09.951Z"
   },
   {
    "duration": 10,
    "start_time": "2023-07-11T16:28:10.007Z"
   },
   {
    "duration": 75,
    "start_time": "2023-07-11T16:28:10.020Z"
   },
   {
    "duration": 89,
    "start_time": "2023-07-11T16:28:10.098Z"
   },
   {
    "duration": 16,
    "start_time": "2023-07-11T16:28:10.190Z"
   },
   {
    "duration": 51,
    "start_time": "2023-07-11T16:28:10.209Z"
   },
   {
    "duration": 46,
    "start_time": "2023-07-11T16:28:10.266Z"
   },
   {
    "duration": 15,
    "start_time": "2023-07-11T16:28:10.315Z"
   },
   {
    "duration": 46,
    "start_time": "2023-07-11T16:28:10.333Z"
   },
   {
    "duration": 12,
    "start_time": "2023-07-11T16:28:10.381Z"
   },
   {
    "duration": 33,
    "start_time": "2023-07-11T16:28:10.395Z"
   },
   {
    "duration": 23,
    "start_time": "2023-07-11T16:28:10.430Z"
   },
   {
    "duration": 42,
    "start_time": "2023-07-11T16:28:10.455Z"
   },
   {
    "duration": 44,
    "start_time": "2023-07-12T06:04:56.672Z"
   },
   {
    "duration": 1530,
    "start_time": "2023-07-12T06:05:10.817Z"
   },
   {
    "duration": 21,
    "start_time": "2023-07-12T06:05:12.349Z"
   },
   {
    "duration": 22,
    "start_time": "2023-07-12T06:05:12.371Z"
   },
   {
    "duration": 54,
    "start_time": "2023-07-12T06:05:12.395Z"
   },
   {
    "duration": 98,
    "start_time": "2023-07-12T06:05:12.451Z"
   },
   {
    "duration": 0,
    "start_time": "2023-07-12T06:05:12.551Z"
   },
   {
    "duration": 0,
    "start_time": "2023-07-12T06:05:12.552Z"
   },
   {
    "duration": 0,
    "start_time": "2023-07-12T06:05:12.553Z"
   },
   {
    "duration": 0,
    "start_time": "2023-07-12T06:05:12.555Z"
   },
   {
    "duration": 0,
    "start_time": "2023-07-12T06:05:12.556Z"
   },
   {
    "duration": 0,
    "start_time": "2023-07-12T06:05:12.557Z"
   },
   {
    "duration": 0,
    "start_time": "2023-07-12T06:05:12.557Z"
   },
   {
    "duration": 0,
    "start_time": "2023-07-12T06:05:12.575Z"
   },
   {
    "duration": 0,
    "start_time": "2023-07-12T06:05:12.577Z"
   },
   {
    "duration": 0,
    "start_time": "2023-07-12T06:05:12.577Z"
   },
   {
    "duration": 0,
    "start_time": "2023-07-12T06:05:12.579Z"
   },
   {
    "duration": 0,
    "start_time": "2023-07-12T06:05:12.579Z"
   },
   {
    "duration": 0,
    "start_time": "2023-07-12T06:05:12.580Z"
   },
   {
    "duration": 0,
    "start_time": "2023-07-12T06:05:12.582Z"
   },
   {
    "duration": 0,
    "start_time": "2023-07-12T06:05:12.583Z"
   },
   {
    "duration": 0,
    "start_time": "2023-07-12T06:05:12.584Z"
   },
   {
    "duration": 0,
    "start_time": "2023-07-12T06:05:12.585Z"
   },
   {
    "duration": 12,
    "start_time": "2023-07-12T06:05:31.598Z"
   },
   {
    "duration": 48,
    "start_time": "2023-07-12T06:05:38.443Z"
   },
   {
    "duration": 12,
    "start_time": "2023-07-12T06:05:55.844Z"
   },
   {
    "duration": 10,
    "start_time": "2023-07-12T06:06:39.670Z"
   },
   {
    "duration": 2,
    "start_time": "2023-07-12T06:10:13.844Z"
   },
   {
    "duration": 1138,
    "start_time": "2023-07-12T06:10:56.529Z"
   },
   {
    "duration": 16,
    "start_time": "2023-07-12T06:10:57.668Z"
   },
   {
    "duration": 6,
    "start_time": "2023-07-12T06:10:57.685Z"
   },
   {
    "duration": 44,
    "start_time": "2023-07-12T06:10:57.693Z"
   },
   {
    "duration": 11,
    "start_time": "2023-07-12T06:10:57.739Z"
   },
   {
    "duration": 39,
    "start_time": "2023-07-12T06:10:57.751Z"
   },
   {
    "duration": 19,
    "start_time": "2023-07-12T06:10:57.792Z"
   },
   {
    "duration": 17,
    "start_time": "2023-07-12T06:10:57.812Z"
   },
   {
    "duration": 28,
    "start_time": "2023-07-12T06:10:57.830Z"
   },
   {
    "duration": 14,
    "start_time": "2023-07-12T06:10:57.860Z"
   },
   {
    "duration": 30,
    "start_time": "2023-07-12T06:10:57.875Z"
   },
   {
    "duration": 25,
    "start_time": "2023-07-12T06:10:57.907Z"
   },
   {
    "duration": 32,
    "start_time": "2023-07-12T06:10:57.934Z"
   },
   {
    "duration": 22,
    "start_time": "2023-07-12T06:10:57.968Z"
   },
   {
    "duration": 31,
    "start_time": "2023-07-12T06:10:57.991Z"
   },
   {
    "duration": 35,
    "start_time": "2023-07-12T06:10:58.023Z"
   },
   {
    "duration": 16,
    "start_time": "2023-07-12T06:10:58.060Z"
   },
   {
    "duration": 32,
    "start_time": "2023-07-12T06:10:58.078Z"
   },
   {
    "duration": 23,
    "start_time": "2023-07-12T06:10:58.112Z"
   },
   {
    "duration": 30,
    "start_time": "2023-07-12T06:10:58.137Z"
   },
   {
    "duration": 16,
    "start_time": "2023-07-12T06:10:58.168Z"
   },
   {
    "duration": 7,
    "start_time": "2023-07-12T06:10:58.186Z"
   },
   {
    "duration": 93,
    "start_time": "2023-07-12T06:18:04.583Z"
   },
   {
    "duration": 10,
    "start_time": "2023-07-12T06:20:07.427Z"
   },
   {
    "duration": 17,
    "start_time": "2023-07-12T06:20:23.551Z"
   },
   {
    "duration": 117,
    "start_time": "2023-07-12T06:21:28.929Z"
   },
   {
    "duration": 345,
    "start_time": "2023-07-12T06:21:35.715Z"
   },
   {
    "duration": 13,
    "start_time": "2023-07-12T06:22:21.701Z"
   },
   {
    "duration": 10,
    "start_time": "2023-07-12T06:22:37.362Z"
   },
   {
    "duration": 304,
    "start_time": "2023-07-12T06:22:45.860Z"
   },
   {
    "duration": 295,
    "start_time": "2023-07-12T06:23:09.986Z"
   },
   {
    "duration": 12,
    "start_time": "2023-07-12T06:23:40.031Z"
   },
   {
    "duration": 13,
    "start_time": "2023-07-12T06:27:06.977Z"
   },
   {
    "duration": 332,
    "start_time": "2023-07-12T06:27:44.726Z"
   },
   {
    "duration": 326,
    "start_time": "2023-07-12T06:27:59.956Z"
   },
   {
    "duration": 322,
    "start_time": "2023-07-12T06:28:13.577Z"
   },
   {
    "duration": 324,
    "start_time": "2023-07-12T06:30:28.568Z"
   },
   {
    "duration": 14,
    "start_time": "2023-07-12T06:33:50.259Z"
   },
   {
    "duration": 409,
    "start_time": "2023-07-12T06:35:36.693Z"
   },
   {
    "duration": 359,
    "start_time": "2023-07-12T06:36:31.074Z"
   },
   {
    "duration": 368,
    "start_time": "2023-07-12T06:37:19.437Z"
   },
   {
    "duration": 298,
    "start_time": "2023-07-12T06:37:29.794Z"
   },
   {
    "duration": 309,
    "start_time": "2023-07-12T06:38:51.654Z"
   },
   {
    "duration": 324,
    "start_time": "2023-07-12T06:39:31.832Z"
   },
   {
    "duration": 336,
    "start_time": "2023-07-12T06:40:24.213Z"
   },
   {
    "duration": 9,
    "start_time": "2023-07-12T06:51:30.231Z"
   },
   {
    "duration": 10,
    "start_time": "2023-07-12T06:51:44.030Z"
   },
   {
    "duration": 18,
    "start_time": "2023-07-12T06:52:11.316Z"
   },
   {
    "duration": 16,
    "start_time": "2023-07-12T06:52:49.218Z"
   },
   {
    "duration": 11,
    "start_time": "2023-07-12T06:53:07.692Z"
   },
   {
    "duration": 10,
    "start_time": "2023-07-12T06:53:38.313Z"
   },
   {
    "duration": 9,
    "start_time": "2023-07-12T06:54:02.652Z"
   },
   {
    "duration": 16,
    "start_time": "2023-07-12T06:54:09.072Z"
   },
   {
    "duration": 10,
    "start_time": "2023-07-12T06:55:14.470Z"
   },
   {
    "duration": 10,
    "start_time": "2023-07-12T06:55:35.026Z"
   },
   {
    "duration": 11,
    "start_time": "2023-07-12T06:55:48.261Z"
   },
   {
    "duration": 10,
    "start_time": "2023-07-12T06:56:02.583Z"
   },
   {
    "duration": 12,
    "start_time": "2023-07-12T06:56:14.354Z"
   },
   {
    "duration": 13,
    "start_time": "2023-07-12T06:58:52.814Z"
   },
   {
    "duration": 19,
    "start_time": "2023-07-12T06:59:10.489Z"
   },
   {
    "duration": 34,
    "start_time": "2023-07-12T07:00:21.664Z"
   },
   {
    "duration": 20,
    "start_time": "2023-07-12T07:01:51.503Z"
   },
   {
    "duration": 1224,
    "start_time": "2023-07-12T07:22:33.233Z"
   },
   {
    "duration": 14,
    "start_time": "2023-07-12T07:22:34.458Z"
   },
   {
    "duration": 9,
    "start_time": "2023-07-12T07:22:34.474Z"
   },
   {
    "duration": 62,
    "start_time": "2023-07-12T07:22:34.485Z"
   },
   {
    "duration": 10,
    "start_time": "2023-07-12T07:22:34.549Z"
   },
   {
    "duration": 43,
    "start_time": "2023-07-12T07:22:34.561Z"
   },
   {
    "duration": 19,
    "start_time": "2023-07-12T07:22:34.606Z"
   },
   {
    "duration": 7,
    "start_time": "2023-07-12T07:22:34.626Z"
   },
   {
    "duration": 15,
    "start_time": "2023-07-12T07:22:34.634Z"
   },
   {
    "duration": 13,
    "start_time": "2023-07-12T07:22:34.651Z"
   },
   {
    "duration": 5,
    "start_time": "2023-07-12T07:22:34.675Z"
   },
   {
    "duration": 30,
    "start_time": "2023-07-12T07:22:34.681Z"
   },
   {
    "duration": 15,
    "start_time": "2023-07-12T07:22:34.712Z"
   },
   {
    "duration": 8,
    "start_time": "2023-07-12T07:22:34.728Z"
   },
   {
    "duration": 45,
    "start_time": "2023-07-12T07:22:34.738Z"
   },
   {
    "duration": 28,
    "start_time": "2023-07-12T07:22:34.784Z"
   },
   {
    "duration": 10,
    "start_time": "2023-07-12T07:22:34.813Z"
   },
   {
    "duration": 15,
    "start_time": "2023-07-12T07:22:34.824Z"
   },
   {
    "duration": 21,
    "start_time": "2023-07-12T07:22:34.841Z"
   },
   {
    "duration": 67,
    "start_time": "2023-07-12T07:22:34.863Z"
   },
   {
    "duration": 368,
    "start_time": "2023-07-12T07:22:34.932Z"
   },
   {
    "duration": 22,
    "start_time": "2023-07-12T07:22:35.301Z"
   },
   {
    "duration": 26,
    "start_time": "2023-07-12T07:22:35.324Z"
   },
   {
    "duration": 127,
    "start_time": "2023-07-12T07:25:10.002Z"
   },
   {
    "duration": 3,
    "start_time": "2023-07-12T07:25:12.920Z"
   },
   {
    "duration": 499,
    "start_time": "2023-07-12T07:25:14.265Z"
   },
   {
    "duration": 63,
    "start_time": "2023-07-12T07:25:42.825Z"
   },
   {
    "duration": 41,
    "start_time": "2023-07-12T07:25:50.551Z"
   },
   {
    "duration": 45,
    "start_time": "2023-07-12T07:25:54.529Z"
   },
   {
    "duration": 69,
    "start_time": "2023-07-12T07:26:02.594Z"
   },
   {
    "duration": 44,
    "start_time": "2023-07-12T08:01:26.991Z"
   },
   {
    "duration": 3,
    "start_time": "2023-07-12T08:01:30.038Z"
   },
   {
    "duration": 55,
    "start_time": "2023-07-12T08:01:30.554Z"
   },
   {
    "duration": 87,
    "start_time": "2023-07-12T08:02:43.957Z"
   },
   {
    "duration": 3,
    "start_time": "2023-07-12T08:02:57.892Z"
   },
   {
    "duration": 9,
    "start_time": "2023-07-12T08:02:58.556Z"
   },
   {
    "duration": 3,
    "start_time": "2023-07-12T08:03:01.866Z"
   },
   {
    "duration": 3,
    "start_time": "2023-07-12T08:03:02.393Z"
   },
   {
    "duration": 58,
    "start_time": "2023-07-12T08:03:02.823Z"
   },
   {
    "duration": 52,
    "start_time": "2023-07-12T08:06:13.758Z"
   },
   {
    "duration": 20,
    "start_time": "2023-07-12T08:17:13.107Z"
   },
   {
    "duration": 18,
    "start_time": "2023-07-12T08:17:48.618Z"
   },
   {
    "duration": 21,
    "start_time": "2023-07-12T08:21:09.005Z"
   },
   {
    "duration": 36,
    "start_time": "2023-07-12T08:21:21.538Z"
   },
   {
    "duration": 18,
    "start_time": "2023-07-12T08:22:00.773Z"
   },
   {
    "duration": 11,
    "start_time": "2023-07-12T08:46:06.371Z"
   },
   {
    "duration": 667,
    "start_time": "2023-07-12T08:46:22.384Z"
   },
   {
    "duration": 72,
    "start_time": "2023-07-12T12:22:57.192Z"
   },
   {
    "duration": 113,
    "start_time": "2023-07-12T12:23:08.100Z"
   },
   {
    "duration": 34,
    "start_time": "2023-07-12T12:23:37.860Z"
   },
   {
    "duration": 38,
    "start_time": "2023-07-12T12:24:25.996Z"
   },
   {
    "duration": 2,
    "start_time": "2023-07-12T12:37:14.852Z"
   },
   {
    "duration": 26,
    "start_time": "2023-07-12T12:46:54.042Z"
   },
   {
    "duration": 19,
    "start_time": "2023-07-12T12:47:06.357Z"
   },
   {
    "duration": 16,
    "start_time": "2023-07-12T12:47:40.761Z"
   },
   {
    "duration": 11,
    "start_time": "2023-07-12T12:47:51.197Z"
   },
   {
    "duration": 11,
    "start_time": "2023-07-12T12:48:26.088Z"
   },
   {
    "duration": 9,
    "start_time": "2023-07-12T12:53:47.924Z"
   },
   {
    "duration": 12,
    "start_time": "2023-07-12T12:54:05.054Z"
   },
   {
    "duration": 11,
    "start_time": "2023-07-12T12:54:23.967Z"
   },
   {
    "duration": 133,
    "start_time": "2023-07-12T13:36:41.684Z"
   },
   {
    "duration": 191,
    "start_time": "2023-07-12T13:38:05.097Z"
   },
   {
    "duration": 176,
    "start_time": "2023-07-12T13:40:21.186Z"
   },
   {
    "duration": 8,
    "start_time": "2023-07-12T13:40:56.691Z"
   },
   {
    "duration": 22,
    "start_time": "2023-07-12T13:41:30.692Z"
   },
   {
    "duration": 22,
    "start_time": "2023-07-12T13:42:01.550Z"
   },
   {
    "duration": 20,
    "start_time": "2023-07-12T13:42:23.218Z"
   },
   {
    "duration": 29,
    "start_time": "2023-07-12T13:44:53.930Z"
   },
   {
    "duration": 144,
    "start_time": "2023-07-12T13:46:23.433Z"
   },
   {
    "duration": 198,
    "start_time": "2023-07-12T13:48:59.553Z"
   },
   {
    "duration": 220,
    "start_time": "2023-07-12T13:49:08.345Z"
   },
   {
    "duration": 22,
    "start_time": "2023-07-12T13:50:44.822Z"
   },
   {
    "duration": 28,
    "start_time": "2023-07-12T14:07:58.210Z"
   },
   {
    "duration": 22,
    "start_time": "2023-07-12T15:34:13.643Z"
   },
   {
    "duration": 30,
    "start_time": "2023-07-12T15:34:37.184Z"
   },
   {
    "duration": 21,
    "start_time": "2023-07-12T15:34:46.455Z"
   },
   {
    "duration": 22,
    "start_time": "2023-07-12T15:35:00.518Z"
   },
   {
    "duration": 6,
    "start_time": "2023-07-12T15:38:43.324Z"
   },
   {
    "duration": 7,
    "start_time": "2023-07-12T15:38:55.760Z"
   },
   {
    "duration": 212,
    "start_time": "2023-07-12T15:39:21.105Z"
   },
   {
    "duration": 11,
    "start_time": "2023-07-12T15:40:26.785Z"
   },
   {
    "duration": 303,
    "start_time": "2023-07-12T15:41:21.892Z"
   },
   {
    "duration": 205,
    "start_time": "2023-07-12T15:41:29.343Z"
   },
   {
    "duration": 23,
    "start_time": "2023-07-12T15:42:08.834Z"
   },
   {
    "duration": 6,
    "start_time": "2023-07-12T15:42:14.409Z"
   },
   {
    "duration": 9,
    "start_time": "2023-07-12T15:42:15.254Z"
   },
   {
    "duration": 202,
    "start_time": "2023-07-12T15:42:18.297Z"
   },
   {
    "duration": 12,
    "start_time": "2023-07-12T15:42:21.809Z"
   },
   {
    "duration": 11,
    "start_time": "2023-07-12T15:45:05.829Z"
   },
   {
    "duration": 4,
    "start_time": "2023-07-12T16:08:59.284Z"
   },
   {
    "duration": 5,
    "start_time": "2023-07-12T16:11:22.504Z"
   },
   {
    "duration": 23,
    "start_time": "2023-07-12T16:11:28.299Z"
   },
   {
    "duration": 22,
    "start_time": "2023-07-12T16:15:13.932Z"
   },
   {
    "duration": 367,
    "start_time": "2023-07-12T16:15:44.385Z"
   },
   {
    "duration": 315,
    "start_time": "2023-07-12T16:16:18.944Z"
   },
   {
    "duration": 436,
    "start_time": "2023-07-12T16:17:57.163Z"
   },
   {
    "duration": 17,
    "start_time": "2023-07-12T16:18:24.441Z"
   },
   {
    "duration": 19,
    "start_time": "2023-07-12T16:18:43.113Z"
   },
   {
    "duration": 9,
    "start_time": "2023-07-12T16:18:59.393Z"
   },
   {
    "duration": 297,
    "start_time": "2023-07-12T16:20:08.516Z"
   },
   {
    "duration": 290,
    "start_time": "2023-07-12T16:27:29.241Z"
   },
   {
    "duration": 336,
    "start_time": "2023-07-12T16:27:46.782Z"
   },
   {
    "duration": 354,
    "start_time": "2023-07-12T16:28:20.358Z"
   },
   {
    "duration": 293,
    "start_time": "2023-07-12T16:28:53.467Z"
   },
   {
    "duration": 315,
    "start_time": "2023-07-12T16:46:28.303Z"
   },
   {
    "duration": 12,
    "start_time": "2023-07-12T16:48:22.692Z"
   },
   {
    "duration": 11,
    "start_time": "2023-07-12T16:48:38.320Z"
   },
   {
    "duration": 10,
    "start_time": "2023-07-12T16:50:41.523Z"
   },
   {
    "duration": 11,
    "start_time": "2023-07-12T16:50:47.727Z"
   },
   {
    "duration": 21,
    "start_time": "2023-07-12T16:54:01.057Z"
   },
   {
    "duration": 15,
    "start_time": "2023-07-12T16:54:49.454Z"
   },
   {
    "duration": 14,
    "start_time": "2023-07-12T16:55:44.921Z"
   },
   {
    "duration": 1255,
    "start_time": "2023-07-12T16:55:56.411Z"
   },
   {
    "duration": 19,
    "start_time": "2023-07-12T16:55:57.668Z"
   },
   {
    "duration": 22,
    "start_time": "2023-07-12T16:55:57.689Z"
   },
   {
    "duration": 47,
    "start_time": "2023-07-12T16:55:57.713Z"
   },
   {
    "duration": 14,
    "start_time": "2023-07-12T16:55:57.762Z"
   },
   {
    "duration": 44,
    "start_time": "2023-07-12T16:55:57.777Z"
   },
   {
    "duration": 18,
    "start_time": "2023-07-12T16:55:57.823Z"
   },
   {
    "duration": 7,
    "start_time": "2023-07-12T16:55:57.842Z"
   },
   {
    "duration": 11,
    "start_time": "2023-07-12T16:55:57.851Z"
   },
   {
    "duration": 19,
    "start_time": "2023-07-12T16:55:57.878Z"
   },
   {
    "duration": 10,
    "start_time": "2023-07-12T16:55:57.898Z"
   },
   {
    "duration": 18,
    "start_time": "2023-07-12T16:55:57.909Z"
   },
   {
    "duration": 21,
    "start_time": "2023-07-12T16:55:57.929Z"
   },
   {
    "duration": 4,
    "start_time": "2023-07-12T16:55:57.951Z"
   },
   {
    "duration": 31,
    "start_time": "2023-07-12T16:55:57.956Z"
   },
   {
    "duration": 28,
    "start_time": "2023-07-12T16:55:57.989Z"
   },
   {
    "duration": 10,
    "start_time": "2023-07-12T16:55:58.018Z"
   },
   {
    "duration": 21,
    "start_time": "2023-07-12T16:55:58.030Z"
   },
   {
    "duration": 16,
    "start_time": "2023-07-12T16:55:58.053Z"
   },
   {
    "duration": 34,
    "start_time": "2023-07-12T16:55:58.070Z"
   },
   {
    "duration": 427,
    "start_time": "2023-07-12T16:55:58.105Z"
   },
   {
    "duration": 21,
    "start_time": "2023-07-12T16:55:58.534Z"
   },
   {
    "duration": 3,
    "start_time": "2023-07-12T16:55:58.557Z"
   },
   {
    "duration": 23,
    "start_time": "2023-07-12T16:55:58.562Z"
   },
   {
    "duration": 66,
    "start_time": "2023-07-12T16:55:58.588Z"
   },
   {
    "duration": 16,
    "start_time": "2023-07-12T16:55:58.656Z"
   },
   {
    "duration": 483,
    "start_time": "2023-07-12T16:55:58.674Z"
   },
   {
    "duration": 24,
    "start_time": "2023-07-12T16:55:59.160Z"
   },
   {
    "duration": 30,
    "start_time": "2023-07-12T16:55:59.185Z"
   },
   {
    "duration": 311,
    "start_time": "2023-07-12T16:55:59.217Z"
   },
   {
    "duration": 132,
    "start_time": "2023-07-12T16:55:59.529Z"
   },
   {
    "duration": 23,
    "start_time": "2023-07-12T16:55:59.662Z"
   },
   {
    "duration": 39,
    "start_time": "2023-07-12T16:55:59.687Z"
   },
   {
    "duration": 6,
    "start_time": "2023-07-12T16:55:59.728Z"
   },
   {
    "duration": 8,
    "start_time": "2023-07-12T16:55:59.735Z"
   },
   {
    "duration": 270,
    "start_time": "2023-07-12T16:55:59.744Z"
   },
   {
    "duration": 12,
    "start_time": "2023-07-12T16:56:00.015Z"
   },
   {
    "duration": 36,
    "start_time": "2023-07-12T16:56:00.029Z"
   },
   {
    "duration": 24,
    "start_time": "2023-07-12T16:56:00.067Z"
   },
   {
    "duration": 362,
    "start_time": "2023-07-12T16:56:00.092Z"
   },
   {
    "duration": 16,
    "start_time": "2023-07-12T17:09:43.257Z"
   },
   {
    "duration": 7,
    "start_time": "2023-07-12T17:10:03.724Z"
   },
   {
    "duration": 9,
    "start_time": "2023-07-12T17:10:21.405Z"
   },
   {
    "duration": 10,
    "start_time": "2023-07-12T17:10:31.131Z"
   },
   {
    "duration": 21,
    "start_time": "2023-07-12T17:14:26.097Z"
   },
   {
    "duration": 8,
    "start_time": "2023-07-12T17:18:29.244Z"
   },
   {
    "duration": 10,
    "start_time": "2023-07-12T17:18:35.801Z"
   },
   {
    "duration": 147,
    "start_time": "2023-07-12T17:19:28.433Z"
   },
   {
    "duration": 638,
    "start_time": "2023-07-12T17:19:54.546Z"
   },
   {
    "duration": 12,
    "start_time": "2023-07-12T17:20:05.739Z"
   },
   {
    "duration": 17,
    "start_time": "2023-07-12T17:24:37.264Z"
   },
   {
    "duration": 10,
    "start_time": "2023-07-12T17:24:53.960Z"
   },
   {
    "duration": 10,
    "start_time": "2023-07-12T17:26:05.819Z"
   },
   {
    "duration": 13,
    "start_time": "2023-07-12T17:27:42.266Z"
   },
   {
    "duration": 14,
    "start_time": "2023-07-12T17:29:57.641Z"
   },
   {
    "duration": 11,
    "start_time": "2023-07-12T17:30:15.925Z"
   },
   {
    "duration": 16,
    "start_time": "2023-07-12T17:36:41.160Z"
   },
   {
    "duration": 1615,
    "start_time": "2023-07-12T17:37:17.998Z"
   },
   {
    "duration": 16,
    "start_time": "2023-07-12T17:37:30.761Z"
   },
   {
    "duration": 20,
    "start_time": "2023-07-12T17:42:07.397Z"
   },
   {
    "duration": 61,
    "start_time": "2023-07-12T17:42:37.836Z"
   },
   {
    "duration": 68,
    "start_time": "2023-07-12T17:42:51.301Z"
   },
   {
    "duration": 13,
    "start_time": "2023-07-12T17:48:49.701Z"
   },
   {
    "duration": 249,
    "start_time": "2023-07-12T17:49:46.021Z"
   },
   {
    "duration": 291,
    "start_time": "2023-07-12T17:54:31.033Z"
   },
   {
    "duration": 13,
    "start_time": "2023-07-12T17:55:39.066Z"
   },
   {
    "duration": 111,
    "start_time": "2023-07-12T17:59:52.807Z"
   },
   {
    "duration": 402,
    "start_time": "2023-07-12T18:05:12.136Z"
   },
   {
    "duration": 249,
    "start_time": "2023-07-12T18:05:28.326Z"
   },
   {
    "duration": 267,
    "start_time": "2023-07-12T18:09:12.200Z"
   },
   {
    "duration": 228,
    "start_time": "2023-07-12T18:14:27.231Z"
   },
   {
    "duration": 1730,
    "start_time": "2023-07-13T04:07:13.841Z"
   },
   {
    "duration": 18,
    "start_time": "2023-07-13T04:07:15.573Z"
   },
   {
    "duration": 18,
    "start_time": "2023-07-13T04:07:15.592Z"
   },
   {
    "duration": 64,
    "start_time": "2023-07-13T04:07:15.613Z"
   },
   {
    "duration": 13,
    "start_time": "2023-07-13T04:07:15.678Z"
   },
   {
    "duration": 32,
    "start_time": "2023-07-13T04:07:15.692Z"
   },
   {
    "duration": 43,
    "start_time": "2023-07-13T04:07:15.726Z"
   },
   {
    "duration": 9,
    "start_time": "2023-07-13T04:07:15.770Z"
   },
   {
    "duration": 19,
    "start_time": "2023-07-13T04:07:15.781Z"
   },
   {
    "duration": 24,
    "start_time": "2023-07-13T04:07:15.803Z"
   },
   {
    "duration": 13,
    "start_time": "2023-07-13T04:07:15.829Z"
   },
   {
    "duration": 44,
    "start_time": "2023-07-13T04:07:15.844Z"
   },
   {
    "duration": 20,
    "start_time": "2023-07-13T04:07:15.890Z"
   },
   {
    "duration": 8,
    "start_time": "2023-07-13T04:07:15.912Z"
   },
   {
    "duration": 20,
    "start_time": "2023-07-13T04:07:15.922Z"
   },
   {
    "duration": 24,
    "start_time": "2023-07-13T04:07:15.944Z"
   },
   {
    "duration": 12,
    "start_time": "2023-07-13T04:07:15.969Z"
   },
   {
    "duration": 12,
    "start_time": "2023-07-13T04:07:15.982Z"
   },
   {
    "duration": 10,
    "start_time": "2023-07-13T04:07:15.996Z"
   },
   {
    "duration": 26,
    "start_time": "2023-07-13T04:07:16.007Z"
   },
   {
    "duration": 469,
    "start_time": "2023-07-13T04:07:16.034Z"
   },
   {
    "duration": 21,
    "start_time": "2023-07-13T04:07:16.506Z"
   },
   {
    "duration": 99,
    "start_time": "2023-07-13T04:07:16.528Z"
   },
   {
    "duration": 121,
    "start_time": "2023-07-13T04:07:16.629Z"
   },
   {
    "duration": 79,
    "start_time": "2023-07-13T04:07:16.752Z"
   },
   {
    "duration": 111,
    "start_time": "2023-07-13T04:07:16.833Z"
   },
   {
    "duration": 0,
    "start_time": "2023-07-13T04:07:16.947Z"
   },
   {
    "duration": 0,
    "start_time": "2023-07-13T04:07:16.948Z"
   },
   {
    "duration": 0,
    "start_time": "2023-07-13T04:07:16.952Z"
   },
   {
    "duration": 0,
    "start_time": "2023-07-13T04:07:16.954Z"
   },
   {
    "duration": 0,
    "start_time": "2023-07-13T04:07:16.955Z"
   },
   {
    "duration": 0,
    "start_time": "2023-07-13T04:07:16.962Z"
   },
   {
    "duration": 0,
    "start_time": "2023-07-13T04:07:16.964Z"
   },
   {
    "duration": 0,
    "start_time": "2023-07-13T04:07:16.965Z"
   },
   {
    "duration": 0,
    "start_time": "2023-07-13T04:07:16.966Z"
   },
   {
    "duration": 0,
    "start_time": "2023-07-13T04:07:16.966Z"
   },
   {
    "duration": 0,
    "start_time": "2023-07-13T04:07:16.967Z"
   },
   {
    "duration": 0,
    "start_time": "2023-07-13T04:07:16.968Z"
   },
   {
    "duration": 0,
    "start_time": "2023-07-13T04:07:16.969Z"
   },
   {
    "duration": 0,
    "start_time": "2023-07-13T04:07:16.969Z"
   },
   {
    "duration": 0,
    "start_time": "2023-07-13T04:07:16.970Z"
   },
   {
    "duration": 0,
    "start_time": "2023-07-13T04:07:16.971Z"
   },
   {
    "duration": 5,
    "start_time": "2023-07-13T04:18:34.981Z"
   },
   {
    "duration": 5,
    "start_time": "2023-07-13T04:20:14.930Z"
   },
   {
    "duration": 1499,
    "start_time": "2023-07-13T04:20:25.349Z"
   },
   {
    "duration": 23,
    "start_time": "2023-07-13T04:20:26.850Z"
   },
   {
    "duration": 6,
    "start_time": "2023-07-13T04:20:26.874Z"
   },
   {
    "duration": 48,
    "start_time": "2023-07-13T04:20:26.882Z"
   },
   {
    "duration": 5,
    "start_time": "2023-07-13T04:20:26.932Z"
   },
   {
    "duration": 40,
    "start_time": "2023-07-13T04:20:26.951Z"
   },
   {
    "duration": 40,
    "start_time": "2023-07-13T04:20:26.993Z"
   },
   {
    "duration": 34,
    "start_time": "2023-07-13T04:20:27.035Z"
   },
   {
    "duration": 9,
    "start_time": "2023-07-13T04:20:27.071Z"
   },
   {
    "duration": 100,
    "start_time": "2023-07-13T04:20:27.084Z"
   },
   {
    "duration": 16,
    "start_time": "2023-07-13T04:20:27.186Z"
   },
   {
    "duration": 14,
    "start_time": "2023-07-13T04:20:27.203Z"
   },
   {
    "duration": 20,
    "start_time": "2023-07-13T04:20:27.219Z"
   },
   {
    "duration": 27,
    "start_time": "2023-07-13T04:20:27.241Z"
   },
   {
    "duration": 5,
    "start_time": "2023-07-13T04:20:27.271Z"
   },
   {
    "duration": 20,
    "start_time": "2023-07-13T04:20:27.278Z"
   },
   {
    "duration": 21,
    "start_time": "2023-07-13T04:20:27.300Z"
   },
   {
    "duration": 14,
    "start_time": "2023-07-13T04:20:27.323Z"
   },
   {
    "duration": 254,
    "start_time": "2023-07-13T04:20:27.356Z"
   },
   {
    "duration": 14,
    "start_time": "2023-07-13T04:20:27.612Z"
   },
   {
    "duration": 65,
    "start_time": "2023-07-13T04:20:27.628Z"
   },
   {
    "duration": 420,
    "start_time": "2023-07-13T04:20:27.695Z"
   },
   {
    "duration": 33,
    "start_time": "2023-07-13T04:20:28.117Z"
   },
   {
    "duration": 25,
    "start_time": "2023-07-13T04:20:28.153Z"
   },
   {
    "duration": 5,
    "start_time": "2023-07-13T04:20:28.181Z"
   },
   {
    "duration": 106,
    "start_time": "2023-07-13T04:20:28.188Z"
   },
   {
    "duration": 25,
    "start_time": "2023-07-13T04:20:28.296Z"
   },
   {
    "duration": 437,
    "start_time": "2023-07-13T04:20:28.325Z"
   },
   {
    "duration": 17,
    "start_time": "2023-07-13T04:20:28.769Z"
   },
   {
    "duration": 191,
    "start_time": "2023-07-13T04:20:28.788Z"
   },
   {
    "duration": 237,
    "start_time": "2023-07-13T04:20:28.981Z"
   },
   {
    "duration": 13,
    "start_time": "2023-07-13T04:20:29.221Z"
   },
   {
    "duration": 43,
    "start_time": "2023-07-13T04:20:29.236Z"
   },
   {
    "duration": 14,
    "start_time": "2023-07-13T04:20:29.281Z"
   },
   {
    "duration": 15,
    "start_time": "2023-07-13T04:20:29.297Z"
   },
   {
    "duration": 249,
    "start_time": "2023-07-13T04:20:29.314Z"
   },
   {
    "duration": 13,
    "start_time": "2023-07-13T04:20:29.564Z"
   },
   {
    "duration": 9,
    "start_time": "2023-07-13T04:20:29.578Z"
   },
   {
    "duration": 7,
    "start_time": "2023-07-13T04:20:29.589Z"
   },
   {
    "duration": 374,
    "start_time": "2023-07-13T04:20:29.598Z"
   },
   {
    "duration": 13,
    "start_time": "2023-07-13T04:20:29.974Z"
   },
   {
    "duration": 291,
    "start_time": "2023-07-13T04:20:29.989Z"
   },
   {
    "duration": 3372,
    "start_time": "2023-07-13T04:20:46.957Z"
   },
   {
    "duration": 15,
    "start_time": "2023-07-13T04:21:03.790Z"
   },
   {
    "duration": 9,
    "start_time": "2023-07-13T04:23:59.827Z"
   },
   {
    "duration": 18,
    "start_time": "2023-07-13T04:24:48.694Z"
   },
   {
    "duration": 32,
    "start_time": "2023-07-13T04:25:51.854Z"
   },
   {
    "duration": 357,
    "start_time": "2023-07-13T04:26:29.912Z"
   },
   {
    "duration": 30,
    "start_time": "2023-07-13T04:27:21.081Z"
   },
   {
    "duration": 21,
    "start_time": "2023-07-13T04:28:00.671Z"
   },
   {
    "duration": 21,
    "start_time": "2023-07-13T04:28:09.387Z"
   },
   {
    "duration": 45,
    "start_time": "2023-07-13T04:32:40.619Z"
   },
   {
    "duration": 14,
    "start_time": "2023-07-13T04:34:07.634Z"
   },
   {
    "duration": 15,
    "start_time": "2023-07-13T04:34:44.085Z"
   },
   {
    "duration": 14,
    "start_time": "2023-07-13T04:35:03.371Z"
   },
   {
    "duration": 26,
    "start_time": "2023-07-13T04:39:04.251Z"
   },
   {
    "duration": 17,
    "start_time": "2023-07-13T04:39:13.887Z"
   },
   {
    "duration": 13,
    "start_time": "2023-07-13T04:42:12.126Z"
   },
   {
    "duration": 13,
    "start_time": "2023-07-13T04:42:20.323Z"
   },
   {
    "duration": 16,
    "start_time": "2023-07-13T04:42:25.693Z"
   },
   {
    "duration": 25,
    "start_time": "2023-07-13T04:42:56.848Z"
   },
   {
    "duration": 18,
    "start_time": "2023-07-13T04:43:45.673Z"
   },
   {
    "duration": 21,
    "start_time": "2023-07-13T04:48:15.867Z"
   },
   {
    "duration": 20,
    "start_time": "2023-07-13T04:48:31.533Z"
   },
   {
    "duration": 108,
    "start_time": "2023-07-13T05:01:58.329Z"
   },
   {
    "duration": 28,
    "start_time": "2023-07-13T05:02:36.488Z"
   },
   {
    "duration": 26,
    "start_time": "2023-07-13T05:02:50.668Z"
   },
   {
    "duration": 28,
    "start_time": "2023-07-13T05:03:36.393Z"
   },
   {
    "duration": 15,
    "start_time": "2023-07-13T05:05:46.419Z"
   },
   {
    "duration": 6,
    "start_time": "2023-07-13T05:06:12.547Z"
   },
   {
    "duration": 86,
    "start_time": "2023-07-13T05:08:14.235Z"
   },
   {
    "duration": 38,
    "start_time": "2023-07-13T05:08:31.189Z"
   },
   {
    "duration": 29,
    "start_time": "2023-07-13T05:09:34.140Z"
   },
   {
    "duration": 19,
    "start_time": "2023-07-13T05:13:57.683Z"
   },
   {
    "duration": 29,
    "start_time": "2023-07-13T05:14:18.151Z"
   },
   {
    "duration": 24,
    "start_time": "2023-07-13T05:26:20.634Z"
   },
   {
    "duration": 18,
    "start_time": "2023-07-13T05:26:34.979Z"
   },
   {
    "duration": 151,
    "start_time": "2023-07-13T05:32:46.557Z"
   },
   {
    "duration": 5,
    "start_time": "2023-07-13T05:34:34.283Z"
   },
   {
    "duration": 18,
    "start_time": "2023-07-13T05:34:44.086Z"
   },
   {
    "duration": 1424,
    "start_time": "2023-07-13T05:35:06.638Z"
   },
   {
    "duration": 17,
    "start_time": "2023-07-13T05:35:08.065Z"
   },
   {
    "duration": 4,
    "start_time": "2023-07-13T05:35:08.084Z"
   },
   {
    "duration": 71,
    "start_time": "2023-07-13T05:35:08.090Z"
   },
   {
    "duration": 6,
    "start_time": "2023-07-13T05:35:08.164Z"
   },
   {
    "duration": 47,
    "start_time": "2023-07-13T05:35:08.172Z"
   },
   {
    "duration": 49,
    "start_time": "2023-07-13T05:35:08.222Z"
   },
   {
    "duration": 25,
    "start_time": "2023-07-13T05:35:08.275Z"
   },
   {
    "duration": 26,
    "start_time": "2023-07-13T05:35:08.302Z"
   },
   {
    "duration": 12,
    "start_time": "2023-07-13T05:35:08.352Z"
   },
   {
    "duration": 51,
    "start_time": "2023-07-13T05:35:08.366Z"
   },
   {
    "duration": 27,
    "start_time": "2023-07-13T05:35:08.419Z"
   },
   {
    "duration": 25,
    "start_time": "2023-07-13T05:35:08.448Z"
   },
   {
    "duration": 33,
    "start_time": "2023-07-13T05:35:08.475Z"
   },
   {
    "duration": 36,
    "start_time": "2023-07-13T05:35:08.511Z"
   },
   {
    "duration": 6,
    "start_time": "2023-07-13T05:35:08.550Z"
   },
   {
    "duration": 23,
    "start_time": "2023-07-13T05:35:08.558Z"
   },
   {
    "duration": 21,
    "start_time": "2023-07-13T05:35:08.583Z"
   },
   {
    "duration": 11,
    "start_time": "2023-07-13T05:35:08.606Z"
   },
   {
    "duration": 33,
    "start_time": "2023-07-13T05:35:08.619Z"
   },
   {
    "duration": 6,
    "start_time": "2023-07-13T05:35:08.654Z"
   },
   {
    "duration": 21,
    "start_time": "2023-07-13T05:35:08.662Z"
   },
   {
    "duration": 16,
    "start_time": "2023-07-13T05:35:08.685Z"
   },
   {
    "duration": 8,
    "start_time": "2023-07-13T05:35:08.702Z"
   },
   {
    "duration": 51,
    "start_time": "2023-07-13T05:35:08.712Z"
   },
   {
    "duration": 459,
    "start_time": "2023-07-13T05:35:08.765Z"
   },
   {
    "duration": 22,
    "start_time": "2023-07-13T05:35:09.226Z"
   },
   {
    "duration": 3,
    "start_time": "2023-07-13T05:35:09.252Z"
   },
   {
    "duration": 9,
    "start_time": "2023-07-13T05:35:09.257Z"
   },
   {
    "duration": 78,
    "start_time": "2023-07-13T05:35:09.269Z"
   },
   {
    "duration": 28,
    "start_time": "2023-07-13T05:35:09.350Z"
   },
   {
    "duration": 481,
    "start_time": "2023-07-13T05:35:09.380Z"
   },
   {
    "duration": 16,
    "start_time": "2023-07-13T05:35:09.863Z"
   },
   {
    "duration": 18,
    "start_time": "2023-07-13T05:35:09.880Z"
   },
   {
    "duration": 344,
    "start_time": "2023-07-13T05:35:09.900Z"
   },
   {
    "duration": 18,
    "start_time": "2023-07-13T05:35:10.246Z"
   },
   {
    "duration": 54,
    "start_time": "2023-07-13T05:35:10.266Z"
   },
   {
    "duration": 8,
    "start_time": "2023-07-13T05:35:10.322Z"
   },
   {
    "duration": 29,
    "start_time": "2023-07-13T05:35:10.332Z"
   },
   {
    "duration": 277,
    "start_time": "2023-07-13T05:35:10.363Z"
   },
   {
    "duration": 18,
    "start_time": "2023-07-13T05:35:10.642Z"
   },
   {
    "duration": 18,
    "start_time": "2023-07-13T05:35:10.662Z"
   },
   {
    "duration": 15,
    "start_time": "2023-07-13T05:35:10.682Z"
   },
   {
    "duration": 341,
    "start_time": "2023-07-13T05:35:10.700Z"
   },
   {
    "duration": 20,
    "start_time": "2023-07-13T05:35:11.043Z"
   },
   {
    "duration": 498,
    "start_time": "2023-07-13T05:35:11.065Z"
   },
   {
    "duration": 17,
    "start_time": "2023-07-13T05:35:11.566Z"
   },
   {
    "duration": 75,
    "start_time": "2023-07-13T05:35:11.585Z"
   },
   {
    "duration": 4,
    "start_time": "2023-07-13T05:35:11.662Z"
   },
   {
    "duration": 30,
    "start_time": "2023-07-13T05:35:11.667Z"
   },
   {
    "duration": 13,
    "start_time": "2023-07-13T05:39:35.536Z"
   },
   {
    "duration": 8,
    "start_time": "2023-07-13T05:52:20.419Z"
   },
   {
    "duration": 153,
    "start_time": "2023-07-13T05:52:32.758Z"
   },
   {
    "duration": 4,
    "start_time": "2023-07-13T05:57:15.270Z"
   },
   {
    "duration": 117,
    "start_time": "2023-07-13T05:57:16.118Z"
   },
   {
    "duration": 29,
    "start_time": "2023-07-13T06:05:03.687Z"
   },
   {
    "duration": 27,
    "start_time": "2023-07-13T06:05:21.236Z"
   },
   {
    "duration": 26,
    "start_time": "2023-07-13T06:05:42.842Z"
   },
   {
    "duration": 24,
    "start_time": "2023-07-13T06:06:16.783Z"
   },
   {
    "duration": 7,
    "start_time": "2023-07-13T06:08:05.317Z"
   },
   {
    "duration": 95,
    "start_time": "2023-07-13T06:08:38.096Z"
   },
   {
    "duration": 140,
    "start_time": "2023-07-13T06:11:07.151Z"
   },
   {
    "duration": 2080,
    "start_time": "2023-07-13T12:23:57.046Z"
   },
   {
    "duration": 17,
    "start_time": "2023-07-13T12:23:59.128Z"
   },
   {
    "duration": 4,
    "start_time": "2023-07-13T12:23:59.147Z"
   },
   {
    "duration": 43,
    "start_time": "2023-07-13T12:23:59.153Z"
   },
   {
    "duration": 6,
    "start_time": "2023-07-13T12:23:59.198Z"
   },
   {
    "duration": 14,
    "start_time": "2023-07-13T12:23:59.205Z"
   },
   {
    "duration": 61,
    "start_time": "2023-07-13T12:23:59.221Z"
   },
   {
    "duration": 22,
    "start_time": "2023-07-13T12:23:59.283Z"
   },
   {
    "duration": 20,
    "start_time": "2023-07-13T12:23:59.307Z"
   },
   {
    "duration": 10,
    "start_time": "2023-07-13T12:23:59.355Z"
   },
   {
    "duration": 14,
    "start_time": "2023-07-13T12:23:59.367Z"
   },
   {
    "duration": 16,
    "start_time": "2023-07-13T12:23:59.382Z"
   },
   {
    "duration": 21,
    "start_time": "2023-07-13T12:23:59.400Z"
   },
   {
    "duration": 36,
    "start_time": "2023-07-13T12:23:59.422Z"
   },
   {
    "duration": 18,
    "start_time": "2023-07-13T12:23:59.460Z"
   },
   {
    "duration": 5,
    "start_time": "2023-07-13T12:23:59.479Z"
   },
   {
    "duration": 17,
    "start_time": "2023-07-13T12:23:59.486Z"
   },
   {
    "duration": 18,
    "start_time": "2023-07-13T12:23:59.504Z"
   },
   {
    "duration": 36,
    "start_time": "2023-07-13T12:23:59.524Z"
   },
   {
    "duration": 10,
    "start_time": "2023-07-13T12:23:59.561Z"
   },
   {
    "duration": 8,
    "start_time": "2023-07-13T12:23:59.572Z"
   },
   {
    "duration": 17,
    "start_time": "2023-07-13T12:23:59.581Z"
   },
   {
    "duration": 15,
    "start_time": "2023-07-13T12:23:59.600Z"
   },
   {
    "duration": 37,
    "start_time": "2023-07-13T12:23:59.617Z"
   },
   {
    "duration": 16,
    "start_time": "2023-07-13T12:23:59.656Z"
   },
   {
    "duration": 474,
    "start_time": "2023-07-13T12:23:59.673Z"
   },
   {
    "duration": 22,
    "start_time": "2023-07-13T12:24:00.149Z"
   },
   {
    "duration": 4,
    "start_time": "2023-07-13T12:24:00.174Z"
   },
   {
    "duration": 14,
    "start_time": "2023-07-13T12:24:00.179Z"
   },
   {
    "duration": 75,
    "start_time": "2023-07-13T12:24:00.194Z"
   },
   {
    "duration": 10,
    "start_time": "2023-07-13T12:24:00.271Z"
   },
   {
    "duration": 476,
    "start_time": "2023-07-13T12:24:00.283Z"
   },
   {
    "duration": 16,
    "start_time": "2023-07-13T12:24:00.760Z"
   },
   {
    "duration": 80,
    "start_time": "2023-07-13T12:24:00.778Z"
   },
   {
    "duration": 274,
    "start_time": "2023-07-13T12:24:00.860Z"
   },
   {
    "duration": 19,
    "start_time": "2023-07-13T12:24:01.136Z"
   },
   {
    "duration": 48,
    "start_time": "2023-07-13T12:24:01.157Z"
   },
   {
    "duration": 19,
    "start_time": "2023-07-13T12:24:01.207Z"
   },
   {
    "duration": 56,
    "start_time": "2023-07-13T12:24:01.228Z"
   },
   {
    "duration": 267,
    "start_time": "2023-07-13T12:24:01.285Z"
   },
   {
    "duration": 12,
    "start_time": "2023-07-13T12:24:01.554Z"
   },
   {
    "duration": 44,
    "start_time": "2023-07-13T12:24:01.567Z"
   },
   {
    "duration": 39,
    "start_time": "2023-07-13T12:24:01.613Z"
   },
   {
    "duration": 391,
    "start_time": "2023-07-13T12:24:01.654Z"
   },
   {
    "duration": 16,
    "start_time": "2023-07-13T12:24:02.047Z"
   },
   {
    "duration": 313,
    "start_time": "2023-07-13T12:24:02.064Z"
   },
   {
    "duration": 13,
    "start_time": "2023-07-13T12:24:02.379Z"
   },
   {
    "duration": 28,
    "start_time": "2023-07-13T12:24:02.394Z"
   },
   {
    "duration": 7,
    "start_time": "2023-07-13T12:24:02.425Z"
   },
   {
    "duration": 24,
    "start_time": "2023-07-13T12:24:02.434Z"
   },
   {
    "duration": 26,
    "start_time": "2023-07-13T12:24:02.460Z"
   },
   {
    "duration": 106,
    "start_time": "2023-07-13T12:24:02.488Z"
   },
   {
    "duration": 20,
    "start_time": "2023-07-13T12:24:02.596Z"
   },
   {
    "duration": 4,
    "start_time": "2023-07-13T12:24:02.619Z"
   },
   {
    "duration": 105,
    "start_time": "2023-07-13T12:24:02.624Z"
   },
   {
    "duration": 60,
    "start_time": "2023-07-13T12:26:06.667Z"
   },
   {
    "duration": 92,
    "start_time": "2023-07-13T12:26:07.440Z"
   },
   {
    "duration": 66,
    "start_time": "2023-07-13T12:27:06.043Z"
   },
   {
    "duration": 79,
    "start_time": "2023-07-13T12:27:06.693Z"
   },
   {
    "duration": 97,
    "start_time": "2023-07-13T12:27:26.899Z"
   },
   {
    "duration": 100,
    "start_time": "2023-07-13T12:27:28.315Z"
   },
   {
    "duration": 60,
    "start_time": "2023-07-13T12:27:41.739Z"
   },
   {
    "duration": 5,
    "start_time": "2023-07-13T12:28:29.543Z"
   },
   {
    "duration": 76,
    "start_time": "2023-07-13T12:28:30.846Z"
   },
   {
    "duration": 4,
    "start_time": "2023-07-13T12:28:48.442Z"
   },
   {
    "duration": 159,
    "start_time": "2023-07-13T12:28:49.406Z"
   },
   {
    "duration": 4,
    "start_time": "2023-07-13T12:29:03.839Z"
   },
   {
    "duration": 90,
    "start_time": "2023-07-13T12:29:04.351Z"
   },
   {
    "duration": 5,
    "start_time": "2023-07-13T12:41:10.050Z"
   },
   {
    "duration": 170,
    "start_time": "2023-07-13T12:41:26.526Z"
   },
   {
    "duration": 6,
    "start_time": "2023-07-13T12:41:32.232Z"
   },
   {
    "duration": 7,
    "start_time": "2023-07-13T12:42:01.618Z"
   },
   {
    "duration": 7,
    "start_time": "2023-07-13T12:43:53.475Z"
   },
   {
    "duration": 9,
    "start_time": "2023-07-13T12:44:27.218Z"
   },
   {
    "duration": 11,
    "start_time": "2023-07-13T12:45:40.831Z"
   },
   {
    "duration": 7,
    "start_time": "2023-07-13T12:49:02.514Z"
   },
   {
    "duration": 182,
    "start_time": "2023-07-13T12:49:38.618Z"
   },
   {
    "duration": 15,
    "start_time": "2023-07-13T12:49:46.023Z"
   },
   {
    "duration": 15,
    "start_time": "2023-07-13T12:50:13.114Z"
   },
   {
    "duration": 16,
    "start_time": "2023-07-13T12:50:22.582Z"
   },
   {
    "duration": 11,
    "start_time": "2023-07-13T12:50:35.130Z"
   },
   {
    "duration": 16,
    "start_time": "2023-07-13T12:51:08.146Z"
   },
   {
    "duration": 198,
    "start_time": "2023-07-13T12:51:57.338Z"
   },
   {
    "duration": 148,
    "start_time": "2023-07-13T12:52:12.622Z"
   },
   {
    "duration": 12,
    "start_time": "2023-07-13T12:52:28.310Z"
   },
   {
    "duration": 11,
    "start_time": "2023-07-13T12:54:47.030Z"
   },
   {
    "duration": 35,
    "start_time": "2023-07-13T12:54:47.831Z"
   },
   {
    "duration": 8,
    "start_time": "2023-07-13T12:55:39.618Z"
   },
   {
    "duration": 21,
    "start_time": "2023-07-13T12:57:41.722Z"
   },
   {
    "duration": 23,
    "start_time": "2023-07-13T12:58:36.540Z"
   },
   {
    "duration": 1602,
    "start_time": "2023-07-13T13:01:35.943Z"
   },
   {
    "duration": 25,
    "start_time": "2023-07-13T13:01:37.548Z"
   },
   {
    "duration": 6,
    "start_time": "2023-07-13T13:01:37.576Z"
   },
   {
    "duration": 81,
    "start_time": "2023-07-13T13:01:37.585Z"
   },
   {
    "duration": 7,
    "start_time": "2023-07-13T13:01:37.668Z"
   },
   {
    "duration": 20,
    "start_time": "2023-07-13T13:01:37.677Z"
   },
   {
    "duration": 62,
    "start_time": "2023-07-13T13:01:37.700Z"
   },
   {
    "duration": 22,
    "start_time": "2023-07-13T13:01:37.764Z"
   },
   {
    "duration": 22,
    "start_time": "2023-07-13T13:01:37.788Z"
   },
   {
    "duration": 41,
    "start_time": "2023-07-13T13:01:37.814Z"
   },
   {
    "duration": 21,
    "start_time": "2023-07-13T13:01:37.858Z"
   },
   {
    "duration": 25,
    "start_time": "2023-07-13T13:01:37.881Z"
   },
   {
    "duration": 6,
    "start_time": "2023-07-13T13:01:37.909Z"
   },
   {
    "duration": 47,
    "start_time": "2023-07-13T13:01:37.917Z"
   },
   {
    "duration": 23,
    "start_time": "2023-07-13T13:01:37.967Z"
   },
   {
    "duration": 8,
    "start_time": "2023-07-13T13:01:37.992Z"
   },
   {
    "duration": 24,
    "start_time": "2023-07-13T13:01:38.002Z"
   },
   {
    "duration": 28,
    "start_time": "2023-07-13T13:01:38.053Z"
   },
   {
    "duration": 18,
    "start_time": "2023-07-13T13:01:38.083Z"
   },
   {
    "duration": 24,
    "start_time": "2023-07-13T13:01:38.103Z"
   },
   {
    "duration": 11,
    "start_time": "2023-07-13T13:01:38.129Z"
   },
   {
    "duration": 27,
    "start_time": "2023-07-13T13:01:38.142Z"
   },
   {
    "duration": 19,
    "start_time": "2023-07-13T13:01:38.171Z"
   },
   {
    "duration": 5,
    "start_time": "2023-07-13T13:01:38.192Z"
   },
   {
    "duration": 21,
    "start_time": "2023-07-13T13:01:38.199Z"
   },
   {
    "duration": 509,
    "start_time": "2023-07-13T13:01:38.222Z"
   },
   {
    "duration": 23,
    "start_time": "2023-07-13T13:01:38.733Z"
   },
   {
    "duration": 4,
    "start_time": "2023-07-13T13:01:38.760Z"
   },
   {
    "duration": 9,
    "start_time": "2023-07-13T13:01:38.766Z"
   },
   {
    "duration": 79,
    "start_time": "2023-07-13T13:01:38.777Z"
   },
   {
    "duration": 13,
    "start_time": "2023-07-13T13:01:38.858Z"
   },
   {
    "duration": 493,
    "start_time": "2023-07-13T13:01:38.873Z"
   },
   {
    "duration": 19,
    "start_time": "2023-07-13T13:01:39.369Z"
   },
   {
    "duration": 68,
    "start_time": "2023-07-13T13:01:39.390Z"
   },
   {
    "duration": 353,
    "start_time": "2023-07-13T13:01:39.460Z"
   },
   {
    "duration": 13,
    "start_time": "2023-07-13T13:01:39.815Z"
   },
   {
    "duration": 46,
    "start_time": "2023-07-13T13:01:39.830Z"
   },
   {
    "duration": 9,
    "start_time": "2023-07-13T13:01:39.878Z"
   },
   {
    "duration": 17,
    "start_time": "2023-07-13T13:01:39.889Z"
   },
   {
    "duration": 254,
    "start_time": "2023-07-13T13:01:39.908Z"
   },
   {
    "duration": 12,
    "start_time": "2023-07-13T13:01:40.164Z"
   },
   {
    "duration": 4,
    "start_time": "2023-07-13T13:01:40.178Z"
   },
   {
    "duration": 16,
    "start_time": "2023-07-13T13:01:40.184Z"
   },
   {
    "duration": 378,
    "start_time": "2023-07-13T13:01:40.202Z"
   },
   {
    "duration": 12,
    "start_time": "2023-07-13T13:01:40.583Z"
   },
   {
    "duration": 288,
    "start_time": "2023-07-13T13:01:40.597Z"
   },
   {
    "duration": 16,
    "start_time": "2023-07-13T13:01:40.888Z"
   },
   {
    "duration": 25,
    "start_time": "2023-07-13T13:01:40.906Z"
   },
   {
    "duration": 21,
    "start_time": "2023-07-13T13:01:40.933Z"
   },
   {
    "duration": 14,
    "start_time": "2023-07-13T13:01:40.956Z"
   },
   {
    "duration": 31,
    "start_time": "2023-07-13T13:01:40.973Z"
   },
   {
    "duration": 116,
    "start_time": "2023-07-13T13:01:41.006Z"
   },
   {
    "duration": 37,
    "start_time": "2023-07-13T13:01:41.124Z"
   },
   {
    "duration": 4,
    "start_time": "2023-07-13T13:01:41.163Z"
   },
   {
    "duration": 96,
    "start_time": "2023-07-13T13:01:41.169Z"
   },
   {
    "duration": 6,
    "start_time": "2023-07-13T13:01:41.267Z"
   },
   {
    "duration": 59,
    "start_time": "2023-07-13T13:01:41.274Z"
   },
   {
    "duration": 11,
    "start_time": "2023-07-13T13:01:41.335Z"
   },
   {
    "duration": 22,
    "start_time": "2023-07-13T13:01:41.348Z"
   },
   {
    "duration": 12,
    "start_time": "2023-07-13T13:01:41.372Z"
   },
   {
    "duration": 179,
    "start_time": "2023-07-13T13:01:41.386Z"
   },
   {
    "duration": 21,
    "start_time": "2023-07-13T13:01:54.211Z"
   },
   {
    "duration": 79,
    "start_time": "2023-07-13T13:03:22.822Z"
   },
   {
    "duration": 81,
    "start_time": "2023-07-13T13:03:41.242Z"
   },
   {
    "duration": 95,
    "start_time": "2023-07-13T13:03:47.526Z"
   },
   {
    "duration": 16,
    "start_time": "2023-07-13T13:03:59.948Z"
   },
   {
    "duration": 107,
    "start_time": "2023-07-13T13:05:17.628Z"
   },
   {
    "duration": 11,
    "start_time": "2023-07-13T13:07:13.919Z"
   },
   {
    "duration": 240,
    "start_time": "2023-07-13T13:08:15.527Z"
   },
   {
    "duration": 10,
    "start_time": "2023-07-13T13:08:31.815Z"
   },
   {
    "duration": 137,
    "start_time": "2023-07-13T13:08:32.541Z"
   },
   {
    "duration": 7,
    "start_time": "2023-07-13T13:09:06.042Z"
   },
   {
    "duration": 150,
    "start_time": "2023-07-13T13:09:14.430Z"
   },
   {
    "duration": 149,
    "start_time": "2023-07-13T13:09:47.739Z"
   },
   {
    "duration": 148,
    "start_time": "2023-07-13T13:10:00.118Z"
   },
   {
    "duration": 140,
    "start_time": "2023-07-13T13:10:23.139Z"
   },
   {
    "duration": 4,
    "start_time": "2023-07-13T13:10:42.639Z"
   },
   {
    "duration": 183,
    "start_time": "2023-07-13T13:10:47.419Z"
   },
   {
    "duration": 159,
    "start_time": "2023-07-13T13:11:06.418Z"
   },
   {
    "duration": 144,
    "start_time": "2023-07-13T13:11:14.818Z"
   },
   {
    "duration": 179,
    "start_time": "2023-07-13T13:13:51.041Z"
   },
   {
    "duration": 168,
    "start_time": "2023-07-13T13:33:17.518Z"
   },
   {
    "duration": 177,
    "start_time": "2023-07-13T13:33:26.918Z"
   },
   {
    "duration": 1346,
    "start_time": "2023-07-13T13:33:37.715Z"
   },
   {
    "duration": 19,
    "start_time": "2023-07-13T13:33:39.063Z"
   },
   {
    "duration": 4,
    "start_time": "2023-07-13T13:33:39.084Z"
   },
   {
    "duration": 69,
    "start_time": "2023-07-13T13:33:39.090Z"
   },
   {
    "duration": 5,
    "start_time": "2023-07-13T13:33:39.162Z"
   },
   {
    "duration": 21,
    "start_time": "2023-07-13T13:33:39.168Z"
   },
   {
    "duration": 34,
    "start_time": "2023-07-13T13:33:39.190Z"
   },
   {
    "duration": 36,
    "start_time": "2023-07-13T13:33:39.226Z"
   },
   {
    "duration": 20,
    "start_time": "2023-07-13T13:33:39.264Z"
   },
   {
    "duration": 9,
    "start_time": "2023-07-13T13:33:39.285Z"
   },
   {
    "duration": 16,
    "start_time": "2023-07-13T13:33:39.296Z"
   },
   {
    "duration": 41,
    "start_time": "2023-07-13T13:33:39.314Z"
   },
   {
    "duration": 6,
    "start_time": "2023-07-13T13:33:39.358Z"
   },
   {
    "duration": 14,
    "start_time": "2023-07-13T13:33:39.367Z"
   },
   {
    "duration": 14,
    "start_time": "2023-07-13T13:33:39.383Z"
   },
   {
    "duration": 4,
    "start_time": "2023-07-13T13:33:39.398Z"
   },
   {
    "duration": 50,
    "start_time": "2023-07-13T13:33:39.404Z"
   },
   {
    "duration": 18,
    "start_time": "2023-07-13T13:33:39.456Z"
   },
   {
    "duration": 11,
    "start_time": "2023-07-13T13:33:39.475Z"
   },
   {
    "duration": 8,
    "start_time": "2023-07-13T13:33:39.488Z"
   },
   {
    "duration": 10,
    "start_time": "2023-07-13T13:33:39.498Z"
   },
   {
    "duration": 23,
    "start_time": "2023-07-13T13:33:39.510Z"
   },
   {
    "duration": 17,
    "start_time": "2023-07-13T13:33:39.553Z"
   },
   {
    "duration": 4,
    "start_time": "2023-07-13T13:33:39.572Z"
   },
   {
    "duration": 15,
    "start_time": "2023-07-13T13:33:39.578Z"
   },
   {
    "duration": 412,
    "start_time": "2023-07-13T13:33:39.595Z"
   },
   {
    "duration": 27,
    "start_time": "2023-07-13T13:33:40.009Z"
   },
   {
    "duration": 9,
    "start_time": "2023-07-13T13:33:40.038Z"
   },
   {
    "duration": 6,
    "start_time": "2023-07-13T13:33:40.053Z"
   },
   {
    "duration": 77,
    "start_time": "2023-07-13T13:33:40.061Z"
   },
   {
    "duration": 14,
    "start_time": "2023-07-13T13:33:40.140Z"
   },
   {
    "duration": 437,
    "start_time": "2023-07-13T13:33:40.155Z"
   },
   {
    "duration": 16,
    "start_time": "2023-07-13T13:33:40.594Z"
   },
   {
    "duration": 53,
    "start_time": "2023-07-13T13:33:40.612Z"
   },
   {
    "duration": 299,
    "start_time": "2023-07-13T13:33:40.667Z"
   },
   {
    "duration": 12,
    "start_time": "2023-07-13T13:33:40.968Z"
   },
   {
    "duration": 26,
    "start_time": "2023-07-13T13:33:40.982Z"
   },
   {
    "duration": 7,
    "start_time": "2023-07-13T13:33:41.009Z"
   },
   {
    "duration": 40,
    "start_time": "2023-07-13T13:33:41.018Z"
   },
   {
    "duration": 254,
    "start_time": "2023-07-13T13:33:41.059Z"
   },
   {
    "duration": 11,
    "start_time": "2023-07-13T13:33:41.317Z"
   },
   {
    "duration": 4,
    "start_time": "2023-07-13T13:33:41.330Z"
   },
   {
    "duration": 24,
    "start_time": "2023-07-13T13:33:41.335Z"
   },
   {
    "duration": 355,
    "start_time": "2023-07-13T13:33:41.361Z"
   },
   {
    "duration": 19,
    "start_time": "2023-07-13T13:33:41.718Z"
   },
   {
    "duration": 266,
    "start_time": "2023-07-13T13:33:41.755Z"
   },
   {
    "duration": 11,
    "start_time": "2023-07-13T13:33:42.023Z"
   },
   {
    "duration": 32,
    "start_time": "2023-07-13T13:33:42.037Z"
   },
   {
    "duration": 3,
    "start_time": "2023-07-13T13:33:42.071Z"
   },
   {
    "duration": 9,
    "start_time": "2023-07-13T13:33:42.076Z"
   },
   {
    "duration": 4,
    "start_time": "2023-07-13T13:33:42.087Z"
   },
   {
    "duration": 131,
    "start_time": "2023-07-13T13:33:42.093Z"
   },
   {
    "duration": 37,
    "start_time": "2023-07-13T13:33:42.226Z"
   },
   {
    "duration": 6,
    "start_time": "2023-07-13T13:33:42.264Z"
   },
   {
    "duration": 92,
    "start_time": "2023-07-13T13:33:42.272Z"
   },
   {
    "duration": 8,
    "start_time": "2023-07-13T13:33:42.366Z"
   },
   {
    "duration": 13,
    "start_time": "2023-07-13T13:33:42.376Z"
   },
   {
    "duration": 192,
    "start_time": "2023-07-13T13:33:42.391Z"
   },
   {
    "duration": 14,
    "start_time": "2023-07-13T13:33:42.584Z"
   },
   {
    "duration": 89,
    "start_time": "2023-07-13T13:33:42.600Z"
   },
   {
    "duration": 300,
    "start_time": "2023-07-13T13:35:27.866Z"
   },
   {
    "duration": 147,
    "start_time": "2023-07-13T13:35:53.526Z"
   },
   {
    "duration": 239,
    "start_time": "2023-07-13T13:36:05.441Z"
   },
   {
    "duration": 170,
    "start_time": "2023-07-13T13:36:11.452Z"
   },
   {
    "duration": 217,
    "start_time": "2023-07-13T13:46:04.415Z"
   },
   {
    "duration": 1300,
    "start_time": "2023-07-13T13:46:13.799Z"
   },
   {
    "duration": 175,
    "start_time": "2023-07-13T13:46:59.218Z"
   },
   {
    "duration": 8,
    "start_time": "2023-07-13T13:47:26.560Z"
   },
   {
    "duration": 173,
    "start_time": "2023-07-13T13:54:16.707Z"
   },
   {
    "duration": 149,
    "start_time": "2023-07-13T13:54:26.709Z"
   },
   {
    "duration": 143,
    "start_time": "2023-07-13T13:55:02.814Z"
   },
   {
    "duration": 444,
    "start_time": "2023-07-13T13:55:31.789Z"
   },
   {
    "duration": 506,
    "start_time": "2023-07-13T13:55:48.168Z"
   },
   {
    "duration": 383,
    "start_time": "2023-07-13T13:56:04.818Z"
   },
   {
    "duration": 380,
    "start_time": "2023-07-13T13:56:36.760Z"
   },
   {
    "duration": 252,
    "start_time": "2023-07-13T13:58:00.961Z"
   },
   {
    "duration": 353,
    "start_time": "2023-07-13T13:58:11.536Z"
   },
   {
    "duration": 234,
    "start_time": "2023-07-13T13:58:24.410Z"
   },
   {
    "duration": 254,
    "start_time": "2023-07-13T13:58:33.114Z"
   },
   {
    "duration": 252,
    "start_time": "2023-07-13T13:58:43.911Z"
   },
   {
    "duration": 229,
    "start_time": "2023-07-13T13:58:52.216Z"
   },
   {
    "duration": 229,
    "start_time": "2023-07-13T13:59:03.367Z"
   },
   {
    "duration": 221,
    "start_time": "2023-07-13T13:59:12.206Z"
   },
   {
    "duration": 15,
    "start_time": "2023-07-13T14:27:34.751Z"
   },
   {
    "duration": 11,
    "start_time": "2023-07-13T14:27:39.303Z"
   },
   {
    "duration": 11,
    "start_time": "2023-07-13T14:28:03.305Z"
   },
   {
    "duration": 73,
    "start_time": "2023-07-13T14:28:22.464Z"
   },
   {
    "duration": 75,
    "start_time": "2023-07-13T14:28:52.706Z"
   },
   {
    "duration": 70,
    "start_time": "2023-07-13T14:28:59.106Z"
   },
   {
    "duration": 62,
    "start_time": "2023-07-13T14:29:53.335Z"
   },
   {
    "duration": 77,
    "start_time": "2023-07-13T14:30:08.803Z"
   },
   {
    "duration": 65,
    "start_time": "2023-07-13T14:31:57.187Z"
   },
   {
    "duration": 10,
    "start_time": "2023-07-13T14:33:41.791Z"
   },
   {
    "duration": 10,
    "start_time": "2023-07-13T14:34:05.699Z"
   },
   {
    "duration": 69,
    "start_time": "2023-07-13T14:43:20.596Z"
   },
   {
    "duration": 14,
    "start_time": "2023-07-13T14:43:41.039Z"
   },
   {
    "duration": 13,
    "start_time": "2023-07-13T14:49:52.679Z"
   },
   {
    "duration": 5,
    "start_time": "2023-07-13T14:49:56.317Z"
   },
   {
    "duration": 218,
    "start_time": "2023-07-13T14:49:56.996Z"
   },
   {
    "duration": 268,
    "start_time": "2023-07-13T14:51:07.806Z"
   },
   {
    "duration": 229,
    "start_time": "2023-07-13T14:52:17.664Z"
   },
   {
    "duration": 190,
    "start_time": "2023-07-13T14:58:03.822Z"
   },
   {
    "duration": 195,
    "start_time": "2023-07-13T14:58:21.899Z"
   },
   {
    "duration": 202,
    "start_time": "2023-07-13T14:58:48.354Z"
   },
   {
    "duration": 183,
    "start_time": "2023-07-13T15:00:09.245Z"
   },
   {
    "duration": 66,
    "start_time": "2023-07-13T15:03:39.554Z"
   },
   {
    "duration": 3,
    "start_time": "2023-07-13T15:03:49.216Z"
   },
   {
    "duration": 5,
    "start_time": "2023-07-13T15:06:08.020Z"
   },
   {
    "duration": 14,
    "start_time": "2023-07-13T15:06:08.725Z"
   },
   {
    "duration": 16,
    "start_time": "2023-07-13T15:06:27.111Z"
   },
   {
    "duration": 327,
    "start_time": "2023-07-13T15:07:45.596Z"
   },
   {
    "duration": 27,
    "start_time": "2023-07-13T15:07:54.619Z"
   },
   {
    "duration": 80,
    "start_time": "2023-07-13T15:08:55.797Z"
   },
   {
    "duration": 107,
    "start_time": "2023-07-13T15:09:56.245Z"
   },
   {
    "duration": 88,
    "start_time": "2023-07-13T16:56:56.213Z"
   },
   {
    "duration": 5,
    "start_time": "2023-07-13T16:59:43.946Z"
   },
   {
    "duration": 6,
    "start_time": "2023-07-13T17:00:15.706Z"
   },
   {
    "duration": 13,
    "start_time": "2023-07-13T17:00:23.072Z"
   },
   {
    "duration": 249,
    "start_time": "2023-07-13T17:00:59.524Z"
   },
   {
    "duration": 119,
    "start_time": "2023-07-13T17:02:50.209Z"
   },
   {
    "duration": 17,
    "start_time": "2023-07-13T17:06:03.640Z"
   },
   {
    "duration": 8,
    "start_time": "2023-07-13T17:06:24.056Z"
   },
   {
    "duration": 11,
    "start_time": "2023-07-13T17:06:35.519Z"
   },
   {
    "duration": 2,
    "start_time": "2023-07-13T17:08:57.748Z"
   },
   {
    "duration": 10713,
    "start_time": "2023-07-13T17:14:03.977Z"
   },
   {
    "duration": 18,
    "start_time": "2023-07-13T17:22:18.128Z"
   },
   {
    "duration": 1723,
    "start_time": "2023-07-13T17:22:56.097Z"
   },
   {
    "duration": 17,
    "start_time": "2023-07-13T17:22:57.822Z"
   },
   {
    "duration": 4,
    "start_time": "2023-07-13T17:22:57.841Z"
   },
   {
    "duration": 59,
    "start_time": "2023-07-13T17:22:57.847Z"
   },
   {
    "duration": 5,
    "start_time": "2023-07-13T17:22:57.909Z"
   },
   {
    "duration": 14,
    "start_time": "2023-07-13T17:22:57.916Z"
   },
   {
    "duration": 36,
    "start_time": "2023-07-13T17:22:57.955Z"
   },
   {
    "duration": 22,
    "start_time": "2023-07-13T17:22:57.993Z"
   },
   {
    "duration": 48,
    "start_time": "2023-07-13T17:22:58.017Z"
   },
   {
    "duration": 11,
    "start_time": "2023-07-13T17:22:58.066Z"
   },
   {
    "duration": 16,
    "start_time": "2023-07-13T17:22:58.079Z"
   },
   {
    "duration": 18,
    "start_time": "2023-07-13T17:22:58.097Z"
   },
   {
    "duration": 36,
    "start_time": "2023-07-13T17:22:58.118Z"
   },
   {
    "duration": 17,
    "start_time": "2023-07-13T17:22:58.159Z"
   },
   {
    "duration": 17,
    "start_time": "2023-07-13T17:22:58.178Z"
   },
   {
    "duration": 7,
    "start_time": "2023-07-13T17:22:58.197Z"
   },
   {
    "duration": 38,
    "start_time": "2023-07-13T17:22:58.206Z"
   },
   {
    "duration": 25,
    "start_time": "2023-07-13T17:22:58.245Z"
   },
   {
    "duration": 12,
    "start_time": "2023-07-13T17:22:58.272Z"
   },
   {
    "duration": 10,
    "start_time": "2023-07-13T17:22:58.286Z"
   },
   {
    "duration": 6,
    "start_time": "2023-07-13T17:22:58.298Z"
   },
   {
    "duration": 17,
    "start_time": "2023-07-13T17:22:58.306Z"
   },
   {
    "duration": 41,
    "start_time": "2023-07-13T17:22:58.325Z"
   },
   {
    "duration": 5,
    "start_time": "2023-07-13T17:22:58.368Z"
   },
   {
    "duration": 19,
    "start_time": "2023-07-13T17:22:58.374Z"
   },
   {
    "duration": 389,
    "start_time": "2023-07-13T17:22:58.395Z"
   },
   {
    "duration": 24,
    "start_time": "2023-07-13T17:22:58.785Z"
   },
   {
    "duration": 13,
    "start_time": "2023-07-13T17:22:58.811Z"
   },
   {
    "duration": 5,
    "start_time": "2023-07-13T17:22:58.826Z"
   },
   {
    "duration": 77,
    "start_time": "2023-07-13T17:22:58.832Z"
   },
   {
    "duration": 11,
    "start_time": "2023-07-13T17:22:58.911Z"
   },
   {
    "duration": 451,
    "start_time": "2023-07-13T17:22:58.923Z"
   },
   {
    "duration": 16,
    "start_time": "2023-07-13T17:22:59.376Z"
   },
   {
    "duration": 62,
    "start_time": "2023-07-13T17:22:59.394Z"
   },
   {
    "duration": 301,
    "start_time": "2023-07-13T17:22:59.458Z"
   },
   {
    "duration": 10,
    "start_time": "2023-07-13T17:22:59.761Z"
   },
   {
    "duration": 27,
    "start_time": "2023-07-13T17:22:59.773Z"
   },
   {
    "duration": 7,
    "start_time": "2023-07-13T17:22:59.801Z"
   },
   {
    "duration": 12,
    "start_time": "2023-07-13T17:22:59.810Z"
   },
   {
    "duration": 252,
    "start_time": "2023-07-13T17:22:59.854Z"
   },
   {
    "duration": 13,
    "start_time": "2023-07-13T17:23:00.110Z"
   },
   {
    "duration": 15,
    "start_time": "2023-07-13T17:23:00.124Z"
   },
   {
    "duration": 27,
    "start_time": "2023-07-13T17:23:00.141Z"
   },
   {
    "duration": 373,
    "start_time": "2023-07-13T17:23:00.170Z"
   },
   {
    "duration": 17,
    "start_time": "2023-07-13T17:23:00.545Z"
   },
   {
    "duration": 283,
    "start_time": "2023-07-13T17:23:00.564Z"
   },
   {
    "duration": 15,
    "start_time": "2023-07-13T17:23:00.849Z"
   },
   {
    "duration": 26,
    "start_time": "2023-07-13T17:23:00.866Z"
   },
   {
    "duration": 12,
    "start_time": "2023-07-13T17:23:00.894Z"
   },
   {
    "duration": 32,
    "start_time": "2023-07-13T17:23:00.908Z"
   },
   {
    "duration": 29,
    "start_time": "2023-07-13T17:23:00.942Z"
   },
   {
    "duration": 242,
    "start_time": "2023-07-13T17:23:00.974Z"
   },
   {
    "duration": 39,
    "start_time": "2023-07-13T17:23:01.218Z"
   },
   {
    "duration": 23,
    "start_time": "2023-07-13T17:23:01.259Z"
   },
   {
    "duration": 140,
    "start_time": "2023-07-13T17:23:01.284Z"
   },
   {
    "duration": 9,
    "start_time": "2023-07-13T17:23:01.426Z"
   },
   {
    "duration": 30,
    "start_time": "2023-07-13T17:23:01.454Z"
   },
   {
    "duration": 239,
    "start_time": "2023-07-13T17:23:01.486Z"
   },
   {
    "duration": 30,
    "start_time": "2023-07-13T17:23:01.727Z"
   },
   {
    "duration": 78,
    "start_time": "2023-07-13T17:23:01.759Z"
   },
   {
    "duration": 18,
    "start_time": "2023-07-13T17:23:01.839Z"
   },
   {
    "duration": 200,
    "start_time": "2023-07-13T17:23:01.860Z"
   },
   {
    "duration": 17,
    "start_time": "2023-07-13T17:23:02.061Z"
   },
   {
    "duration": 35,
    "start_time": "2023-07-13T17:23:02.080Z"
   },
   {
    "duration": 96,
    "start_time": "2023-07-13T17:23:02.117Z"
   },
   {
    "duration": 12,
    "start_time": "2023-07-13T17:23:02.215Z"
   },
   {
    "duration": 151,
    "start_time": "2023-07-13T17:23:02.229Z"
   },
   {
    "duration": 10477,
    "start_time": "2023-07-13T17:23:02.382Z"
   },
   {
    "duration": 21,
    "start_time": "2023-07-13T17:23:12.863Z"
   },
   {
    "duration": 17,
    "start_time": "2023-07-13T17:23:12.886Z"
   },
   {
    "duration": 183,
    "start_time": "2023-07-13T17:24:21.512Z"
   },
   {
    "duration": 15,
    "start_time": "2023-07-13T17:24:35.014Z"
   },
   {
    "duration": 14,
    "start_time": "2023-07-13T17:24:52.272Z"
   },
   {
    "duration": 14,
    "start_time": "2023-07-13T17:25:13.700Z"
   },
   {
    "duration": 18,
    "start_time": "2023-07-13T17:25:56.163Z"
   },
   {
    "duration": 9,
    "start_time": "2023-07-13T17:26:17.295Z"
   },
   {
    "duration": 11,
    "start_time": "2023-07-13T17:26:23.550Z"
   },
   {
    "duration": 89,
    "start_time": "2023-07-13T17:27:37.919Z"
   },
   {
    "duration": 4,
    "start_time": "2023-07-13T17:32:15.424Z"
   },
   {
    "duration": 18,
    "start_time": "2023-07-13T17:32:26.400Z"
   },
   {
    "duration": 25,
    "start_time": "2023-07-13T17:32:43.158Z"
   },
   {
    "duration": 22,
    "start_time": "2023-07-13T17:50:24.229Z"
   },
   {
    "duration": 10,
    "start_time": "2023-07-13T17:50:25.232Z"
   },
   {
    "duration": 84,
    "start_time": "2023-07-13T17:51:17.245Z"
   },
   {
    "duration": 99,
    "start_time": "2023-07-13T17:51:27.511Z"
   },
   {
    "duration": 80,
    "start_time": "2023-07-13T17:51:35.691Z"
   },
   {
    "duration": 76,
    "start_time": "2023-07-13T17:55:16.042Z"
   },
   {
    "duration": 75,
    "start_time": "2023-07-13T17:56:51.255Z"
   },
   {
    "duration": 1736,
    "start_time": "2023-07-13T17:58:26.087Z"
   },
   {
    "duration": 17,
    "start_time": "2023-07-13T17:58:27.825Z"
   },
   {
    "duration": 3,
    "start_time": "2023-07-13T17:58:27.844Z"
   },
   {
    "duration": 42,
    "start_time": "2023-07-13T17:58:27.849Z"
   },
   {
    "duration": 4,
    "start_time": "2023-07-13T17:58:27.893Z"
   },
   {
    "duration": 14,
    "start_time": "2023-07-13T17:58:27.899Z"
   },
   {
    "duration": 57,
    "start_time": "2023-07-13T17:58:27.915Z"
   },
   {
    "duration": 22,
    "start_time": "2023-07-13T17:58:27.974Z"
   },
   {
    "duration": 21,
    "start_time": "2023-07-13T17:58:27.999Z"
   },
   {
    "duration": 36,
    "start_time": "2023-07-13T17:58:28.024Z"
   },
   {
    "duration": 22,
    "start_time": "2023-07-13T17:58:28.062Z"
   },
   {
    "duration": 32,
    "start_time": "2023-07-13T17:58:28.086Z"
   },
   {
    "duration": 7,
    "start_time": "2023-07-13T17:58:28.119Z"
   },
   {
    "duration": 21,
    "start_time": "2023-07-13T17:58:28.127Z"
   },
   {
    "duration": 16,
    "start_time": "2023-07-13T17:58:28.154Z"
   },
   {
    "duration": 19,
    "start_time": "2023-07-13T17:58:28.172Z"
   },
   {
    "duration": 28,
    "start_time": "2023-07-13T17:58:28.193Z"
   },
   {
    "duration": 19,
    "start_time": "2023-07-13T17:58:28.223Z"
   },
   {
    "duration": 15,
    "start_time": "2023-07-13T17:58:28.245Z"
   },
   {
    "duration": 10,
    "start_time": "2023-07-13T17:58:28.263Z"
   },
   {
    "duration": 7,
    "start_time": "2023-07-13T17:58:28.275Z"
   },
   {
    "duration": 22,
    "start_time": "2023-07-13T17:58:28.284Z"
   },
   {
    "duration": 17,
    "start_time": "2023-07-13T17:58:28.308Z"
   },
   {
    "duration": 7,
    "start_time": "2023-07-13T17:58:28.355Z"
   },
   {
    "duration": 18,
    "start_time": "2023-07-13T17:58:28.364Z"
   },
   {
    "duration": 419,
    "start_time": "2023-07-13T17:58:28.384Z"
   },
   {
    "duration": 22,
    "start_time": "2023-07-13T17:58:28.806Z"
   },
   {
    "duration": 3,
    "start_time": "2023-07-13T17:58:28.855Z"
   },
   {
    "duration": 10,
    "start_time": "2023-07-13T17:58:28.860Z"
   },
   {
    "duration": 61,
    "start_time": "2023-07-13T17:58:28.871Z"
   },
   {
    "duration": 25,
    "start_time": "2023-07-13T17:58:28.933Z"
   },
   {
    "duration": 439,
    "start_time": "2023-07-13T17:58:28.960Z"
   },
   {
    "duration": 16,
    "start_time": "2023-07-13T17:58:29.400Z"
   },
   {
    "duration": 43,
    "start_time": "2023-07-13T17:58:29.417Z"
   },
   {
    "duration": 303,
    "start_time": "2023-07-13T17:58:29.462Z"
   },
   {
    "duration": 13,
    "start_time": "2023-07-13T17:58:29.768Z"
   },
   {
    "duration": 28,
    "start_time": "2023-07-13T17:58:29.784Z"
   },
   {
    "duration": 8,
    "start_time": "2023-07-13T17:58:29.813Z"
   },
   {
    "duration": 11,
    "start_time": "2023-07-13T17:58:29.853Z"
   },
   {
    "duration": 257,
    "start_time": "2023-07-13T17:58:29.866Z"
   },
   {
    "duration": 12,
    "start_time": "2023-07-13T17:58:30.125Z"
   },
   {
    "duration": 17,
    "start_time": "2023-07-13T17:58:30.138Z"
   },
   {
    "duration": 23,
    "start_time": "2023-07-13T17:58:30.157Z"
   },
   {
    "duration": 375,
    "start_time": "2023-07-13T17:58:30.182Z"
   },
   {
    "duration": 13,
    "start_time": "2023-07-13T17:58:30.559Z"
   },
   {
    "duration": 293,
    "start_time": "2023-07-13T17:58:30.574Z"
   },
   {
    "duration": 14,
    "start_time": "2023-07-13T17:58:30.868Z"
   },
   {
    "duration": 50,
    "start_time": "2023-07-13T17:58:30.884Z"
   },
   {
    "duration": 38,
    "start_time": "2023-07-13T17:58:30.936Z"
   },
   {
    "duration": 29,
    "start_time": "2023-07-13T17:58:30.976Z"
   },
   {
    "duration": 33,
    "start_time": "2023-07-13T17:58:31.007Z"
   },
   {
    "duration": 269,
    "start_time": "2023-07-13T17:58:31.042Z"
   },
   {
    "duration": 19,
    "start_time": "2023-07-13T17:58:31.313Z"
   },
   {
    "duration": 18,
    "start_time": "2023-07-13T17:58:31.354Z"
   },
   {
    "duration": 120,
    "start_time": "2023-07-13T17:58:31.374Z"
   },
   {
    "duration": 8,
    "start_time": "2023-07-13T17:58:31.496Z"
   },
   {
    "duration": 46,
    "start_time": "2023-07-13T17:58:31.505Z"
   },
   {
    "duration": 239,
    "start_time": "2023-07-13T17:58:31.553Z"
   },
   {
    "duration": 14,
    "start_time": "2023-07-13T17:58:31.794Z"
   },
   {
    "duration": 97,
    "start_time": "2023-07-13T17:58:31.810Z"
   },
   {
    "duration": 5,
    "start_time": "2023-07-13T17:58:31.909Z"
   },
   {
    "duration": 198,
    "start_time": "2023-07-13T17:58:31.916Z"
   },
   {
    "duration": 15,
    "start_time": "2023-07-13T17:58:32.116Z"
   },
   {
    "duration": 23,
    "start_time": "2023-07-13T17:58:32.132Z"
   },
   {
    "duration": 81,
    "start_time": "2023-07-13T17:58:32.157Z"
   },
   {
    "duration": 22,
    "start_time": "2023-07-13T17:58:32.239Z"
   },
   {
    "duration": 137,
    "start_time": "2023-07-13T17:58:32.263Z"
   },
   {
    "duration": 10350,
    "start_time": "2023-07-13T17:58:32.402Z"
   },
   {
    "duration": 24,
    "start_time": "2023-07-13T17:58:42.754Z"
   },
   {
    "duration": 11,
    "start_time": "2023-07-13T17:58:42.780Z"
   },
   {
    "duration": 188,
    "start_time": "2023-07-13T17:58:42.792Z"
   },
   {
    "duration": 75,
    "start_time": "2023-07-13T17:59:32.029Z"
   },
   {
    "duration": 8,
    "start_time": "2023-07-13T18:09:32.837Z"
   },
   {
    "duration": 16,
    "start_time": "2023-07-13T18:40:40.529Z"
   },
   {
    "duration": 78,
    "start_time": "2023-07-13T18:41:17.108Z"
   },
   {
    "duration": 18,
    "start_time": "2023-07-13T18:41:25.123Z"
   },
   {
    "duration": 18,
    "start_time": "2023-07-13T18:42:29.497Z"
   },
   {
    "duration": 19,
    "start_time": "2023-07-13T18:43:11.104Z"
   },
   {
    "duration": 36,
    "start_time": "2023-07-13T18:43:49.472Z"
   },
   {
    "duration": 5,
    "start_time": "2023-07-13T18:46:39.825Z"
   },
   {
    "duration": 22,
    "start_time": "2023-07-13T18:47:02.241Z"
   },
   {
    "duration": 13,
    "start_time": "2023-07-13T18:47:27.739Z"
   },
   {
    "duration": 82,
    "start_time": "2023-07-13T18:48:54.625Z"
   },
   {
    "duration": 16,
    "start_time": "2023-07-13T18:53:26.881Z"
   },
   {
    "duration": 24,
    "start_time": "2023-07-13T18:56:15.024Z"
   },
   {
    "duration": 44,
    "start_time": "2023-07-13T18:56:42.327Z"
   },
   {
    "duration": 42,
    "start_time": "2023-07-13T18:57:16.759Z"
   },
   {
    "duration": 41,
    "start_time": "2023-07-13T18:58:08.855Z"
   },
   {
    "duration": 24,
    "start_time": "2023-07-13T19:01:03.735Z"
   },
   {
    "duration": 21,
    "start_time": "2023-07-13T19:01:14.805Z"
   },
   {
    "duration": 39,
    "start_time": "2023-07-13T19:01:17.883Z"
   },
   {
    "duration": 1722,
    "start_time": "2023-07-13T19:01:49.392Z"
   },
   {
    "duration": 20,
    "start_time": "2023-07-13T19:01:51.116Z"
   },
   {
    "duration": 18,
    "start_time": "2023-07-13T19:01:51.138Z"
   },
   {
    "duration": 49,
    "start_time": "2023-07-13T19:01:51.158Z"
   },
   {
    "duration": 6,
    "start_time": "2023-07-13T19:01:51.210Z"
   },
   {
    "duration": 36,
    "start_time": "2023-07-13T19:01:51.219Z"
   },
   {
    "duration": 38,
    "start_time": "2023-07-13T19:01:51.257Z"
   },
   {
    "duration": 23,
    "start_time": "2023-07-13T19:01:51.297Z"
   },
   {
    "duration": 42,
    "start_time": "2023-07-13T19:01:51.322Z"
   },
   {
    "duration": 10,
    "start_time": "2023-07-13T19:01:51.365Z"
   },
   {
    "duration": 17,
    "start_time": "2023-07-13T19:01:51.377Z"
   },
   {
    "duration": 17,
    "start_time": "2023-07-13T19:01:51.396Z"
   },
   {
    "duration": 15,
    "start_time": "2023-07-13T19:01:51.415Z"
   },
   {
    "duration": 18,
    "start_time": "2023-07-13T19:01:51.454Z"
   },
   {
    "duration": 18,
    "start_time": "2023-07-13T19:01:51.474Z"
   },
   {
    "duration": 6,
    "start_time": "2023-07-13T19:01:51.494Z"
   },
   {
    "duration": 21,
    "start_time": "2023-07-13T19:01:51.501Z"
   },
   {
    "duration": 40,
    "start_time": "2023-07-13T19:01:51.524Z"
   },
   {
    "duration": 12,
    "start_time": "2023-07-13T19:01:51.566Z"
   },
   {
    "duration": 17,
    "start_time": "2023-07-13T19:01:51.579Z"
   },
   {
    "duration": 11,
    "start_time": "2023-07-13T19:01:51.598Z"
   },
   {
    "duration": 21,
    "start_time": "2023-07-13T19:01:51.610Z"
   },
   {
    "duration": 29,
    "start_time": "2023-07-13T19:01:51.633Z"
   },
   {
    "duration": 17,
    "start_time": "2023-07-13T19:01:51.664Z"
   },
   {
    "duration": 33,
    "start_time": "2023-07-13T19:01:51.684Z"
   },
   {
    "duration": 371,
    "start_time": "2023-07-13T19:01:51.719Z"
   },
   {
    "duration": 23,
    "start_time": "2023-07-13T19:01:52.092Z"
   },
   {
    "duration": 4,
    "start_time": "2023-07-13T19:01:52.117Z"
   },
   {
    "duration": 31,
    "start_time": "2023-07-13T19:01:52.123Z"
   },
   {
    "duration": 67,
    "start_time": "2023-07-13T19:01:52.156Z"
   },
   {
    "duration": 12,
    "start_time": "2023-07-13T19:01:52.225Z"
   },
   {
    "duration": 471,
    "start_time": "2023-07-13T19:01:52.239Z"
   },
   {
    "duration": 16,
    "start_time": "2023-07-13T19:01:52.713Z"
   },
   {
    "duration": 29,
    "start_time": "2023-07-13T19:01:52.731Z"
   },
   {
    "duration": 507,
    "start_time": "2023-07-13T19:01:52.761Z"
   },
   {
    "duration": 17,
    "start_time": "2023-07-13T19:01:53.270Z"
   },
   {
    "duration": 88,
    "start_time": "2023-07-13T19:01:53.289Z"
   },
   {
    "duration": 19,
    "start_time": "2023-07-13T19:01:53.378Z"
   },
   {
    "duration": 66,
    "start_time": "2023-07-13T19:01:53.400Z"
   },
   {
    "duration": 270,
    "start_time": "2023-07-13T19:01:53.468Z"
   },
   {
    "duration": 21,
    "start_time": "2023-07-13T19:01:53.743Z"
   },
   {
    "duration": 9,
    "start_time": "2023-07-13T19:01:53.766Z"
   },
   {
    "duration": 9,
    "start_time": "2023-07-13T19:01:53.777Z"
   },
   {
    "duration": 394,
    "start_time": "2023-07-13T19:01:53.788Z"
   },
   {
    "duration": 14,
    "start_time": "2023-07-13T19:01:54.184Z"
   },
   {
    "duration": 590,
    "start_time": "2023-07-13T19:01:54.200Z"
   },
   {
    "duration": 71,
    "start_time": "2023-07-13T19:01:54.792Z"
   },
   {
    "duration": 28,
    "start_time": "2023-07-13T19:01:54.865Z"
   },
   {
    "duration": 3,
    "start_time": "2023-07-13T19:01:54.895Z"
   },
   {
    "duration": 8,
    "start_time": "2023-07-13T19:01:54.955Z"
   },
   {
    "duration": 12,
    "start_time": "2023-07-13T19:01:54.966Z"
   },
   {
    "duration": 488,
    "start_time": "2023-07-13T19:01:54.980Z"
   },
   {
    "duration": 85,
    "start_time": "2023-07-13T19:01:55.471Z"
   },
   {
    "duration": 5,
    "start_time": "2023-07-13T19:01:55.559Z"
   },
   {
    "duration": 204,
    "start_time": "2023-07-13T19:01:55.565Z"
   },
   {
    "duration": 6,
    "start_time": "2023-07-13T19:01:55.771Z"
   },
   {
    "duration": 27,
    "start_time": "2023-07-13T19:01:55.779Z"
   },
   {
    "duration": 433,
    "start_time": "2023-07-13T19:01:55.808Z"
   },
   {
    "duration": 23,
    "start_time": "2023-07-13T19:01:56.243Z"
   },
   {
    "duration": 92,
    "start_time": "2023-07-13T19:01:56.268Z"
   },
   {
    "duration": 5,
    "start_time": "2023-07-13T19:01:56.362Z"
   },
   {
    "duration": 221,
    "start_time": "2023-07-13T19:01:56.369Z"
   },
   {
    "duration": 16,
    "start_time": "2023-07-13T19:01:56.592Z"
   },
   {
    "duration": 12,
    "start_time": "2023-07-13T19:01:56.610Z"
   },
   {
    "duration": 129,
    "start_time": "2023-07-13T19:01:56.625Z"
   },
   {
    "duration": 15,
    "start_time": "2023-07-13T19:01:56.756Z"
   },
   {
    "duration": 133,
    "start_time": "2023-07-13T19:01:56.773Z"
   },
   {
    "duration": 11106,
    "start_time": "2023-07-13T19:01:56.908Z"
   },
   {
    "duration": 50,
    "start_time": "2023-07-13T19:02:08.017Z"
   },
   {
    "duration": 212,
    "start_time": "2023-07-13T19:02:08.069Z"
   },
   {
    "duration": 11,
    "start_time": "2023-07-13T19:02:08.283Z"
   },
   {
    "duration": 73,
    "start_time": "2023-07-13T19:02:08.296Z"
   },
   {
    "duration": 45,
    "start_time": "2023-07-13T19:02:08.371Z"
   },
   {
    "duration": 70,
    "start_time": "2023-07-13T19:02:08.454Z"
   },
   {
    "duration": 0,
    "start_time": "2023-07-13T19:02:08.527Z"
   },
   {
    "duration": 203,
    "start_time": "2023-07-13T19:03:01.459Z"
   },
   {
    "duration": 22,
    "start_time": "2023-07-13T19:04:07.649Z"
   },
   {
    "duration": 4,
    "start_time": "2023-07-13T19:04:15.112Z"
   },
   {
    "duration": 16,
    "start_time": "2023-07-13T19:04:41.088Z"
   },
   {
    "duration": 4,
    "start_time": "2023-07-13T19:04:42.296Z"
   },
   {
    "duration": 14,
    "start_time": "2023-07-13T19:05:10.318Z"
   },
   {
    "duration": 12,
    "start_time": "2023-07-13T19:05:13.284Z"
   },
   {
    "duration": 15,
    "start_time": "2023-07-13T19:05:14.125Z"
   },
   {
    "duration": 15,
    "start_time": "2023-07-13T19:05:17.279Z"
   },
   {
    "duration": 4,
    "start_time": "2023-07-13T19:05:17.838Z"
   },
   {
    "duration": 48,
    "start_time": "2023-07-13T19:05:18.566Z"
   },
   {
    "duration": 2447,
    "start_time": "2023-07-14T08:55:37.154Z"
   },
   {
    "duration": 24,
    "start_time": "2023-07-14T08:55:39.604Z"
   },
   {
    "duration": 32,
    "start_time": "2023-07-14T08:55:39.630Z"
   },
   {
    "duration": 64,
    "start_time": "2023-07-14T08:55:39.665Z"
   },
   {
    "duration": 8,
    "start_time": "2023-07-14T08:55:39.731Z"
   },
   {
    "duration": 74,
    "start_time": "2023-07-14T08:55:39.741Z"
   },
   {
    "duration": 81,
    "start_time": "2023-07-14T08:55:39.817Z"
   },
   {
    "duration": 89,
    "start_time": "2023-07-14T08:55:39.900Z"
   },
   {
    "duration": 64,
    "start_time": "2023-07-14T08:55:39.991Z"
   },
   {
    "duration": 280,
    "start_time": "2023-07-14T08:55:40.058Z"
   },
   {
    "duration": 78,
    "start_time": "2023-07-14T08:55:40.340Z"
   },
   {
    "duration": 46,
    "start_time": "2023-07-14T08:55:40.420Z"
   },
   {
    "duration": 15,
    "start_time": "2023-07-14T08:55:40.468Z"
   },
   {
    "duration": 32,
    "start_time": "2023-07-14T08:55:40.485Z"
   },
   {
    "duration": 20,
    "start_time": "2023-07-14T08:55:40.522Z"
   },
   {
    "duration": 31,
    "start_time": "2023-07-14T08:55:40.543Z"
   },
   {
    "duration": 40,
    "start_time": "2023-07-14T08:55:40.576Z"
   },
   {
    "duration": 23,
    "start_time": "2023-07-14T08:55:40.617Z"
   },
   {
    "duration": 16,
    "start_time": "2023-07-14T08:55:40.642Z"
   },
   {
    "duration": 24,
    "start_time": "2023-07-14T08:55:40.660Z"
   },
   {
    "duration": 8,
    "start_time": "2023-07-14T08:55:40.686Z"
   },
   {
    "duration": 52,
    "start_time": "2023-07-14T08:55:40.696Z"
   },
   {
    "duration": 21,
    "start_time": "2023-07-14T08:55:40.750Z"
   },
   {
    "duration": 17,
    "start_time": "2023-07-14T08:55:40.773Z"
   },
   {
    "duration": 21,
    "start_time": "2023-07-14T08:55:40.792Z"
   },
   {
    "duration": 488,
    "start_time": "2023-07-14T08:55:40.815Z"
   },
   {
    "duration": 20,
    "start_time": "2023-07-14T08:55:41.305Z"
   },
   {
    "duration": 3,
    "start_time": "2023-07-14T08:55:41.329Z"
   },
   {
    "duration": 8,
    "start_time": "2023-07-14T08:55:41.334Z"
   },
   {
    "duration": 55,
    "start_time": "2023-07-14T08:55:41.344Z"
   },
   {
    "duration": 23,
    "start_time": "2023-07-14T08:55:41.401Z"
   },
   {
    "duration": 440,
    "start_time": "2023-07-14T08:55:41.425Z"
   },
   {
    "duration": 49,
    "start_time": "2023-07-14T08:55:41.867Z"
   },
   {
    "duration": 23,
    "start_time": "2023-07-14T08:55:41.919Z"
   },
   {
    "duration": 316,
    "start_time": "2023-07-14T08:55:41.943Z"
   },
   {
    "duration": 10,
    "start_time": "2023-07-14T08:55:42.261Z"
   },
   {
    "duration": 44,
    "start_time": "2023-07-14T08:55:42.273Z"
   },
   {
    "duration": 10,
    "start_time": "2023-07-14T08:55:42.319Z"
   },
   {
    "duration": 13,
    "start_time": "2023-07-14T08:55:42.331Z"
   },
   {
    "duration": 262,
    "start_time": "2023-07-14T08:55:42.345Z"
   },
   {
    "duration": 14,
    "start_time": "2023-07-14T08:55:42.613Z"
   },
   {
    "duration": 5,
    "start_time": "2023-07-14T08:55:42.630Z"
   },
   {
    "duration": 14,
    "start_time": "2023-07-14T08:55:42.637Z"
   },
   {
    "duration": 389,
    "start_time": "2023-07-14T08:55:42.653Z"
   },
   {
    "duration": 16,
    "start_time": "2023-07-14T08:55:43.044Z"
   },
   {
    "duration": 314,
    "start_time": "2023-07-14T08:55:43.062Z"
   },
   {
    "duration": 13,
    "start_time": "2023-07-14T08:55:43.378Z"
   },
   {
    "duration": 40,
    "start_time": "2023-07-14T08:55:43.393Z"
   },
   {
    "duration": 16,
    "start_time": "2023-07-14T08:55:43.435Z"
   },
   {
    "duration": 104,
    "start_time": "2023-07-14T08:55:43.453Z"
   },
   {
    "duration": 74,
    "start_time": "2023-07-14T08:55:43.559Z"
   },
   {
    "duration": 230,
    "start_time": "2023-07-14T08:55:43.635Z"
   },
   {
    "duration": 22,
    "start_time": "2023-07-14T08:55:43.868Z"
   },
   {
    "duration": 53,
    "start_time": "2023-07-14T08:55:43.892Z"
   },
   {
    "duration": 95,
    "start_time": "2023-07-14T08:55:43.947Z"
   },
   {
    "duration": 8,
    "start_time": "2023-07-14T08:55:44.044Z"
   },
   {
    "duration": 16,
    "start_time": "2023-07-14T08:55:44.054Z"
   },
   {
    "duration": 220,
    "start_time": "2023-07-14T08:55:44.072Z"
   },
   {
    "duration": 23,
    "start_time": "2023-07-14T08:55:44.294Z"
   },
   {
    "duration": 71,
    "start_time": "2023-07-14T08:55:44.319Z"
   },
   {
    "duration": 21,
    "start_time": "2023-07-14T08:55:44.392Z"
   },
   {
    "duration": 188,
    "start_time": "2023-07-14T08:55:44.416Z"
   },
   {
    "duration": 15,
    "start_time": "2023-07-14T08:55:44.613Z"
   },
   {
    "duration": 11,
    "start_time": "2023-07-14T08:55:44.629Z"
   },
   {
    "duration": 86,
    "start_time": "2023-07-14T08:55:44.642Z"
   },
   {
    "duration": 12,
    "start_time": "2023-07-14T08:55:44.729Z"
   },
   {
    "duration": 114,
    "start_time": "2023-07-14T08:55:44.743Z"
   },
   {
    "duration": 10039,
    "start_time": "2023-07-14T08:55:44.858Z"
   },
   {
    "duration": 22,
    "start_time": "2023-07-14T08:55:54.913Z"
   },
   {
    "duration": 180,
    "start_time": "2023-07-14T08:55:54.937Z"
   },
   {
    "duration": 10,
    "start_time": "2023-07-14T08:55:55.119Z"
   },
   {
    "duration": 61,
    "start_time": "2023-07-14T08:55:55.131Z"
   },
   {
    "duration": 58,
    "start_time": "2023-07-14T08:55:55.194Z"
   },
   {
    "duration": 18,
    "start_time": "2023-07-14T09:07:37.813Z"
   },
   {
    "duration": 7,
    "start_time": "2023-07-14T09:08:51.581Z"
   },
   {
    "duration": 167,
    "start_time": "2023-07-14T09:10:33.414Z"
   },
   {
    "duration": 16,
    "start_time": "2023-07-14T09:10:43.375Z"
   },
   {
    "duration": 119,
    "start_time": "2023-07-14T09:12:26.234Z"
   },
   {
    "duration": 14,
    "start_time": "2023-07-14T09:14:15.002Z"
   },
   {
    "duration": 121,
    "start_time": "2023-07-14T09:15:47.558Z"
   },
   {
    "duration": 52,
    "start_time": "2023-07-14T09:15:59.237Z"
   },
   {
    "duration": 109,
    "start_time": "2023-07-14T09:16:08.677Z"
   },
   {
    "duration": 111,
    "start_time": "2023-07-14T09:17:15.691Z"
   },
   {
    "duration": 95,
    "start_time": "2023-07-14T09:22:18.465Z"
   },
   {
    "duration": 24,
    "start_time": "2023-07-14T09:36:41.005Z"
   },
   {
    "duration": 14,
    "start_time": "2023-07-14T09:36:58.337Z"
   },
   {
    "duration": 4,
    "start_time": "2023-07-14T09:37:27.026Z"
   },
   {
    "duration": 457,
    "start_time": "2023-07-14T09:37:27.315Z"
   },
   {
    "duration": 129,
    "start_time": "2023-07-14T09:40:40.272Z"
   },
   {
    "duration": 159,
    "start_time": "2023-07-14T09:43:09.091Z"
   },
   {
    "duration": 6,
    "start_time": "2023-07-14T09:44:14.563Z"
   },
   {
    "duration": 9,
    "start_time": "2023-07-14T09:44:20.981Z"
   },
   {
    "duration": 46,
    "start_time": "2023-07-14T09:44:51.027Z"
   },
   {
    "duration": 93,
    "start_time": "2023-07-14T09:45:29.428Z"
   },
   {
    "duration": 9,
    "start_time": "2023-07-14T09:45:34.133Z"
   },
   {
    "duration": 497,
    "start_time": "2023-07-14T09:47:18.430Z"
   },
   {
    "duration": 84,
    "start_time": "2023-07-14T09:47:44.132Z"
   },
   {
    "duration": 132,
    "start_time": "2023-07-14T09:47:50.663Z"
   },
   {
    "duration": 306,
    "start_time": "2023-07-14T09:48:08.677Z"
   },
   {
    "duration": 88,
    "start_time": "2023-07-14T09:48:50.879Z"
   },
   {
    "duration": 28,
    "start_time": "2023-07-14T09:50:01.170Z"
   },
   {
    "duration": 21,
    "start_time": "2023-07-14T09:50:01.841Z"
   },
   {
    "duration": 20,
    "start_time": "2023-07-14T09:50:03.770Z"
   },
   {
    "duration": 1853,
    "start_time": "2023-07-14T09:50:17.738Z"
   },
   {
    "duration": 26,
    "start_time": "2023-07-14T09:50:19.594Z"
   },
   {
    "duration": 5,
    "start_time": "2023-07-14T09:50:19.622Z"
   },
   {
    "duration": 74,
    "start_time": "2023-07-14T09:50:19.629Z"
   },
   {
    "duration": 9,
    "start_time": "2023-07-14T09:50:19.707Z"
   },
   {
    "duration": 23,
    "start_time": "2023-07-14T09:50:19.718Z"
   },
   {
    "duration": 43,
    "start_time": "2023-07-14T09:50:19.743Z"
   },
   {
    "duration": 51,
    "start_time": "2023-07-14T09:50:19.789Z"
   },
   {
    "duration": 35,
    "start_time": "2023-07-14T09:50:19.843Z"
   },
   {
    "duration": 15,
    "start_time": "2023-07-14T09:50:19.881Z"
   },
   {
    "duration": 35,
    "start_time": "2023-07-14T09:50:19.898Z"
   },
   {
    "duration": 28,
    "start_time": "2023-07-14T09:50:19.942Z"
   },
   {
    "duration": 18,
    "start_time": "2023-07-14T09:50:19.972Z"
   },
   {
    "duration": 55,
    "start_time": "2023-07-14T09:50:19.995Z"
   },
   {
    "duration": 31,
    "start_time": "2023-07-14T09:50:20.054Z"
   },
   {
    "duration": 40,
    "start_time": "2023-07-14T09:50:20.087Z"
   },
   {
    "duration": 29,
    "start_time": "2023-07-14T09:50:20.130Z"
   },
   {
    "duration": 28,
    "start_time": "2023-07-14T09:50:20.161Z"
   },
   {
    "duration": 19,
    "start_time": "2023-07-14T09:50:20.191Z"
   },
   {
    "duration": 35,
    "start_time": "2023-07-14T09:50:20.212Z"
   },
   {
    "duration": 30,
    "start_time": "2023-07-14T09:50:20.249Z"
   },
   {
    "duration": 62,
    "start_time": "2023-07-14T09:50:20.281Z"
   },
   {
    "duration": 28,
    "start_time": "2023-07-14T09:50:20.345Z"
   },
   {
    "duration": 25,
    "start_time": "2023-07-14T09:50:20.375Z"
   },
   {
    "duration": 55,
    "start_time": "2023-07-14T09:50:20.402Z"
   },
   {
    "duration": 432,
    "start_time": "2023-07-14T09:50:20.459Z"
   },
   {
    "duration": 26,
    "start_time": "2023-07-14T09:50:20.893Z"
   },
   {
    "duration": 33,
    "start_time": "2023-07-14T09:50:20.921Z"
   },
   {
    "duration": 72,
    "start_time": "2023-07-14T09:50:20.956Z"
   },
   {
    "duration": 160,
    "start_time": "2023-07-14T09:50:21.030Z"
   },
   {
    "duration": 57,
    "start_time": "2023-07-14T09:50:21.192Z"
   },
   {
    "duration": 510,
    "start_time": "2023-07-14T09:50:21.251Z"
   },
   {
    "duration": 54,
    "start_time": "2023-07-14T09:50:21.763Z"
   },
   {
    "duration": 37,
    "start_time": "2023-07-14T09:50:21.819Z"
   },
   {
    "duration": 357,
    "start_time": "2023-07-14T09:50:21.858Z"
   },
   {
    "duration": 16,
    "start_time": "2023-07-14T09:50:22.217Z"
   },
   {
    "duration": 36,
    "start_time": "2023-07-14T09:50:22.235Z"
   },
   {
    "duration": 7,
    "start_time": "2023-07-14T09:50:22.273Z"
   },
   {
    "duration": 33,
    "start_time": "2023-07-14T09:50:22.282Z"
   },
   {
    "duration": 270,
    "start_time": "2023-07-14T09:50:22.317Z"
   },
   {
    "duration": 13,
    "start_time": "2023-07-14T09:50:22.591Z"
   },
   {
    "duration": 16,
    "start_time": "2023-07-14T09:50:22.615Z"
   },
   {
    "duration": 40,
    "start_time": "2023-07-14T09:50:22.633Z"
   },
   {
    "duration": 421,
    "start_time": "2023-07-14T09:50:22.675Z"
   },
   {
    "duration": 29,
    "start_time": "2023-07-14T09:50:23.098Z"
   },
   {
    "duration": 309,
    "start_time": "2023-07-14T09:50:23.130Z"
   },
   {
    "duration": 13,
    "start_time": "2023-07-14T09:50:23.441Z"
   },
   {
    "duration": 105,
    "start_time": "2023-07-14T09:50:23.457Z"
   },
   {
    "duration": 17,
    "start_time": "2023-07-14T09:50:23.564Z"
   },
   {
    "duration": 54,
    "start_time": "2023-07-14T09:50:23.583Z"
   },
   {
    "duration": 32,
    "start_time": "2023-07-14T09:50:23.640Z"
   },
   {
    "duration": 286,
    "start_time": "2023-07-14T09:50:23.674Z"
   },
   {
    "duration": 20,
    "start_time": "2023-07-14T09:50:23.962Z"
   },
   {
    "duration": 4,
    "start_time": "2023-07-14T09:50:23.984Z"
   },
   {
    "duration": 140,
    "start_time": "2023-07-14T09:50:23.989Z"
   },
   {
    "duration": 10,
    "start_time": "2023-07-14T09:50:24.131Z"
   },
   {
    "duration": 93,
    "start_time": "2023-07-14T09:50:24.144Z"
   },
   {
    "duration": 244,
    "start_time": "2023-07-14T09:50:24.241Z"
   },
   {
    "duration": 15,
    "start_time": "2023-07-14T09:50:24.486Z"
   },
   {
    "duration": 87,
    "start_time": "2023-07-14T09:50:24.513Z"
   },
   {
    "duration": 18,
    "start_time": "2023-07-14T09:50:24.602Z"
   },
   {
    "duration": 219,
    "start_time": "2023-07-14T09:50:24.622Z"
   },
   {
    "duration": 19,
    "start_time": "2023-07-14T09:50:24.843Z"
   },
   {
    "duration": 25,
    "start_time": "2023-07-14T09:50:24.864Z"
   },
   {
    "duration": 99,
    "start_time": "2023-07-14T09:50:24.891Z"
   },
   {
    "duration": 26,
    "start_time": "2023-07-14T09:50:24.992Z"
   },
   {
    "duration": 146,
    "start_time": "2023-07-14T09:50:25.020Z"
   },
   {
    "duration": 11604,
    "start_time": "2023-07-14T09:50:25.168Z"
   },
   {
    "duration": 58,
    "start_time": "2023-07-14T09:50:36.774Z"
   },
   {
    "duration": 216,
    "start_time": "2023-07-14T09:50:36.834Z"
   },
   {
    "duration": 66,
    "start_time": "2023-07-14T09:50:37.052Z"
   },
   {
    "duration": 25,
    "start_time": "2023-07-14T09:50:37.120Z"
   },
   {
    "duration": 114,
    "start_time": "2023-07-14T09:50:37.147Z"
   },
   {
    "duration": 23,
    "start_time": "2023-07-14T09:50:37.263Z"
   },
   {
    "duration": 53,
    "start_time": "2023-07-14T09:50:37.288Z"
   },
   {
    "duration": 137,
    "start_time": "2023-07-14T09:50:37.352Z"
   },
   {
    "duration": 18,
    "start_time": "2023-07-14T11:49:57.438Z"
   },
   {
    "duration": 10,
    "start_time": "2023-07-14T11:50:07.218Z"
   },
   {
    "duration": 13,
    "start_time": "2023-07-14T11:51:37.858Z"
   },
   {
    "duration": 13,
    "start_time": "2023-07-14T11:52:04.113Z"
   },
   {
    "duration": 9,
    "start_time": "2023-07-14T11:52:23.608Z"
   },
   {
    "duration": 14,
    "start_time": "2023-07-14T11:52:28.768Z"
   },
   {
    "duration": 16,
    "start_time": "2023-07-14T11:54:39.089Z"
   },
   {
    "duration": 11,
    "start_time": "2023-07-14T11:55:18.690Z"
   },
   {
    "duration": 16,
    "start_time": "2023-07-14T11:55:22.365Z"
   },
   {
    "duration": 198,
    "start_time": "2023-07-14T11:56:33.754Z"
   },
   {
    "duration": 285,
    "start_time": "2023-07-14T11:57:03.750Z"
   },
   {
    "duration": 97,
    "start_time": "2023-07-14T11:57:59.984Z"
   },
   {
    "duration": 112,
    "start_time": "2023-07-14T12:00:02.078Z"
   },
   {
    "duration": 80,
    "start_time": "2023-07-14T12:01:15.031Z"
   },
   {
    "duration": 10686,
    "start_time": "2023-07-14T12:03:54.307Z"
   },
   {
    "duration": 28,
    "start_time": "2023-07-14T12:06:12.129Z"
   },
   {
    "duration": 21471,
    "start_time": "2023-07-14T12:06:24.317Z"
   },
   {
    "duration": 23704,
    "start_time": "2023-07-14T12:07:10.171Z"
   },
   {
    "duration": 2132,
    "start_time": "2023-07-14T12:08:44.066Z"
   },
   {
    "duration": 26,
    "start_time": "2023-07-14T12:08:46.200Z"
   },
   {
    "duration": 37,
    "start_time": "2023-07-14T12:08:46.227Z"
   },
   {
    "duration": 65,
    "start_time": "2023-07-14T12:08:46.266Z"
   },
   {
    "duration": 6,
    "start_time": "2023-07-14T12:08:46.333Z"
   },
   {
    "duration": 16,
    "start_time": "2023-07-14T12:08:46.340Z"
   },
   {
    "duration": 35,
    "start_time": "2023-07-14T12:08:46.358Z"
   },
   {
    "duration": 38,
    "start_time": "2023-07-14T12:08:46.395Z"
   },
   {
    "duration": 20,
    "start_time": "2023-07-14T12:08:46.435Z"
   },
   {
    "duration": 8,
    "start_time": "2023-07-14T12:08:46.457Z"
   },
   {
    "duration": 469,
    "start_time": "2023-07-14T12:08:46.467Z"
   },
   {
    "duration": 16,
    "start_time": "2023-07-14T12:08:46.938Z"
   },
   {
    "duration": 20,
    "start_time": "2023-07-14T12:08:46.956Z"
   },
   {
    "duration": 64,
    "start_time": "2023-07-14T12:08:46.980Z"
   },
   {
    "duration": 38,
    "start_time": "2023-07-14T12:08:47.046Z"
   },
   {
    "duration": 25,
    "start_time": "2023-07-14T12:08:47.085Z"
   },
   {
    "duration": 30,
    "start_time": "2023-07-14T12:08:47.112Z"
   },
   {
    "duration": 22,
    "start_time": "2023-07-14T12:08:47.144Z"
   },
   {
    "duration": 12,
    "start_time": "2023-07-14T12:08:47.168Z"
   },
   {
    "duration": 82,
    "start_time": "2023-07-14T12:08:47.181Z"
   },
   {
    "duration": 10,
    "start_time": "2023-07-14T12:08:47.265Z"
   },
   {
    "duration": 18,
    "start_time": "2023-07-14T12:08:47.276Z"
   },
   {
    "duration": 16,
    "start_time": "2023-07-14T12:08:47.296Z"
   },
   {
    "duration": 12,
    "start_time": "2023-07-14T12:08:47.318Z"
   },
   {
    "duration": 31,
    "start_time": "2023-07-14T12:08:47.332Z"
   },
   {
    "duration": 433,
    "start_time": "2023-07-14T12:08:47.366Z"
   },
   {
    "duration": 26,
    "start_time": "2023-07-14T12:08:47.801Z"
   },
   {
    "duration": 5,
    "start_time": "2023-07-14T12:08:47.829Z"
   },
   {
    "duration": 62,
    "start_time": "2023-07-14T12:08:47.836Z"
   },
   {
    "duration": 89,
    "start_time": "2023-07-14T12:08:47.900Z"
   },
   {
    "duration": 12,
    "start_time": "2023-07-14T12:08:47.991Z"
   },
   {
    "duration": 920,
    "start_time": "2023-07-14T12:08:48.005Z"
   },
   {
    "duration": 16,
    "start_time": "2023-07-14T12:08:48.932Z"
   },
   {
    "duration": 74,
    "start_time": "2023-07-14T12:08:48.950Z"
   },
   {
    "duration": 694,
    "start_time": "2023-07-14T12:08:49.027Z"
   },
   {
    "duration": 17,
    "start_time": "2023-07-14T12:08:49.723Z"
   },
   {
    "duration": 84,
    "start_time": "2023-07-14T12:08:49.742Z"
   },
   {
    "duration": 8,
    "start_time": "2023-07-14T12:08:49.832Z"
   },
   {
    "duration": 23,
    "start_time": "2023-07-14T12:08:49.842Z"
   },
   {
    "duration": 546,
    "start_time": "2023-07-14T12:08:49.914Z"
   },
   {
    "duration": 16,
    "start_time": "2023-07-14T12:08:50.467Z"
   },
   {
    "duration": 5,
    "start_time": "2023-07-14T12:08:50.485Z"
   },
   {
    "duration": 24,
    "start_time": "2023-07-14T12:08:50.492Z"
   },
   {
    "duration": 375,
    "start_time": "2023-07-14T12:08:50.518Z"
   },
   {
    "duration": 34,
    "start_time": "2023-07-14T12:08:50.895Z"
   },
   {
    "duration": 324,
    "start_time": "2023-07-14T12:08:50.932Z"
   },
   {
    "duration": 12,
    "start_time": "2023-07-14T12:08:51.258Z"
   },
   {
    "duration": 432,
    "start_time": "2023-07-14T12:08:51.271Z"
   },
   {
    "duration": 16,
    "start_time": "2023-07-14T12:08:51.705Z"
   },
   {
    "duration": 10,
    "start_time": "2023-07-14T12:08:51.726Z"
   },
   {
    "duration": 7,
    "start_time": "2023-07-14T12:08:51.737Z"
   },
   {
    "duration": 412,
    "start_time": "2023-07-14T12:08:51.746Z"
   },
   {
    "duration": 74,
    "start_time": "2023-07-14T12:08:52.160Z"
   },
   {
    "duration": 4,
    "start_time": "2023-07-14T12:08:52.236Z"
   },
   {
    "duration": 203,
    "start_time": "2023-07-14T12:08:52.242Z"
   },
   {
    "duration": 6,
    "start_time": "2023-07-14T12:08:52.446Z"
   },
   {
    "duration": 64,
    "start_time": "2023-07-14T12:08:52.454Z"
   },
   {
    "duration": 442,
    "start_time": "2023-07-14T12:08:52.531Z"
   },
   {
    "duration": 54,
    "start_time": "2023-07-14T12:08:52.975Z"
   },
   {
    "duration": 71,
    "start_time": "2023-07-14T12:08:53.031Z"
   },
   {
    "duration": 12,
    "start_time": "2023-07-14T12:08:53.113Z"
   },
   {
    "duration": 204,
    "start_time": "2023-07-14T12:08:53.126Z"
   },
   {
    "duration": 14,
    "start_time": "2023-07-14T12:08:53.332Z"
   },
   {
    "duration": 14,
    "start_time": "2023-07-14T12:08:53.347Z"
   },
   {
    "duration": 93,
    "start_time": "2023-07-14T12:08:53.363Z"
   },
   {
    "duration": 13,
    "start_time": "2023-07-14T12:08:53.458Z"
   },
   {
    "duration": 170,
    "start_time": "2023-07-14T12:08:53.472Z"
   },
   {
    "duration": 11000,
    "start_time": "2023-07-14T12:08:53.644Z"
   },
   {
    "duration": 24,
    "start_time": "2023-07-14T12:09:04.647Z"
   },
   {
    "duration": 177,
    "start_time": "2023-07-14T12:09:04.673Z"
   },
   {
    "duration": 62,
    "start_time": "2023-07-14T12:09:04.852Z"
   },
   {
    "duration": 32,
    "start_time": "2023-07-14T12:09:04.916Z"
   },
   {
    "duration": 51,
    "start_time": "2023-07-14T12:09:04.950Z"
   },
   {
    "duration": 33,
    "start_time": "2023-07-14T12:09:05.012Z"
   },
   {
    "duration": 111,
    "start_time": "2023-07-14T12:09:05.048Z"
   },
   {
    "duration": 10,
    "start_time": "2023-07-14T12:09:05.161Z"
   },
   {
    "duration": 44,
    "start_time": "2023-07-14T12:09:05.173Z"
   },
   {
    "duration": 101,
    "start_time": "2023-07-14T12:09:05.219Z"
   },
   {
    "duration": 1826,
    "start_time": "2023-07-14T12:09:05.325Z"
   },
   {
    "duration": 3,
    "start_time": "2023-07-14T12:51:40.637Z"
   },
   {
    "duration": 21,
    "start_time": "2023-07-14T12:59:16.078Z"
   },
   {
    "duration": 13,
    "start_time": "2023-07-14T13:02:47.131Z"
   },
   {
    "duration": 502,
    "start_time": "2023-07-14T14:14:00.767Z"
   },
   {
    "duration": 335,
    "start_time": "2023-07-14T14:14:22.463Z"
   },
   {
    "duration": 390,
    "start_time": "2023-07-14T14:15:14.920Z"
   },
   {
    "duration": 332,
    "start_time": "2023-07-14T14:19:41.178Z"
   },
   {
    "duration": 657,
    "start_time": "2023-07-14T14:20:27.541Z"
   },
   {
    "duration": 759,
    "start_time": "2023-07-14T14:23:04.140Z"
   },
   {
    "duration": 599,
    "start_time": "2023-07-14T14:23:19.110Z"
   },
   {
    "duration": 593,
    "start_time": "2023-07-14T14:23:32.468Z"
   },
   {
    "duration": 486,
    "start_time": "2023-07-14T14:23:45.153Z"
   },
   {
    "duration": 477,
    "start_time": "2023-07-14T14:23:58.059Z"
   },
   {
    "duration": 26,
    "start_time": "2023-07-14T14:29:23.137Z"
   },
   {
    "duration": 23,
    "start_time": "2023-07-14T14:29:41.743Z"
   },
   {
    "duration": 58,
    "start_time": "2023-07-14T14:29:49.899Z"
   },
   {
    "duration": 28,
    "start_time": "2023-07-14T14:30:20.508Z"
   },
   {
    "duration": 17,
    "start_time": "2023-07-14T14:30:26.199Z"
   },
   {
    "duration": 40,
    "start_time": "2023-07-14T14:31:10.100Z"
   },
   {
    "duration": 26,
    "start_time": "2023-07-14T14:35:40.110Z"
   },
   {
    "duration": 33,
    "start_time": "2023-07-14T14:35:53.263Z"
   },
   {
    "duration": 30,
    "start_time": "2023-07-14T14:36:41.701Z"
   },
   {
    "duration": 12,
    "start_time": "2023-07-14T14:36:55.571Z"
   },
   {
    "duration": 23,
    "start_time": "2023-07-14T14:37:14.047Z"
   },
   {
    "duration": 24,
    "start_time": "2023-07-14T14:37:37.991Z"
   },
   {
    "duration": 26,
    "start_time": "2023-07-14T14:38:18.603Z"
   },
   {
    "duration": 29,
    "start_time": "2023-07-14T14:38:30.719Z"
   },
   {
    "duration": 84,
    "start_time": "2023-07-14T14:39:31.457Z"
   },
   {
    "duration": 33,
    "start_time": "2023-07-14T14:39:52.507Z"
   },
   {
    "duration": 14,
    "start_time": "2023-07-14T17:58:19.155Z"
   },
   {
    "duration": 10,
    "start_time": "2023-07-14T17:59:18.765Z"
   },
   {
    "duration": 24,
    "start_time": "2023-07-14T17:59:46.906Z"
   },
   {
    "duration": 69,
    "start_time": "2023-07-14T17:59:59.010Z"
   },
   {
    "duration": 10,
    "start_time": "2023-07-14T18:00:23.562Z"
   },
   {
    "duration": 22,
    "start_time": "2023-07-14T18:00:44.795Z"
   },
   {
    "duration": 6,
    "start_time": "2023-07-14T18:02:34.488Z"
   },
   {
    "duration": 7,
    "start_time": "2023-07-14T18:02:44.184Z"
   },
   {
    "duration": 7,
    "start_time": "2023-07-14T18:03:04.303Z"
   },
   {
    "duration": 11,
    "start_time": "2023-07-14T18:03:07.836Z"
   },
   {
    "duration": 15,
    "start_time": "2023-07-14T18:03:16.428Z"
   },
   {
    "duration": 69,
    "start_time": "2023-07-14T18:03:19.337Z"
   },
   {
    "duration": 9,
    "start_time": "2023-07-14T18:03:23.881Z"
   },
   {
    "duration": 5,
    "start_time": "2023-07-14T18:05:26.483Z"
   },
   {
    "duration": 117,
    "start_time": "2023-07-14T18:05:27.161Z"
   },
   {
    "duration": 61,
    "start_time": "2023-07-14T18:10:17.467Z"
   },
   {
    "duration": 12,
    "start_time": "2023-07-14T18:10:27.735Z"
   },
   {
    "duration": 11,
    "start_time": "2023-07-14T18:10:33.167Z"
   },
   {
    "duration": 98,
    "start_time": "2023-07-14T18:11:17.236Z"
   },
   {
    "duration": 1805,
    "start_time": "2023-07-15T04:09:36.569Z"
   },
   {
    "duration": 20,
    "start_time": "2023-07-15T04:09:38.376Z"
   },
   {
    "duration": 57,
    "start_time": "2023-07-15T04:09:38.397Z"
   },
   {
    "duration": 53,
    "start_time": "2023-07-15T04:09:38.456Z"
   },
   {
    "duration": 4,
    "start_time": "2023-07-15T04:09:38.511Z"
   },
   {
    "duration": 42,
    "start_time": "2023-07-15T04:09:38.517Z"
   },
   {
    "duration": 56,
    "start_time": "2023-07-15T04:09:38.560Z"
   },
   {
    "duration": 53,
    "start_time": "2023-07-15T04:09:38.618Z"
   },
   {
    "duration": 18,
    "start_time": "2023-07-15T04:09:38.673Z"
   },
   {
    "duration": 8,
    "start_time": "2023-07-15T04:09:38.695Z"
   },
   {
    "duration": 32,
    "start_time": "2023-07-15T04:09:38.704Z"
   },
   {
    "duration": 19,
    "start_time": "2023-07-15T04:09:38.738Z"
   },
   {
    "duration": 45,
    "start_time": "2023-07-15T04:09:38.759Z"
   },
   {
    "duration": 33,
    "start_time": "2023-07-15T04:09:38.806Z"
   },
   {
    "duration": 65,
    "start_time": "2023-07-15T04:09:38.841Z"
   },
   {
    "duration": 37,
    "start_time": "2023-07-15T04:09:38.908Z"
   },
   {
    "duration": 37,
    "start_time": "2023-07-15T04:09:38.947Z"
   },
   {
    "duration": 18,
    "start_time": "2023-07-15T04:09:38.986Z"
   },
   {
    "duration": 11,
    "start_time": "2023-07-15T04:09:39.006Z"
   },
   {
    "duration": 31,
    "start_time": "2023-07-15T04:09:39.019Z"
   },
   {
    "duration": 9,
    "start_time": "2023-07-15T04:09:39.052Z"
   },
   {
    "duration": 31,
    "start_time": "2023-07-15T04:09:39.063Z"
   },
   {
    "duration": 18,
    "start_time": "2023-07-15T04:09:39.096Z"
   },
   {
    "duration": 19,
    "start_time": "2023-07-15T04:09:39.115Z"
   },
   {
    "duration": 25,
    "start_time": "2023-07-15T04:09:39.135Z"
   },
   {
    "duration": 431,
    "start_time": "2023-07-15T04:09:39.162Z"
   },
   {
    "duration": 18,
    "start_time": "2023-07-15T04:09:39.595Z"
   },
   {
    "duration": 18,
    "start_time": "2023-07-15T04:09:39.617Z"
   },
   {
    "duration": 10,
    "start_time": "2023-07-15T04:09:39.636Z"
   },
   {
    "duration": 70,
    "start_time": "2023-07-15T04:09:39.648Z"
   },
   {
    "duration": 9,
    "start_time": "2023-07-15T04:09:39.720Z"
   },
   {
    "duration": 414,
    "start_time": "2023-07-15T04:09:39.730Z"
   },
   {
    "duration": 14,
    "start_time": "2023-07-15T04:09:40.146Z"
   },
   {
    "duration": 18,
    "start_time": "2023-07-15T04:09:40.162Z"
   },
   {
    "duration": 252,
    "start_time": "2023-07-15T04:09:40.221Z"
   },
   {
    "duration": 10,
    "start_time": "2023-07-15T04:09:40.475Z"
   },
   {
    "duration": 59,
    "start_time": "2023-07-15T04:09:40.487Z"
   },
   {
    "duration": 8,
    "start_time": "2023-07-15T04:09:40.548Z"
   },
   {
    "duration": 26,
    "start_time": "2023-07-15T04:09:40.557Z"
   },
   {
    "duration": 226,
    "start_time": "2023-07-15T04:09:40.584Z"
   },
   {
    "duration": 15,
    "start_time": "2023-07-15T04:09:40.812Z"
   },
   {
    "duration": 47,
    "start_time": "2023-07-15T04:09:40.828Z"
   },
   {
    "duration": 38,
    "start_time": "2023-07-15T04:09:40.877Z"
   },
   {
    "duration": 339,
    "start_time": "2023-07-15T04:09:40.917Z"
   },
   {
    "duration": 11,
    "start_time": "2023-07-15T04:09:41.257Z"
   },
   {
    "duration": 254,
    "start_time": "2023-07-15T04:09:41.269Z"
   },
   {
    "duration": 11,
    "start_time": "2023-07-15T04:09:41.524Z"
   },
   {
    "duration": 27,
    "start_time": "2023-07-15T04:09:41.537Z"
   },
   {
    "duration": 3,
    "start_time": "2023-07-15T04:09:41.566Z"
   },
   {
    "duration": 41,
    "start_time": "2023-07-15T04:09:41.570Z"
   },
   {
    "duration": 67,
    "start_time": "2023-07-15T04:09:41.612Z"
   },
   {
    "duration": 201,
    "start_time": "2023-07-15T04:09:41.681Z"
   },
   {
    "duration": 39,
    "start_time": "2023-07-15T04:09:41.884Z"
   },
   {
    "duration": 4,
    "start_time": "2023-07-15T04:09:41.925Z"
   },
   {
    "duration": 80,
    "start_time": "2023-07-15T04:09:41.931Z"
   },
   {
    "duration": 11,
    "start_time": "2023-07-15T04:09:42.013Z"
   },
   {
    "duration": 13,
    "start_time": "2023-07-15T04:09:42.025Z"
   },
   {
    "duration": 224,
    "start_time": "2023-07-15T04:09:42.039Z"
   },
   {
    "duration": 12,
    "start_time": "2023-07-15T04:09:42.265Z"
   },
   {
    "duration": 83,
    "start_time": "2023-07-15T04:09:42.279Z"
   },
   {
    "duration": 5,
    "start_time": "2023-07-15T04:09:42.363Z"
   },
   {
    "duration": 189,
    "start_time": "2023-07-15T04:09:42.370Z"
   },
   {
    "duration": 15,
    "start_time": "2023-07-15T04:09:42.560Z"
   },
   {
    "duration": 12,
    "start_time": "2023-07-15T04:09:42.576Z"
   },
   {
    "duration": 92,
    "start_time": "2023-07-15T04:09:42.590Z"
   },
   {
    "duration": 12,
    "start_time": "2023-07-15T04:09:42.685Z"
   },
   {
    "duration": 147,
    "start_time": "2023-07-15T04:09:42.699Z"
   },
   {
    "duration": 9313,
    "start_time": "2023-07-15T04:09:42.848Z"
   },
   {
    "duration": 58,
    "start_time": "2023-07-15T04:09:52.163Z"
   },
   {
    "duration": 117,
    "start_time": "2023-07-15T04:09:52.223Z"
   },
   {
    "duration": 10,
    "start_time": "2023-07-15T04:09:52.342Z"
   },
   {
    "duration": 76,
    "start_time": "2023-07-15T04:09:52.354Z"
   },
   {
    "duration": 103,
    "start_time": "2023-07-15T04:09:52.432Z"
   },
   {
    "duration": 48,
    "start_time": "2023-07-15T04:09:52.537Z"
   },
   {
    "duration": 123,
    "start_time": "2023-07-15T04:09:52.586Z"
   },
   {
    "duration": 18,
    "start_time": "2023-07-15T04:09:52.711Z"
   },
   {
    "duration": 69,
    "start_time": "2023-07-15T04:09:52.730Z"
   },
   {
    "duration": 143,
    "start_time": "2023-07-15T04:09:52.801Z"
   },
   {
    "duration": 186,
    "start_time": "2023-07-15T04:09:52.945Z"
   },
   {
    "duration": 0,
    "start_time": "2023-07-15T04:09:53.133Z"
   },
   {
    "duration": 0,
    "start_time": "2023-07-15T04:09:53.134Z"
   },
   {
    "duration": 0,
    "start_time": "2023-07-15T04:09:53.136Z"
   },
   {
    "duration": 0,
    "start_time": "2023-07-15T04:09:53.138Z"
   },
   {
    "duration": 0,
    "start_time": "2023-07-15T04:09:53.139Z"
   },
   {
    "duration": 0,
    "start_time": "2023-07-15T04:09:53.142Z"
   },
   {
    "duration": 0,
    "start_time": "2023-07-15T04:09:53.144Z"
   },
   {
    "duration": 0,
    "start_time": "2023-07-15T04:09:53.145Z"
   },
   {
    "duration": 160,
    "start_time": "2023-07-15T04:11:29.452Z"
   },
   {
    "duration": 1512,
    "start_time": "2023-07-15T04:21:34.569Z"
   },
   {
    "duration": 16,
    "start_time": "2023-07-15T04:21:36.083Z"
   },
   {
    "duration": 5,
    "start_time": "2023-07-15T04:21:36.100Z"
   },
   {
    "duration": 47,
    "start_time": "2023-07-15T04:21:36.106Z"
   },
   {
    "duration": 3,
    "start_time": "2023-07-15T04:21:36.155Z"
   },
   {
    "duration": 22,
    "start_time": "2023-07-15T04:21:36.160Z"
   },
   {
    "duration": 37,
    "start_time": "2023-07-15T04:21:36.184Z"
   },
   {
    "duration": 16,
    "start_time": "2023-07-15T04:21:36.223Z"
   },
   {
    "duration": 21,
    "start_time": "2023-07-15T04:21:36.241Z"
   },
   {
    "duration": 11,
    "start_time": "2023-07-15T04:21:36.265Z"
   },
   {
    "duration": 22,
    "start_time": "2023-07-15T04:21:36.277Z"
   },
   {
    "duration": 39,
    "start_time": "2023-07-15T04:21:36.301Z"
   },
   {
    "duration": 16,
    "start_time": "2023-07-15T04:21:36.341Z"
   },
   {
    "duration": 18,
    "start_time": "2023-07-15T04:21:36.358Z"
   },
   {
    "duration": 26,
    "start_time": "2023-07-15T04:21:36.378Z"
   },
   {
    "duration": 5,
    "start_time": "2023-07-15T04:21:36.406Z"
   },
   {
    "duration": 18,
    "start_time": "2023-07-15T04:21:36.412Z"
   },
   {
    "duration": 27,
    "start_time": "2023-07-15T04:21:36.432Z"
   },
   {
    "duration": 9,
    "start_time": "2023-07-15T04:21:36.460Z"
   },
   {
    "duration": 20,
    "start_time": "2023-07-15T04:21:36.470Z"
   },
   {
    "duration": 9,
    "start_time": "2023-07-15T04:21:36.491Z"
   },
   {
    "duration": 20,
    "start_time": "2023-07-15T04:21:36.501Z"
   },
   {
    "duration": 12,
    "start_time": "2023-07-15T04:21:36.523Z"
   },
   {
    "duration": 19,
    "start_time": "2023-07-15T04:21:36.536Z"
   },
   {
    "duration": 28,
    "start_time": "2023-07-15T04:21:36.556Z"
   },
   {
    "duration": 356,
    "start_time": "2023-07-15T04:21:36.585Z"
   },
   {
    "duration": 18,
    "start_time": "2023-07-15T04:21:36.943Z"
   },
   {
    "duration": 37,
    "start_time": "2023-07-15T04:21:36.964Z"
   },
   {
    "duration": 51,
    "start_time": "2023-07-15T04:21:37.003Z"
   },
   {
    "duration": 69,
    "start_time": "2023-07-15T04:21:37.056Z"
   },
   {
    "duration": 10,
    "start_time": "2023-07-15T04:21:37.126Z"
   },
   {
    "duration": 367,
    "start_time": "2023-07-15T04:21:37.137Z"
   },
   {
    "duration": 18,
    "start_time": "2023-07-15T04:21:37.506Z"
   },
   {
    "duration": 22,
    "start_time": "2023-07-15T04:21:37.525Z"
   },
   {
    "duration": 258,
    "start_time": "2023-07-15T04:21:37.548Z"
   },
   {
    "duration": 17,
    "start_time": "2023-07-15T04:21:37.808Z"
   },
   {
    "duration": 32,
    "start_time": "2023-07-15T04:21:37.827Z"
   },
   {
    "duration": 14,
    "start_time": "2023-07-15T04:21:37.860Z"
   },
   {
    "duration": 22,
    "start_time": "2023-07-15T04:21:37.875Z"
   },
   {
    "duration": 207,
    "start_time": "2023-07-15T04:21:37.898Z"
   },
   {
    "duration": 15,
    "start_time": "2023-07-15T04:21:38.107Z"
   },
   {
    "duration": 10,
    "start_time": "2023-07-15T04:21:38.123Z"
   },
   {
    "duration": 40,
    "start_time": "2023-07-15T04:21:38.134Z"
   },
   {
    "duration": 323,
    "start_time": "2023-07-15T04:21:38.176Z"
   },
   {
    "duration": 10,
    "start_time": "2023-07-15T04:21:38.500Z"
   },
   {
    "duration": 223,
    "start_time": "2023-07-15T04:21:38.521Z"
   },
   {
    "duration": 9,
    "start_time": "2023-07-15T04:21:38.746Z"
   },
   {
    "duration": 23,
    "start_time": "2023-07-15T04:21:38.756Z"
   },
   {
    "duration": 2,
    "start_time": "2023-07-15T04:21:38.781Z"
   },
   {
    "duration": 20,
    "start_time": "2023-07-15T04:21:38.784Z"
   },
   {
    "duration": 11,
    "start_time": "2023-07-15T04:21:38.805Z"
   },
   {
    "duration": 174,
    "start_time": "2023-07-15T04:21:38.817Z"
   },
   {
    "duration": 28,
    "start_time": "2023-07-15T04:21:38.993Z"
   },
   {
    "duration": 4,
    "start_time": "2023-07-15T04:21:39.022Z"
   },
   {
    "duration": 90,
    "start_time": "2023-07-15T04:21:39.027Z"
   },
   {
    "duration": 4,
    "start_time": "2023-07-15T04:21:39.119Z"
   },
   {
    "duration": 50,
    "start_time": "2023-07-15T04:21:39.125Z"
   },
   {
    "duration": 195,
    "start_time": "2023-07-15T04:21:39.177Z"
   },
   {
    "duration": 12,
    "start_time": "2023-07-15T04:21:39.374Z"
   },
   {
    "duration": 71,
    "start_time": "2023-07-15T04:21:39.387Z"
   },
   {
    "duration": 5,
    "start_time": "2023-07-15T04:21:39.459Z"
   },
   {
    "duration": 157,
    "start_time": "2023-07-15T04:21:39.465Z"
   },
   {
    "duration": 13,
    "start_time": "2023-07-15T04:21:39.624Z"
   },
   {
    "duration": 26,
    "start_time": "2023-07-15T04:21:39.639Z"
   },
   {
    "duration": 72,
    "start_time": "2023-07-15T04:21:39.666Z"
   },
   {
    "duration": 11,
    "start_time": "2023-07-15T04:21:39.740Z"
   },
   {
    "duration": 110,
    "start_time": "2023-07-15T04:21:39.753Z"
   },
   {
    "duration": 9155,
    "start_time": "2023-07-15T04:21:39.865Z"
   },
   {
    "duration": 26,
    "start_time": "2023-07-15T04:21:49.022Z"
   },
   {
    "duration": 196,
    "start_time": "2023-07-15T04:21:49.050Z"
   },
   {
    "duration": 10,
    "start_time": "2023-07-15T04:21:49.249Z"
   },
   {
    "duration": 68,
    "start_time": "2023-07-15T04:21:49.261Z"
   },
   {
    "duration": 41,
    "start_time": "2023-07-15T04:21:49.330Z"
   },
   {
    "duration": 51,
    "start_time": "2023-07-15T04:21:49.372Z"
   },
   {
    "duration": 77,
    "start_time": "2023-07-15T04:21:49.425Z"
   },
   {
    "duration": 23,
    "start_time": "2023-07-15T04:21:49.503Z"
   },
   {
    "duration": 20,
    "start_time": "2023-07-15T04:21:49.527Z"
   },
   {
    "duration": 93,
    "start_time": "2023-07-15T04:21:49.549Z"
   },
   {
    "duration": 181,
    "start_time": "2023-07-15T04:21:49.644Z"
   },
   {
    "duration": 0,
    "start_time": "2023-07-15T04:21:49.826Z"
   },
   {
    "duration": 0,
    "start_time": "2023-07-15T04:21:49.827Z"
   },
   {
    "duration": 0,
    "start_time": "2023-07-15T04:21:49.828Z"
   },
   {
    "duration": 0,
    "start_time": "2023-07-15T04:21:49.830Z"
   },
   {
    "duration": 0,
    "start_time": "2023-07-15T04:21:49.831Z"
   },
   {
    "duration": 0,
    "start_time": "2023-07-15T04:21:49.833Z"
   },
   {
    "duration": 0,
    "start_time": "2023-07-15T04:21:49.835Z"
   },
   {
    "duration": 1508,
    "start_time": "2023-07-15T04:22:09.072Z"
   },
   {
    "duration": 3128,
    "start_time": "2023-07-15T04:22:29.580Z"
   },
   {
    "duration": 25,
    "start_time": "2023-07-15T04:22:32.711Z"
   },
   {
    "duration": 0,
    "start_time": "2023-07-15T04:22:32.738Z"
   },
   {
    "duration": 0,
    "start_time": "2023-07-15T04:22:32.739Z"
   },
   {
    "duration": 0,
    "start_time": "2023-07-15T04:22:32.740Z"
   },
   {
    "duration": 0,
    "start_time": "2023-07-15T04:22:32.741Z"
   },
   {
    "duration": 0,
    "start_time": "2023-07-15T04:22:32.742Z"
   },
   {
    "duration": 0,
    "start_time": "2023-07-15T04:22:32.743Z"
   },
   {
    "duration": 22,
    "start_time": "2023-07-15T04:22:52.834Z"
   },
   {
    "duration": 332,
    "start_time": "2023-07-15T04:22:55.580Z"
   },
   {
    "duration": 6,
    "start_time": "2023-07-15T04:22:58.023Z"
   },
   {
    "duration": 7,
    "start_time": "2023-07-15T04:22:58.498Z"
   },
   {
    "duration": 10,
    "start_time": "2023-07-15T04:22:58.964Z"
   },
   {
    "duration": 84,
    "start_time": "2023-07-15T04:22:59.409Z"
   },
   {
    "duration": 79,
    "start_time": "2023-07-15T04:23:01.344Z"
   },
   {
    "duration": 18,
    "start_time": "2023-07-15T04:56:55.133Z"
   },
   {
    "duration": 17,
    "start_time": "2023-07-15T04:58:22.426Z"
   },
   {
    "duration": 339,
    "start_time": "2023-07-15T04:58:47.081Z"
   },
   {
    "duration": 89,
    "start_time": "2023-07-15T05:01:47.337Z"
   },
   {
    "duration": 8,
    "start_time": "2023-07-15T05:05:11.062Z"
   },
   {
    "duration": 8,
    "start_time": "2023-07-15T05:05:26.677Z"
   },
   {
    "duration": 7,
    "start_time": "2023-07-15T05:05:38.565Z"
   },
   {
    "duration": 7,
    "start_time": "2023-07-15T05:05:54.302Z"
   },
   {
    "duration": 10,
    "start_time": "2023-07-15T05:09:37.554Z"
   },
   {
    "duration": 6,
    "start_time": "2023-07-15T05:09:41.071Z"
   },
   {
    "duration": 219,
    "start_time": "2023-07-15T05:09:41.638Z"
   },
   {
    "duration": 195,
    "start_time": "2023-07-15T05:09:48.740Z"
   },
   {
    "duration": 195,
    "start_time": "2023-07-15T05:10:58.291Z"
   },
   {
    "duration": 8,
    "start_time": "2023-07-15T05:12:30.010Z"
   },
   {
    "duration": 226,
    "start_time": "2023-07-15T05:17:16.988Z"
   },
   {
    "duration": 229,
    "start_time": "2023-07-15T05:18:28.443Z"
   },
   {
    "duration": 11,
    "start_time": "2023-07-15T05:29:18.195Z"
   },
   {
    "duration": 198,
    "start_time": "2023-07-15T05:29:23.595Z"
   },
   {
    "duration": 184,
    "start_time": "2023-07-15T05:29:35.984Z"
   },
   {
    "duration": 198,
    "start_time": "2023-07-15T05:29:49.269Z"
   },
   {
    "duration": 139,
    "start_time": "2023-07-15T05:31:48.021Z"
   },
   {
    "duration": 162,
    "start_time": "2023-07-15T05:32:08.982Z"
   },
   {
    "duration": 208,
    "start_time": "2023-07-15T05:32:16.736Z"
   },
   {
    "duration": 207,
    "start_time": "2023-07-15T05:32:34.118Z"
   },
   {
    "duration": 214,
    "start_time": "2023-07-15T05:32:51.353Z"
   },
   {
    "duration": 211,
    "start_time": "2023-07-15T05:33:51.580Z"
   },
   {
    "duration": 1051,
    "start_time": "2023-07-15T05:39:31.385Z"
   },
   {
    "duration": 173,
    "start_time": "2023-07-15T05:39:54.320Z"
   },
   {
    "duration": 5,
    "start_time": "2023-07-15T05:41:32.586Z"
   },
   {
    "duration": 145,
    "start_time": "2023-07-15T05:46:21.420Z"
   },
   {
    "duration": 185,
    "start_time": "2023-07-15T05:46:50.380Z"
   },
   {
    "duration": 503,
    "start_time": "2023-07-15T05:47:10.440Z"
   },
   {
    "duration": 749,
    "start_time": "2023-07-15T05:47:23.626Z"
   },
   {
    "duration": 775,
    "start_time": "2023-07-15T05:47:29.269Z"
   },
   {
    "duration": 91,
    "start_time": "2023-07-15T05:47:40.328Z"
   },
   {
    "duration": 311,
    "start_time": "2023-07-15T05:47:49.536Z"
   },
   {
    "duration": 320,
    "start_time": "2023-07-15T05:47:55.614Z"
   },
   {
    "duration": 378,
    "start_time": "2023-07-15T05:48:02.637Z"
   },
   {
    "duration": 359,
    "start_time": "2023-07-15T05:48:09.652Z"
   },
   {
    "duration": 1853,
    "start_time": "2023-07-15T05:48:13.811Z"
   },
   {
    "duration": 94,
    "start_time": "2023-07-15T05:48:52.748Z"
   },
   {
    "duration": 106,
    "start_time": "2023-07-15T05:48:58.332Z"
   },
   {
    "duration": 232,
    "start_time": "2023-07-15T05:49:02.714Z"
   },
   {
    "duration": 1810,
    "start_time": "2023-07-15T05:49:12.239Z"
   },
   {
    "duration": 209,
    "start_time": "2023-07-15T05:49:25.546Z"
   },
   {
    "duration": 14,
    "start_time": "2023-07-15T05:53:51.383Z"
   },
   {
    "duration": 6,
    "start_time": "2023-07-15T05:54:22.869Z"
   },
   {
    "duration": 202,
    "start_time": "2023-07-15T05:55:15.584Z"
   },
   {
    "duration": 202,
    "start_time": "2023-07-15T05:55:30.922Z"
   },
   {
    "duration": 189,
    "start_time": "2023-07-15T05:55:40.145Z"
   },
   {
    "duration": 207,
    "start_time": "2023-07-15T05:55:48.885Z"
   },
   {
    "duration": 213,
    "start_time": "2023-07-15T05:57:33.190Z"
   },
   {
    "duration": 15,
    "start_time": "2023-07-15T06:27:16.925Z"
   },
   {
    "duration": 9,
    "start_time": "2023-07-15T06:27:43.227Z"
   },
   {
    "duration": 8,
    "start_time": "2023-07-15T06:45:41.850Z"
   },
   {
    "duration": 23,
    "start_time": "2023-07-15T06:46:50.815Z"
   },
   {
    "duration": 15,
    "start_time": "2023-07-15T06:47:09.495Z"
   },
   {
    "duration": 19,
    "start_time": "2023-07-15T06:51:44.965Z"
   },
   {
    "duration": 11,
    "start_time": "2023-07-15T06:51:51.909Z"
   },
   {
    "duration": 25,
    "start_time": "2023-07-15T06:52:12.683Z"
   },
   {
    "duration": 108,
    "start_time": "2023-07-15T06:52:56.878Z"
   },
   {
    "duration": 131,
    "start_time": "2023-07-15T06:53:53.989Z"
   },
   {
    "duration": 107,
    "start_time": "2023-07-15T06:54:03.862Z"
   },
   {
    "duration": 145,
    "start_time": "2023-07-15T06:54:12.843Z"
   },
   {
    "duration": 100,
    "start_time": "2023-07-15T06:54:21.805Z"
   },
   {
    "duration": 6,
    "start_time": "2023-07-15T06:56:19.005Z"
   },
   {
    "duration": 4,
    "start_time": "2023-07-15T07:02:00.269Z"
   },
   {
    "duration": 729,
    "start_time": "2023-07-15T07:02:00.872Z"
   },
   {
    "duration": 4,
    "start_time": "2023-07-15T07:02:26.321Z"
   },
   {
    "duration": 5,
    "start_time": "2023-07-15T07:02:26.882Z"
   },
   {
    "duration": 323,
    "start_time": "2023-07-15T07:07:29.459Z"
   },
   {
    "duration": 327,
    "start_time": "2023-07-15T07:08:35.324Z"
   },
   {
    "duration": 376,
    "start_time": "2023-07-15T07:08:45.153Z"
   },
   {
    "duration": 2008,
    "start_time": "2023-07-15T10:13:57.073Z"
   },
   {
    "duration": 16,
    "start_time": "2023-07-15T10:13:59.084Z"
   },
   {
    "duration": 10,
    "start_time": "2023-07-15T10:13:59.101Z"
   },
   {
    "duration": 38,
    "start_time": "2023-07-15T10:13:59.114Z"
   },
   {
    "duration": 4,
    "start_time": "2023-07-15T10:13:59.153Z"
   },
   {
    "duration": 17,
    "start_time": "2023-07-15T10:13:59.159Z"
   },
   {
    "duration": 24,
    "start_time": "2023-07-15T10:13:59.177Z"
   },
   {
    "duration": 19,
    "start_time": "2023-07-15T10:13:59.203Z"
   },
   {
    "duration": 17,
    "start_time": "2023-07-15T10:13:59.223Z"
   },
   {
    "duration": 31,
    "start_time": "2023-07-15T10:13:59.242Z"
   },
   {
    "duration": 12,
    "start_time": "2023-07-15T10:13:59.275Z"
   },
   {
    "duration": 14,
    "start_time": "2023-07-15T10:13:59.288Z"
   },
   {
    "duration": 10,
    "start_time": "2023-07-15T10:13:59.303Z"
   },
   {
    "duration": 16,
    "start_time": "2023-07-15T10:13:59.315Z"
   },
   {
    "duration": 43,
    "start_time": "2023-07-15T10:13:59.333Z"
   },
   {
    "duration": 4,
    "start_time": "2023-07-15T10:13:59.377Z"
   },
   {
    "duration": 16,
    "start_time": "2023-07-15T10:13:59.382Z"
   },
   {
    "duration": 17,
    "start_time": "2023-07-15T10:13:59.399Z"
   },
   {
    "duration": 9,
    "start_time": "2023-07-15T10:13:59.418Z"
   },
   {
    "duration": 12,
    "start_time": "2023-07-15T10:13:59.429Z"
   },
   {
    "duration": 28,
    "start_time": "2023-07-15T10:13:59.442Z"
   },
   {
    "duration": 26,
    "start_time": "2023-07-15T10:13:59.471Z"
   },
   {
    "duration": 20,
    "start_time": "2023-07-15T10:13:59.498Z"
   },
   {
    "duration": 12,
    "start_time": "2023-07-15T10:13:59.520Z"
   },
   {
    "duration": 32,
    "start_time": "2023-07-15T10:13:59.533Z"
   },
   {
    "duration": 381,
    "start_time": "2023-07-15T10:13:59.567Z"
   },
   {
    "duration": 18,
    "start_time": "2023-07-15T10:13:59.949Z"
   },
   {
    "duration": 2,
    "start_time": "2023-07-15T10:13:59.971Z"
   },
   {
    "duration": 8,
    "start_time": "2023-07-15T10:13:59.975Z"
   },
   {
    "duration": 56,
    "start_time": "2023-07-15T10:13:59.984Z"
   },
   {
    "duration": 11,
    "start_time": "2023-07-15T10:14:00.041Z"
   },
   {
    "duration": 459,
    "start_time": "2023-07-15T10:14:00.053Z"
   },
   {
    "duration": 15,
    "start_time": "2023-07-15T10:14:00.513Z"
   },
   {
    "duration": 48,
    "start_time": "2023-07-15T10:14:00.530Z"
   },
   {
    "duration": 260,
    "start_time": "2023-07-15T10:14:00.580Z"
   },
   {
    "duration": 10,
    "start_time": "2023-07-15T10:14:00.841Z"
   },
   {
    "duration": 51,
    "start_time": "2023-07-15T10:14:00.853Z"
   },
   {
    "duration": 17,
    "start_time": "2023-07-15T10:14:00.905Z"
   },
   {
    "duration": 45,
    "start_time": "2023-07-15T10:14:00.924Z"
   },
   {
    "duration": 254,
    "start_time": "2023-07-15T10:14:00.970Z"
   },
   {
    "duration": 11,
    "start_time": "2023-07-15T10:14:01.225Z"
   },
   {
    "duration": 27,
    "start_time": "2023-07-15T10:14:01.237Z"
   },
   {
    "duration": 36,
    "start_time": "2023-07-15T10:14:01.266Z"
   },
   {
    "duration": 335,
    "start_time": "2023-07-15T10:14:01.304Z"
   },
   {
    "duration": 11,
    "start_time": "2023-07-15T10:14:01.641Z"
   },
   {
    "duration": 256,
    "start_time": "2023-07-15T10:14:01.654Z"
   },
   {
    "duration": 10,
    "start_time": "2023-07-15T10:14:01.912Z"
   },
   {
    "duration": 76,
    "start_time": "2023-07-15T10:14:01.923Z"
   },
   {
    "duration": 9,
    "start_time": "2023-07-15T10:14:02.001Z"
   },
   {
    "duration": 17,
    "start_time": "2023-07-15T10:14:02.012Z"
   },
   {
    "duration": 37,
    "start_time": "2023-07-15T10:14:02.031Z"
   },
   {
    "duration": 317,
    "start_time": "2023-07-15T10:14:02.070Z"
   },
   {
    "duration": 21,
    "start_time": "2023-07-15T10:14:02.389Z"
   },
   {
    "duration": 15,
    "start_time": "2023-07-15T10:14:02.412Z"
   },
   {
    "duration": 103,
    "start_time": "2023-07-15T10:14:02.429Z"
   },
   {
    "duration": 7,
    "start_time": "2023-07-15T10:14:02.533Z"
   },
   {
    "duration": 40,
    "start_time": "2023-07-15T10:14:02.542Z"
   },
   {
    "duration": 221,
    "start_time": "2023-07-15T10:14:02.583Z"
   },
   {
    "duration": 12,
    "start_time": "2023-07-15T10:14:02.806Z"
   },
   {
    "duration": 87,
    "start_time": "2023-07-15T10:14:02.820Z"
   },
   {
    "duration": 38,
    "start_time": "2023-07-15T10:14:02.909Z"
   },
   {
    "duration": 204,
    "start_time": "2023-07-15T10:14:02.948Z"
   },
   {
    "duration": 19,
    "start_time": "2023-07-15T10:14:03.153Z"
   },
   {
    "duration": 46,
    "start_time": "2023-07-15T10:14:03.173Z"
   },
   {
    "duration": 82,
    "start_time": "2023-07-15T10:14:03.221Z"
   },
   {
    "duration": 11,
    "start_time": "2023-07-15T10:14:03.304Z"
   },
   {
    "duration": 111,
    "start_time": "2023-07-15T10:14:03.316Z"
   },
   {
    "duration": 9462,
    "start_time": "2023-07-15T10:14:03.428Z"
   },
   {
    "duration": 21,
    "start_time": "2023-07-15T10:14:12.892Z"
   },
   {
    "duration": 160,
    "start_time": "2023-07-15T10:14:12.915Z"
   },
   {
    "duration": 12,
    "start_time": "2023-07-15T10:14:13.077Z"
   },
   {
    "duration": 13,
    "start_time": "2023-07-15T10:14:13.091Z"
   },
   {
    "duration": 84,
    "start_time": "2023-07-15T10:14:13.105Z"
   },
   {
    "duration": 30,
    "start_time": "2023-07-15T10:14:13.190Z"
   },
   {
    "duration": 109,
    "start_time": "2023-07-15T10:14:13.222Z"
   },
   {
    "duration": 7,
    "start_time": "2023-07-15T10:14:13.333Z"
   },
   {
    "duration": 36,
    "start_time": "2023-07-15T10:14:13.342Z"
   },
   {
    "duration": 90,
    "start_time": "2023-07-15T10:14:13.380Z"
   },
   {
    "duration": 1565,
    "start_time": "2023-07-15T10:14:13.471Z"
   },
   {
    "duration": 7,
    "start_time": "2023-07-15T10:14:15.038Z"
   },
   {
    "duration": 251,
    "start_time": "2023-07-15T10:14:15.047Z"
   },
   {
    "duration": 18,
    "start_time": "2023-07-15T10:14:15.303Z"
   },
   {
    "duration": 355,
    "start_time": "2023-07-15T10:14:15.323Z"
   },
   {
    "duration": 7,
    "start_time": "2023-07-15T10:14:15.680Z"
   },
   {
    "duration": 8,
    "start_time": "2023-07-15T10:14:15.689Z"
   },
   {
    "duration": 18,
    "start_time": "2023-07-15T10:14:15.699Z"
   },
   {
    "duration": 298,
    "start_time": "2023-07-15T10:14:15.719Z"
   },
   {
    "duration": 93,
    "start_time": "2023-07-15T10:14:16.019Z"
   },
   {
    "duration": 19,
    "start_time": "2023-07-15T10:14:16.113Z"
   },
   {
    "duration": 347,
    "start_time": "2023-07-15T10:14:16.133Z"
   },
   {
    "duration": 4,
    "start_time": "2023-07-15T10:14:16.482Z"
   },
   {
    "duration": 5,
    "start_time": "2023-07-15T10:14:16.488Z"
   },
   {
    "duration": 219,
    "start_time": "2023-07-15T10:14:16.495Z"
   },
   {
    "duration": 7,
    "start_time": "2023-07-15T10:14:16.716Z"
   },
   {
    "duration": 120,
    "start_time": "2023-07-15T10:14:16.725Z"
   },
   {
    "duration": 6,
    "start_time": "2023-07-15T10:14:16.847Z"
   },
   {
    "duration": 18,
    "start_time": "2023-07-15T10:14:16.855Z"
   },
   {
    "duration": 219,
    "start_time": "2023-07-15T10:14:16.875Z"
   },
   {
    "duration": 4,
    "start_time": "2023-07-15T10:14:17.096Z"
   },
   {
    "duration": 8,
    "start_time": "2023-07-15T10:14:17.102Z"
   },
   {
    "duration": 358,
    "start_time": "2023-07-15T10:14:17.111Z"
   },
   {
    "duration": 9,
    "start_time": "2023-07-15T10:15:19.913Z"
   },
   {
    "duration": 9,
    "start_time": "2023-07-15T10:18:48.512Z"
   },
   {
    "duration": 321,
    "start_time": "2023-07-15T10:19:27.453Z"
   },
   {
    "duration": 332,
    "start_time": "2023-07-15T10:19:46.288Z"
   },
   {
    "duration": 11,
    "start_time": "2023-07-15T10:20:14.476Z"
   },
   {
    "duration": 318,
    "start_time": "2023-07-15T10:20:57.561Z"
   },
   {
    "duration": 334,
    "start_time": "2023-07-15T10:21:16.200Z"
   },
   {
    "duration": 361,
    "start_time": "2023-07-15T10:21:27.209Z"
   },
   {
    "duration": 399,
    "start_time": "2023-07-15T10:25:13.945Z"
   },
   {
    "duration": 5,
    "start_time": "2023-07-15T11:04:49.665Z"
   },
   {
    "duration": 28,
    "start_time": "2023-07-15T11:04:56.008Z"
   },
   {
    "duration": 1191,
    "start_time": "2023-07-15T11:05:41.966Z"
   },
   {
    "duration": 13,
    "start_time": "2023-07-15T11:07:06.374Z"
   },
   {
    "duration": 29,
    "start_time": "2023-07-15T11:07:18.907Z"
   },
   {
    "duration": 64,
    "start_time": "2023-07-15T11:07:19.516Z"
   },
   {
    "duration": 68,
    "start_time": "2023-07-15T11:07:42.110Z"
   },
   {
    "duration": 66,
    "start_time": "2023-07-15T11:08:05.691Z"
   },
   {
    "duration": 113,
    "start_time": "2023-07-15T11:09:36.799Z"
   },
   {
    "duration": 61,
    "start_time": "2023-07-15T11:17:24.266Z"
   },
   {
    "duration": 62,
    "start_time": "2023-07-15T11:19:55.481Z"
   },
   {
    "duration": 60,
    "start_time": "2023-07-15T11:20:10.745Z"
   },
   {
    "duration": 59,
    "start_time": "2023-07-15T11:20:20.713Z"
   },
   {
    "duration": 5,
    "start_time": "2023-07-15T14:10:19.080Z"
   },
   {
    "duration": 64,
    "start_time": "2023-07-15T14:22:28.277Z"
   },
   {
    "duration": 12,
    "start_time": "2023-07-15T14:44:57.091Z"
   },
   {
    "duration": 16,
    "start_time": "2023-07-15T14:45:28.862Z"
   },
   {
    "duration": 11,
    "start_time": "2023-07-15T14:45:36.285Z"
   },
   {
    "duration": 20,
    "start_time": "2023-07-15T14:48:19.061Z"
   },
   {
    "duration": 2448,
    "start_time": "2023-07-16T03:39:55.574Z"
   },
   {
    "duration": 17,
    "start_time": "2023-07-16T03:39:58.024Z"
   },
   {
    "duration": 4,
    "start_time": "2023-07-16T03:39:58.043Z"
   },
   {
    "duration": 53,
    "start_time": "2023-07-16T03:39:58.049Z"
   },
   {
    "duration": 4,
    "start_time": "2023-07-16T03:39:58.104Z"
   },
   {
    "duration": 12,
    "start_time": "2023-07-16T03:39:58.110Z"
   },
   {
    "duration": 23,
    "start_time": "2023-07-16T03:39:58.124Z"
   },
   {
    "duration": 45,
    "start_time": "2023-07-16T03:39:58.149Z"
   },
   {
    "duration": 20,
    "start_time": "2023-07-16T03:39:58.196Z"
   },
   {
    "duration": 9,
    "start_time": "2023-07-16T03:39:58.219Z"
   },
   {
    "duration": 38,
    "start_time": "2023-07-16T03:39:58.230Z"
   },
   {
    "duration": 15,
    "start_time": "2023-07-16T03:39:58.269Z"
   },
   {
    "duration": 15,
    "start_time": "2023-07-16T03:39:58.286Z"
   },
   {
    "duration": 25,
    "start_time": "2023-07-16T03:39:58.303Z"
   },
   {
    "duration": 17,
    "start_time": "2023-07-16T03:39:58.330Z"
   },
   {
    "duration": 25,
    "start_time": "2023-07-16T03:39:58.349Z"
   },
   {
    "duration": 19,
    "start_time": "2023-07-16T03:39:58.376Z"
   },
   {
    "duration": 17,
    "start_time": "2023-07-16T03:39:58.396Z"
   },
   {
    "duration": 10,
    "start_time": "2023-07-16T03:39:58.415Z"
   },
   {
    "duration": 35,
    "start_time": "2023-07-16T03:39:58.427Z"
   },
   {
    "duration": 10,
    "start_time": "2023-07-16T03:39:58.464Z"
   },
   {
    "duration": 18,
    "start_time": "2023-07-16T03:39:58.475Z"
   },
   {
    "duration": 14,
    "start_time": "2023-07-16T03:39:58.494Z"
   },
   {
    "duration": 10,
    "start_time": "2023-07-16T03:39:58.510Z"
   },
   {
    "duration": 35,
    "start_time": "2023-07-16T03:39:58.521Z"
   },
   {
    "duration": 410,
    "start_time": "2023-07-16T03:39:58.558Z"
   },
   {
    "duration": 22,
    "start_time": "2023-07-16T03:39:58.969Z"
   },
   {
    "duration": 3,
    "start_time": "2023-07-16T03:39:58.995Z"
   },
   {
    "duration": 11,
    "start_time": "2023-07-16T03:39:58.999Z"
   },
   {
    "duration": 69,
    "start_time": "2023-07-16T03:39:59.012Z"
   },
   {
    "duration": 10,
    "start_time": "2023-07-16T03:39:59.083Z"
   },
   {
    "duration": 417,
    "start_time": "2023-07-16T03:39:59.094Z"
   },
   {
    "duration": 14,
    "start_time": "2023-07-16T03:39:59.513Z"
   },
   {
    "duration": 42,
    "start_time": "2023-07-16T03:39:59.529Z"
   },
   {
    "duration": 275,
    "start_time": "2023-07-16T03:39:59.573Z"
   },
   {
    "duration": 18,
    "start_time": "2023-07-16T03:39:59.850Z"
   },
   {
    "duration": 23,
    "start_time": "2023-07-16T03:39:59.869Z"
   },
   {
    "duration": 6,
    "start_time": "2023-07-16T03:39:59.893Z"
   },
   {
    "duration": 12,
    "start_time": "2023-07-16T03:39:59.900Z"
   },
   {
    "duration": 222,
    "start_time": "2023-07-16T03:39:59.914Z"
   },
   {
    "duration": 13,
    "start_time": "2023-07-16T03:40:00.138Z"
   },
   {
    "duration": 32,
    "start_time": "2023-07-16T03:40:00.152Z"
   },
   {
    "duration": 55,
    "start_time": "2023-07-16T03:40:00.186Z"
   },
   {
    "duration": 327,
    "start_time": "2023-07-16T03:40:00.243Z"
   },
   {
    "duration": 12,
    "start_time": "2023-07-16T03:40:00.572Z"
   },
   {
    "duration": 253,
    "start_time": "2023-07-16T03:40:00.586Z"
   },
   {
    "duration": 11,
    "start_time": "2023-07-16T03:40:00.840Z"
   },
   {
    "duration": 53,
    "start_time": "2023-07-16T03:40:00.852Z"
   },
   {
    "duration": 21,
    "start_time": "2023-07-16T03:40:00.907Z"
   },
   {
    "duration": 30,
    "start_time": "2023-07-16T03:40:00.930Z"
   },
   {
    "duration": 19,
    "start_time": "2023-07-16T03:40:00.962Z"
   },
   {
    "duration": 317,
    "start_time": "2023-07-16T03:40:00.983Z"
   },
   {
    "duration": 19,
    "start_time": "2023-07-16T03:40:01.301Z"
   },
   {
    "duration": 39,
    "start_time": "2023-07-16T03:40:01.322Z"
   },
   {
    "duration": 140,
    "start_time": "2023-07-16T03:40:01.363Z"
   },
   {
    "duration": 6,
    "start_time": "2023-07-16T03:40:01.504Z"
   },
   {
    "duration": 62,
    "start_time": "2023-07-16T03:40:01.512Z"
   },
   {
    "duration": 307,
    "start_time": "2023-07-16T03:40:01.576Z"
   },
   {
    "duration": 14,
    "start_time": "2023-07-16T03:40:01.885Z"
   },
   {
    "duration": 106,
    "start_time": "2023-07-16T03:40:01.900Z"
   },
   {
    "duration": 5,
    "start_time": "2023-07-16T03:40:02.008Z"
   },
   {
    "duration": 331,
    "start_time": "2023-07-16T03:40:02.015Z"
   },
   {
    "duration": 21,
    "start_time": "2023-07-16T03:40:02.347Z"
   },
   {
    "duration": 63,
    "start_time": "2023-07-16T03:40:02.369Z"
   },
   {
    "duration": 93,
    "start_time": "2023-07-16T03:40:02.434Z"
   },
   {
    "duration": 49,
    "start_time": "2023-07-16T03:40:02.529Z"
   },
   {
    "duration": 131,
    "start_time": "2023-07-16T03:40:02.579Z"
   },
   {
    "duration": 9109,
    "start_time": "2023-07-16T03:40:02.712Z"
   },
   {
    "duration": 48,
    "start_time": "2023-07-16T03:40:11.823Z"
   },
   {
    "duration": 121,
    "start_time": "2023-07-16T03:40:11.872Z"
   },
   {
    "duration": 10,
    "start_time": "2023-07-16T03:40:11.995Z"
   },
   {
    "duration": 69,
    "start_time": "2023-07-16T03:40:12.006Z"
   },
   {
    "duration": 32,
    "start_time": "2023-07-16T03:40:12.076Z"
   },
   {
    "duration": 65,
    "start_time": "2023-07-16T03:40:12.110Z"
   },
   {
    "duration": 99,
    "start_time": "2023-07-16T03:40:12.177Z"
   },
   {
    "duration": 8,
    "start_time": "2023-07-16T03:40:12.278Z"
   },
   {
    "duration": 14,
    "start_time": "2023-07-16T03:40:12.288Z"
   },
   {
    "duration": 106,
    "start_time": "2023-07-16T03:40:12.303Z"
   },
   {
    "duration": 1532,
    "start_time": "2023-07-16T03:40:12.410Z"
   },
   {
    "duration": 26,
    "start_time": "2023-07-16T03:40:13.944Z"
   },
   {
    "duration": 253,
    "start_time": "2023-07-16T03:40:13.972Z"
   },
   {
    "duration": 18,
    "start_time": "2023-07-16T03:40:14.231Z"
   },
   {
    "duration": 358,
    "start_time": "2023-07-16T03:40:14.251Z"
   },
   {
    "duration": 8,
    "start_time": "2023-07-16T03:40:14.611Z"
   },
   {
    "duration": 21,
    "start_time": "2023-07-16T03:40:14.620Z"
   },
   {
    "duration": 321,
    "start_time": "2023-07-16T03:40:14.642Z"
   },
   {
    "duration": 10,
    "start_time": "2023-07-16T03:40:14.964Z"
   },
   {
    "duration": 104,
    "start_time": "2023-07-16T03:40:14.976Z"
   },
   {
    "duration": 17,
    "start_time": "2023-07-16T03:40:15.082Z"
   },
   {
    "duration": 361,
    "start_time": "2023-07-16T03:40:15.100Z"
   },
   {
    "duration": 6,
    "start_time": "2023-07-16T03:40:15.462Z"
   },
   {
    "duration": 20,
    "start_time": "2023-07-16T03:40:15.469Z"
   },
   {
    "duration": 224,
    "start_time": "2023-07-16T03:40:15.491Z"
   },
   {
    "duration": 8,
    "start_time": "2023-07-16T03:40:15.717Z"
   },
   {
    "duration": 126,
    "start_time": "2023-07-16T03:40:15.726Z"
   },
   {
    "duration": 16,
    "start_time": "2023-07-16T03:40:15.854Z"
   },
   {
    "duration": 20,
    "start_time": "2023-07-16T03:40:15.872Z"
   },
   {
    "duration": 212,
    "start_time": "2023-07-16T03:40:15.894Z"
   },
   {
    "duration": 4,
    "start_time": "2023-07-16T03:40:16.108Z"
   },
   {
    "duration": 12,
    "start_time": "2023-07-16T03:40:16.114Z"
   },
   {
    "duration": 337,
    "start_time": "2023-07-16T03:40:16.127Z"
   },
   {
    "duration": 6,
    "start_time": "2023-07-16T03:40:16.467Z"
   },
   {
    "duration": 66,
    "start_time": "2023-07-16T03:40:16.475Z"
   },
   {
    "duration": 172,
    "start_time": "2023-07-16T03:40:16.543Z"
   },
   {
    "duration": 1571,
    "start_time": "2023-07-16T03:42:28.930Z"
   },
   {
    "duration": 17,
    "start_time": "2023-07-16T03:42:30.503Z"
   },
   {
    "duration": 8,
    "start_time": "2023-07-16T03:42:30.522Z"
   },
   {
    "duration": 80,
    "start_time": "2023-07-16T03:42:30.533Z"
   },
   {
    "duration": 61,
    "start_time": "2023-07-16T03:42:30.615Z"
   },
   {
    "duration": 34,
    "start_time": "2023-07-16T03:42:30.677Z"
   },
   {
    "duration": 55,
    "start_time": "2023-07-16T03:42:30.713Z"
   },
   {
    "duration": 71,
    "start_time": "2023-07-16T03:42:30.769Z"
   },
   {
    "duration": 30,
    "start_time": "2023-07-16T03:42:30.842Z"
   },
   {
    "duration": 26,
    "start_time": "2023-07-16T03:42:30.875Z"
   },
   {
    "duration": 38,
    "start_time": "2023-07-16T03:42:30.903Z"
   },
   {
    "duration": 43,
    "start_time": "2023-07-16T03:42:30.943Z"
   },
   {
    "duration": 66,
    "start_time": "2023-07-16T03:42:30.987Z"
   },
   {
    "duration": 47,
    "start_time": "2023-07-16T03:42:31.055Z"
   },
   {
    "duration": 45,
    "start_time": "2023-07-16T03:42:31.104Z"
   },
   {
    "duration": 52,
    "start_time": "2023-07-16T03:42:31.150Z"
   },
   {
    "duration": 63,
    "start_time": "2023-07-16T03:42:31.204Z"
   },
   {
    "duration": 49,
    "start_time": "2023-07-16T03:42:31.268Z"
   },
   {
    "duration": 38,
    "start_time": "2023-07-16T03:42:31.319Z"
   },
   {
    "duration": 50,
    "start_time": "2023-07-16T03:42:31.359Z"
   },
   {
    "duration": 29,
    "start_time": "2023-07-16T03:42:31.411Z"
   },
   {
    "duration": 71,
    "start_time": "2023-07-16T03:42:31.441Z"
   },
   {
    "duration": 41,
    "start_time": "2023-07-16T03:42:31.514Z"
   },
   {
    "duration": 36,
    "start_time": "2023-07-16T03:42:31.557Z"
   },
   {
    "duration": 50,
    "start_time": "2023-07-16T03:42:31.596Z"
   },
   {
    "duration": 416,
    "start_time": "2023-07-16T03:42:31.648Z"
   },
   {
    "duration": 22,
    "start_time": "2023-07-16T03:42:32.065Z"
   },
   {
    "duration": 53,
    "start_time": "2023-07-16T03:42:32.093Z"
   },
   {
    "duration": 45,
    "start_time": "2023-07-16T03:42:32.148Z"
   },
   {
    "duration": 86,
    "start_time": "2023-07-16T03:42:32.195Z"
   },
   {
    "duration": 13,
    "start_time": "2023-07-16T03:42:32.283Z"
   },
   {
    "duration": 459,
    "start_time": "2023-07-16T03:42:32.298Z"
   },
   {
    "duration": 29,
    "start_time": "2023-07-16T03:42:32.760Z"
   },
   {
    "duration": 22,
    "start_time": "2023-07-16T03:42:32.792Z"
   },
   {
    "duration": 346,
    "start_time": "2023-07-16T03:42:32.816Z"
   },
   {
    "duration": 11,
    "start_time": "2023-07-16T03:42:33.168Z"
   },
   {
    "duration": 26,
    "start_time": "2023-07-16T03:42:33.180Z"
   },
   {
    "duration": 7,
    "start_time": "2023-07-16T03:42:33.208Z"
   },
   {
    "duration": 47,
    "start_time": "2023-07-16T03:42:33.217Z"
   },
   {
    "duration": 239,
    "start_time": "2023-07-16T03:42:33.265Z"
   },
   {
    "duration": 12,
    "start_time": "2023-07-16T03:42:33.505Z"
   },
   {
    "duration": 12,
    "start_time": "2023-07-16T03:42:33.518Z"
   },
   {
    "duration": 12,
    "start_time": "2023-07-16T03:42:33.531Z"
   },
   {
    "duration": 313,
    "start_time": "2023-07-16T03:42:33.544Z"
   },
   {
    "duration": 19,
    "start_time": "2023-07-16T03:42:33.859Z"
   },
   {
    "duration": 274,
    "start_time": "2023-07-16T03:42:33.879Z"
   },
   {
    "duration": 16,
    "start_time": "2023-07-16T03:42:34.154Z"
   },
   {
    "duration": 15,
    "start_time": "2023-07-16T03:42:34.171Z"
   },
   {
    "duration": 2,
    "start_time": "2023-07-16T03:42:34.188Z"
   },
   {
    "duration": 7,
    "start_time": "2023-07-16T03:42:34.191Z"
   },
   {
    "duration": 14,
    "start_time": "2023-07-16T03:42:34.199Z"
   },
   {
    "duration": 212,
    "start_time": "2023-07-16T03:42:34.214Z"
   },
   {
    "duration": 18,
    "start_time": "2023-07-16T03:42:34.427Z"
   },
   {
    "duration": 22,
    "start_time": "2023-07-16T03:42:34.447Z"
   },
   {
    "duration": 83,
    "start_time": "2023-07-16T03:42:34.471Z"
   },
   {
    "duration": 5,
    "start_time": "2023-07-16T03:42:34.556Z"
   },
   {
    "duration": 8,
    "start_time": "2023-07-16T03:42:34.568Z"
   },
   {
    "duration": 208,
    "start_time": "2023-07-16T03:42:34.577Z"
   },
   {
    "duration": 13,
    "start_time": "2023-07-16T03:42:34.787Z"
   },
   {
    "duration": 82,
    "start_time": "2023-07-16T03:42:34.801Z"
   },
   {
    "duration": 4,
    "start_time": "2023-07-16T03:42:34.885Z"
   },
   {
    "duration": 180,
    "start_time": "2023-07-16T03:42:34.891Z"
   },
   {
    "duration": 15,
    "start_time": "2023-07-16T03:42:35.073Z"
   },
   {
    "duration": 13,
    "start_time": "2023-07-16T03:42:35.089Z"
   },
   {
    "duration": 83,
    "start_time": "2023-07-16T03:42:35.104Z"
   },
   {
    "duration": 13,
    "start_time": "2023-07-16T03:42:35.189Z"
   },
   {
    "duration": 115,
    "start_time": "2023-07-16T03:42:35.204Z"
   },
   {
    "duration": 9842,
    "start_time": "2023-07-16T03:42:35.321Z"
   },
   {
    "duration": 23,
    "start_time": "2023-07-16T03:42:45.165Z"
   },
   {
    "duration": 182,
    "start_time": "2023-07-16T03:42:45.190Z"
   },
   {
    "duration": 11,
    "start_time": "2023-07-16T03:42:45.374Z"
   },
   {
    "duration": 25,
    "start_time": "2023-07-16T03:42:45.387Z"
   },
   {
    "duration": 85,
    "start_time": "2023-07-16T03:42:45.413Z"
   },
   {
    "duration": 11,
    "start_time": "2023-07-16T03:42:45.500Z"
   },
   {
    "duration": 101,
    "start_time": "2023-07-16T03:42:45.513Z"
   },
   {
    "duration": 8,
    "start_time": "2023-07-16T03:42:45.616Z"
   },
   {
    "duration": 38,
    "start_time": "2023-07-16T03:42:45.626Z"
   },
   {
    "duration": 99,
    "start_time": "2023-07-16T03:42:45.666Z"
   },
   {
    "duration": 1506,
    "start_time": "2023-07-16T03:42:45.767Z"
   },
   {
    "duration": 9,
    "start_time": "2023-07-16T03:42:47.275Z"
   },
   {
    "duration": 236,
    "start_time": "2023-07-16T03:42:47.286Z"
   },
   {
    "duration": 17,
    "start_time": "2023-07-16T03:42:47.527Z"
   },
   {
    "duration": 345,
    "start_time": "2023-07-16T03:42:47.546Z"
   },
   {
    "duration": 6,
    "start_time": "2023-07-16T03:42:47.893Z"
   },
   {
    "duration": 10,
    "start_time": "2023-07-16T03:42:47.900Z"
   },
   {
    "duration": 300,
    "start_time": "2023-07-16T03:42:47.912Z"
   },
   {
    "duration": 9,
    "start_time": "2023-07-16T03:42:48.214Z"
   },
   {
    "duration": 90,
    "start_time": "2023-07-16T03:42:48.225Z"
   },
   {
    "duration": 17,
    "start_time": "2023-07-16T03:42:48.317Z"
   },
   {
    "duration": 350,
    "start_time": "2023-07-16T03:42:48.336Z"
   },
   {
    "duration": 5,
    "start_time": "2023-07-16T03:42:48.688Z"
   },
   {
    "duration": 8,
    "start_time": "2023-07-16T03:42:48.694Z"
   },
   {
    "duration": 209,
    "start_time": "2023-07-16T03:42:48.704Z"
   },
   {
    "duration": 8,
    "start_time": "2023-07-16T03:42:48.914Z"
   },
   {
    "duration": 117,
    "start_time": "2023-07-16T03:42:48.923Z"
   },
   {
    "duration": 6,
    "start_time": "2023-07-16T03:42:49.041Z"
   },
   {
    "duration": 20,
    "start_time": "2023-07-16T03:42:49.049Z"
   },
   {
    "duration": 209,
    "start_time": "2023-07-16T03:42:49.070Z"
   },
   {
    "duration": 4,
    "start_time": "2023-07-16T03:42:49.280Z"
   },
   {
    "duration": 6,
    "start_time": "2023-07-16T03:42:49.285Z"
   },
   {
    "duration": 340,
    "start_time": "2023-07-16T03:42:49.292Z"
   },
   {
    "duration": 6,
    "start_time": "2023-07-16T03:42:49.633Z"
   },
   {
    "duration": 68,
    "start_time": "2023-07-16T03:42:49.640Z"
   },
   {
    "duration": 10,
    "start_time": "2023-07-16T03:42:49.710Z"
   },
   {
    "duration": 36,
    "start_time": "2023-07-16T06:19:42.495Z"
   },
   {
    "duration": 38,
    "start_time": "2023-07-16T06:21:51.158Z"
   },
   {
    "duration": 310,
    "start_time": "2023-07-16T06:32:26.857Z"
   },
   {
    "duration": 10,
    "start_time": "2023-07-16T06:39:18.351Z"
   },
   {
    "duration": 331,
    "start_time": "2023-07-16T06:39:48.967Z"
   },
   {
    "duration": 124,
    "start_time": "2023-07-16T06:43:00.597Z"
   },
   {
    "duration": 64,
    "start_time": "2023-07-16T06:43:11.749Z"
   },
   {
    "duration": 274,
    "start_time": "2023-07-16T06:43:25.496Z"
   },
   {
    "duration": 54,
    "start_time": "2023-07-16T06:44:30.826Z"
   },
   {
    "duration": 51,
    "start_time": "2023-07-16T06:45:37.305Z"
   },
   {
    "duration": 57,
    "start_time": "2023-07-16T06:46:15.064Z"
   },
   {
    "duration": 17,
    "start_time": "2023-07-16T06:46:46.400Z"
   },
   {
    "duration": 143,
    "start_time": "2023-07-16T06:50:36.091Z"
   },
   {
    "duration": 98,
    "start_time": "2023-07-16T06:50:55.844Z"
   },
   {
    "duration": 14,
    "start_time": "2023-07-16T06:51:30.727Z"
   },
   {
    "duration": 77,
    "start_time": "2023-07-16T06:51:33.711Z"
   },
   {
    "duration": 83,
    "start_time": "2023-07-16T06:51:45.698Z"
   },
   {
    "duration": 80,
    "start_time": "2023-07-16T06:51:59.799Z"
   },
   {
    "duration": 66,
    "start_time": "2023-07-16T06:52:05.487Z"
   },
   {
    "duration": 63,
    "start_time": "2023-07-16T06:52:14.349Z"
   },
   {
    "duration": 74,
    "start_time": "2023-07-16T06:52:22.061Z"
   },
   {
    "duration": 85,
    "start_time": "2023-07-16T06:53:32.629Z"
   },
   {
    "duration": 134,
    "start_time": "2023-07-16T06:53:49.880Z"
   },
   {
    "duration": 66,
    "start_time": "2023-07-16T06:53:59.341Z"
   },
   {
    "duration": 1326,
    "start_time": "2023-07-16T06:57:11.845Z"
   },
   {
    "duration": 24,
    "start_time": "2023-07-16T06:57:30.168Z"
   },
   {
    "duration": 16,
    "start_time": "2023-07-16T06:58:38.348Z"
   },
   {
    "duration": 8,
    "start_time": "2023-07-16T06:59:28.766Z"
   },
   {
    "duration": 6,
    "start_time": "2023-07-16T06:59:44.413Z"
   },
   {
    "duration": 21,
    "start_time": "2023-07-16T07:00:01.962Z"
   },
   {
    "duration": 12,
    "start_time": "2023-07-16T07:19:26.388Z"
   },
   {
    "duration": 13,
    "start_time": "2023-07-16T07:19:52.911Z"
   },
   {
    "duration": 14,
    "start_time": "2023-07-16T07:20:02.831Z"
   },
   {
    "duration": 90,
    "start_time": "2023-07-16T07:20:11.483Z"
   },
   {
    "duration": 11,
    "start_time": "2023-07-16T07:20:31.529Z"
   },
   {
    "duration": 98,
    "start_time": "2023-07-16T07:20:33.320Z"
   },
   {
    "duration": 91,
    "start_time": "2023-07-16T07:21:14.591Z"
   },
   {
    "duration": 92,
    "start_time": "2023-07-16T07:21:49.387Z"
   },
   {
    "duration": 153,
    "start_time": "2023-07-16T07:22:07.835Z"
   },
   {
    "duration": 79,
    "start_time": "2023-07-16T07:22:16.583Z"
   },
   {
    "duration": 80,
    "start_time": "2023-07-16T07:25:50.407Z"
   },
   {
    "duration": 266,
    "start_time": "2023-07-16T07:26:39.973Z"
   },
   {
    "duration": 174,
    "start_time": "2023-07-16T08:21:24.380Z"
   },
   {
    "duration": 179,
    "start_time": "2023-07-16T08:22:12.007Z"
   },
   {
    "duration": 156,
    "start_time": "2023-07-16T08:22:43.854Z"
   },
   {
    "duration": 164,
    "start_time": "2023-07-16T08:22:55.847Z"
   },
   {
    "duration": 14,
    "start_time": "2023-07-16T08:23:32.296Z"
   },
   {
    "duration": 155,
    "start_time": "2023-07-16T08:23:40.686Z"
   },
   {
    "duration": 136,
    "start_time": "2023-07-16T08:23:56.495Z"
   },
   {
    "duration": 188,
    "start_time": "2023-07-16T08:25:25.097Z"
   },
   {
    "duration": 199,
    "start_time": "2023-07-16T08:28:23.020Z"
   },
   {
    "duration": 210,
    "start_time": "2023-07-16T08:38:15.310Z"
   },
   {
    "duration": 153,
    "start_time": "2023-07-16T08:41:37.149Z"
   },
   {
    "duration": 205,
    "start_time": "2023-07-16T08:41:42.380Z"
   },
   {
    "duration": 369,
    "start_time": "2023-07-16T08:42:06.839Z"
   },
   {
    "duration": 215,
    "start_time": "2023-07-16T08:42:17.451Z"
   },
   {
    "duration": 204,
    "start_time": "2023-07-16T08:42:26.042Z"
   },
   {
    "duration": 529,
    "start_time": "2023-07-16T08:43:39.612Z"
   },
   {
    "duration": 355,
    "start_time": "2023-07-16T08:44:40.305Z"
   },
   {
    "duration": 13,
    "start_time": "2023-07-16T08:48:28.820Z"
   },
   {
    "duration": 40,
    "start_time": "2023-07-16T08:48:40.855Z"
   },
   {
    "duration": 34,
    "start_time": "2023-07-16T08:49:22.044Z"
   },
   {
    "duration": 19,
    "start_time": "2023-07-16T09:08:40.362Z"
   },
   {
    "duration": 2237,
    "start_time": "2023-07-16T16:52:20.108Z"
   },
   {
    "duration": 17,
    "start_time": "2023-07-16T16:52:22.347Z"
   },
   {
    "duration": 12,
    "start_time": "2023-07-16T16:52:22.366Z"
   },
   {
    "duration": 77,
    "start_time": "2023-07-16T16:52:22.380Z"
   },
   {
    "duration": 5,
    "start_time": "2023-07-16T16:52:22.459Z"
   },
   {
    "duration": 30,
    "start_time": "2023-07-16T16:52:22.465Z"
   },
   {
    "duration": 29,
    "start_time": "2023-07-16T16:52:22.497Z"
   },
   {
    "duration": 42,
    "start_time": "2023-07-16T16:52:22.528Z"
   },
   {
    "duration": 38,
    "start_time": "2023-07-16T16:52:22.571Z"
   },
   {
    "duration": 37,
    "start_time": "2023-07-16T16:52:22.614Z"
   },
   {
    "duration": 37,
    "start_time": "2023-07-16T16:52:22.653Z"
   },
   {
    "duration": 94,
    "start_time": "2023-07-16T16:52:22.691Z"
   },
   {
    "duration": 45,
    "start_time": "2023-07-16T16:52:22.787Z"
   },
   {
    "duration": 109,
    "start_time": "2023-07-16T16:52:22.834Z"
   },
   {
    "duration": 68,
    "start_time": "2023-07-16T16:52:22.946Z"
   },
   {
    "duration": 60,
    "start_time": "2023-07-16T16:52:23.016Z"
   },
   {
    "duration": 40,
    "start_time": "2023-07-16T16:52:23.079Z"
   },
   {
    "duration": 46,
    "start_time": "2023-07-16T16:52:23.121Z"
   },
   {
    "duration": 26,
    "start_time": "2023-07-16T16:52:23.169Z"
   },
   {
    "duration": 59,
    "start_time": "2023-07-16T16:52:23.197Z"
   },
   {
    "duration": 127,
    "start_time": "2023-07-16T16:52:23.258Z"
   },
   {
    "duration": 66,
    "start_time": "2023-07-16T16:52:23.387Z"
   },
   {
    "duration": 49,
    "start_time": "2023-07-16T16:52:23.455Z"
   },
   {
    "duration": 26,
    "start_time": "2023-07-16T16:52:23.506Z"
   },
   {
    "duration": 36,
    "start_time": "2023-07-16T16:52:23.534Z"
   },
   {
    "duration": 563,
    "start_time": "2023-07-16T16:52:23.572Z"
   },
   {
    "duration": 24,
    "start_time": "2023-07-16T16:52:24.137Z"
   },
   {
    "duration": 22,
    "start_time": "2023-07-16T16:52:24.166Z"
   },
   {
    "duration": 44,
    "start_time": "2023-07-16T16:52:24.190Z"
   },
   {
    "duration": 65,
    "start_time": "2023-07-16T16:52:24.236Z"
   },
   {
    "duration": 10,
    "start_time": "2023-07-16T16:52:24.303Z"
   },
   {
    "duration": 489,
    "start_time": "2023-07-16T16:52:24.315Z"
   },
   {
    "duration": 22,
    "start_time": "2023-07-16T16:52:24.806Z"
   },
   {
    "duration": 37,
    "start_time": "2023-07-16T16:52:24.830Z"
   },
   {
    "duration": 310,
    "start_time": "2023-07-16T16:52:24.868Z"
   },
   {
    "duration": 10,
    "start_time": "2023-07-16T16:52:25.180Z"
   },
   {
    "duration": 50,
    "start_time": "2023-07-16T16:52:25.192Z"
   },
   {
    "duration": 15,
    "start_time": "2023-07-16T16:52:25.244Z"
   },
   {
    "duration": 65,
    "start_time": "2023-07-16T16:52:25.261Z"
   },
   {
    "duration": 420,
    "start_time": "2023-07-16T16:52:25.328Z"
   },
   {
    "duration": 10,
    "start_time": "2023-07-16T16:52:25.750Z"
   },
   {
    "duration": 82,
    "start_time": "2023-07-16T16:52:25.762Z"
   },
   {
    "duration": 27,
    "start_time": "2023-07-16T16:52:25.846Z"
   },
   {
    "duration": 399,
    "start_time": "2023-07-16T16:52:25.874Z"
   },
   {
    "duration": 9,
    "start_time": "2023-07-16T16:52:26.274Z"
   },
   {
    "duration": 154,
    "start_time": "2023-07-16T16:52:26.285Z"
   },
   {
    "duration": 428,
    "start_time": "2023-07-16T16:52:26.441Z"
   },
   {
    "duration": 12,
    "start_time": "2023-07-16T16:52:26.870Z"
   },
   {
    "duration": 43,
    "start_time": "2023-07-16T16:52:26.884Z"
   },
   {
    "duration": 3,
    "start_time": "2023-07-16T16:52:26.928Z"
   },
   {
    "duration": 7,
    "start_time": "2023-07-16T16:52:26.933Z"
   },
   {
    "duration": 7,
    "start_time": "2023-07-16T16:52:26.942Z"
   },
   {
    "duration": 116,
    "start_time": "2023-07-16T16:52:26.951Z"
   },
   {
    "duration": 22,
    "start_time": "2023-07-16T16:52:27.070Z"
   },
   {
    "duration": 13,
    "start_time": "2023-07-16T16:52:27.113Z"
   },
   {
    "duration": 84,
    "start_time": "2023-07-16T16:52:27.130Z"
   },
   {
    "duration": 10,
    "start_time": "2023-07-16T16:52:27.218Z"
   },
   {
    "duration": 8,
    "start_time": "2023-07-16T16:52:27.230Z"
   },
   {
    "duration": 7,
    "start_time": "2023-07-16T16:52:27.240Z"
   },
   {
    "duration": 232,
    "start_time": "2023-07-16T16:52:27.248Z"
   },
   {
    "duration": 13,
    "start_time": "2023-07-16T16:52:27.482Z"
   },
   {
    "duration": 91,
    "start_time": "2023-07-16T16:52:27.496Z"
   },
   {
    "duration": 6,
    "start_time": "2023-07-16T16:52:27.589Z"
   },
   {
    "duration": 194,
    "start_time": "2023-07-16T16:52:27.613Z"
   },
   {
    "duration": 23,
    "start_time": "2023-07-16T16:52:27.809Z"
   },
   {
    "duration": 20,
    "start_time": "2023-07-16T16:52:27.834Z"
   },
   {
    "duration": 91,
    "start_time": "2023-07-16T16:52:27.856Z"
   },
   {
    "duration": 14,
    "start_time": "2023-07-16T16:52:27.949Z"
   },
   {
    "duration": 122,
    "start_time": "2023-07-16T16:52:27.965Z"
   },
   {
    "duration": 10734,
    "start_time": "2023-07-16T16:52:28.088Z"
   },
   {
    "duration": 24,
    "start_time": "2023-07-16T16:52:38.826Z"
   },
   {
    "duration": 194,
    "start_time": "2023-07-16T16:52:38.852Z"
   },
   {
    "duration": 66,
    "start_time": "2023-07-16T16:52:39.048Z"
   },
   {
    "duration": 18,
    "start_time": "2023-07-16T16:52:39.118Z"
   },
   {
    "duration": 40,
    "start_time": "2023-07-16T16:52:39.139Z"
   },
   {
    "duration": 17,
    "start_time": "2023-07-16T16:52:39.216Z"
   },
   {
    "duration": 109,
    "start_time": "2023-07-16T16:52:39.235Z"
   },
   {
    "duration": 8,
    "start_time": "2023-07-16T16:52:39.346Z"
   },
   {
    "duration": 21,
    "start_time": "2023-07-16T16:52:39.356Z"
   },
   {
    "duration": 64,
    "start_time": "2023-07-16T16:52:39.378Z"
   },
   {
    "duration": 99,
    "start_time": "2023-07-16T16:52:39.444Z"
   },
   {
    "duration": 1875,
    "start_time": "2023-07-16T16:52:39.548Z"
   },
   {
    "duration": 9,
    "start_time": "2023-07-16T16:52:41.427Z"
   },
   {
    "duration": 314,
    "start_time": "2023-07-16T16:52:41.437Z"
   },
   {
    "duration": 20,
    "start_time": "2023-07-16T16:52:41.753Z"
   },
   {
    "duration": 426,
    "start_time": "2023-07-16T16:52:41.775Z"
   },
   {
    "duration": 15,
    "start_time": "2023-07-16T16:52:42.204Z"
   },
   {
    "duration": 21,
    "start_time": "2023-07-16T16:52:42.222Z"
   },
   {
    "duration": 315,
    "start_time": "2023-07-16T16:52:42.245Z"
   },
   {
    "duration": 11,
    "start_time": "2023-07-16T16:52:42.563Z"
   },
   {
    "duration": 108,
    "start_time": "2023-07-16T16:52:42.576Z"
   },
   {
    "duration": 38,
    "start_time": "2023-07-16T16:52:42.686Z"
   },
   {
    "duration": 428,
    "start_time": "2023-07-16T16:52:42.726Z"
   },
   {
    "duration": 5,
    "start_time": "2023-07-16T16:52:43.155Z"
   },
   {
    "duration": 12,
    "start_time": "2023-07-16T16:52:43.162Z"
   },
   {
    "duration": 275,
    "start_time": "2023-07-16T16:52:43.176Z"
   },
   {
    "duration": 11,
    "start_time": "2023-07-16T16:52:43.452Z"
   },
   {
    "duration": 157,
    "start_time": "2023-07-16T16:52:43.465Z"
   },
   {
    "duration": 8,
    "start_time": "2023-07-16T16:52:43.624Z"
   },
   {
    "duration": 24,
    "start_time": "2023-07-16T16:52:43.635Z"
   },
   {
    "duration": 257,
    "start_time": "2023-07-16T16:52:43.661Z"
   },
   {
    "duration": 9,
    "start_time": "2023-07-16T16:52:43.920Z"
   },
   {
    "duration": 10,
    "start_time": "2023-07-16T16:52:43.932Z"
   },
   {
    "duration": 421,
    "start_time": "2023-07-16T16:52:43.944Z"
   },
   {
    "duration": 5,
    "start_time": "2023-07-16T16:52:44.367Z"
   },
   {
    "duration": 86,
    "start_time": "2023-07-16T16:52:44.374Z"
   },
   {
    "duration": 26,
    "start_time": "2023-07-16T16:52:44.462Z"
   },
   {
    "duration": 60,
    "start_time": "2023-07-16T17:10:50.600Z"
   },
   {
    "duration": 62,
    "start_time": "2023-07-16T17:32:22.552Z"
   },
   {
    "duration": 7,
    "start_time": "2023-07-16T17:33:43.083Z"
   },
   {
    "duration": 7,
    "start_time": "2023-07-16T17:33:47.325Z"
   },
   {
    "duration": 187,
    "start_time": "2023-07-16T17:35:03.954Z"
   },
   {
    "duration": 11,
    "start_time": "2023-07-16T17:35:20.161Z"
   },
   {
    "duration": 12,
    "start_time": "2023-07-16T17:35:29.442Z"
   },
   {
    "duration": 12,
    "start_time": "2023-07-16T17:35:48.158Z"
   },
   {
    "duration": 13,
    "start_time": "2023-07-16T17:36:30.724Z"
   },
   {
    "duration": 13,
    "start_time": "2023-07-16T17:36:48.012Z"
   },
   {
    "duration": 9,
    "start_time": "2023-07-16T17:36:51.827Z"
   },
   {
    "duration": 12,
    "start_time": "2023-07-16T17:37:04.268Z"
   },
   {
    "duration": 74,
    "start_time": "2023-07-16T17:40:50.406Z"
   },
   {
    "duration": 18,
    "start_time": "2023-07-16T17:40:56.541Z"
   },
   {
    "duration": 14,
    "start_time": "2023-07-16T17:41:14.803Z"
   },
   {
    "duration": 27,
    "start_time": "2023-07-16T17:41:32.811Z"
   },
   {
    "duration": 21,
    "start_time": "2023-07-16T17:41:59.639Z"
   },
   {
    "duration": 1741,
    "start_time": "2023-07-16T18:01:13.406Z"
   },
   {
    "duration": 4,
    "start_time": "2023-07-16T18:01:15.149Z"
   },
   {
    "duration": 83,
    "start_time": "2023-07-16T18:01:15.155Z"
   },
   {
    "duration": 5,
    "start_time": "2023-07-16T18:01:15.240Z"
   },
   {
    "duration": 35,
    "start_time": "2023-07-16T18:01:15.247Z"
   },
   {
    "duration": 26,
    "start_time": "2023-07-16T18:01:15.283Z"
   },
   {
    "duration": 30,
    "start_time": "2023-07-16T18:01:15.311Z"
   },
   {
    "duration": 19,
    "start_time": "2023-07-16T18:01:15.343Z"
   },
   {
    "duration": 8,
    "start_time": "2023-07-16T18:01:15.364Z"
   },
   {
    "duration": 13,
    "start_time": "2023-07-16T18:01:15.375Z"
   },
   {
    "duration": 38,
    "start_time": "2023-07-16T18:01:15.390Z"
   },
   {
    "duration": 5,
    "start_time": "2023-07-16T18:01:15.433Z"
   },
   {
    "duration": 25,
    "start_time": "2023-07-16T18:01:15.440Z"
   },
   {
    "duration": 24,
    "start_time": "2023-07-16T18:01:15.466Z"
   },
   {
    "duration": 4,
    "start_time": "2023-07-16T18:01:15.493Z"
   },
   {
    "duration": 41,
    "start_time": "2023-07-16T18:01:15.498Z"
   },
   {
    "duration": 23,
    "start_time": "2023-07-16T18:01:15.541Z"
   },
   {
    "duration": 11,
    "start_time": "2023-07-16T18:01:15.565Z"
   },
   {
    "duration": 12,
    "start_time": "2023-07-16T18:01:15.577Z"
   },
   {
    "duration": 5,
    "start_time": "2023-07-16T18:01:15.591Z"
   },
   {
    "duration": 32,
    "start_time": "2023-07-16T18:01:15.597Z"
   },
   {
    "duration": 15,
    "start_time": "2023-07-16T18:01:15.631Z"
   },
   {
    "duration": 15,
    "start_time": "2023-07-16T18:01:15.648Z"
   },
   {
    "duration": 15,
    "start_time": "2023-07-16T18:01:15.665Z"
   },
   {
    "duration": 397,
    "start_time": "2023-07-16T18:01:15.682Z"
   },
   {
    "duration": 21,
    "start_time": "2023-07-16T18:01:16.081Z"
   },
   {
    "duration": 4,
    "start_time": "2023-07-16T18:01:16.103Z"
   },
   {
    "duration": 8,
    "start_time": "2023-07-16T18:01:16.112Z"
   },
   {
    "duration": 58,
    "start_time": "2023-07-16T18:01:16.127Z"
   },
   {
    "duration": 11,
    "start_time": "2023-07-16T18:01:16.186Z"
   },
   {
    "duration": 433,
    "start_time": "2023-07-16T18:01:16.198Z"
   },
   {
    "duration": 16,
    "start_time": "2023-07-16T18:01:16.632Z"
   },
   {
    "duration": 72,
    "start_time": "2023-07-16T18:01:16.649Z"
   },
   {
    "duration": 258,
    "start_time": "2023-07-16T18:01:16.727Z"
   },
   {
    "duration": 11,
    "start_time": "2023-07-16T18:01:16.987Z"
   },
   {
    "duration": 37,
    "start_time": "2023-07-16T18:01:16.999Z"
   },
   {
    "duration": 6,
    "start_time": "2023-07-16T18:01:17.037Z"
   },
   {
    "duration": 11,
    "start_time": "2023-07-16T18:01:17.045Z"
   },
   {
    "duration": 242,
    "start_time": "2023-07-16T18:01:17.057Z"
   },
   {
    "duration": 15,
    "start_time": "2023-07-16T18:01:17.301Z"
   },
   {
    "duration": 8,
    "start_time": "2023-07-16T18:01:17.322Z"
   },
   {
    "duration": 7,
    "start_time": "2023-07-16T18:01:17.331Z"
   },
   {
    "duration": 353,
    "start_time": "2023-07-16T18:01:17.339Z"
   },
   {
    "duration": 8,
    "start_time": "2023-07-16T18:01:17.694Z"
   },
   {
    "duration": 132,
    "start_time": "2023-07-16T18:01:17.704Z"
   },
   {
    "duration": 400,
    "start_time": "2023-07-16T18:01:17.838Z"
   },
   {
    "duration": 14,
    "start_time": "2023-07-16T18:01:18.240Z"
   },
   {
    "duration": 193,
    "start_time": "2023-07-16T18:01:18.256Z"
   },
   {
    "duration": 34,
    "start_time": "2023-07-16T18:01:18.451Z"
   },
   {
    "duration": 38,
    "start_time": "2023-07-16T18:01:18.487Z"
   },
   {
    "duration": 24,
    "start_time": "2023-07-16T18:01:18.527Z"
   },
   {
    "duration": 128,
    "start_time": "2023-07-16T18:01:18.553Z"
   },
   {
    "duration": 20,
    "start_time": "2023-07-16T18:01:18.683Z"
   },
   {
    "duration": 11,
    "start_time": "2023-07-16T18:01:18.714Z"
   },
   {
    "duration": 79,
    "start_time": "2023-07-16T18:01:18.727Z"
   },
   {
    "duration": 20,
    "start_time": "2023-07-16T18:01:18.807Z"
   },
   {
    "duration": 36,
    "start_time": "2023-07-16T18:01:18.829Z"
   },
   {
    "duration": 12,
    "start_time": "2023-07-16T18:01:18.867Z"
   },
   {
    "duration": 244,
    "start_time": "2023-07-16T18:01:18.881Z"
   },
   {
    "duration": 14,
    "start_time": "2023-07-16T18:01:19.130Z"
   },
   {
    "duration": 82,
    "start_time": "2023-07-16T18:01:19.145Z"
   },
   {
    "duration": 6,
    "start_time": "2023-07-16T18:01:19.228Z"
   },
   {
    "duration": 193,
    "start_time": "2023-07-16T18:01:19.235Z"
   },
   {
    "duration": 14,
    "start_time": "2023-07-16T18:01:19.429Z"
   },
   {
    "duration": 26,
    "start_time": "2023-07-16T18:01:19.445Z"
   },
   {
    "duration": 88,
    "start_time": "2023-07-16T18:01:19.472Z"
   },
   {
    "duration": 12,
    "start_time": "2023-07-16T18:01:19.562Z"
   },
   {
    "duration": 165,
    "start_time": "2023-07-16T18:01:19.576Z"
   },
   {
    "duration": 10382,
    "start_time": "2023-07-16T18:01:19.743Z"
   },
   {
    "duration": 24,
    "start_time": "2023-07-16T18:01:30.127Z"
   },
   {
    "duration": 194,
    "start_time": "2023-07-16T18:01:30.152Z"
   },
   {
    "duration": 65,
    "start_time": "2023-07-16T18:01:30.348Z"
   },
   {
    "duration": 19,
    "start_time": "2023-07-16T18:01:30.415Z"
   },
   {
    "duration": 91,
    "start_time": "2023-07-16T18:01:30.438Z"
   },
   {
    "duration": 12,
    "start_time": "2023-07-16T18:01:30.531Z"
   },
   {
    "duration": 120,
    "start_time": "2023-07-16T18:01:30.545Z"
   },
   {
    "duration": 12,
    "start_time": "2023-07-16T18:01:30.667Z"
   },
   {
    "duration": 85,
    "start_time": "2023-07-16T18:01:30.681Z"
   },
   {
    "duration": 108,
    "start_time": "2023-07-16T18:01:30.768Z"
   },
   {
    "duration": 125,
    "start_time": "2023-07-16T18:01:30.877Z"
   },
   {
    "duration": 1724,
    "start_time": "2023-07-16T18:01:31.004Z"
   },
   {
    "duration": 13,
    "start_time": "2023-07-16T18:01:32.734Z"
   },
   {
    "duration": 291,
    "start_time": "2023-07-16T18:01:32.749Z"
   },
   {
    "duration": 20,
    "start_time": "2023-07-16T18:01:33.043Z"
   },
   {
    "duration": 411,
    "start_time": "2023-07-16T18:01:33.065Z"
   },
   {
    "duration": 12,
    "start_time": "2023-07-16T18:01:33.478Z"
   },
   {
    "duration": 33,
    "start_time": "2023-07-16T18:01:33.492Z"
   },
   {
    "duration": 324,
    "start_time": "2023-07-16T18:01:33.528Z"
   },
   {
    "duration": 13,
    "start_time": "2023-07-16T18:01:33.855Z"
   },
   {
    "duration": 129,
    "start_time": "2023-07-16T18:01:33.871Z"
   },
   {
    "duration": 32,
    "start_time": "2023-07-16T18:01:34.001Z"
   },
   {
    "duration": 391,
    "start_time": "2023-07-16T18:01:34.034Z"
   },
   {
    "duration": 5,
    "start_time": "2023-07-16T18:01:34.427Z"
   },
   {
    "duration": 10,
    "start_time": "2023-07-16T18:01:34.434Z"
   },
   {
    "duration": 240,
    "start_time": "2023-07-16T18:01:34.446Z"
   },
   {
    "duration": 8,
    "start_time": "2023-07-16T18:01:34.688Z"
   },
   {
    "duration": 134,
    "start_time": "2023-07-16T18:01:34.698Z"
   },
   {
    "duration": 6,
    "start_time": "2023-07-16T18:01:34.834Z"
   },
   {
    "duration": 9,
    "start_time": "2023-07-16T18:01:34.842Z"
   },
   {
    "duration": 251,
    "start_time": "2023-07-16T18:01:34.852Z"
   },
   {
    "duration": 4,
    "start_time": "2023-07-16T18:01:35.105Z"
   },
   {
    "duration": 52,
    "start_time": "2023-07-16T18:01:35.112Z"
   },
   {
    "duration": 378,
    "start_time": "2023-07-16T18:01:35.166Z"
   },
   {
    "duration": 6,
    "start_time": "2023-07-16T18:01:35.546Z"
   },
   {
    "duration": 95,
    "start_time": "2023-07-16T18:01:35.554Z"
   },
   {
    "duration": 15,
    "start_time": "2023-07-16T18:01:35.650Z"
   },
   {
    "duration": 1588,
    "start_time": "2023-07-16T18:06:37.149Z"
   },
   {
    "duration": 4,
    "start_time": "2023-07-16T18:06:38.739Z"
   },
   {
    "duration": 44,
    "start_time": "2023-07-16T18:06:38.744Z"
   },
   {
    "duration": 5,
    "start_time": "2023-07-16T18:06:38.790Z"
   },
   {
    "duration": 26,
    "start_time": "2023-07-16T18:06:38.797Z"
   },
   {
    "duration": 26,
    "start_time": "2023-07-16T18:06:38.825Z"
   },
   {
    "duration": 18,
    "start_time": "2023-07-16T18:06:38.852Z"
   },
   {
    "duration": 19,
    "start_time": "2023-07-16T18:06:38.872Z"
   },
   {
    "duration": 38,
    "start_time": "2023-07-16T18:06:38.893Z"
   },
   {
    "duration": 15,
    "start_time": "2023-07-16T18:06:38.934Z"
   },
   {
    "duration": 18,
    "start_time": "2023-07-16T18:06:38.951Z"
   },
   {
    "duration": 10,
    "start_time": "2023-07-16T18:06:38.971Z"
   },
   {
    "duration": 43,
    "start_time": "2023-07-16T18:06:38.983Z"
   },
   {
    "duration": 14,
    "start_time": "2023-07-16T18:06:39.029Z"
   },
   {
    "duration": 5,
    "start_time": "2023-07-16T18:06:39.044Z"
   },
   {
    "duration": 16,
    "start_time": "2023-07-16T18:06:39.051Z"
   },
   {
    "duration": 16,
    "start_time": "2023-07-16T18:06:39.068Z"
   },
   {
    "duration": 37,
    "start_time": "2023-07-16T18:06:39.086Z"
   },
   {
    "duration": 23,
    "start_time": "2023-07-16T18:06:39.125Z"
   },
   {
    "duration": 7,
    "start_time": "2023-07-16T18:06:39.149Z"
   },
   {
    "duration": 21,
    "start_time": "2023-07-16T18:06:39.157Z"
   },
   {
    "duration": 48,
    "start_time": "2023-07-16T18:06:39.180Z"
   },
   {
    "duration": 5,
    "start_time": "2023-07-16T18:06:39.230Z"
   },
   {
    "duration": 19,
    "start_time": "2023-07-16T18:06:39.236Z"
   },
   {
    "duration": 431,
    "start_time": "2023-07-16T18:06:39.256Z"
   },
   {
    "duration": 26,
    "start_time": "2023-07-16T18:06:39.689Z"
   },
   {
    "duration": 15,
    "start_time": "2023-07-16T18:06:39.717Z"
   },
   {
    "duration": 4,
    "start_time": "2023-07-16T18:06:39.737Z"
   },
   {
    "duration": 81,
    "start_time": "2023-07-16T18:06:39.743Z"
   },
   {
    "duration": 14,
    "start_time": "2023-07-16T18:06:39.826Z"
   },
   {
    "duration": 448,
    "start_time": "2023-07-16T18:06:39.843Z"
   },
   {
    "duration": 34,
    "start_time": "2023-07-16T18:06:40.293Z"
   },
   {
    "duration": 17,
    "start_time": "2023-07-16T18:06:40.329Z"
   },
   {
    "duration": 375,
    "start_time": "2023-07-16T18:06:40.348Z"
   },
   {
    "duration": 12,
    "start_time": "2023-07-16T18:06:40.724Z"
   },
   {
    "duration": 25,
    "start_time": "2023-07-16T18:06:40.738Z"
   },
   {
    "duration": 7,
    "start_time": "2023-07-16T18:06:40.764Z"
   },
   {
    "duration": 19,
    "start_time": "2023-07-16T18:06:40.773Z"
   },
   {
    "duration": 255,
    "start_time": "2023-07-16T18:06:40.794Z"
   },
   {
    "duration": 12,
    "start_time": "2023-07-16T18:06:41.051Z"
   },
   {
    "duration": 7,
    "start_time": "2023-07-16T18:06:41.064Z"
   },
   {
    "duration": 10,
    "start_time": "2023-07-16T18:06:41.072Z"
   },
   {
    "duration": 356,
    "start_time": "2023-07-16T18:06:41.084Z"
   },
   {
    "duration": 11,
    "start_time": "2023-07-16T18:06:41.442Z"
   },
   {
    "duration": 115,
    "start_time": "2023-07-16T18:06:41.455Z"
   },
   {
    "duration": 399,
    "start_time": "2023-07-16T18:06:41.572Z"
   },
   {
    "duration": 12,
    "start_time": "2023-07-16T18:06:41.974Z"
   },
   {
    "duration": 43,
    "start_time": "2023-07-16T18:06:41.988Z"
   },
   {
    "duration": 12,
    "start_time": "2023-07-16T18:06:42.033Z"
   },
   {
    "duration": 13,
    "start_time": "2023-07-16T18:06:42.047Z"
   },
   {
    "duration": 27,
    "start_time": "2023-07-16T18:06:42.061Z"
   },
   {
    "duration": 132,
    "start_time": "2023-07-16T18:06:42.089Z"
   },
   {
    "duration": 25,
    "start_time": "2023-07-16T18:06:42.222Z"
   },
   {
    "duration": 4,
    "start_time": "2023-07-16T18:06:42.249Z"
   },
   {
    "duration": 104,
    "start_time": "2023-07-16T18:06:42.255Z"
   },
   {
    "duration": 6,
    "start_time": "2023-07-16T18:06:42.361Z"
   },
   {
    "duration": 24,
    "start_time": "2023-07-16T18:06:42.369Z"
   },
   {
    "duration": 9,
    "start_time": "2023-07-16T18:06:42.394Z"
   },
   {
    "duration": 236,
    "start_time": "2023-07-16T18:06:42.405Z"
   },
   {
    "duration": 13,
    "start_time": "2023-07-16T18:06:42.643Z"
   },
   {
    "duration": 84,
    "start_time": "2023-07-16T18:06:42.657Z"
   },
   {
    "duration": 5,
    "start_time": "2023-07-16T18:06:42.743Z"
   },
   {
    "duration": 198,
    "start_time": "2023-07-16T18:06:42.749Z"
   },
   {
    "duration": 14,
    "start_time": "2023-07-16T18:06:42.948Z"
   },
   {
    "duration": 10,
    "start_time": "2023-07-16T18:06:42.964Z"
   },
   {
    "duration": 99,
    "start_time": "2023-07-16T18:06:42.976Z"
   },
   {
    "duration": 12,
    "start_time": "2023-07-16T18:06:43.077Z"
   },
   {
    "duration": 140,
    "start_time": "2023-07-16T18:06:43.091Z"
   },
   {
    "duration": 10655,
    "start_time": "2023-07-16T18:06:43.233Z"
   },
   {
    "duration": 39,
    "start_time": "2023-07-16T18:06:53.891Z"
   },
   {
    "duration": 204,
    "start_time": "2023-07-16T18:06:53.933Z"
   },
   {
    "duration": 11,
    "start_time": "2023-07-16T18:06:54.139Z"
   },
   {
    "duration": 77,
    "start_time": "2023-07-16T18:06:54.151Z"
   },
   {
    "duration": 96,
    "start_time": "2023-07-16T18:06:54.230Z"
   },
   {
    "duration": 17,
    "start_time": "2023-07-16T18:06:54.328Z"
   },
   {
    "duration": 160,
    "start_time": "2023-07-16T18:06:54.347Z"
   },
   {
    "duration": 9,
    "start_time": "2023-07-16T18:06:54.513Z"
   },
   {
    "duration": 32,
    "start_time": "2023-07-16T18:06:54.526Z"
   },
   {
    "duration": 79,
    "start_time": "2023-07-16T18:06:54.560Z"
   },
   {
    "duration": 96,
    "start_time": "2023-07-16T18:06:54.642Z"
   },
   {
    "duration": 1892,
    "start_time": "2023-07-16T18:06:54.740Z"
   },
   {
    "duration": 12,
    "start_time": "2023-07-16T18:06:56.639Z"
   },
   {
    "duration": 301,
    "start_time": "2023-07-16T18:06:56.653Z"
   },
   {
    "duration": 20,
    "start_time": "2023-07-16T18:06:56.955Z"
   },
   {
    "duration": 405,
    "start_time": "2023-07-16T18:06:56.976Z"
   },
   {
    "duration": 7,
    "start_time": "2023-07-16T18:06:57.383Z"
   },
   {
    "duration": 144,
    "start_time": "2023-07-16T18:06:57.392Z"
   },
   {
    "duration": 459,
    "start_time": "2023-07-16T18:06:57.539Z"
   },
   {
    "duration": 31,
    "start_time": "2023-07-16T18:06:58.001Z"
   },
   {
    "duration": 103,
    "start_time": "2023-07-16T18:06:58.034Z"
   },
   {
    "duration": 25,
    "start_time": "2023-07-16T18:06:58.139Z"
   },
   {
    "duration": 413,
    "start_time": "2023-07-16T18:06:58.167Z"
   },
   {
    "duration": 5,
    "start_time": "2023-07-16T18:06:58.582Z"
   },
   {
    "duration": 45,
    "start_time": "2023-07-16T18:06:58.589Z"
   },
   {
    "duration": 255,
    "start_time": "2023-07-16T18:06:58.636Z"
   },
   {
    "duration": 9,
    "start_time": "2023-07-16T18:06:58.893Z"
   },
   {
    "duration": 147,
    "start_time": "2023-07-16T18:06:58.903Z"
   },
   {
    "duration": 6,
    "start_time": "2023-07-16T18:06:59.052Z"
   },
   {
    "duration": 33,
    "start_time": "2023-07-16T18:06:59.060Z"
   },
   {
    "duration": 264,
    "start_time": "2023-07-16T18:06:59.095Z"
   },
   {
    "duration": 5,
    "start_time": "2023-07-16T18:06:59.360Z"
   },
   {
    "duration": 19,
    "start_time": "2023-07-16T18:06:59.367Z"
   },
   {
    "duration": 466,
    "start_time": "2023-07-16T18:06:59.388Z"
   },
   {
    "duration": 7,
    "start_time": "2023-07-16T18:06:59.857Z"
   },
   {
    "duration": 111,
    "start_time": "2023-07-16T18:06:59.867Z"
   },
   {
    "duration": 21,
    "start_time": "2023-07-16T18:06:59.980Z"
   },
   {
    "duration": 298,
    "start_time": "2023-07-16T18:10:41.979Z"
   },
   {
    "duration": 131,
    "start_time": "2023-07-16T18:12:47.397Z"
   },
   {
    "duration": 120,
    "start_time": "2023-07-16T18:12:51.548Z"
   },
   {
    "duration": 3674,
    "start_time": "2023-07-16T18:33:59.395Z"
   },
   {
    "duration": 4,
    "start_time": "2023-07-16T18:34:03.071Z"
   },
   {
    "duration": 100,
    "start_time": "2023-07-16T18:34:03.076Z"
   },
   {
    "duration": 5,
    "start_time": "2023-07-16T18:34:03.177Z"
   },
   {
    "duration": 97,
    "start_time": "2023-07-16T18:34:03.184Z"
   },
   {
    "duration": 97,
    "start_time": "2023-07-16T18:34:03.282Z"
   },
   {
    "duration": 16,
    "start_time": "2023-07-16T18:34:03.381Z"
   },
   {
    "duration": 83,
    "start_time": "2023-07-16T18:34:03.399Z"
   },
   {
    "duration": 9,
    "start_time": "2023-07-16T18:34:03.484Z"
   },
   {
    "duration": 83,
    "start_time": "2023-07-16T18:34:03.494Z"
   },
   {
    "duration": 49,
    "start_time": "2023-07-16T18:34:03.578Z"
   },
   {
    "duration": 7,
    "start_time": "2023-07-16T18:34:03.669Z"
   },
   {
    "duration": 30,
    "start_time": "2023-07-16T18:34:03.677Z"
   },
   {
    "duration": 66,
    "start_time": "2023-07-16T18:34:03.710Z"
   },
   {
    "duration": 5,
    "start_time": "2023-07-16T18:34:03.777Z"
   },
   {
    "duration": 25,
    "start_time": "2023-07-16T18:34:03.784Z"
   },
   {
    "duration": 72,
    "start_time": "2023-07-16T18:34:03.811Z"
   },
   {
    "duration": 11,
    "start_time": "2023-07-16T18:34:03.885Z"
   },
   {
    "duration": 72,
    "start_time": "2023-07-16T18:34:03.898Z"
   },
   {
    "duration": 8,
    "start_time": "2023-07-16T18:34:03.972Z"
   },
   {
    "duration": 30,
    "start_time": "2023-07-16T18:34:03.982Z"
   },
   {
    "duration": 21,
    "start_time": "2023-07-16T18:34:04.069Z"
   },
   {
    "duration": 6,
    "start_time": "2023-07-16T18:34:04.092Z"
   },
   {
    "duration": 79,
    "start_time": "2023-07-16T18:34:04.100Z"
   },
   {
    "duration": 306,
    "start_time": "2023-07-16T18:34:04.180Z"
   },
   {
    "duration": 0,
    "start_time": "2023-07-16T18:34:04.489Z"
   },
   {
    "duration": 0,
    "start_time": "2023-07-16T18:34:04.491Z"
   },
   {
    "duration": 0,
    "start_time": "2023-07-16T18:34:04.492Z"
   },
   {
    "duration": 0,
    "start_time": "2023-07-16T18:34:04.493Z"
   },
   {
    "duration": 0,
    "start_time": "2023-07-16T18:34:04.494Z"
   },
   {
    "duration": 0,
    "start_time": "2023-07-16T18:34:04.496Z"
   },
   {
    "duration": 0,
    "start_time": "2023-07-16T18:34:04.497Z"
   },
   {
    "duration": 0,
    "start_time": "2023-07-16T18:34:04.498Z"
   },
   {
    "duration": 0,
    "start_time": "2023-07-16T18:34:04.499Z"
   },
   {
    "duration": 0,
    "start_time": "2023-07-16T18:34:04.500Z"
   },
   {
    "duration": 0,
    "start_time": "2023-07-16T18:34:04.501Z"
   },
   {
    "duration": 0,
    "start_time": "2023-07-16T18:34:04.502Z"
   },
   {
    "duration": 0,
    "start_time": "2023-07-16T18:34:04.503Z"
   },
   {
    "duration": 0,
    "start_time": "2023-07-16T18:34:04.504Z"
   },
   {
    "duration": 0,
    "start_time": "2023-07-16T18:34:04.505Z"
   },
   {
    "duration": 0,
    "start_time": "2023-07-16T18:34:04.568Z"
   },
   {
    "duration": 0,
    "start_time": "2023-07-16T18:34:04.569Z"
   },
   {
    "duration": 0,
    "start_time": "2023-07-16T18:34:04.570Z"
   },
   {
    "duration": 0,
    "start_time": "2023-07-16T18:34:04.571Z"
   },
   {
    "duration": 0,
    "start_time": "2023-07-16T18:34:04.572Z"
   },
   {
    "duration": 0,
    "start_time": "2023-07-16T18:34:04.574Z"
   },
   {
    "duration": 0,
    "start_time": "2023-07-16T18:34:04.575Z"
   },
   {
    "duration": 0,
    "start_time": "2023-07-16T18:34:04.576Z"
   },
   {
    "duration": 0,
    "start_time": "2023-07-16T18:34:04.577Z"
   },
   {
    "duration": 0,
    "start_time": "2023-07-16T18:34:04.578Z"
   },
   {
    "duration": 0,
    "start_time": "2023-07-16T18:34:04.579Z"
   },
   {
    "duration": 0,
    "start_time": "2023-07-16T18:34:04.581Z"
   },
   {
    "duration": 0,
    "start_time": "2023-07-16T18:34:04.582Z"
   },
   {
    "duration": 0,
    "start_time": "2023-07-16T18:34:04.583Z"
   },
   {
    "duration": 0,
    "start_time": "2023-07-16T18:34:04.584Z"
   },
   {
    "duration": 0,
    "start_time": "2023-07-16T18:34:04.586Z"
   },
   {
    "duration": 0,
    "start_time": "2023-07-16T18:34:04.587Z"
   },
   {
    "duration": 0,
    "start_time": "2023-07-16T18:34:04.589Z"
   },
   {
    "duration": 0,
    "start_time": "2023-07-16T18:34:04.590Z"
   },
   {
    "duration": 0,
    "start_time": "2023-07-16T18:34:04.591Z"
   },
   {
    "duration": 0,
    "start_time": "2023-07-16T18:34:04.593Z"
   },
   {
    "duration": 0,
    "start_time": "2023-07-16T18:34:04.594Z"
   },
   {
    "duration": 0,
    "start_time": "2023-07-16T18:34:04.669Z"
   },
   {
    "duration": 0,
    "start_time": "2023-07-16T18:34:04.671Z"
   },
   {
    "duration": 0,
    "start_time": "2023-07-16T18:34:04.672Z"
   },
   {
    "duration": 1,
    "start_time": "2023-07-16T18:34:04.673Z"
   },
   {
    "duration": 0,
    "start_time": "2023-07-16T18:34:04.675Z"
   },
   {
    "duration": 0,
    "start_time": "2023-07-16T18:34:04.676Z"
   },
   {
    "duration": 0,
    "start_time": "2023-07-16T18:34:04.678Z"
   },
   {
    "duration": 0,
    "start_time": "2023-07-16T18:34:04.679Z"
   },
   {
    "duration": 0,
    "start_time": "2023-07-16T18:34:04.680Z"
   },
   {
    "duration": 0,
    "start_time": "2023-07-16T18:34:04.681Z"
   },
   {
    "duration": 0,
    "start_time": "2023-07-16T18:34:04.682Z"
   },
   {
    "duration": 0,
    "start_time": "2023-07-16T18:34:04.683Z"
   },
   {
    "duration": 0,
    "start_time": "2023-07-16T18:34:04.684Z"
   },
   {
    "duration": 0,
    "start_time": "2023-07-16T18:34:04.685Z"
   },
   {
    "duration": 0,
    "start_time": "2023-07-16T18:34:04.686Z"
   },
   {
    "duration": 0,
    "start_time": "2023-07-16T18:34:04.687Z"
   },
   {
    "duration": 0,
    "start_time": "2023-07-16T18:34:04.688Z"
   },
   {
    "duration": 0,
    "start_time": "2023-07-16T18:34:04.689Z"
   },
   {
    "duration": 0,
    "start_time": "2023-07-16T18:34:04.690Z"
   },
   {
    "duration": 0,
    "start_time": "2023-07-16T18:34:04.692Z"
   },
   {
    "duration": 0,
    "start_time": "2023-07-16T18:34:04.692Z"
   },
   {
    "duration": 0,
    "start_time": "2023-07-16T18:34:04.693Z"
   },
   {
    "duration": 0,
    "start_time": "2023-07-16T18:34:04.694Z"
   },
   {
    "duration": 0,
    "start_time": "2023-07-16T18:34:04.695Z"
   },
   {
    "duration": 0,
    "start_time": "2023-07-16T18:34:04.768Z"
   },
   {
    "duration": 0,
    "start_time": "2023-07-16T18:34:04.769Z"
   },
   {
    "duration": 0,
    "start_time": "2023-07-16T18:34:04.771Z"
   },
   {
    "duration": 0,
    "start_time": "2023-07-16T18:34:04.772Z"
   },
   {
    "duration": 0,
    "start_time": "2023-07-16T18:34:04.773Z"
   },
   {
    "duration": 0,
    "start_time": "2023-07-16T18:34:04.774Z"
   },
   {
    "duration": 0,
    "start_time": "2023-07-16T18:34:04.775Z"
   },
   {
    "duration": 0,
    "start_time": "2023-07-16T18:34:04.776Z"
   },
   {
    "duration": 0,
    "start_time": "2023-07-16T18:34:04.777Z"
   },
   {
    "duration": 0,
    "start_time": "2023-07-16T18:34:04.778Z"
   },
   {
    "duration": 0,
    "start_time": "2023-07-16T18:34:04.779Z"
   },
   {
    "duration": 0,
    "start_time": "2023-07-16T18:34:04.780Z"
   },
   {
    "duration": 0,
    "start_time": "2023-07-16T18:34:04.781Z"
   },
   {
    "duration": 0,
    "start_time": "2023-07-16T18:34:04.782Z"
   },
   {
    "duration": 0,
    "start_time": "2023-07-16T18:34:04.783Z"
   },
   {
    "duration": 0,
    "start_time": "2023-07-16T18:34:04.784Z"
   },
   {
    "duration": 0,
    "start_time": "2023-07-16T18:34:04.784Z"
   },
   {
    "duration": 0,
    "start_time": "2023-07-16T18:34:04.786Z"
   },
   {
    "duration": 0,
    "start_time": "2023-07-16T18:34:04.787Z"
   },
   {
    "duration": 0,
    "start_time": "2023-07-16T18:34:04.788Z"
   },
   {
    "duration": 455,
    "start_time": "2023-07-16T18:44:18.769Z"
   },
   {
    "duration": 1870,
    "start_time": "2023-07-16T18:45:36.795Z"
   },
   {
    "duration": 4,
    "start_time": "2023-07-16T18:45:38.668Z"
   },
   {
    "duration": 67,
    "start_time": "2023-07-16T18:45:38.674Z"
   },
   {
    "duration": 10,
    "start_time": "2023-07-16T18:45:38.743Z"
   },
   {
    "duration": 17,
    "start_time": "2023-07-16T18:45:38.756Z"
   },
   {
    "duration": 58,
    "start_time": "2023-07-16T18:45:38.774Z"
   },
   {
    "duration": 25,
    "start_time": "2023-07-16T18:45:38.837Z"
   },
   {
    "duration": 20,
    "start_time": "2023-07-16T18:45:38.864Z"
   },
   {
    "duration": 9,
    "start_time": "2023-07-16T18:45:38.886Z"
   },
   {
    "duration": 32,
    "start_time": "2023-07-16T18:45:38.896Z"
   },
   {
    "duration": 19,
    "start_time": "2023-07-16T18:45:38.929Z"
   },
   {
    "duration": 9,
    "start_time": "2023-07-16T18:45:38.950Z"
   },
   {
    "duration": 20,
    "start_time": "2023-07-16T18:45:38.960Z"
   },
   {
    "duration": 37,
    "start_time": "2023-07-16T18:45:38.984Z"
   },
   {
    "duration": 17,
    "start_time": "2023-07-16T18:45:39.023Z"
   },
   {
    "duration": 19,
    "start_time": "2023-07-16T18:45:39.041Z"
   },
   {
    "duration": 19,
    "start_time": "2023-07-16T18:45:39.062Z"
   },
   {
    "duration": 12,
    "start_time": "2023-07-16T18:45:39.083Z"
   },
   {
    "duration": 33,
    "start_time": "2023-07-16T18:45:39.097Z"
   },
   {
    "duration": 8,
    "start_time": "2023-07-16T18:45:39.132Z"
   },
   {
    "duration": 20,
    "start_time": "2023-07-16T18:45:39.146Z"
   },
   {
    "duration": 20,
    "start_time": "2023-07-16T18:45:39.168Z"
   },
   {
    "duration": 8,
    "start_time": "2023-07-16T18:45:39.191Z"
   },
   {
    "duration": 43,
    "start_time": "2023-07-16T18:45:39.201Z"
   },
   {
    "duration": 431,
    "start_time": "2023-07-16T18:45:39.249Z"
   },
   {
    "duration": 32,
    "start_time": "2023-07-16T18:45:39.681Z"
   },
   {
    "duration": 4,
    "start_time": "2023-07-16T18:45:39.725Z"
   },
   {
    "duration": 12,
    "start_time": "2023-07-16T18:45:39.733Z"
   },
   {
    "duration": 125,
    "start_time": "2023-07-16T18:45:39.747Z"
   },
   {
    "duration": 16,
    "start_time": "2023-07-16T18:45:39.874Z"
   },
   {
    "duration": 560,
    "start_time": "2023-07-16T18:45:39.892Z"
   },
   {
    "duration": 29,
    "start_time": "2023-07-16T18:45:40.454Z"
   },
   {
    "duration": 22,
    "start_time": "2023-07-16T18:45:40.514Z"
   },
   {
    "duration": 350,
    "start_time": "2023-07-16T18:45:40.539Z"
   },
   {
    "duration": 32,
    "start_time": "2023-07-16T18:45:40.891Z"
   },
   {
    "duration": 40,
    "start_time": "2023-07-16T18:45:40.925Z"
   },
   {
    "duration": 8,
    "start_time": "2023-07-16T18:45:40.967Z"
   },
   {
    "duration": 15,
    "start_time": "2023-07-16T18:45:40.978Z"
   },
   {
    "duration": 365,
    "start_time": "2023-07-16T18:45:40.995Z"
   },
   {
    "duration": 18,
    "start_time": "2023-07-16T18:45:41.363Z"
   },
   {
    "duration": 54,
    "start_time": "2023-07-16T18:45:41.388Z"
   },
   {
    "duration": 20,
    "start_time": "2023-07-16T18:45:41.444Z"
   },
   {
    "duration": 437,
    "start_time": "2023-07-16T18:45:41.467Z"
   },
   {
    "duration": 27,
    "start_time": "2023-07-16T18:45:41.919Z"
   },
   {
    "duration": 107,
    "start_time": "2023-07-16T18:45:41.948Z"
   },
   {
    "duration": 406,
    "start_time": "2023-07-16T18:45:42.057Z"
   },
   {
    "duration": 14,
    "start_time": "2023-07-16T18:45:42.465Z"
   },
   {
    "duration": 42,
    "start_time": "2023-07-16T18:45:42.481Z"
   },
   {
    "duration": 9,
    "start_time": "2023-07-16T18:45:42.531Z"
   },
   {
    "duration": 11,
    "start_time": "2023-07-16T18:45:42.541Z"
   },
   {
    "duration": 17,
    "start_time": "2023-07-16T18:45:42.554Z"
   },
   {
    "duration": 118,
    "start_time": "2023-07-16T18:45:42.573Z"
   },
   {
    "duration": 32,
    "start_time": "2023-07-16T18:45:42.693Z"
   },
   {
    "duration": 11,
    "start_time": "2023-07-16T18:45:42.726Z"
   },
   {
    "duration": 113,
    "start_time": "2023-07-16T18:45:42.739Z"
   },
   {
    "duration": 7,
    "start_time": "2023-07-16T18:45:42.854Z"
   },
   {
    "duration": 30,
    "start_time": "2023-07-16T18:45:42.863Z"
   },
   {
    "duration": 13,
    "start_time": "2023-07-16T18:45:42.896Z"
   },
   {
    "duration": 258,
    "start_time": "2023-07-16T18:45:42.911Z"
   },
   {
    "duration": 14,
    "start_time": "2023-07-16T18:45:43.171Z"
   },
   {
    "duration": 99,
    "start_time": "2023-07-16T18:45:43.187Z"
   },
   {
    "duration": 5,
    "start_time": "2023-07-16T18:45:43.288Z"
   },
   {
    "duration": 211,
    "start_time": "2023-07-16T18:45:43.295Z"
   },
   {
    "duration": 31,
    "start_time": "2023-07-16T18:45:43.516Z"
   },
   {
    "duration": 56,
    "start_time": "2023-07-16T18:45:43.551Z"
   },
   {
    "duration": 114,
    "start_time": "2023-07-16T18:45:43.610Z"
   },
   {
    "duration": 13,
    "start_time": "2023-07-16T18:45:43.726Z"
   },
   {
    "duration": 153,
    "start_time": "2023-07-16T18:45:43.741Z"
   },
   {
    "duration": 11356,
    "start_time": "2023-07-16T18:45:43.896Z"
   },
   {
    "duration": 72,
    "start_time": "2023-07-16T18:45:55.255Z"
   },
   {
    "duration": 195,
    "start_time": "2023-07-16T18:45:55.341Z"
   },
   {
    "duration": 17,
    "start_time": "2023-07-16T18:45:55.540Z"
   },
   {
    "duration": 15,
    "start_time": "2023-07-16T18:45:55.559Z"
   },
   {
    "duration": 79,
    "start_time": "2023-07-16T18:45:55.575Z"
   },
   {
    "duration": 23,
    "start_time": "2023-07-16T18:45:55.656Z"
   },
   {
    "duration": 101,
    "start_time": "2023-07-16T18:45:55.682Z"
   },
   {
    "duration": 8,
    "start_time": "2023-07-16T18:45:55.785Z"
   },
   {
    "duration": 17,
    "start_time": "2023-07-16T18:45:55.816Z"
   },
   {
    "duration": 45,
    "start_time": "2023-07-16T18:45:55.838Z"
   },
   {
    "duration": 110,
    "start_time": "2023-07-16T18:45:55.884Z"
   },
   {
    "duration": 1837,
    "start_time": "2023-07-16T18:45:55.995Z"
   },
   {
    "duration": 20,
    "start_time": "2023-07-16T18:45:57.834Z"
   },
   {
    "duration": 330,
    "start_time": "2023-07-16T18:45:57.856Z"
   },
   {
    "duration": 41,
    "start_time": "2023-07-16T18:45:58.188Z"
   },
   {
    "duration": 430,
    "start_time": "2023-07-16T18:45:58.232Z"
   },
   {
    "duration": 7,
    "start_time": "2023-07-16T18:45:58.664Z"
   },
   {
    "duration": 11,
    "start_time": "2023-07-16T18:45:58.672Z"
   },
   {
    "duration": 365,
    "start_time": "2023-07-16T18:45:58.685Z"
   },
   {
    "duration": 12,
    "start_time": "2023-07-16T18:45:59.052Z"
   },
   {
    "duration": 102,
    "start_time": "2023-07-16T18:45:59.065Z"
   },
   {
    "duration": 19,
    "start_time": "2023-07-16T18:45:59.168Z"
   },
   {
    "duration": 429,
    "start_time": "2023-07-16T18:45:59.188Z"
   },
   {
    "duration": 12,
    "start_time": "2023-07-16T18:45:59.627Z"
   },
   {
    "duration": 8,
    "start_time": "2023-07-16T18:45:59.648Z"
   },
   {
    "duration": 324,
    "start_time": "2023-07-16T18:45:59.658Z"
   },
   {
    "duration": 13,
    "start_time": "2023-07-16T18:45:59.984Z"
   },
   {
    "duration": 157,
    "start_time": "2023-07-16T18:45:59.999Z"
   },
   {
    "duration": 6,
    "start_time": "2023-07-16T18:46:00.158Z"
   },
   {
    "duration": 20,
    "start_time": "2023-07-16T18:46:00.165Z"
   },
   {
    "duration": 272,
    "start_time": "2023-07-16T18:46:00.187Z"
   },
   {
    "duration": 4,
    "start_time": "2023-07-16T18:46:00.461Z"
   },
   {
    "duration": 40,
    "start_time": "2023-07-16T18:46:00.467Z"
   },
   {
    "duration": 440,
    "start_time": "2023-07-16T18:46:00.511Z"
   },
   {
    "duration": 6,
    "start_time": "2023-07-16T18:46:00.953Z"
   },
   {
    "duration": 105,
    "start_time": "2023-07-16T18:46:00.961Z"
   },
   {
    "duration": 15,
    "start_time": "2023-07-16T18:46:01.068Z"
   },
   {
    "duration": 92,
    "start_time": "2023-07-17T06:35:34.501Z"
   },
   {
    "duration": 0,
    "start_time": "2023-07-17T06:35:34.595Z"
   },
   {
    "duration": 0,
    "start_time": "2023-07-17T06:35:34.597Z"
   },
   {
    "duration": 0,
    "start_time": "2023-07-17T06:35:34.598Z"
   },
   {
    "duration": 0,
    "start_time": "2023-07-17T06:35:34.599Z"
   },
   {
    "duration": 0,
    "start_time": "2023-07-17T06:35:34.600Z"
   },
   {
    "duration": 0,
    "start_time": "2023-07-17T06:35:34.601Z"
   },
   {
    "duration": 0,
    "start_time": "2023-07-17T06:35:34.602Z"
   },
   {
    "duration": 0,
    "start_time": "2023-07-17T06:35:34.603Z"
   },
   {
    "duration": 0,
    "start_time": "2023-07-17T06:35:34.604Z"
   },
   {
    "duration": 0,
    "start_time": "2023-07-17T06:35:34.605Z"
   },
   {
    "duration": 0,
    "start_time": "2023-07-17T06:35:34.607Z"
   },
   {
    "duration": 0,
    "start_time": "2023-07-17T06:35:34.608Z"
   },
   {
    "duration": 0,
    "start_time": "2023-07-17T06:35:34.609Z"
   },
   {
    "duration": 0,
    "start_time": "2023-07-17T06:35:34.610Z"
   },
   {
    "duration": 0,
    "start_time": "2023-07-17T06:35:34.611Z"
   },
   {
    "duration": 50,
    "start_time": "2023-07-17T06:35:34.613Z"
   },
   {
    "duration": 0,
    "start_time": "2023-07-17T06:35:34.665Z"
   },
   {
    "duration": 0,
    "start_time": "2023-07-17T06:35:34.667Z"
   },
   {
    "duration": 0,
    "start_time": "2023-07-17T06:35:34.668Z"
   },
   {
    "duration": 0,
    "start_time": "2023-07-17T06:35:34.669Z"
   },
   {
    "duration": 0,
    "start_time": "2023-07-17T06:35:34.722Z"
   },
   {
    "duration": 0,
    "start_time": "2023-07-17T06:35:34.723Z"
   },
   {
    "duration": 0,
    "start_time": "2023-07-17T06:35:34.724Z"
   },
   {
    "duration": 0,
    "start_time": "2023-07-17T06:35:34.728Z"
   },
   {
    "duration": 0,
    "start_time": "2023-07-17T06:35:34.729Z"
   },
   {
    "duration": 0,
    "start_time": "2023-07-17T06:35:34.730Z"
   },
   {
    "duration": 0,
    "start_time": "2023-07-17T06:35:34.732Z"
   },
   {
    "duration": 0,
    "start_time": "2023-07-17T06:35:34.734Z"
   },
   {
    "duration": 0,
    "start_time": "2023-07-17T06:35:34.735Z"
   },
   {
    "duration": 0,
    "start_time": "2023-07-17T06:35:34.737Z"
   },
   {
    "duration": 10,
    "start_time": "2023-07-17T06:35:34.743Z"
   },
   {
    "duration": 0,
    "start_time": "2023-07-17T06:35:34.754Z"
   },
   {
    "duration": 0,
    "start_time": "2023-07-17T06:35:34.756Z"
   },
   {
    "duration": 0,
    "start_time": "2023-07-17T06:35:34.758Z"
   },
   {
    "duration": 0,
    "start_time": "2023-07-17T06:35:34.758Z"
   },
   {
    "duration": 0,
    "start_time": "2023-07-17T06:35:34.760Z"
   },
   {
    "duration": 0,
    "start_time": "2023-07-17T06:35:34.761Z"
   },
   {
    "duration": 0,
    "start_time": "2023-07-17T06:35:34.762Z"
   },
   {
    "duration": 1,
    "start_time": "2023-07-17T06:35:34.813Z"
   },
   {
    "duration": 0,
    "start_time": "2023-07-17T06:35:34.817Z"
   },
   {
    "duration": 0,
    "start_time": "2023-07-17T06:35:34.818Z"
   },
   {
    "duration": 0,
    "start_time": "2023-07-17T06:35:34.819Z"
   },
   {
    "duration": 0,
    "start_time": "2023-07-17T06:35:34.820Z"
   },
   {
    "duration": 0,
    "start_time": "2023-07-17T06:35:34.822Z"
   },
   {
    "duration": 0,
    "start_time": "2023-07-17T06:35:34.823Z"
   },
   {
    "duration": 0,
    "start_time": "2023-07-17T06:35:34.824Z"
   },
   {
    "duration": 0,
    "start_time": "2023-07-17T06:35:34.826Z"
   },
   {
    "duration": 0,
    "start_time": "2023-07-17T06:35:34.827Z"
   },
   {
    "duration": 0,
    "start_time": "2023-07-17T06:35:34.828Z"
   },
   {
    "duration": 0,
    "start_time": "2023-07-17T06:35:34.829Z"
   },
   {
    "duration": 0,
    "start_time": "2023-07-17T06:35:34.831Z"
   },
   {
    "duration": 0,
    "start_time": "2023-07-17T06:35:34.832Z"
   },
   {
    "duration": 0,
    "start_time": "2023-07-17T06:35:34.833Z"
   },
   {
    "duration": 0,
    "start_time": "2023-07-17T06:35:34.835Z"
   },
   {
    "duration": 0,
    "start_time": "2023-07-17T06:35:34.837Z"
   },
   {
    "duration": 8,
    "start_time": "2023-07-17T06:35:34.843Z"
   },
   {
    "duration": 0,
    "start_time": "2023-07-17T06:35:34.853Z"
   },
   {
    "duration": 0,
    "start_time": "2023-07-17T06:35:34.854Z"
   },
   {
    "duration": 0,
    "start_time": "2023-07-17T06:35:34.856Z"
   },
   {
    "duration": 0,
    "start_time": "2023-07-17T06:35:34.917Z"
   },
   {
    "duration": 0,
    "start_time": "2023-07-17T06:35:34.918Z"
   },
   {
    "duration": 0,
    "start_time": "2023-07-17T06:35:34.919Z"
   },
   {
    "duration": 0,
    "start_time": "2023-07-17T06:35:34.919Z"
   },
   {
    "duration": 0,
    "start_time": "2023-07-17T06:35:34.920Z"
   },
   {
    "duration": 0,
    "start_time": "2023-07-17T06:35:34.921Z"
   },
   {
    "duration": 0,
    "start_time": "2023-07-17T06:35:34.922Z"
   },
   {
    "duration": 0,
    "start_time": "2023-07-17T06:35:34.922Z"
   },
   {
    "duration": 0,
    "start_time": "2023-07-17T06:35:34.923Z"
   },
   {
    "duration": 0,
    "start_time": "2023-07-17T06:35:34.924Z"
   },
   {
    "duration": 0,
    "start_time": "2023-07-17T06:35:34.925Z"
   },
   {
    "duration": 0,
    "start_time": "2023-07-17T06:35:34.930Z"
   },
   {
    "duration": 0,
    "start_time": "2023-07-17T06:35:34.932Z"
   },
   {
    "duration": 0,
    "start_time": "2023-07-17T06:35:34.933Z"
   },
   {
    "duration": 0,
    "start_time": "2023-07-17T06:35:34.934Z"
   },
   {
    "duration": 0,
    "start_time": "2023-07-17T06:35:34.935Z"
   },
   {
    "duration": 0,
    "start_time": "2023-07-17T06:35:34.935Z"
   },
   {
    "duration": 0,
    "start_time": "2023-07-17T06:35:34.936Z"
   },
   {
    "duration": 0,
    "start_time": "2023-07-17T06:35:34.937Z"
   },
   {
    "duration": 0,
    "start_time": "2023-07-17T06:35:34.937Z"
   },
   {
    "duration": 0,
    "start_time": "2023-07-17T06:35:34.938Z"
   },
   {
    "duration": 0,
    "start_time": "2023-07-17T06:35:34.939Z"
   },
   {
    "duration": 0,
    "start_time": "2023-07-17T06:35:34.942Z"
   },
   {
    "duration": 1,
    "start_time": "2023-07-17T06:35:34.943Z"
   },
   {
    "duration": 12,
    "start_time": "2023-07-17T06:35:34.950Z"
   },
   {
    "duration": 0,
    "start_time": "2023-07-17T06:35:35.024Z"
   },
   {
    "duration": 0,
    "start_time": "2023-07-17T06:35:35.026Z"
   },
   {
    "duration": 0,
    "start_time": "2023-07-17T06:35:35.027Z"
   },
   {
    "duration": 0,
    "start_time": "2023-07-17T06:35:35.028Z"
   },
   {
    "duration": 0,
    "start_time": "2023-07-17T06:35:35.029Z"
   },
   {
    "duration": 0,
    "start_time": "2023-07-17T06:35:35.033Z"
   },
   {
    "duration": 1,
    "start_time": "2023-07-17T06:35:35.034Z"
   },
   {
    "duration": 0,
    "start_time": "2023-07-17T06:35:35.036Z"
   },
   {
    "duration": 0,
    "start_time": "2023-07-17T06:35:35.037Z"
   },
   {
    "duration": 0,
    "start_time": "2023-07-17T06:35:35.038Z"
   },
   {
    "duration": 0,
    "start_time": "2023-07-17T06:35:35.040Z"
   },
   {
    "duration": 0,
    "start_time": "2023-07-17T06:35:35.041Z"
   },
   {
    "duration": 0,
    "start_time": "2023-07-17T06:35:35.042Z"
   },
   {
    "duration": 0,
    "start_time": "2023-07-17T06:35:35.043Z"
   },
   {
    "duration": 0,
    "start_time": "2023-07-17T06:35:35.044Z"
   },
   {
    "duration": 0,
    "start_time": "2023-07-17T06:35:35.045Z"
   },
   {
    "duration": 0,
    "start_time": "2023-07-17T06:35:35.046Z"
   },
   {
    "duration": 0,
    "start_time": "2023-07-17T06:35:35.047Z"
   },
   {
    "duration": 0,
    "start_time": "2023-07-17T06:35:35.048Z"
   },
   {
    "duration": 0,
    "start_time": "2023-07-17T06:35:35.049Z"
   },
   {
    "duration": 0,
    "start_time": "2023-07-17T06:35:35.050Z"
   },
   {
    "duration": 0,
    "start_time": "2023-07-17T06:35:35.051Z"
   },
   {
    "duration": 1722,
    "start_time": "2023-07-17T06:36:15.231Z"
   },
   {
    "duration": 6,
    "start_time": "2023-07-17T06:36:16.955Z"
   },
   {
    "duration": 61,
    "start_time": "2023-07-17T06:36:16.963Z"
   },
   {
    "duration": 6,
    "start_time": "2023-07-17T06:36:17.029Z"
   },
   {
    "duration": 14,
    "start_time": "2023-07-17T06:36:17.038Z"
   },
   {
    "duration": 28,
    "start_time": "2023-07-17T06:36:17.054Z"
   },
   {
    "duration": 41,
    "start_time": "2023-07-17T06:36:17.084Z"
   },
   {
    "duration": 20,
    "start_time": "2023-07-17T06:36:17.129Z"
   },
   {
    "duration": 10,
    "start_time": "2023-07-17T06:36:17.151Z"
   },
   {
    "duration": 16,
    "start_time": "2023-07-17T06:36:17.163Z"
   },
   {
    "duration": 48,
    "start_time": "2023-07-17T06:36:17.181Z"
   },
   {
    "duration": 11,
    "start_time": "2023-07-17T06:36:17.233Z"
   },
   {
    "duration": 22,
    "start_time": "2023-07-17T06:36:17.246Z"
   },
   {
    "duration": 23,
    "start_time": "2023-07-17T06:36:17.272Z"
   },
   {
    "duration": 8,
    "start_time": "2023-07-17T06:36:17.297Z"
   },
   {
    "duration": 28,
    "start_time": "2023-07-17T06:36:17.307Z"
   },
   {
    "duration": 28,
    "start_time": "2023-07-17T06:36:17.338Z"
   },
   {
    "duration": 17,
    "start_time": "2023-07-17T06:36:17.368Z"
   },
   {
    "duration": 33,
    "start_time": "2023-07-17T06:36:17.386Z"
   },
   {
    "duration": 6,
    "start_time": "2023-07-17T06:36:17.426Z"
   },
   {
    "duration": 20,
    "start_time": "2023-07-17T06:36:17.433Z"
   },
   {
    "duration": 14,
    "start_time": "2023-07-17T06:36:17.455Z"
   },
   {
    "duration": 5,
    "start_time": "2023-07-17T06:36:17.470Z"
   },
   {
    "duration": 21,
    "start_time": "2023-07-17T06:36:17.476Z"
   },
   {
    "duration": 392,
    "start_time": "2023-07-17T06:36:17.499Z"
   },
   {
    "duration": 26,
    "start_time": "2023-07-17T06:36:17.893Z"
   },
   {
    "duration": 55,
    "start_time": "2023-07-17T06:36:17.922Z"
   },
   {
    "duration": 14,
    "start_time": "2023-07-17T06:36:17.979Z"
   },
   {
    "duration": 73,
    "start_time": "2023-07-17T06:36:17.995Z"
   },
   {
    "duration": 12,
    "start_time": "2023-07-17T06:36:18.070Z"
   },
   {
    "duration": 464,
    "start_time": "2023-07-17T06:36:18.084Z"
   },
   {
    "duration": 21,
    "start_time": "2023-07-17T06:36:18.550Z"
   },
   {
    "duration": 19,
    "start_time": "2023-07-17T06:36:18.612Z"
   },
   {
    "duration": 316,
    "start_time": "2023-07-17T06:36:18.633Z"
   },
   {
    "duration": 11,
    "start_time": "2023-07-17T06:36:18.951Z"
   },
   {
    "duration": 34,
    "start_time": "2023-07-17T06:36:18.964Z"
   },
   {
    "duration": 23,
    "start_time": "2023-07-17T06:36:19.000Z"
   },
   {
    "duration": 12,
    "start_time": "2023-07-17T06:36:19.025Z"
   },
   {
    "duration": 243,
    "start_time": "2023-07-17T06:36:19.038Z"
   },
   {
    "duration": 12,
    "start_time": "2023-07-17T06:36:19.283Z"
   },
   {
    "duration": 23,
    "start_time": "2023-07-17T06:36:19.300Z"
   },
   {
    "duration": 29,
    "start_time": "2023-07-17T06:36:19.326Z"
   },
   {
    "duration": 398,
    "start_time": "2023-07-17T06:36:19.357Z"
   },
   {
    "duration": 11,
    "start_time": "2023-07-17T06:36:19.757Z"
   },
   {
    "duration": 126,
    "start_time": "2023-07-17T06:36:19.770Z"
   },
   {
    "duration": 389,
    "start_time": "2023-07-17T06:36:19.898Z"
   },
   {
    "duration": 11,
    "start_time": "2023-07-17T06:36:20.288Z"
   },
   {
    "duration": 38,
    "start_time": "2023-07-17T06:36:20.301Z"
   },
   {
    "duration": 12,
    "start_time": "2023-07-17T06:36:20.341Z"
   },
   {
    "duration": 31,
    "start_time": "2023-07-17T06:36:20.355Z"
   },
   {
    "duration": 37,
    "start_time": "2023-07-17T06:36:20.388Z"
   },
   {
    "duration": 157,
    "start_time": "2023-07-17T06:36:20.427Z"
   },
   {
    "duration": 29,
    "start_time": "2023-07-17T06:36:20.586Z"
   },
   {
    "duration": 14,
    "start_time": "2023-07-17T06:36:20.617Z"
   },
   {
    "duration": 102,
    "start_time": "2023-07-17T06:36:20.633Z"
   },
   {
    "duration": 6,
    "start_time": "2023-07-17T06:36:20.736Z"
   },
   {
    "duration": 28,
    "start_time": "2023-07-17T06:36:20.744Z"
   },
   {
    "duration": 10,
    "start_time": "2023-07-17T06:36:20.774Z"
   },
   {
    "duration": 234,
    "start_time": "2023-07-17T06:36:20.785Z"
   },
   {
    "duration": 20,
    "start_time": "2023-07-17T06:36:21.029Z"
   },
   {
    "duration": 103,
    "start_time": "2023-07-17T06:36:21.052Z"
   },
   {
    "duration": 6,
    "start_time": "2023-07-17T06:36:21.158Z"
   },
   {
    "duration": 213,
    "start_time": "2023-07-17T06:36:21.166Z"
   },
   {
    "duration": 15,
    "start_time": "2023-07-17T06:36:21.381Z"
   },
   {
    "duration": 30,
    "start_time": "2023-07-17T06:36:21.398Z"
   },
   {
    "duration": 99,
    "start_time": "2023-07-17T06:36:21.429Z"
   },
   {
    "duration": 15,
    "start_time": "2023-07-17T06:36:21.533Z"
   },
   {
    "duration": 130,
    "start_time": "2023-07-17T06:36:21.550Z"
   },
   {
    "duration": 10240,
    "start_time": "2023-07-17T06:36:21.682Z"
   },
   {
    "duration": 30,
    "start_time": "2023-07-17T06:36:31.924Z"
   },
   {
    "duration": 178,
    "start_time": "2023-07-17T06:36:31.956Z"
   },
   {
    "duration": 14,
    "start_time": "2023-07-17T06:36:32.136Z"
   },
   {
    "duration": 75,
    "start_time": "2023-07-17T06:36:32.152Z"
   },
   {
    "duration": 70,
    "start_time": "2023-07-17T06:36:32.229Z"
   },
   {
    "duration": 63,
    "start_time": "2023-07-17T06:36:32.301Z"
   },
   {
    "duration": 112,
    "start_time": "2023-07-17T06:36:32.367Z"
   },
   {
    "duration": 9,
    "start_time": "2023-07-17T06:36:32.481Z"
   },
   {
    "duration": 44,
    "start_time": "2023-07-17T06:36:32.492Z"
   },
   {
    "duration": 59,
    "start_time": "2023-07-17T06:36:32.538Z"
   },
   {
    "duration": 106,
    "start_time": "2023-07-17T06:36:32.599Z"
   },
   {
    "duration": 1736,
    "start_time": "2023-07-17T06:36:32.712Z"
   },
   {
    "duration": 13,
    "start_time": "2023-07-17T06:36:34.451Z"
   },
   {
    "duration": 280,
    "start_time": "2023-07-17T06:36:34.466Z"
   },
   {
    "duration": 18,
    "start_time": "2023-07-17T06:36:34.748Z"
   },
   {
    "duration": 409,
    "start_time": "2023-07-17T06:36:34.768Z"
   },
   {
    "duration": 7,
    "start_time": "2023-07-17T06:36:35.178Z"
   },
   {
    "duration": 55,
    "start_time": "2023-07-17T06:36:35.187Z"
   },
   {
    "duration": 156,
    "start_time": "2023-07-17T06:36:35.244Z"
   },
   {
    "duration": 19,
    "start_time": "2023-07-17T06:36:35.401Z"
   },
   {
    "duration": 115,
    "start_time": "2023-07-17T06:36:35.422Z"
   },
   {
    "duration": 22,
    "start_time": "2023-07-17T06:36:35.539Z"
   },
   {
    "duration": 623,
    "start_time": "2023-07-17T06:36:35.563Z"
   },
   {
    "duration": 6,
    "start_time": "2023-07-17T06:36:36.187Z"
   },
   {
    "duration": 22,
    "start_time": "2023-07-17T06:36:36.195Z"
   },
   {
    "duration": 262,
    "start_time": "2023-07-17T06:36:36.221Z"
   },
   {
    "duration": 8,
    "start_time": "2023-07-17T06:36:36.485Z"
   },
   {
    "duration": 140,
    "start_time": "2023-07-17T06:36:36.494Z"
   },
   {
    "duration": 6,
    "start_time": "2023-07-17T06:36:36.635Z"
   },
   {
    "duration": 15,
    "start_time": "2023-07-17T06:36:36.642Z"
   },
   {
    "duration": 240,
    "start_time": "2023-07-17T06:36:36.659Z"
   },
   {
    "duration": 5,
    "start_time": "2023-07-17T06:36:36.901Z"
   },
   {
    "duration": 13,
    "start_time": "2023-07-17T06:36:36.914Z"
   },
   {
    "duration": 403,
    "start_time": "2023-07-17T06:36:36.930Z"
   },
   {
    "duration": 7,
    "start_time": "2023-07-17T06:36:37.334Z"
   },
   {
    "duration": 82,
    "start_time": "2023-07-17T06:36:37.342Z"
   },
   {
    "duration": 12,
    "start_time": "2023-07-17T06:36:37.429Z"
   },
   {
    "duration": 14,
    "start_time": "2023-07-17T06:39:41.440Z"
   },
   {
    "duration": 5,
    "start_time": "2023-07-17T06:39:50.631Z"
   },
   {
    "duration": 7,
    "start_time": "2023-07-17T06:39:58.682Z"
   },
   {
    "duration": 4,
    "start_time": "2023-07-17T06:44:18.190Z"
   },
   {
    "duration": 2733,
    "start_time": "2023-07-17T11:38:01.161Z"
   },
   {
    "duration": 4,
    "start_time": "2023-07-17T11:38:03.896Z"
   },
   {
    "duration": 76,
    "start_time": "2023-07-17T11:38:03.902Z"
   },
   {
    "duration": 4,
    "start_time": "2023-07-17T11:38:03.980Z"
   },
   {
    "duration": 31,
    "start_time": "2023-07-17T11:38:03.986Z"
   },
   {
    "duration": 61,
    "start_time": "2023-07-17T11:38:04.019Z"
   },
   {
    "duration": 27,
    "start_time": "2023-07-17T11:38:04.081Z"
   },
   {
    "duration": 42,
    "start_time": "2023-07-17T11:38:04.110Z"
   },
   {
    "duration": 12,
    "start_time": "2023-07-17T11:38:04.154Z"
   },
   {
    "duration": 18,
    "start_time": "2023-07-17T11:38:04.169Z"
   },
   {
    "duration": 17,
    "start_time": "2023-07-17T11:38:04.189Z"
   },
   {
    "duration": 10,
    "start_time": "2023-07-17T11:38:04.207Z"
   },
   {
    "duration": 42,
    "start_time": "2023-07-17T11:38:04.232Z"
   },
   {
    "duration": 22,
    "start_time": "2023-07-17T11:38:04.276Z"
   },
   {
    "duration": 41,
    "start_time": "2023-07-17T11:38:04.300Z"
   },
   {
    "duration": 41,
    "start_time": "2023-07-17T11:38:04.348Z"
   },
   {
    "duration": 63,
    "start_time": "2023-07-17T11:38:04.391Z"
   },
   {
    "duration": 17,
    "start_time": "2023-07-17T11:38:04.456Z"
   },
   {
    "duration": 67,
    "start_time": "2023-07-17T11:38:04.474Z"
   },
   {
    "duration": 53,
    "start_time": "2023-07-17T11:38:04.543Z"
   },
   {
    "duration": 39,
    "start_time": "2023-07-17T11:38:04.598Z"
   },
   {
    "duration": 32,
    "start_time": "2023-07-17T11:38:04.639Z"
   },
   {
    "duration": 6,
    "start_time": "2023-07-17T11:38:04.673Z"
   },
   {
    "duration": 17,
    "start_time": "2023-07-17T11:38:04.681Z"
   },
   {
    "duration": 468,
    "start_time": "2023-07-17T11:38:04.699Z"
   },
   {
    "duration": 26,
    "start_time": "2023-07-17T11:38:05.169Z"
   },
   {
    "duration": 4,
    "start_time": "2023-07-17T11:38:05.196Z"
   },
   {
    "duration": 43,
    "start_time": "2023-07-17T11:38:05.205Z"
   },
   {
    "duration": 136,
    "start_time": "2023-07-17T11:38:05.254Z"
   },
   {
    "duration": 42,
    "start_time": "2023-07-17T11:38:05.391Z"
   },
   {
    "duration": 1050,
    "start_time": "2023-07-17T11:38:05.434Z"
   },
   {
    "duration": 58,
    "start_time": "2023-07-17T11:38:06.486Z"
   },
   {
    "duration": 49,
    "start_time": "2023-07-17T11:38:06.545Z"
   },
   {
    "duration": 308,
    "start_time": "2023-07-17T11:38:06.596Z"
   },
   {
    "duration": 11,
    "start_time": "2023-07-17T11:38:06.905Z"
   },
   {
    "duration": 43,
    "start_time": "2023-07-17T11:38:06.918Z"
   },
   {
    "duration": 7,
    "start_time": "2023-07-17T11:38:06.962Z"
   },
   {
    "duration": 24,
    "start_time": "2023-07-17T11:38:06.971Z"
   },
   {
    "duration": 256,
    "start_time": "2023-07-17T11:38:06.997Z"
   },
   {
    "duration": 11,
    "start_time": "2023-07-17T11:38:07.255Z"
   },
   {
    "duration": 15,
    "start_time": "2023-07-17T11:38:07.268Z"
   },
   {
    "duration": 27,
    "start_time": "2023-07-17T11:38:07.285Z"
   },
   {
    "duration": 364,
    "start_time": "2023-07-17T11:38:07.313Z"
   },
   {
    "duration": 10,
    "start_time": "2023-07-17T11:38:07.685Z"
   },
   {
    "duration": 118,
    "start_time": "2023-07-17T11:38:07.696Z"
   },
   {
    "duration": 373,
    "start_time": "2023-07-17T11:38:07.815Z"
   },
   {
    "duration": 11,
    "start_time": "2023-07-17T11:38:08.190Z"
   },
   {
    "duration": 34,
    "start_time": "2023-07-17T11:38:08.203Z"
   },
   {
    "duration": 15,
    "start_time": "2023-07-17T11:38:08.238Z"
   },
   {
    "duration": 12,
    "start_time": "2023-07-17T11:38:08.256Z"
   },
   {
    "duration": 11,
    "start_time": "2023-07-17T11:38:08.269Z"
   },
   {
    "duration": 207,
    "start_time": "2023-07-17T11:38:08.282Z"
   },
   {
    "duration": 21,
    "start_time": "2023-07-17T11:38:08.491Z"
   },
   {
    "duration": 75,
    "start_time": "2023-07-17T11:38:08.513Z"
   },
   {
    "duration": 105,
    "start_time": "2023-07-17T11:38:08.589Z"
   },
   {
    "duration": 9,
    "start_time": "2023-07-17T11:38:08.695Z"
   },
   {
    "duration": 20,
    "start_time": "2023-07-17T11:38:08.708Z"
   },
   {
    "duration": 34,
    "start_time": "2023-07-17T11:38:08.730Z"
   },
   {
    "duration": 321,
    "start_time": "2023-07-17T11:38:08.766Z"
   },
   {
    "duration": 12,
    "start_time": "2023-07-17T11:38:09.088Z"
   },
   {
    "duration": 86,
    "start_time": "2023-07-17T11:38:09.101Z"
   },
   {
    "duration": 6,
    "start_time": "2023-07-17T11:38:09.193Z"
   },
   {
    "duration": 185,
    "start_time": "2023-07-17T11:38:09.200Z"
   },
   {
    "duration": 12,
    "start_time": "2023-07-17T11:38:09.387Z"
   },
   {
    "duration": 60,
    "start_time": "2023-07-17T11:38:09.405Z"
   },
   {
    "duration": 128,
    "start_time": "2023-07-17T11:38:09.467Z"
   },
   {
    "duration": 11,
    "start_time": "2023-07-17T11:38:09.597Z"
   },
   {
    "duration": 182,
    "start_time": "2023-07-17T11:38:09.609Z"
   },
   {
    "duration": 9775,
    "start_time": "2023-07-17T11:38:09.793Z"
   },
   {
    "duration": 82,
    "start_time": "2023-07-17T11:38:19.570Z"
   },
   {
    "duration": 199,
    "start_time": "2023-07-17T11:38:19.658Z"
   },
   {
    "duration": 10,
    "start_time": "2023-07-17T11:38:19.863Z"
   },
   {
    "duration": 95,
    "start_time": "2023-07-17T11:38:19.875Z"
   },
   {
    "duration": 120,
    "start_time": "2023-07-17T11:38:19.972Z"
   },
   {
    "duration": 24,
    "start_time": "2023-07-17T11:38:20.093Z"
   },
   {
    "duration": 149,
    "start_time": "2023-07-17T11:38:20.118Z"
   },
   {
    "duration": 8,
    "start_time": "2023-07-17T11:38:20.269Z"
   },
   {
    "duration": 32,
    "start_time": "2023-07-17T11:38:20.279Z"
   },
   {
    "duration": 99,
    "start_time": "2023-07-17T11:38:20.313Z"
   },
   {
    "duration": 194,
    "start_time": "2023-07-17T11:38:20.414Z"
   },
   {
    "duration": 1658,
    "start_time": "2023-07-17T11:38:20.610Z"
   },
   {
    "duration": 14,
    "start_time": "2023-07-17T11:38:22.274Z"
   },
   {
    "duration": 284,
    "start_time": "2023-07-17T11:38:22.290Z"
   },
   {
    "duration": 16,
    "start_time": "2023-07-17T11:38:22.576Z"
   },
   {
    "duration": 387,
    "start_time": "2023-07-17T11:38:22.594Z"
   },
   {
    "duration": 7,
    "start_time": "2023-07-17T11:38:22.983Z"
   },
   {
    "duration": 24,
    "start_time": "2023-07-17T11:38:22.991Z"
   },
   {
    "duration": 346,
    "start_time": "2023-07-17T11:38:23.016Z"
   },
   {
    "duration": 11,
    "start_time": "2023-07-17T11:38:23.364Z"
   },
   {
    "duration": 121,
    "start_time": "2023-07-17T11:38:23.376Z"
   },
   {
    "duration": 54,
    "start_time": "2023-07-17T11:38:23.499Z"
   },
   {
    "duration": 353,
    "start_time": "2023-07-17T11:38:23.556Z"
   },
   {
    "duration": 17,
    "start_time": "2023-07-17T11:38:23.911Z"
   },
   {
    "duration": 42,
    "start_time": "2023-07-17T11:38:23.930Z"
   },
   {
    "duration": 283,
    "start_time": "2023-07-17T11:38:23.974Z"
   },
   {
    "duration": 10,
    "start_time": "2023-07-17T11:38:24.259Z"
   },
   {
    "duration": 146,
    "start_time": "2023-07-17T11:38:24.271Z"
   },
   {
    "duration": 6,
    "start_time": "2023-07-17T11:38:24.419Z"
   },
   {
    "duration": 51,
    "start_time": "2023-07-17T11:38:24.426Z"
   },
   {
    "duration": 296,
    "start_time": "2023-07-17T11:38:24.479Z"
   },
   {
    "duration": 4,
    "start_time": "2023-07-17T11:38:24.776Z"
   },
   {
    "duration": 10,
    "start_time": "2023-07-17T11:38:24.781Z"
   },
   {
    "duration": 382,
    "start_time": "2023-07-17T11:38:24.793Z"
   },
   {
    "duration": 6,
    "start_time": "2023-07-17T11:38:25.176Z"
   },
   {
    "duration": 83,
    "start_time": "2023-07-17T11:38:25.184Z"
   },
   {
    "duration": 11,
    "start_time": "2023-07-17T11:38:25.269Z"
   },
   {
    "duration": 184,
    "start_time": "2023-07-17T11:42:22.871Z"
   },
   {
    "duration": 332,
    "start_time": "2023-07-17T11:42:45.633Z"
   },
   {
    "duration": 308,
    "start_time": "2023-07-17T11:43:10.650Z"
   },
   {
    "duration": 286,
    "start_time": "2023-07-17T11:43:31.016Z"
   },
   {
    "duration": 16,
    "start_time": "2023-07-17T11:45:33.653Z"
   },
   {
    "duration": 49,
    "start_time": "2023-07-17T11:45:46.900Z"
   },
   {
    "duration": 21,
    "start_time": "2023-07-17T11:47:38.650Z"
   },
   {
    "duration": 20,
    "start_time": "2023-07-17T11:48:49.517Z"
   },
   {
    "duration": 21,
    "start_time": "2023-07-17T11:49:08.612Z"
   },
   {
    "duration": 18,
    "start_time": "2023-07-17T11:49:44.764Z"
   },
   {
    "duration": 11,
    "start_time": "2023-07-17T11:50:00.781Z"
   },
   {
    "duration": 20,
    "start_time": "2023-07-17T11:50:29.005Z"
   },
   {
    "duration": 12,
    "start_time": "2023-07-17T11:50:38.232Z"
   },
   {
    "duration": 209,
    "start_time": "2023-07-17T11:50:53.003Z"
   },
   {
    "duration": 243,
    "start_time": "2023-07-17T11:55:56.790Z"
   },
   {
    "duration": 240,
    "start_time": "2023-07-17T11:56:22.538Z"
   },
   {
    "duration": 186,
    "start_time": "2023-07-17T12:03:05.786Z"
   },
   {
    "duration": 246,
    "start_time": "2023-07-17T12:03:37.615Z"
   },
   {
    "duration": 4,
    "start_time": "2023-07-17T12:12:57.663Z"
   },
   {
    "duration": 459,
    "start_time": "2023-07-17T12:13:15.710Z"
   },
   {
    "duration": 260,
    "start_time": "2023-07-17T12:13:48.909Z"
   },
   {
    "duration": 409,
    "start_time": "2023-07-17T12:18:24.047Z"
   },
   {
    "duration": 459,
    "start_time": "2023-07-17T12:20:45.390Z"
   },
   {
    "duration": 412,
    "start_time": "2023-07-17T12:21:02.838Z"
   },
   {
    "duration": 238,
    "start_time": "2023-07-17T12:37:33.956Z"
   },
   {
    "duration": 16,
    "start_time": "2023-07-17T12:37:46.263Z"
   },
   {
    "duration": 3345,
    "start_time": "2023-07-17T12:38:37.667Z"
   },
   {
    "duration": 3008,
    "start_time": "2023-07-17T12:39:03.442Z"
   },
   {
    "duration": 3483,
    "start_time": "2023-07-17T12:39:16.314Z"
   },
   {
    "duration": 18,
    "start_time": "2023-07-17T12:41:08.547Z"
   },
   {
    "duration": 7,
    "start_time": "2023-07-17T12:41:29.567Z"
   },
   {
    "duration": 21,
    "start_time": "2023-07-17T12:43:01.414Z"
   },
   {
    "duration": 19,
    "start_time": "2023-07-17T12:43:09.043Z"
   },
   {
    "duration": 25,
    "start_time": "2023-07-17T12:43:53.646Z"
   },
   {
    "duration": 233,
    "start_time": "2023-07-17T12:44:00.577Z"
   },
   {
    "duration": 263,
    "start_time": "2023-07-17T12:44:23.564Z"
   },
   {
    "duration": 272,
    "start_time": "2023-07-17T14:10:42.185Z"
   },
   {
    "duration": 13,
    "start_time": "2023-07-17T14:23:57.248Z"
   },
   {
    "duration": 309,
    "start_time": "2023-07-17T14:24:32.868Z"
   },
   {
    "duration": 340,
    "start_time": "2023-07-17T14:24:45.757Z"
   },
   {
    "duration": 318,
    "start_time": "2023-07-17T14:25:06.507Z"
   },
   {
    "duration": 315,
    "start_time": "2023-07-17T14:26:46.105Z"
   },
   {
    "duration": 3171,
    "start_time": "2023-07-17T14:29:39.476Z"
   },
   {
    "duration": 150,
    "start_time": "2023-07-17T14:31:17.987Z"
   },
   {
    "duration": 140,
    "start_time": "2023-07-17T14:32:39.504Z"
   },
   {
    "duration": 144,
    "start_time": "2023-07-17T14:32:52.313Z"
   },
   {
    "duration": 37,
    "start_time": "2023-07-17T14:33:36.247Z"
   },
   {
    "duration": 415,
    "start_time": "2023-07-17T14:33:44.842Z"
   },
   {
    "duration": 140,
    "start_time": "2023-07-17T14:35:11.468Z"
   },
   {
    "duration": 183,
    "start_time": "2023-07-17T14:35:45.494Z"
   },
   {
    "duration": 153,
    "start_time": "2023-07-17T14:36:43.359Z"
   },
   {
    "duration": 163,
    "start_time": "2023-07-17T14:37:15.596Z"
   },
   {
    "duration": 115,
    "start_time": "2023-07-17T14:37:30.668Z"
   },
   {
    "duration": 120,
    "start_time": "2023-07-17T14:39:08.574Z"
   },
   {
    "duration": 55,
    "start_time": "2023-07-17T14:47:34.319Z"
   },
   {
    "duration": 102,
    "start_time": "2023-07-17T14:47:50.794Z"
   },
   {
    "duration": 167,
    "start_time": "2023-07-17T14:48:51.810Z"
   },
   {
    "duration": 203,
    "start_time": "2023-07-17T14:51:07.650Z"
   },
   {
    "duration": 165,
    "start_time": "2023-07-17T14:55:26.405Z"
   },
   {
    "duration": 36,
    "start_time": "2023-07-17T14:57:43.535Z"
   },
   {
    "duration": 94,
    "start_time": "2023-07-17T14:57:58.578Z"
   },
   {
    "duration": 28,
    "start_time": "2023-07-17T14:58:18.867Z"
   },
   {
    "duration": 121,
    "start_time": "2023-07-17T14:58:22.762Z"
   },
   {
    "duration": 37,
    "start_time": "2023-07-17T14:59:24.918Z"
   },
   {
    "duration": 29,
    "start_time": "2023-07-17T14:59:44.142Z"
   },
   {
    "duration": 99,
    "start_time": "2023-07-17T15:00:12.650Z"
   },
   {
    "duration": 120,
    "start_time": "2023-07-17T15:00:27.176Z"
   },
   {
    "duration": 42,
    "start_time": "2023-07-17T15:06:32.775Z"
   },
   {
    "duration": 32,
    "start_time": "2023-07-17T15:06:54.853Z"
   },
   {
    "duration": 30,
    "start_time": "2023-07-17T15:07:25.863Z"
   },
   {
    "duration": 13,
    "start_time": "2023-07-17T15:07:55.172Z"
   },
   {
    "duration": 151,
    "start_time": "2023-07-17T15:08:15.663Z"
   },
   {
    "duration": 130,
    "start_time": "2023-07-17T15:09:15.395Z"
   },
   {
    "duration": 83,
    "start_time": "2023-07-17T15:09:31.570Z"
   },
   {
    "duration": 32,
    "start_time": "2023-07-17T15:10:43.061Z"
   },
   {
    "duration": 46,
    "start_time": "2023-07-17T15:11:03.113Z"
   },
   {
    "duration": 82,
    "start_time": "2023-07-17T15:11:17.912Z"
   },
   {
    "duration": 9,
    "start_time": "2023-07-17T15:16:28.383Z"
   },
   {
    "duration": 19,
    "start_time": "2023-07-17T15:17:23.470Z"
   },
   {
    "duration": 14,
    "start_time": "2023-07-17T15:17:24.146Z"
   },
   {
    "duration": 94,
    "start_time": "2023-07-17T15:17:26.561Z"
   },
   {
    "duration": 38,
    "start_time": "2023-07-17T15:18:01.636Z"
   },
   {
    "duration": 30,
    "start_time": "2023-07-17T15:18:09.150Z"
   },
   {
    "duration": 21,
    "start_time": "2023-07-17T15:18:44.293Z"
   },
   {
    "duration": 11,
    "start_time": "2023-07-17T15:18:45.606Z"
   },
   {
    "duration": 119,
    "start_time": "2023-07-17T15:18:48.146Z"
   },
   {
    "duration": 20,
    "start_time": "2023-07-17T15:19:10.862Z"
   },
   {
    "duration": 31,
    "start_time": "2023-07-17T15:19:12.022Z"
   },
   {
    "duration": 94,
    "start_time": "2023-07-17T15:19:13.487Z"
   },
   {
    "duration": 21,
    "start_time": "2023-07-17T15:19:40.077Z"
   },
   {
    "duration": 9,
    "start_time": "2023-07-17T15:19:46.805Z"
   },
   {
    "duration": 88,
    "start_time": "2023-07-17T15:19:47.975Z"
   },
   {
    "duration": 31,
    "start_time": "2023-07-17T15:21:33.062Z"
   },
   {
    "duration": 16,
    "start_time": "2023-07-17T15:21:33.846Z"
   },
   {
    "duration": 83,
    "start_time": "2023-07-17T15:21:34.950Z"
   },
   {
    "duration": 43,
    "start_time": "2023-07-17T15:21:51.102Z"
   },
   {
    "duration": 26,
    "start_time": "2023-07-17T15:21:51.153Z"
   },
   {
    "duration": 87,
    "start_time": "2023-07-17T15:21:53.488Z"
   },
   {
    "duration": 79,
    "start_time": "2023-07-17T15:22:24.951Z"
   },
   {
    "duration": 6,
    "start_time": "2023-07-17T15:25:05.562Z"
   },
   {
    "duration": 49,
    "start_time": "2023-07-17T15:25:31.468Z"
   },
   {
    "duration": 65,
    "start_time": "2023-07-17T15:27:51.076Z"
   },
   {
    "duration": 7,
    "start_time": "2023-07-17T15:33:20.181Z"
   },
   {
    "duration": 77,
    "start_time": "2023-07-17T15:34:00.316Z"
   },
   {
    "duration": 80,
    "start_time": "2023-07-17T15:34:22.397Z"
   },
   {
    "duration": 91,
    "start_time": "2023-07-17T15:34:32.646Z"
   },
   {
    "duration": 96,
    "start_time": "2023-07-17T15:35:35.283Z"
   },
   {
    "duration": 23,
    "start_time": "2023-07-17T15:35:44.170Z"
   },
   {
    "duration": 85,
    "start_time": "2023-07-17T15:36:07.195Z"
   },
   {
    "duration": 26,
    "start_time": "2023-07-17T15:40:02.515Z"
   },
   {
    "duration": 8,
    "start_time": "2023-07-17T15:43:40.983Z"
   },
   {
    "duration": 8,
    "start_time": "2023-07-17T15:43:54.766Z"
   },
   {
    "duration": 118,
    "start_time": "2023-07-17T15:44:22.679Z"
   },
   {
    "duration": 19,
    "start_time": "2023-07-17T15:45:17.869Z"
   },
   {
    "duration": 28,
    "start_time": "2023-07-17T15:47:36.758Z"
   },
   {
    "duration": 10,
    "start_time": "2023-07-17T15:47:37.673Z"
   },
   {
    "duration": 133,
    "start_time": "2023-07-17T15:47:39.553Z"
   },
   {
    "duration": 17,
    "start_time": "2023-07-17T16:11:56.240Z"
   },
   {
    "duration": 9,
    "start_time": "2023-07-17T16:13:10.875Z"
   },
   {
    "duration": 195,
    "start_time": "2023-07-17T16:13:14.393Z"
   },
   {
    "duration": 33,
    "start_time": "2023-07-17T16:13:23.411Z"
   },
   {
    "duration": 12,
    "start_time": "2023-07-17T16:13:24.690Z"
   },
   {
    "duration": 122,
    "start_time": "2023-07-17T16:13:44.451Z"
   },
   {
    "duration": 164,
    "start_time": "2023-07-17T16:15:15.537Z"
   },
   {
    "duration": 9,
    "start_time": "2023-07-17T16:16:09.675Z"
   },
   {
    "duration": 107,
    "start_time": "2023-07-17T16:18:10.290Z"
   },
   {
    "duration": 186,
    "start_time": "2023-07-17T16:26:48.399Z"
   },
   {
    "duration": 215,
    "start_time": "2023-07-17T16:27:00.012Z"
   },
   {
    "duration": 157,
    "start_time": "2023-07-17T16:31:17.107Z"
   },
   {
    "duration": 156,
    "start_time": "2023-07-17T16:31:38.205Z"
   },
   {
    "duration": 139,
    "start_time": "2023-07-17T16:38:52.472Z"
   },
   {
    "duration": 173,
    "start_time": "2023-07-17T16:41:10.703Z"
   },
   {
    "duration": 168,
    "start_time": "2023-07-17T16:41:37.088Z"
   },
   {
    "duration": 3129,
    "start_time": "2023-07-17T16:48:23.400Z"
   },
   {
    "duration": 3414,
    "start_time": "2023-07-17T16:48:52.971Z"
   },
   {
    "duration": 3380,
    "start_time": "2023-07-17T16:49:27.281Z"
   },
   {
    "duration": 113,
    "start_time": "2023-07-17T16:50:07.624Z"
   },
   {
    "duration": 139,
    "start_time": "2023-07-17T16:51:07.350Z"
   },
   {
    "duration": 18,
    "start_time": "2023-07-17T16:59:03.700Z"
   },
   {
    "duration": 524,
    "start_time": "2023-07-17T17:00:18.102Z"
   },
   {
    "duration": 422,
    "start_time": "2023-07-17T17:00:51.986Z"
   },
   {
    "duration": 35,
    "start_time": "2023-07-17T17:00:57.646Z"
   },
   {
    "duration": 157,
    "start_time": "2023-07-17T17:03:35.290Z"
   },
   {
    "duration": 154,
    "start_time": "2023-07-17T17:04:54.665Z"
   },
   {
    "duration": 140,
    "start_time": "2023-07-17T17:05:20.003Z"
   },
   {
    "duration": 100,
    "start_time": "2023-07-17T17:05:54.617Z"
   },
   {
    "duration": 189,
    "start_time": "2023-07-17T17:06:10.158Z"
   },
   {
    "duration": 106,
    "start_time": "2023-07-17T17:06:16.490Z"
   },
   {
    "duration": 37,
    "start_time": "2023-07-17T17:13:28.271Z"
   },
   {
    "duration": 278,
    "start_time": "2023-07-17T17:14:10.143Z"
   },
   {
    "duration": 74,
    "start_time": "2023-07-17T17:14:16.907Z"
   },
   {
    "duration": 70,
    "start_time": "2023-07-17T17:14:30.091Z"
   },
   {
    "duration": 239,
    "start_time": "2023-07-17T17:15:05.938Z"
   },
   {
    "duration": 3487,
    "start_time": "2023-07-17T17:23:00.002Z"
   },
   {
    "duration": 15,
    "start_time": "2023-07-17T17:23:03.502Z"
   },
   {
    "duration": 223,
    "start_time": "2023-07-17T17:23:03.522Z"
   },
   {
    "duration": 126,
    "start_time": "2023-07-17T17:23:03.759Z"
   },
   {
    "duration": 293,
    "start_time": "2023-07-17T17:23:03.891Z"
   },
   {
    "duration": 115,
    "start_time": "2023-07-17T17:23:04.194Z"
   },
   {
    "duration": 179,
    "start_time": "2023-07-17T17:23:04.314Z"
   },
   {
    "duration": 207,
    "start_time": "2023-07-17T17:23:04.502Z"
   },
   {
    "duration": 98,
    "start_time": "2023-07-17T17:23:04.715Z"
   },
   {
    "duration": 181,
    "start_time": "2023-07-17T17:23:04.824Z"
   },
   {
    "duration": 74,
    "start_time": "2023-07-17T17:23:05.011Z"
   },
   {
    "duration": 220,
    "start_time": "2023-07-17T17:23:05.094Z"
   },
   {
    "duration": 187,
    "start_time": "2023-07-17T17:23:05.330Z"
   },
   {
    "duration": 140,
    "start_time": "2023-07-17T17:23:05.521Z"
   },
   {
    "duration": 108,
    "start_time": "2023-07-17T17:23:05.667Z"
   },
   {
    "duration": 86,
    "start_time": "2023-07-17T17:23:05.781Z"
   },
   {
    "duration": 75,
    "start_time": "2023-07-17T17:23:05.871Z"
   },
   {
    "duration": 206,
    "start_time": "2023-07-17T17:23:05.955Z"
   },
   {
    "duration": 146,
    "start_time": "2023-07-17T17:23:06.167Z"
   },
   {
    "duration": 236,
    "start_time": "2023-07-17T17:23:06.321Z"
   },
   {
    "duration": 169,
    "start_time": "2023-07-17T17:23:06.564Z"
   },
   {
    "duration": 114,
    "start_time": "2023-07-17T17:23:06.735Z"
   },
   {
    "duration": 239,
    "start_time": "2023-07-17T17:23:06.854Z"
   },
   {
    "duration": 144,
    "start_time": "2023-07-17T17:23:07.101Z"
   },
   {
    "duration": 94,
    "start_time": "2023-07-17T17:23:07.247Z"
   },
   {
    "duration": 205,
    "start_time": "2023-07-17T17:23:07.343Z"
   },
   {
    "duration": 731,
    "start_time": "2023-07-17T17:23:07.550Z"
   },
   {
    "duration": 54,
    "start_time": "2023-07-17T17:23:08.295Z"
   },
   {
    "duration": 135,
    "start_time": "2023-07-17T17:23:08.355Z"
   },
   {
    "duration": 217,
    "start_time": "2023-07-17T17:23:08.496Z"
   },
   {
    "duration": 282,
    "start_time": "2023-07-17T17:23:08.715Z"
   },
   {
    "duration": 26,
    "start_time": "2023-07-17T17:23:08.999Z"
   },
   {
    "duration": 470,
    "start_time": "2023-07-17T17:23:09.031Z"
   },
   {
    "duration": 22,
    "start_time": "2023-07-17T17:23:09.506Z"
   },
   {
    "duration": 128,
    "start_time": "2023-07-17T17:23:09.533Z"
   },
   {
    "duration": 659,
    "start_time": "2023-07-17T17:23:09.674Z"
   },
   {
    "duration": 27,
    "start_time": "2023-07-17T17:23:10.346Z"
   },
   {
    "duration": 200,
    "start_time": "2023-07-17T17:23:10.381Z"
   },
   {
    "duration": 125,
    "start_time": "2023-07-17T17:23:10.591Z"
   },
   {
    "duration": 186,
    "start_time": "2023-07-17T17:23:10.721Z"
   },
   {
    "duration": 388,
    "start_time": "2023-07-17T17:23:11.042Z"
   },
   {
    "duration": 22,
    "start_time": "2023-07-17T17:23:11.435Z"
   },
   {
    "duration": 142,
    "start_time": "2023-07-17T17:23:11.463Z"
   },
   {
    "duration": 103,
    "start_time": "2023-07-17T17:23:11.610Z"
   },
   {
    "duration": 800,
    "start_time": "2023-07-17T17:23:11.715Z"
   },
   {
    "duration": 28,
    "start_time": "2023-07-17T17:23:12.518Z"
   },
   {
    "duration": 289,
    "start_time": "2023-07-17T17:23:12.548Z"
   },
   {
    "duration": 342,
    "start_time": "2023-07-17T17:23:12.839Z"
   },
   {
    "duration": 38,
    "start_time": "2023-07-17T17:23:13.191Z"
   },
   {
    "duration": 127,
    "start_time": "2023-07-17T17:23:13.242Z"
   },
   {
    "duration": 30,
    "start_time": "2023-07-17T17:23:13.378Z"
   },
   {
    "duration": 9,
    "start_time": "2023-07-17T17:23:13.409Z"
   },
   {
    "duration": 442,
    "start_time": "2023-07-17T17:23:13.427Z"
   },
   {
    "duration": 180,
    "start_time": "2023-07-17T17:23:13.871Z"
   },
   {
    "duration": 20,
    "start_time": "2023-07-17T17:23:14.053Z"
   },
   {
    "duration": 104,
    "start_time": "2023-07-17T17:23:14.077Z"
   },
   {
    "duration": 305,
    "start_time": "2023-07-17T17:23:14.184Z"
   },
   {
    "duration": 23,
    "start_time": "2023-07-17T17:23:14.494Z"
   },
   {
    "duration": 247,
    "start_time": "2023-07-17T17:23:14.526Z"
   },
   {
    "duration": 22,
    "start_time": "2023-07-17T17:23:14.775Z"
   },
   {
    "duration": 634,
    "start_time": "2023-07-17T17:23:14.798Z"
   },
   {
    "duration": 31,
    "start_time": "2023-07-17T17:23:15.435Z"
   },
   {
    "duration": 100,
    "start_time": "2023-07-17T17:23:15.477Z"
   },
   {
    "duration": 275,
    "start_time": "2023-07-17T17:23:15.582Z"
   },
   {
    "duration": 23,
    "start_time": "2023-07-17T17:23:15.863Z"
   },
   {
    "duration": 313,
    "start_time": "2023-07-17T17:23:15.892Z"
   },
   {
    "duration": 14191,
    "start_time": "2023-07-17T17:23:16.206Z"
   },
   {
    "duration": 53,
    "start_time": "2023-07-17T17:23:30.414Z"
   },
   {
    "duration": 294,
    "start_time": "2023-07-17T17:23:30.470Z"
   },
   {
    "duration": 392,
    "start_time": "2023-07-17T17:23:30.774Z"
   },
   {
    "duration": 26,
    "start_time": "2023-07-17T17:23:31.175Z"
   },
   {
    "duration": 147,
    "start_time": "2023-07-17T17:23:31.206Z"
   },
   {
    "duration": 177,
    "start_time": "2023-07-17T17:23:31.356Z"
   },
   {
    "duration": 150,
    "start_time": "2023-07-17T17:23:31.535Z"
   },
   {
    "duration": 385,
    "start_time": "2023-07-17T17:23:31.692Z"
   },
   {
    "duration": 10,
    "start_time": "2023-07-17T17:23:32.079Z"
   },
   {
    "duration": 158,
    "start_time": "2023-07-17T17:23:32.091Z"
   },
   {
    "duration": 270,
    "start_time": "2023-07-17T17:23:32.251Z"
   },
   {
    "duration": 237,
    "start_time": "2023-07-17T17:23:32.528Z"
   },
   {
    "duration": 2417,
    "start_time": "2023-07-17T17:23:32.767Z"
   },
   {
    "duration": 16,
    "start_time": "2023-07-17T17:23:35.189Z"
   },
   {
    "duration": 518,
    "start_time": "2023-07-17T17:23:35.207Z"
   },
   {
    "duration": 33,
    "start_time": "2023-07-17T17:23:35.728Z"
   },
   {
    "duration": 343,
    "start_time": "2023-07-17T17:23:35.763Z"
   },
   {
    "duration": 16,
    "start_time": "2023-07-17T17:23:36.111Z"
   },
   {
    "duration": 187,
    "start_time": "2023-07-17T17:23:36.134Z"
   },
   {
    "duration": 386,
    "start_time": "2023-07-17T17:23:36.331Z"
   },
   {
    "duration": 26,
    "start_time": "2023-07-17T17:23:36.723Z"
   },
   {
    "duration": 334,
    "start_time": "2023-07-17T17:23:36.764Z"
   },
   {
    "duration": 19,
    "start_time": "2023-07-17T17:23:37.105Z"
   },
   {
    "duration": 247,
    "start_time": "2023-07-17T17:23:37.130Z"
   },
   {
    "duration": 78,
    "start_time": "2023-07-17T17:23:37.383Z"
   },
   {
    "duration": 12,
    "start_time": "2023-07-17T17:23:37.470Z"
   },
   {
    "duration": 487,
    "start_time": "2023-07-17T17:23:37.487Z"
   },
   {
    "duration": 14,
    "start_time": "2023-07-17T17:23:37.979Z"
   },
   {
    "duration": 318,
    "start_time": "2023-07-17T17:23:37.997Z"
   },
   {
    "duration": 14,
    "start_time": "2023-07-17T17:23:38.323Z"
   },
   {
    "duration": 125,
    "start_time": "2023-07-17T17:23:38.344Z"
   },
   {
    "duration": 488,
    "start_time": "2023-07-17T17:23:38.478Z"
   },
   {
    "duration": 14,
    "start_time": "2023-07-17T17:23:38.971Z"
   },
   {
    "duration": 123,
    "start_time": "2023-07-17T17:23:38.990Z"
   },
   {
    "duration": 988,
    "start_time": "2023-07-17T17:23:39.129Z"
   },
   {
    "duration": 9,
    "start_time": "2023-07-17T17:23:40.120Z"
   },
   {
    "duration": 162,
    "start_time": "2023-07-17T17:23:40.131Z"
   },
   {
    "duration": 42,
    "start_time": "2023-07-17T17:23:40.295Z"
   },
   {
    "duration": 204,
    "start_time": "2023-07-17T17:28:38.834Z"
   },
   {
    "duration": 257,
    "start_time": "2023-07-17T17:30:19.762Z"
   },
   {
    "duration": 262,
    "start_time": "2023-07-17T17:30:28.051Z"
   },
   {
    "duration": 326,
    "start_time": "2023-07-17T17:30:43.367Z"
   },
   {
    "duration": 2308,
    "start_time": "2023-07-17T17:31:45.594Z"
   },
   {
    "duration": 10,
    "start_time": "2023-07-17T17:31:47.904Z"
   },
   {
    "duration": 85,
    "start_time": "2023-07-17T17:31:47.916Z"
   },
   {
    "duration": 67,
    "start_time": "2023-07-17T17:31:48.002Z"
   },
   {
    "duration": 127,
    "start_time": "2023-07-17T17:31:48.071Z"
   },
   {
    "duration": 42,
    "start_time": "2023-07-17T17:31:48.200Z"
   },
   {
    "duration": 114,
    "start_time": "2023-07-17T17:31:48.245Z"
   },
   {
    "duration": 96,
    "start_time": "2023-07-17T17:31:48.361Z"
   },
   {
    "duration": 96,
    "start_time": "2023-07-17T17:31:48.461Z"
   },
   {
    "duration": 47,
    "start_time": "2023-07-17T17:31:48.559Z"
   },
   {
    "duration": 99,
    "start_time": "2023-07-17T17:31:48.615Z"
   },
   {
    "duration": 90,
    "start_time": "2023-07-17T17:31:48.716Z"
   },
   {
    "duration": 128,
    "start_time": "2023-07-17T17:31:48.808Z"
   },
   {
    "duration": 150,
    "start_time": "2023-07-17T17:31:48.942Z"
   },
   {
    "duration": 41,
    "start_time": "2023-07-17T17:31:49.093Z"
   },
   {
    "duration": 107,
    "start_time": "2023-07-17T17:31:49.136Z"
   },
   {
    "duration": 61,
    "start_time": "2023-07-17T17:31:49.245Z"
   },
   {
    "duration": 90,
    "start_time": "2023-07-17T17:31:49.309Z"
   },
   {
    "duration": 178,
    "start_time": "2023-07-17T17:31:49.402Z"
   },
   {
    "duration": 115,
    "start_time": "2023-07-17T17:31:49.591Z"
   },
   {
    "duration": 11,
    "start_time": "2023-07-17T17:31:49.708Z"
   },
   {
    "duration": 77,
    "start_time": "2023-07-17T17:31:49.734Z"
   },
   {
    "duration": 101,
    "start_time": "2023-07-17T17:31:49.812Z"
   },
   {
    "duration": 27,
    "start_time": "2023-07-17T17:31:49.914Z"
   },
   {
    "duration": 15,
    "start_time": "2023-07-17T17:31:49.943Z"
   },
   {
    "duration": 154,
    "start_time": "2023-07-17T17:31:49.960Z"
   },
   {
    "duration": 551,
    "start_time": "2023-07-17T17:31:50.115Z"
   },
   {
    "duration": 26,
    "start_time": "2023-07-17T17:31:50.676Z"
   },
   {
    "duration": 60,
    "start_time": "2023-07-17T17:31:50.705Z"
   },
   {
    "duration": 47,
    "start_time": "2023-07-17T17:31:50.767Z"
   },
   {
    "duration": 202,
    "start_time": "2023-07-17T17:31:50.815Z"
   },
   {
    "duration": 12,
    "start_time": "2023-07-17T17:31:51.025Z"
   },
   {
    "duration": 410,
    "start_time": "2023-07-17T17:31:51.039Z"
   },
   {
    "duration": 19,
    "start_time": "2023-07-17T17:31:51.452Z"
   },
   {
    "duration": 100,
    "start_time": "2023-07-17T17:31:51.476Z"
   },
   {
    "duration": 319,
    "start_time": "2023-07-17T17:31:51.580Z"
   },
   {
    "duration": 37,
    "start_time": "2023-07-17T17:31:51.904Z"
   },
   {
    "duration": 90,
    "start_time": "2023-07-17T17:31:51.955Z"
   },
   {
    "duration": 58,
    "start_time": "2023-07-17T17:31:52.047Z"
   },
   {
    "duration": 82,
    "start_time": "2023-07-17T17:31:52.106Z"
   },
   {
    "duration": 328,
    "start_time": "2023-07-17T17:31:52.289Z"
   },
   {
    "duration": 24,
    "start_time": "2023-07-17T17:31:52.619Z"
   },
   {
    "duration": 104,
    "start_time": "2023-07-17T17:31:52.645Z"
   },
   {
    "duration": 50,
    "start_time": "2023-07-17T17:31:52.751Z"
   },
   {
    "duration": 613,
    "start_time": "2023-07-17T17:31:52.803Z"
   },
   {
    "duration": 44,
    "start_time": "2023-07-17T17:31:53.417Z"
   },
   {
    "duration": 294,
    "start_time": "2023-07-17T17:31:53.463Z"
   },
   {
    "duration": 163,
    "start_time": "2023-07-17T17:31:53.766Z"
   },
   {
    "duration": 23,
    "start_time": "2023-07-17T17:31:53.933Z"
   },
   {
    "duration": 132,
    "start_time": "2023-07-17T17:31:53.965Z"
   },
   {
    "duration": 11,
    "start_time": "2023-07-17T17:31:54.103Z"
   },
   {
    "duration": 66,
    "start_time": "2023-07-17T17:31:54.119Z"
   },
   {
    "duration": 259,
    "start_time": "2023-07-17T17:31:54.187Z"
   },
   {
    "duration": 186,
    "start_time": "2023-07-17T17:31:54.447Z"
   },
   {
    "duration": 49,
    "start_time": "2023-07-17T17:31:54.635Z"
   },
   {
    "duration": 134,
    "start_time": "2023-07-17T17:31:54.687Z"
   },
   {
    "duration": 457,
    "start_time": "2023-07-17T17:31:54.823Z"
   },
   {
    "duration": 25,
    "start_time": "2023-07-17T17:31:55.281Z"
   },
   {
    "duration": 157,
    "start_time": "2023-07-17T17:31:55.322Z"
   },
   {
    "duration": 11,
    "start_time": "2023-07-17T17:31:55.522Z"
   },
   {
    "duration": 481,
    "start_time": "2023-07-17T17:31:55.535Z"
   },
   {
    "duration": 15,
    "start_time": "2023-07-17T17:31:56.020Z"
   },
   {
    "duration": 72,
    "start_time": "2023-07-17T17:31:56.037Z"
   },
   {
    "duration": 244,
    "start_time": "2023-07-17T17:31:56.111Z"
   },
   {
    "duration": 17,
    "start_time": "2023-07-17T17:31:56.359Z"
   },
   {
    "duration": 281,
    "start_time": "2023-07-17T17:31:56.384Z"
   },
   {
    "duration": 11899,
    "start_time": "2023-07-17T17:31:56.694Z"
   },
   {
    "duration": 50,
    "start_time": "2023-07-17T17:32:08.599Z"
   },
   {
    "duration": 55,
    "start_time": "2023-07-17T17:32:08.651Z"
   },
   {
    "duration": 229,
    "start_time": "2023-07-17T17:32:08.708Z"
   },
   {
    "duration": 24,
    "start_time": "2023-07-17T17:32:08.940Z"
   },
   {
    "duration": 38,
    "start_time": "2023-07-17T17:32:08.971Z"
   },
   {
    "duration": 88,
    "start_time": "2023-07-17T17:32:09.010Z"
   },
   {
    "duration": 54,
    "start_time": "2023-07-17T17:32:09.106Z"
   },
   {
    "duration": 170,
    "start_time": "2023-07-17T17:32:09.171Z"
   },
   {
    "duration": 19,
    "start_time": "2023-07-17T17:32:09.342Z"
   },
   {
    "duration": 113,
    "start_time": "2023-07-17T17:32:09.362Z"
   },
   {
    "duration": 194,
    "start_time": "2023-07-17T17:32:09.478Z"
   },
   {
    "duration": 183,
    "start_time": "2023-07-17T17:32:09.682Z"
   },
   {
    "duration": 1882,
    "start_time": "2023-07-17T17:32:09.867Z"
   },
   {
    "duration": 29,
    "start_time": "2023-07-17T17:32:11.766Z"
   },
   {
    "duration": 342,
    "start_time": "2023-07-17T17:32:11.798Z"
   },
   {
    "duration": 35,
    "start_time": "2023-07-17T17:32:12.145Z"
   },
   {
    "duration": 297,
    "start_time": "2023-07-17T17:32:12.188Z"
   },
   {
    "duration": 24,
    "start_time": "2023-07-17T17:32:12.494Z"
   },
   {
    "duration": 106,
    "start_time": "2023-07-17T17:32:12.521Z"
   },
   {
    "duration": 224,
    "start_time": "2023-07-17T17:32:12.633Z"
   },
   {
    "duration": 41,
    "start_time": "2023-07-17T17:32:12.866Z"
   },
   {
    "duration": 186,
    "start_time": "2023-07-17T17:32:12.911Z"
   },
   {
    "duration": 13,
    "start_time": "2023-07-17T17:32:13.099Z"
   },
   {
    "duration": 189,
    "start_time": "2023-07-17T17:32:13.114Z"
   },
   {
    "duration": 80,
    "start_time": "2023-07-17T17:32:13.305Z"
   },
   {
    "duration": 32,
    "start_time": "2023-07-17T17:32:13.387Z"
   },
   {
    "duration": 433,
    "start_time": "2023-07-17T17:32:13.423Z"
   },
   {
    "duration": 18,
    "start_time": "2023-07-17T17:32:13.858Z"
   },
   {
    "duration": 228,
    "start_time": "2023-07-17T17:32:13.884Z"
   },
   {
    "duration": 47,
    "start_time": "2023-07-17T17:32:14.118Z"
   },
   {
    "duration": 38,
    "start_time": "2023-07-17T17:32:14.176Z"
   },
   {
    "duration": 306,
    "start_time": "2023-07-17T17:32:14.216Z"
   },
   {
    "duration": 4,
    "start_time": "2023-07-17T17:32:14.524Z"
   },
   {
    "duration": 67,
    "start_time": "2023-07-17T17:32:14.530Z"
   },
   {
    "duration": 658,
    "start_time": "2023-07-17T17:32:14.599Z"
   },
   {
    "duration": 8,
    "start_time": "2023-07-17T17:32:15.259Z"
   },
   {
    "duration": 163,
    "start_time": "2023-07-17T17:32:15.269Z"
   },
   {
    "duration": 27,
    "start_time": "2023-07-17T17:32:15.437Z"
   },
   {
    "duration": 315,
    "start_time": "2023-07-17T17:32:27.238Z"
   },
   {
    "duration": 2094,
    "start_time": "2023-07-17T17:32:41.079Z"
   },
   {
    "duration": 6,
    "start_time": "2023-07-17T17:32:43.186Z"
   },
   {
    "duration": 59,
    "start_time": "2023-07-17T17:32:43.194Z"
   },
   {
    "duration": 43,
    "start_time": "2023-07-17T17:32:43.260Z"
   },
   {
    "duration": 88,
    "start_time": "2023-07-17T17:32:43.305Z"
   },
   {
    "duration": 6,
    "start_time": "2023-07-17T17:32:43.396Z"
   },
   {
    "duration": 25,
    "start_time": "2023-07-17T17:32:43.404Z"
   },
   {
    "duration": 94,
    "start_time": "2023-07-17T17:32:43.431Z"
   },
   {
    "duration": 30,
    "start_time": "2023-07-17T17:32:43.527Z"
   },
   {
    "duration": 43,
    "start_time": "2023-07-17T17:32:43.567Z"
   },
   {
    "duration": 33,
    "start_time": "2023-07-17T17:32:43.612Z"
   },
   {
    "duration": 47,
    "start_time": "2023-07-17T17:32:43.658Z"
   },
   {
    "duration": 62,
    "start_time": "2023-07-17T17:32:43.707Z"
   },
   {
    "duration": 22,
    "start_time": "2023-07-17T17:32:43.771Z"
   },
   {
    "duration": 37,
    "start_time": "2023-07-17T17:32:43.796Z"
   },
   {
    "duration": 59,
    "start_time": "2023-07-17T17:32:43.835Z"
   },
   {
    "duration": 37,
    "start_time": "2023-07-17T17:32:43.896Z"
   },
   {
    "duration": 60,
    "start_time": "2023-07-17T17:32:43.935Z"
   },
   {
    "duration": 35,
    "start_time": "2023-07-17T17:32:43.997Z"
   },
   {
    "duration": 29,
    "start_time": "2023-07-17T17:32:44.036Z"
   },
   {
    "duration": 28,
    "start_time": "2023-07-17T17:32:44.070Z"
   },
   {
    "duration": 6,
    "start_time": "2023-07-17T17:32:44.100Z"
   },
   {
    "duration": 45,
    "start_time": "2023-07-17T17:32:44.108Z"
   },
   {
    "duration": 45,
    "start_time": "2023-07-17T17:32:44.155Z"
   },
   {
    "duration": 13,
    "start_time": "2023-07-17T17:32:44.201Z"
   },
   {
    "duration": 46,
    "start_time": "2023-07-17T17:32:44.215Z"
   },
   {
    "duration": 402,
    "start_time": "2023-07-17T17:32:44.263Z"
   },
   {
    "duration": 23,
    "start_time": "2023-07-17T17:32:44.678Z"
   },
   {
    "duration": 3,
    "start_time": "2023-07-17T17:32:44.702Z"
   },
   {
    "duration": 9,
    "start_time": "2023-07-17T17:32:44.707Z"
   },
   {
    "duration": 143,
    "start_time": "2023-07-17T17:32:44.718Z"
   },
   {
    "duration": 15,
    "start_time": "2023-07-17T17:32:44.863Z"
   },
   {
    "duration": 247,
    "start_time": "2023-07-17T17:32:44.879Z"
   },
   {
    "duration": 33,
    "start_time": "2023-07-17T17:32:45.134Z"
   },
   {
    "duration": 138,
    "start_time": "2023-07-17T17:32:45.169Z"
   },
   {
    "duration": 324,
    "start_time": "2023-07-17T17:32:45.309Z"
   },
   {
    "duration": 12,
    "start_time": "2023-07-17T17:32:45.637Z"
   },
   {
    "duration": 96,
    "start_time": "2023-07-17T17:32:45.651Z"
   },
   {
    "duration": 15,
    "start_time": "2023-07-17T17:32:45.759Z"
   },
   {
    "duration": 12,
    "start_time": "2023-07-17T17:32:45.782Z"
   },
   {
    "duration": 374,
    "start_time": "2023-07-17T17:32:45.795Z"
   },
   {
    "duration": 14,
    "start_time": "2023-07-17T17:32:46.174Z"
   },
   {
    "duration": 25,
    "start_time": "2023-07-17T17:32:46.190Z"
   },
   {
    "duration": 99,
    "start_time": "2023-07-17T17:32:46.217Z"
   },
   {
    "duration": 584,
    "start_time": "2023-07-17T17:32:46.318Z"
   },
   {
    "duration": 37,
    "start_time": "2023-07-17T17:32:46.903Z"
   },
   {
    "duration": 200,
    "start_time": "2023-07-17T17:32:46.941Z"
   },
   {
    "duration": 135,
    "start_time": "2023-07-17T17:32:47.142Z"
   },
   {
    "duration": 22,
    "start_time": "2023-07-17T17:32:47.278Z"
   },
   {
    "duration": 55,
    "start_time": "2023-07-17T17:32:47.301Z"
   },
   {
    "duration": 35,
    "start_time": "2023-07-17T17:32:47.358Z"
   },
   {
    "duration": 16,
    "start_time": "2023-07-17T17:32:47.396Z"
   },
   {
    "duration": 185,
    "start_time": "2023-07-17T17:32:47.414Z"
   },
   {
    "duration": 132,
    "start_time": "2023-07-17T17:32:47.601Z"
   },
   {
    "duration": 16,
    "start_time": "2023-07-17T17:32:47.735Z"
   },
   {
    "duration": 47,
    "start_time": "2023-07-17T17:32:47.753Z"
   },
   {
    "duration": 191,
    "start_time": "2023-07-17T17:32:47.802Z"
   },
   {
    "duration": 40,
    "start_time": "2023-07-17T17:32:47.995Z"
   },
   {
    "duration": 186,
    "start_time": "2023-07-17T17:32:48.043Z"
   },
   {
    "duration": 18,
    "start_time": "2023-07-17T17:32:48.231Z"
   },
   {
    "duration": 336,
    "start_time": "2023-07-17T17:32:48.251Z"
   },
   {
    "duration": 20,
    "start_time": "2023-07-17T17:32:48.589Z"
   },
   {
    "duration": 84,
    "start_time": "2023-07-17T17:32:48.611Z"
   },
   {
    "duration": 180,
    "start_time": "2023-07-17T17:32:48.697Z"
   },
   {
    "duration": 18,
    "start_time": "2023-07-17T17:32:48.879Z"
   },
   {
    "duration": 248,
    "start_time": "2023-07-17T17:32:48.899Z"
   },
   {
    "duration": 12424,
    "start_time": "2023-07-17T17:32:49.149Z"
   },
   {
    "duration": 25,
    "start_time": "2023-07-17T17:33:01.575Z"
   },
   {
    "duration": 299,
    "start_time": "2023-07-17T17:33:01.603Z"
   },
   {
    "duration": 260,
    "start_time": "2023-07-17T17:33:01.903Z"
   },
   {
    "duration": 18,
    "start_time": "2023-07-17T17:33:02.167Z"
   },
   {
    "duration": 108,
    "start_time": "2023-07-17T17:33:02.189Z"
   },
   {
    "duration": 180,
    "start_time": "2023-07-17T17:33:02.299Z"
   },
   {
    "duration": 61,
    "start_time": "2023-07-17T17:33:02.483Z"
   },
   {
    "duration": 227,
    "start_time": "2023-07-17T17:33:02.547Z"
   },
   {
    "duration": 10,
    "start_time": "2023-07-17T17:33:02.776Z"
   },
   {
    "duration": 213,
    "start_time": "2023-07-17T17:33:02.790Z"
   },
   {
    "duration": 89,
    "start_time": "2023-07-17T17:33:03.005Z"
   },
   {
    "duration": 119,
    "start_time": "2023-07-17T17:33:03.096Z"
   },
   {
    "duration": 1948,
    "start_time": "2023-07-17T17:33:03.217Z"
   },
   {
    "duration": 24,
    "start_time": "2023-07-17T17:33:05.173Z"
   },
   {
    "duration": 414,
    "start_time": "2023-07-17T17:33:05.207Z"
   },
   {
    "duration": 34,
    "start_time": "2023-07-17T17:33:05.623Z"
   },
   {
    "duration": 314,
    "start_time": "2023-07-17T17:33:05.659Z"
   },
   {
    "duration": 28,
    "start_time": "2023-07-17T17:33:05.982Z"
   },
   {
    "duration": 160,
    "start_time": "2023-07-17T17:33:06.012Z"
   },
   {
    "duration": 237,
    "start_time": "2023-07-17T17:33:06.178Z"
   },
   {
    "duration": 82,
    "start_time": "2023-07-17T17:33:06.416Z"
   },
   {
    "duration": 264,
    "start_time": "2023-07-17T17:33:06.501Z"
   },
   {
    "duration": 44,
    "start_time": "2023-07-17T17:33:06.767Z"
   },
   {
    "duration": 164,
    "start_time": "2023-07-17T17:33:06.812Z"
   },
   {
    "duration": 134,
    "start_time": "2023-07-17T17:33:06.978Z"
   },
   {
    "duration": 99,
    "start_time": "2023-07-17T17:33:07.115Z"
   },
   {
    "duration": 465,
    "start_time": "2023-07-17T17:33:07.216Z"
   },
   {
    "duration": 13,
    "start_time": "2023-07-17T17:33:07.687Z"
   },
   {
    "duration": 188,
    "start_time": "2023-07-17T17:33:07.705Z"
   },
   {
    "duration": 5,
    "start_time": "2023-07-17T17:33:07.895Z"
   },
   {
    "duration": 61,
    "start_time": "2023-07-17T17:33:07.902Z"
   },
   {
    "duration": 436,
    "start_time": "2023-07-17T17:33:07.973Z"
   },
   {
    "duration": 13,
    "start_time": "2023-07-17T17:33:08.416Z"
   },
   {
    "duration": 90,
    "start_time": "2023-07-17T17:33:08.431Z"
   },
   {
    "duration": 622,
    "start_time": "2023-07-17T17:33:08.523Z"
   },
   {
    "duration": 11,
    "start_time": "2023-07-17T17:33:09.147Z"
   },
   {
    "duration": 266,
    "start_time": "2023-07-17T17:33:09.161Z"
   },
   {
    "duration": 173,
    "start_time": "2023-07-17T17:33:09.432Z"
   },
   {
    "duration": 369,
    "start_time": "2023-07-17T17:33:15.932Z"
   },
   {
    "duration": 1899,
    "start_time": "2023-07-17T17:33:29.589Z"
   },
   {
    "duration": 5,
    "start_time": "2023-07-17T17:33:31.491Z"
   },
   {
    "duration": 99,
    "start_time": "2023-07-17T17:33:31.498Z"
   },
   {
    "duration": 83,
    "start_time": "2023-07-17T17:33:31.598Z"
   },
   {
    "duration": 112,
    "start_time": "2023-07-17T17:33:31.684Z"
   },
   {
    "duration": 43,
    "start_time": "2023-07-17T17:33:31.798Z"
   },
   {
    "duration": 60,
    "start_time": "2023-07-17T17:33:31.842Z"
   },
   {
    "duration": 96,
    "start_time": "2023-07-17T17:33:31.904Z"
   },
   {
    "duration": 63,
    "start_time": "2023-07-17T17:33:32.002Z"
   },
   {
    "duration": 33,
    "start_time": "2023-07-17T17:33:32.083Z"
   },
   {
    "duration": 58,
    "start_time": "2023-07-17T17:33:32.118Z"
   },
   {
    "duration": 45,
    "start_time": "2023-07-17T17:33:32.178Z"
   },
   {
    "duration": 78,
    "start_time": "2023-07-17T17:33:32.225Z"
   },
   {
    "duration": 18,
    "start_time": "2023-07-17T17:33:32.306Z"
   },
   {
    "duration": 91,
    "start_time": "2023-07-17T17:33:32.326Z"
   },
   {
    "duration": 94,
    "start_time": "2023-07-17T17:33:32.419Z"
   },
   {
    "duration": 84,
    "start_time": "2023-07-17T17:33:32.514Z"
   },
   {
    "duration": 88,
    "start_time": "2023-07-17T17:33:32.599Z"
   },
   {
    "duration": 72,
    "start_time": "2023-07-17T17:33:32.689Z"
   },
   {
    "duration": 29,
    "start_time": "2023-07-17T17:33:32.775Z"
   },
   {
    "duration": 71,
    "start_time": "2023-07-17T17:33:32.806Z"
   },
   {
    "duration": 15,
    "start_time": "2023-07-17T17:33:32.882Z"
   },
   {
    "duration": 48,
    "start_time": "2023-07-17T17:33:32.899Z"
   },
   {
    "duration": 58,
    "start_time": "2023-07-17T17:33:32.949Z"
   },
   {
    "duration": 6,
    "start_time": "2023-07-17T17:33:33.009Z"
   },
   {
    "duration": 82,
    "start_time": "2023-07-17T17:33:33.017Z"
   },
   {
    "duration": 443,
    "start_time": "2023-07-17T17:33:33.102Z"
   },
   {
    "duration": 40,
    "start_time": "2023-07-17T17:33:33.547Z"
   },
   {
    "duration": 4,
    "start_time": "2023-07-17T17:33:33.588Z"
   },
   {
    "duration": 10,
    "start_time": "2023-07-17T17:33:33.593Z"
   },
   {
    "duration": 101,
    "start_time": "2023-07-17T17:33:33.605Z"
   },
   {
    "duration": 10,
    "start_time": "2023-07-17T17:33:33.708Z"
   },
   {
    "duration": 286,
    "start_time": "2023-07-17T17:33:33.730Z"
   },
   {
    "duration": 20,
    "start_time": "2023-07-17T17:33:34.018Z"
   },
   {
    "duration": 72,
    "start_time": "2023-07-17T17:33:34.040Z"
   },
   {
    "duration": 273,
    "start_time": "2023-07-17T17:33:34.113Z"
   },
   {
    "duration": 13,
    "start_time": "2023-07-17T17:33:34.388Z"
   },
   {
    "duration": 98,
    "start_time": "2023-07-17T17:33:34.402Z"
   },
   {
    "duration": 6,
    "start_time": "2023-07-17T17:33:34.502Z"
   },
   {
    "duration": 74,
    "start_time": "2023-07-17T17:33:34.510Z"
   },
   {
    "duration": 270,
    "start_time": "2023-07-17T17:33:34.675Z"
   },
   {
    "duration": 19,
    "start_time": "2023-07-17T17:33:34.960Z"
   },
   {
    "duration": 14,
    "start_time": "2023-07-17T17:33:34.981Z"
   },
   {
    "duration": 18,
    "start_time": "2023-07-17T17:33:34.997Z"
   },
   {
    "duration": 576,
    "start_time": "2023-07-17T17:33:35.017Z"
   },
   {
    "duration": 11,
    "start_time": "2023-07-17T17:33:35.595Z"
   },
   {
    "duration": 176,
    "start_time": "2023-07-17T17:33:35.608Z"
   },
   {
    "duration": 147,
    "start_time": "2023-07-17T17:33:35.786Z"
   },
   {
    "duration": 18,
    "start_time": "2023-07-17T17:33:35.934Z"
   },
   {
    "duration": 49,
    "start_time": "2023-07-17T17:33:35.954Z"
   },
   {
    "duration": 74,
    "start_time": "2023-07-17T17:33:36.004Z"
   },
   {
    "duration": 25,
    "start_time": "2023-07-17T17:33:36.090Z"
   },
   {
    "duration": 244,
    "start_time": "2023-07-17T17:33:36.117Z"
   },
   {
    "duration": 106,
    "start_time": "2023-07-17T17:33:36.370Z"
   },
   {
    "duration": 17,
    "start_time": "2023-07-17T17:33:36.478Z"
   },
   {
    "duration": 101,
    "start_time": "2023-07-17T17:33:36.502Z"
   },
   {
    "duration": 205,
    "start_time": "2023-07-17T17:33:36.604Z"
   },
   {
    "duration": 38,
    "start_time": "2023-07-17T17:33:36.811Z"
   },
   {
    "duration": 143,
    "start_time": "2023-07-17T17:33:36.861Z"
   },
   {
    "duration": 78,
    "start_time": "2023-07-17T17:33:37.006Z"
   },
   {
    "duration": 270,
    "start_time": "2023-07-17T17:33:37.085Z"
   },
   {
    "duration": 38,
    "start_time": "2023-07-17T17:33:37.366Z"
   },
   {
    "duration": 37,
    "start_time": "2023-07-17T17:33:37.406Z"
   },
   {
    "duration": 213,
    "start_time": "2023-07-17T17:33:37.451Z"
   },
   {
    "duration": 28,
    "start_time": "2023-07-17T17:33:37.666Z"
   },
   {
    "duration": 284,
    "start_time": "2023-07-17T17:33:37.701Z"
   },
   {
    "duration": 12498,
    "start_time": "2023-07-17T17:33:37.999Z"
   },
   {
    "duration": 29,
    "start_time": "2023-07-17T17:33:50.499Z"
   },
   {
    "duration": 111,
    "start_time": "2023-07-17T17:33:50.530Z"
   },
   {
    "duration": 257,
    "start_time": "2023-07-17T17:33:50.643Z"
   },
   {
    "duration": 10,
    "start_time": "2023-07-17T17:33:50.902Z"
   },
   {
    "duration": 80,
    "start_time": "2023-07-17T17:33:50.914Z"
   },
   {
    "duration": 199,
    "start_time": "2023-07-17T17:33:50.995Z"
   },
   {
    "duration": 107,
    "start_time": "2023-07-17T17:33:51.196Z"
   },
   {
    "duration": 111,
    "start_time": "2023-07-17T17:33:51.304Z"
   },
   {
    "duration": 34,
    "start_time": "2023-07-17T17:33:51.416Z"
   },
   {
    "duration": 48,
    "start_time": "2023-07-17T17:33:51.452Z"
   },
   {
    "duration": 86,
    "start_time": "2023-07-17T17:33:51.502Z"
   },
   {
    "duration": 155,
    "start_time": "2023-07-17T17:33:51.590Z"
   },
   {
    "duration": 1738,
    "start_time": "2023-07-17T17:33:51.762Z"
   },
   {
    "duration": 63,
    "start_time": "2023-07-17T17:33:53.502Z"
   },
   {
    "duration": 238,
    "start_time": "2023-07-17T17:33:53.574Z"
   },
   {
    "duration": 29,
    "start_time": "2023-07-17T17:33:53.814Z"
   },
   {
    "duration": 159,
    "start_time": "2023-07-17T17:33:53.847Z"
   },
   {
    "duration": 6,
    "start_time": "2023-07-17T17:33:54.008Z"
   },
   {
    "duration": 76,
    "start_time": "2023-07-17T17:33:54.016Z"
   },
   {
    "duration": 172,
    "start_time": "2023-07-17T17:33:54.095Z"
   },
   {
    "duration": 29,
    "start_time": "2023-07-17T17:33:54.277Z"
   },
   {
    "duration": 141,
    "start_time": "2023-07-17T17:33:54.308Z"
   },
   {
    "duration": 22,
    "start_time": "2023-07-17T17:33:54.451Z"
   },
   {
    "duration": 123,
    "start_time": "2023-07-17T17:33:54.475Z"
   },
   {
    "duration": 4,
    "start_time": "2023-07-17T17:33:54.600Z"
   },
   {
    "duration": 9,
    "start_time": "2023-07-17T17:33:54.606Z"
   },
   {
    "duration": 337,
    "start_time": "2023-07-17T17:33:54.616Z"
   },
   {
    "duration": 10,
    "start_time": "2023-07-17T17:33:54.954Z"
   },
   {
    "duration": 162,
    "start_time": "2023-07-17T17:33:54.969Z"
   },
   {
    "duration": 26,
    "start_time": "2023-07-17T17:33:55.140Z"
   },
   {
    "duration": 61,
    "start_time": "2023-07-17T17:33:55.181Z"
   },
   {
    "duration": 325,
    "start_time": "2023-07-17T17:33:55.247Z"
   },
   {
    "duration": 4,
    "start_time": "2023-07-17T17:33:55.574Z"
   },
   {
    "duration": 36,
    "start_time": "2023-07-17T17:33:55.580Z"
   },
   {
    "duration": 639,
    "start_time": "2023-07-17T17:33:55.618Z"
   },
   {
    "duration": 16,
    "start_time": "2023-07-17T17:33:56.263Z"
   },
   {
    "duration": 114,
    "start_time": "2023-07-17T17:33:56.282Z"
   },
   {
    "duration": 19,
    "start_time": "2023-07-17T17:33:56.399Z"
   },
   {
    "duration": 192,
    "start_time": "2023-07-17T17:33:57.857Z"
   },
   {
    "duration": 2437,
    "start_time": "2023-07-17T17:34:49.596Z"
   },
   {
    "duration": 7,
    "start_time": "2023-07-17T17:34:52.035Z"
   },
   {
    "duration": 83,
    "start_time": "2023-07-17T17:34:52.044Z"
   },
   {
    "duration": 143,
    "start_time": "2023-07-17T17:34:52.138Z"
   },
   {
    "duration": 190,
    "start_time": "2023-07-17T17:34:52.294Z"
   },
   {
    "duration": 84,
    "start_time": "2023-07-17T17:34:52.489Z"
   },
   {
    "duration": 39,
    "start_time": "2023-07-17T17:34:52.578Z"
   },
   {
    "duration": 185,
    "start_time": "2023-07-17T17:34:52.622Z"
   },
   {
    "duration": 105,
    "start_time": "2023-07-17T17:34:52.809Z"
   },
   {
    "duration": 65,
    "start_time": "2023-07-17T17:34:52.917Z"
   },
   {
    "duration": 41,
    "start_time": "2023-07-17T17:34:52.988Z"
   },
   {
    "duration": 98,
    "start_time": "2023-07-17T17:34:53.041Z"
   },
   {
    "duration": 167,
    "start_time": "2023-07-17T17:34:53.141Z"
   },
   {
    "duration": 100,
    "start_time": "2023-07-17T17:34:53.310Z"
   },
   {
    "duration": 106,
    "start_time": "2023-07-17T17:34:53.412Z"
   },
   {
    "duration": 185,
    "start_time": "2023-07-17T17:34:53.520Z"
   },
   {
    "duration": 42,
    "start_time": "2023-07-17T17:34:53.707Z"
   },
   {
    "duration": 84,
    "start_time": "2023-07-17T17:34:53.753Z"
   },
   {
    "duration": 204,
    "start_time": "2023-07-17T17:34:53.842Z"
   },
   {
    "duration": 110,
    "start_time": "2023-07-17T17:34:54.047Z"
   },
   {
    "duration": 56,
    "start_time": "2023-07-17T17:34:54.159Z"
   },
   {
    "duration": 88,
    "start_time": "2023-07-17T17:34:54.217Z"
   },
   {
    "duration": 110,
    "start_time": "2023-07-17T17:34:54.307Z"
   },
   {
    "duration": 76,
    "start_time": "2023-07-17T17:34:54.425Z"
   },
   {
    "duration": 102,
    "start_time": "2023-07-17T17:34:54.503Z"
   },
   {
    "duration": 72,
    "start_time": "2023-07-17T17:34:54.609Z"
   },
   {
    "duration": 550,
    "start_time": "2023-07-17T17:34:54.688Z"
   },
   {
    "duration": 54,
    "start_time": "2023-07-17T17:34:55.259Z"
   },
   {
    "duration": 98,
    "start_time": "2023-07-17T17:34:55.320Z"
   },
   {
    "duration": 158,
    "start_time": "2023-07-17T17:34:55.431Z"
   },
   {
    "duration": 157,
    "start_time": "2023-07-17T17:34:55.592Z"
   },
   {
    "duration": 51,
    "start_time": "2023-07-17T17:34:55.756Z"
   },
   {
    "duration": 393,
    "start_time": "2023-07-17T17:34:55.808Z"
   },
   {
    "duration": 53,
    "start_time": "2023-07-17T17:34:56.204Z"
   },
   {
    "duration": 85,
    "start_time": "2023-07-17T17:34:56.259Z"
   },
   {
    "duration": 409,
    "start_time": "2023-07-17T17:34:56.346Z"
   },
   {
    "duration": 16,
    "start_time": "2023-07-17T17:34:56.757Z"
   },
   {
    "duration": 64,
    "start_time": "2023-07-17T17:34:56.777Z"
   },
   {
    "duration": 112,
    "start_time": "2023-07-17T17:34:56.851Z"
   },
   {
    "duration": 144,
    "start_time": "2023-07-17T17:34:56.968Z"
   },
   {
    "duration": 466,
    "start_time": "2023-07-17T17:34:57.114Z"
   },
   {
    "duration": 28,
    "start_time": "2023-07-17T17:34:57.590Z"
   },
   {
    "duration": 150,
    "start_time": "2023-07-17T17:34:57.620Z"
   },
   {
    "duration": 51,
    "start_time": "2023-07-17T17:34:57.778Z"
   },
   {
    "duration": 668,
    "start_time": "2023-07-17T17:34:57.841Z"
   },
   {
    "duration": 32,
    "start_time": "2023-07-17T17:34:58.511Z"
   },
   {
    "duration": 300,
    "start_time": "2023-07-17T17:34:58.545Z"
   },
   {
    "duration": 146,
    "start_time": "2023-07-17T17:34:58.862Z"
   },
   {
    "duration": 24,
    "start_time": "2023-07-17T17:34:59.013Z"
   },
   {
    "duration": 67,
    "start_time": "2023-07-17T17:34:59.045Z"
   },
   {
    "duration": 19,
    "start_time": "2023-07-17T17:34:59.114Z"
   },
   {
    "duration": 122,
    "start_time": "2023-07-17T17:34:59.135Z"
   },
   {
    "duration": 245,
    "start_time": "2023-07-17T17:34:59.259Z"
   },
   {
    "duration": 112,
    "start_time": "2023-07-17T17:34:59.506Z"
   },
   {
    "duration": 26,
    "start_time": "2023-07-17T17:34:59.635Z"
   },
   {
    "duration": 139,
    "start_time": "2023-07-17T17:34:59.669Z"
   },
   {
    "duration": 296,
    "start_time": "2023-07-17T17:34:59.809Z"
   },
   {
    "duration": 118,
    "start_time": "2023-07-17T17:35:00.107Z"
   },
   {
    "duration": 248,
    "start_time": "2023-07-17T17:35:00.229Z"
   },
   {
    "duration": 9,
    "start_time": "2023-07-17T17:35:00.483Z"
   },
   {
    "duration": 590,
    "start_time": "2023-07-17T17:35:00.503Z"
   },
   {
    "duration": 19,
    "start_time": "2023-07-17T17:35:01.096Z"
   },
   {
    "duration": 294,
    "start_time": "2023-07-17T17:35:01.118Z"
   },
   {
    "duration": 425,
    "start_time": "2023-07-17T17:35:01.413Z"
   },
   {
    "duration": 51,
    "start_time": "2023-07-17T17:35:01.843Z"
   },
   {
    "duration": 289,
    "start_time": "2023-07-17T17:35:01.899Z"
   },
   {
    "duration": 12113,
    "start_time": "2023-07-17T17:35:02.190Z"
   },
   {
    "duration": 58,
    "start_time": "2023-07-17T17:35:14.311Z"
   },
   {
    "duration": 126,
    "start_time": "2023-07-17T17:35:14.371Z"
   },
   {
    "duration": 175,
    "start_time": "2023-07-17T17:35:14.501Z"
   },
   {
    "duration": 105,
    "start_time": "2023-07-17T17:35:14.680Z"
   },
   {
    "duration": 78,
    "start_time": "2023-07-17T17:35:14.787Z"
   },
   {
    "duration": 106,
    "start_time": "2023-07-17T17:35:14.867Z"
   },
   {
    "duration": 81,
    "start_time": "2023-07-17T17:35:14.975Z"
   },
   {
    "duration": 265,
    "start_time": "2023-07-17T17:35:15.060Z"
   },
   {
    "duration": 36,
    "start_time": "2023-07-17T17:35:15.330Z"
   },
   {
    "duration": 113,
    "start_time": "2023-07-17T17:35:15.370Z"
   },
   {
    "duration": 180,
    "start_time": "2023-07-17T17:35:15.490Z"
   },
   {
    "duration": 229,
    "start_time": "2023-07-17T17:35:15.671Z"
   },
   {
    "duration": 2398,
    "start_time": "2023-07-17T17:35:15.905Z"
   },
   {
    "duration": 48,
    "start_time": "2023-07-17T17:35:18.309Z"
   },
   {
    "duration": 319,
    "start_time": "2023-07-17T17:35:18.374Z"
   },
   {
    "duration": 33,
    "start_time": "2023-07-17T17:35:18.696Z"
   },
   {
    "duration": 142,
    "start_time": "2023-07-17T17:35:18.735Z"
   },
   {
    "duration": 13,
    "start_time": "2023-07-17T17:35:18.895Z"
   },
   {
    "duration": 17,
    "start_time": "2023-07-17T17:35:18.910Z"
   },
   {
    "duration": 244,
    "start_time": "2023-07-17T17:35:18.929Z"
   },
   {
    "duration": 19,
    "start_time": "2023-07-17T17:35:19.178Z"
   },
   {
    "duration": 170,
    "start_time": "2023-07-17T17:35:19.203Z"
   },
   {
    "duration": 17,
    "start_time": "2023-07-17T17:35:19.375Z"
   },
   {
    "duration": 213,
    "start_time": "2023-07-17T17:35:19.393Z"
   },
   {
    "duration": 10,
    "start_time": "2023-07-17T17:35:19.608Z"
   },
   {
    "duration": 70,
    "start_time": "2023-07-17T17:35:19.624Z"
   },
   {
    "duration": 345,
    "start_time": "2023-07-17T17:35:19.696Z"
   },
   {
    "duration": 18,
    "start_time": "2023-07-17T17:35:20.043Z"
   },
   {
    "duration": 334,
    "start_time": "2023-07-17T17:35:20.063Z"
   },
   {
    "duration": 96,
    "start_time": "2023-07-17T17:35:20.401Z"
   },
   {
    "duration": 103,
    "start_time": "2023-07-17T17:35:20.504Z"
   },
   {
    "duration": 336,
    "start_time": "2023-07-17T17:35:20.609Z"
   },
   {
    "duration": 5,
    "start_time": "2023-07-17T17:35:20.947Z"
   },
   {
    "duration": 8,
    "start_time": "2023-07-17T17:35:20.953Z"
   },
   {
    "duration": 551,
    "start_time": "2023-07-17T17:35:20.963Z"
   },
   {
    "duration": 15,
    "start_time": "2023-07-17T17:35:21.517Z"
   },
   {
    "duration": 175,
    "start_time": "2023-07-17T17:35:21.537Z"
   },
   {
    "duration": 59,
    "start_time": "2023-07-17T17:35:21.714Z"
   },
   {
    "duration": 1865,
    "start_time": "2023-07-17T19:12:55.093Z"
   },
   {
    "duration": 5,
    "start_time": "2023-07-17T19:12:56.961Z"
   },
   {
    "duration": 13,
    "start_time": "2023-07-17T19:12:56.968Z"
   },
   {
    "duration": 18,
    "start_time": "2023-07-17T19:12:56.983Z"
   },
   {
    "duration": 75,
    "start_time": "2023-07-17T19:12:57.004Z"
   },
   {
    "duration": 5,
    "start_time": "2023-07-17T19:12:57.082Z"
   },
   {
    "duration": 72,
    "start_time": "2023-07-17T19:12:57.091Z"
   },
   {
    "duration": 64,
    "start_time": "2023-07-17T19:12:57.164Z"
   },
   {
    "duration": 26,
    "start_time": "2023-07-17T19:12:57.230Z"
   },
   {
    "duration": 27,
    "start_time": "2023-07-17T19:12:57.258Z"
   },
   {
    "duration": 38,
    "start_time": "2023-07-17T19:12:57.287Z"
   },
   {
    "duration": 41,
    "start_time": "2023-07-17T19:12:57.327Z"
   },
   {
    "duration": 54,
    "start_time": "2023-07-17T19:12:57.370Z"
   },
   {
    "duration": 65,
    "start_time": "2023-07-17T19:12:57.428Z"
   },
   {
    "duration": 50,
    "start_time": "2023-07-17T19:12:57.495Z"
   },
   {
    "duration": 41,
    "start_time": "2023-07-17T19:12:57.547Z"
   },
   {
    "duration": 20,
    "start_time": "2023-07-17T19:12:57.590Z"
   },
   {
    "duration": 33,
    "start_time": "2023-07-17T19:12:57.612Z"
   },
   {
    "duration": 36,
    "start_time": "2023-07-17T19:12:57.647Z"
   },
   {
    "duration": 16,
    "start_time": "2023-07-17T19:12:57.685Z"
   },
   {
    "duration": 30,
    "start_time": "2023-07-17T19:12:57.703Z"
   },
   {
    "duration": 35,
    "start_time": "2023-07-17T19:12:57.735Z"
   },
   {
    "duration": 32,
    "start_time": "2023-07-17T19:12:57.772Z"
   },
   {
    "duration": 23,
    "start_time": "2023-07-17T19:12:57.806Z"
   },
   {
    "duration": 27,
    "start_time": "2023-07-17T19:12:57.830Z"
   },
   {
    "duration": 25,
    "start_time": "2023-07-17T19:12:57.859Z"
   },
   {
    "duration": 380,
    "start_time": "2023-07-17T19:12:57.886Z"
   },
   {
    "duration": 23,
    "start_time": "2023-07-17T19:12:58.268Z"
   },
   {
    "duration": 15,
    "start_time": "2023-07-17T19:12:58.313Z"
   },
   {
    "duration": 16,
    "start_time": "2023-07-17T19:12:58.330Z"
   },
   {
    "duration": 77,
    "start_time": "2023-07-17T19:12:58.348Z"
   },
   {
    "duration": 10,
    "start_time": "2023-07-17T19:12:58.429Z"
   },
   {
    "duration": 180,
    "start_time": "2023-07-17T19:12:58.441Z"
   },
   {
    "duration": 16,
    "start_time": "2023-07-17T19:12:58.623Z"
   },
   {
    "duration": 62,
    "start_time": "2023-07-17T19:12:58.641Z"
   },
   {
    "duration": 319,
    "start_time": "2023-07-17T19:12:58.705Z"
   },
   {
    "duration": 10,
    "start_time": "2023-07-17T19:12:59.028Z"
   },
   {
    "duration": 25,
    "start_time": "2023-07-17T19:12:59.040Z"
   },
   {
    "duration": 7,
    "start_time": "2023-07-17T19:12:59.067Z"
   },
   {
    "duration": 10,
    "start_time": "2023-07-17T19:12:59.077Z"
   },
   {
    "duration": 268,
    "start_time": "2023-07-17T19:12:59.200Z"
   },
   {
    "duration": 12,
    "start_time": "2023-07-17T19:12:59.470Z"
   },
   {
    "duration": 8,
    "start_time": "2023-07-17T19:12:59.484Z"
   },
   {
    "duration": 50,
    "start_time": "2023-07-17T19:12:59.495Z"
   },
   {
    "duration": 464,
    "start_time": "2023-07-17T19:12:59.546Z"
   },
   {
    "duration": 20,
    "start_time": "2023-07-17T19:13:00.012Z"
   },
   {
    "duration": 220,
    "start_time": "2023-07-17T19:13:00.034Z"
   },
   {
    "duration": 126,
    "start_time": "2023-07-17T19:13:00.256Z"
   },
   {
    "duration": 26,
    "start_time": "2023-07-17T19:13:00.384Z"
   },
   {
    "duration": 44,
    "start_time": "2023-07-17T19:13:00.418Z"
   },
   {
    "duration": 22,
    "start_time": "2023-07-17T19:13:00.464Z"
   },
   {
    "duration": 46,
    "start_time": "2023-07-17T19:13:00.488Z"
   },
   {
    "duration": 345,
    "start_time": "2023-07-17T19:13:00.536Z"
   },
   {
    "duration": 86,
    "start_time": "2023-07-17T19:13:00.882Z"
   },
   {
    "duration": 87,
    "start_time": "2023-07-17T19:13:00.970Z"
   },
   {
    "duration": 160,
    "start_time": "2023-07-17T19:13:01.059Z"
   },
   {
    "duration": 206,
    "start_time": "2023-07-17T19:13:01.224Z"
   },
   {
    "duration": 30,
    "start_time": "2023-07-17T19:13:01.431Z"
   },
   {
    "duration": 110,
    "start_time": "2023-07-17T19:13:01.463Z"
   },
   {
    "duration": 26,
    "start_time": "2023-07-17T19:13:01.574Z"
   },
   {
    "duration": 213,
    "start_time": "2023-07-17T19:13:01.602Z"
   },
   {
    "duration": 18,
    "start_time": "2023-07-17T19:13:01.817Z"
   },
   {
    "duration": 44,
    "start_time": "2023-07-17T19:13:01.838Z"
   },
   {
    "duration": 141,
    "start_time": "2023-07-17T19:13:01.884Z"
   },
   {
    "duration": 13,
    "start_time": "2023-07-17T19:13:02.029Z"
   },
   {
    "duration": 134,
    "start_time": "2023-07-17T19:13:02.044Z"
   },
   {
    "duration": 10736,
    "start_time": "2023-07-17T19:13:02.180Z"
   },
   {
    "duration": 28,
    "start_time": "2023-07-17T19:13:12.919Z"
   },
   {
    "duration": 11,
    "start_time": "2023-07-17T19:13:12.948Z"
   },
   {
    "duration": 181,
    "start_time": "2023-07-17T19:13:12.960Z"
   },
   {
    "duration": 10,
    "start_time": "2023-07-17T19:13:13.143Z"
   },
   {
    "duration": 82,
    "start_time": "2023-07-17T19:13:13.155Z"
   },
   {
    "duration": 85,
    "start_time": "2023-07-17T19:13:13.239Z"
   },
   {
    "duration": 20,
    "start_time": "2023-07-17T19:13:13.326Z"
   },
   {
    "duration": 123,
    "start_time": "2023-07-17T19:13:13.348Z"
   },
   {
    "duration": 10,
    "start_time": "2023-07-17T19:13:13.472Z"
   },
   {
    "duration": 43,
    "start_time": "2023-07-17T19:13:13.484Z"
   },
   {
    "duration": 56,
    "start_time": "2023-07-17T19:13:13.529Z"
   },
   {
    "duration": 100,
    "start_time": "2023-07-17T19:13:13.586Z"
   },
   {
    "duration": 1815,
    "start_time": "2023-07-17T19:13:13.688Z"
   },
   {
    "duration": 18,
    "start_time": "2023-07-17T19:13:15.509Z"
   },
   {
    "duration": 265,
    "start_time": "2023-07-17T19:13:15.530Z"
   },
   {
    "duration": 36,
    "start_time": "2023-07-17T19:13:15.797Z"
   },
   {
    "duration": 113,
    "start_time": "2023-07-17T19:13:15.835Z"
   },
   {
    "duration": 7,
    "start_time": "2023-07-17T19:13:15.950Z"
   },
   {
    "duration": 23,
    "start_time": "2023-07-17T19:13:15.959Z"
   },
   {
    "duration": 122,
    "start_time": "2023-07-17T19:13:15.984Z"
   },
   {
    "duration": 21,
    "start_time": "2023-07-17T19:13:16.108Z"
   },
   {
    "duration": 115,
    "start_time": "2023-07-17T19:13:16.131Z"
   },
   {
    "duration": 17,
    "start_time": "2023-07-17T19:13:16.248Z"
   },
   {
    "duration": 103,
    "start_time": "2023-07-17T19:13:16.267Z"
   },
   {
    "duration": 4,
    "start_time": "2023-07-17T19:13:16.372Z"
   },
   {
    "duration": 12,
    "start_time": "2023-07-17T19:13:16.378Z"
   },
   {
    "duration": 260,
    "start_time": "2023-07-17T19:13:16.392Z"
   },
   {
    "duration": 9,
    "start_time": "2023-07-17T19:13:16.654Z"
   },
   {
    "duration": 133,
    "start_time": "2023-07-17T19:13:16.664Z"
   },
   {
    "duration": 13,
    "start_time": "2023-07-17T19:13:16.799Z"
   },
   {
    "duration": 22,
    "start_time": "2023-07-17T19:13:16.813Z"
   },
   {
    "duration": 207,
    "start_time": "2023-07-17T19:13:16.837Z"
   },
   {
    "duration": 3,
    "start_time": "2023-07-17T19:13:17.047Z"
   },
   {
    "duration": 8,
    "start_time": "2023-07-17T19:13:17.052Z"
   },
   {
    "duration": 463,
    "start_time": "2023-07-17T19:13:17.061Z"
   },
   {
    "duration": 7,
    "start_time": "2023-07-17T19:13:17.533Z"
   },
   {
    "duration": 104,
    "start_time": "2023-07-17T19:13:17.542Z"
   },
   {
    "duration": 20,
    "start_time": "2023-07-17T19:13:17.648Z"
   },
   {
    "duration": 1585,
    "start_time": "2023-08-09T16:04:17.547Z"
   },
   {
    "duration": 4,
    "start_time": "2023-08-09T16:04:19.134Z"
   },
   {
    "duration": 10,
    "start_time": "2023-08-09T16:04:19.139Z"
   },
   {
    "duration": 10,
    "start_time": "2023-08-09T16:04:19.151Z"
   },
   {
    "duration": 39,
    "start_time": "2023-08-09T16:04:19.163Z"
   },
   {
    "duration": 4,
    "start_time": "2023-08-09T16:04:19.203Z"
   },
   {
    "duration": 19,
    "start_time": "2023-08-09T16:04:19.209Z"
   },
   {
    "duration": 30,
    "start_time": "2023-08-09T16:04:19.229Z"
   },
   {
    "duration": 15,
    "start_time": "2023-08-09T16:04:19.261Z"
   },
   {
    "duration": 16,
    "start_time": "2023-08-09T16:04:19.278Z"
   },
   {
    "duration": 7,
    "start_time": "2023-08-09T16:04:19.295Z"
   },
   {
    "duration": 34,
    "start_time": "2023-08-09T16:04:19.304Z"
   },
   {
    "duration": 13,
    "start_time": "2023-08-09T16:04:19.340Z"
   },
   {
    "duration": 7,
    "start_time": "2023-08-09T16:04:19.355Z"
   },
   {
    "duration": 14,
    "start_time": "2023-08-09T16:04:19.363Z"
   },
   {
    "duration": 14,
    "start_time": "2023-08-09T16:04:19.378Z"
   },
   {
    "duration": 3,
    "start_time": "2023-08-09T16:04:19.393Z"
   },
   {
    "duration": 13,
    "start_time": "2023-08-09T16:04:19.398Z"
   },
   {
    "duration": 35,
    "start_time": "2023-08-09T16:04:19.412Z"
   },
   {
    "duration": 9,
    "start_time": "2023-08-09T16:04:19.449Z"
   },
   {
    "duration": 8,
    "start_time": "2023-08-09T16:04:19.459Z"
   },
   {
    "duration": 7,
    "start_time": "2023-08-09T16:04:19.468Z"
   },
   {
    "duration": 16,
    "start_time": "2023-08-09T16:04:19.476Z"
   },
   {
    "duration": 11,
    "start_time": "2023-08-09T16:04:19.494Z"
   },
   {
    "duration": 32,
    "start_time": "2023-08-09T16:04:19.506Z"
   },
   {
    "duration": 16,
    "start_time": "2023-08-09T16:04:19.539Z"
   },
   {
    "duration": 308,
    "start_time": "2023-08-09T16:04:19.557Z"
   },
   {
    "duration": 17,
    "start_time": "2023-08-09T16:04:19.869Z"
   },
   {
    "duration": 3,
    "start_time": "2023-08-09T16:04:19.887Z"
   },
   {
    "duration": 7,
    "start_time": "2023-08-09T16:04:19.891Z"
   },
   {
    "duration": 70,
    "start_time": "2023-08-09T16:04:19.899Z"
   },
   {
    "duration": 9,
    "start_time": "2023-08-09T16:04:19.971Z"
   },
   {
    "duration": 164,
    "start_time": "2023-08-09T16:04:19.981Z"
   },
   {
    "duration": 12,
    "start_time": "2023-08-09T16:04:20.147Z"
   },
   {
    "duration": 14,
    "start_time": "2023-08-09T16:04:20.160Z"
   },
   {
    "duration": 195,
    "start_time": "2023-08-09T16:04:20.175Z"
   },
   {
    "duration": 9,
    "start_time": "2023-08-09T16:04:20.372Z"
   },
   {
    "duration": 20,
    "start_time": "2023-08-09T16:04:20.382Z"
   },
   {
    "duration": 5,
    "start_time": "2023-08-09T16:04:20.404Z"
   },
   {
    "duration": 28,
    "start_time": "2023-08-09T16:04:20.410Z"
   },
   {
    "duration": 248,
    "start_time": "2023-08-09T16:04:20.439Z"
   },
   {
    "duration": 11,
    "start_time": "2023-08-09T16:04:20.689Z"
   },
   {
    "duration": 4,
    "start_time": "2023-08-09T16:04:20.702Z"
   },
   {
    "duration": 14,
    "start_time": "2023-08-09T16:04:20.707Z"
   },
   {
    "duration": 346,
    "start_time": "2023-08-09T16:04:20.723Z"
   },
   {
    "duration": 10,
    "start_time": "2023-08-09T16:04:21.070Z"
   },
   {
    "duration": 186,
    "start_time": "2023-08-09T16:04:21.082Z"
   },
   {
    "duration": 96,
    "start_time": "2023-08-09T16:04:21.269Z"
   },
   {
    "duration": 10,
    "start_time": "2023-08-09T16:04:21.366Z"
   },
   {
    "duration": 19,
    "start_time": "2023-08-09T16:04:21.377Z"
   },
   {
    "duration": 3,
    "start_time": "2023-08-09T16:04:21.397Z"
   },
   {
    "duration": 8,
    "start_time": "2023-08-09T16:04:21.401Z"
   },
   {
    "duration": 120,
    "start_time": "2023-08-09T16:04:21.411Z"
   },
   {
    "duration": 65,
    "start_time": "2023-08-09T16:04:21.533Z"
   },
   {
    "duration": 6,
    "start_time": "2023-08-09T16:04:21.599Z"
   },
   {
    "duration": 7,
    "start_time": "2023-08-09T16:04:21.606Z"
   },
   {
    "duration": 126,
    "start_time": "2023-08-09T16:04:21.614Z"
   },
   {
    "duration": 12,
    "start_time": "2023-08-09T16:04:21.741Z"
   },
   {
    "duration": 73,
    "start_time": "2023-08-09T16:04:21.754Z"
   },
   {
    "duration": 10,
    "start_time": "2023-08-09T16:04:21.829Z"
   },
   {
    "duration": 161,
    "start_time": "2023-08-09T16:04:21.840Z"
   },
   {
    "duration": 12,
    "start_time": "2023-08-09T16:04:22.002Z"
   },
   {
    "duration": 24,
    "start_time": "2023-08-09T16:04:22.015Z"
   },
   {
    "duration": 63,
    "start_time": "2023-08-09T16:04:22.040Z"
   },
   {
    "duration": 9,
    "start_time": "2023-08-09T16:04:22.104Z"
   },
   {
    "duration": 122,
    "start_time": "2023-08-09T16:04:22.114Z"
   },
   {
    "duration": 8380,
    "start_time": "2023-08-09T16:04:22.238Z"
   },
   {
    "duration": 36,
    "start_time": "2023-08-09T16:04:30.620Z"
   },
   {
    "duration": 86,
    "start_time": "2023-08-09T16:04:30.658Z"
   },
   {
    "duration": 159,
    "start_time": "2023-08-09T16:04:30.745Z"
   },
   {
    "duration": 32,
    "start_time": "2023-08-09T16:04:30.906Z"
   },
   {
    "duration": 17,
    "start_time": "2023-08-09T16:04:30.939Z"
   },
   {
    "duration": 57,
    "start_time": "2023-08-09T16:04:30.957Z"
   },
   {
    "duration": 44,
    "start_time": "2023-08-09T16:04:31.015Z"
   },
   {
    "duration": 123,
    "start_time": "2023-08-09T16:04:31.060Z"
   },
   {
    "duration": 7,
    "start_time": "2023-08-09T16:04:31.185Z"
   },
   {
    "duration": 47,
    "start_time": "2023-08-09T16:04:31.194Z"
   },
   {
    "duration": 52,
    "start_time": "2023-08-09T16:04:31.242Z"
   },
   {
    "duration": 119,
    "start_time": "2023-08-09T16:04:31.296Z"
   },
   {
    "duration": 1522,
    "start_time": "2023-08-09T16:04:31.416Z"
   },
   {
    "duration": 12,
    "start_time": "2023-08-09T16:04:32.939Z"
   },
   {
    "duration": 247,
    "start_time": "2023-08-09T16:04:32.956Z"
   },
   {
    "duration": 16,
    "start_time": "2023-08-09T16:04:33.205Z"
   },
   {
    "duration": 145,
    "start_time": "2023-08-09T16:04:33.223Z"
   },
   {
    "duration": 7,
    "start_time": "2023-08-09T16:04:33.370Z"
   },
   {
    "duration": 7,
    "start_time": "2023-08-09T16:04:33.379Z"
   },
   {
    "duration": 94,
    "start_time": "2023-08-09T16:04:33.388Z"
   },
   {
    "duration": 10,
    "start_time": "2023-08-09T16:04:33.483Z"
   },
   {
    "duration": 91,
    "start_time": "2023-08-09T16:04:33.494Z"
   },
   {
    "duration": 12,
    "start_time": "2023-08-09T16:04:33.586Z"
   },
   {
    "duration": 98,
    "start_time": "2023-08-09T16:04:33.600Z"
   },
   {
    "duration": 5,
    "start_time": "2023-08-09T16:04:33.700Z"
   },
   {
    "duration": 8,
    "start_time": "2023-08-09T16:04:33.706Z"
   },
   {
    "duration": 196,
    "start_time": "2023-08-09T16:04:33.715Z"
   },
   {
    "duration": 6,
    "start_time": "2023-08-09T16:04:33.913Z"
   },
   {
    "duration": 122,
    "start_time": "2023-08-09T16:04:33.921Z"
   },
   {
    "duration": 7,
    "start_time": "2023-08-09T16:04:34.044Z"
   },
   {
    "duration": 26,
    "start_time": "2023-08-09T16:04:34.053Z"
   },
   {
    "duration": 192,
    "start_time": "2023-08-09T16:04:34.081Z"
   },
   {
    "duration": 4,
    "start_time": "2023-08-09T16:04:34.274Z"
   },
   {
    "duration": 25,
    "start_time": "2023-08-09T16:04:34.280Z"
   },
   {
    "duration": 358,
    "start_time": "2023-08-09T16:04:34.307Z"
   },
   {
    "duration": 7,
    "start_time": "2023-08-09T16:04:34.667Z"
   },
   {
    "duration": 106,
    "start_time": "2023-08-09T16:04:34.676Z"
   },
   {
    "duration": 12,
    "start_time": "2023-08-09T16:04:34.784Z"
   }
  ],
  "kernelspec": {
   "display_name": "Python 3 (ipykernel)",
   "language": "python",
   "name": "python3"
  },
  "language_info": {
   "codemirror_mode": {
    "name": "ipython",
    "version": 3
   },
   "file_extension": ".py",
   "mimetype": "text/x-python",
   "name": "python",
   "nbconvert_exporter": "python",
   "pygments_lexer": "ipython3",
   "version": "3.11.3"
  },
  "toc": {
   "base_numbering": 1,
   "nav_menu": {},
   "number_sections": true,
   "sideBar": true,
   "skip_h1_title": true,
   "title_cell": "Table of Contents",
   "title_sidebar": "Contents",
   "toc_cell": false,
   "toc_position": {
    "height": "calc(100% - 180px)",
    "left": "10px",
    "top": "150px",
    "width": "336.165px"
   },
   "toc_section_display": true,
   "toc_window_display": false
  }
 },
 "nbformat": 4,
 "nbformat_minor": 2
}
